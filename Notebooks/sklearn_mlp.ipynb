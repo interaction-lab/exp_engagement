{
 "cells": [
  {
   "cell_type": "code",
   "execution_count": 1,
   "metadata": {},
   "outputs": [],
   "source": [
    "import numpy as np\n",
    "import pandas as pd\n",
    "import matplotlib.pyplot as plt"
   ]
  },
  {
   "cell_type": "code",
   "execution_count": 2,
   "metadata": {},
   "outputs": [],
   "source": [
    "from sklearn.model_selection import cross_val_score\n",
    "from sklearn.preprocessing import LabelEncoder\n",
    "from sklearn.model_selection import StratifiedKFold\n",
    "from sklearn.preprocessing import StandardScaler\n",
    "from sklearn.pipeline import Pipeline\n",
    "from sklearn.neural_network import MLPClassifier\n",
    "from sklearn import metrics"
   ]
  },
  {
   "cell_type": "code",
   "execution_count": 3,
   "metadata": {},
   "outputs": [],
   "source": [
    "df = pd.read_csv('Data/p7_master_window.csv')\n",
    "df.fillna(value=0, inplace=True)\n",
    "df = df[['op_num_people', 'of_pose_distance', 'of_gaze_distance', 'of_success', 'of_confidence', 'ros_difficulty', 'ros_mistakes_session', 'ros_ts_robot_talked', 'engagement']]\n",
    "\n",
    "len_df = len(df)\n",
    "split_ratio = 0.8\n",
    "split = int(split_ratio * len_df)\n",
    "\n",
    "train_df, test_df = df.iloc[:split,:], df.iloc[split:,:]\n",
    "\n",
    "feats = []\n",
    "for i in df.columns:\n",
    "    if i!= 'engagement':\n",
    "        feats.append(i)\n",
    "label = ['engagement']\n",
    "\n",
    "X = df[feats]\n",
    "Y = df[label]\n",
    "X_train = train_df[feats]\n",
    "y_train = train_df[label]\n",
    "X_test = test_df[feats]\n",
    "y_test = test_df[label]"
   ]
  },
  {
   "cell_type": "code",
   "execution_count": 4,
   "metadata": {},
   "outputs": [
    {
     "name": "stdout",
     "output_type": "stream",
     "text": [
      "(16100, 8) (16100, 1)\n",
      "(4026, 8) (4026, 1)\n"
     ]
    }
   ],
   "source": [
    "print(X_train.shape, y_train.shape)\n",
    "print(X_test.shape, y_test.shape)"
   ]
  },
  {
   "cell_type": "code",
   "execution_count": 5,
   "metadata": {},
   "outputs": [],
   "source": [
    "# MLP model\n",
    "mlp = MLPClassifier(hidden_layer_sizes=(32,), solver='sgd', verbose=1, random_state=1,\\\n",
    "                    learning_rate_init=.01)"
   ]
  },
  {
   "cell_type": "code",
   "execution_count": 6,
   "metadata": {
    "scrolled": true
   },
   "outputs": [
    {
     "name": "stdout",
     "output_type": "stream",
     "text": [
      "Iteration 1, loss = 0.96455264\n",
      "Iteration 2, loss = 0.60647936\n"
     ]
    },
    {
     "name": "stderr",
     "output_type": "stream",
     "text": [
      "/home/bala/anaconda2/envs/tensorflow/lib/python3.6/site-packages/sklearn/neural_network/multilayer_perceptron.py:916: DataConversionWarning: A column-vector y was passed when a 1d array was expected. Please change the shape of y to (n_samples, ), for example using ravel().\n",
      "  y = column_or_1d(y, warn=True)\n"
     ]
    },
    {
     "name": "stdout",
     "output_type": "stream",
     "text": [
      "Iteration 3, loss = 0.60305862\n",
      "Iteration 4, loss = 0.59634707\n",
      "Iteration 5, loss = 0.58993979\n",
      "Iteration 6, loss = 0.58418802\n",
      "Iteration 7, loss = 0.58337917\n",
      "Iteration 8, loss = 0.58155167\n",
      "Iteration 9, loss = 0.57916956\n",
      "Iteration 10, loss = 0.58823696\n",
      "Iteration 11, loss = 0.57915283\n",
      "Iteration 12, loss = 0.57945828\n",
      "Iteration 13, loss = 0.57653203\n",
      "Iteration 14, loss = 0.57679133\n",
      "Iteration 15, loss = 0.57458331\n",
      "Iteration 16, loss = 0.57515819\n",
      "Iteration 17, loss = 0.57293070\n",
      "Iteration 18, loss = 0.57194658\n",
      "Iteration 19, loss = 0.57386180\n",
      "Iteration 20, loss = 0.57599914\n",
      "Iteration 21, loss = 0.57345698\n",
      "Iteration 22, loss = 0.57210819\n",
      "Iteration 23, loss = 0.57226375\n",
      "Iteration 24, loss = 0.57138079\n",
      "Iteration 25, loss = 0.57026552\n",
      "Iteration 26, loss = 0.57035238\n",
      "Iteration 27, loss = 0.57162741\n",
      "Iteration 28, loss = 0.57033538\n",
      "Iteration 29, loss = 0.56844824\n",
      "Iteration 30, loss = 0.56989032\n",
      "Iteration 31, loss = 0.56842449\n",
      "Iteration 32, loss = 0.56785679\n",
      "Iteration 33, loss = 0.56758502\n",
      "Iteration 34, loss = 0.57155753\n",
      "Iteration 35, loss = 0.56988187\n",
      "Iteration 36, loss = 0.57055258\n",
      "Iteration 37, loss = 0.56722951\n",
      "Iteration 38, loss = 0.56570452\n",
      "Iteration 39, loss = 0.56653618\n",
      "Iteration 40, loss = 0.56808762\n",
      "Iteration 41, loss = 0.56828078\n",
      "Iteration 42, loss = 0.56518367\n",
      "Iteration 43, loss = 0.56519189\n",
      "Iteration 44, loss = 0.56512420\n",
      "Iteration 45, loss = 0.56575892\n",
      "Iteration 46, loss = 0.56522973\n",
      "Iteration 47, loss = 0.56389558\n",
      "Iteration 48, loss = 0.56594156\n",
      "Iteration 49, loss = 0.56685215\n",
      "Iteration 50, loss = 0.56401673\n",
      "Iteration 51, loss = 0.56287405\n",
      "Iteration 52, loss = 0.56824784\n",
      "Iteration 53, loss = 0.56613174\n",
      "Iteration 54, loss = 0.56216123\n",
      "Iteration 55, loss = 0.56278165\n",
      "Iteration 56, loss = 0.57282160\n",
      "Iteration 57, loss = 0.56420116\n",
      "Iteration 58, loss = 0.56274910\n",
      "Iteration 59, loss = 0.56323469\n",
      "Iteration 60, loss = 0.56270431\n",
      "Iteration 61, loss = 0.56329560\n",
      "Iteration 62, loss = 0.56313935\n",
      "Iteration 63, loss = 0.56422308\n",
      "Iteration 64, loss = 0.56206227\n",
      "Iteration 65, loss = 0.56343424\n",
      "Training loss did not improve more than tol=0.000100 for 10 consecutive epochs. Stopping.\n"
     ]
    },
    {
     "data": {
      "text/plain": [
       "MLPClassifier(activation='relu', alpha=0.0001, batch_size='auto', beta_1=0.9,\n",
       "       beta_2=0.999, early_stopping=False, epsilon=1e-08,\n",
       "       hidden_layer_sizes=(32,), learning_rate='constant',\n",
       "       learning_rate_init=0.01, max_iter=200, momentum=0.9,\n",
       "       n_iter_no_change=10, nesterovs_momentum=True, power_t=0.5,\n",
       "       random_state=1, shuffle=True, solver='sgd', tol=0.0001,\n",
       "       validation_fraction=0.1, verbose=1, warm_start=False)"
      ]
     },
     "execution_count": 6,
     "metadata": {},
     "output_type": "execute_result"
    }
   ],
   "source": [
    "mlp.fit(X_train, y_train)"
   ]
  },
  {
   "cell_type": "code",
   "execution_count": 7,
   "metadata": {},
   "outputs": [
    {
     "data": {
      "text/plain": [
       "0.834575260804769"
      ]
     },
     "execution_count": 7,
     "metadata": {},
     "output_type": "execute_result"
    }
   ],
   "source": [
    "pred = mlp.predict(X_test)\n",
    "metrics.accuracy_score(y_pred=pred, y_true=y_test)"
   ]
  },
  {
   "cell_type": "code",
   "execution_count": 8,
   "metadata": {},
   "outputs": [
    {
     "name": "stdout",
     "output_type": "stream",
     "text": [
      "              precision    recall  f1-score   support\n",
      "\n",
      "         0.0       0.92      0.74      0.82      2094\n",
      "         1.0       0.77      0.93      0.84      1932\n",
      "\n",
      "   micro avg       0.83      0.83      0.83      4026\n",
      "   macro avg       0.85      0.84      0.83      4026\n",
      "weighted avg       0.85      0.83      0.83      4026\n",
      "\n"
     ]
    }
   ],
   "source": [
    "print(metrics.classification_report(y_pred=pred, y_true=y_test))"
   ]
  },
  {
   "cell_type": "code",
   "execution_count": 9,
   "metadata": {},
   "outputs": [
    {
     "name": "stdout",
     "output_type": "stream",
     "text": [
      "[[1555  539]\n",
      " [ 127 1805]]\n"
     ]
    }
   ],
   "source": [
    "print(metrics.confusion_matrix(y_pred=pred, y_true=y_test))"
   ]
  }
 ],
 "metadata": {
  "kernelspec": {
   "display_name": "Python 3",
   "language": "python",
   "name": "python3"
  },
  "language_info": {
   "codemirror_mode": {
    "name": "ipython",
    "version": 3
   },
   "file_extension": ".py",
   "mimetype": "text/x-python",
   "name": "python",
   "nbconvert_exporter": "python",
   "pygments_lexer": "ipython3",
   "version": "3.6.7"
  }
 },
 "nbformat": 4,
 "nbformat_minor": 2
}
