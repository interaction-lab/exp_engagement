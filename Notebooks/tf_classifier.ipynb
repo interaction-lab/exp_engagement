{
 "cells": [
  {
   "cell_type": "code",
   "execution_count": 1,
   "metadata": {},
   "outputs": [],
   "source": [
    "import io\n",
    "import math\n",
    "import tensorflow as tf\n",
    "import numpy as np\n",
    "import pandas as pd\n",
    "import matplotlib.pyplot as plt\n",
    "from scipy import stats"
   ]
  },
  {
   "cell_type": "code",
   "execution_count": 2,
   "metadata": {},
   "outputs": [],
   "source": [
    "df = pd.read_csv('Data/p7_master_window.csv')\n",
    "df.fillna(value=0, inplace=True)\n",
    "df = df[['op_num_people', 'of_pose_distance', 'of_gaze_distance', 'of_success', 'of_confidence', 'ros_difficulty', 'ros_mistakes_session', 'ros_ts_robot_talked', 'engagement']]\n",
    "\n",
    "len_df = len(df)\n",
    "split_ratio = 0.8\n",
    "split = int(split_ratio * len_df)\n",
    "\n",
    "train_df, test_df = df.iloc[:split,:], df.iloc[split:,:]\n",
    "\n",
    "feats = []\n",
    "for i in df.columns:\n",
    "    if i!= 'engagement':\n",
    "        feats.append(i)\n",
    "label = ['engagement']\n",
    "\n",
    "X = df[feats]\n",
    "Y = df[label]\n",
    "X_train = train_df[feats]\n",
    "y_train = train_df[label]\n",
    "X_test = test_df[feats]\n",
    "y_test = test_df[label]"
   ]
  },
  {
   "cell_type": "code",
   "execution_count": 3,
   "metadata": {},
   "outputs": [
    {
     "name": "stdout",
     "output_type": "stream",
     "text": [
      "(16100, 8) (16100, 1)\n",
      "(4026, 8) (4026, 1)\n"
     ]
    }
   ],
   "source": [
    "print(X_train.shape, y_train.shape)\n",
    "print(X_test.shape, y_test.shape)"
   ]
  },
  {
   "cell_type": "code",
   "execution_count": 4,
   "metadata": {},
   "outputs": [
    {
     "name": "stdout",
     "output_type": "stream",
     "text": [
      "WARNING:tensorflow:From /home/bala/anaconda2/envs/tensorflow/lib/python3.6/site-packages/tensorflow/python/framework/op_def_library.py:263: colocate_with (from tensorflow.python.framework.ops) is deprecated and will be removed in a future version.\n",
      "Instructions for updating:\n",
      "Colocations handled automatically by placer.\n"
     ]
    }
   ],
   "source": [
    "feature_count = len(feats)\n",
    "label_count = 1\n",
    "training_epochs = 300\n",
    "learning_rate = 0.01\n",
    "hidden_layers = feature_count - 1\n",
    "cost_history = np.empty(shape=[1],dtype=float)\n",
    "X = tf.placeholder(tf.float32,[None,feature_count])\n",
    "Y = tf.placeholder(tf.float32,[None,label_count])\n",
    "is_training=tf.Variable(True,dtype=tf.bool)"
   ]
  },
  {
   "cell_type": "code",
   "execution_count": 5,
   "metadata": {
    "scrolled": false
   },
   "outputs": [
    {
     "name": "stdout",
     "output_type": "stream",
     "text": [
      "\n",
      "WARNING: The TensorFlow contrib module will not be included in TensorFlow 2.0.\n",
      "For more information, please see:\n",
      "  * https://github.com/tensorflow/community/blob/master/rfcs/20180907-contrib-sunset.md\n",
      "  * https://github.com/tensorflow/addons\n",
      "If you depend on functionality not listed there, please file an issue.\n",
      "\n",
      "WARNING:tensorflow:From <ipython-input-5-c43c875bd5fe>:3: dense (from tensorflow.python.layers.core) is deprecated and will be removed in a future version.\n",
      "Instructions for updating:\n",
      "Use keras.layers.dense instead.\n",
      "WARNING:tensorflow:From <ipython-input-5-c43c875bd5fe>:4: calling dropout (from tensorflow.python.ops.nn_ops) with keep_prob is deprecated and will be removed in a future version.\n",
      "Instructions for updating:\n",
      "Please use `rate` instead of `keep_prob`. Rate should be set to `rate = 1 - keep_prob`.\n"
     ]
    }
   ],
   "source": [
    "# models\n",
    "initializer = tf.contrib.layers.xavier_initializer()\n",
    "h0 = tf.layers.dense(X, hidden_layers, activation=tf.nn.relu, kernel_initializer=initializer)\n",
    "h1 = tf.nn.dropout(h0, 0.9)\n",
    "h2 = tf.layers.dense(h1, hidden_layers, activation=tf.nn.relu, kernel_initializer=initializer)\n",
    "h3 = tf.layers.dense(h2, hidden_layers, activation=tf.nn.relu, kernel_initializer=initializer)\n",
    "h4 = tf.layers.dense(h3, hidden_layers, activation=tf.nn.relu, kernel_initializer=initializer)\n",
    "h5 = tf.layers.dense(h4, label_count, activation=None)\n",
    "\n",
    "cross_entropy = tf.nn.sigmoid_cross_entropy_with_logits(labels=Y, logits=h5)\n",
    "cost = tf.reduce_mean(cross_entropy)\n",
    "optimizer = tf.train.AdamOptimizer(learning_rate=learning_rate).minimize(cost)\n",
    "\n",
    "predicted = tf.nn.sigmoid(h5)\n",
    "correct_pred = tf.equal(tf.round(predicted), Y)\n",
    "accuracy = tf.reduce_mean(tf.cast(correct_pred, tf.float32))"
   ]
  },
  {
   "cell_type": "code",
   "execution_count": 6,
   "metadata": {},
   "outputs": [
    {
     "name": "stdout",
     "output_type": "stream",
     "text": [
      "Step:     0\tLoss: 4.387\tAcc: 46.23%\n",
      "Step:    10\tLoss: 1.059\tAcc: 40.43%\n",
      "Step:    20\tLoss: 0.591\tAcc: 73.83%\n",
      "Step:    30\tLoss: 0.539\tAcc: 76.20%\n",
      "Step:    40\tLoss: 0.508\tAcc: 76.30%\n",
      "Step:    50\tLoss: 0.497\tAcc: 76.80%\n",
      "Step:    60\tLoss: 0.484\tAcc: 77.16%\n",
      "Step:    70\tLoss: 0.470\tAcc: 77.87%\n",
      "Step:    80\tLoss: 0.464\tAcc: 77.88%\n",
      "Step:    90\tLoss: 0.459\tAcc: 77.84%\n",
      "Step:   100\tLoss: 0.444\tAcc: 77.96%\n",
      "Step:   110\tLoss: 0.437\tAcc: 78.04%\n",
      "Step:   120\tLoss: 0.431\tAcc: 78.36%\n",
      "Step:   130\tLoss: 0.423\tAcc: 81.33%\n",
      "Step:   140\tLoss: 0.416\tAcc: 81.45%\n",
      "Step:   150\tLoss: 0.413\tAcc: 82.03%\n",
      "Step:   160\tLoss: 0.402\tAcc: 82.31%\n",
      "Step:   170\tLoss: 0.399\tAcc: 82.69%\n",
      "Step:   180\tLoss: 0.395\tAcc: 82.96%\n",
      "Step:   190\tLoss: 0.392\tAcc: 82.93%\n",
      "Step:   200\tLoss: 0.391\tAcc: 83.16%\n",
      "Step:   210\tLoss: 0.390\tAcc: 83.33%\n",
      "Step:   220\tLoss: 0.388\tAcc: 83.25%\n",
      "Step:   230\tLoss: 0.385\tAcc: 83.33%\n",
      "Step:   240\tLoss: 0.387\tAcc: 83.11%\n",
      "Step:   250\tLoss: 0.385\tAcc: 83.38%\n",
      "Step:   260\tLoss: 0.383\tAcc: 83.58%\n",
      "Step:   270\tLoss: 0.384\tAcc: 83.66%\n",
      "Step:   280\tLoss: 0.380\tAcc: 83.62%\n",
      "Step:   290\tLoss: 0.382\tAcc: 83.57%\n",
      "Step:   300\tLoss: 0.381\tAcc: 83.66%\n",
      "Test Accuracy: [0.85295576, array([[1.],\n",
      "       [1.],\n",
      "       [1.],\n",
      "       ...,\n",
      "       [1.],\n",
      "       [1.],\n",
      "       [1.]], dtype=float32)]\n"
     ]
    }
   ],
   "source": [
    "with tf.Session() as sess:\n",
    "    sess.run(tf.global_variables_initializer())\n",
    "\n",
    "    for step in range(training_epochs + 1):\n",
    "        sess.run(optimizer, feed_dict={X: X_train, Y: y_train})\n",
    "        loss, _, acc = sess.run([cost, optimizer, accuracy], feed_dict={\n",
    "                                 X: X_train, Y: y_train})\n",
    "        cost_history = np.append(cost_history, acc)\n",
    "        if step % 10 == 0:\n",
    "            print(\"Step: {:5}\\tLoss: {:.3f}\\tAcc: {:.2%}\".format(\n",
    "                step, loss, acc))\n",
    "            \n",
    "    # Test model and check accuracy\n",
    "    print('Test Accuracy:', sess.run([accuracy, tf.round(predicted)], feed_dict={X: X_test, Y: y_test}))"
   ]
  },
  {
   "cell_type": "code",
   "execution_count": 7,
   "metadata": {},
   "outputs": [
    {
     "name": "stdout",
     "output_type": "stream",
     "text": [
      "(302,)\n"
     ]
    },
    {
     "data": {
      "image/png": "[encoded data removed]",
      "text/plain": [
       "<Figure size 432x288 with 1 Axes>"
      ]
     },
     "metadata": {
      "needs_background": "light"
     },
     "output_type": "display_data"
    }
   ],
   "source": [
    "print(cost_history.shape)\n",
    "plt.plot(range(len(cost_history)),cost_history)\n",
    "plt.axis([0,training_epochs,0,1])\n",
    "plt.show()"
   ]
  },
  {
   "cell_type": "code",
   "execution_count": null,
   "metadata": {},
   "outputs": [],
   "source": []
  }
 ],
 "metadata": {
  "kernelspec": {
   "display_name": "Python 3",
   "language": "python",
   "name": "python3"
  },
  "language_info": {
   "codemirror_mode": {
    "name": "ipython",
    "version": 3
   },
   "file_extension": ".py",
   "mimetype": "text/x-python",
   "name": "python",
   "nbconvert_exporter": "python",
   "pygments_lexer": "ipython3",
   "version": "3.6.7"
  }
 },
 "nbformat": 4,
 "nbformat_minor": 2
}
