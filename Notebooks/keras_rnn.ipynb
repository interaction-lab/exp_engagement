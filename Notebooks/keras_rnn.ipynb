{
 "cells": [
  {
   "cell_type": "code",
   "execution_count": 1,
   "metadata": {},
   "outputs": [
    {
     "name": "stderr",
     "output_type": "stream",
     "text": [
      "Using TensorFlow backend.\n"
     ]
    }
   ],
   "source": [
    "import numpy as np\n",
    "import pandas as pd\n",
    "from keras.models import Sequential\n",
    "from keras.layers import Dense\n",
    "from keras.layers import LSTM\n",
    "from keras.layers import Dropout\n",
    "from keras.layers.embeddings import Embedding\n",
    "from keras.preprocessing import sequence\n",
    "# fix random seed for reproducibility\n",
    "np.random.seed(7)"
   ]
  },
  {
   "cell_type": "code",
   "execution_count": 2,
   "metadata": {},
   "outputs": [],
   "source": [
    "df = pd.read_csv('Data/p7_master_window.csv')\n",
    "df.fillna(value=0, inplace=True)\n",
    "df = df[['op_num_people', 'of_pose_distance', 'of_gaze_distance', 'of_success', 'of_confidence', 'ros_difficulty', 'ros_mistakes_session', 'ros_ts_robot_talked', 'engagement']]\n",
    "\n",
    "len_df = len(df)\n",
    "split_ratio = 0.8\n",
    "split = int(split_ratio * len_df)\n",
    "\n",
    "train_df, test_df = df.iloc[:split,:], df.iloc[split:,:]\n",
    "\n",
    "feats = []\n",
    "for i in df.columns:\n",
    "    if i!= 'engagement':\n",
    "        feats.append(i)\n",
    "label = ['engagement']\n",
    "\n",
    "X = df[feats]\n",
    "Y = df[label]\n",
    "X_train = train_df[feats]\n",
    "y_train = train_df[label]\n",
    "X_test = test_df[feats]\n",
    "y_test = test_df[label]"
   ]
  },
  {
   "cell_type": "code",
   "execution_count": 3,
   "metadata": {},
   "outputs": [
    {
     "name": "stdout",
     "output_type": "stream",
     "text": [
      "(16100, 8) (16100, 1)\n",
      "(4026, 8) (4026, 1)\n"
     ]
    }
   ],
   "source": [
    "print(X_train.shape, y_train.shape)\n",
    "print(X_test.shape, y_test.shape)"
   ]
  },
  {
   "cell_type": "code",
   "execution_count": 4,
   "metadata": {},
   "outputs": [
    {
     "name": "stdout",
     "output_type": "stream",
     "text": [
      "(16100, 8, 1) (16100, 1)\n"
     ]
    }
   ],
   "source": [
    "X_train = np.reshape(X_train.values, (X_train.shape[0], X_train.shape[1], 1))\n",
    "X_test = np.reshape(X_test.values, (X_test.shape[0], X_test.shape[1], 1))\n",
    "print(X_train.shape, y_train.shape)"
   ]
  },
  {
   "cell_type": "code",
   "execution_count": 5,
   "metadata": {},
   "outputs": [
    {
     "name": "stdout",
     "output_type": "stream",
     "text": [
      "WARNING:tensorflow:From /home/bala/anaconda2/envs/tensorflow/lib/python3.6/site-packages/tensorflow/python/framework/op_def_library.py:263: colocate_with (from tensorflow.python.framework.ops) is deprecated and will be removed in a future version.\n",
      "Instructions for updating:\n",
      "Colocations handled automatically by placer.\n",
      "WARNING:tensorflow:From /home/bala/anaconda2/envs/tensorflow/lib/python3.6/site-packages/keras/backend/tensorflow_backend.py:3445: calling dropout (from tensorflow.python.ops.nn_ops) with keep_prob is deprecated and will be removed in a future version.\n",
      "Instructions for updating:\n",
      "Please use `rate` instead of `keep_prob`. Rate should be set to `rate = 1 - keep_prob`.\n",
      "WARNING:tensorflow:From /home/bala/anaconda2/envs/tensorflow/lib/python3.6/site-packages/tensorflow/python/ops/math_ops.py:3066: to_int32 (from tensorflow.python.ops.math_ops) is deprecated and will be removed in a future version.\n",
      "Instructions for updating:\n",
      "Use tf.cast instead.\n",
      "Train on 16100 samples, validate on 4026 samples\n",
      "Epoch 1/10\n",
      "16100/16100 [==============================] - 4s 256us/step - loss: 0.4084 - acc: 0.8142 - val_loss: 0.3378 - val_acc: 0.8425\n",
      "Epoch 2/10\n",
      "16100/16100 [==============================] - 4s 240us/step - loss: 0.3592 - acc: 0.8468 - val_loss: 0.3168 - val_acc: 0.8753\n",
      "Epoch 3/10\n",
      "16100/16100 [==============================] - 3s 185us/step - loss: 0.3522 - acc: 0.8475 - val_loss: 0.2996 - val_acc: 0.8808\n",
      "Epoch 4/10\n",
      "16100/16100 [==============================] - 3s 184us/step - loss: 0.3475 - acc: 0.8512 - val_loss: 0.2931 - val_acc: 0.8843\n",
      "Epoch 5/10\n",
      "16100/16100 [==============================] - 3s 185us/step - loss: 0.3414 - acc: 0.8520 - val_loss: 0.3037 - val_acc: 0.8783\n",
      "Epoch 6/10\n",
      "16100/16100 [==============================] - 3s 199us/step - loss: 0.3377 - acc: 0.8534 - val_loss: 0.3090 - val_acc: 0.8549\n",
      "Epoch 7/10\n",
      "16100/16100 [==============================] - 3s 189us/step - loss: 0.3320 - acc: 0.8561 - val_loss: 0.3089 - val_acc: 0.8624\n",
      "Epoch 8/10\n",
      "16100/16100 [==============================] - 3s 178us/step - loss: 0.3286 - acc: 0.8601 - val_loss: 0.2964 - val_acc: 0.8795\n",
      "Epoch 9/10\n",
      "16100/16100 [==============================] - 3s 178us/step - loss: 0.3219 - acc: 0.8627 - val_loss: 0.2848 - val_acc: 0.8818\n",
      "Epoch 10/10\n",
      "16100/16100 [==============================] - 3s 178us/step - loss: 0.3202 - acc: 0.8623 - val_loss: 0.3228 - val_acc: 0.8477\n"
     ]
    },
    {
     "data": {
      "text/plain": [
       "<keras.callbacks.History at 0x7faa038d96d8>"
      ]
     },
     "execution_count": 5,
     "metadata": {},
     "output_type": "execute_result"
    }
   ],
   "source": [
    "# create the model\n",
    "model = Sequential()\n",
    "model.add(LSTM(100, input_shape=(8,1)))\n",
    "model.add(Dropout(0.2))\n",
    "model.add(Dense(1, activation='sigmoid'))\n",
    "model.compile(loss='binary_crossentropy', optimizer='adam', metrics=['accuracy'])\n",
    "model.fit(X_train, y_train.values, validation_data=(X_test, y_test.values), epochs=10, batch_size=32)"
   ]
  },
  {
   "cell_type": "code",
   "execution_count": 6,
   "metadata": {},
   "outputs": [
    {
     "name": "stdout",
     "output_type": "stream",
     "text": [
      "_________________________________________________________________\n",
      "Layer (type)                 Output Shape              Param #   \n",
      "=================================================================\n",
      "lstm_1 (LSTM)                (None, 100)               40800     \n",
      "_________________________________________________________________\n",
      "dropout_1 (Dropout)          (None, 100)               0         \n",
      "_________________________________________________________________\n",
      "dense_1 (Dense)              (None, 1)                 101       \n",
      "=================================================================\n",
      "Total params: 40,901\n",
      "Trainable params: 40,901\n",
      "Non-trainable params: 0\n",
      "_________________________________________________________________\n",
      "None\n"
     ]
    }
   ],
   "source": [
    "print(model.summary())"
   ]
  },
  {
   "cell_type": "code",
   "execution_count": 7,
   "metadata": {},
   "outputs": [
    {
     "name": "stdout",
     "output_type": "stream",
     "text": [
      "Accuracy: 84.77%\n"
     ]
    }
   ],
   "source": [
    "# Final evaluation of the model\n",
    "scores = model.evaluate(X_test, y_test, verbose=0)\n",
    "print(\"Accuracy: %.2f%%\" % (scores[1]*100))"
   ]
  },
  {
   "cell_type": "code",
   "execution_count": 8,
   "metadata": {},
   "outputs": [
    {
     "data": {
      "text/plain": [
       "['loss', 'acc']"
      ]
     },
     "execution_count": 8,
     "metadata": {},
     "output_type": "execute_result"
    }
   ],
   "source": [
    "model.metrics_names"
   ]
  },
  {
   "cell_type": "code",
   "execution_count": null,
   "metadata": {},
   "outputs": [],
   "source": []
  }
 ],
 "metadata": {
  "kernelspec": {
   "display_name": "Python 3",
   "language": "python",
   "name": "python3"
  },
  "language_info": {
   "codemirror_mode": {
    "name": "ipython",
    "version": 3
   },
   "file_extension": ".py",
   "mimetype": "text/x-python",
   "name": "python",
   "nbconvert_exporter": "python",
   "pygments_lexer": "ipython3",
   "version": "3.6.7"
  }
 },
 "nbformat": 4,
 "nbformat_minor": 2
}
