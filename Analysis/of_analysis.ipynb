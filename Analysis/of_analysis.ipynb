{
 "cells": [
  {
   "cell_type": "code",
   "execution_count": 1,
   "metadata": {},
   "outputs": [],
   "source": [
    "import pandas as pd\n",
    "import numpy as np\n",
    "from scipy import stats \n",
    "import matplotlib.pyplot as plt"
   ]
  },
  {
   "cell_type": "code",
   "execution_count": 2,
   "metadata": {},
   "outputs": [],
   "source": [
    "file = '../../../../Google Drive File Stream/My Drive/USC Expeditions Year 5/Analysis/Help-Seeking/Data/FS/p3_FS.csv'\n",
    "data3 = pd.read_csv(file)"
   ]
  },
  {
   "cell_type": "code",
   "execution_count": 3,
   "metadata": {},
   "outputs": [],
   "source": [
    "file = '../../../../Google Drive File Stream/My Drive/USC Expeditions Year 5/Analysis/Help-Seeking/Data/FS/p5_FS.csv'\n",
    "data5 = pd.read_csv(file)"
   ]
  },
  {
   "cell_type": "code",
   "execution_count": 4,
   "metadata": {},
   "outputs": [],
   "source": [
    "file = '../../../../Google Drive File Stream/My Drive/USC Expeditions Year 5/Analysis/Help-Seeking/Data/FS/p7_FS.csv'\n",
    "data7 = pd.read_csv(file)"
   ]
  },
  {
   "cell_type": "code",
   "execution_count": 5,
   "metadata": {},
   "outputs": [],
   "source": [
    "file = '../../../../Google Drive File Stream/My Drive/USC Expeditions Year 5/Analysis/Help-Seeking/Data/FS/p8_FS.csv'\n",
    "data8 = pd.read_csv(file)"
   ]
  },
  {
   "cell_type": "code",
   "execution_count": 6,
   "metadata": {},
   "outputs": [],
   "source": [
    "file = '../../../../Google Drive File Stream/My Drive/USC Expeditions Year 5/Analysis/Help-Seeking/Data/FS/p9_FS.csv'\n",
    "data9 = pd.read_csv(file)"
   ]
  },
  {
   "cell_type": "code",
   "execution_count": 7,
   "metadata": {},
   "outputs": [],
   "source": [
    "file = '../../../../Google Drive File Stream/My Drive/USC Expeditions Year 5/Analysis/Help-Seeking/Data/FS/p10_FS.csv'\n",
    "data10 = pd.read_csv(file)"
   ]
  },
  {
   "cell_type": "code",
   "execution_count": 8,
   "metadata": {},
   "outputs": [],
   "source": [
    "data = [data3, data5, data7, data8, data9, data10]\n",
    "part = [3, 5, 7, 8, 9, 10]"
   ]
  },
  {
   "cell_type": "code",
   "execution_count": 14,
   "metadata": {},
   "outputs": [
    {
     "name": "stdout",
     "output_type": "stream",
     "text": [
      "3.1\n",
      "3.2\n",
      "4.0\n",
      "9.0\n",
      "13.0\n",
      "15.0\n"
     ]
    }
   ],
   "source": [
    "for i in data9['session_num'].unique():\n",
    "    print(i)"
   ]
  },
  {
   "cell_type": "code",
   "execution_count": 11,
   "metadata": {},
   "outputs": [
    {
     "name": "stdout",
     "output_type": "stream",
     "text": [
      "9\n",
      "8\n",
      "8\n",
      "9\n",
      "6\n",
      "31\n",
      "40\n"
     ]
    }
   ],
   "source": [
    "count = 0\n",
    "for d in data:\n",
    "    print(len(d['session_num'].unique()))\n",
    "    count += len(d['session_num'].unique())\n",
    "print(count-31)"
   ]
  },
  {
   "cell_type": "code",
   "execution_count": 11,
   "metadata": {},
   "outputs": [
    {
     "name": "stdout",
     "output_type": "stream",
     "text": [
      "hi\n",
      "hi\n",
      "hi\n",
      "hi\n",
      "hi\n",
      "hi\n"
     ]
    }
   ],
   "source": [
    "# Continuous Poor Tracking \n",
    "\n",
    "all_bad = []  # length of a poor tracking segment\n",
    "\n",
    "all_bad_en = [] # engagement of a poor tracking segment\n",
    "\n",
    "all_bad_last_en = []    # last engagement value of a poor tracking segment \n",
    "\n",
    "for i in range(0, len(data)):\n",
    "    d = data[i]\n",
    "    \n",
    "    win_length = 0        # current length of poor tracking segment\n",
    "    win_start = 0         # start of current poor tracking segment\n",
    "    \n",
    "    last = -1             # last of_success value\n",
    "    last_sess = -1        # last session value\n",
    "    \n",
    "    track_bad = []\n",
    "    track_bad_en = []\n",
    "    track_bad_last_en = []\n",
    "    \n",
    "    for i,r in d.iterrows():\n",
    "        if (last != r['of_success']) or (last_sess != r['session_num']):\n",
    "            # record if last of_success value was bad (if this was a poor tracking segment) \n",
    "            if (last == 0):\n",
    "                track_bad.append(win_length)\n",
    "                track_bad_en.append(np.average(d.loc[win_start:i-1, 'engagement']))\n",
    "                \n",
    "                # record engagement before this poor tracking segment\n",
    "                check = win_start-1\n",
    "                if (check < 0) or (d.loc[check, 'session_num'] != r['session_num']):\n",
    "                    track_bad_last_en.append(0) # disengaged if this is beginning of video\n",
    "                else:\n",
    "                    track_bad_last_en.append(d.loc[check, 'engagement'])\n",
    "            \n",
    "            win_length = 0\n",
    "            win_start = i\n",
    "            last = r['of_success']\n",
    "            last_sess = r['session_num']\n",
    "        \n",
    "        win_length += 1\n",
    "    \n",
    "    # grab last one \n",
    "    if (last == 0):\n",
    "        track_bad.append(win_length)\n",
    "        track_bad_en.append(np.average(d.loc[win_start:, 'engagement']))\n",
    "        # record engagement before this poor tracking segment\n",
    "        check = win_start-1\n",
    "        if (check < 0) or (d.loc[check, 'session_num'] != d.loc[win_start, 'session_num']):\n",
    "            track_bad_last_en.append(0) # disengaged if this is beginning of video\n",
    "        else:\n",
    "            track_bad_last_en.append(d.loc[check, 'engagement'])\n",
    "\n",
    "    all_bad.append(track_bad)\n",
    "    all_bad_en.append(track_bad_en)\n",
    "    all_bad_last_en.append(track_bad_last_en)\n",
    "\n",
    "    print('hi')"
   ]
  },
  {
   "cell_type": "code",
   "execution_count": 39,
   "metadata": {},
   "outputs": [
    {
     "name": "stdout",
     "output_type": "stream",
     "text": [
      "5 1.0 1.0\n",
      "1\n",
      "\n",
      "1 1.0 1.0\n",
      "1\n",
      "\n",
      "4 1.0 1.0\n",
      "1\n",
      "\n",
      "7 1.0 1.0\n",
      "1\n",
      "\n",
      "1 1.0 1.0\n",
      "1\n",
      "\n",
      "7 1.0 1.0\n",
      "1\n",
      "\n",
      "10 1.0 1.0\n",
      "1\n",
      "\n",
      "74 1.0 1.0\n",
      "1\n",
      "\n",
      "2 1.0 1.0\n",
      "1\n",
      "\n",
      "5 1.0 1.0\n",
      "1\n",
      "\n"
     ]
    }
   ],
   "source": [
    "for i in range(10):\n",
    "    print(master_bad[i], master_en[i], master_last_en[i])\n",
    "    print(int(round(master_en[i], 0)))\n",
    "    print()"
   ]
  },
  {
   "cell_type": "code",
   "execution_count": 31,
   "metadata": {},
   "outputs": [],
   "source": [
    "master_bad = []\n",
    "for i in all_bad:\n",
    "    for j in i:\n",
    "        master_bad.append(j)"
   ]
  },
  {
   "cell_type": "code",
   "execution_count": 32,
   "metadata": {},
   "outputs": [],
   "source": [
    "master_en = []\n",
    "for i in all_bad_en:\n",
    "    for j in i:\n",
    "        master_en.append(j)"
   ]
  },
  {
   "cell_type": "code",
   "execution_count": 33,
   "metadata": {},
   "outputs": [],
   "source": [
    "master_last_en = []\n",
    "for i in all_bad_last_en:\n",
    "    for j in i:\n",
    "        master_last_en.append(j)"
   ]
  },
  {
   "cell_type": "code",
   "execution_count": 46,
   "metadata": {},
   "outputs": [
    {
     "name": "stdout",
     "output_type": "stream",
     "text": [
      "0.9757498195182779\n"
     ]
    }
   ],
   "source": [
    "count = 0\n",
    "for i in range(0, len(master_bad)):\n",
    "    if (master_en[i])%1 == 0 or (master_en[i])%1 == 1:\n",
    "        if int(round(master_en[i], 0)) == int(round(master_last_en[i], 0)):\n",
    "            count += 1\n",
    "    \n",
    "print(count/len(master_bad))"
   ]
  },
  {
   "cell_type": "code",
   "execution_count": null,
   "metadata": {},
   "outputs": [],
   "source": []
  },
  {
   "cell_type": "code",
   "execution_count": 23,
   "metadata": {},
   "outputs": [],
   "source": [
    "import decimal\n",
    "\n",
    "def drange(x, y, jump):\n",
    "  while x < y:\n",
    "    yield float(x)\n",
    "    x += decimal.Decimal(jump)"
   ]
  },
  {
   "cell_type": "code",
   "execution_count": 24,
   "metadata": {},
   "outputs": [],
   "source": [
    "master_bad = np.array(master_bad)/30.0"
   ]
  },
  {
   "cell_type": "code",
   "execution_count": 26,
   "metadata": {},
   "outputs": [
    {
     "data": {
      "image/png": "[encoded data removed]",
      "text/plain": [
       "<Figure size 432x288 with 1 Axes>"
      ]
     },
     "metadata": {
      "needs_background": "light"
     },
     "output_type": "display_data"
    }
   ],
   "source": [
    "percentile = list(drange(0, 100, '0.01'))\n",
    "percentile.append(100)\n",
    "\n",
    "percentile_track = []\n",
    "\n",
    "for i in percentile:\n",
    "    percentile_track.append(np.percentile(master_en, i))\n",
    "\n",
    "plt.plot(percentile, percentile_track)\n",
    "plt.xlabel('Percentile')\n",
    "plt.ylabel('Continuous Bad Quality')\n",
    "plt.title('Continuous Bad Quality: Percentile Chart')\n",
    "plt.show() "
   ]
  },
  {
   "cell_type": "code",
   "execution_count": null,
   "metadata": {},
   "outputs": [],
   "source": [
    "percentile = list(drange(0, 90, '0.01'))\n",
    "percentile.append(90)\n",
    "\n",
    "percentile_track = []\n",
    "\n",
    "for i in percentile:\n",
    "    percentile_track.append(np.percentile(master_bad, i))\n",
    "\n",
    "plt.plot(percentile, percentile_track)\n",
    "plt.xlabel('Percentile')\n",
    "plt.ylabel('Continuous Bad Quality')\n",
    "plt.title('Continuous Bad Quality: Percentile Chart')\n",
    "plt.show() "
   ]
  },
  {
   "cell_type": "code",
   "execution_count": null,
   "metadata": {},
   "outputs": [],
   "source": [
    "percentile = list(drange(0, 80, '0.01'))\n",
    "percentile.append(80)\n",
    "\n",
    "percentile_track = []\n",
    "\n",
    "for i in percentile:\n",
    "    percentile_track.append(np.percentile(master_bad, i))\n",
    "\n",
    "plt.plot(percentile, percentile_track)\n",
    "plt.xlabel('Percentile')\n",
    "plt.ylabel('Continuous Bad Quality')\n",
    "plt.title('Continuous Bad Quality: Percentile Chart')\n",
    "plt.show() "
   ]
  },
  {
   "cell_type": "code",
   "execution_count": null,
   "metadata": {},
   "outputs": [],
   "source": [
    "percentile = list(drange(0, 70, '0.01'))\n",
    "percentile.append(70)\n",
    "\n",
    "percentile_track = []\n",
    "\n",
    "for i in percentile:\n",
    "    percentile_track.append(np.percentile(master_bad, i))\n",
    "\n",
    "plt.plot(percentile, percentile_track)\n",
    "plt.xlabel('Percentile')\n",
    "plt.ylabel('Continuous Bad Quality')\n",
    "plt.title('Continuous Bad Quality: Percentile Chart')\n",
    "plt.show() "
   ]
  },
  {
   "cell_type": "code",
   "execution_count": null,
   "metadata": {},
   "outputs": [],
   "source": [
    "percentile = list(drange(0, 60, '0.01'))\n",
    "percentile.append(60)\n",
    "\n",
    "percentile_track = []\n",
    "\n",
    "for i in percentile:\n",
    "    percentile_track.append(np.percentile(master_bad, i))\n",
    "\n",
    "plt.plot(percentile, percentile_track)\n",
    "plt.xlabel('Percentile')\n",
    "plt.ylabel('Continuous Bad Quality')\n",
    "plt.title('Continuous Bad Quality: Percentile Chart')\n",
    "plt.show() "
   ]
  },
  {
   "cell_type": "code",
   "execution_count": null,
   "metadata": {},
   "outputs": [],
   "source": [
    "percentile = list(drange(0, 50, '0.01'))\n",
    "percentile.append(50)\n",
    "\n",
    "percentile_track = []\n",
    "\n",
    "for i in percentile:\n",
    "    percentile_track.append(np.percentile(master_bad, i))\n",
    "\n",
    "plt.plot(percentile, percentile_track)\n",
    "plt.xlabel('Percentile')\n",
    "plt.ylabel('Continuous Bad Quality')\n",
    "plt.title('Continuous Bad Quality: Percentile Chart')\n",
    "plt.show() "
   ]
  },
  {
   "cell_type": "code",
   "execution_count": null,
   "metadata": {},
   "outputs": [],
   "source": [
    "plt.rcParams[\"figure.figsize\"] = [6,4]\n",
    "\n",
    "\n",
    "plt.scatter(master_bad, master_en)\n",
    "plt.title('Continuous Bad Quality vs Engagement')\n",
    "plt.xlabel('Continuous Bad Quality')\n",
    "plt.ylabel('Engagement')\n",
    "plt.show()"
   ]
  },
  {
   "cell_type": "code",
   "execution_count": null,
   "metadata": {},
   "outputs": [],
   "source": [
    "master_bad, master_en = (list(t) for t in zip(*sorted(zip(master_bad, master_en))))"
   ]
  },
  {
   "cell_type": "code",
   "execution_count": null,
   "metadata": {},
   "outputs": [],
   "source": []
  },
  {
   "cell_type": "code",
   "execution_count": null,
   "metadata": {},
   "outputs": [],
   "source": [
    "#cutoff = int(0.90*len(master_bad)-1)\n",
    "cutoff = 0\n",
    "master_bad90 = master_bad[cutoff:]\n",
    "master_bad_en90 = master_en[cutoff:]\n",
    "\n",
    "count = 0\n",
    "for i,v in enumerate(master_bad_en90):\n",
    "    if v < 0.5:\n",
    "        count += master_bad90[i]\n",
    "\n",
    "print(count/sum(master_bad90))"
   ]
  },
  {
   "cell_type": "code",
   "execution_count": null,
   "metadata": {},
   "outputs": [],
   "source": [
    "plt.rcParams[\"figure.figsize\"] = [6,4]\n",
    "\n",
    "\n",
    "plt.scatter(master_bad, master_en)\n",
    "plt.title('Continuous Bad Quality vs Engagement')\n",
    "plt.xlabel('Continuous Bad Quality')\n",
    "plt.ylabel('Engagement')\n",
    "plt.show()"
   ]
  },
  {
   "cell_type": "code",
   "execution_count": null,
   "metadata": {},
   "outputs": [],
   "source": []
  }
 ],
 "metadata": {
  "kernelspec": {
   "display_name": "Python [conda env:caispp]",
   "language": "python",
   "name": "conda-env-caispp-py"
  },
  "language_info": {
   "codemirror_mode": {
    "name": "ipython",
    "version": 3
   },
   "file_extension": ".py",
   "mimetype": "text/x-python",
   "name": "python",
   "nbconvert_exporter": "python",
   "pygments_lexer": "ipython3",
   "version": "3.5.6"
  }
 },
 "nbformat": 4,
 "nbformat_minor": 2
}
