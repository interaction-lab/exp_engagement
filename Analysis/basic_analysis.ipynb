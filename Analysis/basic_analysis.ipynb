{
 "cells": [
  {
   "cell_type": "code",
   "execution_count": 1,
   "metadata": {},
   "outputs": [],
   "source": [
    "# Basic Analysis\n",
    "# Interaction Time, # Sessions, % Engagaed, Engagement by Session, Continuous Engagement"
   ]
  },
  {
   "cell_type": "code",
   "execution_count": 2,
   "metadata": {},
   "outputs": [],
   "source": [
    "import pandas as pd\n",
    "import numpy as np\n",
    "from scipy import stats \n",
    "import matplotlib.pyplot as plt"
   ]
  },
  {
   "cell_type": "code",
   "execution_count": 3,
   "metadata": {},
   "outputs": [
    {
     "name": "stderr",
     "output_type": "stream",
     "text": [
      "/anaconda3/envs/caispp/lib/python3.5/site-packages/IPython/core/interactiveshell.py:2785: DtypeWarning: Columns (37,38,39) have mixed types. Specify dtype option on import or set low_memory=False.\n",
      "  interactivity=interactivity, compiler=compiler, result=result)\n",
      "/anaconda3/envs/caispp/lib/python3.5/site-packages/IPython/core/interactiveshell.py:2785: DtypeWarning: Columns (37,38,39,48,49) have mixed types. Specify dtype option on import or set low_memory=False.\n",
      "  interactivity=interactivity, compiler=compiler, result=result)\n",
      "/anaconda3/envs/caispp/lib/python3.5/site-packages/IPython/core/interactiveshell.py:2785: DtypeWarning: Columns (48,49) have mixed types. Specify dtype option on import or set low_memory=False.\n",
      "  interactivity=interactivity, compiler=compiler, result=result)\n",
      "/anaconda3/envs/caispp/lib/python3.5/site-packages/IPython/core/interactiveshell.py:2785: DtypeWarning: Columns (48) have mixed types. Specify dtype option on import or set low_memory=False.\n",
      "  interactivity=interactivity, compiler=compiler, result=result)\n"
     ]
    }
   ],
   "source": [
    "p5_file = '../../../../Google Drive File Stream/My Drive/USC Expeditions Year 5/Analysis/Engagement/Data/Master/p5_master.csv'\n",
    "p7_file = '../../../../Google Drive File Stream/My Drive/USC Expeditions Year 5/Analysis/Engagement/Data/Master/p7_master.csv'\n",
    "p9_file = '../../../../Google Drive File Stream/My Drive/USC Expeditions Year 5/Analysis/Engagement/Data/Master/p9_master.csv'\n",
    "p11_file = '../../../../Google Drive File Stream/My Drive/USC Expeditions Year 5/Analysis/Engagement/Data/Master/p11_master.csv'\n",
    "p12_file = '../../../../Google Drive File Stream/My Drive/USC Expeditions Year 5/Analysis/Engagement/Data/Master/p12_master.csv'\n",
    "p17_file = '../../../../Google Drive File Stream/My Drive/USC Expeditions Year 5/Analysis/Engagement/Data/Master/p17_master.csv'\n",
    "p18_file = '../../../../Google Drive File Stream/My Drive/USC Expeditions Year 5/Analysis/Engagement/Data/Master/p18_master.csv'\n",
    "\n",
    "data5 = pd.read_csv(p5_file)\n",
    "data7 = pd.read_csv(p7_file)\n",
    "data9 = pd.read_csv(p9_file)\n",
    "data11 = pd.read_csv(p11_file)\n",
    "data12 = pd.read_csv(p12_file)\n",
    "data17 = pd.read_csv(p17_file)\n",
    "data18 = pd.read_csv(p18_file)"
   ]
  },
  {
   "cell_type": "code",
   "execution_count": 10,
   "metadata": {},
   "outputs": [],
   "source": [
    "data = [data5, data7, data9, data11, data12, data17, data18]\n",
    "part = [5, 7, 9, 11, 12, 17, 18]"
   ]
  },
  {
   "cell_type": "code",
   "execution_count": 12,
   "metadata": {},
   "outputs": [
    {
     "name": "stdout",
     "output_type": "stream",
     "text": [
      "5 (1, 47, 49)\n",
      "7 (2, 47, 47)\n",
      "9 (3, 7, 23)\n",
      "11 (3, 11, 48)\n",
      "12 (2, 10, 4)\n",
      "17 (1, 46, 38)\n",
      "18 (2, 37, 28)\n",
      "\n",
      "average (4, 22, 14)\n",
      "total (17, 28, 58)\n"
     ]
    }
   ],
   "source": [
    "# Interaction Time\n",
    "\n",
    "def breakdown(total):\n",
    "    hrs = int(total/3600)\n",
    "    \n",
    "    total = total%3600\n",
    "    minutes = int(total/60)\n",
    "    \n",
    "    total = total%60\n",
    "    seconds = round(total)\n",
    "\n",
    "    return (hrs, minutes, seconds)\n",
    "  \n",
    "\n",
    "grand = 0\n",
    "for p, d in enumerate(data):\n",
    "    total = (len(d)*(0.1/3))\n",
    "    grand += total\n",
    "    \n",
    "    print(part[p], breakdown(total))\n",
    "print()\n",
    "print('average', breakdown(grand/4))\n",
    "print('total', breakdown(grand))"
   ]
  },
  {
   "cell_type": "code",
   "execution_count": 13,
   "metadata": {},
   "outputs": [
    {
     "name": "stdout",
     "output_type": "stream",
     "text": [
      "5 5\n",
      "7 8\n",
      "9 5\n",
      "11 9\n",
      "12 5\n",
      "17 4\n",
      "18 15\n",
      "\n",
      "average 12\n",
      "total 51\n"
     ]
    }
   ],
   "source": [
    "# Sessions\n",
    "\n",
    "grand = 0\n",
    "for p, d in enumerate(data):\n",
    "    total = len((d['session_num'].unique()))\n",
    "    grand += total\n",
    "    \n",
    "    print(part[p], total)\n",
    "print()\n",
    "print('average', int(grand/4))\n",
    "print('total', grand)"
   ]
  },
  {
   "cell_type": "code",
   "execution_count": 14,
   "metadata": {},
   "outputs": [
    {
     "name": "stdout",
     "output_type": "stream",
     "text": [
      "5 84.32%\n",
      "7 59.813%\n",
      "9 49.086%\n",
      "11 76.61%\n",
      "12 64.487%\n",
      "17 47.891%\n",
      "18 76.779%\n",
      "average 114.747%\n",
      "total 65.402%\n"
     ]
    }
   ],
   "source": [
    "# Engagement By Participant \n",
    "engagement_record = []\n",
    "\n",
    "for p, d in enumerate(data):\n",
    "    counts = d['engagement'].value_counts()\n",
    "    engagement = (counts[1]/len(d))*100\n",
    "    engagement_record.append(engagement)\n",
    "    \n",
    "    print(part[p], round(engagement, 3), end='%\\n')\n",
    "\n",
    "print('average', round(sum(engagement_record)/4, 3), end='%\\n')\n",
    "\n",
    "all_counts = all_data['engagement'].value_counts()\n",
    "all_engagement = (all_counts[1]/len(all_data))*100\n",
    "print('total', round(all_engagement, 3), end='%\\n')"
   ]
  },
  {
   "cell_type": "code",
   "execution_count": 15,
   "metadata": {
    "scrolled": true
   },
   "outputs": [
    {
     "name": "stdout",
     "output_type": "stream",
     "text": [
      "9.116%\n",
      "18.242%\n",
      "7.699%\n",
      "9.817%\n",
      "9.66%\n",
      "10.499%\n",
      "11.154%\n",
      "average 1088.395%\n",
      "total 16.421%\n"
     ]
    }
   ],
   "source": [
    "# Engagement By Session \n",
    "session_record = []\n",
    "\n",
    "for p, d in enumerate(data):\n",
    "    sessions = d['session_num'].unique()\n",
    "    sessions = sorted(sessions)\n",
    "    \n",
    "    inner = []\n",
    "    for s in sessions:\n",
    "        curr = d.loc[d['session_num']==s]\n",
    "        counts = curr['engagement'].value_counts()\n",
    "        inner.append(counts[1]/len(curr))\n",
    "    session_record.append(inner)\n",
    "    \n",
    "    \n",
    "session_std = []\n",
    "total = []\n",
    "for i in session_record:\n",
    "    std = np.std(i)\n",
    "    print(round(std*100, 3), end='%\\n')\n",
    "    session_std.append(std*100)\n",
    "    total += i\n",
    "\n",
    "print('average', round(np.mean(session_std)*100, 3), end='%\\n')\n",
    "print('total', round(np.std(total)*100, 3), end='%\\n')"
   ]
  },
  {
   "cell_type": "code",
   "execution_count": 24,
   "metadata": {},
   "outputs": [
    {
     "data": {
      "image/png": "[encoded data removed]",
      "text/plain": [
       "<Figure size 396x288 with 1 Axes>"
      ]
     },
     "metadata": {
      "needs_background": "light"
     },
     "output_type": "display_data"
    }
   ],
   "source": [
    "# Engagement by Participant Graph\n",
    "# StDev Between Sessions as Error Bars\n",
    "\n",
    "plt.rcParams[\"figure.figsize\"] = [5.5,4]\n",
    "\n",
    "fig, ax = plt.subplots()\n",
    "index = np.arange(len(data))\n",
    "bar_width = 0.6\n",
    "\n",
    "rects1 = ax.bar(index, engagement_record, bar_width, yerr=session_std, edgecolor='k', color=['#f4b400', '#ff6d00', '#ab30c4', '#3949ab', '#f975a8', '#7f6000', '#c5e0b4']\n",
    ")\n",
    "\n",
    "ax.set_xlabel('Participant', fontsize=14)\n",
    "ax.set_ylabel('Engaged (%)', fontsize=14)\n",
    "ax.set_title('Engagement by Participant', fontsize=18)\n",
    "plt.ylim(0, 100)\n",
    "\n",
    "ax.set_xticks(index)\n",
    "ax.set_xticklabels(('5', '7', '9', '11', '12', '17', '18'))\n",
    "fig.tight_layout()\n",
    "\n",
    "plt.show()\n",
    "fig.savefig('figure.eps', format='eps', dpi=1000)"
   ]
  },
  {
   "cell_type": "code",
   "execution_count": 34,
   "metadata": {},
   "outputs": [
    {
     "data": {
      "image/png": "[encoded data removed]",
      "text/plain": [
       "<Figure size 396x288 with 1 Axes>"
      ]
     },
     "metadata": {
      "needs_background": "light"
     },
     "output_type": "display_data"
    }
   ],
   "source": [
    "# Engagement By Session\n",
    "plt.rcParams[\"figure.figsize\"] = [5.5,4]\n",
    "color=['#f4b400', '#ff6d00', '#ab30c4', '#3949ab', '#f975a8', '#7f6000', '#c5e0b4']\n",
    "fig, ax = plt.subplots()\n",
    "\n",
    "longest = 0\n",
    "for i in session_record:\n",
    "    longest = max(longest, len(i))\n",
    "\n",
    "index = list(range(1, longest+1))\n",
    "for p,i in enumerate(session_record):\n",
    "    need = np.empty(longest-len(i))\n",
    "    need[:] = np.nan\n",
    "    new = np.hstack((np.array(i), need))\n",
    "    plt.plot(index, new*100, label=str(part[p]), color=color[p])\n",
    "    \n",
    "ax.set_xlabel('Session', fontsize=14)\n",
    "ax.set_ylabel('Engaged (%)', fontsize=14)\n",
    "ax.set_title('Engagement by Session', fontsize=18)\n",
    "plt.ylim(0, 100)\n",
    "\n",
    "plt.legend(loc='best')\n",
    "fig.savefig('figure2.eps', format='eps', dpi=1000)"
   ]
  },
  {
   "cell_type": "code",
   "execution_count": 49,
   "metadata": {},
   "outputs": [
    {
     "name": "stdout",
     "output_type": "stream",
     "text": [
      "13.083\n",
      "3.067\n",
      "51.485\n",
      "157.101\n",
      "20.467\n",
      "6.5\n",
      "34.42\n",
      "150.671\n",
      "11.783\n",
      "4.367\n",
      "31.527\n",
      "37.711\n",
      "14.267\n",
      "6.667\n",
      "30.608\n",
      "79.309\n"
     ]
    }
   ],
   "source": [
    "# Continuous Engagement and Disengagement\n",
    "\n",
    "cont_en = []\n",
    "cont_dis = []\n",
    "\n",
    "cont_en_std = []\n",
    "cont_dis_std = []\n",
    "\n",
    "for i, d in enumerate(data):\n",
    "    curr = 0\n",
    "    last = d.loc[0, 'engagement']\n",
    "    last_sess = d.loc[0, 'session_num']\n",
    "    \n",
    "    track_en = []\n",
    "    track_dis = []\n",
    "    \n",
    "    for j,r in d.iterrows():\n",
    "        if (last != r['engagement']) or (last_sess != r['session_num']):\n",
    "            #record this\n",
    "            if (last == 0):\n",
    "                track_dis.append(curr)\n",
    "            else:\n",
    "                track_en.append(curr)\n",
    "            \n",
    "            curr = 0\n",
    "            last = r['engagement']\n",
    "            last_sess = r['session_num']\n",
    "            \n",
    "        curr+= 1\n",
    "    \n",
    "    # grab last one \n",
    "    if (last == 0):\n",
    "        track_dis.append(curr)\n",
    "    else:\n",
    "        track_en.append(curr)\n",
    "    \n",
    "    # Median Continuous \n",
    "    en = (np.median(track_en)/30)   \n",
    "    print(round(en, 3))\n",
    "    cont_en.append(en)\n",
    "    \n",
    "    dis = (np.median(track_dis)/30)\n",
    "    print(round(dis, 3))\n",
    "    cont_dis.append(dis)\n",
    "    \n",
    "    # St Dev Continuous \n",
    "    en_std = (np.std(track_en)/30)\n",
    "    print(round(en_std, 3))\n",
    "    cont_en_std.append(en_std)\n",
    "    \n",
    "    dis_std = (np.std(track_dis)/30)\n",
    "    print(round(dis_std, 3))\n",
    "    cont_dis_std.append(dis_std)\n",
    "\n",
    "print(np.mean(cont_en))\n",
    "print(np.mean(cont_dis))\n",
    "print(np.mean(cont_en_std))\n",
    "print(np.mean(cont_dis_std))"
   ]
  },
  {
   "cell_type": "code",
   "execution_count": 53,
   "metadata": {},
   "outputs": [
    {
     "data": {
      "image/png": "[encoded data removed]",
      "text/plain": [
       "<Figure size 504x288 with 1 Axes>"
      ]
     },
     "metadata": {
      "needs_background": "light"
     },
     "output_type": "display_data"
    }
   ],
   "source": [
    "# Continuous Engagement Graph\n",
    "\n",
    "plt.rcParams[\"figure.figsize\"] = [7,4]\n",
    "\n",
    "fig, ax = plt.subplots()\n",
    "\n",
    "index = np.arange(len(part))\n",
    "bar_width = 0.35\n",
    "\n",
    "rects1 = ax.bar(index, cont_en, bar_width, label='engaged')\n",
    "rects2 = ax.bar(index+bar_width, cont_dis, bar_width, label='disengaged')\n",
    "\n",
    "ax.set_xlabel('Participant')\n",
    "ax.set_ylabel('Continuous Time (Seconds)')\n",
    "ax.set_title('Median Continuous Engagement and Disengagement')\n",
    "\n",
    "ax.set_xticks(index + bar_width / 2)\n",
    "ax.set_xticklabels(('5', '7', '8', '9'))\n",
    "ax.legend()\n",
    "fig.tight_layout()\n",
    "\n",
    "plt.show()"
   ]
  },
  {
   "cell_type": "code",
   "execution_count": 56,
   "metadata": {},
   "outputs": [
    {
     "data": {
      "image/png": "[encoded data removed]",
      "text/plain": [
       "<Figure size 720x432 with 1 Axes>"
      ]
     },
     "metadata": {
      "needs_background": "light"
     },
     "output_type": "display_data"
    }
   ],
   "source": [
    "# Robot Talking / Not Talking\n",
    "# During Games / Not During Games\n",
    "# Open Face Success / Open Face Failure \n",
    "\n",
    "\n",
    "plt.rcParams[\"figure.figsize\"] = [10,6]\n",
    "\n",
    "fig, ax = plt.subplots()\n",
    "\n",
    "index = np.arange(3)\n",
    "bar_width = 0.35\n",
    "\n",
    "rects1 = ax.bar(index, [78.341, 60.356, 65.048], bar_width, color=\"w\", edgecolor=\"k\", label='yes')\n",
    "rects2 = ax.bar(index+bar_width, [27.544, 22.245, 50.580], bar_width, color=\"k\", label='no')\n",
    "\n",
    "threshold = 53.137\n",
    "ax.plot([0, 2], [threshold, threshold], \"k--\")\n",
    "\n",
    "plt.tick_params(axis='both', which='major', labelsize=20)\n",
    "plt.ylim(0, 100)\n",
    "ax.set_xticks(index + bar_width / 2)\n",
    "ax.set_xticklabels(('', '', ''))\n",
    "ax.legend(prop={'size': 20})\n",
    "\n",
    "fig.tight_layout()\n",
    "\n",
    "plt.show()"
   ]
  },
  {
   "cell_type": "code",
   "execution_count": null,
   "metadata": {},
   "outputs": [],
   "source": []
  }
 ],
 "metadata": {
  "kernelspec": {
   "display_name": "Python [conda env:caispp]",
   "language": "python",
   "name": "conda-env-caispp-py"
  },
  "language_info": {
   "codemirror_mode": {
    "name": "ipython",
    "version": 3
   },
   "file_extension": ".py",
   "mimetype": "text/x-python",
   "name": "python",
   "nbconvert_exporter": "python",
   "pygments_lexer": "ipython3",
   "version": "3.5.6"
  }
 },
 "nbformat": 4,
 "nbformat_minor": 2
}
