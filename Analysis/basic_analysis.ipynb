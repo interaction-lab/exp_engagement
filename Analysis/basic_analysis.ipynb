{
 "cells": [
  {
   "cell_type": "code",
   "execution_count": null,
   "metadata": {},
   "outputs": [],
   "source": [
    "# Basic Analysis\n",
    "# Interaction Time, # Sessions, % Engagaed, Engagement by Session, Continuous Engagement"
   ]
  },
  {
   "cell_type": "code",
   "execution_count": 1,
   "metadata": {},
   "outputs": [],
   "source": [
    "import pandas as pd\n",
    "import numpy as np\n",
    "from scipy import stats \n",
    "import matplotlib.pyplot as plt"
   ]
  },
  {
   "cell_type": "code",
   "execution_count": 2,
   "metadata": {},
   "outputs": [],
   "source": [
    "file = '../../../../Google Drive File Stream/My Drive/USC Expeditions Year 5/Analysis/Engagement/Data/Master_Smooth/p5_master_smooth.csv'\n",
    "data5 = pd.read_csv(file)"
   ]
  },
  {
   "cell_type": "code",
   "execution_count": 3,
   "metadata": {},
   "outputs": [],
   "source": [
    "file = '../../../../Google Drive File Stream/My Drive/USC Expeditions Year 5/Analysis/Engagement/Data/Master_Smooth/p7_master_smooth.csv'\n",
    "data7 = pd.read_csv(file)"
   ]
  },
  {
   "cell_type": "code",
   "execution_count": 4,
   "metadata": {},
   "outputs": [],
   "source": [
    "file = '../../../../Google Drive File Stream/My Drive/USC Expeditions Year 5/Analysis/Engagement/Data/Master_Smooth/p8_master_smooth.csv'\n",
    "data8 = pd.read_csv(file)"
   ]
  },
  {
   "cell_type": "code",
   "execution_count": 5,
   "metadata": {},
   "outputs": [],
   "source": [
    "file = '../../../../Google Drive File Stream/My Drive/USC Expeditions Year 5/Analysis/Engagement/Data/Master_Smooth/p9_master_smooth.csv'\n",
    "data9 = pd.read_csv(file)"
   ]
  },
  {
   "cell_type": "code",
   "execution_count": 28,
   "metadata": {},
   "outputs": [],
   "source": [
    "data = [data5, data7, data8, data9]\n",
    "all_data = pd.concat(data, ignore_index=True, sort=True)\n",
    "part = [5, 7, 8, 9]"
   ]
  },
  {
   "cell_type": "code",
   "execution_count": 23,
   "metadata": {},
   "outputs": [
    {
     "name": "stdout",
     "output_type": "stream",
     "text": [
      "5 (2, 27, 54)\n",
      "7 (3, 10, 23)\n",
      "8 (1, 36, 27)\n",
      "9 (3, 23, 33)\n",
      "\n",
      "average (2, 39, 34)\n",
      "total (10, 38, 16)\n"
     ]
    }
   ],
   "source": [
    "# Interaction Time\n",
    "\n",
    "def breakdown(total):\n",
    "    hrs = int(total/3600)\n",
    "    \n",
    "    total = total%3600\n",
    "    minutes = int(total/60)\n",
    "    \n",
    "    total = total%60\n",
    "    seconds = round(total)\n",
    "\n",
    "    return (hrs, minutes, seconds)\n",
    "  \n",
    "\n",
    "grand = 0\n",
    "for p, d in enumerate(data):\n",
    "    total = (len(d)*(0.1/3))\n",
    "    grand += total\n",
    "    \n",
    "    print(part[p], breakdown(total))\n",
    "print()\n",
    "print('average', breakdown(grand/4))\n",
    "print('total', breakdown(grand))"
   ]
  },
  {
   "cell_type": "code",
   "execution_count": 27,
   "metadata": {},
   "outputs": [
    {
     "name": "stdout",
     "output_type": "stream",
     "text": [
      "5 5\n",
      "7 8\n",
      "8 8\n",
      "9 5\n",
      "\n",
      "average 6\n",
      "total 26\n"
     ]
    }
   ],
   "source": [
    "# Sessions\n",
    "\n",
    "grand = 0\n",
    "for p, d in enumerate(data):\n",
    "    total = len((d['session_num'].unique()))\n",
    "    grand += total\n",
    "    \n",
    "    print(part[p], total)\n",
    "print()\n",
    "print('average', int(grand/4))\n",
    "print('total', grand)"
   ]
  },
  {
   "cell_type": "code",
   "execution_count": 31,
   "metadata": {},
   "outputs": [
    {
     "name": "stdout",
     "output_type": "stream",
     "text": [
      "5 63.986%\n",
      "7 49.46%\n",
      "8 55.342%\n",
      "9 47.648%\n",
      "average 54.109%\n",
      "total 53.137%\n"
     ]
    }
   ],
   "source": [
    "# Engagement By Participant \n",
    "engagement_record = []\n",
    "\n",
    "for p, d in enumerate(data):\n",
    "    counts = d['engagement'].value_counts()\n",
    "    engagement = (counts[1]/len(d))*100\n",
    "    engagement_record.append(engagement)\n",
    "    \n",
    "    print(part[p], round(engagement, 3), end='%\\n')\n",
    "\n",
    "print('average', round(sum(engagement_record)/4, 3), end='%\\n')\n",
    "\n",
    "all_counts = all_data['engagement'].value_counts()\n",
    "all_engagement = (all_counts[1]/len(all_data))*100\n",
    "print('total', round(all_engagement, 3), end='%\\n')"
   ]
  },
  {
   "cell_type": "code",
   "execution_count": 43,
   "metadata": {
    "scrolled": true
   },
   "outputs": [
    {
     "name": "stdout",
     "output_type": "stream",
     "text": [
      "21.424%\n",
      "25.141%\n",
      "22.566%\n",
      "8.5%\n",
      "average 1940.787%\n",
      "total 23.501%\n"
     ]
    }
   ],
   "source": [
    "# Engagement By Session \n",
    "session_record = []\n",
    "\n",
    "for p, d in enumerate(data):\n",
    "    sessions = d['session_num'].unique()\n",
    "    sessions = sorted(sessions)\n",
    "    \n",
    "    inner = []\n",
    "    for s in sessions:\n",
    "        curr = d.loc[d['session_num']==s]\n",
    "        counts = curr['engagement'].value_counts()\n",
    "        inner.append(counts[1]/len(curr))\n",
    "    session_record.append(inner)\n",
    "    \n",
    "    \n",
    "session_std = []\n",
    "total = []\n",
    "for i in session_record:\n",
    "    std = np.std(i)\n",
    "    print(round(std*100, 3), end='%\\n')\n",
    "    session_std.append(std*100)\n",
    "    total += i\n",
    "\n",
    "print('average', round(np.mean(session_std)*100, 3), end='%\\n')\n",
    "print('total', round(np.std(total)*100, 3), end='%\\n')"
   ]
  },
  {
   "cell_type": "code",
   "execution_count": 44,
   "metadata": {},
   "outputs": [
    {
     "data": {
      "image/png": "[encoded data removed]",
      "text/plain": [
       "<Figure size 504x288 with 1 Axes>"
      ]
     },
     "metadata": {
      "needs_background": "light"
     },
     "output_type": "display_data"
    }
   ],
   "source": [
    "# Engagement by Participant Graph\n",
    "# StDev Between Sessions as Error Bars\n",
    "\n",
    "plt.rcParams[\"figure.figsize\"] = [7,4]\n",
    "\n",
    "fig, ax = plt.subplots()\n",
    "index = np.arange(4)\n",
    "bar_width = 0.6\n",
    "\n",
    "rects1 = ax.bar(index, engagement_record, bar_width, yerr=session_std)\n",
    "\n",
    "ax.set_xlabel('Participant')\n",
    "ax.set_ylabel('Engaged (%)')\n",
    "ax.set_title('Engagement by Participant')\n",
    "\n",
    "ax.set_xticks(index)\n",
    "ax.set_xticklabels(('5', '7', '8', '9'))\n",
    "fig.tight_layout()\n",
    "\n",
    "plt.show()"
   ]
  },
  {
   "cell_type": "code",
   "execution_count": 46,
   "metadata": {},
   "outputs": [
    {
     "data": {
      "text/plain": [
       "Text(0.5, 1.0, 'Engagement by Session')"
      ]
     },
     "execution_count": 46,
     "metadata": {},
     "output_type": "execute_result"
    },
    {
     "data": {
      "image/png": "[encoded data removed]",
      "text/plain": [
       "<Figure size 576x216 with 1 Axes>"
      ]
     },
     "metadata": {
      "needs_background": "light"
     },
     "output_type": "display_data"
    }
   ],
   "source": [
    "# Engagement By Session\n",
    "plt.rcParams[\"figure.figsize\"] = [8,3]\n",
    "\n",
    "longest = 0\n",
    "for i in session_record:\n",
    "    longest = max(longest, len(i))\n",
    "\n",
    "index = list(range(1, longest+1))\n",
    "for p,i in enumerate(session_record):\n",
    "    need = np.empty(longest-len(i))\n",
    "    need[:] = np.nan\n",
    "    new = np.hstack((np.array(i), need))\n",
    "    plt.plot(index, new, label=str(part[p]))\n",
    "\n",
    "plt.legend(loc='best')\n",
    "plt.xlabel('Session Index')\n",
    "plt.ylabel('Engaged (%)')\n",
    "plt.title('Engagement by Session')"
   ]
  },
  {
   "cell_type": "code",
   "execution_count": 49,
   "metadata": {},
   "outputs": [
    {
     "name": "stdout",
     "output_type": "stream",
     "text": [
      "13.083\n",
      "3.067\n",
      "51.485\n",
      "157.101\n",
      "20.467\n",
      "6.5\n",
      "34.42\n",
      "150.671\n",
      "11.783\n",
      "4.367\n",
      "31.527\n",
      "37.711\n",
      "14.267\n",
      "6.667\n",
      "30.608\n",
      "79.309\n"
     ]
    }
   ],
   "source": [
    "# Continuous Engagement and Disengagement\n",
    "\n",
    "cont_en = []\n",
    "cont_dis = []\n",
    "\n",
    "cont_en_std = []\n",
    "cont_dis_std = []\n",
    "\n",
    "for i, d in enumerate(data):\n",
    "    curr = 0\n",
    "    last = d.loc[0, 'engagement']\n",
    "    last_sess = d.loc[0, 'session_num']\n",
    "    \n",
    "    track_en = []\n",
    "    track_dis = []\n",
    "    \n",
    "    for j,r in d.iterrows():\n",
    "        if (last != r['engagement']) or (last_sess != r['session_num']):\n",
    "            #record this\n",
    "            if (last == 0):\n",
    "                track_dis.append(curr)\n",
    "            else:\n",
    "                track_en.append(curr)\n",
    "            \n",
    "            curr = 0\n",
    "            last = r['engagement']\n",
    "            last_sess = r['session_num']\n",
    "            \n",
    "        curr+= 1\n",
    "    \n",
    "    # grab last one \n",
    "    if (last == 0):\n",
    "        track_dis.append(curr)\n",
    "    else:\n",
    "        track_en.append(curr)\n",
    "    \n",
    "    # Median Continuous \n",
    "    en = (np.median(track_en)/30)   \n",
    "    print(round(en, 3))\n",
    "    cont_en.append(en)\n",
    "    \n",
    "    dis = (np.median(track_dis)/30)\n",
    "    print(round(dis, 3))\n",
    "    cont_dis.append(dis)\n",
    "    \n",
    "    # St Dev Continuous \n",
    "    en_std = (np.std(track_en)/30)\n",
    "    print(round(en_std, 3))\n",
    "    cont_en_std.append(en_std)\n",
    "    \n",
    "    dis_std = (np.std(track_dis)/30)\n",
    "    print(round(dis_std, 3))\n",
    "    cont_dis_std.append(dis_std)\n",
    "\n",
    "print(np.mean(cont_en))\n",
    "print(np.mean(cont_dis))\n",
    "print(np.mean(cont_en_std))\n",
    "print(np.mean(cont_dis_std))"
   ]
  },
  {
   "cell_type": "code",
   "execution_count": 53,
   "metadata": {},
   "outputs": [
    {
     "data": {
      "image/png": "[encoded data removed]",
      "text/plain": [
       "<Figure size 504x288 with 1 Axes>"
      ]
     },
     "metadata": {
      "needs_background": "light"
     },
     "output_type": "display_data"
    }
   ],
   "source": [
    "# Continuous Engagement Graph\n",
    "\n",
    "plt.rcParams[\"figure.figsize\"] = [7,4]\n",
    "\n",
    "fig, ax = plt.subplots()\n",
    "\n",
    "index = np.arange(len(part))\n",
    "bar_width = 0.35\n",
    "\n",
    "rects1 = ax.bar(index, cont_en, bar_width, label='engaged')\n",
    "rects2 = ax.bar(index+bar_width, cont_dis, bar_width, label='disengaged')\n",
    "\n",
    "ax.set_xlabel('Participant')\n",
    "ax.set_ylabel('Continuous Time (Seconds)')\n",
    "ax.set_title('Median Continuous Engagement and Disengagement')\n",
    "\n",
    "ax.set_xticks(index + bar_width / 2)\n",
    "ax.set_xticklabels(('5', '7', '8', '9'))\n",
    "ax.legend()\n",
    "fig.tight_layout()\n",
    "\n",
    "plt.show()"
   ]
  },
  {
   "cell_type": "code",
   "execution_count": null,
   "metadata": {},
   "outputs": [],
   "source": []
  }
 ],
 "metadata": {
  "kernelspec": {
   "display_name": "Python [conda env:caispp]",
   "language": "python",
   "name": "conda-env-caispp-py"
  },
  "language_info": {
   "codemirror_mode": {
    "name": "ipython",
    "version": 3
   },
   "file_extension": ".py",
   "mimetype": "text/x-python",
   "name": "python",
   "nbconvert_exporter": "python",
   "pygments_lexer": "ipython3",
   "version": "3.5.6"
  }
 },
 "nbformat": 4,
 "nbformat_minor": 2
}
