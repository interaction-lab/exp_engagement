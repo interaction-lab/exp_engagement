{
 "cells": [
  {
   "cell_type": "code",
   "execution_count": 2,
   "metadata": {},
   "outputs": [],
   "source": [
    "# Basic Analysis\n",
    "# Interaction Time, # Sessions, % Engagaed, Engagement by Session, Continuous Engagement"
   ]
  },
  {
   "cell_type": "code",
   "execution_count": 2,
   "metadata": {},
   "outputs": [],
   "source": [
    "import pandas as pd\n",
    "import numpy as np\n",
    "from scipy import stats \n",
    "import matplotlib.pyplot as plt"
   ]
  },
  {
   "cell_type": "code",
   "execution_count": 3,
   "metadata": {},
   "outputs": [],
   "source": [
    "p5_file = '../../../../Google Drive File Stream/My Drive/USC Expeditions Year 5/Analysis/Engagement/Data/Master Window/p5_master_window.csv'\n",
    "p7_file = '../../../../Google Drive File Stream/My Drive/USC Expeditions Year 5/Analysis/Engagement/Data/Master Window/p7_master_window.csv'\n",
    "p9_file = '../../../../Google Drive File Stream/My Drive/USC Expeditions Year 5/Analysis/Engagement/Data/Master Window/p9_master_window.csv'\n",
    "p11_file = '../../../../Google Drive File Stream/My Drive/USC Expeditions Year 5/Analysis/Engagement/Data/Master Window/p11_master_window.csv'\n",
    "p12_file = '../../../../Google Drive File Stream/My Drive/USC Expeditions Year 5/Analysis/Engagement/Data/Master Window/p12_master_window.csv'\n",
    "p17_file = '../../../../Google Drive File Stream/My Drive/USC Expeditions Year 5/Analysis/Engagement/Data/Master Window/p17_master_window.csv'\n",
    "p18_file = '../../../../Google Drive File Stream/My Drive/USC Expeditions Year 5/Analysis/Engagement/Data/Master Window/p18_master_window.csv'\n",
    "\n",
    "data5 = pd.read_csv(p5_file)\n",
    "data7 = pd.read_csv(p7_file)\n",
    "data9 = pd.read_csv(p9_file)\n",
    "data11 = pd.read_csv(p11_file)\n",
    "data12 = pd.read_csv(p12_file)\n",
    "data17 = pd.read_csv(p17_file)\n",
    "data18 = pd.read_csv(p18_file)"
   ]
  },
  {
   "cell_type": "code",
   "execution_count": 4,
   "metadata": {},
   "outputs": [],
   "source": [
    "data = [data5, data7, data9, data11, data12, data17, data18]\n",
    "all_data = pd.concat(data)\n",
    "part = [1, 2, 3, 4, 5, 6, 7]"
   ]
  },
  {
   "cell_type": "code",
   "execution_count": 5,
   "metadata": {},
   "outputs": [
    {
     "name": "stdout",
     "output_type": "stream",
     "text": [
      "1 5\n",
      "2 8\n",
      "3 5\n",
      "4 9\n",
      "5 5\n",
      "6 4\n",
      "7 15\n",
      "\n",
      "average 12\n",
      "total 51\n"
     ]
    }
   ],
   "source": [
    "# Sessions\n",
    "\n",
    "grand = 0\n",
    "for p, d in enumerate(data):\n",
    "    total = len((d['session_num'].unique()))\n",
    "    grand += total\n",
    "    \n",
    "    print(part[p], total)\n",
    "print()\n",
    "print('average', int(grand/4))\n",
    "print('total', grand)"
   ]
  },
  {
   "cell_type": "code",
   "execution_count": 6,
   "metadata": {},
   "outputs": [
    {
     "name": "stdout",
     "output_type": "stream",
     "text": [
      "1 84.211%\n",
      "2 59.768%\n",
      "3 49.046%\n",
      "4 76.49%\n",
      "5 64.308%\n",
      "6 47.795%\n",
      "7 76.609%\n",
      "average 65.461%\n",
      "total 65.295%\n"
     ]
    }
   ],
   "source": [
    "# Engagement By Participant \n",
    "engagement_record = []\n",
    "\n",
    "for p, d in enumerate(data):\n",
    "    counts = d['engagement'].value_counts()\n",
    "    engagement = (counts[1]/len(d))*100\n",
    "    engagement_record.append(engagement)\n",
    "    \n",
    "    print(part[p], round(engagement, 3), end='%\\n')\n",
    "\n",
    "print('average', round(sum(engagement_record)/len(data), 3), end='%\\n')\n",
    "\n",
    "all_counts = all_data['engagement'].value_counts()\n",
    "all_engagement = (all_counts[1]/len(all_data))*100\n",
    "print('total', round(all_engagement, 3), end='%\\n')"
   ]
  },
  {
   "cell_type": "code",
   "execution_count": 7,
   "metadata": {
    "scrolled": true
   },
   "outputs": [
    {
     "name": "stdout",
     "output_type": "stream",
     "text": [
      "9.083%\n",
      "18.211%\n",
      "7.727%\n",
      "9.872%\n",
      "9.693%\n",
      "10.51%\n",
      "11.203%\n",
      "average 10.9%\n",
      "total 16.412%\n"
     ]
    }
   ],
   "source": [
    "# Engagement By Session \n",
    "session_record = []\n",
    "\n",
    "for p, d in enumerate(data):\n",
    "    sessions = d['session_num'].unique()\n",
    "    sessions = sorted(sessions)\n",
    "    \n",
    "    inner = []\n",
    "    for s in sessions:\n",
    "        curr = d.loc[d['session_num']==s]\n",
    "        counts = curr['engagement'].value_counts()\n",
    "        inner.append(counts[1]/len(curr))\n",
    "    session_record.append(inner)\n",
    "    \n",
    "    \n",
    "session_std = []\n",
    "total = []\n",
    "for i in session_record:\n",
    "    std = np.std(i)\n",
    "    print(round(std*100, 3), end='%\\n')\n",
    "    session_std.append(std*100)\n",
    "    total += i\n",
    "\n",
    "print('average', round(np.mean(session_std), 3), end='%\\n')\n",
    "print('total', round(np.std(total)*100, 3), end='%\\n')"
   ]
  },
  {
   "cell_type": "code",
   "execution_count": 9,
   "metadata": {},
   "outputs": [
    {
     "data": {
      "image/png": "[encoded data removed]",
      "text/plain": [
       "<Figure size 396x280.8 with 1 Axes>"
      ]
     },
     "metadata": {
      "needs_background": "light"
     },
     "output_type": "display_data"
    }
   ],
   "source": [
    "# Engagement by Participant Graph\n",
    "# StDev Between Sessions as Error Bars\n",
    "\n",
    "plt.rcParams[\"figure.figsize\"] = [5.5,3.9]\n",
    "\n",
    "fig, ax = plt.subplots()\n",
    "index = np.arange(len(data))\n",
    "bar_width = 0.6\n",
    "#gradient = ['#CC004C', '#F37021','#FCB711','#0089D0','#6460AA','#7D7D7D']\n",
    "gradient = []\n",
    "\n",
    "gradient = ['#ffa600', '#ff764a', '#ef5675', '#bc5090', '#7a5195', '#374c80','#003f5c']\n",
    "# gradient = ['#e41a1c', '#377eb8','#4daf4a','#984ea3','#ff7f00','#ffff33','#a65628']\n",
    "rects1 = ax.bar(index, engagement_record, bar_width, yerr=session_std, edgecolor='k', color=gradient)\n",
    "\n",
    "ax.set_xlabel('Participant', fontsize=12)\n",
    "ax.set_ylabel('Engaged (%)', fontsize=12)\n",
    "plt.ylim(0, 100)\n",
    "\n",
    "ax.set_xticks(index)\n",
    "ax.set_xticklabels(('1', '2', '3', '4', '5', '6', '7'))\n",
    "fig.tight_layout()\n",
    "\n",
    "plt.show()\n",
    "fig.savefig('bar_graph.eps', format='eps', dpi=1000)"
   ]
  },
  {
   "cell_type": "code",
   "execution_count": 10,
   "metadata": {},
   "outputs": [
    {
     "name": "stdout",
     "output_type": "stream",
     "text": [
      "[0.97327766 0.92584009 0.77255363 0.8355688  0.73114884        nan\n",
      "        nan        nan        nan        nan        nan        nan\n",
      "        nan        nan        nan]\n",
      "[0.51723072 0.84048027 0.69946524 0.59264579 0.63526469 0.95555556\n",
      " 0.81716209 0.35071612        nan        nan        nan        nan\n",
      "        nan        nan        nan]\n",
      "[0.5403794  0.58834434 0.4687054  0.53101737 0.3640436         nan\n",
      "        nan        nan        nan        nan        nan        nan\n",
      "        nan        nan        nan]\n",
      "[0.91849878 0.83959262 0.91250734 0.63533185 0.70023791 0.67185528\n",
      " 0.69427216 0.72785526 0.79254079        nan        nan        nan\n",
      "        nan        nan        nan]\n",
      "[0.76088475 0.60963999 0.72031195 0.55613037 0.504228          nan\n",
      "        nan        nan        nan        nan        nan        nan\n",
      "        nan        nan        nan]\n",
      "[0.38623384 0.44207639 0.63421829 0.37011033        nan        nan\n",
      "        nan        nan        nan        nan        nan        nan\n",
      "        nan        nan        nan]\n",
      "[0.83589294 0.94250194 0.87951138 0.89716684 0.86300246 0.67901732\n",
      " 0.59456333 0.62837046 0.79267203 0.57126031 0.75018811 0.83417936\n",
      " 0.74396135 0.6518283  0.7651715 ]\n"
     ]
    },
    {
     "data": {
      "image/png": "[encoded data removed]",
      "text/plain": [
       "<Figure size 396x288 with 1 Axes>"
      ]
     },
     "metadata": {
      "needs_background": "light"
     },
     "output_type": "display_data"
    }
   ],
   "source": [
    "# Engagement By Session\n",
    "plt.rcParams[\"figure.figsize\"] = [5.5,4]\n",
    "fig, ax = plt.subplots()\n",
    "\n",
    "longest = 0\n",
    "for i in session_record:\n",
    "    longest = max(longest, len(i))\n",
    "\n",
    "index = list(range(1, longest+1))\n",
    "for p,i in enumerate(session_record):\n",
    "    need = np.empty(longest-len(i))\n",
    "    need[:] = np.nan\n",
    "    new = np.hstack((np.array(i), need))\n",
    "    print(new)\n",
    "    plt.plot(index, new*100, label=str(part[p]), color=gradient[p])\n",
    "    \n",
    "ax.set_xlabel('Session', fontsize=12)\n",
    "ax.set_ylabel('Engaged (%)', fontsize=12)\n",
    "plt.ylim(0, 100)\n",
    "\n",
    "plt.legend(loc='best', title='Participant')\n",
    "fig.savefig('session_line.eps', format='eps', dpi=1000)"
   ]
  },
  {
   "cell_type": "code",
   "execution_count": null,
   "metadata": {},
   "outputs": [],
   "source": [
    "# Continuous Engagement and Disengagement\n",
    "\n",
    "cont_en = []\n",
    "cont_dis = []\n",
    "\n",
    "cont_en_std = []\n",
    "cont_dis_std = []\n",
    "\n",
    "for i, d in enumerate(data):\n",
    "    curr = 0\n",
    "    last = d.loc[0, 'engagement']\n",
    "    last_sess = d.loc[0, 'session_num']\n",
    "    \n",
    "    track_en = []\n",
    "    track_dis = []\n",
    "    \n",
    "    for j,r in d.iterrows():\n",
    "        if (last != r['engagement']) or (last_sess != r['session_num']):\n",
    "            #record this\n",
    "            if (last == 0):\n",
    "                track_dis.append(curr)\n",
    "            else:\n",
    "                track_en.append(curr)\n",
    "            \n",
    "            curr = 0\n",
    "            last = r['engagement']\n",
    "            last_sess = r['session_num']\n",
    "            \n",
    "        curr+= 1\n",
    "    \n",
    "    # grab last one \n",
    "    if (last == 0):\n",
    "        track_dis.append(curr)\n",
    "    else:\n",
    "        track_en.append(curr)\n",
    "    \n",
    "    # Median Continuous \n",
    "    en = (np.median(track_en)/30)   \n",
    "    print(round(en, 3))\n",
    "    cont_en.append(en)\n",
    "    \n",
    "    dis = (np.median(track_dis)/30)\n",
    "    print(round(dis, 3))\n",
    "    cont_dis.append(dis)\n",
    "    \n",
    "    # St Dev Continuous \n",
    "    en_std = (np.std(track_en)/30)\n",
    "    print(round(en_std, 3))\n",
    "    cont_en_std.append(en_std)\n",
    "    \n",
    "    dis_std = (np.std(track_dis)/30)\n",
    "    print(round(dis_std, 3))\n",
    "    cont_dis_std.append(dis_std)\n",
    "\n",
    "print(np.mean(cont_en))\n",
    "print(np.mean(cont_dis))\n",
    "print(np.mean(cont_en_std))\n",
    "print(np.mean(cont_dis_std))"
   ]
  },
  {
   "cell_type": "code",
   "execution_count": null,
   "metadata": {},
   "outputs": [],
   "source": [
    "# Continuous Engagement Graph\n",
    "\n",
    "plt.rcParams[\"figure.figsize\"] = [7,4]\n",
    "\n",
    "fig, ax = plt.subplots()\n",
    "\n",
    "index = np.arange(len(part))\n",
    "bar_width = 0.35\n",
    "\n",
    "rects1 = ax.bar(index, cont_en, bar_width, label='engaged')\n",
    "rects2 = ax.bar(index+bar_width, cont_dis, bar_width, label='disengaged')\n",
    "\n",
    "ax.set_xlabel('Participant')\n",
    "ax.set_ylabel('Continuous Time (Seconds)')\n",
    "ax.set_title('Median Continuous Engagement and Disengagement')\n",
    "\n",
    "ax.set_xticks(index + bar_width / 2)\n",
    "ax.set_xticklabels(('5', '7', '8', '9'))\n",
    "ax.legend()\n",
    "fig.tight_layout()\n",
    "\n",
    "plt.show()"
   ]
  },
  {
   "cell_type": "code",
   "execution_count": null,
   "metadata": {},
   "outputs": [],
   "source": [
    "# Robot Talking / Not Talking\n",
    "# During Games / Not During Games\n",
    "# Open Face Success / Open Face Failure \n",
    "\n",
    "\n",
    "plt.rcParams[\"figure.figsize\"] = [10,6]\n",
    "\n",
    "fig, ax = plt.subplots()\n",
    "\n",
    "index = np.arange(3)\n",
    "bar_width = 0.35\n",
    "\n",
    "rects1 = ax.bar(index, [78.341, 60.356, 65.048], bar_width, color=\"w\", edgecolor=\"k\", label='yes')\n",
    "rects2 = ax.bar(index+bar_width, [27.544, 22.245, 50.580], bar_width, color=\"k\", label='no')\n",
    "\n",
    "threshold = 53.137\n",
    "ax.plot([0, 2], [threshold, threshold], \"k--\")\n",
    "\n",
    "plt.tick_params(axis='both', which='major', labelsize=20)\n",
    "plt.ylim(0, 100)\n",
    "ax.set_xticks(index + bar_width / 2)\n",
    "ax.set_xticklabels(('', '', ''))\n",
    "ax.legend(prop={'size': 20})\n",
    "\n",
    "fig.tight_layout()\n",
    "\n",
    "plt.show()"
   ]
  },
  {
   "cell_type": "code",
   "execution_count": 14,
   "metadata": {},
   "outputs": [
    {
     "data": {
      "text/plain": [
       "array([ 5.,  6.,  7.,  8., 16., 17., 18., 29.])"
      ]
     },
     "execution_count": 14,
     "metadata": {},
     "output_type": "execute_result"
    }
   ],
   "source": [
    "data7['session_num'].unique()"
   ]
  },
  {
   "cell_type": "code",
   "execution_count": 15,
   "metadata": {},
   "outputs": [
    {
     "data": {
      "text/plain": [
       "0.35071612192434815"
      ]
     },
     "execution_count": 15,
     "metadata": {},
     "output_type": "execute_result"
    }
   ],
   "source": [
    "temp = data7[data7['session_num']==29]\n",
    "temp['engagement'].sum()/len(temp)"
   ]
  },
  {
   "cell_type": "code",
   "execution_count": null,
   "metadata": {},
   "outputs": [],
   "source": [
    "[0.51723072 0.84048027 0.69946524 0.59264579 0.63526469 0.95555556\n",
    " 0.81716209 0.35071612        nan        nan        nan        nan\n",
    "        nan        nan        nan]"
   ]
  },
  {
   "cell_type": "code",
   "execution_count": 19,
   "metadata": {},
   "outputs": [
    {
     "name": "stdout",
     "output_type": "stream",
     "text": [
      "0.15362448405518855 0.37079704218824366\n",
      "0.414308817429017 82154 43550\n",
      "0.0\n",
      "339831.1146511701 2262965.0771947317\n",
      "0.1501707286938954 82154 43550\n",
      "0.0\n",
      "135924.4758181529 653584.4687110706\n",
      "0.20796772617043457 82154 43550\n",
      "0.0\n",
      "0.11597950677424128 0.19526352552072118\n",
      "0.5939640107641795 82154 43550\n",
      "0.0\n",
      "25.685665983428915 70.14495004657329\n",
      "0.3661798314258506 82154 43550\n",
      "0.0\n",
      "1473.771676788015 4874.270475070475\n",
      "0.3023573854437584 82154 43550\n",
      "0.0\n"
     ]
    }
   ],
   "source": [
    "engaged = all_data[all_data['engagement']==1]\n",
    "disengaged = all_data[all_data['engagement']==0]\n",
    "import scipy \n",
    "\n",
    "key_features = [\n",
    "'op_num_people',\n",
    "'of_pose_distance',\n",
    "'of_gaze_distance',\n",
    "'of_confidence',\n",
    "'ros_mistakes_session',\n",
    "'ros_ts_robot_talked']\n",
    "\n",
    "for kf in key_features:\n",
    "    a = np.var(engaged[kf]) \n",
    "    b = np.var(disengaged[kf])\n",
    "    print(a,b)\n",
    "    F = np.var(engaged[kf]) / np.var(disengaged[kf])\n",
    "    df1 = len(engaged[kf]) - 1\n",
    "    df2 = len(disengaged[kf]) - 1\n",
    "    print(F, df1, df2)\n",
    "    p_value = scipy.stats.f.cdf(F, df1, df2)\n",
    "    print(p_value)"
   ]
  },
  {
   "cell_type": "code",
   "execution_count": null,
   "metadata": {},
   "outputs": [],
   "source": []
  }
 ],
 "metadata": {
  "kernelspec": {
   "display_name": "Python [conda env:caispp]",
   "language": "python",
   "name": "conda-env-caispp-py"
  },
  "language_info": {
   "codemirror_mode": {
    "name": "ipython",
    "version": 3
   },
   "file_extension": ".py",
   "mimetype": "text/x-python",
   "name": "python",
   "nbconvert_exporter": "python",
   "pygments_lexer": "ipython3",
   "version": "3.5.6"
  }
 },
 "nbformat": 4,
 "nbformat_minor": 2
}
