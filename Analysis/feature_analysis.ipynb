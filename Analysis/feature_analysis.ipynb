{
 "cells": [
  {
   "cell_type": "code",
   "execution_count": null,
   "metadata": {},
   "outputs": [],
   "source": [
    "# Variety of Feature Analysis \n",
    "# Engagement + Challange Level Analysis "
   ]
  },
  {
   "cell_type": "code",
   "execution_count": 1,
   "metadata": {},
   "outputs": [],
   "source": [
    "import pandas as pd\n",
    "import numpy as np\n",
    "from scipy import stats \n",
    "import matplotlib\n",
    "matplotlib.rcParams['font.family'] = \"Arial\"\n",
    "matplotlib.rcParams['font.size'] = 12\n",
    "from matplotlib import pyplot as plt"
   ]
  },
  {
   "cell_type": "code",
   "execution_count": 3,
   "metadata": {},
   "outputs": [
    {
     "name": "stderr",
     "output_type": "stream",
     "text": [
      "/anaconda3/envs/caispp/lib/python3.5/site-packages/IPython/core/interactiveshell.py:2785: DtypeWarning: Columns (37,38,39) have mixed types. Specify dtype option on import or set low_memory=False.\n",
      "  interactivity=interactivity, compiler=compiler, result=result)\n",
      "/anaconda3/envs/caispp/lib/python3.5/site-packages/IPython/core/interactiveshell.py:2785: DtypeWarning: Columns (37,38,39,48,49) have mixed types. Specify dtype option on import or set low_memory=False.\n",
      "  interactivity=interactivity, compiler=compiler, result=result)\n",
      "/anaconda3/envs/caispp/lib/python3.5/site-packages/IPython/core/interactiveshell.py:2785: DtypeWarning: Columns (48,49) have mixed types. Specify dtype option on import or set low_memory=False.\n",
      "  interactivity=interactivity, compiler=compiler, result=result)\n",
      "/anaconda3/envs/caispp/lib/python3.5/site-packages/IPython/core/interactiveshell.py:2785: DtypeWarning: Columns (48) have mixed types. Specify dtype option on import or set low_memory=False.\n",
      "  interactivity=interactivity, compiler=compiler, result=result)\n"
     ]
    }
   ],
   "source": [
    "p5_file = '../../../../Google Drive File Stream/My Drive/USC Expeditions Year 5/Analysis/Engagement/Data/Master/p5_master.csv'\n",
    "p7_file = '../../../../Google Drive File Stream/My Drive/USC Expeditions Year 5/Analysis/Engagement/Data/Master/p7_master.csv'\n",
    "p9_file = '../../../../Google Drive File Stream/My Drive/USC Expeditions Year 5/Analysis/Engagement/Data/Master/p9_master.csv'\n",
    "p11_file = '../../../../Google Drive File Stream/My Drive/USC Expeditions Year 5/Analysis/Engagement/Data/Master/p11_master.csv'\n",
    "p12_file = '../../../../Google Drive File Stream/My Drive/USC Expeditions Year 5/Analysis/Engagement/Data/Master/p12_master.csv'\n",
    "p17_file = '../../../../Google Drive File Stream/My Drive/USC Expeditions Year 5/Analysis/Engagement/Data/Master/p17_master.csv'\n",
    "p18_file = '../../../../Google Drive File Stream/My Drive/USC Expeditions Year 5/Analysis/Engagement/Data/Master/p18_master.csv'\n",
    "\n",
    "data5 = pd.read_csv(p5_file)\n",
    "data7 = pd.read_csv(p7_file)\n",
    "data9 = pd.read_csv(p9_file)\n",
    "data11 = pd.read_csv(p11_file)\n",
    "data12 = pd.read_csv(p12_file)\n",
    "data17 = pd.read_csv(p17_file)\n",
    "data18 = pd.read_csv(p18_file)"
   ]
  },
  {
   "cell_type": "code",
   "execution_count": 4,
   "metadata": {},
   "outputs": [],
   "source": [
    "data = [data5, data7, data9, data11, data12, data17, data18]\n",
    "all_data = pd.concat(data, ignore_index=True, sort=True)\n",
    "data.append(all_data)\n",
    "part = [5, 7, 9, 11, 12, 17, 18]"
   ]
  },
  {
   "cell_type": "code",
   "execution_count": null,
   "metadata": {},
   "outputs": [],
   "source": [
    "data[0].columns"
   ]
  },
  {
   "cell_type": "code",
   "execution_count": 22,
   "metadata": {},
   "outputs": [],
   "source": [
    "def binary_feature_splits(feature):\n",
    "    en_pos = []\n",
    "    en_neg = []\n",
    "\n",
    "    for i,d in enumerate(data):\n",
    "        d_pos = d.loc[d[feature] == 1]\n",
    "        d_neg = d.loc[d[feature] == 0]\n",
    "\n",
    "        counts_pos = d_pos['engagement'].value_counts()\n",
    "        counts_neg = d_neg['engagement'].value_counts()\n",
    "\n",
    "        en_pos.append(((counts_pos[1]/len(d_pos))*100))\n",
    "        en_neg.append(((counts_neg[1]/len(d_neg))*100))\n",
    "    \n",
    "    print('Positive')\n",
    "    for p in range(0, len(part)):\n",
    "        i = en_pos[p]\n",
    "        print(part[p], round(i,3), end='%\\n')\n",
    "    print('Average', round((np.mean(en_pos[0:len(part)])), 3), end='%\\n')\n",
    "    print('Total', round(en_pos[-1], 3), end='%\\n')\n",
    "    \n",
    "    print()\n",
    "    \n",
    "    print('Negative')\n",
    "    for p in range(0, len(part)):\n",
    "        i = en_neg[p]\n",
    "        print(part[p], round(i,3), end='%\\n')\n",
    "    print('Average', round((np.mean(en_neg[0:len(part)])), 3), end='%\\n')\n",
    "    print('Total', round(en_neg[-1], 3), end='%\\n')\n",
    "\n",
    "    return en_pos[:-1], en_neg[:-1]\n"
   ]
  },
  {
   "cell_type": "code",
   "execution_count": null,
   "metadata": {},
   "outputs": [],
   "source": [
    "x = binary_feature_splits('of_success')"
   ]
  },
  {
   "cell_type": "code",
   "execution_count": null,
   "metadata": {},
   "outputs": [],
   "source": [
    "check = ['of_AU01_c',\n",
    "       'of_AU02_c', 'of_AU04_c', 'of_AU05_c', 'of_AU06_c', 'of_AU07_c',\n",
    "       'of_AU09_c', 'of_AU10_c', 'of_AU12_c', 'of_AU14_c', 'of_AU15_c',\n",
    "       'of_AU17_c', 'of_AU20_c', 'of_AU23_c', 'of_AU25_c', 'of_AU26_c',\n",
    "       'of_AU28_c', 'of_AU45_c']\n",
    "for i in check:\n",
    "    print(i)\n",
    "    x = binary_feature_splits(i)\n",
    "    print()"
   ]
  },
  {
   "cell_type": "code",
   "execution_count": 23,
   "metadata": {},
   "outputs": [
    {
     "name": "stdout",
     "output_type": "stream",
     "text": [
      "ros_diff_1\n",
      "Positive\n",
      "5 82.422%\n",
      "7 90.997%\n",
      "9 55.136%\n",
      "11 77.095%\n",
      "12 73.611%\n",
      "17 52.931%\n",
      "18 76.252%\n",
      "Average 72.635%\n",
      "Total 66.509%\n",
      "\n",
      "Negative\n",
      "5 84.545%\n",
      "7 59.103%\n",
      "9 46.991%\n",
      "11 76.542%\n",
      "12 63.507%\n",
      "17 46.804%\n",
      "18 76.856%\n",
      "Average 64.907%\n",
      "Total 65.233%\n",
      "\n",
      "ros_diff_2\n",
      "Positive\n",
      "5 90.067%\n",
      "7 64.127%\n",
      "9 52.841%\n",
      "11 85.154%\n",
      "12 86.651%\n",
      "17 47.316%\n",
      "18 87.126%\n",
      "Average 73.326%\n",
      "Total 73.637%\n",
      "\n",
      "Negative\n",
      "5 82.451%\n",
      "7 58.995%\n",
      "9 48.434%\n",
      "11 75.625%\n",
      "12 61.739%\n",
      "17 47.972%\n",
      "18 74.89%\n",
      "Average 64.301%\n",
      "Total 63.999%\n",
      "\n",
      "ros_diff_3\n",
      "Positive\n",
      "5 79.506%\n",
      "7 48.053%\n",
      "9 47.697%\n",
      "11 75.179%\n",
      "12 55.615%\n",
      "17 64.501%\n",
      "18 65.695%\n",
      "Average 62.321%\n",
      "Total 60.624%\n",
      "\n",
      "Negative\n",
      "5 86.228%\n",
      "7 64.195%\n",
      "9 49.534%\n",
      "11 77.035%\n",
      "12 69.218%\n",
      "17 42.923%\n",
      "18 77.969%\n",
      "Average 66.729%\n",
      "Total 66.903%\n",
      "\n",
      "ros_diff_4\n",
      "Positive\n",
      "5 83.203%\n",
      "7 55.508%\n",
      "9 36.378%\n",
      "11 79.23%\n",
      "12 65.707%\n",
      "17 49.706%\n",
      "18 68.047%\n",
      "Average 62.54%\n",
      "Total 62.345%\n",
      "\n",
      "Negative\n",
      "5 84.783%\n",
      "7 61.925%\n",
      "9 52.491%\n",
      "11 76.139%\n",
      "12 64.006%\n",
      "17 47.687%\n",
      "18 80.469%\n",
      "Average 66.786%\n",
      "Total 66.358%\n",
      "\n",
      "ros_diff_5\n",
      "Positive\n",
      "5 98.411%\n",
      "7 75.55%\n",
      "9 57.652%\n",
      "11 74.881%\n",
      "12 62.356%\n",
      "17 34.313%\n",
      "18 89.252%\n",
      "Average 70.345%\n",
      "Total 68.429%\n",
      "\n",
      "Negative\n",
      "5 83.984%\n",
      "7 56.037%\n",
      "9 48.055%\n",
      "11 77.49%\n",
      "12 64.775%\n",
      "17 54.85%\n",
      "18 72.622%\n",
      "Average 65.402%\n",
      "Total 64.64%\n",
      "\n"
     ]
    }
   ],
   "source": [
    "diff = []\n",
    "\n",
    "for i in all_data.columns:\n",
    "    if 'diff_' in i:\n",
    "        print(i)\n",
    "        x = binary_feature_splits(i)\n",
    "        \n",
    "        diff.append(x[0])\n",
    "        print()"
   ]
  },
  {
   "cell_type": "code",
   "execution_count": 74,
   "metadata": {},
   "outputs": [
    {
     "name": "stdout",
     "output_type": "stream",
     "text": [
      "ros_skill_EM\n",
      "Positive\n",
      "5 87.895%\n",
      "7 54.058%\n",
      "9 78.243%\n",
      "11 78.643%\n",
      "12 40.941%\n",
      "17 54.83%\n",
      "18 76.012%\n",
      "Average 67.232%\n",
      "Total 65.938%\n",
      "\n",
      "Negative\n",
      "5 84.133%\n",
      "7 60.065%\n",
      "9 47.893%\n",
      "11 76.526%\n",
      "12 66.48%\n",
      "17 47.568%\n",
      "18 76.823%\n",
      "Average 65.641%\n",
      "Total 65.374%\n",
      "\n",
      "ros_skill_NC\n",
      "Positive\n",
      "5 84.461%\n",
      "7 59.094%\n",
      "9 53.694%\n",
      "11 78.167%\n",
      "12 63.095%\n",
      "17 49.527%\n",
      "18 83.19%\n",
      "Average 67.318%\n",
      "Total 67.349%\n",
      "\n",
      "Negative\n",
      "5 84.185%\n",
      "7 60.337%\n",
      "9 45.545%\n",
      "11 75.438%\n",
      "12 65.62%\n",
      "17 46.62%\n",
      "18 72.651%\n",
      "Average 64.342%\n",
      "Total 63.914%\n",
      "\n",
      "ros_skill_OS\n",
      "Positive\n",
      "5 83.338%\n",
      "7 60.519%\n",
      "9 42.728%\n",
      "11 75.941%\n",
      "12 70.992%\n",
      "17 46.266%\n",
      "18 73.677%\n",
      "Average 64.78%\n",
      "Total 63.741%\n",
      "\n",
      "Negative\n",
      "5 85.002%\n",
      "7 59.071%\n",
      "9 55.292%\n",
      "11 77.216%\n",
      "12 59.575%\n",
      "17 49.448%\n",
      "18 79.644%\n",
      "Average 66.464%\n",
      "Total 66.9%\n",
      "\n"
     ]
    }
   ],
   "source": [
    "for i in all_data.columns:\n",
    "    if 'skill_' in i:\n",
    "        print(i)\n",
    "        x = binary_feature_splits(i)\n",
    "        print()"
   ]
  },
  {
   "cell_type": "code",
   "execution_count": 13,
   "metadata": {},
   "outputs": [],
   "source": [
    "def threshold_feature_splits(feature, threshold):\n",
    "    en_pos = []\n",
    "    en_neg = []\n",
    "\n",
    "    for i,d in enumerate(data):\n",
    "        d_pos = d.loc[d[feature] <= threshold]\n",
    "        d_neg = d.loc[d[feature] > threshold]\n",
    "\n",
    "        counts_pos = d_pos['engagement'].value_counts()\n",
    "        counts_neg = d_neg['engagement'].value_counts()\n",
    "\n",
    "        en_pos.append(((counts_pos[1]/len(d_pos))*100))\n",
    "        en_neg.append(((counts_neg[1]/len(d_neg))*100))\n",
    "    \n",
    "    print('Less Than or Equal To')\n",
    "    for p in range(0, len(part)):\n",
    "        i = en_pos[p]\n",
    "        print(part[p], round(i,3), end='%\\n')\n",
    "    print('Average', round((np.mean(en_pos[0:len(part)])), 3), end='%\\n')\n",
    "    print('Total', round(en_pos[-1], 3), end='%\\n')\n",
    "    \n",
    "    print()\n",
    "    \n",
    "    print('Greater Than')\n",
    "    for p in range(0, len(part)):\n",
    "        i = en_neg[p]\n",
    "        print(part[p], round(i,3), end='%\\n')\n",
    "    print('Average', round((np.mean(en_neg[0:len(part)])), 3), end='%\\n')\n",
    "    print('Total', round(en_neg[-1], 3), end='%\\n')\n",
    "\n",
    "    return en_pos[:-1], en_neg[:-1]\n"
   ]
  },
  {
   "cell_type": "code",
   "execution_count": 72,
   "metadata": {
    "scrolled": true
   },
   "outputs": [
    {
     "name": "stdout",
     "output_type": "stream",
     "text": [
      "Less Than or Equal To\n",
      "5 84.904%\n",
      "7 70.56%\n",
      "9 60.121%\n",
      "11 75.159%\n",
      "12 67.256%\n",
      "17 45.576%\n",
      "18 78.799%\n",
      "Average 68.91%\n",
      "Total 69.635%\n",
      "\n",
      "Greater Than\n",
      "5 79.839%\n",
      "7 26.598%\n",
      "9 25.104%\n",
      "11 84.53%\n",
      "12 35.249%\n",
      "17 72.22%\n",
      "18 34.537%\n",
      "Average 51.154%\n",
      "Total 43.496%\n"
     ]
    },
    {
     "data": {
      "text/plain": [
       "([84.90377056340078,\n",
       "  70.55985275105726,\n",
       "  60.120603972225595,\n",
       "  75.15867902283881,\n",
       "  67.25563997662186,\n",
       "  45.57550652448035,\n",
       "  78.79879036133889],\n",
       " [79.83892617449665,\n",
       "  26.597862744301327,\n",
       "  25.103724680358635,\n",
       "  84.53006639857851,\n",
       "  35.24938271604938,\n",
       "  72.2198908938313,\n",
       "  34.53715876575671])"
      ]
     },
     "execution_count": 72,
     "metadata": {},
     "output_type": "execute_result"
    }
   ],
   "source": [
    "threshold_feature_splits('ros_ts_robot_talked', 60)"
   ]
  },
  {
   "cell_type": "markdown",
   "metadata": {},
   "source": [
    "# Time Since Analysis"
   ]
  },
  {
   "cell_type": "code",
   "execution_count": 16,
   "metadata": {},
   "outputs": [],
   "source": [
    "def over_time(feature):\n",
    "    increase = 10 \n",
    "    start = increase*-1\n",
    "    \n",
    "    end = 60*9.5\n",
    "    \n",
    "    answer = []\n",
    "    index = []\n",
    "    while (start+increase <= end):\n",
    "        index.append(start+increase)\n",
    "        curr = all_data.loc[(all_data[feature]>start) & (all_data[feature]<=(start+increase))]\n",
    "        counts = curr['engagement'].value_counts()\n",
    "        \n",
    "        if 1 in counts:\n",
    "            answer.append(((counts[1]/len(curr))*100))\n",
    "        else:\n",
    "            answer.append(0)\n",
    "        \n",
    "        start += increase\n",
    "    return index, answer"
   ]
  },
  {
   "cell_type": "code",
   "execution_count": 22,
   "metadata": {},
   "outputs": [
    {
     "data": {
      "image/png": "[encoded data removed]",
      "text/plain": [
       "<Figure size 648x288 with 1 Axes>"
      ]
     },
     "metadata": {
      "needs_background": "light"
     },
     "output_type": "display_data"
    }
   ],
   "source": [
    "# Time Since\n",
    "plt.rcParams[\"figure.figsize\"] = [9,4]\n",
    "fig, ax = plt.subplots()\n",
    "\n",
    "#over_time_vars = ['ros_ts_game_start', 'ros_ts_robot_talked']\n",
    "over_time_vars = ['ros_ts_robot_talked']\n",
    "\n",
    "labels = {\n",
    "    'ros_ts_game_start': 'After Game Starts',\n",
    "    'ros_ts_robot_talked': 'After Robot Talks'\n",
    "}\n",
    "\n",
    "for v in over_time_vars:\n",
    "    index, curr = over_time(v)\n",
    "    index = [x / 60 for x in index]\n",
    "    #plt.plot(index, curr, label=labels[v])\n",
    "    plt.plot(index, curr)\n",
    "\n",
    "#plt.legend(loc='best')\n",
    "\n",
    "plt.tick_params(axis='both', which='major')\n",
    "#plt.xlabel('Elapsed Time (Minutes)')\n",
    "plt.xlabel('Elapsed Time Since Robot Talked (Minutes)')\n",
    "plt.ylabel('Engaged (%)')\n",
    "#plt.title('Engagement After Robot Talks')\n",
    "\n",
    "plt.ylim(0, 100)\n",
    "plt.xlim(0, 4)\n",
    "#plt.legend()\n",
    "\n",
    "plt.show()\n",
    "fig.savefig('figure.eps', format='eps', dpi=1000)"
   ]
  },
  {
   "cell_type": "code",
   "execution_count": 118,
   "metadata": {},
   "outputs": [],
   "source": [
    "def over_time_part(feature, curr_data):\n",
    "    increase = 60*5 \n",
    "    start = increase*-1\n",
    "    \n",
    "    end = 3600\n",
    "    \n",
    "    answer = []\n",
    "    index = []\n",
    "    while (start+increase <= end):\n",
    "        index.append(start+increase)\n",
    "        curr = curr_data.loc[(curr_data[feature]>start) & (curr_data[feature]<=(start+increase))]\n",
    "        counts = curr['engagement'].value_counts()\n",
    "        \n",
    "        if 1 in counts:\n",
    "            answer.append(((counts[1]/len(curr))*100))\n",
    "        else:\n",
    "            answer.append(0)\n",
    "        \n",
    "        start += increase\n",
    "    return index, answer"
   ]
  },
  {
   "cell_type": "code",
   "execution_count": 129,
   "metadata": {},
   "outputs": [
    {
     "data": {
      "image/png": "[encoded data removed]",
      "text/plain": [
       "<Figure size 648x288 with 1 Axes>"
      ]
     },
     "metadata": {
      "needs_background": "light"
     },
     "output_type": "display_data"
    }
   ],
   "source": [
    "# Time Since\n",
    "plt.rcParams[\"figure.figsize\"] = [9,4]\n",
    "fig, ax = plt.subplots()\n",
    "\n",
    "for i,d in enumerate(data):\n",
    "    if i == len(data)-1:\n",
    "        break\n",
    "    index, curr = over_time_part('timestamp', d)\n",
    "    index = [x / 60 for x in index]\n",
    "    index = index[1:]\n",
    "    index = [x - 2.5 for x in index]\n",
    "    curr = curr[1:]\n",
    "    plt.plot(index, curr, label=str(part[i]))\n",
    "\n",
    "plt.tick_params(axis='both', which='major')\n",
    "plt.xlabel('Elapsed Time in Session (Minutes)')\n",
    "plt.ylabel('Engaged (%)')\n",
    "plt.title('Engagement and Time')\n",
    "\n",
    "plt.xlim(0, 30)\n",
    "plt.ylim(0, 100)\n",
    "plt.legend()\n",
    "\n",
    "plt.show()\n",
    "fig.savefig('figure.eps', format='eps', dpi=1000)"
   ]
  },
  {
   "cell_type": "markdown",
   "metadata": {},
   "source": [
    "# Open Face Analysis"
   ]
  },
  {
   "cell_type": "code",
   "execution_count": 73,
   "metadata": {},
   "outputs": [],
   "source": [
    "def over_feature(feature):\n",
    "    answer = []\n",
    "    for i in range(0, 100, 5):\n",
    "        t1 = np.nanpercentile(all_data[feature], i)\n",
    "        t2 = np.nanpercentile(all_data[feature], i+5)\n",
    "        \n",
    "        curr = all_data.loc[(all_data[feature]>=t1) & (all_data[feature]<=t2)]\n",
    "        counts = curr['engagement'].value_counts()\n",
    "        \n",
    "        if 1 in counts:\n",
    "            answer.append(((counts[1]/len(curr))*100))\n",
    "        else:\n",
    "            answer.append(0)\n",
    "            \n",
    "    return answer"
   ]
  },
  {
   "cell_type": "code",
   "execution_count": 114,
   "metadata": {},
   "outputs": [
    {
     "data": {
      "image/png": "[encoded data removed]",
      "text/plain": [
       "<Figure size 648x288 with 1 Axes>"
      ]
     },
     "metadata": {
      "needs_background": "light"
     },
     "output_type": "display_data"
    }
   ],
   "source": [
    "# Percentile Features\n",
    "plt.rcParams[\"figure.figsize\"] = [9,4]\n",
    "fig, ax = plt.subplots()\n",
    "\n",
    "percentile_vars = ['of_gaze_distance', 'of_pose_distance']\n",
    "\n",
    "labels = {\n",
    "    'of_gaze_distance': 'Gaze Distance',\n",
    "    'of_pose_distance': 'Pose Distance',\n",
    "}\n",
    "\n",
    "index = range(0,100,5)\n",
    "index = [x + 2.5 for x in index]\n",
    "\n",
    "for v in percentile_vars:\n",
    "    curr = over_feature(v)\n",
    "    plt.plot(index, curr, label=labels[v])\n",
    "\n",
    "plt.legend(loc='lower center')\n",
    "\n",
    "plt.tick_params(axis='both', which='major')\n",
    "plt.ylim(0, 100)\n",
    "plt.legend()\n",
    "\n",
    "plt.xlabel('Percentile of Feature')\n",
    "plt.ylabel('Engaged (%)')\n",
    "plt.title('Engagement: Open Face Features')\n",
    "\n",
    "plt.show()\n",
    "fig.savefig('figure.eps', format='eps', dpi=1000)"
   ]
  },
  {
   "cell_type": "markdown",
   "metadata": {},
   "source": [
    "# Converged Difficulty"
   ]
  },
  {
   "cell_type": "code",
   "execution_count": 26,
   "metadata": {},
   "outputs": [
    {
     "data": {
      "image/png": "[encoded data removed]",
      "text/plain": [
       "<Figure size 396x288 with 1 Axes>"
      ]
     },
     "metadata": {
      "needs_background": "light"
     },
     "output_type": "display_data"
    }
   ],
   "source": [
    "# Percentile Features\n",
    "plt.rcParams[\"figure.figsize\"] = [5.5, 4]\n",
    "fig, ax = plt.subplots()\n",
    "\n",
    "plt.plot(5, 78.779, 'o', color = 'k', mec='k')\n",
    "plt.plot(1.5, 47.891, 'o', color = 'k',mec='k')\n",
    "plt.plot(4, 64.487, 'o', color = 'k',mec='k')\n",
    "plt.plot(5, 76.610, 'o', color = 'k',mec='k')\n",
    "plt.plot(3, 49.086, 'o', color = 'k',mec='k')\n",
    "plt.plot(3.5, 59.813, 'o', color = 'k',mec='k')\n",
    "plt.plot(4, 84.320, 'o', color = 'k',mec='k')\n",
    "\n",
    "plt.ylim(0, 100)\n",
    "\n",
    "plt.xlabel('Optimal pLoC (chosen by RL)', fontsize=14)\n",
    "plt.ylabel('Engaged (%)', fontsize=14)\n",
    "plt.title('Engagement and pLoC', fontsize=18)\n",
    "\n",
    "plt.show()\n",
    "fig.savefig('figure3.eps', format='eps', dpi=1000)"
   ]
  },
  {
   "cell_type": "code",
   "execution_count": 24,
   "metadata": {},
   "outputs": [
    {
     "name": "stdout",
     "output_type": "stream",
     "text": [
      "10.0\n",
      "5 87.17199814557254\n",
      "7 79.78657353511835\n",
      "9 43.204452255418865\n",
      "11 75.59109438695516\n",
      "12 59.91942324003393\n",
      "17 37.90960451977401\n",
      "18 69.49709060681629\n",
      "\n",
      "64.72574809852702\n",
      "\n",
      "nan\n",
      "5 nan\n",
      "7 nan\n",
      "9 nan\n",
      "11 nan\n",
      "12 nan\n",
      "17 nan\n",
      "18 nan\n",
      "\n",
      "nan\n",
      "\n",
      "1.0\n",
      "5 95.99067599067598\n",
      "7 56.76728334956182\n",
      "9 47.88226299694189\n",
      "11 71.44546147978642\n",
      "12 53.89487870619946\n",
      "17 45.70559610705596\n",
      "18 79.41616766467065\n",
      "\n",
      "64.44318947069888\n",
      "\n",
      "3.0\n",
      "5 70.56580565805658\n",
      "7 63.55115511551155\n"
     ]
    },
    {
     "name": "stderr",
     "output_type": "stream",
     "text": [
      "/anaconda3/envs/caispp/lib/python3.5/site-packages/ipykernel/__main__.py:11: RuntimeWarning: invalid value encountered in long_scalars\n"
     ]
    },
    {
     "name": "stdout",
     "output_type": "stream",
     "text": [
      "9 60.25186327422256\n",
      "11 77.81862745098039\n",
      "12 70.93150684931507\n",
      "17 25.166970248937464\n",
      "18 71.62573099415205\n",
      "\n",
      "62.844522798739376\n",
      "\n",
      "4.0\n",
      "5 90.84925690021231\n",
      "7 55.502307419240324\n",
      "9 42.81496062992126\n",
      "11 74.05377980720446\n",
      "12 50.49422799422799\n",
      "17 36.75977653631285\n",
      "18 81.87309865275967\n",
      "\n",
      "61.763915419982695\n",
      "\n",
      "5.0\n",
      "5 89.5926477893691\n",
      "7 59.87562189054726\n",
      "9 44.42786069651741\n",
      "11 80.813097866078\n",
      "12 83.52405721716515\n",
      "17 70.3373015873016\n",
      "18 91.45958986731002\n",
      "\n",
      "74.2900252734698\n",
      "\n",
      "6.0\n",
      "5 65.68281938325991\n",
      "7 62.06742346061232\n",
      "9 65.52229497973184\n",
      "11 85.98114824335904\n",
      "12 62.95346628679962\n",
      "17 46.72636815920398\n",
      "18 86.95886197616302\n",
      "\n",
      "67.98462606987566\n",
      "\n",
      "7.0\n",
      "5 90.56445461479787\n",
      "7 73.0706287683032\n",
      "9 41.30356822664515\n",
      "11 74.21141506247889\n",
      "12 77.15818622360679\n",
      "17 48.033033033033036\n",
      "18 81.09626584446728\n",
      "\n",
      "69.34822168190459\n",
      "\n",
      "8.0\n",
      "5 76.66332999666334\n",
      "7 67.41489469591968\n",
      "9 37.2241445597847\n",
      "11 78.78000284050562\n",
      "12 68.78040762656147\n",
      "17 26.482188295165393\n",
      "18 67.0595382746051\n",
      "\n",
      "60.3435008984579\n",
      "\n",
      "9.0\n",
      "5 84.86504723346829\n",
      "7 47.48653265011168\n",
      "9 48.62325304787392\n",
      "11 71.65888577653283\n",
      "12 79.406162464986\n",
      "17 58.582959641255606\n",
      "18 77.07959305804907\n",
      "\n",
      "66.81463341032534\n",
      "\n",
      "16.0\n",
      "5 87.89473684210526\n",
      "7 54.05831363278172\n",
      "9 78.24283559577677\n",
      "11 78.6433260393873\n",
      "12 40.94143404488232\n",
      "17 54.83040935672515\n",
      "18 76.01190476190476\n",
      "\n",
      "67.23185146765191\n",
      "\n"
     ]
    }
   ],
   "source": [
    "types = data[0]['ros_activity'].unique()\n",
    "types = sorted(list(types))\n",
    "\n",
    "for t in types:\n",
    "    print(t)\n",
    "    record = []\n",
    "    for i,d in enumerate(data):\n",
    "        if i == len(data)-1:\n",
    "            continue\n",
    "        temp = d.loc[d['ros_activity']==t]\n",
    "        r = ((temp['engagement'].sum())/len(temp))*100\n",
    "        print(part[i], r)\n",
    "        record.append(r)\n",
    "    print()\n",
    "    print(np.mean(record))\n",
    "    print()"
   ]
  },
  {
   "cell_type": "code",
   "execution_count": 20,
   "metadata": {},
   "outputs": [
    {
     "data": {
      "text/plain": [
       "[10.0, nan, 1.0, 3.0, 4.0, 5.0, 6.0, 7.0, 8.0, 9.0, 16.0]"
      ]
     },
     "execution_count": 20,
     "metadata": {},
     "output_type": "execute_result"
    }
   ],
   "source": [
    "types"
   ]
  },
  {
   "cell_type": "code",
   "execution_count": 24,
   "metadata": {},
   "outputs": [
    {
     "data": {
      "text/plain": [
       "<Figure size 396x288 with 0 Axes>"
      ]
     },
     "metadata": {},
     "output_type": "display_data"
    },
    {
     "data": {
      "image/png": "[encoded data removed]",
      "text/plain": [
       "<Figure size 396x288 with 1 Axes>"
      ]
     },
     "metadata": {
      "needs_background": "light"
     },
     "output_type": "display_data"
    }
   ],
   "source": [
    "# Difficulty Graph\n",
    "plt.gray()\n",
    "\n",
    "plt.rcParams[\"figure.figsize\"] = [5.5, 4]\n",
    "\n",
    "fig, ax = plt.subplots()\n",
    "\n",
    "index = np.arange(7)\n",
    "bar_width = 1/7\n",
    "\n",
    "rects1 = ax.bar(index, diff[0], bar_width, label='Level 1', color='#FFFFFF', edgecolor='k')\n",
    "rects2 = ax.bar(index+bar_width, diff[1], bar_width, label='Level 2', color='#DCDCDC', edgecolor='k')\n",
    "rects3 = ax.bar(index+bar_width*2, diff[2], bar_width, label='Level 3', color='#A0A0A0', edgecolor='k')\n",
    "rects4 = ax.bar(index+bar_width*3, diff[3], bar_width, label='Level 4', color='#505050', edgecolor='k')\n",
    "rects5 = ax.bar(index+bar_width*4, diff[4], bar_width, label='Level 5', color='#000000', edgecolor='k')\n",
    "\n",
    "\n",
    "ax.set_xlabel('Participant', fontsize=14)\n",
    "ax.set_ylabel('Engaged (%)', fontsize=14)\n",
    "ax.set_title('Engagement by LoC', fontsize=18)\n",
    "ax.set_xticks(index + bar_width*2)\n",
    "ax.set_xticklabels(('5', '7', '9', '11', '12', '16', '17'))\n",
    "#ax.legend()\n",
    "fig.tight_layout()\n",
    "ax.set_ylim(0, 120)\n",
    "plt.show()\n",
    "fig.savefig('figure.eps', format='eps', dpi=1000)"
   ]
  },
  {
   "cell_type": "code",
   "execution_count": 25,
   "metadata": {},
   "outputs": [
    {
     "data": {
      "image/png": "[encoded data removed]",
      "text/plain": [
       "<Figure size 396x288 with 1 Axes>"
      ]
     },
     "metadata": {
      "needs_background": "light"
     },
     "output_type": "display_data"
    }
   ],
   "source": [
    "# Difficulty Graph\n",
    "\n",
    "\n",
    "plt.rcParams[\"figure.figsize\"] = [5.5, 4]\n",
    "\n",
    "fig, ax = plt.subplots()\n",
    "\n",
    "index = np.arange(7)\n",
    "bar_width = 1/7\n",
    "\n",
    "rects1 = ax.bar(index, [0,0,0,0,0,0,0], bar_width, label='1', color='#FFFFFF', edgecolor='k')\n",
    "rects2 = ax.bar(index+bar_width, [0,0,0,0,0,0,0], bar_width, label='2', color='#DCDCDC', edgecolor='k')\n",
    "rects3 = ax.bar(index+bar_width*2, [0,0,0,0,0,0,0], bar_width, label='3', color='#A0A0A0', edgecolor='k')\n",
    "rects4 = ax.bar(index+bar_width*3, [0,0,0,0,0,0,0], bar_width, label='4', color='#505050', edgecolor='k')\n",
    "rects5 = ax.bar(index+bar_width*4, [0,0,0,0,0,0,0], bar_width, label='5', color='#000000', edgecolor='k')\n",
    "\n",
    "ax.set_xlabel('Participant')\n",
    "ax.set_ylabel('Engaged (%)')\n",
    "ax.set_title('Engagement By Game Difficulty')\n",
    "\n",
    "ax.set_xticks(index + bar_width*2)\n",
    "ax.set_xticklabels(('5', '7', '9', '11', '12', '17', '18'))\n",
    "ax.legend(fontsize='12', ncol=5, edgecolor='k')\n",
    "fig.tight_layout()\n",
    "ax.set_ylim(0, 100)\n",
    "\n",
    "plt.show()\n",
    "fig.savefig('figure2.eps', format='eps', dpi=1000)"
   ]
  },
  {
   "cell_type": "code",
   "execution_count": 18,
   "metadata": {},
   "outputs": [
    {
     "data": {
      "text/plain": [
       "<Figure size 396x288 with 0 Axes>"
      ]
     },
     "metadata": {},
     "output_type": "display_data"
    },
    {
     "data": {
      "image/png": "[encoded data removed]",
      "text/plain": [
       "<Figure size 396x288 with 1 Axes>"
      ]
     },
     "metadata": {
      "needs_background": "light"
     },
     "output_type": "display_data"
    }
   ],
   "source": [
    "# Difficulty Graph\n",
    "plt.gray()\n",
    "\n",
    "plt.rcParams[\"figure.figsize\"] = [5.5, 4]\n",
    "\n",
    "fig, ax = plt.subplots()\n",
    "\n",
    "index = np.arange(17)\n",
    "bar_width = 1/4\n",
    "\n",
    "rects1 = ax.bar(index, [92,69,62,89,93,102,109,56,81,91,69,69,76,83,88,69,85], bar_width, label='Pre-Intervention', color='#FFFFFF', edgecolor='k')\n",
    "rects4 = ax.bar(index+bar_width, [95,84,0,96,95,108,111,61,84,91,76,83,88,93,91,84,93], bar_width, label='Post-Intervention', color='#000000', edgecolor='k')\n",
    "\n",
    "\n",
    "ax.set_xlabel('Participant', fontsize=14)\n",
    "ax.set_ylabel('WIAT II Score', fontsize=14)\n",
    "ax.set_title('Numerical Operation', fontsize=18)\n",
    "ax.set_xticks(index + bar_width/2)\n",
    "ax.set_xticklabels(('1', '2', '3', '4', '5', '6', '7', '8', '9', '10', '11', '12', '13', '14', '15', '16', '17'))\n",
    "ax.legend(loc='upper center', ncol=2)\n",
    "fig.tight_layout()\n",
    "ax.set_ylim(0, 130)\n",
    "plt.show()\n",
    "fig.savefig('figure.eps', format='eps', dpi=1000)"
   ]
  },
  {
   "cell_type": "code",
   "execution_count": 19,
   "metadata": {},
   "outputs": [
    {
     "data": {
      "text/plain": [
       "<Figure size 396x288 with 0 Axes>"
      ]
     },
     "metadata": {},
     "output_type": "display_data"
    },
    {
     "data": {
      "image/png": "[encoded data removed]",
      "text/plain": [
       "<Figure size 396x288 with 1 Axes>"
      ]
     },
     "metadata": {
      "needs_background": "light"
     },
     "output_type": "display_data"
    }
   ],
   "source": [
    "# Difficulty Graph\n",
    "plt.gray()\n",
    "\n",
    "plt.rcParams[\"figure.figsize\"] = [5.5, 4]\n",
    "\n",
    "fig, ax = plt.subplots()\n",
    "\n",
    "index = np.arange(17)\n",
    "bar_width = 1/4\n",
    "\n",
    "rects1 = ax.bar(index, [86,68,57,78,84,100,102,48,77,85,68,75,80,79,87,68,95], bar_width, label='Pre-Intervention', color='#FFFFFF', edgecolor='k')\n",
    "rects4 = ax.bar(index+bar_width, [88,80,0,82,89,102,103,48,82,87,80,92,83,94,101,80,103], bar_width, label='Post-Intervention', color='#000000', edgecolor='k')\n",
    "\n",
    "\n",
    "ax.set_xlabel('Participant', fontsize=14)\n",
    "ax.set_ylabel('WIAT II Score', fontsize=14)\n",
    "ax.set_title('Math Reasoning', fontsize=18)\n",
    "ax.set_xticks(index + bar_width/2)\n",
    "ax.set_xticklabels(('1', '2', '3', '4', '5', '6', '7', '8', '9', '10', '11', '12', '13', '14', '15', '16', '17'))\n",
    "ax.legend(loc='upper center', ncol=2)\n",
    "fig.tight_layout()\n",
    "ax.set_ylim(0, 130)\n",
    "plt.show()\n",
    "fig.savefig('figure2.eps', format='eps', dpi=1000)"
   ]
  },
  {
   "cell_type": "code",
   "execution_count": null,
   "metadata": {},
   "outputs": [],
   "source": []
  }
 ],
 "metadata": {
  "kernelspec": {
   "display_name": "Python [conda env:caispp]",
   "language": "python",
   "name": "conda-env-caispp-py"
  },
  "language_info": {
   "codemirror_mode": {
    "name": "ipython",
    "version": 3
   },
   "file_extension": ".py",
   "mimetype": "text/x-python",
   "name": "python",
   "nbconvert_exporter": "python",
   "pygments_lexer": "ipython3",
   "version": "3.5.6"
  }
 },
 "nbformat": 4,
 "nbformat_minor": 2
}
