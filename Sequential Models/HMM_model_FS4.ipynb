{
 "cells": [
  {
   "cell_type": "code",
   "execution_count": 1,
   "metadata": {
    "collapsed": true
   },
   "outputs": [],
   "source": [
    "# Template Notebook for Engagement Classification Model\n",
    "\n",
    "# ToDo/Models to run here: https://docs.google.com/document/d/18EJpFesMEl9Q7C1AZzDeq6uy7c8tDMvEJ_j58-MmiBI/edit?usp=sharing\n",
    "# Use p8_data_processed.csv here: https://drive.google.com/drive/folders/19aJUAlkTMz7PcZE1q4hogFkjVtwYGcMT\n",
    "# Upload code to help-seeking github: https://github.com/interaction-lab/help_seeking\n",
    "# Record model results here: https://docs.google.com/spreadsheets/d/16ye54fSSEuAuDL_j56UIeDB-rIIrxq_kPbtyPRQOrVI/edit?usp=sharing"
   ]
  },
  {
   "cell_type": "code",
   "execution_count": 2,
   "metadata": {
    "collapsed": true
   },
   "outputs": [],
   "source": [
    "# Imports\n",
    "import pandas as pd\n",
    "import numpy as np\n",
    "from pandas import *\n",
    "import os\n",
    "from sklearn.preprocessing import LabelEncoder\n",
    "from sklearn.model_selection import train_test_split\n",
    "from sklearn.metrics import roc_auc_score\n",
    "from sklearn.metrics import roc_auc_score\n",
    "from sklearn.metrics import accuracy_score\n",
    "from sklearn.model_selection import cross_val_predict\n",
    "from sklearn.model_selection import cross_val_score\n",
    "from sklearn import metrics\n",
    "from sklearn.metrics import accuracy_score"
   ]
  },
  {
   "cell_type": "code",
   "execution_count": 3,
   "metadata": {
    "collapsed": true
   },
   "outputs": [],
   "source": [
    "# Load Data\n",
    "file8 = '../../../../Google Drive File Stream/My Drive/USC Expeditions Year 5/Analysis/Help-Seeking/Data/FS4/p8_data_FS4.csv'\n",
    "file3 = '../../../../Google Drive File Stream/My Drive/USC Expeditions Year 5/Analysis/Help-Seeking/Data/FS4/p3_data_FS4.csv'\n",
    "file7 = '../../../../Google Drive File Stream/My Drive/USC Expeditions Year 5/Analysis/Help-Seeking/Data/FS4/p7_data_FS4.csv'\n",
    "file5 = '../../../../Google Drive File Stream/My Drive/USC Expeditions Year 5/Analysis/Help-Seeking/Data/FS4/p5_data_FS4.csv'\n",
    "file9 = '../../../../Google Drive File Stream/My Drive/USC Expeditions Year 5/Analysis/Help-Seeking/Data/FS4/p9_data_FS4.csv'\n",
    "file10 = '../../../../Google Drive File Stream/My Drive/USC Expeditions Year 5/Analysis/Help-Seeking/Data/FS4/p10_data_FS4.csv'\n",
    "\n",
    "data8 = pd.read_csv(file8)\n",
    "data3 = pd.read_csv(file3)\n",
    "data7 = pd.read_csv(file7)\n",
    "data5 = pd.read_csv(file5)\n",
    "data9 = pd.read_csv(file9)\n",
    "data10 = pd.read_csv(file10)"
   ]
  },
  {
   "cell_type": "code",
   "execution_count": 46,
   "metadata": {},
   "outputs": [
    {
     "data": {
      "text/html": [
       "<div>\n",
       "<style scoped>\n",
       "    .dataframe tbody tr th:only-of-type {\n",
       "        vertical-align: middle;\n",
       "    }\n",
       "\n",
       "    .dataframe tbody tr th {\n",
       "        vertical-align: top;\n",
       "    }\n",
       "\n",
       "    .dataframe thead th {\n",
       "        text-align: right;\n",
       "    }\n",
       "</style>\n",
       "<table border=\"1\" class=\"dataframe\">\n",
       "  <thead>\n",
       "    <tr style=\"text-align: right;\">\n",
       "      <th></th>\n",
       "      <th>of_confidence</th>\n",
       "      <th>of_success</th>\n",
       "      <th>of_gaze_0_x</th>\n",
       "      <th>of_gaze_0_y</th>\n",
       "      <th>of_gaze_0_z</th>\n",
       "      <th>of_gaze_1_x</th>\n",
       "      <th>of_gaze_1_y</th>\n",
       "      <th>of_gaze_1_z</th>\n",
       "      <th>of_gaze_angle_x</th>\n",
       "      <th>of_gaze_angle_y</th>\n",
       "      <th>...</th>\n",
       "      <th>ts_attempt</th>\n",
       "      <th>skill_NC</th>\n",
       "      <th>skill_OS</th>\n",
       "      <th>skill_EM</th>\n",
       "      <th>diff_1</th>\n",
       "      <th>diff_2</th>\n",
       "      <th>diff_3</th>\n",
       "      <th>diff_4</th>\n",
       "      <th>diff_5</th>\n",
       "      <th>no_game</th>\n",
       "    </tr>\n",
       "  </thead>\n",
       "  <tbody>\n",
       "    <tr>\n",
       "      <th>0</th>\n",
       "      <td>1.0</td>\n",
       "      <td>1.0</td>\n",
       "      <td>0.802148</td>\n",
       "      <td>0.562868</td>\n",
       "      <td>0.109746</td>\n",
       "      <td>0.394162</td>\n",
       "      <td>0.568244</td>\n",
       "      <td>0.018943</td>\n",
       "      <td>0.606309</td>\n",
       "      <td>0.508006</td>\n",
       "      <td>...</td>\n",
       "      <td>0.0</td>\n",
       "      <td>0</td>\n",
       "      <td>1</td>\n",
       "      <td>0</td>\n",
       "      <td>0</td>\n",
       "      <td>1</td>\n",
       "      <td>0</td>\n",
       "      <td>0</td>\n",
       "      <td>0</td>\n",
       "      <td>0</td>\n",
       "    </tr>\n",
       "    <tr>\n",
       "      <th>1</th>\n",
       "      <td>1.0</td>\n",
       "      <td>1.0</td>\n",
       "      <td>0.805980</td>\n",
       "      <td>0.553090</td>\n",
       "      <td>0.111663</td>\n",
       "      <td>0.395043</td>\n",
       "      <td>0.564921</td>\n",
       "      <td>0.018227</td>\n",
       "      <td>0.607571</td>\n",
       "      <td>0.505478</td>\n",
       "      <td>...</td>\n",
       "      <td>0.0</td>\n",
       "      <td>0</td>\n",
       "      <td>1</td>\n",
       "      <td>0</td>\n",
       "      <td>0</td>\n",
       "      <td>1</td>\n",
       "      <td>0</td>\n",
       "      <td>0</td>\n",
       "      <td>0</td>\n",
       "      <td>0</td>\n",
       "    </tr>\n",
       "    <tr>\n",
       "      <th>2</th>\n",
       "      <td>1.0</td>\n",
       "      <td>1.0</td>\n",
       "      <td>0.802828</td>\n",
       "      <td>0.542876</td>\n",
       "      <td>0.108154</td>\n",
       "      <td>0.413679</td>\n",
       "      <td>0.556325</td>\n",
       "      <td>0.012879</td>\n",
       "      <td>0.610515</td>\n",
       "      <td>0.501938</td>\n",
       "      <td>...</td>\n",
       "      <td>0.0</td>\n",
       "      <td>0</td>\n",
       "      <td>1</td>\n",
       "      <td>0</td>\n",
       "      <td>0</td>\n",
       "      <td>1</td>\n",
       "      <td>0</td>\n",
       "      <td>0</td>\n",
       "      <td>0</td>\n",
       "      <td>0</td>\n",
       "    </tr>\n",
       "    <tr>\n",
       "      <th>3</th>\n",
       "      <td>1.0</td>\n",
       "      <td>1.0</td>\n",
       "      <td>0.806615</td>\n",
       "      <td>0.533710</td>\n",
       "      <td>0.110562</td>\n",
       "      <td>0.390660</td>\n",
       "      <td>0.568724</td>\n",
       "      <td>0.019901</td>\n",
       "      <td>0.606730</td>\n",
       "      <td>0.502613</td>\n",
       "      <td>...</td>\n",
       "      <td>0.0</td>\n",
       "      <td>0</td>\n",
       "      <td>1</td>\n",
       "      <td>0</td>\n",
       "      <td>0</td>\n",
       "      <td>1</td>\n",
       "      <td>0</td>\n",
       "      <td>0</td>\n",
       "      <td>0</td>\n",
       "      <td>0</td>\n",
       "    </tr>\n",
       "    <tr>\n",
       "      <th>4</th>\n",
       "      <td>1.0</td>\n",
       "      <td>1.0</td>\n",
       "      <td>0.805455</td>\n",
       "      <td>0.529496</td>\n",
       "      <td>0.109395</td>\n",
       "      <td>0.397752</td>\n",
       "      <td>0.560606</td>\n",
       "      <td>0.016963</td>\n",
       "      <td>0.607781</td>\n",
       "      <td>0.500253</td>\n",
       "      <td>...</td>\n",
       "      <td>0.0</td>\n",
       "      <td>0</td>\n",
       "      <td>1</td>\n",
       "      <td>0</td>\n",
       "      <td>0</td>\n",
       "      <td>1</td>\n",
       "      <td>0</td>\n",
       "      <td>0</td>\n",
       "      <td>0</td>\n",
       "      <td>0</td>\n",
       "    </tr>\n",
       "  </tbody>\n",
       "</table>\n",
       "<p>5 rows × 32 columns</p>\n",
       "</div>"
      ],
      "text/plain": [
       "   of_confidence  of_success  of_gaze_0_x  of_gaze_0_y  of_gaze_0_z  \\\n",
       "0            1.0         1.0     0.802148     0.562868     0.109746   \n",
       "1            1.0         1.0     0.805980     0.553090     0.111663   \n",
       "2            1.0         1.0     0.802828     0.542876     0.108154   \n",
       "3            1.0         1.0     0.806615     0.533710     0.110562   \n",
       "4            1.0         1.0     0.805455     0.529496     0.109395   \n",
       "\n",
       "   of_gaze_1_x  of_gaze_1_y  of_gaze_1_z  of_gaze_angle_x  of_gaze_angle_y  \\\n",
       "0     0.394162     0.568244     0.018943         0.606309         0.508006   \n",
       "1     0.395043     0.564921     0.018227         0.607571         0.505478   \n",
       "2     0.413679     0.556325     0.012879         0.610515         0.501938   \n",
       "3     0.390660     0.568724     0.019901         0.606730         0.502613   \n",
       "4     0.397752     0.560606     0.016963         0.607781         0.500253   \n",
       "\n",
       "    ...     ts_attempt  skill_NC  skill_OS  skill_EM  diff_1  diff_2  diff_3  \\\n",
       "0   ...            0.0         0         1         0       0       1       0   \n",
       "1   ...            0.0         0         1         0       0       1       0   \n",
       "2   ...            0.0         0         1         0       0       1       0   \n",
       "3   ...            0.0         0         1         0       0       1       0   \n",
       "4   ...            0.0         0         1         0       0       1       0   \n",
       "\n",
       "   diff_4  diff_5  no_game  \n",
       "0       0       0        0  \n",
       "1       0       0        0  \n",
       "2       0       0        0  \n",
       "3       0       0        0  \n",
       "4       0       0        0  \n",
       "\n",
       "[5 rows x 32 columns]"
      ]
     },
     "execution_count": 46,
     "metadata": {},
     "output_type": "execute_result"
    }
   ],
   "source": [
    "data7.head()"
   ]
  },
  {
   "cell_type": "markdown",
   "metadata": {},
   "source": [
    "Note: keep timestamp and session_num until right before running the model in all feature sets"
   ]
  },
  {
   "cell_type": "markdown",
   "metadata": {},
   "source": [
    "### Step 1: Train Test Split "
   ]
  },
  {
   "cell_type": "markdown",
   "metadata": {},
   "source": [
    "Train on Earlier Sessions, Test on Later Sessions 70-30"
   ]
  },
  {
   "cell_type": "code",
   "execution_count": 64,
   "metadata": {
    "collapsed": true
   },
   "outputs": [],
   "source": [
    "# Feature Set 4 is used for each participant in set\n",
    "FS = data10"
   ]
  },
  {
   "cell_type": "code",
   "execution_count": 65,
   "metadata": {
    "collapsed": true
   },
   "outputs": [],
   "source": [
    "# sort values chronologically\n",
    "FS = FS.sort_values(['session_num', 'timestamp'])"
   ]
  },
  {
   "cell_type": "code",
   "execution_count": 66,
   "metadata": {},
   "outputs": [
    {
     "name": "stdout",
     "output_type": "stream",
     "text": [
      "2.1\n",
      "2.2\n",
      "3.1\n",
      "3.2\n",
      "4.2\n",
      "4.3\n",
      "4.4\n",
      "5.1\n",
      "5.2\n",
      "7.1\n",
      "7.2\n",
      "8.0\n",
      "9.0\n",
      "10.1\n",
      "10.3\n",
      "11.0\n",
      "12.1\n",
      "12.2\n",
      "13.0\n",
      "14.2\n",
      "15.1\n",
      "15.2\n",
      "16.0\n",
      "17.1\n",
      "17.2\n",
      "18.2\n",
      "18.3\n",
      "19.0\n",
      "20.3\n",
      "21.0\n",
      "22.2\n"
     ]
    }
   ],
   "source": [
    "vals = []\n",
    "for val in FS['session_num']:\n",
    "    if val not in vals:\n",
    "        vals.append(val)\n",
    "        print(val)"
   ]
  },
  {
   "cell_type": "code",
   "execution_count": 40,
   "metadata": {
    "collapsed": true
   },
   "outputs": [],
   "source": [
    "# session thresholds for 70 30 train-test split\n",
    "session_threshold_p8 = 8\n",
    "session_threshold_p3 = 29\n",
    "session_threshold_p7 = 17\n",
    "session_threshold_p5 = 13\n",
    "session_threshold_p9 = 9\n",
    "session_threshold_p10 = 15.2"
   ]
  },
  {
   "cell_type": "code",
   "execution_count": 9,
   "metadata": {
    "collapsed": true
   },
   "outputs": [],
   "source": [
    "def session_split(sess_threshold):\n",
    "    train = FS[(FS['session_num'] <= sess_threshold)] \n",
    "    test = FS[(FS['session_num'] > sess_threshold)]\n",
    "\n",
    "    # drop columns needed for split\n",
    "    train2 = train.drop(columns=['timestamp'])\n",
    "    test2 = test.drop(columns=['timestamp'])\n",
    "\n",
    "    X_train2 = train2.drop(columns=['engagement'])\n",
    "    y_train2 = train2['engagement']\n",
    "\n",
    "    X_test2 = test2.drop(columns=['engagement'])\n",
    "    y_test2 = test2['engagement']\n",
    "    \n",
    "    return X_train2, y_train2, X_test2, y_test2"
   ]
  },
  {
   "cell_type": "code",
   "execution_count": 67,
   "metadata": {
    "collapsed": true
   },
   "outputs": [],
   "source": [
    "X_train2, y_train2, X_test2, y_test2 = session_split(session_threshold_p10)"
   ]
  },
  {
   "cell_type": "markdown",
   "metadata": {},
   "source": [
    "### Step 2: Implement the HMM"
   ]
  },
  {
   "cell_type": "code",
   "execution_count": 11,
   "metadata": {
    "collapsed": true
   },
   "outputs": [],
   "source": [
    "from hmmlearn import hmm\n",
    "from hmmlearn.hmm import GaussianHMM\n",
    "# 3 questions from HMM:\n",
    "# (1) given model, what is likelihood of sequence S happening?\n",
    "# (2) given model and sequence S, what is optimal hidden state sequence?\n",
    "# (3) given sequence S and # of hidden states, what is optimal model to maximize probability of S?"
   ]
  },
  {
   "cell_type": "markdown",
   "metadata": {},
   "source": [
    "### P8 FS4"
   ]
  },
  {
   "cell_type": "code",
   "execution_count": 12,
   "metadata": {},
   "outputs": [],
   "source": [
    "# create lengths array of session in train data\n",
    "all_lengths_8 = X_train2['session_num'].value_counts(sort=False).tolist()\n",
    "X_train2 = X_train2.drop(columns=['session_num'])"
   ]
  },
  {
   "cell_type": "code",
   "execution_count": 13,
   "metadata": {},
   "outputs": [
    {
     "name": "stderr",
     "output_type": "stream",
     "text": [
      "         1     1010234.3618             +nan\n",
      "         2     2417962.5265    +1407728.1647\n",
      "         3     2597384.2574     +179421.7309\n",
      "         4     2673304.2101      +75919.9526\n",
      "         5     2760566.2938      +87262.0837\n",
      "         6     2782146.9887      +21580.6949\n",
      "         7     2824261.8818      +42114.8931\n",
      "         8     2916239.6865      +91977.8047\n",
      "         9     2954788.3400      +38548.6535\n",
      "        10     2965564.6379      +10776.2978\n",
      "        11     2965982.3034        +417.6655\n",
      "        12     2966010.5360         +28.2326\n",
      "        13     2966012.3163          +1.7804\n",
      "        14     2966012.4634          +0.1471\n"
     ]
    },
    {
     "name": "stdout",
     "output_type": "stream",
     "text": [
      "deque([2966012.476987693, 2966012.4782911385], maxlen=2)\n"
     ]
    },
    {
     "name": "stderr",
     "output_type": "stream",
     "text": [
      "        15     2966012.4770          +0.0135\n",
      "        16     2966012.4783          +0.0013\n"
     ]
    }
   ],
   "source": [
    "# model takes array of dimension (n_samples, n_features)\n",
    "model_p8 = GaussianHMM(n_components=2, n_iter=1000, algorithm = 'viterbi', verbose = True).fit(X_train2, all_lengths_8)\n",
    "print(model_p8.monitor_.history)"
   ]
  },
  {
   "cell_type": "code",
   "execution_count": 19,
   "metadata": {},
   "outputs": [],
   "source": [
    "all_lengths_8_test = X_test2['session_num'].value_counts(sort=False).tolist()\n",
    "X_test2 = X_test2.drop(columns=['session_num'])"
   ]
  },
  {
   "cell_type": "code",
   "execution_count": 26,
   "metadata": {},
   "outputs": [
    {
     "name": "stdout",
     "output_type": "stream",
     "text": [
      "Accuracy for FS4 P8 HMM: 0.577750923001\n",
      "AUC: 0.692824033797\n",
      "[[41603 22974]\n",
      " [21401 19114]]\n",
      "             precision    recall  f1-score   support\n",
      "\n",
      "        0.0       0.66      0.64      0.65     64577\n",
      "        1.0       0.45      0.47      0.46     40515\n",
      "\n",
      "avg / total       0.58      0.58      0.58    105092\n",
      "\n"
     ]
    }
   ],
   "source": [
    "#evaluate FS4 P8 HMM\n",
    "FS4_pred_p8 = model_p8.predict(X_test2, all_lengths_8_test)\n",
    "scores2 = model_p8.predict_proba(X_test2.values, all_lengths_8_test)\n",
    "scores2 = scores2[: ,1]\n",
    "print(\"Accuracy for FS4 P8 HMM:\",accuracy_score(y_test2, FS4_pred_p8))\n",
    "print(\"AUC:\",roc_auc_score(y_test2, scores2)) \n",
    "print(metrics.confusion_matrix(y_test2, FS4_pred_p8))\n",
    "print(metrics.classification_report(y_test2, FS4_pred_p8))"
   ]
  },
  {
   "cell_type": "markdown",
   "metadata": {},
   "source": [
    "### P3 FS4"
   ]
  },
  {
   "cell_type": "code",
   "execution_count": 31,
   "metadata": {},
   "outputs": [
    {
     "data": {
      "text/plain": [
       "(86393, 30)"
      ]
     },
     "execution_count": 31,
     "metadata": {},
     "output_type": "execute_result"
    }
   ],
   "source": [
    "X_train2.shape"
   ]
  },
  {
   "cell_type": "code",
   "execution_count": 33,
   "metadata": {
    "collapsed": true
   },
   "outputs": [],
   "source": [
    "# create lengths array of session in train data\n",
    "all_lengths_3 = X_train2['session_num'].value_counts(sort=False).tolist()\n",
    "X_train2 = X_train2.drop(columns=['session_num'])"
   ]
  },
  {
   "cell_type": "code",
   "execution_count": 34,
   "metadata": {},
   "outputs": [
    {
     "name": "stderr",
     "output_type": "stream",
     "text": [
      "         1      334724.1304             +nan\n",
      "         2      642242.4302     +307518.2998\n",
      "         3      716427.2887      +74184.8585\n",
      "         4      863640.7308     +147213.4420\n",
      "         5      990225.0465     +126584.3157\n"
     ]
    },
    {
     "name": "stdout",
     "output_type": "stream",
     "text": [
      "deque([1211899.5449388099, 1211899.54493902], maxlen=2)\n"
     ]
    },
    {
     "name": "stderr",
     "output_type": "stream",
     "text": [
      "         6     1211899.5449     +221674.4985\n",
      "         7     1211899.5449          +0.0000\n"
     ]
    }
   ],
   "source": [
    "# model takes array of dimension (n_samples, n_features)\n",
    "model_p3 = GaussianHMM(n_components=2, n_iter=1000, algorithm = 'viterbi', verbose = True).fit(X_train2, all_lengths_3)\n",
    "print(model_p3.monitor_.history)"
   ]
  },
  {
   "cell_type": "code",
   "execution_count": 35,
   "metadata": {
    "collapsed": true
   },
   "outputs": [],
   "source": [
    "all_lengths_3_test = X_test2['session_num'].value_counts(sort=False).tolist()\n",
    "X_test2 = X_test2.drop(columns=['session_num'])"
   ]
  },
  {
   "cell_type": "code",
   "execution_count": 36,
   "metadata": {},
   "outputs": [
    {
     "name": "stdout",
     "output_type": "stream",
     "text": [
      "Accuracy for FS4 P3 HMM: 0.71677864875\n",
      "AUC: 0.7386119225\n",
      "[[ 7173  2118]\n",
      " [13057 31232]]\n",
      "             precision    recall  f1-score   support\n",
      "\n",
      "        0.0       0.35      0.77      0.49      9291\n",
      "        1.0       0.94      0.71      0.80     44289\n",
      "\n",
      "avg / total       0.84      0.72      0.75     53580\n",
      "\n"
     ]
    }
   ],
   "source": [
    "#evaluate FS4 P3 HMM\n",
    "FS4_pred_p3 = model_p3.predict(X_test2, all_lengths_3_test)\n",
    "scores2 = model_p3.predict_proba(X_test2.values, all_lengths_3_test)\n",
    "scores2 = scores2[: ,1]\n",
    "print(\"Accuracy for FS4 P3 HMM:\",accuracy_score(y_test2, FS4_pred_p3))\n",
    "print(\"AUC:\",roc_auc_score(y_test2, scores2)) \n",
    "print(metrics.confusion_matrix(y_test2, FS4_pred_p3))\n",
    "print(metrics.classification_report(y_test2, FS4_pred_p3))"
   ]
  },
  {
   "cell_type": "markdown",
   "metadata": {},
   "source": [
    "### P7 FS4"
   ]
  },
  {
   "cell_type": "code",
   "execution_count": 42,
   "metadata": {
    "collapsed": true
   },
   "outputs": [],
   "source": [
    "# create lengths array of session in train data\n",
    "all_lengths_7 = X_train2['session_num'].value_counts(sort=False).tolist()\n",
    "X_train2 = X_train2.drop(columns=['session_num'])"
   ]
  },
  {
   "cell_type": "code",
   "execution_count": 43,
   "metadata": {},
   "outputs": [
    {
     "name": "stderr",
     "output_type": "stream",
     "text": [
      "         1     2109038.8848             +nan\n",
      "         2     4765060.7865    +2656021.9017\n",
      "         3     7568081.6547    +2803020.8682\n"
     ]
    },
    {
     "name": "stdout",
     "output_type": "stream",
     "text": [
      "deque([7568081.6546588773, 7568081.6546559846], maxlen=2)\n"
     ]
    },
    {
     "name": "stderr",
     "output_type": "stream",
     "text": [
      "         4     7568081.6547          -0.0000\n"
     ]
    }
   ],
   "source": [
    "# model takes array of dimension (n_samples, n_features)\n",
    "model_p7 = GaussianHMM(n_components=2, n_iter=1000, algorithm = 'viterbi', verbose = True).fit(X_train2, all_lengths_7)\n",
    "print(model_p7.monitor_.history)"
   ]
  },
  {
   "cell_type": "code",
   "execution_count": 44,
   "metadata": {
    "collapsed": true
   },
   "outputs": [],
   "source": [
    "all_lengths_7_test = X_test2['session_num'].value_counts(sort=False).tolist()\n",
    "X_test2 = X_test2.drop(columns=['session_num'])"
   ]
  },
  {
   "cell_type": "code",
   "execution_count": 45,
   "metadata": {},
   "outputs": [
    {
     "name": "stdout",
     "output_type": "stream",
     "text": [
      "Accuracy for FS4 P7 HMM: 0.166443598181\n",
      "AUC: 0.188475758366\n",
      "[[ 1217 75036]\n",
      " [37690 21292]]\n",
      "             precision    recall  f1-score   support\n",
      "\n",
      "        0.0       0.03      0.02      0.02     76253\n",
      "        1.0       0.22      0.36      0.27     58982\n",
      "\n",
      "avg / total       0.11      0.17      0.13    135235\n",
      "\n"
     ]
    }
   ],
   "source": [
    "#evaluate FS4 P7 HMM\n",
    "FS4_pred_p7 = model_p7.predict(X_test2, all_lengths_7_test)\n",
    "scores2 = model_p7.predict_proba(X_test2.values, all_lengths_7_test)\n",
    "scores2 = scores2[: ,1]\n",
    "print(\"Accuracy for FS4 P7 HMM:\",accuracy_score(y_test2, FS4_pred_p7))\n",
    "print(\"AUC:\",roc_auc_score(y_test2, scores2)) \n",
    "print(metrics.confusion_matrix(y_test2, FS4_pred_p7))\n",
    "print(metrics.classification_report(y_test2, FS4_pred_p7))"
   ]
  },
  {
   "cell_type": "markdown",
   "metadata": {},
   "source": [
    "### P5 FS4 HMM"
   ]
  },
  {
   "cell_type": "code",
   "execution_count": 51,
   "metadata": {
    "collapsed": true
   },
   "outputs": [],
   "source": [
    "# create lengths array of session in train data\n",
    "all_lengths_5 = X_train2['session_num'].value_counts(sort=False).tolist()\n",
    "X_train2 = X_train2.drop(columns=['session_num'])"
   ]
  },
  {
   "cell_type": "code",
   "execution_count": 52,
   "metadata": {},
   "outputs": [
    {
     "name": "stderr",
     "output_type": "stream",
     "text": [
      "         1     2090301.3049             +nan\n",
      "         2     6467552.6495    +4377251.3446\n",
      "         3    10259784.6480    +3792231.9985\n",
      "         4    11318995.9562    +1059211.3082\n"
     ]
    },
    {
     "name": "stdout",
     "output_type": "stream",
     "text": [
      "deque([11318995.956174908, 11318995.956170959], maxlen=2)\n"
     ]
    },
    {
     "name": "stderr",
     "output_type": "stream",
     "text": [
      "         5    11318995.9562          -0.0000\n"
     ]
    }
   ],
   "source": [
    "# model takes array of dimension (n_samples, n_features)\n",
    "model_p5 = GaussianHMM(n_components=2, n_iter=1000, algorithm = 'viterbi', verbose = True).fit(X_train2, all_lengths_5)\n",
    "print(model_p5.monitor_.history)"
   ]
  },
  {
   "cell_type": "code",
   "execution_count": 53,
   "metadata": {
    "collapsed": true
   },
   "outputs": [],
   "source": [
    "all_lengths_5_test = X_test2['session_num'].value_counts(sort=False).tolist()\n",
    "X_test2 = X_test2.drop(columns=['session_num'])"
   ]
  },
  {
   "cell_type": "code",
   "execution_count": 54,
   "metadata": {},
   "outputs": [
    {
     "name": "stdout",
     "output_type": "stream",
     "text": [
      "Accuracy for FS4 P5 HMM: 0.299378691417\n",
      "AUC: 0.304511285228\n",
      "[[ 2839  6249]\n",
      " [30287 12773]]\n",
      "             precision    recall  f1-score   support\n",
      "\n",
      "          0       0.09      0.31      0.13      9088\n",
      "          1       0.67      0.30      0.41     43060\n",
      "\n",
      "avg / total       0.57      0.30      0.36     52148\n",
      "\n"
     ]
    }
   ],
   "source": [
    "#evaluate FS4 P5 HMM\n",
    "FS4_pred_p5 = model_p5.predict(X_test2, all_lengths_5_test)\n",
    "scores2 = model_p5.predict_proba(X_test2.values, all_lengths_5_test)\n",
    "scores2 = scores2[: ,1]\n",
    "print(\"Accuracy for FS4 P5 HMM:\",accuracy_score(y_test2, FS4_pred_p5))\n",
    "print(\"AUC:\",roc_auc_score(y_test2, scores2)) \n",
    "print(metrics.confusion_matrix(y_test2, FS4_pred_p5))\n",
    "print(metrics.classification_report(y_test2, FS4_pred_p5))"
   ]
  },
  {
   "cell_type": "markdown",
   "metadata": {},
   "source": [
    "### P9 FS4 HMM"
   ]
  },
  {
   "cell_type": "code",
   "execution_count": 59,
   "metadata": {
    "collapsed": true
   },
   "outputs": [],
   "source": [
    "# create lengths array of session in train data\n",
    "all_lengths_9 = X_train2['session_num'].value_counts(sort=False).tolist()\n",
    "X_train2 = X_train2.drop(columns=['session_num'])"
   ]
  },
  {
   "cell_type": "code",
   "execution_count": 60,
   "metadata": {},
   "outputs": [
    {
     "name": "stderr",
     "output_type": "stream",
     "text": [
      "         1     1326061.2378             +nan\n",
      "         2     2427889.4972    +1101828.2594\n",
      "         3     4666415.5990    +2238526.1018\n",
      "         4     4964029.4827     +297613.8837\n",
      "         5     6132451.9192    +1168422.4365\n",
      "         6     6875929.1679     +743477.2487\n",
      "         7     7378169.6439     +502240.4760\n",
      "         8     7378451.7859        +282.1421\n"
     ]
    },
    {
     "name": "stdout",
     "output_type": "stream",
     "text": [
      "deque([7378451.7859358806, 7378451.7859390574], maxlen=2)\n"
     ]
    },
    {
     "name": "stderr",
     "output_type": "stream",
     "text": [
      "         9     7378451.7859          +0.0000\n"
     ]
    }
   ],
   "source": [
    "# model takes array of dimension (n_samples, n_features)\n",
    "model_p9 = GaussianHMM(n_components=2, n_iter=1000, algorithm = 'viterbi', verbose = True).fit(X_train2, all_lengths_9)\n",
    "print(model_p9.monitor_.history)"
   ]
  },
  {
   "cell_type": "code",
   "execution_count": 61,
   "metadata": {
    "collapsed": true
   },
   "outputs": [],
   "source": [
    "all_lengths_9_test = X_test2['session_num'].value_counts(sort=False).tolist()\n",
    "X_test2 = X_test2.drop(columns=['session_num'])"
   ]
  },
  {
   "cell_type": "code",
   "execution_count": 63,
   "metadata": {},
   "outputs": [
    {
     "name": "stdout",
     "output_type": "stream",
     "text": [
      "Accuracy for FS4 P9 HMM: 0.296315102674\n",
      "AUC: 0.497699591787\n",
      "[[ 8691 98549]\n",
      " [30333 45580]]\n",
      "             precision    recall  f1-score   support\n",
      "\n",
      "          0       0.22      0.08      0.12    107240\n",
      "          1       0.32      0.60      0.41     75913\n",
      "\n",
      "avg / total       0.26      0.30      0.24    183153\n",
      "\n"
     ]
    }
   ],
   "source": [
    "#evaluate FS4 P9 HMM\n",
    "FS4_pred_p9 = model_p5.predict(X_test2, all_lengths_9_test)\n",
    "scores2 = model_p9.predict_proba(X_test2.values, all_lengths_9_test)\n",
    "scores2 = scores2[: ,1]\n",
    "print(\"Accuracy for FS4 P9 HMM:\",accuracy_score(y_test2, FS4_pred_p9))\n",
    "print(\"AUC:\",roc_auc_score(y_test2, scores2)) \n",
    "print(metrics.confusion_matrix(y_test2, FS4_pred_p9))\n",
    "print(metrics.classification_report(y_test2, FS4_pred_p9))"
   ]
  },
  {
   "cell_type": "markdown",
   "metadata": {},
   "source": [
    "### P10 FS4 HMM"
   ]
  },
  {
   "cell_type": "code",
   "execution_count": 68,
   "metadata": {
    "collapsed": true
   },
   "outputs": [],
   "source": [
    "# create lengths array of session in train data\n",
    "all_lengths_10 = X_train2['session_num'].value_counts(sort=False).tolist()\n",
    "X_train2 = X_train2.drop(columns=['session_num'])"
   ]
  },
  {
   "cell_type": "code",
   "execution_count": 69,
   "metadata": {},
   "outputs": [
    {
     "name": "stderr",
     "output_type": "stream",
     "text": [
      "         1     3142183.2835             +nan\n",
      "         2     5366809.5093    +2224626.2257\n",
      "         3     6191427.6169     +824618.1076\n",
      "         4     7005523.4161     +814095.7992\n",
      "         5     8044629.0339    +1039105.6178\n",
      "         6     9820489.8108    +1775860.7769\n",
      "         7    15006479.4096    +5185989.5988\n",
      "         8    25732219.7503   +10725740.3407\n"
     ]
    },
    {
     "name": "stdout",
     "output_type": "stream",
     "text": [
      "deque([25732219.750330932, 25732219.750343643], maxlen=2)\n"
     ]
    },
    {
     "name": "stderr",
     "output_type": "stream",
     "text": [
      "         9    25732219.7503          +0.0000\n"
     ]
    }
   ],
   "source": [
    "# model takes array of dimension (n_samples, n_features)\n",
    "model_p10 = GaussianHMM(n_components=2, n_iter=1000, algorithm = 'viterbi', verbose = True).fit(X_train2, all_lengths_10)\n",
    "print(model_p10.monitor_.history)"
   ]
  },
  {
   "cell_type": "code",
   "execution_count": 70,
   "metadata": {
    "collapsed": true
   },
   "outputs": [],
   "source": [
    "all_lengths_10_test = X_test2['session_num'].value_counts(sort=False).tolist()\n",
    "X_test2 = X_test2.drop(columns=['session_num'])"
   ]
  },
  {
   "cell_type": "code",
   "execution_count": 72,
   "metadata": {},
   "outputs": [
    {
     "name": "stdout",
     "output_type": "stream",
     "text": [
      "Accuracy for FS4 P10 HMM: 0.677394545347\n",
      "AUC: 0.643238102732\n",
      "[[38091 35070]\n",
      " [30366 99309]]\n",
      "             precision    recall  f1-score   support\n",
      "\n",
      "        0.0       0.56      0.52      0.54     73161\n",
      "        1.0       0.74      0.77      0.75    129675\n",
      "\n",
      "avg / total       0.67      0.68      0.67    202836\n",
      "\n"
     ]
    }
   ],
   "source": [
    "#evaluate FS4 P10 HMM\n",
    "FS4_pred_p10 = model_p10.predict(X_test2, all_lengths_10_test)\n",
    "scores2 = model_p10.predict_proba(X_test2.values, all_lengths_10_test)\n",
    "scores2 = scores2[: ,1]\n",
    "print(\"Accuracy for FS4 P10 HMM:\",accuracy_score(y_test2, FS4_pred_p10))\n",
    "print(\"AUC:\",roc_auc_score(y_test2, scores2)) \n",
    "print(metrics.confusion_matrix(y_test2, FS4_pred_p10))\n",
    "print(metrics.classification_report(y_test2, FS4_pred_p10))"
   ]
  },
  {
   "cell_type": "code",
   "execution_count": null,
   "metadata": {
    "collapsed": true
   },
   "outputs": [],
   "source": []
  }
 ],
 "metadata": {
  "kernelspec": {
   "display_name": "Python [default]",
   "language": "python",
   "name": "python3"
  },
  "language_info": {
   "codemirror_mode": {
    "name": "ipython",
    "version": 3
   },
   "file_extension": ".py",
   "mimetype": "text/x-python",
   "name": "python",
   "nbconvert_exporter": "python",
   "pygments_lexer": "ipython3",
   "version": "3.5.6"
  }
 },
 "nbformat": 4,
 "nbformat_minor": 2
}
