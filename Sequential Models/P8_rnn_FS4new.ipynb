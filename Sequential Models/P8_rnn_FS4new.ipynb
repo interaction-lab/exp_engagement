{
 "cells": [
  {
   "cell_type": "code",
   "execution_count": 1,
   "metadata": {
    "collapsed": true
   },
   "outputs": [],
   "source": [
    "# Template Notebook for Engagement Classification Model\n",
    "\n",
    "# ToDo/Models to run here: https://docs.google.com/document/d/18EJpFesMEl9Q7C1AZzDeq6uy7c8tDMvEJ_j58-MmiBI/edit?usp=sharing\n",
    "# Use p8_data_processed.csv here: https://drive.google.com/drive/folders/19aJUAlkTMz7PcZE1q4hogFkjVtwYGcMT\n",
    "# Upload code to help-seeking github: https://github.com/interaction-lab/help_seeking\n",
    "# Record model results here: https://docs.google.com/spreadsheets/d/16ye54fSSEuAuDL_j56UIeDB-rIIrxq_kPbtyPRQOrVI/edit?usp=sharing"
   ]
  },
  {
   "cell_type": "code",
   "execution_count": 2,
   "metadata": {
    "collapsed": true
   },
   "outputs": [],
   "source": [
    "# Imports\n",
    "\n",
    "import pandas as pd\n",
    "import numpy as np\n",
    "from pandas import *\n",
    "import os\n",
    "from sklearn.preprocessing import LabelEncoder\n",
    "from sklearn.model_selection import train_test_split\n",
    "import random"
   ]
  },
  {
   "cell_type": "code",
   "execution_count": 8,
   "metadata": {},
   "outputs": [],
   "source": [
    "# Load Data\n",
    "# Warning: this will probably take some time\n",
    "# Adjust file path based on your computer\n",
    "\n",
    "file8 = 'p8_data_FS4new.csv'\n",
    "data8 = pd.read_csv(file8)"
   ]
  },
  {
   "cell_type": "code",
   "execution_count": 10,
   "metadata": {},
   "outputs": [
    {
     "data": {
      "text/html": [
       "<div>\n",
       "<style scoped>\n",
       "    .dataframe tbody tr th:only-of-type {\n",
       "        vertical-align: middle;\n",
       "    }\n",
       "\n",
       "    .dataframe tbody tr th {\n",
       "        vertical-align: top;\n",
       "    }\n",
       "\n",
       "    .dataframe thead th {\n",
       "        text-align: right;\n",
       "    }\n",
       "</style>\n",
       "<table border=\"1\" class=\"dataframe\">\n",
       "  <thead>\n",
       "    <tr style=\"text-align: right;\">\n",
       "      <th></th>\n",
       "      <th>of_confidence</th>\n",
       "      <th>of_success</th>\n",
       "      <th>of_gaze_0_x</th>\n",
       "      <th>of_gaze_0_y</th>\n",
       "      <th>of_gaze_0_z</th>\n",
       "      <th>of_gaze_1_x</th>\n",
       "      <th>of_gaze_1_y</th>\n",
       "      <th>of_gaze_1_z</th>\n",
       "      <th>of_gaze_angle_x</th>\n",
       "      <th>of_gaze_angle_y</th>\n",
       "      <th>...</th>\n",
       "      <th>ts_attempt</th>\n",
       "      <th>skill_NC</th>\n",
       "      <th>skill_OS</th>\n",
       "      <th>skill_EM</th>\n",
       "      <th>diff_1</th>\n",
       "      <th>diff_2</th>\n",
       "      <th>diff_3</th>\n",
       "      <th>diff_4</th>\n",
       "      <th>diff_5</th>\n",
       "      <th>no_game</th>\n",
       "    </tr>\n",
       "  </thead>\n",
       "  <tbody>\n",
       "    <tr>\n",
       "      <th>0</th>\n",
       "      <td>0.0</td>\n",
       "      <td>0.0</td>\n",
       "      <td>0.49709</td>\n",
       "      <td>0.500431</td>\n",
       "      <td>0.519632</td>\n",
       "      <td>0.51422</td>\n",
       "      <td>0.502452</td>\n",
       "      <td>0.531622</td>\n",
       "      <td>0.588569</td>\n",
       "      <td>0.514524</td>\n",
       "      <td>...</td>\n",
       "      <td>0.0</td>\n",
       "      <td>0</td>\n",
       "      <td>0</td>\n",
       "      <td>0</td>\n",
       "      <td>0</td>\n",
       "      <td>0</td>\n",
       "      <td>0</td>\n",
       "      <td>0</td>\n",
       "      <td>0</td>\n",
       "      <td>1</td>\n",
       "    </tr>\n",
       "    <tr>\n",
       "      <th>1</th>\n",
       "      <td>0.0</td>\n",
       "      <td>0.0</td>\n",
       "      <td>0.49709</td>\n",
       "      <td>0.500431</td>\n",
       "      <td>0.519632</td>\n",
       "      <td>0.51422</td>\n",
       "      <td>0.502452</td>\n",
       "      <td>0.531622</td>\n",
       "      <td>0.588569</td>\n",
       "      <td>0.514524</td>\n",
       "      <td>...</td>\n",
       "      <td>0.0</td>\n",
       "      <td>0</td>\n",
       "      <td>0</td>\n",
       "      <td>0</td>\n",
       "      <td>0</td>\n",
       "      <td>0</td>\n",
       "      <td>0</td>\n",
       "      <td>0</td>\n",
       "      <td>0</td>\n",
       "      <td>1</td>\n",
       "    </tr>\n",
       "    <tr>\n",
       "      <th>2</th>\n",
       "      <td>0.0</td>\n",
       "      <td>0.0</td>\n",
       "      <td>0.49709</td>\n",
       "      <td>0.500431</td>\n",
       "      <td>0.519632</td>\n",
       "      <td>0.51422</td>\n",
       "      <td>0.502452</td>\n",
       "      <td>0.531622</td>\n",
       "      <td>0.588569</td>\n",
       "      <td>0.514524</td>\n",
       "      <td>...</td>\n",
       "      <td>0.0</td>\n",
       "      <td>0</td>\n",
       "      <td>0</td>\n",
       "      <td>0</td>\n",
       "      <td>0</td>\n",
       "      <td>0</td>\n",
       "      <td>0</td>\n",
       "      <td>0</td>\n",
       "      <td>0</td>\n",
       "      <td>1</td>\n",
       "    </tr>\n",
       "    <tr>\n",
       "      <th>3</th>\n",
       "      <td>0.0</td>\n",
       "      <td>0.0</td>\n",
       "      <td>0.49709</td>\n",
       "      <td>0.500431</td>\n",
       "      <td>0.519632</td>\n",
       "      <td>0.51422</td>\n",
       "      <td>0.502452</td>\n",
       "      <td>0.531622</td>\n",
       "      <td>0.588569</td>\n",
       "      <td>0.514524</td>\n",
       "      <td>...</td>\n",
       "      <td>0.0</td>\n",
       "      <td>0</td>\n",
       "      <td>0</td>\n",
       "      <td>0</td>\n",
       "      <td>0</td>\n",
       "      <td>0</td>\n",
       "      <td>0</td>\n",
       "      <td>0</td>\n",
       "      <td>0</td>\n",
       "      <td>1</td>\n",
       "    </tr>\n",
       "    <tr>\n",
       "      <th>4</th>\n",
       "      <td>0.0</td>\n",
       "      <td>0.0</td>\n",
       "      <td>0.49709</td>\n",
       "      <td>0.500431</td>\n",
       "      <td>0.519632</td>\n",
       "      <td>0.51422</td>\n",
       "      <td>0.502452</td>\n",
       "      <td>0.531622</td>\n",
       "      <td>0.588569</td>\n",
       "      <td>0.514524</td>\n",
       "      <td>...</td>\n",
       "      <td>0.0</td>\n",
       "      <td>0</td>\n",
       "      <td>0</td>\n",
       "      <td>0</td>\n",
       "      <td>0</td>\n",
       "      <td>0</td>\n",
       "      <td>0</td>\n",
       "      <td>0</td>\n",
       "      <td>0</td>\n",
       "      <td>1</td>\n",
       "    </tr>\n",
       "  </tbody>\n",
       "</table>\n",
       "<p>5 rows × 33 columns</p>\n",
       "</div>"
      ],
      "text/plain": [
       "   of_confidence  of_success  of_gaze_0_x  of_gaze_0_y  of_gaze_0_z  \\\n",
       "0            0.0         0.0      0.49709     0.500431     0.519632   \n",
       "1            0.0         0.0      0.49709     0.500431     0.519632   \n",
       "2            0.0         0.0      0.49709     0.500431     0.519632   \n",
       "3            0.0         0.0      0.49709     0.500431     0.519632   \n",
       "4            0.0         0.0      0.49709     0.500431     0.519632   \n",
       "\n",
       "   of_gaze_1_x  of_gaze_1_y  of_gaze_1_z  of_gaze_angle_x  of_gaze_angle_y  \\\n",
       "0      0.51422     0.502452     0.531622         0.588569         0.514524   \n",
       "1      0.51422     0.502452     0.531622         0.588569         0.514524   \n",
       "2      0.51422     0.502452     0.531622         0.588569         0.514524   \n",
       "3      0.51422     0.502452     0.531622         0.588569         0.514524   \n",
       "4      0.51422     0.502452     0.531622         0.588569         0.514524   \n",
       "\n",
       "    ...     ts_attempt  skill_NC  skill_OS  skill_EM  diff_1  diff_2  diff_3  \\\n",
       "0   ...            0.0         0         0         0       0       0       0   \n",
       "1   ...            0.0         0         0         0       0       0       0   \n",
       "2   ...            0.0         0         0         0       0       0       0   \n",
       "3   ...            0.0         0         0         0       0       0       0   \n",
       "4   ...            0.0         0         0         0       0       0       0   \n",
       "\n",
       "   diff_4  diff_5  no_game  \n",
       "0       0       0        1  \n",
       "1       0       0        1  \n",
       "2       0       0        1  \n",
       "3       0       0        1  \n",
       "4       0       0        1  \n",
       "\n",
       "[5 rows x 33 columns]"
      ]
     },
     "execution_count": 10,
     "metadata": {},
     "output_type": "execute_result"
    }
   ],
   "source": [
    "data8.head()"
   ]
  },
  {
   "cell_type": "code",
   "execution_count": null,
   "metadata": {
    "collapsed": true
   },
   "outputs": [],
   "source": [
    "# Label Analysis\n",
    "\n",
    "print(data['engagement'].value_counts())\n",
    "print()\n",
    "\n",
    "print(1,data['engagement'].value_counts()[1]/sum(data['engagement'].value_counts()))\n",
    "print(0,data['engagement'].value_counts()[0]/sum(data['engagement'].value_counts()))"
   ]
  },
  {
   "cell_type": "markdown",
   "metadata": {},
   "source": [
    "Note: keep timestamp and session_num until right before running the model in all feature sets"
   ]
  },
  {
   "cell_type": "markdown",
   "metadata": {},
   "source": [
    "### Step 2: Create Windows for RNN (for chosen Feature Set)"
   ]
  },
  {
   "cell_type": "code",
   "execution_count": 11,
   "metadata": {
    "collapsed": true
   },
   "outputs": [],
   "source": [
    "# CHOOSE FEATURE SET, Window Size\n",
    "\n",
    "FS = data8\n",
    "\n",
    "# window_size = # of frames to feed into an RNN at a time\n",
    "window_size = 50 \n",
    "\n",
    "session_threshold = 8 # train on sessions <= 8, test on sessions > 8"
   ]
  },
  {
   "cell_type": "code",
   "execution_count": 12,
   "metadata": {
    "collapsed": true
   },
   "outputs": [],
   "source": [
    "# Sort Data (Temporal Model)\n",
    "\n",
    "FS = FS.sort_values(['session_num', 'timestamp'])"
   ]
  },
  {
   "cell_type": "code",
   "execution_count": 13,
   "metadata": {
    "collapsed": true
   },
   "outputs": [],
   "source": [
    "# Create Windows, mapped by session\n",
    "# throw away end/remainder of session < 50 frames\n",
    "\n",
    "windows = []\n",
    "X_train2 = []\n",
    "y_train2 = []\n",
    "X_test2 = []\n",
    "y_test2 = []\n",
    "\n",
    "curr_session = -1\n",
    "window_start = -1\n",
    "curr_window = -1\n",
    "\n",
    "for i,r in FS.iterrows():\n",
    "    this_session = r['session_num']\n",
    "    \n",
    "    # we've encountered a new session\n",
    "    if curr_session != this_session:\n",
    "        # ignore remainder window\n",
    "        curr_session = this_session\n",
    "        window_start = i\n",
    "        curr_window = 1\n",
    "        continue\n",
    "    \n",
    "    # we've found a complete window\n",
    "    if curr_window == window_size - 1:\n",
    "        to_add = FS[window_start:i+1]\n",
    "        to_add = to_add.drop(columns=['session_num', 'timestamp'])\n",
    "        \n",
    "        windows.append(to_add)\n",
    "        if (curr_session <= session_threshold):\n",
    "            y_train2.append(to_add['engagement'])\n",
    "            X_train2.append(to_add.drop(columns=['engagement']))\n",
    "        else:\n",
    "            y_test2.append(to_add['engagement'])\n",
    "            X_test2.append(to_add.drop(columns=['engagement']))\n",
    "            \n",
    "        window_start = i+1\n",
    "        curr_window = 0\n",
    "        continue \n",
    "        \n",
    "    curr_window += 1"
   ]
  },
  {
   "cell_type": "code",
   "execution_count": 26,
   "metadata": {
    "collapsed": true
   },
   "outputs": [],
   "source": [
    "# Shuffle Windows\n",
    "\n",
    "random.shuffle(windows)\n",
    "\n",
    "y1 = []\n",
    "X1 = []\n",
    "\n",
    "for i in windows:\n",
    "    y1.append(i['engagement'])\n",
    "    X1.append(i.drop(columns=['engagement']))\n",
    "\n",
    "X_train1, X_test1, y_train1, y_test1 = train_test_split(X1, y1, test_size=0.3, random_state=42)"
   ]
  },
  {
   "cell_type": "markdown",
   "metadata": {},
   "source": [
    "### Step 3: Implement Your Model!"
   ]
  },
  {
   "cell_type": "code",
   "execution_count": 15,
   "metadata": {},
   "outputs": [
    {
     "name": "stderr",
     "output_type": "stream",
     "text": [
      "Using TensorFlow backend.\n"
     ]
    }
   ],
   "source": [
    "# For chosen feature set, run on both Train-Test Splits\n",
    "from keras.models import Sequential\n",
    "from keras.layers import Embedding, Input\n",
    "from keras.layers.merge import Concatenate\n",
    "from keras.layers.core import Dense, Activation, Flatten\n",
    "from keras.layers import Dropout, concatenate\n",
    "from keras.layers.recurrent import LSTM\n",
    "from keras.layers.wrappers import Bidirectional\n",
    "from keras.layers.convolutional import Conv1D, MaxPooling1D\n",
    "from keras.callbacks import ModelCheckpoint, EarlyStopping, TensorBoard\n",
    "from keras.optimizers import RMSprop\n",
    "from keras import metrics\n",
    "from keras.models import Model"
   ]
  },
  {
   "cell_type": "code",
   "execution_count": 29,
   "metadata": {},
   "outputs": [
    {
     "data": {
      "text/plain": [
       "3635"
      ]
     },
     "execution_count": 29,
     "metadata": {},
     "output_type": "execute_result"
    }
   ],
   "source": [
    "len(X_train1)\n",
    "len(y_train1)"
   ]
  },
  {
   "cell_type": "code",
   "execution_count": 30,
   "metadata": {},
   "outputs": [
    {
     "name": "stderr",
     "output_type": "stream",
     "text": [
      "/Users/leenamathur/anaconda/envs/caispp/lib/python3.5/site-packages/ipykernel/__main__.py:7: UserWarning: The `input_dim` and `input_length` arguments in recurrent layers are deprecated. Use `input_shape` instead.\n",
      "/Users/leenamathur/anaconda/envs/caispp/lib/python3.5/site-packages/ipykernel/__main__.py:7: UserWarning: Update your `LSTM` call to the Keras 2 API: `LSTM(64, return_sequences=False, input_shape=(50, 30))`\n"
     ]
    },
    {
     "name": "stdout",
     "output_type": "stream",
     "text": [
      "_________________________________________________________________\n",
      "Layer (type)                 Output Shape              Param #   \n",
      "=================================================================\n",
      "lstm_2 (LSTM)                (None, 64)                24320     \n",
      "_________________________________________________________________\n",
      "dropout_2 (Dropout)          (None, 64)                0         \n",
      "_________________________________________________________________\n",
      "dense_2 (Dense)              (None, 50)                3250      \n",
      "=================================================================\n",
      "Total params: 27,570\n",
      "Trainable params: 27,570\n",
      "Non-trainable params: 0\n",
      "_________________________________________________________________\n",
      "None\n"
     ]
    }
   ],
   "source": [
    "model = Sequential()\n",
    "\n",
    "# At this point, each individual training sample is now a sequence of word embedding vectors\n",
    "\n",
    "num_features = X_train1[0].shape[1]\n",
    "\n",
    "model.add(LSTM(64, input_length=window_size, input_dim=num_features, return_sequences = False)) #return_sequences: if multiple LSTM layers\n",
    "model.add(Dropout(.2))\n",
    "\n",
    "# Dense 2 (final vote)\n",
    "model.add(Dense(50, activation = 'sigmoid'))\n",
    "\n",
    "print(model.summary())\n",
    "\n",
    "# Define Loss and Optimizer\n",
    "LOSS = 'binary_crossentropy' #classifying between 0 and 1\n",
    "OPTIMIZER = 'rmsprop' #RMSprop typically works better for RNNs per Keras\n",
    "\n",
    "model.compile(loss = LOSS, optimizer = OPTIMIZER, metrics = [metrics.binary_accuracy])"
   ]
  },
  {
   "cell_type": "code",
   "execution_count": 32,
   "metadata": {
    "collapsed": true
   },
   "outputs": [],
   "source": [
    "X_train1 = np.array(X_train1)\n",
    "y_train1 = np.array(y_train1)"
   ]
  },
  {
   "cell_type": "code",
   "execution_count": 33,
   "metadata": {},
   "outputs": [
    {
     "name": "stdout",
     "output_type": "stream",
     "text": [
      "Train on 2908 samples, validate on 727 samples\n",
      "Epoch 1/10\n",
      "2908/2908 [==============================] - 7s 2ms/step - loss: 0.5632 - binary_accuracy: 0.7390 - val_loss: 0.4725 - val_binary_accuracy: 0.8025\n",
      "Epoch 2/10\n",
      "2908/2908 [==============================] - 6s 2ms/step - loss: 0.4297 - binary_accuracy: 0.8238 - val_loss: 0.4352 - val_binary_accuracy: 0.8024\n",
      "Epoch 3/10\n",
      "2908/2908 [==============================] - 6s 2ms/step - loss: 0.3871 - binary_accuracy: 0.8304 - val_loss: 0.3924 - val_binary_accuracy: 0.8247\n",
      "Epoch 4/10\n",
      "2908/2908 [==============================] - 6s 2ms/step - loss: 0.3679 - binary_accuracy: 0.8348 - val_loss: 0.3846 - val_binary_accuracy: 0.8334\n",
      "Epoch 5/10\n",
      "2908/2908 [==============================] - 6s 2ms/step - loss: 0.3571 - binary_accuracy: 0.8363 - val_loss: 0.3871 - val_binary_accuracy: 0.8262\n",
      "Epoch 6/10\n",
      "2908/2908 [==============================] - 6s 2ms/step - loss: 0.3555 - binary_accuracy: 0.8398 - val_loss: 0.3474 - val_binary_accuracy: 0.8447\n",
      "Epoch 7/10\n",
      "2908/2908 [==============================] - 6s 2ms/step - loss: 0.3463 - binary_accuracy: 0.8411 - val_loss: 0.3532 - val_binary_accuracy: 0.8429\n",
      "Epoch 8/10\n",
      "2908/2908 [==============================] - 6s 2ms/step - loss: 0.3433 - binary_accuracy: 0.8440 - val_loss: 0.3534 - val_binary_accuracy: 0.8423\n",
      "Epoch 9/10\n",
      "2908/2908 [==============================] - 6s 2ms/step - loss: 0.3331 - binary_accuracy: 0.8468 - val_loss: 0.3725 - val_binary_accuracy: 0.8521\n",
      "Epoch 10/10\n",
      "2908/2908 [==============================] - 6s 2ms/step - loss: 0.3291 - binary_accuracy: 0.8495 - val_loss: 0.3366 - val_binary_accuracy: 0.8440\n"
     ]
    },
    {
     "data": {
      "text/plain": [
       "<keras.callbacks.History at 0x10deed518>"
      ]
     },
     "execution_count": 33,
     "metadata": {},
     "output_type": "execute_result"
    }
   ],
   "source": [
    "EPOCHS = 10\n",
    "BATCH_SIZE = 64\n",
    "\n",
    "model.fit(X_train1, y_train1, \n",
    "          epochs = EPOCHS, \n",
    "          batch_size = BATCH_SIZE, \n",
    "          validation_split =.2)\n"
   ]
  },
  {
   "cell_type": "code",
   "execution_count": null,
   "metadata": {
    "collapsed": true
   },
   "outputs": [],
   "source": []
  }
 ],
 "metadata": {
  "kernelspec": {
   "display_name": "Python [conda env:caispp]",
   "language": "python",
   "name": "conda-env-caispp-py"
  },
  "language_info": {
   "codemirror_mode": {
    "name": "ipython",
    "version": 3
   },
   "file_extension": ".py",
   "mimetype": "text/x-python",
   "name": "python",
   "nbconvert_exporter": "python",
   "pygments_lexer": "ipython3",
   "version": "3.5.4"
  }
 },
 "nbformat": 4,
 "nbformat_minor": 2
}
