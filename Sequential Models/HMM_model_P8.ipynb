{
 "cells": [
  {
   "cell_type": "code",
   "execution_count": null,
   "metadata": {
    "collapsed": true
   },
   "outputs": [],
   "source": [
    "# Template Notebook for Engagement Classification Model\n",
    "\n",
    "# ToDo/Models to run here: https://docs.google.com/document/d/18EJpFesMEl9Q7C1AZzDeq6uy7c8tDMvEJ_j58-MmiBI/edit?usp=sharing\n",
    "# Use p8_data_processed.csv here: https://drive.google.com/drive/folders/19aJUAlkTMz7PcZE1q4hogFkjVtwYGcMT\n",
    "# Upload code to help-seeking github: https://github.com/interaction-lab/help_seeking\n",
    "# Record model results here: https://docs.google.com/spreadsheets/d/16ye54fSSEuAuDL_j56UIeDB-rIIrxq_kPbtyPRQOrVI/edit?usp=sharing"
   ]
  },
  {
   "cell_type": "code",
   "execution_count": 1,
   "metadata": {
    "collapsed": true
   },
   "outputs": [],
   "source": [
    "# Imports\n",
    "\n",
    "import pandas as pd\n",
    "import numpy as np\n",
    "from pandas import *\n",
    "import os\n",
    "from sklearn.preprocessing import LabelEncoder\n",
    "from sklearn.model_selection import train_test_split\n",
    "from sklearn.metrics import roc_auc_score\n",
    "from sklearn.metrics import roc_auc_score\n",
    "from sklearn.metrics import accuracy_score\n",
    "from sklearn.model_selection import cross_val_predict\n",
    "from sklearn.model_selection import cross_val_score\n",
    "from sklearn import metrics\n",
    "from sklearn.metrics import accuracy_score"
   ]
  },
  {
   "cell_type": "code",
   "execution_count": 54,
   "metadata": {},
   "outputs": [],
   "source": [
    "# Load Data\n",
    "# Warning: this will probably take some time\n",
    "# Adjust file path based on your computer\n",
    "\n",
    "file8 = '../../../../Google Drive File Stream/My Drive/USC Expeditions Year 5/Analysis/Help-Seeking/Data/FS4/p8_data_FS4.csv'\n",
    "file3 = '../../../../Google Drive File Stream/My Drive/USC Expeditions Year 5/Analysis/Help-Seeking/Data/FS4/p3_data_FS4.csv'\n",
    "file7 = '../../../../Google Drive File Stream/My Drive/USC Expeditions Year 5/Analysis/Help-Seeking/Data/FS4/p7_data_FS4.csv'\n",
    "file5 = '../../../../Google Drive File Stream/My Drive/USC Expeditions Year 5/Analysis/Help-Seeking/Data/FS4/p5_data_FS4.csv'\n",
    "file9 = '../../../../Google Drive File Stream/My Drive/USC Expeditions Year 5/Analysis/Help-Seeking/Data/FS4/p9_data_FS4.csv'\n",
    "file10 = '../../../../Google Drive File Stream/My Drive/USC Expeditions Year 5/Analysis/Help-Seeking/Data/FS4/p10_data_FS4.csv'\n",
    "\n",
    "data = pd.read_csv(file3)\n"
   ]
  },
  {
   "cell_type": "code",
   "execution_count": 45,
   "metadata": {},
   "outputs": [
    {
     "data": {
      "text/html": [
       "<div>\n",
       "<style scoped>\n",
       "    .dataframe tbody tr th:only-of-type {\n",
       "        vertical-align: middle;\n",
       "    }\n",
       "\n",
       "    .dataframe tbody tr th {\n",
       "        vertical-align: top;\n",
       "    }\n",
       "\n",
       "    .dataframe thead th {\n",
       "        text-align: right;\n",
       "    }\n",
       "</style>\n",
       "<table border=\"1\" class=\"dataframe\">\n",
       "  <thead>\n",
       "    <tr style=\"text-align: right;\">\n",
       "      <th></th>\n",
       "      <th>of_confidence</th>\n",
       "      <th>of_success</th>\n",
       "      <th>of_gaze_0_x</th>\n",
       "      <th>of_gaze_0_y</th>\n",
       "      <th>of_gaze_0_z</th>\n",
       "      <th>of_gaze_1_x</th>\n",
       "      <th>of_gaze_1_y</th>\n",
       "      <th>of_gaze_1_z</th>\n",
       "      <th>of_gaze_angle_x</th>\n",
       "      <th>of_gaze_angle_y</th>\n",
       "      <th>...</th>\n",
       "      <th>ts_attempt</th>\n",
       "      <th>skill_NC</th>\n",
       "      <th>skill_OS</th>\n",
       "      <th>skill_EM</th>\n",
       "      <th>diff_1</th>\n",
       "      <th>diff_2</th>\n",
       "      <th>diff_3</th>\n",
       "      <th>diff_4</th>\n",
       "      <th>diff_5</th>\n",
       "      <th>no_game</th>\n",
       "    </tr>\n",
       "  </thead>\n",
       "  <tbody>\n",
       "    <tr>\n",
       "      <th>0</th>\n",
       "      <td>0.94898</td>\n",
       "      <td>1.0</td>\n",
       "      <td>0.707127</td>\n",
       "      <td>0.517393</td>\n",
       "      <td>0.045885</td>\n",
       "      <td>0.536258</td>\n",
       "      <td>0.576956</td>\n",
       "      <td>0.006457</td>\n",
       "      <td>0.507990</td>\n",
       "      <td>0.517745</td>\n",
       "      <td>...</td>\n",
       "      <td>0.0</td>\n",
       "      <td>0</td>\n",
       "      <td>0</td>\n",
       "      <td>0</td>\n",
       "      <td>0</td>\n",
       "      <td>0</td>\n",
       "      <td>0</td>\n",
       "      <td>0</td>\n",
       "      <td>0</td>\n",
       "      <td>1</td>\n",
       "    </tr>\n",
       "    <tr>\n",
       "      <th>1</th>\n",
       "      <td>0.94898</td>\n",
       "      <td>1.0</td>\n",
       "      <td>0.705361</td>\n",
       "      <td>0.517181</td>\n",
       "      <td>0.045066</td>\n",
       "      <td>0.559994</td>\n",
       "      <td>0.587393</td>\n",
       "      <td>0.010422</td>\n",
       "      <td>0.512330</td>\n",
       "      <td>0.519512</td>\n",
       "      <td>...</td>\n",
       "      <td>0.0</td>\n",
       "      <td>0</td>\n",
       "      <td>0</td>\n",
       "      <td>0</td>\n",
       "      <td>0</td>\n",
       "      <td>0</td>\n",
       "      <td>0</td>\n",
       "      <td>0</td>\n",
       "      <td>0</td>\n",
       "      <td>1</td>\n",
       "    </tr>\n",
       "    <tr>\n",
       "      <th>2</th>\n",
       "      <td>0.94898</td>\n",
       "      <td>1.0</td>\n",
       "      <td>0.702433</td>\n",
       "      <td>0.522912</td>\n",
       "      <td>0.044037</td>\n",
       "      <td>0.567031</td>\n",
       "      <td>0.591571</td>\n",
       "      <td>0.012055</td>\n",
       "      <td>0.513119</td>\n",
       "      <td>0.521118</td>\n",
       "      <td>...</td>\n",
       "      <td>0.0</td>\n",
       "      <td>0</td>\n",
       "      <td>0</td>\n",
       "      <td>0</td>\n",
       "      <td>0</td>\n",
       "      <td>0</td>\n",
       "      <td>0</td>\n",
       "      <td>0</td>\n",
       "      <td>0</td>\n",
       "      <td>1</td>\n",
       "    </tr>\n",
       "    <tr>\n",
       "      <th>3</th>\n",
       "      <td>0.94898</td>\n",
       "      <td>1.0</td>\n",
       "      <td>0.696354</td>\n",
       "      <td>0.520243</td>\n",
       "      <td>0.041216</td>\n",
       "      <td>0.569312</td>\n",
       "      <td>0.616382</td>\n",
       "      <td>0.017313</td>\n",
       "      <td>0.512527</td>\n",
       "      <td>0.524811</td>\n",
       "      <td>...</td>\n",
       "      <td>0.0</td>\n",
       "      <td>0</td>\n",
       "      <td>0</td>\n",
       "      <td>0</td>\n",
       "      <td>0</td>\n",
       "      <td>0</td>\n",
       "      <td>0</td>\n",
       "      <td>0</td>\n",
       "      <td>0</td>\n",
       "      <td>1</td>\n",
       "    </tr>\n",
       "    <tr>\n",
       "      <th>4</th>\n",
       "      <td>0.94898</td>\n",
       "      <td>1.0</td>\n",
       "      <td>0.696378</td>\n",
       "      <td>0.516838</td>\n",
       "      <td>0.041063</td>\n",
       "      <td>0.564469</td>\n",
       "      <td>0.609426</td>\n",
       "      <td>0.015121</td>\n",
       "      <td>0.511541</td>\n",
       "      <td>0.523045</td>\n",
       "      <td>...</td>\n",
       "      <td>0.0</td>\n",
       "      <td>0</td>\n",
       "      <td>0</td>\n",
       "      <td>0</td>\n",
       "      <td>0</td>\n",
       "      <td>0</td>\n",
       "      <td>0</td>\n",
       "      <td>0</td>\n",
       "      <td>0</td>\n",
       "      <td>1</td>\n",
       "    </tr>\n",
       "  </tbody>\n",
       "</table>\n",
       "<p>5 rows × 32 columns</p>\n",
       "</div>"
      ],
      "text/plain": [
       "   of_confidence  of_success  of_gaze_0_x  of_gaze_0_y  of_gaze_0_z  \\\n",
       "0        0.94898         1.0     0.707127     0.517393     0.045885   \n",
       "1        0.94898         1.0     0.705361     0.517181     0.045066   \n",
       "2        0.94898         1.0     0.702433     0.522912     0.044037   \n",
       "3        0.94898         1.0     0.696354     0.520243     0.041216   \n",
       "4        0.94898         1.0     0.696378     0.516838     0.041063   \n",
       "\n",
       "   of_gaze_1_x  of_gaze_1_y  of_gaze_1_z  of_gaze_angle_x  of_gaze_angle_y  \\\n",
       "0     0.536258     0.576956     0.006457         0.507990         0.517745   \n",
       "1     0.559994     0.587393     0.010422         0.512330         0.519512   \n",
       "2     0.567031     0.591571     0.012055         0.513119         0.521118   \n",
       "3     0.569312     0.616382     0.017313         0.512527         0.524811   \n",
       "4     0.564469     0.609426     0.015121         0.511541         0.523045   \n",
       "\n",
       "    ...     ts_attempt  skill_NC  skill_OS  skill_EM  diff_1  diff_2  diff_3  \\\n",
       "0   ...            0.0         0         0         0       0       0       0   \n",
       "1   ...            0.0         0         0         0       0       0       0   \n",
       "2   ...            0.0         0         0         0       0       0       0   \n",
       "3   ...            0.0         0         0         0       0       0       0   \n",
       "4   ...            0.0         0         0         0       0       0       0   \n",
       "\n",
       "   diff_4  diff_5  no_game  \n",
       "0       0       0        1  \n",
       "1       0       0        1  \n",
       "2       0       0        1  \n",
       "3       0       0        1  \n",
       "4       0       0        1  \n",
       "\n",
       "[5 rows x 32 columns]"
      ]
     },
     "execution_count": 45,
     "metadata": {},
     "output_type": "execute_result"
    }
   ],
   "source": [
    "data.head()"
   ]
  },
  {
   "cell_type": "markdown",
   "metadata": {},
   "source": [
    "Note: keep timestamp and session_num until right before running the model in all feature sets"
   ]
  },
  {
   "cell_type": "markdown",
   "metadata": {},
   "source": [
    "### Step 1: Train Test Split "
   ]
  },
  {
   "cell_type": "markdown",
   "metadata": {},
   "source": [
    "Train on Earlier Sessions, Test on Later Sessions 70-30"
   ]
  },
  {
   "cell_type": "code",
   "execution_count": 55,
   "metadata": {
    "collapsed": true
   },
   "outputs": [],
   "source": [
    "# Feature Set 4 is used\n",
    "FS = data"
   ]
  },
  {
   "cell_type": "code",
   "execution_count": 56,
   "metadata": {
    "collapsed": true
   },
   "outputs": [],
   "source": [
    "# sort values for this sequential model\n",
    "FS = FS.sort_values(['session_num', 'timestamp'])"
   ]
  },
  {
   "cell_type": "code",
   "execution_count": 57,
   "metadata": {},
   "outputs": [
    {
     "name": "stdout",
     "output_type": "stream",
     "text": [
      "17.0\n",
      "20.0\n",
      "22.0\n",
      "24.0\n",
      "29.0\n",
      "30.0\n",
      "32.0\n",
      "34.0\n"
     ]
    }
   ],
   "source": [
    "for val in FS['session_num']:\n",
    "    if val not in vals:\n",
    "        vals.append(val)\n",
    "        print(val)"
   ]
  },
  {
   "cell_type": "code",
   "execution_count": null,
   "metadata": {
    "collapsed": true
   },
   "outputs": [],
   "source": [
    "# Train Test Split: Train on Earlier Sessions, Test on Later Sessions"
   ]
  },
  {
   "cell_type": "code",
   "execution_count": 7,
   "metadata": {
    "collapsed": true
   },
   "outputs": [],
   "source": [
    "# Train Test Split for P8\n",
    "\n",
    "session_threshold = 8 # train on sessions <= 8, test on sessions > 8\n",
    "\n",
    "train = FS[(FS['session_num'] <= 8.0)] \n",
    "test = FS[(FS['session_num'] > 8)]\n",
    "\n",
    "# drop columns needed for split\n",
    "train2 = train.drop(columns=['session_num', 'timestamp'])\n",
    "test2 = test.drop(columns=['session_num', 'timestamp'])\n",
    "\n",
    "X_train2 = train2.drop(columns=['engagement'])\n",
    "y_train2 = train2['engagement']\n",
    "\n",
    "X_test2 = test2.drop(columns=['engagement'])\n",
    "y_test2 = test2['engagement']"
   ]
  },
  {
   "cell_type": "code",
   "execution_count": 58,
   "metadata": {
    "collapsed": true
   },
   "outputs": [],
   "source": [
    "# Train Test Split for P3\n",
    "\n",
    "session_threshold = 24 # train on sessions <= 29, test on sessions > 29\n",
    "\n",
    "train = FS[(FS['session_num'] <= 24.0)] \n",
    "test = FS[(FS['session_num'] > 24)]\n",
    "\n",
    "# drop columns needed for split\n",
    "train2 = train.drop(columns=['session_num', 'timestamp'])\n",
    "test2 = test.drop(columns=['session_num', 'timestamp'])\n",
    "\n",
    "X_train2 = train2.drop(columns=['engagement'])\n",
    "y_train2 = train2['engagement']\n",
    "\n",
    "X_test2 = test2.drop(columns=['engagement'])\n",
    "y_test2 = test2['engagement']"
   ]
  },
  {
   "cell_type": "code",
   "execution_count": 31,
   "metadata": {
    "collapsed": true
   },
   "outputs": [],
   "source": [
    "# Train Test Split for P7\n",
    "\n",
    "session_threshold = 13 # train on sessions <= 13, test on sessions > 13\n",
    "\n",
    "train = FS[(FS['session_num'] <= 13.0)] \n",
    "test = FS[(FS['session_num'] > 13)]\n",
    "\n",
    "# drop columns needed for split\n",
    "train2 = train.drop(columns=['session_num', 'timestamp'])\n",
    "test2 = test.drop(columns=['session_num', 'timestamp'])\n",
    "\n",
    "X_train2 = train2.drop(columns=['engagement'])\n",
    "y_train2 = train2['engagement']\n",
    "\n",
    "X_test2 = test2.drop(columns=['engagement'])\n",
    "y_test2 = test2['engagement']"
   ]
  },
  {
   "cell_type": "code",
   "execution_count": 32,
   "metadata": {
    "collapsed": true
   },
   "outputs": [],
   "source": [
    "# Train Test Split for P5\n",
    "\n",
    "session_threshold = 13 # train on sessions <= 13, test on sessions > 13\n",
    "\n",
    "train = FS[(FS['session_num'] <= 13.0)] \n",
    "test = FS[(FS['session_num'] > 13)]\n",
    "\n",
    "# drop columns needed for split\n",
    "train2 = train.drop(columns=['session_num', 'timestamp'])\n",
    "test2 = test.drop(columns=['session_num', 'timestamp'])\n",
    "\n",
    "X_train2 = train2.drop(columns=['engagement'])\n",
    "y_train2 = train2['engagement']\n",
    "\n",
    "X_test2 = test2.drop(columns=['engagement'])\n",
    "y_test2 = test2['engagement']"
   ]
  },
  {
   "cell_type": "code",
   "execution_count": 40,
   "metadata": {
    "collapsed": true
   },
   "outputs": [],
   "source": [
    "# Train Test Split for P9\n",
    "\n",
    "session_threshold = 9 # train on sessions <= 9, test on sessions > 9\n",
    "\n",
    "train = FS[(FS['session_num'] <= 9.0)] \n",
    "test = FS[(FS['session_num'] > 9)]\n",
    "\n",
    "# drop columns needed for split\n",
    "train2 = train.drop(columns=['session_num', 'timestamp'])\n",
    "test2 = test.drop(columns=['session_num', 'timestamp'])\n",
    "\n",
    "X_train2 = train2.drop(columns=['engagement'])\n",
    "y_train2 = train2['engagement']\n",
    "\n",
    "X_test2 = test2.drop(columns=['engagement'])\n",
    "y_test2 = test2['engagement']"
   ]
  },
  {
   "cell_type": "code",
   "execution_count": 49,
   "metadata": {
    "collapsed": true
   },
   "outputs": [],
   "source": [
    "# Train Test Split for P10\n",
    "\n",
    "session_threshold = 15.2 # train on sessions <= 15.2, test on sessions > 15.2\n",
    "\n",
    "train = FS[(FS['session_num'] <= 15.2)] \n",
    "test = FS[(FS['session_num'] > 15.2)]\n",
    "\n",
    "# drop columns needed for split\n",
    "train2 = train.drop(columns=['session_num', 'timestamp'])\n",
    "test2 = test.drop(columns=['session_num', 'timestamp'])\n",
    "\n",
    "X_train2 = train2.drop(columns=['engagement'])\n",
    "y_train2 = train2['engagement']\n",
    "\n",
    "X_test2 = test2.drop(columns=['engagement'])\n",
    "y_test2 = test2['engagement']"
   ]
  },
  {
   "cell_type": "code",
   "execution_count": null,
   "metadata": {},
   "outputs": [],
   "source": [
    "X_test2.shape"
   ]
  },
  {
   "cell_type": "markdown",
   "metadata": {},
   "source": [
    "### Step 2: Implement the HMM"
   ]
  },
  {
   "cell_type": "code",
   "execution_count": 8,
   "metadata": {},
   "outputs": [],
   "source": [
    "from hmmlearn import hmm\n",
    "from hmmlearn.hmm import GaussianHMM\n",
    "# 3 questions from HMM:\n",
    "# (1) given model, what is likelihood of sequence S happening?\n",
    "# (2) given model and sequence S, what is optimal hidden state sequence?\n",
    "# (3) given sequence S and # of hidden states, what is optimal model to maximize probability of S?"
   ]
  },
  {
   "cell_type": "markdown",
   "metadata": {},
   "source": [
    "### P8 FS4"
   ]
  },
  {
   "cell_type": "code",
   "execution_count": 9,
   "metadata": {},
   "outputs": [],
   "source": [
    "# model takes array of dimension (n_samples, n_features)\n",
    "model_p8 = GaussianHMM(n_components=2, n_iter=1000, algorithm = 'viterbi').fit(X_train2)"
   ]
  },
  {
   "cell_type": "code",
   "execution_count": 10,
   "metadata": {},
   "outputs": [
    {
     "name": "stdout",
     "output_type": "stream",
     "text": [
      "Accuracy for FS4 P8 HMM: 0.422249076999\n",
      "AUC: 0.461325220717\n",
      "[[22973 41604]\n",
      " [19113 21402]]\n",
      "             precision    recall  f1-score   support\n",
      "\n",
      "        0.0       0.55      0.36      0.43     64577\n",
      "        1.0       0.34      0.53      0.41     40515\n",
      "\n",
      "avg / total       0.47      0.42      0.42    105092\n",
      "\n"
     ]
    }
   ],
   "source": [
    "#evaluate FS4 P8 HMM\n",
    "FS4_pred_p8 = model_p8.predict(X_test2)\n",
    "scores2 = model_p8.predict_proba(X_test2.values)\n",
    "scores2 = scores2[: ,1]\n",
    "print(\"Accuracy for FS4 P8 HMM:\",accuracy_score(y_test2, FS4_pred_p8))\n",
    "print(\"AUC:\",roc_auc_score(y_test2, scores2)) \n",
    "print(metrics.confusion_matrix(y_test2, FS4_pred_p8))\n",
    "print(metrics.classification_report(y_test2, FS4_pred_p8))"
   ]
  },
  {
   "cell_type": "markdown",
   "metadata": {},
   "source": [
    "### P3 FS4"
   ]
  },
  {
   "cell_type": "code",
   "execution_count": 17,
   "metadata": {},
   "outputs": [
    {
     "data": {
      "text/plain": [
       "(86393, 29)"
      ]
     },
     "execution_count": 17,
     "metadata": {},
     "output_type": "execute_result"
    }
   ],
   "source": [
    "X_train2.shape"
   ]
  },
  {
   "cell_type": "code",
   "execution_count": 59,
   "metadata": {},
   "outputs": [],
   "source": [
    "# model takes array of dimension (n_samples, n_features)\n",
    "model_p3 = GaussianHMM(n_components=2, n_iter=1000, algorithm = 'viterbi').fit(X_train2)"
   ]
  },
  {
   "cell_type": "code",
   "execution_count": 60,
   "metadata": {},
   "outputs": [
    {
     "name": "stdout",
     "output_type": "stream",
     "text": [
      "Accuracy for FS4 P3 HMM: 0.720796013624\n",
      "AUC: 0.717232566481\n",
      "[[ 8521  3455]\n",
      " [14251 37189]]\n",
      "             precision    recall  f1-score   support\n",
      "\n",
      "        0.0       0.37      0.71      0.49     11976\n",
      "        1.0       0.91      0.72      0.81     51440\n",
      "\n",
      "avg / total       0.81      0.72      0.75     63416\n",
      "\n"
     ]
    }
   ],
   "source": [
    "#evaluate FS4 P3 HMM\n",
    "FS4_pred_p3 = model_p3.predict(X_test2)\n",
    "scores2 = model_p3.predict_proba(X_test2.values)\n",
    "scores2 = scores2[: ,1]\n",
    "print(\"Accuracy for FS4 P3 HMM:\",accuracy_score(y_test2, FS4_pred_p3))\n",
    "print(\"AUC:\",roc_auc_score(y_test2, scores2)) \n",
    "print(metrics.confusion_matrix(y_test2, FS4_pred_p3))\n",
    "print(metrics.classification_report(y_test2, FS4_pred_p3))"
   ]
  },
  {
   "cell_type": "markdown",
   "metadata": {},
   "source": [
    "### P7 FS4"
   ]
  },
  {
   "cell_type": "code",
   "execution_count": 25,
   "metadata": {},
   "outputs": [
    {
     "name": "stdout",
     "output_type": "stream",
     "text": [
      "Accuracy for FS4 P7 HMM: 0.555490146307\n",
      "AUC: 0.676412808938\n",
      "[[82361  4083]\n",
      " [78222 20493]]\n",
      "             precision    recall  f1-score   support\n",
      "\n",
      "        0.0       0.51      0.95      0.67     86444\n",
      "        1.0       0.83      0.21      0.33     98715\n",
      "\n",
      "avg / total       0.68      0.56      0.49    185159\n",
      "\n"
     ]
    }
   ],
   "source": [
    "# model takes array of dimension (n_samples, n_features)\n",
    "model_p7 = GaussianHMM(n_components=2, n_iter=1000, algorithm = 'viterbi').fit(X_train2)\n",
    "\n",
    "#evaluate FS4 P3 HMM\n",
    "FS4_pred_p7 = model_p7.predict(X_test2)\n",
    "scores2 = model_p7.predict_proba(X_test2.values)\n",
    "scores2 = scores2[: ,1]\n",
    "print(\"Accuracy for FS4 P7 HMM:\",accuracy_score(y_test2, FS4_pred_p7))\n",
    "print(\"AUC:\",roc_auc_score(y_test2, scores2)) \n",
    "print(metrics.confusion_matrix(y_test2, FS4_pred_p7))\n",
    "print(metrics.classification_report(y_test2, FS4_pred_p7))"
   ]
  },
  {
   "cell_type": "markdown",
   "metadata": {},
   "source": [
    "### P5 FS4 HMM"
   ]
  },
  {
   "cell_type": "code",
   "execution_count": 35,
   "metadata": {},
   "outputs": [
    {
     "name": "stdout",
     "output_type": "stream",
     "text": [
      "Accuracy for FS4 P5 HMM: 0.299397867608\n",
      "AUC: 0.304566302833\n",
      "[[ 2840  6248]\n",
      " [30287 12773]]\n",
      "             precision    recall  f1-score   support\n",
      "\n",
      "          0       0.09      0.31      0.13      9088\n",
      "          1       0.67      0.30      0.41     43060\n",
      "\n",
      "avg / total       0.57      0.30      0.36     52148\n",
      "\n"
     ]
    }
   ],
   "source": [
    "# model takes array of dimension (n_samples, n_features)\n",
    "model_p5 = GaussianHMM(n_components=2, n_iter=1000, algorithm = 'viterbi').fit(X_train2)\n",
    "\n",
    "#evaluate FS4 P5 HMM\n",
    "FS4_pred_p5 = model_p5.predict(X_test2)\n",
    "scores2 = model_p5.predict_proba(X_test2.values)\n",
    "scores2 = scores2[: ,1]\n",
    "print(\"Accuracy for FS4 P5 HMM:\",accuracy_score(y_test2, FS4_pred_p5))\n",
    "print(\"AUC:\",roc_auc_score(y_test2, scores2)) \n",
    "print(metrics.confusion_matrix(y_test2, FS4_pred_p5))\n",
    "print(metrics.classification_report(y_test2, FS4_pred_p5))"
   ]
  },
  {
   "cell_type": "markdown",
   "metadata": {},
   "source": [
    "### P9 FS4 HMM"
   ]
  },
  {
   "cell_type": "code",
   "execution_count": 43,
   "metadata": {},
   "outputs": [
    {
     "name": "stdout",
     "output_type": "stream",
     "text": [
      "Accuracy for FS4 P9 HMM: 0.525811753015\n",
      "AUC: 0.497699591787\n",
      "[[70999 36241]\n",
      " [50608 25305]]\n",
      "             precision    recall  f1-score   support\n",
      "\n",
      "          0       0.58      0.66      0.62    107240\n",
      "          1       0.41      0.33      0.37     75913\n",
      "\n",
      "avg / total       0.51      0.53      0.52    183153\n",
      "\n"
     ]
    }
   ],
   "source": [
    "# model takes array of dimension (n_samples, n_features)\n",
    "model_p9 = GaussianHMM(n_components=2, n_iter=1000, algorithm = 'viterbi').fit(X_train2)\n",
    "\n",
    "#evaluate FS4 P3 HMM\n",
    "FS4_pred_p9 = model_p9.predict(X_test2)\n",
    "scores2 = model_p9.predict_proba(X_test2.values)\n",
    "scores2 = scores2[: ,1]\n",
    "print(\"Accuracy for FS4 P9 HMM:\",accuracy_score(y_test2, FS4_pred_p9))\n",
    "print(\"AUC:\",roc_auc_score(y_test2, scores2)) \n",
    "print(metrics.confusion_matrix(y_test2, FS4_pred_p9))\n",
    "print(metrics.classification_report(y_test2, FS4_pred_p9))"
   ]
  },
  {
   "cell_type": "markdown",
   "metadata": {},
   "source": [
    "### P10 FS4 HMM"
   ]
  },
  {
   "cell_type": "code",
   "execution_count": 51,
   "metadata": {},
   "outputs": [
    {
     "name": "stdout",
     "output_type": "stream",
     "text": [
      "Accuracy for FS4 P10 HMM: 0.677399475438\n",
      "AUC: 0.643241958526\n",
      "[[38091 35070]\n",
      " [30365 99310]]\n",
      "             precision    recall  f1-score   support\n",
      "\n",
      "        0.0       0.56      0.52      0.54     73161\n",
      "        1.0       0.74      0.77      0.75    129675\n",
      "\n",
      "avg / total       0.67      0.68      0.67    202836\n",
      "\n"
     ]
    }
   ],
   "source": [
    "# model takes array of dimension (n_samples, n_features)\n",
    "model_p10 = GaussianHMM(n_components=2, n_iter=1000, algorithm = 'viterbi').fit(X_train2)\n",
    "\n",
    "#evaluate FS4 P3 HMM\n",
    "FS4_pred_p10 = model_p10.predict(X_test2)\n",
    "scores2 = model_p10.predict_proba(X_test2.values)\n",
    "scores2 = scores2[: ,1]\n",
    "print(\"Accuracy for FS4 P10 HMM:\",accuracy_score(y_test2, FS4_pred_p10))\n",
    "print(\"AUC:\",roc_auc_score(y_test2, scores2)) \n",
    "print(metrics.confusion_matrix(y_test2, FS4_pred_p10))\n",
    "print(metrics.classification_report(y_test2, FS4_pred_p10))"
   ]
  }
 ],
 "metadata": {
  "kernelspec": {
   "display_name": "Python [default]",
   "language": "python",
   "name": "python3"
  },
  "language_info": {
   "codemirror_mode": {
    "name": "ipython",
    "version": 3
   },
   "file_extension": ".py",
   "mimetype": "text/x-python",
   "name": "python",
   "nbconvert_exporter": "python",
   "pygments_lexer": "ipython3",
   "version": "3.5.4"
  }
 },
 "nbformat": 4,
 "nbformat_minor": 2
}
