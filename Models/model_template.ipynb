{
 "cells": [
  {
   "cell_type": "code",
   "execution_count": null,
   "metadata": {},
   "outputs": [],
   "source": [
    "# Model Template: Engagement -- P5, P7, P8, P9"
   ]
  },
  {
   "cell_type": "code",
   "execution_count": 4,
   "metadata": {},
   "outputs": [],
   "source": [
    "import pandas as pd\n",
    "import numpy as np\n",
    "from sklearn.model_selection import train_test_split\n",
    "from sklearn.metrics import roc_auc_score\n",
    "from sklearn.metrics import roc_auc_score\n",
    "from sklearn.metrics import accuracy_score\n",
    "from sklearn import metrics"
   ]
  },
  {
   "cell_type": "markdown",
   "metadata": {},
   "source": [
    "# 1 -- Load Data"
   ]
  },
  {
   "cell_type": "markdown",
   "metadata": {},
   "source": [
    "### Choose Datasets: Smoothed or Windowed"
   ]
  },
  {
   "cell_type": "code",
   "execution_count": 5,
   "metadata": {},
   "outputs": [],
   "source": [
    "# Smoothed Data: All Frames, Smoothing of Open Face Features \n",
    "# p5_file = '../../../Google Drive File Stream/My Drive/USC Expeditions Year 5/Analysis/Engagement/Data/Master_Smooth/p5_master_smooth.csv'\n",
    "# p7_file = '../../../Google Drive File Stream/My Drive/USC Expeditions Year 5/Analysis/Engagement/Data/Master_Smooth/p7_master_smooth.csv'\n",
    "# p8_file = '../../../Google Drive File Stream/My Drive/USC Expeditions Year 5/Analysis/Engagement/Data/Master_Smooth/p8_master_smooth.csv'\n",
    "# p9_file = '../../../Google Drive File Stream/My Drive/USC Expeditions Year 5/Analysis/Engagement/Data/Master_Smooth/p9_master_smooth.csv'\n",
    "\n",
    "# Windowed Data: 1 Second Overlapping Windows, Feature Median + Variance in Window \n",
    "p5_file = '../../../Google Drive File Stream/My Drive/USC Expeditions Year 5/Analysis/Engagement/Data/Master_Window/p5_master_window.csv'\n",
    "p7_file = '../../../Google Drive File Stream/My Drive/USC Expeditions Year 5/Analysis/Engagement/Data/Master_Window/p7_master_window.csv'\n",
    "p8_file = '../../../Google Drive File Stream/My Drive/USC Expeditions Year 5/Analysis/Engagement/Data/Master_Window/p8_master_window.csv'\n",
    "p9_file = '../../../Google Drive File Stream/My Drive/USC Expeditions Year 5/Analysis/Engagement/Data/Master_Window/p9_master_window.csv'\n",
    "\n",
    "data5 = pd.read_csv(p5_file)\n",
    "data5['of_ts_success'] = data5['of_ts_of_success']\n",
    "data5 = data5.drop(columns=['of_ts_of_success'])\n",
    "data7 = pd.read_csv(p7_file)\n",
    "data8 = pd.read_csv(p8_file)\n",
    "data9 = pd.read_csv(p9_file)"
   ]
  },
  {
   "cell_type": "code",
   "execution_count": 6,
   "metadata": {},
   "outputs": [],
   "source": [
    "data = [data5, data7, data8, data9]\n",
    "part = [5, 7, 8, 9]"
   ]
  },
  {
   "cell_type": "markdown",
   "metadata": {},
   "source": [
    "### Data Overview"
   ]
  },
  {
   "cell_type": "code",
   "execution_count": 15,
   "metadata": {},
   "outputs": [
    {
     "name": "stdout",
     "output_type": "stream",
     "text": [
      "engagement\n",
      "engagement_change\n",
      "engagement_var\n",
      "participant\n",
      "session_num\n",
      "timestamp\n"
     ]
    }
   ],
   "source": [
    "# Main Columns\n",
    "basic_cols = []\n",
    "for i in data[0].columns:\n",
    "    if 'of_' not in i and 'op_' not in i and 'p_' not in i and 'a_' not in i:\n",
    "        basic_cols.append(i)\n",
    "        \n",
    "basic_cols = sorted(basic_cols)\n",
    "for i in basic_cols:\n",
    "    print(i)"
   ]
  },
  {
   "cell_type": "code",
   "execution_count": 8,
   "metadata": {},
   "outputs": [
    {
     "name": "stdout",
     "output_type": "stream",
     "text": [
      "of_AU01_c\n",
      "of_AU01_change\n",
      "of_AU02_c\n",
      "of_AU02_change\n",
      "of_AU04_c\n",
      "of_AU04_change\n",
      "of_AU05_c\n",
      "of_AU05_change\n",
      "of_AU06_c\n",
      "of_AU06_change\n",
      "of_AU07_c\n",
      "of_AU07_change\n",
      "of_AU09_c\n",
      "of_AU09_change\n",
      "of_AU10_c\n",
      "of_AU10_change\n",
      "of_AU12_c\n",
      "of_AU12_change\n",
      "of_AU14_c\n",
      "of_AU14_change\n",
      "of_AU15_c\n",
      "of_AU15_change\n",
      "of_AU17_c\n",
      "of_AU17_change\n",
      "of_AU20_c\n",
      "of_AU20_change\n",
      "of_AU23_c\n",
      "of_AU23_change\n",
      "of_AU25_c\n",
      "of_AU25_change\n",
      "of_AU26_c\n",
      "of_AU26_change\n",
      "of_AU28_c\n",
      "of_AU28_change\n",
      "of_AU45_c\n",
      "of_AU45_change\n",
      "of_confidence\n",
      "of_confidence_var\n",
      "of_gaze_0_x\n",
      "of_gaze_0_x_var\n",
      "of_gaze_0_y\n",
      "of_gaze_0_y_var\n",
      "of_gaze_0_z\n",
      "of_gaze_0_z_var\n",
      "of_gaze_1_x\n",
      "of_gaze_1_x_var\n",
      "of_gaze_1_y\n",
      "of_gaze_1_y_var\n",
      "of_gaze_1_z\n",
      "of_gaze_1_z_var\n",
      "of_gaze_angle_x\n",
      "of_gaze_angle_x_var\n",
      "of_gaze_angle_y\n",
      "of_gaze_angle_y_var\n",
      "of_gaze_distance\n",
      "of_gaze_distance_var\n",
      "of_pose_Rx\n",
      "of_pose_Rx_var\n",
      "of_pose_Ry\n",
      "of_pose_Ry_var\n",
      "of_pose_Rz\n",
      "of_pose_Rz_var\n",
      "of_pose_Tx\n",
      "of_pose_Tx_var\n",
      "of_pose_Ty\n",
      "of_pose_Ty_var\n",
      "of_pose_Tz\n",
      "of_pose_Tz_var\n",
      "of_pose_distance\n",
      "of_pose_distance_var\n",
      "of_success\n",
      "of_success_change\n",
      "of_ts_success\n"
     ]
    }
   ],
   "source": [
    "# Open Face Columns\n",
    "\n",
    "of_cols = []\n",
    "for i in data[0].columns:\n",
    "    if 'of_' in i:\n",
    "        of_cols.append(i)\n",
    "        \n",
    "of_cols = sorted(of_cols)\n",
    "for i in of_cols:\n",
    "    print(i)"
   ]
  },
  {
   "cell_type": "code",
   "execution_count": 9,
   "metadata": {},
   "outputs": [
    {
     "name": "stdout",
     "output_type": "stream",
     "text": [
      "a_harmonicity\n",
      "a_harmonicity_var\n",
      "a_intensity\n",
      "a_intensity_var\n",
      "a_mfcc_0\n",
      "a_mfcc_0_var\n",
      "a_mfcc_1\n",
      "a_mfcc_1_var\n",
      "a_pitch_frequency\n",
      "a_pitch_frequency_var\n",
      "a_pitch_strength\n",
      "a_pitch_strength_var\n"
     ]
    }
   ],
   "source": [
    "# Audio Columns\n",
    "\n",
    "a_cols = []\n",
    "for i in data[0].columns:\n",
    "    if 'a_' in i:\n",
    "        a_cols.append(i)\n",
    "        \n",
    "a_cols = sorted(a_cols)\n",
    "for i in a_cols:\n",
    "    print(i)"
   ]
  },
  {
   "cell_type": "code",
   "execution_count": 11,
   "metadata": {},
   "outputs": [
    {
     "name": "stdout",
     "output_type": "stream",
     "text": [
      "p_aptitude\n",
      "p_aptitude_var\n",
      "p_diff_1\n",
      "p_diff_2\n",
      "p_diff_3\n",
      "p_diff_4\n",
      "p_diff_5\n",
      "p_games_change\n",
      "p_games_session\n",
      "p_games_total\n",
      "p_mistakes_change\n",
      "p_mistakes_game\n",
      "p_mistakes_session\n",
      "p_mistakes_total\n",
      "p_no_game\n",
      "p_playing_change\n",
      "p_skill_EM\n",
      "p_skill_NC\n",
      "p_skill_OS\n",
      "p_ts_attempt\n",
      "p_ts_game_played\n",
      "p_ts_game_start\n",
      "p_ts_robot_talked\n"
     ]
    }
   ],
   "source": [
    "# Performance Columns\n",
    "\n",
    "p_cols = []\n",
    "for i in data[0].columns:\n",
    "    if 'p_' in i and 'op_' not in i:\n",
    "        p_cols.append(i)\n",
    "        \n",
    "p_cols = sorted(p_cols)\n",
    "for i in p_cols:\n",
    "    print(i)"
   ]
  },
  {
   "cell_type": "code",
   "execution_count": 16,
   "metadata": {},
   "outputs": [
    {
     "name": "stdout",
     "output_type": "stream",
     "text": [
      "a_harmonicity_var\n",
      "a_intensity_var\n",
      "a_mfcc_0_var\n",
      "a_mfcc_1_var\n",
      "a_pitch_frequency_var\n",
      "a_pitch_strength_var\n",
      "of_AU01_change\n",
      "of_AU02_change\n",
      "of_AU04_change\n",
      "of_AU05_change\n",
      "of_AU06_change\n",
      "of_AU07_change\n",
      "of_AU09_change\n",
      "of_AU10_change\n",
      "of_AU12_change\n",
      "of_AU14_change\n",
      "of_AU15_change\n",
      "of_AU17_change\n",
      "of_AU20_change\n",
      "of_AU23_change\n",
      "of_AU25_change\n",
      "of_AU26_change\n",
      "of_AU28_change\n",
      "of_AU45_change\n",
      "of_confidence_var\n",
      "of_gaze_0_x_var\n",
      "of_gaze_0_y_var\n",
      "of_gaze_0_z_var\n",
      "of_gaze_1_x_var\n",
      "of_gaze_1_y_var\n",
      "of_gaze_1_z_var\n",
      "of_gaze_angle_x_var\n",
      "of_gaze_angle_y_var\n",
      "of_gaze_distance_var\n",
      "of_pose_Rx_var\n",
      "of_pose_Ry_var\n",
      "of_pose_Rz_var\n",
      "of_pose_Tx_var\n",
      "of_pose_Ty_var\n",
      "of_pose_Tz_var\n",
      "of_pose_distance_var\n",
      "of_success_change\n",
      "op_num_people_var\n",
      "p_aptitude_var\n",
      "p_games_change\n",
      "p_mistakes_change\n",
      "p_playing_change\n"
     ]
    }
   ],
   "source": [
    "# For Window Only:\n",
    "non_window_features = []\n",
    "window_features = []\n",
    "for i in data[0].columns:\n",
    "    if i not in basic_cols:\n",
    "        if 'change' in i or 'var' in i:\n",
    "            window_features.append(i)\n",
    "        else:\n",
    "            non_window_features.append(i)\n",
    "        \n",
    "window_features = sorted(window_features)\n",
    "for i in window_features:\n",
    "    print(i)"
   ]
  },
  {
   "cell_type": "markdown",
   "metadata": {},
   "source": [
    "### Filter Feature Set (Optional)"
   ]
  },
  {
   "cell_type": "code",
   "execution_count": 14,
   "metadata": {},
   "outputs": [],
   "source": [
    "# features_to_keep = data[0].columns\n",
    "\n",
    "# always include basic_cols, add desired group of features \n",
    "# features_to_keep = basic_cols + of_cols + p_cols + a_cols\n",
    "\n",
    "# for i,d in enumerate(data):\n",
    "#    data[i] = d[features_to_keep]"
   ]
  },
  {
   "cell_type": "markdown",
   "metadata": {},
   "source": [
    "# 2 -- Train-Test Split"
   ]
  },
  {
   "cell_type": "code",
   "execution_count": null,
   "metadata": {},
   "outputs": [],
   "source": [
    "# Helper Function: Split a Participant's Data Chronologically \n",
    "\n",
    "def part_split(split, split_size):\n",
    "    split = split.sort_values(['session_num', 'timestamp'], ascending=[True, True])\n",
    "    bogus = split['engagement']\n",
    "\n",
    "    split_train, split_test, bogus1, bogus2 = train_test_split(split, bogus, test_size=split_size, shuffle=False)\n",
    "    return split_train, split_test"
   ]
  },
  {
   "cell_type": "code",
   "execution_count": null,
   "metadata": {},
   "outputs": [],
   "source": [
    "# Function: Formulate Train-Test Split \n",
    "\n",
    "# train_part: an array of participants \n",
    "# test_part: single participant\n",
    "# split_size: how much of test_part data to use for testing\n",
    "def split(train_part, test_part, split_size):\n",
    "    train_data = []\n",
    "    for p in train_part:\n",
    "        i = part.index(p)\n",
    "        train_data.append(data[i])\n",
    "    \n",
    "    i = part.index(test_part)\n",
    "    test_data = data[i]\n",
    "    if split_size < 1:\n",
    "        split_train, test_data = part_split(test_data, split_size)\n",
    "        train_data.append(split_train)\n",
    "    \n",
    "    train_data = pd.concat(train_data, ignore_index=True, sort=True)\n",
    "    \n",
    "    return train_data, test_data"
   ]
  },
  {
   "cell_type": "code",
   "execution_count": null,
   "metadata": {},
   "outputs": [],
   "source": [
    "# Train-Test Split\n",
    "\n",
    "# How much of test participant's data saved for testing? \n",
    "perc = 1\n",
    "# perc = 0.7\n",
    "\n",
    "# All Participants\n",
    "# train, test = split(train_part=[5,7,8], test_part=9, split_size=perc)\n",
    "# train, test = split(train_part=[5,7,9], test_part=8, split_size=perc)\n",
    "# train, test = split(train_part=[5,8,9], test_part=7, split_size=perc)\n",
    "# train, test = split(train_part=[7,8,9], test_part=5, split_size=perc)\n",
    "\n",
    "# Excluding Participant 8\n",
    "# train, test = split(train_part=[5,7], test_part=9, split_size=perc)\n",
    "train, test = split(train_part=[5,9], test_part=7, split_size=perc)\n",
    "# train, test = split(train_part=[7,9], test_part=5, split_size=perc)\n",
    "\n",
    "# Individual Pairings\n",
    "# train, test = split(train_part=[5], test_part=7, split_size=perc)\n",
    "# train, test = split(train_part=[7], test_part=5, split_size=perc)\n",
    "# train, test = split(train_part=[8], test_part=9, split_size=perc)\n",
    "# train, test = split(train_part=[9], test_part=8, split_size=perc)\n"
   ]
  },
  {
   "cell_type": "code",
   "execution_count": null,
   "metadata": {},
   "outputs": [],
   "source": [
    "# Divide into X_train, y_train\n",
    "\n",
    "y_train = train['engagement']\n",
    "X_train = train.drop(columns=['participant', 'timestamp', 'session_num', 'engagement'])\n",
    "\n",
    "y_test = test['engagement']\n",
    "X_test = test.drop(columns=['participant', 'timestamp', 'session_num', 'engagement'])"
   ]
  },
  {
   "cell_type": "code",
   "execution_count": null,
   "metadata": {},
   "outputs": [],
   "source": [
    "# Sort Training Data Together \n",
    "\n",
    "X_train, bogus1, y_train, bogus2 = train_test_split(X_train, y_train, test_size=0.0, shuffle=True)\n",
    "X_train, bogus1, y_train, bogus2 = train_test_split(X_train, y_train, test_size=0.0, shuffle=True)\n",
    "X_train, bogus1, y_train, bogus2 = train_test_split(X_train, y_train, test_size=0.0, shuffle=True)\n",
    "X_train, bogus1, y_train, bogus2 = train_test_split(X_train, y_train, test_size=0.0, shuffle=True)\n",
    "X_train, bogus1, y_train, bogus2 = train_test_split(X_train, y_train, test_size=0.0, shuffle=True)"
   ]
  },
  {
   "cell_type": "markdown",
   "metadata": {},
   "source": [
    "# 3 -- Preprocessing\n",
    "Choose Min-Max Scaling OR Standardization"
   ]
  },
  {
   "cell_type": "markdown",
   "metadata": {},
   "source": [
    "### Min-Max Scaling\n",
    "- x' = ( x - min(x) ) / ( max(x) - min(x) )\n",
    "- => x' in [0, 1], fill NaN with -1\n",
    "\n",
    "- Advantages: Data Bounded \n",
    "- Disadvantages: Outliers will lead to clustering of some values  "
   ]
  },
  {
   "cell_type": "code",
   "execution_count": null,
   "metadata": {},
   "outputs": [],
   "source": [
    "# for c in X_train.columns:\n",
    "#     min_val = np.nanmin(X_train[c])\n",
    "#     max_val = np.nanmax(X_train[c])\n",
    "    \n",
    "#     X_train[c] = (X_train[c]-min_val)/(max_val - min_val)\n",
    "#     X_test[c] = (X_test[c]-min_val)/(max_val - min_val)\n",
    "    \n",
    "# X_train = X_train.fillna(-1)\n",
    "# X_test = X_test.fillna(-1)"
   ]
  },
  {
   "cell_type": "markdown",
   "metadata": {},
   "source": [
    "### Standardization\n",
    "- x' = ( x - mean(x) ) / ( stdev(x) )\n",
    "- => x' is z-score, NaN's filled with min_val\n",
    "- Advantages: Not Affected By Outliers\n",
    "- Disadvantages: Data Unbounded"
   ]
  },
  {
   "cell_type": "code",
   "execution_count": null,
   "metadata": {},
   "outputs": [],
   "source": [
    "for c in X_train.columns:\n",
    "    mean = np.nanmean(X_train[c])\n",
    "    std = np.nanstd(X_train[c])\n",
    "    \n",
    "    X_train[c] = (X_train[c]-mean)/(std)\n",
    "    X_test[c] = (X_test[c]-mean)/(std)\n",
    "        \n",
    "    if c != 'of_pose_distance':\n",
    "        min_val = np.nanmin(X_train[c])\n",
    "\n",
    "        X_train[c] = X_train[c].fillna(min_val)\n",
    "        X_test[c] = X_test[c].fillna(min_val)\n",
    "    else:\n",
    "        max_val = np.nanmax(X_train[c])\n",
    "\n",
    "        X_train[c] = X_train[c].fillna(max_val)\n",
    "        X_test[c] = X_test[c].fillna(max_val)"
   ]
  },
  {
   "cell_type": "markdown",
   "metadata": {},
   "source": [
    "# 4 -- Model!"
   ]
  },
  {
   "cell_type": "code",
   "execution_count": null,
   "metadata": {},
   "outputs": [],
   "source": [
    "from keras.layers import Dense, Activation\n",
    "from keras.models import Sequential\n",
    "from keras.utils import np_utils"
   ]
  },
  {
   "cell_type": "code",
   "execution_count": null,
   "metadata": {},
   "outputs": [],
   "source": [
    "num_epochs = 1\n",
    "size_batch = 96   \n",
    "\n",
    "nn_model = Sequential()\n",
    "\n",
    "# nn_model.add(Dense(units=1, input_dim=(X_train.shape[1])))\n",
    "# nn_model.add(Activation('sigmoid'))\n",
    "\n",
    "nn_model.add(Dense(units=64, input_dim=(X_train.shape[1]), kernel_initializer='glorot_normal'))\n",
    "nn_model.add(Activation('relu'))\n",
    "\n",
    "nn_model.add(Dense(units=32, kernel_initializer='glorot_normal'))\n",
    "nn_model.add(Activation('relu'))\n",
    "\n",
    "nn_model.add(Dense(units=16, kernel_initializer='glorot_normal'))\n",
    "nn_model.add(Activation('relu'))\n",
    "\n",
    "nn_model.add(Dense(units=1))\n",
    "nn_model.add(Activation('sigmoid'))\n",
    "\n",
    "nn_model.summary()\n",
    "\n",
    "nn_model.compile(loss='binary_crossentropy',  \n",
    "              optimizer='Adam',\n",
    "              metrics=['accuracy'])\n",
    "\n",
    "nn_model.fit(X_train, y_train, epochs=num_epochs, batch_size=size_batch, verbose=1)"
   ]
  },
  {
   "cell_type": "code",
   "execution_count": null,
   "metadata": {},
   "outputs": [],
   "source": [
    "loss_and_metrics = nn_model.evaluate(X_test, y_test)\n",
    "print(loss_and_metrics)"
   ]
  },
  {
   "cell_type": "code",
   "execution_count": null,
   "metadata": {},
   "outputs": [],
   "source": [
    "scores = nn_model.predict_proba(X_test)\n",
    "pred = nn_model.predict_classes(X_test)"
   ]
  },
  {
   "cell_type": "code",
   "execution_count": null,
   "metadata": {},
   "outputs": [],
   "source": []
  },
  {
   "cell_type": "markdown",
   "metadata": {},
   "source": [
    "# 5 -- Evaluation"
   ]
  },
  {
   "cell_type": "code",
   "execution_count": null,
   "metadata": {},
   "outputs": [],
   "source": [
    "# y_test: actual y values for test data\n",
    "# scores: predicted probabilistic y values for test data\n",
    "# pred: predicted binary y values for test data"
   ]
  },
  {
   "cell_type": "code",
   "execution_count": null,
   "metadata": {
    "scrolled": true
   },
   "outputs": [],
   "source": [
    "try:\n",
    "    print(\"AUC:\",roc_auc_score(y_test, scores)) \n",
    "except:\n",
    "    print(\"AUC undefinied, only 1 class in test data\")\n",
    "    \n",
    "print(\"Accuracy:\",accuracy_score(y_test, pred))\n",
    "print(metrics.confusion_matrix(y_test, pred))\n",
    "print(metrics.classification_report(y_test, pred))"
   ]
  },
  {
   "cell_type": "code",
   "execution_count": null,
   "metadata": {},
   "outputs": [],
   "source": []
  }
 ],
 "metadata": {
  "kernelspec": {
   "display_name": "Python [conda env:caispp]",
   "language": "python",
   "name": "conda-env-caispp-py"
  },
  "language_info": {
   "codemirror_mode": {
    "name": "ipython",
    "version": 3
   },
   "file_extension": ".py",
   "mimetype": "text/x-python",
   "name": "python",
   "nbconvert_exporter": "python",
   "pygments_lexer": "ipython3",
   "version": "3.5.6"
  }
 },
 "nbformat": 4,
 "nbformat_minor": 2
}
