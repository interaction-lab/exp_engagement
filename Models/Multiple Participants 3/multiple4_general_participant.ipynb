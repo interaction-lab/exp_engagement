{
 "cells": [
  {
   "cell_type": "code",
   "execution_count": 2,
   "metadata": {
    "nbpresent": {
     "id": "d8daa9c6-31ac-4a53-ac54-52fbfb1764ae"
    }
   },
   "outputs": [],
   "source": [
    "# Multiple Participants -- Approach 4: Model Template\n",
    "# Train & Test on Distinct Groups of Participants\n",
    "# Approach 4: Use Small % of Test Participant's Data (Chronological Split)\n",
    "# Iterate over each other participant & select most \"similar\" to other participants"
   ]
  },
  {
   "cell_type": "code",
   "execution_count": 3,
   "metadata": {
    "nbpresent": {
     "id": "078c7dbd-e23b-4ff8-a8cd-ff2100f983d7"
    }
   },
   "outputs": [],
   "source": [
    "import pandas as pd\n",
    "import numpy as np\n",
    "from sklearn.model_selection import train_test_split\n",
    "from sklearn.metrics import roc_auc_score\n",
    "from sklearn.metrics import roc_auc_score\n",
    "from sklearn.metrics import accuracy_score\n",
    "from sklearn import metrics\n",
    "from itertools import combinations\n",
    "import itertools\n",
    "import json\n",
    "pd.options.mode.chained_assignment = None"
   ]
  },
  {
   "cell_type": "code",
   "execution_count": 34,
   "metadata": {
    "nbpresent": {
     "id": "817f414f-878f-4921-8519-0f0f0bfe95fd"
    }
   },
   "outputs": [],
   "source": [
    "# Key Features: op_num_people, of_pose_distance, of_gaze_distance, of_confidence, ros_mistakes_session, ros_ts_robot_talked, timestamp\n",
    "use_key_features = True\n",
    "\n",
    "# Leave One Out Run: test on each participant & train on remaining\n",
    "leave_one_out_run = True\n",
    "\n",
    "# Number of Estimators for Bagging\n",
    "num_estimators = 10\n",
    "\n",
    "# Sample Percentage for Bagging\n",
    "sample_percentage = 0.75\n",
    "\n",
    "# Threshold to Use\n",
    "threshold_to_use = 0.75\n",
    "use_all_if_lower_than_threshold = True\n",
    "\n",
    "# Percentage of Test Participant Data to Use\n",
    "test_percentage_to_use = 0.3\n",
    "\n",
    "# File Name for Model Results\n",
    "output_file = 'multi4_kf_xgb_results.csv'\n",
    "\n",
    "metric_keys = ['accuracy', 'auc', 'precision_0', 'precision_1', 'recall_0', 'recall_1', 'f1_0', 'f1_1']"
   ]
  },
  {
   "cell_type": "markdown",
   "metadata": {
    "nbpresent": {
     "id": "a4def072-f97c-47c8-ac41-beaa42417b78"
    }
   },
   "source": [
    "# 1 -- Load Data"
   ]
  },
  {
   "cell_type": "code",
   "execution_count": 5,
   "metadata": {
    "nbpresent": {
     "id": "9c9cbf36-b3c4-4ce0-a6f1-bb7b983befad"
    }
   },
   "outputs": [],
   "source": [
    "# Windowed Data: 1 Second Overlapping Windows, Feature Median + Variance in Window \n",
    "p5_file = '../../../../../Google Drive File Stream/My Drive/USC Expeditions Year 5/Analysis/Engagement/Data/Master Window/p5_master_window.csv'\n",
    "p7_file = '../../../../../Google Drive File Stream/My Drive/USC Expeditions Year 5/Analysis/Engagement/Data/Master Window/p7_master_window.csv'\n",
    "p9_file = '../../../../../Google Drive File Stream/My Drive/USC Expeditions Year 5/Analysis/Engagement/Data/Master Window/p9_master_window.csv'\n",
    "p11_file = '../../../../../Google Drive File Stream/My Drive/USC Expeditions Year 5/Analysis/Engagement/Data/Master Window/p11_master_window.csv'\n",
    "p12_file = '../../../../../Google Drive File Stream/My Drive/USC Expeditions Year 5/Analysis/Engagement/Data/Master Window/p12_master_window.csv'\n",
    "p17_file = '../../../../../Google Drive File Stream/My Drive/USC Expeditions Year 5/Analysis/Engagement/Data/Master Window/p17_master_window.csv'\n",
    "p18_file = '../../../../../Google Drive File Stream/My Drive/USC Expeditions Year 5/Analysis/Engagement/Data/Master Window/p18_master_window.csv'\n",
    "\n",
    "data5 = pd.read_csv(p5_file)\n",
    "data7 = pd.read_csv(p7_file)\n",
    "data9 = pd.read_csv(p9_file)\n",
    "data11 = pd.read_csv(p11_file)\n",
    "data12 = pd.read_csv(p12_file)\n",
    "data17 = pd.read_csv(p17_file)\n",
    "data18 = pd.read_csv(p18_file)"
   ]
  },
  {
   "cell_type": "code",
   "execution_count": 6,
   "metadata": {
    "nbpresent": {
     "id": "2ee7a66e-39fd-470a-b4ab-2611ae3a9077"
    }
   },
   "outputs": [],
   "source": [
    "data = [data5, data7, data9, data11, data12, data17, data18]\n",
    "part = [5, 7, 9, 11, 12, 17, 18]"
   ]
  },
  {
   "cell_type": "code",
   "execution_count": 7,
   "metadata": {
    "nbpresent": {
     "id": "897ef394-cb7d-4145-bfc4-50a8dc02650e"
    }
   },
   "outputs": [],
   "source": [
    "remove = [\n",
    "'engagement_change',\n",
    "'ros_GAME_STATE',\n",
    "'ros_PARTICIPANT_STATE',\n",
    "'ros_ROBOT_STATE',\n",
    "'ros_activity',\n",
    "'ros_diff_1_change',\n",
    "'ros_diff_2_change',\n",
    "'ros_diff_3_change',\n",
    "'ros_diff_4_change',\n",
    "'ros_diff_5_change',\n",
    "'ros_difficulty',\n",
    "'ros_skill_EM_change',\n",
    "'ros_skill_NC_change',\n",
    "'ros_skill_OS_change',\n",
    "'ros_ts_attempt_var',\n",
    "'ros_games_session_change',\n",
    "'ros_in_game_change',\n",
    "'ros_mistakes_session_change',\n",
    "'ros_mistakes_game_change',\n",
    "'ros_skill',\n",
    "'ros_ts_game_start_var',\n",
    "'ros_ts_robot_talked_var',\n",
    "'ros_game_correct',\n",
    "'ros_game_incorrect',\n",
    "'ros_game_start',\n",
    "'ros_mistake_made',\n",
    "]\n",
    "\n",
    "for i, d in enumerate(data):\n",
    "    data[i] = d.drop(columns=remove)"
   ]
  },
  {
   "cell_type": "code",
   "execution_count": 8,
   "metadata": {
    "nbpresent": {
     "id": "6a408f43-1bd5-43ec-82fd-6e0658eba20d"
    }
   },
   "outputs": [],
   "source": [
    "# Remove rows where engagment NaN\n",
    "for i,d in enumerate(data):\n",
    "    data[i] = d[np.isfinite(d['engagement'])]\n",
    "    \n",
    "# Remove rows where engagment is -1\n",
    "for i,d in enumerate(data):\n",
    "    data[i] = d[d['engagement']>=0]"
   ]
  },
  {
   "cell_type": "markdown",
   "metadata": {
    "nbpresent": {
     "id": "9ea9007a-1788-40c2-b41a-5482b57c079c"
    }
   },
   "source": [
    "# 2 -- Choose Feature Set"
   ]
  },
  {
   "cell_type": "markdown",
   "metadata": {
    "nbpresent": {
     "id": "6e49a907-21bd-4614-bbe9-3679ae674b1d"
    }
   },
   "source": [
    "Feature Dictionary: https://docs.google.com/spreadsheets/d/1ewoVPHwW68Ins0AOVZf-0lsl_wW0_ZzuByuDiNJETBY/edit?usp=sharing"
   ]
  },
  {
   "cell_type": "markdown",
   "metadata": {
    "nbpresent": {
     "id": "28dc0f9c-3d0e-46dd-9244-921544efab2d"
    }
   },
   "source": [
    "### Data Overview"
   ]
  },
  {
   "cell_type": "code",
   "execution_count": 9,
   "metadata": {
    "nbpresent": {
     "id": "019a7044-b1a7-485d-b06f-55f99fb11267"
    }
   },
   "outputs": [
    {
     "name": "stdout",
     "output_type": "stream",
     "text": [
      "engagement\n",
      "participant\n",
      "session_num\n",
      "timestamp\n"
     ]
    }
   ],
   "source": [
    "# Main Columns\n",
    "basic_cols = []\n",
    "for i in data[0].columns:\n",
    "    if 'of_' not in i and 'op_' not in i and 'ros_' not in i and 'a_' not in i:\n",
    "        basic_cols.append(i)\n",
    "        \n",
    "basic_cols = sorted(basic_cols)\n",
    "for i in basic_cols:\n",
    "    print(i)"
   ]
  },
  {
   "cell_type": "code",
   "execution_count": 10,
   "metadata": {
    "nbpresent": {
     "id": "337cceec-c399-45c7-87e5-c56b56e5413a"
    }
   },
   "outputs": [
    {
     "name": "stdout",
     "output_type": "stream",
     "text": [
      "of_AU01_c\n",
      "of_AU02_c\n",
      "of_AU04_c\n",
      "of_AU05_c\n",
      "of_AU06_c\n",
      "of_AU07_c\n",
      "of_AU09_c\n",
      "of_AU10_c\n",
      "of_AU12_c\n",
      "of_AU14_c\n",
      "of_AU15_c\n",
      "of_AU17_c\n",
      "of_AU20_c\n",
      "of_AU23_c\n",
      "of_AU25_c\n",
      "of_AU26_c\n",
      "of_AU28_c\n",
      "of_AU45_c\n",
      "of_confidence\n",
      "of_gaze_0_x\n",
      "of_gaze_0_y\n",
      "of_gaze_0_z\n",
      "of_gaze_1_x\n",
      "of_gaze_1_y\n",
      "of_gaze_1_z\n",
      "of_gaze_angle_x\n",
      "of_gaze_angle_y\n",
      "of_gaze_distance\n",
      "of_gaze_distance_x\n",
      "of_gaze_distance_y\n",
      "of_pose_Rx\n",
      "of_pose_Ry\n",
      "of_pose_Rz\n",
      "of_pose_Tx\n",
      "of_pose_Ty\n",
      "of_pose_Tz\n",
      "of_pose_distance\n",
      "of_success\n",
      "of_ts_success\n",
      "op_num_people\n"
     ]
    }
   ],
   "source": [
    "# Open Face Columns\n",
    "\n",
    "of_cols = []\n",
    "for i in data[0].columns:\n",
    "    if ('of_' in i or 'op_' in i) and '_change' not in i and '_var' not in i:\n",
    "        of_cols.append(i)\n",
    "        \n",
    "of_cols = sorted(of_cols)\n",
    "for i in of_cols:\n",
    "    print(i)"
   ]
  },
  {
   "cell_type": "code",
   "execution_count": 11,
   "metadata": {
    "nbpresent": {
     "id": "97d7450d-34f9-454c-88de-458af8da13b1"
    }
   },
   "outputs": [
    {
     "name": "stdout",
     "output_type": "stream",
     "text": [
      "a_harmonicity\n",
      "a_intensity\n",
      "a_mfcc_0\n",
      "a_mfcc_1\n",
      "a_pitch_frequency\n",
      "a_pitch_strength\n"
     ]
    }
   ],
   "source": [
    "# Audio Columns\n",
    "\n",
    "a_cols = []\n",
    "for i in data[0].columns:\n",
    "    if 'a_' in i and '_change' not in i and '_var' not in i:\n",
    "        a_cols.append(i)\n",
    "        \n",
    "a_cols = sorted(a_cols)\n",
    "for i in a_cols:\n",
    "    print(i)"
   ]
  },
  {
   "cell_type": "code",
   "execution_count": 12,
   "metadata": {
    "nbpresent": {
     "id": "79fbc404-db05-444f-abd4-2f18688695dc"
    }
   },
   "outputs": [
    {
     "name": "stdout",
     "output_type": "stream",
     "text": [
      "ros_aptitude\n",
      "ros_diff_1\n",
      "ros_diff_2\n",
      "ros_diff_3\n",
      "ros_diff_4\n",
      "ros_diff_5\n",
      "ros_games_session\n",
      "ros_in_game\n",
      "ros_mistakes_game\n",
      "ros_mistakes_session\n",
      "ros_skill_EM\n",
      "ros_skill_NC\n",
      "ros_skill_OS\n",
      "ros_ts_attempt\n",
      "ros_ts_game_start\n",
      "ros_ts_robot_talked\n"
     ]
    }
   ],
   "source": [
    "# ROS Columns\n",
    "\n",
    "ros_cols = []\n",
    "for i in data[0].columns:\n",
    "    if 'ros_' in i and '_change' not in i and '_var' not in i:\n",
    "        ros_cols.append(i)\n",
    "        \n",
    "ros_cols = sorted(ros_cols)\n",
    "for i in ros_cols:\n",
    "    print(i)"
   ]
  },
  {
   "cell_type": "code",
   "execution_count": 13,
   "metadata": {
    "nbpresent": {
     "id": "f749961c-a4f0-43e8-a392-4c1120888d89"
    }
   },
   "outputs": [
    {
     "name": "stdout",
     "output_type": "stream",
     "text": [
      "a_harmonicity_var\n",
      "a_intensity_var\n",
      "a_mfcc_0_var\n",
      "a_mfcc_1_var\n",
      "a_pitch_frequency_var\n",
      "a_pitch_strength_var\n",
      "of_AU01_c_change\n",
      "of_AU02_c_change\n",
      "of_AU04_c_change\n",
      "of_AU05_c_change\n",
      "of_AU06_c_change\n",
      "of_AU07_c_change\n",
      "of_AU09_c_change\n",
      "of_AU10_c_change\n",
      "of_AU12_c_change\n",
      "of_AU14_c_change\n",
      "of_AU15_c_change\n",
      "of_AU17_c_change\n",
      "of_AU20_c_change\n",
      "of_AU23_c_change\n",
      "of_AU25_c_change\n",
      "of_AU26_c_change\n",
      "of_AU28_c_change\n",
      "of_AU45_c_change\n",
      "of_confidence_var\n",
      "of_gaze_0_x_var\n",
      "of_gaze_0_y_var\n",
      "of_gaze_0_z_var\n",
      "of_gaze_1_x_var\n",
      "of_gaze_1_y_var\n",
      "of_gaze_1_z_var\n",
      "of_gaze_angle_x_var\n",
      "of_gaze_angle_y_var\n",
      "of_gaze_distance_var\n",
      "of_gaze_distance_x_var\n",
      "of_gaze_distance_y_var\n",
      "of_pose_Rx_var\n",
      "of_pose_Ry_var\n",
      "of_pose_Rz_var\n",
      "of_pose_Tx_var\n",
      "of_pose_Ty_var\n",
      "of_pose_Tz_var\n",
      "of_pose_distance_var\n",
      "of_success_change\n",
      "of_ts_success_var\n",
      "op_num_people_change\n",
      "ros_aptitude_var\n"
     ]
    }
   ],
   "source": [
    "# For Window Only:\n",
    "non_window_features = []\n",
    "window_features = []\n",
    "for i in data[0].columns:\n",
    "    if i not in basic_cols:\n",
    "        if 'change' in i or 'var' in i:\n",
    "            window_features.append(i)\n",
    "        else:\n",
    "            non_window_features.append(i)\n",
    "        \n",
    "window_features = sorted(window_features)\n",
    "for i in window_features:\n",
    "    print(i)"
   ]
  },
  {
   "cell_type": "code",
   "execution_count": 14,
   "metadata": {
    "nbpresent": {
     "id": "1e56b6fb-5715-4fd5-b54f-42880a6f27d6"
    }
   },
   "outputs": [],
   "source": [
    "# Columns where NaNs filled with max value\n",
    "nan_max_cols = ['of_gaze_0_x',\n",
    "'of_gaze_0_y',\n",
    "'of_gaze_0_z',\n",
    "'of_gaze_1_x',\n",
    "'of_gaze_1_y',\n",
    "'of_gaze_1_z',\n",
    "'of_gaze_angle_x',\n",
    "'of_gaze_angle_y',\n",
    "'of_gaze_distance',\n",
    "'of_gaze_distance_x',\n",
    "'of_gaze_distance_y',\n",
    "'of_pose_Rxv',\n",
    "'of_pose_Ry',\n",
    "'of_pose_Rz',\n",
    "'of_pose_Tx',\n",
    "'of_pose_Ty',\n",
    "'of_pose_Tz',\n",
    "'of_pose_distance']"
   ]
  },
  {
   "cell_type": "code",
   "execution_count": 15,
   "metadata": {
    "nbpresent": {
     "id": "a5160214-421a-4f3e-849b-4fa43b185784"
    }
   },
   "outputs": [],
   "source": [
    "# Key Features (from feature analysis) \n",
    "# Note: Timestamp automatically included\n",
    "\n",
    "key_features = [\n",
    "'op_num_people',\n",
    "'of_pose_distance',\n",
    "'of_gaze_distance',\n",
    "'of_confidence',\n",
    "'ros_mistakes_session',\n",
    "'ros_ts_robot_talked']"
   ]
  },
  {
   "cell_type": "markdown",
   "metadata": {
    "nbpresent": {
     "id": "bd793385-039b-4b0a-995c-b087d1e8e0be"
    }
   },
   "source": [
    "### Filter Feature Set (Optional)"
   ]
  },
  {
   "cell_type": "code",
   "execution_count": 16,
   "metadata": {
    "nbpresent": {
     "id": "34e62b65-b98b-4b4f-a2a9-369f7e6de1a2"
    }
   },
   "outputs": [],
   "source": [
    "# always include basic_cols, add desired group of features \n",
    "# features_to_keep = all_data.columns\n",
    "\n",
    "if use_key_features:\n",
    "    features_to_keep = basic_cols + key_features\n",
    "else:\n",
    "    features_to_keep = basic_cols + of_cols + ros_cols + a_cols + window_features\n",
    "\n",
    "for i,d in enumerate(data):\n",
    "    data[i] = d[features_to_keep]"
   ]
  },
  {
   "cell_type": "markdown",
   "metadata": {
    "nbpresent": {
     "id": "4a63b0ed-01ff-4bfa-aff4-5d42d9e0225b"
    }
   },
   "source": [
    "# 3 -- Scenario Based Modeling"
   ]
  },
  {
   "cell_type": "markdown",
   "metadata": {
    "nbpresent": {
     "id": "66f57de6-2d1d-4509-8f61-6279372d2f62"
    }
   },
   "source": [
    "- Open Face Success / Failure\n",
    "- Robot Talking / Not Talking\n",
    "- First 10 Minutes / After 10 Minutes"
   ]
  },
  {
   "cell_type": "code",
   "execution_count": 17,
   "metadata": {
    "nbpresent": {
     "id": "90a37c79-ab22-46c3-b779-f6113c27e9f2"
    }
   },
   "outputs": [],
   "source": [
    "# Create Separate Models for Different Scenarios\n",
    "\n",
    "# for i,d in enumerate(data):\n",
    "#     # Open Face Success/Failure\n",
    "#     data[i] = d.loc[d['of_success']==1]\n",
    "#     data[i] = d.loc[d['of_success']==0]\n",
    "    \n",
    "#     # Robot Talking/Not Talking\n",
    "#     data[i] = d.loc[d['ros_ts_robot_talked']==0]\n",
    "#     data[i] = d.loc[d['ros_ts_robot_talked']>0]\n",
    "    \n",
    "#     # First 10 Min/After 10 Min\n",
    "#     data[i] = d.loc[d['timestamp']<=(10*60)]\n",
    "#     data[i] = d.loc[d['timestamp']>(10*60)]"
   ]
  },
  {
   "cell_type": "markdown",
   "metadata": {
    "nbpresent": {
     "id": "6c7d466a-fa18-43d1-8a9e-c0a378dacd23"
    }
   },
   "source": [
    "# 4 -- Modeling"
   ]
  },
  {
   "cell_type": "code",
   "execution_count": 18,
   "metadata": {
    "nbpresent": {
     "id": "b5d5f1a4-acbf-4d1a-87e2-bc34b2986c3b"
    }
   },
   "outputs": [],
   "source": [
    "# Helper Function: Split a Participant's Data Chronologically \n",
    "\n",
    "def part_split(split, split_size):\n",
    "    split = split.sort_values(['session_num', 'timestamp'], ascending=[True, True])\n",
    "    bogus = split['engagement']\n",
    "\n",
    "    split_train, split_test, bogus1, bogus2 = train_test_split(split, bogus, test_size=split_size, shuffle=False)\n",
    "    return split_test, split_train"
   ]
  },
  {
   "cell_type": "code",
   "execution_count": 22,
   "metadata": {},
   "outputs": [],
   "source": [
    "# Function: Formulate Train-Test Split \n",
    "# Includes Preprocessing & Shuffle \n",
    "\n",
    "# train_part: an array of participants \n",
    "# test_part: an array of participants\n",
    "# split_size: how much of each test participant's data to use for validation\n",
    "def split_no_val(train_part, test_part):\n",
    "    train_data = []\n",
    "    for p in train_part:\n",
    "        i = part.index(p)\n",
    "        train_data.append(data[i].copy())\n",
    "    \n",
    "    test_data = []\n",
    "    for p in test_part:\n",
    "        i = part.index(p)\n",
    "        test_data.append(data[i].copy())\n",
    "        \n",
    "    train_data = pd.concat(train_data, ignore_index=True, sort=True)\n",
    "    test_data = pd.concat(test_data, ignore_index=True, sort=True)\n",
    "    \n",
    "    # Sort Training Data \n",
    "    train_data = train_data.sample(frac=1)\n",
    "    train_data = train_data.sample(frac=1)\n",
    "    train_data = train_data.sample(frac=1)\n",
    "\n",
    "    X_train = train_data.drop(columns=['engagement', 'session_num', 'participant'])        \n",
    "    X_test = test_data.drop(columns=['engagement', 'session_num', 'participant'])        \n",
    "\n",
    "    y_train = train_data['engagement']\n",
    "    y_test = test_data['engagement']\n",
    "\n",
    "    # Preprocessing: Standardization\n",
    "    # x' = ( x - mean(x) ) / ( stdev(x) )\n",
    "    # => x' is z-score, NaN's filled with min_val\n",
    "    for c in X_train.columns:\n",
    "        mean = np.nanmean(X_train[c])\n",
    "        std = np.nanstd(X_train[c])\n",
    "\n",
    "        if std == 0:\n",
    "            X_train[c] = (X_train[c]-mean)\n",
    "            X_test[c] = (X_test[c]-mean)\n",
    "        else:\n",
    "            X_train[c] = (X_train[c]-mean)/(std)\n",
    "            X_test[c] = (X_test[c]-mean)/(std)\n",
    "\n",
    "        if c not in nan_max_cols:\n",
    "            min_val = np.nanmin(X_train[c])\n",
    "\n",
    "            X_train[c] = X_train[c].fillna(min_val)\n",
    "            X_test[c] = X_test[c].fillna(min_val)\n",
    "        else:\n",
    "            max_val = np.nanmax(X_train[c])\n",
    "\n",
    "            X_train[c] = X_train[c].fillna(max_val)\n",
    "            X_test[c] = X_test[c].fillna(max_val) \n",
    "\n",
    "    return X_train, y_train, X_test, y_test"
   ]
  },
  {
   "cell_type": "code",
   "execution_count": 23,
   "metadata": {
    "nbpresent": {
     "id": "94d97b78-af5d-4b01-99e1-94ced480b9e7"
    }
   },
   "outputs": [],
   "source": [
    "# Function: Formulate Train-Test Split \n",
    "# Includes Preprocessing & Shuffle \n",
    "\n",
    "# train_part: an array of participants \n",
    "# test_part: an array of participants\n",
    "# split_size: how much of each test participant's data to use for validation\n",
    "def split(train_part, test_part, split_size):\n",
    "    train_data = []\n",
    "    for p in train_part:\n",
    "        i = part.index(p)\n",
    "        train_data.append(data[i].copy())\n",
    "    \n",
    "    val_data = []\n",
    "    test_data = []\n",
    "    for p in test_part:\n",
    "        i = part.index(p)\n",
    "        if split_size > 0:\n",
    "            p_test, p_train = part_split(data[i].copy(), split_size)\n",
    "            val_data.append(p_train)\n",
    "            test_data.append(p_test)\n",
    "        else:\n",
    "            test_data.append(data[i].copy())\n",
    "        \n",
    "    train_data = pd.concat(train_data, ignore_index=True, sort=True)\n",
    "    val_data = pd.concat(val_data, ignore_index=True, sort=True)\n",
    "    test_data = pd.concat(test_data, ignore_index=True, sort=True)\n",
    "    \n",
    "    # Sort Training & Validation Data \n",
    "    train_data = train_data.sample(frac=1)\n",
    "    train_data = train_data.sample(frac=1)\n",
    "    train_data = train_data.sample(frac=1)\n",
    "    val_data = val_data.sample(frac=1)\n",
    "    val_data = val_data.sample(frac=1)\n",
    "    val_data = val_data.sample(frac=1)\n",
    "\n",
    "    X_train = train_data.drop(columns=['engagement', 'session_num', 'participant'])        \n",
    "    X_val = val_data.drop(columns=['engagement', 'session_num', 'participant'])  \n",
    "    X_test = test_data.drop(columns=['engagement', 'session_num', 'participant'])        \n",
    "\n",
    "    y_train = train_data['engagement']\n",
    "    y_val = val_data['engagement']\n",
    "    y_test = test_data['engagement']\n",
    "\n",
    "    # Preprocessing: Standardization\n",
    "    # x' = ( x - mean(x) ) / ( stdev(x) )\n",
    "    # => x' is z-score, NaN's filled with min_val\n",
    "    for c in X_train.columns:\n",
    "        mean = np.nanmean(X_train[c])\n",
    "        std = np.nanstd(X_train[c])\n",
    "\n",
    "        if std == 0:\n",
    "            X_train[c] = (X_train[c]-mean)\n",
    "            X_val[c] = (X_val[c]-mean)\n",
    "            X_test[c] = (X_test[c]-mean)\n",
    "        else:\n",
    "            X_train[c] = (X_train[c]-mean)/(std)\n",
    "            X_val[c] = (X_val[c]-mean)/(std)\n",
    "            X_test[c] = (X_test[c]-mean)/(std)\n",
    "\n",
    "        if c not in nan_max_cols:\n",
    "            min_val = np.nanmin(X_train[c])\n",
    "\n",
    "            X_train[c] = X_train[c].fillna(min_val)\n",
    "            X_val[c] = X_val[c].fillna(min_val)\n",
    "            X_test[c] = X_test[c].fillna(min_val)\n",
    "        else:\n",
    "            max_val = np.nanmax(X_train[c])\n",
    "\n",
    "            X_train[c] = X_train[c].fillna(max_val)\n",
    "            X_val[c] = X_val[c].fillna(max_val)\n",
    "            X_test[c] = X_test[c].fillna(max_val) \n",
    "\n",
    "    return X_train, y_train, X_val, y_val, X_test, y_test"
   ]
  },
  {
   "cell_type": "code",
   "execution_count": 24,
   "metadata": {
    "nbpresent": {
     "id": "d0453b55-f0f2-4fbb-934a-5cb989c4d255"
    }
   },
   "outputs": [],
   "source": [
    "# MODEL HERE\n",
    "# Multiple Participants Approach 4: \n",
    "# Approach 4: Use Small % of Test Participant's Data (Chronological Split)\n",
    "# Iterate over each other participant & select most \"similar\" to test participant\n",
    "\n",
    "# Inputs: X_train, y_train, X_val, y_val, X_test, y_test\n",
    "\n",
    "# Output: Accuracy Metrics as Dictionary \n",
    "\n",
    "# IMPORTS HERE\n",
    "from sklearn.ensemble import BaggingClassifier\n",
    "from xgboost import XGBClassifier\n",
    "from sklearn import neighbors\n",
    "\n",
    "def model(X_train, y_train, X_test, y_test, is_verbose, use_bagging):    \n",
    "    # Model Here: must create pred & scores arrays\n",
    "    if use_bagging:\n",
    "        clf = BaggingClassifier(XGBClassifier(n_estimators=100), n_estimators=num_estimators, max_samples=sample_percentage)\n",
    "        clf.fit(X_train.values, y_train.values)\n",
    "        scores = clf.predict_proba(X_test.values)[:,1]\n",
    "        pred = [round(value) for value in scores]   \n",
    "    else:\n",
    "        clf = XGBClassifier(n_estimators=100)\n",
    "        clf.fit(X_train.values, y_train.values)\n",
    "        scores = clf.predict(X_test.values)\n",
    "        pred = [round(value) for value in scores] \n",
    "\n",
    "    # Evaluation\n",
    "    results = {}\n",
    "    accuracy = accuracy_score(y_test, pred)\n",
    "    results['accuracy'] = accuracy\n",
    "    \n",
    "    if is_verbose:\n",
    "        try:\n",
    "            auc = roc_auc_score(y_test, scores)\n",
    "        except:\n",
    "            auc = np.nan\n",
    "        results['auc'] = auc\n",
    "\n",
    "        precision = metrics.precision_score(y_test, pred, average=None)\n",
    "        recall = metrics.recall_score(y_test, pred, average=None)\n",
    "        f1 = metrics.f1_score(y_test, pred, average=None)\n",
    "\n",
    "        results['precision_0'], results['precision_1'] = precision[0], precision[1]\n",
    "        results['recall_0'], results['recall_1'] = recall[0], recall[1]\n",
    "        results['f1_0'], results['f1_1'] = f1[0], f1[1]\n",
    "    \n",
    "    return results"
   ]
  },
  {
   "cell_type": "code",
   "execution_count": 31,
   "metadata": {
    "nbpresent": {
     "id": "1f30b8a6-5b11-45c6-9dfc-82c124c6785c"
    }
   },
   "outputs": [
    {
     "name": "stdout",
     "output_type": "stream",
     "text": [
      "Train: 7 \tTest: 5 0.8165249088699879\n",
      "Train: 9 \tTest: 5 0.7002098751794985\n",
      "Train: 11 \tTest: 5 0.8074671379653153\n",
      "Train: 12 \tTest: 5 0.7501380757759859\n",
      "Train: 17 \tTest: 5 0.7218601568540816\n",
      "Train: 18 \tTest: 5 0.8269082072241246\n",
      "Train: 5 \tTest: 7 0.7624219193639977\n",
      "Train: 9 \tTest: 7 0.7472316865417377\n",
      "Train: 11 \tTest: 7 0.8099091425326519\n",
      "Train: 12 \tTest: 7 0.7932992617830777\n",
      "Train: 17 \tTest: 7 0.7314026121521863\n",
      "Train: 18 \tTest: 7 0.827725724020443\n",
      "Train: 5 \tTest: 9 0.7301728520589731\n",
      "Train: 7 \tTest: 9 0.7168912048805287\n",
      "Train: 11 \tTest: 9 0.748220640569395\n",
      "Train: 12 \tTest: 9 0.7092653787493645\n",
      "Train: 17 \tTest: 9 0.7204499237417387\n",
      "Train: 18 \tTest: 9 0.742691916624301\n",
      "Train: 5 \tTest: 11 0.755712866368604\n",
      "Train: 7 \tTest: 11 0.7370839542970691\n",
      "Train: 9 \tTest: 11 0.7039244908097367\n",
      "Train: 12 \tTest: 11 0.7189518132141083\n",
      "Train: 17 \tTest: 11 0.6043219076005961\n",
      "Train: 18 \tTest: 11 0.7768877297565823\n",
      "Train: 5 \tTest: 12 0.7926203991942867\n",
      "Train: 7 \tTest: 12 0.8023255813953488\n",
      "Train: 9 \tTest: 12 0.7633217359457974\n",
      "Train: 11 \tTest: 12 0.8128547885002747\n",
      "Train: 17 \tTest: 12 0.7605749862662516\n",
      "Train: 18 \tTest: 12 0.8003112982970152\n",
      "Train: 5 \tTest: 17 0.7450672645739911\n",
      "Train: 7 \tTest: 17 0.8154708520179372\n",
      "Train: 9 \tTest: 17 0.7795964125560538\n",
      "Train: 11 \tTest: 17 0.792152466367713\n",
      "Train: 12 \tTest: 17 0.7964125560538117\n",
      "Train: 18 \tTest: 17 0.790695067264574\n",
      "Train: 5 \tTest: 18 0.7653402187120292\n",
      "Train: 7 \tTest: 18 0.8173602673147023\n",
      "Train: 9 \tTest: 18 0.7356470230862697\n",
      "Train: 11 \tTest: 18 0.8077916160388822\n",
      "Train: 12 \tTest: 18 0.7495443499392467\n",
      "Train: 17 \tTest: 18 0.68408262454435\n"
     ]
    }
   ],
   "source": [
    "all_pair_val_results = {}\n",
    "for test_part in part:\n",
    "    all_pair_val_results[test_part] = {}\n",
    "    for train_part in part:\n",
    "        if (train_part == test_part):\n",
    "            continue\n",
    "            \n",
    "        new_results = {}\n",
    "        \n",
    "        # Train - Test Split (and preprocessing)\n",
    "        X_train, y_train, X_val, y_val, X_test, y_test = split([train_part], [test_part], test_percentage_to_use)\n",
    "        \n",
    "        X_train = X_train.reset_index(drop=True)\n",
    "        y_train = y_train.reset_index(drop=True)\n",
    "        X_val = X_val.reset_index(drop=True)\n",
    "        y_val = y_val.reset_index(drop=True)\n",
    "        \n",
    "        # Evaluate on Val\n",
    "        results = model(X_train, y_train, X_val, y_val, False, False)\n",
    "        print('Train:', train_part, '\\tTest:', test_part, results['accuracy'])\n",
    "        all_pair_val_results[test_part][train_part] = results['accuracy']"
   ]
  },
  {
   "cell_type": "code",
   "execution_count": 26,
   "metadata": {},
   "outputs": [
    {
     "name": "stdout",
     "output_type": "stream",
     "text": [
      "Train: 7 \tTest: 5 0.8042217582927395\n",
      "Train: 9 \tTest: 5 0.6828268769813655\n",
      "Train: 11 \tTest: 5 0.8104074847289878\n",
      "Train: 12 \tTest: 5 0.7744529498182943\n",
      "Train: 17 \tTest: 5 0.706873888502281\n",
      "Train: 18 \tTest: 5 0.81643856800433\n",
      "Train: 5 \tTest: 7 0.7256782271688363\n",
      "Train: 9 \tTest: 7 0.7685580840703568\n",
      "Train: 11 \tTest: 7 0.8235118751863262\n",
      "Train: 12 \tTest: 7 0.8050780085461592\n",
      "Train: 17 \tTest: 7 0.7481864255192289\n",
      "Train: 18 \tTest: 7 0.8256981019576667\n",
      "Train: 5 \tTest: 9 0.7470753080378987\n",
      "Train: 7 \tTest: 9 0.7279035630087629\n",
      "Train: 11 \tTest: 9 0.7754548285218629\n",
      "Train: 12 \tTest: 9 0.72821493705796\n",
      "Train: 17 \tTest: 9 0.735020684133268\n",
      "Train: 18 \tTest: 9 0.7574840976824875\n",
      "Train: 5 \tTest: 11 0.7569435389229365\n",
      "Train: 7 \tTest: 11 0.7349067675055418\n",
      "Train: 9 \tTest: 11 0.6783587603772765\n",
      "Train: 12 \tTest: 11 0.7186943104272613\n",
      "Train: 17 \tTest: 11 0.6089016386317208\n",
      "Train: 18 \tTest: 11 0.7559438431781632\n",
      "Train: 5 \tTest: 12 0.7782477728641928\n",
      "Train: 7 \tTest: 12 0.810869704543998\n",
      "Train: 9 \tTest: 12 0.7719028391975902\n",
      "Train: 11 \tTest: 12 0.8190732551432417\n",
      "Train: 17 \tTest: 12 0.7626097545343844\n",
      "Train: 18 \tTest: 12 0.7897199256553227\n",
      "Train: 5 \tTest: 17 0.7202605147520402\n",
      "Train: 7 \tTest: 17 0.7828782172002511\n",
      "Train: 9 \tTest: 17 0.7572190834902699\n",
      "Train: 11 \tTest: 17 0.7694601381042059\n",
      "Train: 12 \tTest: 17 0.7706371625863151\n",
      "Train: 18 \tTest: 17 0.7500784682988073\n",
      "Train: 5 \tTest: 18 0.7564852221985966\n",
      "Train: 7 \tTest: 18 0.798532851371465\n",
      "Train: 9 \tTest: 18 0.7178928343610461\n",
      "Train: 11 \tTest: 18 0.7890708058685945\n",
      "Train: 12 \tTest: 18 0.7512226238571125\n",
      "Train: 17 \tTest: 18 0.6863704018711461\n"
     ]
    }
   ],
   "source": [
    "all_pair_test_results = {}\n",
    "for test_part in part:\n",
    "    all_pair_test_results[test_part] = {}\n",
    "    for train_part in part:\n",
    "        if (train_part == test_part):\n",
    "            continue\n",
    "            \n",
    "        new_results = {}\n",
    "        \n",
    "        # Train - Test Split (and preprocessing)\n",
    "        X_train, y_train, X_test, y_test = split_no_val([train_part], [test_part])\n",
    "        \n",
    "        X_train = X_train.reset_index(drop=True)\n",
    "        y_train = y_train.reset_index(drop=True)\n",
    "        \n",
    "        # Evaluate on Val\n",
    "        results = model(X_train, y_train, X_test, y_test, False, False)\n",
    "        print('Train:', train_part, '\\tTest:', test_part, results['accuracy'])\n",
    "        all_pair_test_results[test_part][train_part] = results['accuracy']"
   ]
  },
  {
   "cell_type": "code",
   "execution_count": 29,
   "metadata": {},
   "outputs": [
    {
     "name": "stdout",
     "output_type": "stream",
     "text": [
      "5 0.7474484306574168\n",
      "7 0.776552143653793\n",
      "9 0.7294597464129841\n",
      "11 0.7978297312588699\n",
      "12 0.758049998715517\n",
      "17 0.7079937988653381\n",
      "18 0.7825605007961296\n"
     ]
    }
   ],
   "source": [
    "for p in part:\n",
    "    avg = []\n",
    "    for test, other in all_pair_test_results.items():\n",
    "        if (p != test):\n",
    "            avg.append(other[p])\n",
    "    print(p, np.mean(avg))"
   ]
  },
  {
   "cell_type": "code",
   "execution_count": 35,
   "metadata": {},
   "outputs": [
    {
     "name": "stdout",
     "output_type": "stream",
     "text": [
      "\n",
      "\n",
      "Train: [5, 7, 9, 11, 12, 17] \tTest: [18]\n",
      "For  18 using train participants:  [11]\n",
      "{'f1_0': 0.17708333333333334, 'recall_0': 0.10365853658536585, 'precision_0': 0.6071428571428571, 'auc': 0.741333992634552, 'f1_1': 0.851255230125523, 'accuracy': 0.7480510276399717, 'recall_1': 0.9762476007677543, 'precision_1': 0.7546364985163204}\n",
      "\n",
      "Train: [5, 7, 9, 11, 12, 18] \tTest: [17]\n",
      "For  17 using train participants:  [5, 7, 9, 11, 12, 18]\n",
      "{'f1_0': 0.6250445950767035, 'recall_0': 0.4735135135135135, 'precision_0': 0.919202518363064, 'auc': 0.8859273255017936, 'f1_1': 0.7830753353973168, 'accuracy': 0.7251569037656904, 'recall_1': 0.9609929078014184, 'precision_1': 0.6607453848833159}\n",
      "\n",
      "Train: [5, 7, 9, 11, 17, 18] \tTest: [12]\n",
      "For  12 using train participants:  [11]\n",
      "{'f1_0': 0.8175771971496436, 'recall_0': 0.7459904638058084, 'precision_0': 0.9043615344193379, 'auc': 0.8994131263810482, 'f1_1': 0.8509316770186336, 'accuracy': 0.8359324930570391, 'recall_1': 0.9233361415332771, 'precision_1': 0.7890568754499641}\n",
      "\n",
      "Train: [5, 7, 9, 12, 17, 18] \tTest: [11]\n",
      "For  11 using train participants:  [5, 7, 9, 12, 17, 18]\n",
      "{'f1_0': 0.41571795813441054, 'recall_0': 0.29556135770234987, 'precision_0': 0.7004950495049505, 'auc': 0.7649764657109177, 'f1_1': 0.8564468104303888, 'accuracy': 0.7695204983340577, 'recall_1': 0.9514835605453087, 'precision_1': 0.7786710418375717}\n",
      "\n",
      "Train: [5, 7, 11, 12, 17, 18] \tTest: [9]\n",
      "For  9 using train participants:  [5, 7, 11, 12, 17, 18]\n",
      "{'f1_0': 0.8642227615276536, 'recall_0': 0.793200468933177, 'precision_0': 0.9492143658810326, 'auc': 0.9433124078205953, 'f1_1': 0.8122239886945768, 'accuracy': 0.8424017790956264, 'recall_1': 0.927016129032258, 'precision_1': 0.7227287016661427}\n",
      "\n",
      "Train: [5, 9, 11, 12, 17, 18] \tTest: [7]\n",
      "For  7 using train participants:  [11, 18]\n",
      "{'f1_0': 0.8209018120522545, 'recall_0': 0.7627251370399374, 'precision_0': 0.8886861313868614, 'auc': 0.9326351047005799, 'f1_1': 0.8840381991814462, 'accuracy': 0.8592249089102352, 'recall_1': 0.9299655568312285, 'precision_1': 0.8424336973478939}\n",
      "\n",
      "Train: [7, 9, 11, 12, 17, 18] \tTest: [5]\n",
      "For  5 using train participants:  [11, 18]\n",
      "{'f1_0': 0.3648315529991783, 'recall_0': 0.24078091106290672, 'precision_0': 0.752542372881356, 'auc': 0.847905382513541, 'f1_1': 0.8818584747057925, 'accuracy': 0.8007731958762887, 'recall_1': 0.9753211629479378, 'precision_1': 0.8047419804741981}\n"
     ]
    }
   ],
   "source": [
    "all_results = []\n",
    "for n in range(1, len(part)):    \n",
    "    if leave_one_out_run:\n",
    "        if n != len(part)-1:\n",
    "            continue\n",
    "    \n",
    "    comb = combinations(part, n)\n",
    "    print()\n",
    "    \n",
    "    for c in comb:\n",
    "        print()\n",
    "        new_results = {}\n",
    "        for m in metric_keys:\n",
    "            new_results[m] = []\n",
    "        \n",
    "        # Determine Train - Test Participants\n",
    "        train_part_candidate = [x for x in c]\n",
    "        test_part = [p for p in part if p not in c]\n",
    "        print('Train:', train_part_candidate, '\\tTest:', test_part)\n",
    "        \n",
    "        # Evaluate each test participant separately\n",
    "        for test in test_part:\n",
    "            # Lookup best train participants to use for this test participant\n",
    "            train_part = []\n",
    "            best_part = -1\n",
    "            best_part_acc = -1\n",
    "            for candidate in train_part_candidate:\n",
    "                lookup_acc_val = all_pair_val_results[test][candidate]\n",
    "                \n",
    "                lookup_acc_gen = []\n",
    "                for other in train_part_candidate:\n",
    "                    if (candidate == other):\n",
    "                        continue\n",
    "                    lookup_acc_gen.append(all_pair_test_results[other][candidate])\n",
    "                lookup_acc_gen = np.mean(lookup_acc_gen)\n",
    "                \n",
    "                lookup_acc = (lookup_acc_val + lookup_acc_gen)/2\n",
    "                \n",
    "                if (lookup_acc>threshold_to_use):\n",
    "                    train_part.append(candidate)\n",
    "                if (lookup_acc>best_part_acc):\n",
    "                    best_part = candidate\n",
    "                    best_part_acc = lookup_acc\n",
    "            if len(train_part)==0:\n",
    "                if use_all_if_lower_than_threshold:\n",
    "                    train_part = train_part_candidate\n",
    "                else:\n",
    "                    train_part.append(best_part)\n",
    "            print('For ', test, 'using train participants: ', train_part)\n",
    "            \n",
    "            # Train - Test Split (and preprocessing)\n",
    "            X_train, y_train, X_val, y_val, X_test, y_test = split(train_part, [test], test_percentage_to_use)\n",
    "            X_train = X_train.append(X_val)\n",
    "            y_train = y_train.append(y_val)\n",
    "            \n",
    "            idx = np.random.permutation(len(X_train))\n",
    "            X_train = X_train.iloc[idx]\n",
    "            y_train = y_train.iloc[idx]\n",
    "            X_train = X_train.reset_index(drop=True)\n",
    "            y_train = y_train.reset_index(drop=True)\n",
    "        \n",
    "            # Evaluate for this test participant  \n",
    "            results = model(X_train, y_train, X_test, y_test, True, True)\n",
    "            print(results)\n",
    "            for m in metric_keys:\n",
    "                new_results[m].append(results[m])\n",
    "        \n",
    "        # Combine results across test participants\n",
    "        final_results = {}\n",
    "        for m in metric_keys:\n",
    "            final_results[m] = np.mean(new_results[m])\n",
    "        final_results['train_participants'] = \", \".join(str(x) for x in train_part_candidate)\n",
    "        final_results['test_participants'] = \", \".join(str(x) for x in test_part)\n",
    "        all_results.append(final_results)"
   ]
  },
  {
   "cell_type": "code",
   "execution_count": null,
   "metadata": {},
   "outputs": [],
   "source": [
    "end_results = pd.DataFrame(columns=['train_participants', 'test_participants', 'accuracy', 'auc', 'precision_0', 'precision_1', 'recall_0', 'recall_1', 'f1_0', 'f1_1'])\n",
    "end_results = end_results.append(all_results, ignore_index=True, sort=True)"
   ]
  },
  {
   "cell_type": "code",
   "execution_count": null,
   "metadata": {},
   "outputs": [],
   "source": [
    "end_results.head()"
   ]
  },
  {
   "cell_type": "code",
   "execution_count": null,
   "metadata": {},
   "outputs": [],
   "source": [
    "end_results.to_csv(output_file, index=False)"
   ]
  },
  {
   "cell_type": "code",
   "execution_count": null,
   "metadata": {},
   "outputs": [],
   "source": []
  },
  {
   "cell_type": "code",
   "execution_count": null,
   "metadata": {},
   "outputs": [],
   "source": []
  }
 ],
 "metadata": {
  "kernelspec": {
   "display_name": "Python [conda env:caispp]",
   "language": "python",
   "name": "conda-env-caispp-py"
  },
  "language_info": {
   "codemirror_mode": {
    "name": "ipython",
    "version": 3
   },
   "file_extension": ".py",
   "mimetype": "text/x-python",
   "name": "python",
   "nbconvert_exporter": "python",
   "pygments_lexer": "ipython3",
   "version": "3.5.6"
  }
 },
 "nbformat": 4,
 "nbformat_minor": 2
}
