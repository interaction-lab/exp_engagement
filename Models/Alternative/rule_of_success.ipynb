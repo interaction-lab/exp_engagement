{
 "cells": [
  {
   "cell_type": "code",
   "execution_count": 1,
   "metadata": {},
   "outputs": [],
   "source": [
    "# Engagement Model Template"
   ]
  },
  {
   "cell_type": "code",
   "execution_count": 13,
   "metadata": {},
   "outputs": [],
   "source": [
    "import pandas as pd\n",
    "import numpy as np\n",
    "from sklearn.model_selection import train_test_split\n",
    "from sklearn.metrics import roc_auc_score\n",
    "from sklearn.metrics import roc_auc_score\n",
    "from sklearn.metrics import accuracy_score\n",
    "from sklearn import metrics\n",
    "from itertools import combinations"
   ]
  },
  {
   "cell_type": "markdown",
   "metadata": {},
   "source": [
    "# 1 -- Load Data"
   ]
  },
  {
   "cell_type": "code",
   "execution_count": 3,
   "metadata": {},
   "outputs": [],
   "source": [
    "# Windowed Data: 1 Second Overlapping Windows, Feature Median + Variance in Window \n",
    "p5_file = '../../../../Google Drive File Stream/My Drive/USC Expeditions Year 5/Analysis/Engagement/Data/Master Window/p5_master_window.csv'\n",
    "p7_file = '../../../../Google Drive File Stream/My Drive/USC Expeditions Year 5/Analysis/Engagement/Data/Master Window/p7_master_window.csv'\n",
    "p9_file = '../../../../Google Drive File Stream/My Drive/USC Expeditions Year 5/Analysis/Engagement/Data/Master Window/p9_master_window.csv'\n",
    "p11_file = '../../../../Google Drive File Stream/My Drive/USC Expeditions Year 5/Analysis/Engagement/Data/Master Window/p11_master_window.csv'\n",
    "p12_file = '../../../../Google Drive File Stream/My Drive/USC Expeditions Year 5/Analysis/Engagement/Data/Master Window/p12_master_window.csv'\n",
    "p17_file = '../../../../Google Drive File Stream/My Drive/USC Expeditions Year 5/Analysis/Engagement/Data/Master Window/p17_master_window.csv'\n",
    "p18_file = '../../../../Google Drive File Stream/My Drive/USC Expeditions Year 5/Analysis/Engagement/Data/Master Window/p18_master_window.csv'\n",
    "\n",
    "data5 = pd.read_csv(p5_file)\n",
    "data7 = pd.read_csv(p7_file)\n",
    "data9 = pd.read_csv(p9_file)\n",
    "data11 = pd.read_csv(p11_file)\n",
    "data12 = pd.read_csv(p12_file)\n",
    "data17 = pd.read_csv(p17_file)\n",
    "data18 = pd.read_csv(p18_file)"
   ]
  },
  {
   "cell_type": "code",
   "execution_count": 4,
   "metadata": {},
   "outputs": [],
   "source": [
    "data = [data5, data7, data9, data11, data12, data17, data18]\n",
    "part = [5, 7, 9, 11, 12, 17, 18]"
   ]
  },
  {
   "cell_type": "code",
   "execution_count": 5,
   "metadata": {},
   "outputs": [],
   "source": [
    "remove = [\n",
    "'engagement_change',\n",
    "'ros_GAME_STATE',\n",
    "'ros_PARTICIPANT_STATE',\n",
    "'ros_ROBOT_STATE',\n",
    "'ros_activity',\n",
    "'ros_diff_1_change',\n",
    "'ros_diff_2_change',\n",
    "'ros_diff_3_change',\n",
    "'ros_diff_4_change',\n",
    "'ros_diff_5_change',\n",
    "'ros_difficulty',\n",
    "'ros_skill_EM_change',\n",
    "'ros_skill_NC_change',\n",
    "'ros_skill_OS_change',\n",
    "'ros_ts_attempt_var',\n",
    "'ros_games_session_change',\n",
    "'ros_in_game_change',\n",
    "'ros_mistakes_session_change',\n",
    "'ros_mistakes_game_change',\n",
    "'ros_skill',\n",
    "'ros_ts_game_start_var',\n",
    "'ros_ts_robot_talked_var',]\n",
    "\n",
    "for i, d in enumerate(data):\n",
    "    data[i] = d.drop(columns=remove)"
   ]
  },
  {
   "cell_type": "markdown",
   "metadata": {},
   "source": [
    "# 2 -- Choose Feature Set"
   ]
  },
  {
   "cell_type": "markdown",
   "metadata": {},
   "source": [
    "Feature Dictionary: https://docs.google.com/spreadsheets/d/1ewoVPHwW68Ins0AOVZf-0lsl_wW0_ZzuByuDiNJETBY/edit?usp=sharing"
   ]
  },
  {
   "cell_type": "markdown",
   "metadata": {},
   "source": [
    "### Data Overview"
   ]
  },
  {
   "cell_type": "code",
   "execution_count": 6,
   "metadata": {},
   "outputs": [
    {
     "name": "stdout",
     "output_type": "stream",
     "text": [
      "engagement\n",
      "participant\n",
      "session_num\n",
      "timestamp\n"
     ]
    }
   ],
   "source": [
    "# Main Columns\n",
    "basic_cols = []\n",
    "for i in data[0].columns:\n",
    "    if 'of_' not in i and 'op_' not in i and 'ros_' not in i and 'a_' not in i:\n",
    "        basic_cols.append(i)\n",
    "        \n",
    "basic_cols = sorted(basic_cols)\n",
    "for i in basic_cols:\n",
    "    print(i)"
   ]
  },
  {
   "cell_type": "code",
   "execution_count": 7,
   "metadata": {},
   "outputs": [
    {
     "name": "stdout",
     "output_type": "stream",
     "text": [
      "of_AU01_c\n",
      "of_AU02_c\n",
      "of_AU04_c\n",
      "of_AU05_c\n",
      "of_AU06_c\n",
      "of_AU07_c\n",
      "of_AU09_c\n",
      "of_AU10_c\n",
      "of_AU12_c\n",
      "of_AU14_c\n",
      "of_AU15_c\n",
      "of_AU17_c\n",
      "of_AU20_c\n",
      "of_AU23_c\n",
      "of_AU25_c\n",
      "of_AU26_c\n",
      "of_AU28_c\n",
      "of_AU45_c\n",
      "of_confidence\n",
      "of_gaze_0_x\n",
      "of_gaze_0_y\n",
      "of_gaze_0_z\n",
      "of_gaze_1_x\n",
      "of_gaze_1_y\n",
      "of_gaze_1_z\n",
      "of_gaze_angle_x\n",
      "of_gaze_angle_y\n",
      "of_gaze_distance\n",
      "of_gaze_distance_x\n",
      "of_gaze_distance_y\n",
      "of_pose_Rx\n",
      "of_pose_Ry\n",
      "of_pose_Rz\n",
      "of_pose_Tx\n",
      "of_pose_Ty\n",
      "of_pose_Tz\n",
      "of_pose_distance\n",
      "of_success\n",
      "of_ts_success\n",
      "op_num_people\n"
     ]
    }
   ],
   "source": [
    "# Open Face Columns\n",
    "\n",
    "of_cols = []\n",
    "for i in data[0].columns:\n",
    "    if ('of_' in i or 'op_' in i) and '_change' not in i and '_var' not in i:\n",
    "        of_cols.append(i)\n",
    "        \n",
    "of_cols = sorted(of_cols)\n",
    "for i in of_cols:\n",
    "    print(i)"
   ]
  },
  {
   "cell_type": "code",
   "execution_count": 8,
   "metadata": {},
   "outputs": [
    {
     "name": "stdout",
     "output_type": "stream",
     "text": [
      "a_harmonicity\n",
      "a_intensity\n",
      "a_mfcc_0\n",
      "a_mfcc_1\n",
      "a_pitch_frequency\n",
      "a_pitch_strength\n"
     ]
    }
   ],
   "source": [
    "# Audio Columns\n",
    "\n",
    "a_cols = []\n",
    "for i in data[0].columns:\n",
    "    if 'a_' in i and '_change' not in i and '_var' not in i:\n",
    "        a_cols.append(i)\n",
    "        \n",
    "a_cols = sorted(a_cols)\n",
    "for i in a_cols:\n",
    "    print(i)"
   ]
  },
  {
   "cell_type": "code",
   "execution_count": 9,
   "metadata": {},
   "outputs": [
    {
     "name": "stdout",
     "output_type": "stream",
     "text": [
      "ros_aptitude\n",
      "ros_diff_1\n",
      "ros_diff_2\n",
      "ros_diff_3\n",
      "ros_diff_4\n",
      "ros_diff_5\n",
      "ros_game_correct\n",
      "ros_game_incorrect\n",
      "ros_game_start\n",
      "ros_games_session\n",
      "ros_in_game\n",
      "ros_mistake_made\n",
      "ros_mistakes_game\n",
      "ros_mistakes_session\n",
      "ros_skill_EM\n",
      "ros_skill_NC\n",
      "ros_skill_OS\n",
      "ros_ts_attempt\n",
      "ros_ts_game_start\n",
      "ros_ts_robot_talked\n"
     ]
    }
   ],
   "source": [
    "# ROS Columns\n",
    "\n",
    "ros_cols = []\n",
    "for i in data[0].columns:\n",
    "    if 'ros_' in i and '_change' not in i and '_var' not in i:\n",
    "        ros_cols.append(i)\n",
    "        \n",
    "ros_cols = sorted(ros_cols)\n",
    "for i in ros_cols:\n",
    "    print(i)"
   ]
  },
  {
   "cell_type": "code",
   "execution_count": 10,
   "metadata": {},
   "outputs": [
    {
     "name": "stdout",
     "output_type": "stream",
     "text": [
      "a_harmonicity_var\n",
      "a_intensity_var\n",
      "a_mfcc_0_var\n",
      "a_mfcc_1_var\n",
      "a_pitch_frequency_var\n",
      "a_pitch_strength_var\n",
      "of_AU01_c_change\n",
      "of_AU02_c_change\n",
      "of_AU04_c_change\n",
      "of_AU05_c_change\n",
      "of_AU06_c_change\n",
      "of_AU07_c_change\n",
      "of_AU09_c_change\n",
      "of_AU10_c_change\n",
      "of_AU12_c_change\n",
      "of_AU14_c_change\n",
      "of_AU15_c_change\n",
      "of_AU17_c_change\n",
      "of_AU20_c_change\n",
      "of_AU23_c_change\n",
      "of_AU25_c_change\n",
      "of_AU26_c_change\n",
      "of_AU28_c_change\n",
      "of_AU45_c_change\n",
      "of_confidence_var\n",
      "of_gaze_0_x_var\n",
      "of_gaze_0_y_var\n",
      "of_gaze_0_z_var\n",
      "of_gaze_1_x_var\n",
      "of_gaze_1_y_var\n",
      "of_gaze_1_z_var\n",
      "of_gaze_angle_x_var\n",
      "of_gaze_angle_y_var\n",
      "of_gaze_distance_var\n",
      "of_gaze_distance_x_var\n",
      "of_gaze_distance_y_var\n",
      "of_pose_Rx_var\n",
      "of_pose_Ry_var\n",
      "of_pose_Rz_var\n",
      "of_pose_Tx_var\n",
      "of_pose_Ty_var\n",
      "of_pose_Tz_var\n",
      "of_pose_distance_var\n",
      "of_success_change\n",
      "of_ts_success_var\n",
      "op_num_people_change\n",
      "ros_aptitude_var\n"
     ]
    }
   ],
   "source": [
    "# For Window Only:\n",
    "non_window_features = []\n",
    "window_features = []\n",
    "for i in data[0].columns:\n",
    "    if i not in basic_cols:\n",
    "        if 'change' in i or 'var' in i:\n",
    "            window_features.append(i)\n",
    "        else:\n",
    "            non_window_features.append(i)\n",
    "        \n",
    "window_features = sorted(window_features)\n",
    "for i in window_features:\n",
    "    print(i)"
   ]
  },
  {
   "cell_type": "code",
   "execution_count": 45,
   "metadata": {},
   "outputs": [],
   "source": [
    "# Columns where NaNs filled with max value\n",
    "nan_max_cols = ['of_gaze_0_x',\n",
    "'of_gaze_0_y',\n",
    "'of_gaze_0_z',\n",
    "'of_gaze_1_x',\n",
    "'of_gaze_1_y',\n",
    "'of_gaze_1_z',\n",
    "'of_gaze_angle_x',\n",
    "'of_gaze_angle_y',\n",
    "'of_gaze_distance',\n",
    "'of_gaze_distance_x',\n",
    "'of_gaze_distance_y',\n",
    "'of_pose_Rxv',\n",
    "'of_pose_Ry',\n",
    "'of_pose_Rz',\n",
    "'of_pose_Tx',\n",
    "'of_pose_Ty',\n",
    "'of_pose_Tz',\n",
    "'of_pose_distance']"
   ]
  },
  {
   "cell_type": "markdown",
   "metadata": {},
   "source": [
    "### Filter Feature Set (Optional)"
   ]
  },
  {
   "cell_type": "code",
   "execution_count": 11,
   "metadata": {},
   "outputs": [],
   "source": [
    "# features_to_keep = data[0].columns\n",
    "\n",
    "# always include basic_cols, add desired group of features \n",
    "features_to_keep = basic_cols + of_cols + ros_cols + a_cols + window_features\n",
    "\n",
    "for i,d in enumerate(data):\n",
    "    data[i] = d[features_to_keep]"
   ]
  },
  {
   "cell_type": "markdown",
   "metadata": {},
   "source": [
    "# 3 -- Scenario Based Modeling"
   ]
  },
  {
   "cell_type": "markdown",
   "metadata": {},
   "source": [
    "- Open Face Success / Failure\n",
    "- Robot Talking / Not Talking\n",
    "- First 10 Minutes / After 10 Minutes"
   ]
  },
  {
   "cell_type": "code",
   "execution_count": 12,
   "metadata": {},
   "outputs": [],
   "source": [
    "# Create Separate Models for Different Scenarios\n",
    "\n",
    "# for i,d in enumerate(data):\n",
    "#     # Open Face Success/Failure\n",
    "#     data[i] = d.loc[d['of_success']==1]\n",
    "#     data[i] = d.loc[d['of_success']==0]\n",
    "    \n",
    "#     # Robot Talking/Not Talking\n",
    "#     data[i] = d.loc[d['ros_ts_robot_talked']==0]\n",
    "#     data[i] = d.loc[d['ros_ts_robot_talked']>0]\n",
    "    \n",
    "#     # First 10 Min/After 10 Min\n",
    "#     data[i] = d.loc[d['timestamp']<=(10*60)]\n",
    "#     data[i] = d.loc[d['timestamp']>(10*60)]"
   ]
  },
  {
   "cell_type": "markdown",
   "metadata": {},
   "source": [
    "# 4 -- Modeling"
   ]
  },
  {
   "cell_type": "code",
   "execution_count": 31,
   "metadata": {},
   "outputs": [],
   "source": [
    "# Helper Function: Split a Participant's Data Chronologically \n",
    "\n",
    "def part_split(split, split_size):\n",
    "    split = split.sort_values(['session_num', 'timestamp'], ascending=[True, True])\n",
    "    bogus = split['engagement']\n",
    "\n",
    "    split_train, split_test, bogus1, bogus2 = train_test_split(split, bogus, test_size=split_size, shuffle=False)\n",
    "    return split_test, split_train"
   ]
  },
  {
   "cell_type": "code",
   "execution_count": 88,
   "metadata": {},
   "outputs": [],
   "source": [
    "# Function: Formulate Train-Test Split \n",
    "\n",
    "# train_part: an array of participants \n",
    "# test_part: an array of participants\n",
    "# split_size: how much of each test participant's data to use for training\n",
    "def split(train_part, test_part, split_size):\n",
    "    train_data = []\n",
    "    for p in train_part:\n",
    "        i = part.index(p)\n",
    "        train_data.append(data[i])\n",
    "    \n",
    "    test_data = []\n",
    "    for p in test_part:\n",
    "        i = part.index(p)\n",
    "        if split_size > 0:\n",
    "            p_test, p_train = part_split(data[i], split_size)\n",
    "            train_data.append(p_train)\n",
    "            test_data.append(p_test)\n",
    "        else:\n",
    "            test_data.append(data[i])\n",
    "        \n",
    "    train_data = pd.concat(train_data, ignore_index=True, sort=True)\n",
    "    test_data = pd.concat(test_data, ignore_index=True, sort=True)\n",
    "\n",
    "    return train_data, test_data"
   ]
  },
  {
   "cell_type": "code",
   "execution_count": 104,
   "metadata": {},
   "outputs": [
    {
     "name": "stdout",
     "output_type": "stream",
     "text": [
      "Train: 5, 7, 9, 11, 12, 17 \tTest: 18\n",
      "0.7084591344880555 nan\n",
      "Train: 5, 7, 9, 11, 12, 18 \tTest: 17\n"
     ]
    },
    {
     "name": "stderr",
     "output_type": "stream",
     "text": [
      "/anaconda3/envs/caispp/lib/python3.5/site-packages/sklearn/metrics/classification.py:1143: UndefinedMetricWarning: Precision is ill-defined and being set to 0.0 in labels with no predicted samples.\n",
      "  'precision', 'predicted', average, warn_for)\n",
      "/anaconda3/envs/caispp/lib/python3.5/site-packages/sklearn/metrics/classification.py:1143: UndefinedMetricWarning: F-score is ill-defined and being set to 0.0 in labels with no predicted samples.\n",
      "  'precision', 'predicted', average, warn_for)\n"
     ]
    },
    {
     "name": "stdout",
     "output_type": "stream",
     "text": [
      "0.6285178236397748 nan\n",
      "Train: 5, 7, 9, 11, 17, 18 \tTest: 12\n",
      "0.7647888226623085 0.7331423671279188\n",
      "Train: 5, 7, 9, 12, 17, 18 \tTest: 11\n",
      "0.7675055417916287 0.5849388106108211\n",
      "Train: 5, 7, 11, 12, 17, 18 \tTest: 9\n",
      "0.7569503135981496 0.7557884490790903\n",
      "Train: 5, 9, 11, 12, 17, 18 \tTest: 7\n",
      "0.6717181754943854 0.6637066870619871\n",
      "Train: 7, 9, 11, 12, 17, 18 \tTest: 5\n",
      "0.8138869558493775 0.6714483406987826\n"
     ]
    }
   ],
   "source": [
    "all_results = []\n",
    "for n in range(1, len(part)):\n",
    "    comb = combinations(part, n)\n",
    "    if n != len(part)-1:\n",
    "        continue\n",
    "    for c in comb:\n",
    "        new_results = {}\n",
    "        \n",
    "        # Determine Train - Test Participants\n",
    "        train_part = [x for x in c]\n",
    "        test_part = [p for p in part if p not in c]\n",
    "        new_results['train_participants'] = \", \".join(str(x) for x in train_part)\n",
    "        new_results['test_participants'] = \", \".join(str(x) for x in test_part)\n",
    "        print('Train:', new_results['train_participants'], '\\tTest:', new_results['test_participants'])\n",
    "        \n",
    "        # Train - Test Split\n",
    "        train, test = split(train_part, test_part, 0)\n",
    "        y_train = train['engagement']\n",
    "        X_train = train.drop(columns=basic_cols)\n",
    "        y_test = test['engagement']\n",
    "        X_test = test.drop(columns=basic_cols)        \n",
    "        \n",
    "        # Sort Training Data Together \n",
    "        X_train, bogus1, y_train, bogus2 = train_test_split(X_train, y_train, test_size=0.0, shuffle=True)\n",
    "        X_train, bogus1, y_train, bogus2 = train_test_split(X_train, y_train, test_size=0.0, shuffle=True)\n",
    "        X_train, bogus1, y_train, bogus2 = train_test_split(X_train, y_train, test_size=0.0, shuffle=True)\n",
    "        X_train, bogus1, y_train, bogus2 = train_test_split(X_train, y_train, test_size=0.0, shuffle=True)\n",
    "        X_train, bogus1, y_train, bogus2 = train_test_split(X_train, y_train, test_size=0.0, shuffle=True)\n",
    "        \n",
    "        # Preprocessing: Standardization\n",
    "        # x' = ( x - mean(x) ) / ( stdev(x) )\n",
    "        # => x' is z-score, NaN's filled with min_val\n",
    "        for c in X_train.columns:\n",
    "            mean = np.nanmean(X_train[c])\n",
    "            std = np.nanstd(X_train[c])\n",
    "\n",
    "            X_train[c] = (X_train[c]-mean)/(std)\n",
    "            X_test[c] = (X_test[c]-mean)/(std)\n",
    "            \n",
    "            if c not in nan_max_cols:\n",
    "                min_val = np.nanmin(X_train[c])\n",
    "\n",
    "                X_train[c] = X_train[c].fillna(min_val)\n",
    "                X_test[c] = X_test[c].fillna(min_val)\n",
    "            else:\n",
    "                max_val = np.nanmax(X_train[c])\n",
    "\n",
    "                X_train[c] = X_train[c].fillna(max_val)\n",
    "                X_test[c] = X_test[c].fillna(max_val) \n",
    "                \n",
    "        # MODEL HERE\n",
    "        success = max(X_test['of_success'].unique())\n",
    "        pred = []\n",
    "        for i in X_test['of_success']:\n",
    "            if i==success:\n",
    "                pred.append(1)\n",
    "            else:\n",
    "                pred.append(0)\n",
    "        scores = pred\n",
    "        \n",
    "        # Evaluation\n",
    "        accuracy = accuracy_score(y_test, pred)\n",
    "        try:\n",
    "            auc = roc_auc_score(y_test, scores)\n",
    "        except:\n",
    "            auc = np.nan\n",
    "        new_results['accuracy'] = accuracy\n",
    "        new_results['auc'] = auc\n",
    "        print(accuracy, auc)\n",
    "        \n",
    "        precision = metrics.precision_score(y_test, pred, average=None)\n",
    "        recall = metrics.recall_score(y_test, pred, average=None)\n",
    "        f1 = metrics.f1_score(y_test, pred, average=None)\n",
    "\n",
    "        new_results['precision_0'], new_results['precision_1'] = precision[0], precision[1]\n",
    "        new_results['recall_0'], new_results['recall_1'] = recall[0], recall[1]\n",
    "        new_results['f1_0'], new_results['f1_1'] = f1[0], f1[1]\n",
    "        \n",
    "        all_results.append(new_results)"
   ]
  },
  {
   "cell_type": "code",
   "execution_count": 105,
   "metadata": {},
   "outputs": [],
   "source": [
    "results = pd.DataFrame(columns=['train_participants', 'test_participants', 'accuracy', 'auc', 'precision_0', 'precision_1', 'recall_0', 'recall_1', 'f1_0', 'f1_1'])\n",
    "results = results.append(all_results, ignore_index=True, sort=True)\n",
    "results.to_csv('results.csv', index=False)"
   ]
  },
  {
   "cell_type": "code",
   "execution_count": null,
   "metadata": {},
   "outputs": [],
   "source": []
  }
 ],
 "metadata": {
  "kernelspec": {
   "display_name": "Python [conda env:caispp]",
   "language": "python",
   "name": "conda-env-caispp-py"
  },
  "language_info": {
   "codemirror_mode": {
    "name": "ipython",
    "version": 3
   },
   "file_extension": ".py",
   "mimetype": "text/x-python",
   "name": "python",
   "nbconvert_exporter": "python",
   "pygments_lexer": "ipython3",
   "version": "3.5.6"
  }
 },
 "nbformat": 4,
 "nbformat_minor": 2
}
