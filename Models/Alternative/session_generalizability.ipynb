{
 "cells": [
  {
   "cell_type": "code",
   "execution_count": 93,
   "metadata": {
    "nbpresent": {
     "id": "d8daa9c6-31ac-4a53-ac54-52fbfb1764ae"
    }
   },
   "outputs": [],
   "source": [
    "# Generalized + Individualized Approach\n",
    "# Train & Test on Distinct Groups of Participants\n",
    "# Also Use Small % of Test Participant's Data (Chronological Split)\n",
    "\n",
    "# Evaluate \"generalizability\" of each train participant's session for particular test participant"
   ]
  },
  {
   "cell_type": "code",
   "execution_count": 94,
   "metadata": {
    "nbpresent": {
     "id": "078c7dbd-e23b-4ff8-a8cd-ff2100f983d7"
    }
   },
   "outputs": [],
   "source": [
    "import pandas as pd\n",
    "import numpy as np\n",
    "from sklearn.model_selection import train_test_split\n",
    "from sklearn.metrics import roc_auc_score\n",
    "from sklearn.metrics import roc_auc_score\n",
    "from sklearn.metrics import accuracy_score\n",
    "from sklearn import metrics\n",
    "from itertools import combinations\n",
    "import itertools\n",
    "import json\n",
    "pd.options.mode.chained_assignment = None"
   ]
  },
  {
   "cell_type": "code",
   "execution_count": 95,
   "metadata": {
    "nbpresent": {
     "id": "817f414f-878f-4921-8519-0f0f0bfe95fd"
    }
   },
   "outputs": [],
   "source": [
    "# Key Features: op_num_people, of_pose_distance, of_gaze_distance, of_confidence, ros_mistakes_session, ros_ts_robot_talked, timestamp\n",
    "use_key_features = False\n",
    "\n",
    "# Leave One Out Run: test on each participant & train on remaining\n",
    "leave_one_out_run = True\n",
    "\n",
    "# Number of Estimators for Bagging\n",
    "num_estimators = 10\n",
    "\n",
    "# Sample Percentage for Bagging\n",
    "sample_percentage = 0.75\n",
    "\n",
    "# Threshold to Use\n",
    "threshold_to_use = 0.75\n",
    "use_all_if_lower_than_threshold = True\n",
    "\n",
    "# Percentage of Test Participant Data to Use\n",
    "test_percentage_to_use = 0.3\n",
    "\n",
    "# File Name for Model Results\n",
    "output_file = 'multi4_session_af_xgb_results_75.csv'\n",
    "\n",
    "metric_keys = ['accuracy', 'auc', 'precision_0', 'precision_1', 'recall_0', 'recall_1', 'f1_0', 'f1_1']"
   ]
  },
  {
   "cell_type": "markdown",
   "metadata": {
    "nbpresent": {
     "id": "a4def072-f97c-47c8-ac41-beaa42417b78"
    }
   },
   "source": [
    "# 1 -- Load Data"
   ]
  },
  {
   "cell_type": "code",
   "execution_count": 96,
   "metadata": {
    "nbpresent": {
     "id": "9c9cbf36-b3c4-4ce0-a6f1-bb7b983befad"
    }
   },
   "outputs": [],
   "source": [
    "# Windowed Data: 1 Second Overlapping Windows, Feature Median + Variance in Window \n",
    "p5_file = '../../../../../Google Drive File Stream/My Drive/USC Expeditions Year 5/Analysis/Engagement/Data/Master Window/p5_master_window.csv'\n",
    "p7_file = '../../../../../Google Drive File Stream/My Drive/USC Expeditions Year 5/Analysis/Engagement/Data/Master Window/p7_master_window.csv'\n",
    "p9_file = '../../../../../Google Drive File Stream/My Drive/USC Expeditions Year 5/Analysis/Engagement/Data/Master Window/p9_master_window.csv'\n",
    "p11_file = '../../../../../Google Drive File Stream/My Drive/USC Expeditions Year 5/Analysis/Engagement/Data/Master Window/p11_master_window.csv'\n",
    "p12_file = '../../../../../Google Drive File Stream/My Drive/USC Expeditions Year 5/Analysis/Engagement/Data/Master Window/p12_master_window.csv'\n",
    "p17_file = '../../../../../Google Drive File Stream/My Drive/USC Expeditions Year 5/Analysis/Engagement/Data/Master Window/p17_master_window.csv'\n",
    "p18_file = '../../../../../Google Drive File Stream/My Drive/USC Expeditions Year 5/Analysis/Engagement/Data/Master Window/p18_master_window.csv'\n",
    "\n",
    "data5 = pd.read_csv(p5_file)\n",
    "data7 = pd.read_csv(p7_file)\n",
    "data9 = pd.read_csv(p9_file)\n",
    "data11 = pd.read_csv(p11_file)\n",
    "data12 = pd.read_csv(p12_file)\n",
    "data17 = pd.read_csv(p17_file)\n",
    "data18 = pd.read_csv(p18_file)"
   ]
  },
  {
   "cell_type": "code",
   "execution_count": 97,
   "metadata": {
    "nbpresent": {
     "id": "2ee7a66e-39fd-470a-b4ab-2611ae3a9077"
    }
   },
   "outputs": [],
   "source": [
    "data = [data5, data7, data9, data11, data12, data17, data18]\n",
    "part = [5, 7, 9, 11, 12, 17, 18]"
   ]
  },
  {
   "cell_type": "code",
   "execution_count": 98,
   "metadata": {
    "nbpresent": {
     "id": "897ef394-cb7d-4145-bfc4-50a8dc02650e"
    }
   },
   "outputs": [],
   "source": [
    "remove = [\n",
    "'engagement_change',\n",
    "'ros_GAME_STATE',\n",
    "'ros_PARTICIPANT_STATE',\n",
    "'ros_ROBOT_STATE',\n",
    "'ros_activity',\n",
    "'ros_diff_1_change',\n",
    "'ros_diff_2_change',\n",
    "'ros_diff_3_change',\n",
    "'ros_diff_4_change',\n",
    "'ros_diff_5_change',\n",
    "'ros_difficulty',\n",
    "'ros_skill_EM_change',\n",
    "'ros_skill_NC_change',\n",
    "'ros_skill_OS_change',\n",
    "'ros_ts_attempt_var',\n",
    "'ros_games_session_change',\n",
    "'ros_in_game_change',\n",
    "'ros_mistakes_session_change',\n",
    "'ros_mistakes_game_change',\n",
    "'ros_skill',\n",
    "'ros_ts_game_start_var',\n",
    "'ros_ts_robot_talked_var',\n",
    "'ros_game_correct',\n",
    "'ros_game_incorrect',\n",
    "'ros_game_start',\n",
    "'ros_mistake_made',\n",
    "]\n",
    "\n",
    "for i, d in enumerate(data):\n",
    "    data[i] = d.drop(columns=remove)"
   ]
  },
  {
   "cell_type": "code",
   "execution_count": 99,
   "metadata": {
    "nbpresent": {
     "id": "6a408f43-1bd5-43ec-82fd-6e0658eba20d"
    }
   },
   "outputs": [],
   "source": [
    "# Remove rows where engagment NaN\n",
    "for i,d in enumerate(data):\n",
    "    data[i] = d[np.isfinite(d['engagement'])]\n",
    "    \n",
    "# Remove rows where engagment is -1\n",
    "for i,d in enumerate(data):\n",
    "    data[i] = d[d['engagement']>=0]"
   ]
  },
  {
   "cell_type": "markdown",
   "metadata": {
    "nbpresent": {
     "id": "9ea9007a-1788-40c2-b41a-5482b57c079c"
    }
   },
   "source": [
    "# 2 -- Choose Feature Set"
   ]
  },
  {
   "cell_type": "markdown",
   "metadata": {
    "nbpresent": {
     "id": "6e49a907-21bd-4614-bbe9-3679ae674b1d"
    }
   },
   "source": [
    "Feature Dictionary: https://docs.google.com/spreadsheets/d/1ewoVPHwW68Ins0AOVZf-0lsl_wW0_ZzuByuDiNJETBY/edit?usp=sharing"
   ]
  },
  {
   "cell_type": "markdown",
   "metadata": {
    "nbpresent": {
     "id": "28dc0f9c-3d0e-46dd-9244-921544efab2d"
    }
   },
   "source": [
    "### Data Overview"
   ]
  },
  {
   "cell_type": "code",
   "execution_count": 100,
   "metadata": {
    "nbpresent": {
     "id": "019a7044-b1a7-485d-b06f-55f99fb11267"
    }
   },
   "outputs": [
    {
     "name": "stdout",
     "output_type": "stream",
     "text": [
      "engagement\n",
      "participant\n",
      "session_num\n",
      "timestamp\n"
     ]
    }
   ],
   "source": [
    "# Main Columns\n",
    "basic_cols = []\n",
    "for i in data[0].columns:\n",
    "    if 'of_' not in i and 'op_' not in i and 'ros_' not in i and 'a_' not in i:\n",
    "        basic_cols.append(i)\n",
    "        \n",
    "basic_cols = sorted(basic_cols)\n",
    "for i in basic_cols:\n",
    "    print(i)"
   ]
  },
  {
   "cell_type": "code",
   "execution_count": 101,
   "metadata": {
    "nbpresent": {
     "id": "337cceec-c399-45c7-87e5-c56b56e5413a"
    }
   },
   "outputs": [
    {
     "name": "stdout",
     "output_type": "stream",
     "text": [
      "of_AU01_c\n",
      "of_AU02_c\n",
      "of_AU04_c\n",
      "of_AU05_c\n",
      "of_AU06_c\n",
      "of_AU07_c\n",
      "of_AU09_c\n",
      "of_AU10_c\n",
      "of_AU12_c\n",
      "of_AU14_c\n",
      "of_AU15_c\n",
      "of_AU17_c\n",
      "of_AU20_c\n",
      "of_AU23_c\n",
      "of_AU25_c\n",
      "of_AU26_c\n",
      "of_AU28_c\n",
      "of_AU45_c\n",
      "of_confidence\n",
      "of_gaze_0_x\n",
      "of_gaze_0_y\n",
      "of_gaze_0_z\n",
      "of_gaze_1_x\n",
      "of_gaze_1_y\n",
      "of_gaze_1_z\n",
      "of_gaze_angle_x\n",
      "of_gaze_angle_y\n",
      "of_gaze_distance\n",
      "of_gaze_distance_x\n",
      "of_gaze_distance_y\n",
      "of_pose_Rx\n",
      "of_pose_Ry\n",
      "of_pose_Rz\n",
      "of_pose_Tx\n",
      "of_pose_Ty\n",
      "of_pose_Tz\n",
      "of_pose_distance\n",
      "of_success\n",
      "of_ts_success\n",
      "op_num_people\n"
     ]
    }
   ],
   "source": [
    "# Open Face Columns\n",
    "\n",
    "of_cols = []\n",
    "for i in data[0].columns:\n",
    "    if ('of_' in i or 'op_' in i) and '_change' not in i and '_var' not in i:\n",
    "        of_cols.append(i)\n",
    "        \n",
    "of_cols = sorted(of_cols)\n",
    "for i in of_cols:\n",
    "    print(i)"
   ]
  },
  {
   "cell_type": "code",
   "execution_count": 102,
   "metadata": {
    "nbpresent": {
     "id": "97d7450d-34f9-454c-88de-458af8da13b1"
    }
   },
   "outputs": [
    {
     "name": "stdout",
     "output_type": "stream",
     "text": [
      "a_harmonicity\n",
      "a_intensity\n",
      "a_mfcc_0\n",
      "a_mfcc_1\n",
      "a_pitch_frequency\n",
      "a_pitch_strength\n"
     ]
    }
   ],
   "source": [
    "# Audio Columns\n",
    "\n",
    "a_cols = []\n",
    "for i in data[0].columns:\n",
    "    if 'a_' in i and '_change' not in i and '_var' not in i:\n",
    "        a_cols.append(i)\n",
    "        \n",
    "a_cols = sorted(a_cols)\n",
    "for i in a_cols:\n",
    "    print(i)"
   ]
  },
  {
   "cell_type": "code",
   "execution_count": 103,
   "metadata": {
    "nbpresent": {
     "id": "79fbc404-db05-444f-abd4-2f18688695dc"
    }
   },
   "outputs": [
    {
     "name": "stdout",
     "output_type": "stream",
     "text": [
      "ros_aptitude\n",
      "ros_diff_1\n",
      "ros_diff_2\n",
      "ros_diff_3\n",
      "ros_diff_4\n",
      "ros_diff_5\n",
      "ros_games_session\n",
      "ros_in_game\n",
      "ros_mistakes_game\n",
      "ros_mistakes_session\n",
      "ros_skill_EM\n",
      "ros_skill_NC\n",
      "ros_skill_OS\n",
      "ros_ts_attempt\n",
      "ros_ts_game_start\n",
      "ros_ts_robot_talked\n"
     ]
    }
   ],
   "source": [
    "# ROS Columns\n",
    "\n",
    "ros_cols = []\n",
    "for i in data[0].columns:\n",
    "    if 'ros_' in i and '_change' not in i and '_var' not in i:\n",
    "        ros_cols.append(i)\n",
    "        \n",
    "ros_cols = sorted(ros_cols)\n",
    "for i in ros_cols:\n",
    "    print(i)"
   ]
  },
  {
   "cell_type": "code",
   "execution_count": 104,
   "metadata": {
    "nbpresent": {
     "id": "f749961c-a4f0-43e8-a392-4c1120888d89"
    }
   },
   "outputs": [
    {
     "name": "stdout",
     "output_type": "stream",
     "text": [
      "a_harmonicity_var\n",
      "a_intensity_var\n",
      "a_mfcc_0_var\n",
      "a_mfcc_1_var\n",
      "a_pitch_frequency_var\n",
      "a_pitch_strength_var\n",
      "of_AU01_c_change\n",
      "of_AU02_c_change\n",
      "of_AU04_c_change\n",
      "of_AU05_c_change\n",
      "of_AU06_c_change\n",
      "of_AU07_c_change\n",
      "of_AU09_c_change\n",
      "of_AU10_c_change\n",
      "of_AU12_c_change\n",
      "of_AU14_c_change\n",
      "of_AU15_c_change\n",
      "of_AU17_c_change\n",
      "of_AU20_c_change\n",
      "of_AU23_c_change\n",
      "of_AU25_c_change\n",
      "of_AU26_c_change\n",
      "of_AU28_c_change\n",
      "of_AU45_c_change\n",
      "of_confidence_var\n",
      "of_gaze_0_x_var\n",
      "of_gaze_0_y_var\n",
      "of_gaze_0_z_var\n",
      "of_gaze_1_x_var\n",
      "of_gaze_1_y_var\n",
      "of_gaze_1_z_var\n",
      "of_gaze_angle_x_var\n",
      "of_gaze_angle_y_var\n",
      "of_gaze_distance_var\n",
      "of_gaze_distance_x_var\n",
      "of_gaze_distance_y_var\n",
      "of_pose_Rx_var\n",
      "of_pose_Ry_var\n",
      "of_pose_Rz_var\n",
      "of_pose_Tx_var\n",
      "of_pose_Ty_var\n",
      "of_pose_Tz_var\n",
      "of_pose_distance_var\n",
      "of_success_change\n",
      "of_ts_success_var\n",
      "op_num_people_change\n",
      "ros_aptitude_var\n"
     ]
    }
   ],
   "source": [
    "# For Window Only:\n",
    "non_window_features = []\n",
    "window_features = []\n",
    "for i in data[0].columns:\n",
    "    if i not in basic_cols:\n",
    "        if 'change' in i or 'var' in i:\n",
    "            window_features.append(i)\n",
    "        else:\n",
    "            non_window_features.append(i)\n",
    "        \n",
    "window_features = sorted(window_features)\n",
    "for i in window_features:\n",
    "    print(i)"
   ]
  },
  {
   "cell_type": "code",
   "execution_count": 105,
   "metadata": {
    "nbpresent": {
     "id": "1e56b6fb-5715-4fd5-b54f-42880a6f27d6"
    }
   },
   "outputs": [],
   "source": [
    "# Columns where NaNs filled with max value\n",
    "nan_max_cols = ['of_gaze_0_x',\n",
    "'of_gaze_0_y',\n",
    "'of_gaze_0_z',\n",
    "'of_gaze_1_x',\n",
    "'of_gaze_1_y',\n",
    "'of_gaze_1_z',\n",
    "'of_gaze_angle_x',\n",
    "'of_gaze_angle_y',\n",
    "'of_gaze_distance',\n",
    "'of_gaze_distance_x',\n",
    "'of_gaze_distance_y',\n",
    "'of_pose_Rxv',\n",
    "'of_pose_Ry',\n",
    "'of_pose_Rz',\n",
    "'of_pose_Tx',\n",
    "'of_pose_Ty',\n",
    "'of_pose_Tz',\n",
    "'of_pose_distance']"
   ]
  },
  {
   "cell_type": "code",
   "execution_count": 106,
   "metadata": {
    "nbpresent": {
     "id": "a5160214-421a-4f3e-849b-4fa43b185784"
    }
   },
   "outputs": [],
   "source": [
    "# Key Features (from feature analysis) \n",
    "# Note: Timestamp automatically included\n",
    "\n",
    "key_features = [\n",
    "'op_num_people',\n",
    "'of_pose_distance',\n",
    "'of_gaze_distance',\n",
    "'of_confidence',\n",
    "'ros_mistakes_session',\n",
    "'ros_ts_robot_talked']"
   ]
  },
  {
   "cell_type": "markdown",
   "metadata": {
    "nbpresent": {
     "id": "bd793385-039b-4b0a-995c-b087d1e8e0be"
    }
   },
   "source": [
    "### Filter Feature Set (Optional)"
   ]
  },
  {
   "cell_type": "code",
   "execution_count": 107,
   "metadata": {
    "nbpresent": {
     "id": "34e62b65-b98b-4b4f-a2a9-369f7e6de1a2"
    }
   },
   "outputs": [],
   "source": [
    "# always include basic_cols, add desired group of features \n",
    "# features_to_keep = all_data.columns\n",
    "\n",
    "if use_key_features:\n",
    "    features_to_keep = basic_cols + key_features\n",
    "else:\n",
    "    features_to_keep = basic_cols + of_cols + ros_cols + a_cols + window_features\n",
    "\n",
    "for i,d in enumerate(data):\n",
    "    data[i] = d[features_to_keep]"
   ]
  },
  {
   "cell_type": "markdown",
   "metadata": {
    "nbpresent": {
     "id": "4a63b0ed-01ff-4bfa-aff4-5d42d9e0225b"
    }
   },
   "source": [
    "# 3 -- Scenario Based Modeling"
   ]
  },
  {
   "cell_type": "markdown",
   "metadata": {
    "nbpresent": {
     "id": "66f57de6-2d1d-4509-8f61-6279372d2f62"
    }
   },
   "source": [
    "- Open Face Success / Failure\n",
    "- Robot Talking / Not Talking\n",
    "- First 10 Minutes / After 10 Minutes"
   ]
  },
  {
   "cell_type": "code",
   "execution_count": 108,
   "metadata": {
    "nbpresent": {
     "id": "90a37c79-ab22-46c3-b779-f6113c27e9f2"
    }
   },
   "outputs": [],
   "source": [
    "# Create Separate Models for Different Scenarios\n",
    "\n",
    "# for i,d in enumerate(data):\n",
    "#     # Open Face Success/Failure\n",
    "#     data[i] = d.loc[d['of_success']==1]\n",
    "#     data[i] = d.loc[d['of_success']==0]\n",
    "    \n",
    "#     # Robot Talking/Not Talking\n",
    "#     data[i] = d.loc[d['ros_ts_robot_talked']==0]\n",
    "#     data[i] = d.loc[d['ros_ts_robot_talked']>0]\n",
    "    \n",
    "#     # First 10 Min/After 10 Min\n",
    "#     data[i] = d.loc[d['timestamp']<=(10*60)]\n",
    "#     data[i] = d.loc[d['timestamp']>(10*60)]"
   ]
  },
  {
   "cell_type": "markdown",
   "metadata": {
    "nbpresent": {
     "id": "6c7d466a-fa18-43d1-8a9e-c0a378dacd23"
    }
   },
   "source": [
    "# 4 -- Modeling"
   ]
  },
  {
   "cell_type": "code",
   "execution_count": null,
   "metadata": {},
   "outputs": [],
   "source": []
  },
  {
   "cell_type": "code",
   "execution_count": 109,
   "metadata": {
    "nbpresent": {
     "id": "b5d5f1a4-acbf-4d1a-87e2-bc34b2986c3b"
    }
   },
   "outputs": [],
   "source": [
    "# Helper Function: Split a Participant's Data Chronologically \n",
    "\n",
    "def part_split(split, split_size):\n",
    "    split = split.sort_values(['session_num', 'timestamp'], ascending=[True, True])\n",
    "    bogus = split['engagement']\n",
    "\n",
    "    split_train, split_test, bogus1, bogus2 = train_test_split(split, bogus, test_size=split_size, shuffle=False)\n",
    "    return split_test, split_train"
   ]
  },
  {
   "cell_type": "code",
   "execution_count": 110,
   "metadata": {
    "nbpresent": {
     "id": "94d97b78-af5d-4b01-99e1-94ced480b9e7"
    }
   },
   "outputs": [],
   "source": [
    "# Function: Formulate Train-Test Split \n",
    "# Includes Preprocessing & Shuffle \n",
    "\n",
    "# train_part: an array of participants \n",
    "# test_part: an array of participants\n",
    "# split_size: how much of each test participant's data to use for validation\n",
    "def split(train_part, test_part, split_size):\n",
    "    train_data = []\n",
    "    for p in train_part:\n",
    "        i = part.index(p)\n",
    "        train_data.append(data[i].copy())\n",
    "    \n",
    "    val_data = []\n",
    "    test_data = []\n",
    "    for p in test_part:\n",
    "        i = part.index(p)\n",
    "        if split_size > 0:\n",
    "            p_test, p_train = part_split(data[i].copy(), split_size)\n",
    "            val_data.append(p_train)\n",
    "            test_data.append(p_test)\n",
    "        else:\n",
    "            test_data.append(data[i].copy())\n",
    "        \n",
    "    train = pd.concat(train_data, ignore_index=True, sort=True)\n",
    "    val = pd.concat(val_data, ignore_index=True, sort=True)\n",
    "    test = pd.concat(test_data, ignore_index=True, sort=True)\n",
    "    \n",
    "    # Sort Training & Validation Data \n",
    "    train = train.sample(frac=1)\n",
    "    train = train.sample(frac=1)\n",
    "    train = train.sample(frac=1)\n",
    "    val = val.sample(frac=1)\n",
    "    val = val.sample(frac=1)\n",
    "    val = val.sample(frac=1)\n",
    "\n",
    "    # Preprocessing: Standardization\n",
    "    # x' = ( x - mean(x) ) / ( stdev(x) )\n",
    "    # => x' is z-score, NaN's filled with min_val\n",
    "    for c in train.columns:\n",
    "        if (c in ['engagement', 'participant', 'session_num']):\n",
    "            continue\n",
    "            \n",
    "        mean = np.nanmean(train[c])\n",
    "        std = np.nanstd(train[c])\n",
    "\n",
    "        if std == 0:\n",
    "            train[c] = (train[c]-mean)\n",
    "            val[c] = (val[c]-mean)\n",
    "            test[c] = (test[c]-mean)\n",
    "        else:\n",
    "            train[c] = (train[c]-mean)/(std)\n",
    "            val[c] = (val[c]-mean)/(std)\n",
    "            test[c] = (test[c]-mean)/(std)\n",
    "\n",
    "        if c not in nan_max_cols:\n",
    "            min_val = np.nanmin(train[c])\n",
    "\n",
    "            train[c] = train[c].fillna(min_val)\n",
    "            val[c] = val[c].fillna(min_val)\n",
    "            test[c] = test[c].fillna(min_val)\n",
    "        else:\n",
    "            max_val = np.nanmax(train[c])\n",
    "\n",
    "            train[c] = train[c].fillna(max_val)\n",
    "            val[c] = val[c].fillna(max_val)\n",
    "            test[c] = test[c].fillna(max_val) \n",
    "\n",
    "    return train, val, test"
   ]
  },
  {
   "cell_type": "code",
   "execution_count": null,
   "metadata": {},
   "outputs": [],
   "source": []
  },
  {
   "cell_type": "code",
   "execution_count": 111,
   "metadata": {
    "nbpresent": {
     "id": "d0453b55-f0f2-4fbb-934a-5cb989c4d255"
    }
   },
   "outputs": [],
   "source": [
    "# MODEL HERE\n",
    "# Multiple Participants Approach 4: \n",
    "# Approach 4: Use Small % of Test Participant's Data (Chronological Split)\n",
    "# Iterate over each other participant & select most \"similar\" to test participant\n",
    "\n",
    "# Inputs: X_train, y_train, X_val, y_val, X_test, y_test\n",
    "\n",
    "# Output: Accuracy Metrics as Dictionary \n",
    "\n",
    "# IMPORTS HERE\n",
    "from sklearn.ensemble import BaggingClassifier\n",
    "from xgboost import XGBClassifier\n",
    "from sklearn import neighbors\n",
    "\n",
    "def model(X_train, y_train, X_test, y_test, is_verbose, use_bagging):    \n",
    "    # Shuffle X_train & y_train just in case\n",
    "    idx = np.random.permutation(len(X_train))\n",
    "    X_train = X_train.iloc[idx]\n",
    "    y_train = y_train.iloc[idx]\n",
    "    X_train = X_train.reset_index(drop=True)\n",
    "    y_train = y_train.reset_index(drop=True)\n",
    "    \n",
    "    # Model Here: must create pred & scores arrays\n",
    "    if use_bagging:\n",
    "        clf = BaggingClassifier(XGBClassifier(n_estimators=100), n_estimators=num_estimators, max_samples=sample_percentage)\n",
    "        clf.fit(X_train.values, y_train.values)\n",
    "        scores = clf.predict_proba(X_test.values)[:,1]\n",
    "        pred = [round(value) for value in scores]   \n",
    "    else:\n",
    "        clf = XGBClassifier(n_estimators=100)\n",
    "        clf.fit(X_train.values, y_train.values)\n",
    "        scores = clf.predict(X_test.values)\n",
    "        pred = [round(value) for value in scores] \n",
    "\n",
    "    # Evaluation\n",
    "    results = {}\n",
    "    accuracy = accuracy_score(y_test, pred)\n",
    "    results['accuracy'] = accuracy\n",
    "    \n",
    "    if is_verbose:\n",
    "        try:\n",
    "            auc = roc_auc_score(y_test, scores)\n",
    "        except:\n",
    "            auc = np.nan\n",
    "        results['auc'] = auc\n",
    "\n",
    "        precision = metrics.precision_score(y_test, pred, average=None)\n",
    "        recall = metrics.recall_score(y_test, pred, average=None)\n",
    "        f1 = metrics.f1_score(y_test, pred, average=None)\n",
    "\n",
    "        results['precision_0'], results['precision_1'] = precision[0], precision[1]\n",
    "        results['recall_0'], results['recall_1'] = recall[0], recall[1]\n",
    "        results['f1_0'], results['f1_1'] = f1[0], f1[1]\n",
    "    \n",
    "    return results"
   ]
  },
  {
   "cell_type": "code",
   "execution_count": 112,
   "metadata": {
    "nbpresent": {
     "id": "492d86f4-c00f-4422-a84c-0ef1a52fbae0"
    }
   },
   "outputs": [
    {
     "name": "stdout",
     "output_type": "stream",
     "text": [
      "\n",
      "\n",
      "Part:  5 Session:  7.0 Accuracy:  0.6453312676104296\n",
      "Part:  5 Session:  2.0 Accuracy:  0.6574995538256265\n",
      "Part:  5 Session:  13.0 Accuracy:  0.6813807655982779\n",
      "Part:  5 Session:  8.0 Accuracy:  0.7686762272949366\n",
      "Part:  5 Session:  10.0 Accuracy:  0.6594126167947209\n",
      "Part:  7 Session:  5.0 Accuracy:  0.7848773230273525\n",
      "Part:  7 Session:  29.0 Accuracy:  0.7737410409156376\n",
      "Part:  7 Session:  8.0 Accuracy:  0.7480121117506283\n",
      "Part:  7 Session:  6.0 Accuracy:  0.6856304886191712\n",
      "Part:  7 Session:  16.0 Accuracy:  0.6288637889565963\n",
      "Part:  7 Session:  7.0 Accuracy:  0.6978182947610533\n",
      "Part:  7 Session:  18.0 Accuracy:  0.6905790546081721\n",
      "Part:  7 Session:  17.0 Accuracy:  0.6546783062848917\n",
      "Part:  9 Session:  15.0 Accuracy:  0.7484585189432365\n",
      "Part:  9 Session:  4.0 Accuracy:  0.751000807593112\n",
      "Part:  9 Session:  3.1 Accuracy:  0.6842332321070573\n",
      "Part:  9 Session:  3.2 Accuracy:  0.7892597212624853\n",
      "Part:  9 Session:  9.0 Accuracy:  0.6911807720271772\n",
      "Part:  11 Session:  11.0 Accuracy:  0.7331503943569498\n",
      "Part:  11 Session:  2.0 Accuracy:  0.7149421507628138\n",
      "Part:  11 Session:  19.0 Accuracy:  0.7016753400505924\n",
      "Part:  11 Session:  16.2 Accuracy:  0.7224111625369712\n",
      "Part:  11 Session:  15.0 Accuracy:  0.7527382419169818\n",
      "Part:  11 Session:  9.0 Accuracy:  0.7391323087001871\n",
      "Part:  11 Session:  22.2 Accuracy:  0.6586327671158527\n",
      "Part:  11 Session:  4.0 Accuracy:  0.6845498814255935\n",
      "Part:  11 Session:  8.0 Accuracy:  0.6487128144036364\n",
      "Part:  12 Session:  3.0 Accuracy:  0.7772084215216665\n",
      "Part:  12 Session:  2.2 Accuracy:  0.7006659928995309\n",
      "Part:  12 Session:  10.0 Accuracy:  0.7598165467318109\n",
      "Part:  12 Session:  8.0 Accuracy:  0.7627085643660744\n",
      "Part:  12 Session:  6.0 Accuracy:  0.77951399254527\n",
      "Part:  17 Session:  2.0 Accuracy:  0.69913050927314\n",
      "Part:  17 Session:  5.0 Accuracy:  0.7475447023139515\n",
      "Part:  17 Session:  3.0 Accuracy:  0.6791359919530362\n",
      "Part:  17 Session:  6.0 Accuracy:  0.6526939066896233\n",
      "{'accuracy': 0.7682494684620836, 'auc': 0.8234761624247721, 'recall_0': 0.2696476964769648, 'f1_0': 0.37832699619771865, 'precision_0': 0.6337579617834395, 'precision_1': 0.7850877192982456, 'recall_1': 0.9448176583493282, 'f1_1': 0.8575783972125437}\n",
      "\n",
      "Part:  5 Session:  8.0 Accuracy:  0.7712674820010297\n",
      "Part:  5 Session:  2.0 Accuracy:  0.6655200984207487\n",
      "Part:  5 Session:  7.0 Accuracy:  0.6534918226551433\n",
      "Part:  5 Session:  13.0 Accuracy:  0.6772239398738155\n",
      "Part:  5 Session:  10.0 Accuracy:  0.6602958229400429\n",
      "Part:  7 Session:  16.0 Accuracy:  0.6367349330030213\n",
      "Part:  7 Session:  5.0 Accuracy:  0.7871173458335861\n",
      "Part:  7 Session:  8.0 Accuracy:  0.7514041266543356\n",
      "Part:  7 Session:  7.0 Accuracy:  0.7022497457564058\n",
      "Part:  7 Session:  6.0 Accuracy:  0.6906844913554144\n",
      "Part:  7 Session:  18.0 Accuracy:  0.6953929674685051\n",
      "Part:  7 Session:  17.0 Accuracy:  0.6623659282587369\n",
      "Part:  7 Session:  29.0 Accuracy:  0.7726818788341627\n",
      "Part:  9 Session:  15.0 Accuracy:  0.7394886486955767\n",
      "Part:  9 Session:  3.2 Accuracy:  0.7902623376394028\n",
      "Part:  9 Session:  3.1 Accuracy:  0.6810316818980814\n",
      "Part:  9 Session:  4.0 Accuracy:  0.7465741128597929\n",
      "Part:  9 Session:  9.0 Accuracy:  0.6954041439261107\n",
      "Part:  11 Session:  4.0 Accuracy:  0.6896044418216123\n",
      "Part:  11 Session:  11.0 Accuracy:  0.7339435090075526\n",
      "Part:  11 Session:  2.0 Accuracy:  0.7213556087545472\n",
      "Part:  11 Session:  16.2 Accuracy:  0.7266432210574025\n",
      "Part:  11 Session:  9.0 Accuracy:  0.7381204966519278\n",
      "Part:  11 Session:  15.0 Accuracy:  0.7547633990209615\n",
      "Part:  11 Session:  22.2 Accuracy:  0.6681059321680015\n",
      "Part:  11 Session:  19.0 Accuracy:  0.6998465138514959\n",
      "Part:  11 Session:  8.0 Accuracy:  0.6564458016791619\n",
      "Part:  12 Session:  10.0 Accuracy:  0.7556386859776391\n",
      "Part:  12 Session:  8.0 Accuracy:  0.7654002951254283\n",
      "Part:  12 Session:  6.0 Accuracy:  0.7756024222877349\n",
      "Part:  12 Session:  3.0 Accuracy:  0.7772124771137604\n",
      "Part:  12 Session:  2.2 Accuracy:  0.7071615059487869\n",
      "Part:  18 Session:  10.0 Accuracy:  0.568167253418558\n",
      "Part:  18 Session:  3.0 Accuracy:  0.64872118592343\n",
      "Part:  18 Session:  7.0 Accuracy:  0.6555995666878912\n",
      "Part:  18 Session:  20.0 Accuracy:  0.687241707731169\n",
      "Part:  18 Session:  4.0 Accuracy:  0.6569426593142336\n",
      "Part:  18 Session:  18.0 Accuracy:  0.6822391370679773\n",
      "Part:  18 Session:  12.0 Accuracy:  0.6840588590876344\n",
      "Part:  18 Session:  15.0 Accuracy:  0.6654998216552056\n",
      "Part:  18 Session:  13.0 Accuracy:  0.6565316897044607\n",
      "Part:  18 Session:  19.0 Accuracy:  0.719213649851632\n",
      "Part:  18 Session:  9.0 Accuracy:  0.7395539326125009\n",
      "Part:  18 Session:  11.0 Accuracy:  0.6748878367994448\n",
      "Part:  18 Session:  17.0 Accuracy:  0.6812706631159773\n",
      "Part:  18 Session:  8.0 Accuracy:  0.6756420775216927\n",
      "Part:  18 Session:  5.0 Accuracy:  0.6929072875808829\n",
      "{'accuracy': 0.7105125523012552, 'auc': 0.882481721843424, 'recall_0': 0.4751351351351351, 'f1_0': 0.6136125654450261, 'precision_0': 0.8660098522167488, 'precision_1': 0.6543253826984692, 'recall_1': 0.9311043566362716, 'f1_1': 0.7685553000209073}\n",
      "\n",
      "Part:  5 Session:  8.0 Accuracy:  0.7671694070837088\n",
      "Part:  5 Session:  2.0 Accuracy:  0.6653038860322009\n",
      "Part:  5 Session:  10.0 Accuracy:  0.6674452996336504\n",
      "Part:  5 Session:  13.0 Accuracy:  0.6828562265806974\n",
      "Part:  5 Session:  7.0 Accuracy:  0.654682697828363\n",
      "Part:  7 Session:  16.0 Accuracy:  0.6348776828014094\n",
      "Part:  7 Session:  29.0 Accuracy:  0.7683555645720275\n",
      "Part:  7 Session:  8.0 Accuracy:  0.7487068672156809\n",
      "Part:  7 Session:  17.0 Accuracy:  0.66391564264364\n",
      "Part:  7 Session:  18.0 Accuracy:  0.6985542007010953\n",
      "Part:  7 Session:  5.0 Accuracy:  0.7809679277895141\n",
      "Part:  7 Session:  6.0 Accuracy:  0.6913628894329119\n",
      "Part:  7 Session:  7.0 Accuracy:  0.7035306853193438\n",
      "Part:  9 Session:  4.0 Accuracy:  0.7471150533930416\n",
      "Part:  9 Session:  3.2 Accuracy:  0.7857092015588021\n",
      "Part:  9 Session:  15.0 Accuracy:  0.7380169337345183\n",
      "Part:  9 Session:  3.1 Accuracy:  0.6752391340828998\n",
      "Part:  9 Session:  9.0 Accuracy:  0.6899570559267795\n",
      "Part:  11 Session:  8.0 Accuracy:  0.6583195052044049\n",
      "Part:  11 Session:  9.0 Accuracy:  0.7341158567862395\n",
      "Part:  11 Session:  19.0 Accuracy:  0.7001993714729835\n",
      "Part:  11 Session:  11.0 Accuracy:  0.736815737617314\n",
      "Part:  11 Session:  4.0 Accuracy:  0.6912033083864919\n",
      "Part:  11 Session:  16.2 Accuracy:  0.7283064488857326\n",
      "Part:  11 Session:  15.0 Accuracy:  0.7529246173555391\n",
      "Part:  11 Session:  2.0 Accuracy:  0.7215804740735655\n",
      "Part:  11 Session:  22.2 Accuracy:  0.6690612382234186\n",
      "Part:  17 Session:  3.0 Accuracy:  0.674818980788745\n",
      "Part:  17 Session:  6.0 Accuracy:  0.6533642150164961\n",
      "Part:  17 Session:  5.0 Accuracy:  0.745040223616035\n",
      "Part:  17 Session:  2.0 Accuracy:  0.7028326734523951\n",
      "Part:  18 Session:  9.0 Accuracy:  0.7369033760186263\n",
      "Part:  18 Session:  15.0 Accuracy:  0.6679588290335516\n",
      "Part:  18 Session:  11.0 Accuracy:  0.673384815098359\n",
      "Part:  18 Session:  13.0 Accuracy:  0.6577519637864465\n",
      "Part:  18 Session:  5.0 Accuracy:  0.6937109977856807\n",
      "Part:  18 Session:  3.0 Accuracy:  0.6484007882370775\n",
      "Part:  18 Session:  17.0 Accuracy:  0.6797748144211767\n",
      "Part:  18 Session:  4.0 Accuracy:  0.6583624246271025\n",
      "Part:  18 Session:  10.0 Accuracy:  0.5621563170600858\n",
      "Part:  18 Session:  8.0 Accuracy:  0.6771113299834732\n",
      "Part:  18 Session:  20.0 Accuracy:  0.688651074336047\n",
      "Part:  18 Session:  12.0 Accuracy:  0.6841442463262889\n",
      "Part:  18 Session:  7.0 Accuracy:  0.656947498167766\n",
      "Part:  18 Session:  18.0 Accuracy:  0.682352745755955\n",
      "Part:  18 Session:  19.0 Accuracy:  0.7162697259739506\n",
      "{'accuracy': 0.8654133732108524, 'auc': 0.9432662359786285, 'recall_0': 0.8326831382748158, 'f1_0': 0.8591234347048302, 'precision_0': 0.8872979214780601, 'precision_1': 0.8465818759936407, 'recall_1': 0.8972198820556023, 'f1_1': 0.8711656441717792}\n",
      "\n",
      "Part:  5 Session:  2.0 Accuracy:  0.6594134423750945\n",
      "Part:  5 Session:  8.0 Accuracy:  0.7690901213171577\n",
      "Part:  5 Session:  10.0 Accuracy:  0.6530952992550733\n",
      "Part:  5 Session:  13.0 Accuracy:  0.676184742409908\n",
      "Part:  5 Session:  7.0 Accuracy:  0.6453697489114909\n",
      "Part:  7 Session:  6.0 Accuracy:  0.6866574401558255\n",
      "Part:  7 Session:  18.0 Accuracy:  0.7087677320116219\n",
      "Part:  7 Session:  7.0 Accuracy:  0.7023280279634846\n",
      "Part:  7 Session:  29.0 Accuracy:  0.7754565816678153\n",
      "Part:  7 Session:  17.0 Accuracy:  0.6546126647380264\n"
     ]
    },
    {
     "name": "stdout",
     "output_type": "stream",
     "text": [
      "Part:  7 Session:  8.0 Accuracy:  0.7661851164565304\n",
      "Part:  7 Session:  5.0 Accuracy:  0.7816027489940534\n",
      "Part:  7 Session:  16.0 Accuracy:  0.6279337479811691\n",
      "Part:  9 Session:  3.2 Accuracy:  0.7905729223396144\n",
      "Part:  9 Session:  15.0 Accuracy:  0.7486129199150804\n",
      "Part:  9 Session:  4.0 Accuracy:  0.7115138106024689\n",
      "Part:  9 Session:  3.1 Accuracy:  0.6865455975649378\n",
      "Part:  9 Session:  9.0 Accuracy:  0.6899746621621622\n",
      "Part:  12 Session:  3.0 Accuracy:  0.7853467542142375\n",
      "Part:  12 Session:  10.0 Accuracy:  0.7591817316841104\n",
      "Part:  12 Session:  2.2 Accuracy:  0.7045359276207775\n",
      "Part:  12 Session:  6.0 Accuracy:  0.8057629632184304\n",
      "Part:  12 Session:  8.0 Accuracy:  0.7623598870539916\n",
      "Part:  17 Session:  3.0 Accuracy:  0.6797236639079814\n",
      "Part:  17 Session:  5.0 Accuracy:  0.740770660690398\n",
      "Part:  17 Session:  2.0 Accuracy:  0.696690221344695\n",
      "Part:  17 Session:  6.0 Accuracy:  0.6763322750963449\n",
      "Part:  18 Session:  7.0 Accuracy:  0.6470937632583793\n",
      "Part:  18 Session:  19.0 Accuracy:  0.7213572280342689\n",
      "Part:  18 Session:  4.0 Accuracy:  0.6487712311515028\n",
      "Part:  18 Session:  20.0 Accuracy:  0.6837319191610151\n",
      "Part:  18 Session:  15.0 Accuracy:  0.6589032466758602\n",
      "Part:  18 Session:  5.0 Accuracy:  0.6854754619579152\n",
      "Part:  18 Session:  10.0 Accuracy:  0.5715872012573244\n",
      "Part:  18 Session:  11.0 Accuracy:  0.6705044510385757\n",
      "Part:  18 Session:  9.0 Accuracy:  0.7367606602475929\n",
      "Part:  18 Session:  18.0 Accuracy:  0.6754328070264507\n",
      "Part:  18 Session:  12.0 Accuracy:  0.6794466537507222\n",
      "Part:  18 Session:  3.0 Accuracy:  0.6431121485702517\n",
      "Part:  18 Session:  8.0 Accuracy:  0.6677864335283712\n",
      "Part:  18 Session:  17.0 Accuracy:  0.6730365783507597\n",
      "Part:  18 Session:  13.0 Accuracy:  0.6476423012360751\n",
      "{'accuracy': 0.7916847747356222, 'auc': 0.8140031637287191, 'recall_0': 0.2825065274151436, 'f1_0': 0.4293650793650794, 'precision_0': 0.8942148760330578, 'precision_1': 0.7818355033343919, 'recall_1': 0.9871692060946271, 'f1_1': 0.8725855041644516}\n",
      "\n",
      "Part:  5 Session:  7.0 Accuracy:  0.6653232736397071\n",
      "Part:  5 Session:  10.0 Accuracy:  0.6778824776823887\n",
      "Part:  5 Session:  8.0 Accuracy:  0.7704356254002319\n",
      "Part:  5 Session:  2.0 Accuracy:  0.6760290307636875\n",
      "Part:  5 Session:  13.0 Accuracy:  0.691130999415948\n",
      "Part:  7 Session:  18.0 Accuracy:  0.7063271262523682\n",
      "Part:  7 Session:  16.0 Accuracy:  0.6373432164856471\n",
      "Part:  7 Session:  8.0 Accuracy:  0.7456356078974714\n",
      "Part:  7 Session:  5.0 Accuracy:  0.7848164281269446\n",
      "Part:  7 Session:  29.0 Accuracy:  0.7644402002787385\n",
      "Part:  7 Session:  7.0 Accuracy:  0.7145120566654805\n",
      "Part:  7 Session:  17.0 Accuracy:  0.6743765628167872\n",
      "Part:  7 Session:  6.0 Accuracy:  0.70235129508924\n",
      "Part:  11 Session:  2.0 Accuracy:  0.7225183036572367\n",
      "Part:  11 Session:  9.0 Accuracy:  0.7428986667594946\n",
      "Part:  11 Session:  15.0 Accuracy:  0.7543402182117614\n",
      "Part:  11 Session:  16.2 Accuracy:  0.7394768542419549\n",
      "Part:  11 Session:  22.2 Accuracy:  0.6820298589234352\n",
      "Part:  11 Session:  8.0 Accuracy:  0.6690204506302342\n",
      "Part:  11 Session:  19.0 Accuracy:  0.7073632080338412\n",
      "Part:  11 Session:  11.0 Accuracy:  0.7390059473237043\n",
      "Part:  11 Session:  4.0 Accuracy:  0.7052985773916006\n",
      "Part:  12 Session:  6.0 Accuracy:  0.7783709316342345\n",
      "Part:  12 Session:  8.0 Accuracy:  0.7766175616091875\n",
      "Part:  12 Session:  2.2 Accuracy:  0.7047337484520259\n",
      "Part:  12 Session:  10.0 Accuracy:  0.7559170064266464\n",
      "Part:  12 Session:  3.0 Accuracy:  0.7771799307958478\n",
      "Part:  17 Session:  2.0 Accuracy:  0.7114170572668939\n",
      "Part:  17 Session:  6.0 Accuracy:  0.6772828998677562\n",
      "Part:  17 Session:  5.0 Accuracy:  0.7413775156141569\n",
      "Part:  17 Session:  3.0 Accuracy:  0.6822766192152124\n",
      "Part:  18 Session:  4.0 Accuracy:  0.6688988221697232\n",
      "Part:  18 Session:  7.0 Accuracy:  0.6676072808623145\n",
      "Part:  18 Session:  3.0 Accuracy:  0.6631357021648583\n",
      "Part:  18 Session:  9.0 Accuracy:  0.7355037002695788\n",
      "Part:  18 Session:  8.0 Accuracy:  0.687630582120229\n",
      "Part:  18 Session:  5.0 Accuracy:  0.7058723113690679\n",
      "Part:  18 Session:  15.0 Accuracy:  0.6784973476605005\n",
      "Part:  18 Session:  13.0 Accuracy:  0.6686111487401788\n",
      "Part:  18 Session:  20.0 Accuracy:  0.7000016974470397\n",
      "Part:  18 Session:  12.0 Accuracy:  0.6965258566555218\n",
      "Part:  18 Session:  10.0 Accuracy:  0.5617834720895318\n",
      "Part:  18 Session:  11.0 Accuracy:  0.6673637687540217\n",
      "Part:  18 Session:  18.0 Accuracy:  0.6939073854994084\n",
      "Part:  18 Session:  17.0 Accuracy:  0.6933513559178845\n",
      "Part:  18 Session:  19.0 Accuracy:  0.7154367857836638\n",
      "{'accuracy': 0.8548554484803558, 'auc': 0.9561952123435314, 'recall_0': 0.8227432590855803, 'f1_0': 0.8775790921595599, 'precision_0': 0.9402465166130761, 'precision_1': 0.7490872884168602, 'recall_1': 0.9100806451612903, 'f1_1': 0.8217731658474423}\n",
      "\n",
      "Part:  5 Session:  2.0 Accuracy:  0.6734542477808191\n",
      "Part:  5 Session:  10.0 Accuracy:  0.6602354341081977\n",
      "Part:  5 Session:  7.0 Accuracy:  0.6519956610493769\n",
      "Part:  5 Session:  8.0 Accuracy:  0.7693372898120673\n",
      "Part:  5 Session:  13.0 Accuracy:  0.6840397831561873\n",
      "Part:  9 Session:  4.0 Accuracy:  0.7208420832498279\n",
      "Part:  9 Session:  15.0 Accuracy:  0.7400837383045207\n",
      "Part:  9 Session:  3.2 Accuracy:  0.7806226753244414\n",
      "Part:  9 Session:  3.1 Accuracy:  0.6738837069163066\n",
      "Part:  9 Session:  9.0 Accuracy:  0.6878883159351025\n",
      "Part:  11 Session:  9.0 Accuracy:  0.7626432556329196\n",
      "Part:  11 Session:  2.0 Accuracy:  0.7204098467416316\n",
      "Part:  11 Session:  16.2 Accuracy:  0.7264618095050758\n",
      "Part:  11 Session:  15.0 Accuracy:  0.7451296348398427\n",
      "Part:  11 Session:  19.0 Accuracy:  0.6949621843353416\n",
      "Part:  11 Session:  4.0 Accuracy:  0.6917025834695208\n",
      "Part:  11 Session:  22.2 Accuracy:  0.6695965896037371\n",
      "Part:  11 Session:  11.0 Accuracy:  0.7331661134899119\n",
      "Part:  11 Session:  8.0 Accuracy:  0.6566608739880473\n",
      "Part:  12 Session:  2.2 Accuracy:  0.7056156986469971\n",
      "Part:  12 Session:  6.0 Accuracy:  0.8004142168819054\n",
      "Part:  12 Session:  10.0 Accuracy:  0.7569006224511697\n",
      "Part:  12 Session:  3.0 Accuracy:  0.7826012191871512\n",
      "Part:  12 Session:  8.0 Accuracy:  0.7687348706841636\n",
      "Part:  17 Session:  2.0 Accuracy:  0.7044636026852099\n",
      "Part:  17 Session:  5.0 Accuracy:  0.7341771060549889\n",
      "Part:  17 Session:  3.0 Accuracy:  0.6792628492373552\n",
      "Part:  17 Session:  6.0 Accuracy:  0.6677958389159946\n",
      "Part:  18 Session:  5.0 Accuracy:  0.6923396709850934\n",
      "Part:  18 Session:  9.0 Accuracy:  0.733626317361437\n",
      "Part:  18 Session:  15.0 Accuracy:  0.6687144559274626\n",
      "Part:  18 Session:  4.0 Accuracy:  0.6569635329993834\n",
      "Part:  18 Session:  10.0 Accuracy:  0.5606711944310194\n",
      "Part:  18 Session:  7.0 Accuracy:  0.6552331213410268\n",
      "Part:  18 Session:  13.0 Accuracy:  0.6604751765290063\n",
      "Part:  18 Session:  20.0 Accuracy:  0.6931351292067054\n",
      "Part:  18 Session:  17.0 Accuracy:  0.6815925829505278\n",
      "Part:  18 Session:  18.0 Accuracy:  0.685241963258209\n",
      "Part:  18 Session:  8.0 Accuracy:  0.675759187498417\n",
      "Part:  18 Session:  11.0 Accuracy:  0.6722215208517444\n",
      "Part:  18 Session:  3.0 Accuracy:  0.650282394432187\n",
      "Part:  18 Session:  19.0 Accuracy:  0.7195355397712961\n",
      "Part:  18 Session:  12.0 Accuracy:  0.6829412310521388\n",
      "{'accuracy': 0.8751242133156675, 'auc': 0.9544142166404289, 'recall_0': 0.8919342208300705, 'f1_0': 0.8580037664783428, 'precision_0': 0.8265602322206096, 'precision_1': 0.9159049360146252, 'recall_1': 0.8628013777267508, 'f1_1': 0.8885604493053502}\n",
      "\n",
      "Part:  7 Session:  5.0 Accuracy:  0.7834770924537298\n",
      "Part:  7 Session:  16.0 Accuracy:  0.6340693478024232\n",
      "Part:  7 Session:  29.0 Accuracy:  0.7712987918020536\n",
      "Part:  7 Session:  17.0 Accuracy:  0.6548939715112875\n",
      "Part:  7 Session:  6.0 Accuracy:  0.6851353714699734\n",
      "Part:  7 Session:  18.0 Accuracy:  0.6964421082445457\n",
      "Part:  7 Session:  8.0 Accuracy:  0.7608770966242765\n",
      "Part:  7 Session:  7.0 Accuracy:  0.7019960129372741\n",
      "Part:  9 Session:  15.0 Accuracy:  0.7455984156902258\n",
      "Part:  9 Session:  3.2 Accuracy:  0.7880648438535272\n",
      "Part:  9 Session:  3.1 Accuracy:  0.6796659471082922\n",
      "Part:  9 Session:  4.0 Accuracy:  0.7170910272748265\n",
      "Part:  9 Session:  9.0 Accuracy:  0.6878927386080067\n",
      "Part:  11 Session:  15.0 Accuracy:  0.7464106020142488\n",
      "Part:  11 Session:  2.0 Accuracy:  0.7140714096980132\n",
      "Part:  11 Session:  4.0 Accuracy:  0.6845786038002578\n",
      "Part:  11 Session:  22.2 Accuracy:  0.6617341098419967\n"
     ]
    },
    {
     "name": "stdout",
     "output_type": "stream",
     "text": [
      "Part:  11 Session:  11.0 Accuracy:  0.7283954713225231\n",
      "Part:  11 Session:  9.0 Accuracy:  0.7642583614240955\n",
      "Part:  11 Session:  16.2 Accuracy:  0.7218037536213628\n",
      "Part:  11 Session:  19.0 Accuracy:  0.6691868124491286\n",
      "Part:  11 Session:  8.0 Accuracy:  0.6496674242235042\n",
      "Part:  12 Session:  6.0 Accuracy:  0.8026049325658586\n",
      "Part:  12 Session:  3.0 Accuracy:  0.7806693960241422\n",
      "Part:  12 Session:  2.2 Accuracy:  0.6977393198390212\n",
      "Part:  12 Session:  10.0 Accuracy:  0.7569478981396407\n",
      "Part:  12 Session:  8.0 Accuracy:  0.7627884864003737\n",
      "Part:  17 Session:  5.0 Accuracy:  0.737534385712472\n",
      "Part:  17 Session:  2.0 Accuracy:  0.6961746512628798\n",
      "Part:  17 Session:  3.0 Accuracy:  0.677000862606438\n",
      "Part:  17 Session:  6.0 Accuracy:  0.6655686962566933\n",
      "Part:  18 Session:  9.0 Accuracy:  0.7342030952799913\n",
      "Part:  18 Session:  17.0 Accuracy:  0.6745906710108467\n",
      "Part:  18 Session:  19.0 Accuracy:  0.7183830320622774\n",
      "Part:  18 Session:  20.0 Accuracy:  0.6847268599458112\n",
      "Part:  18 Session:  4.0 Accuracy:  0.6498145828321125\n",
      "Part:  18 Session:  13.0 Accuracy:  0.6509005844086065\n",
      "Part:  18 Session:  8.0 Accuracy:  0.6685847421791439\n",
      "Part:  18 Session:  3.0 Accuracy:  0.6450684667954862\n",
      "Part:  18 Session:  12.0 Accuracy:  0.6761662538212365\n",
      "Part:  18 Session:  18.0 Accuracy:  0.6757724516315333\n",
      "Part:  18 Session:  7.0 Accuracy:  0.6477377081730411\n",
      "Part:  18 Session:  11.0 Accuracy:  0.671100162846255\n",
      "Part:  18 Session:  10.0 Accuracy:  0.571463067353889\n",
      "Part:  18 Session:  5.0 Accuracy:  0.6856988127473443\n",
      "Part:  18 Session:  15.0 Accuracy:  0.6602654007983602\n",
      "{'accuracy': 0.8131443298969072, 'auc': 0.8550553739335514, 'recall_0': 0.33405639913232105, 'f1_0': 0.459358687546607, 'precision_0': 0.7350835322195705, 'precision_1': 0.8225946258306848, 'recall_1': 0.962474645030426, 'f1_1': 0.8870540582645271}\n"
     ]
    }
   ],
   "source": [
    "all_results = []\n",
    "for n in range(1, len(part)):    \n",
    "    if leave_one_out_run:\n",
    "        if n != len(part)-1:\n",
    "            continue\n",
    "    \n",
    "    comb = combinations(part, n)\n",
    "    print()\n",
    "    \n",
    "    for c in comb:\n",
    "        print()\n",
    "        new_results = {}\n",
    "        for m in metric_keys:\n",
    "            new_results[m] = []\n",
    "        \n",
    "        # Determine Train & Test Data\n",
    "        train_part = [x for x in c]\n",
    "        test_part = [p for p in part if p not in c]\n",
    "\n",
    "        train, val, test = split(train_part, test_part, test_percentage_to_use)\n",
    "        new_train = train.append(val)\n",
    "        new_train = new_train.reset_index(drop=True)\n",
    "\n",
    "        # Evaluate \"generalizability\" of each train participant's session\n",
    "        session_scores = {}\n",
    "        for p in train_part:\n",
    "            part_data = new_train[new_train['participant']==p]\n",
    "            session_scores[p] = {}\n",
    "            for s in part_data['session_num'].unique():\n",
    "                curr_train = new_train[(new_train['participant']==p) & (new_train['session_num']==s)]\n",
    "                curr_test = new_train[(new_train['participant']!=p) | (new_train['session_num']!=s)]\n",
    "                \n",
    "                curr_X_train = curr_train.drop(columns=['engagement', 'participant', 'session_num'])\n",
    "                curr_X_test = curr_test.drop(columns=['engagement', 'participant', 'session_num'])\n",
    "                curr_y_train = curr_train['engagement']\n",
    "                curr_y_test = curr_test['engagement']\n",
    "                \n",
    "                curr_results = model(curr_X_train, curr_y_train, curr_X_test, curr_y_test, False, False)\n",
    "                session_scores[p][s] = curr_results['accuracy']\n",
    "                print(\"Part: \", p, \"Session: \", s, \"Accuracy: \", curr_results['accuracy'])\n",
    "        \n",
    "        # Create Final Training Data based on session scores\n",
    "        final_train_data = pd.DataFrame(columns=train.columns)\n",
    "        for p in train_part:\n",
    "            part_data = new_train[new_train['participant']==p]\n",
    "            for s in part_data['session_num'].unique():\n",
    "                if session_scores[p][s] > threshold_to_use:\n",
    "                    curr_data = new_train[(new_train['participant']==p) & (new_train['session_num']==s)]\n",
    "                    final_train_data.append(curr_data)\n",
    "        \n",
    "        # Always include validation data\n",
    "        if len(final_train_data)==0:\n",
    "            final_train_data = new_train\n",
    "        else:\n",
    "            final_train_data.append(val)\n",
    "        \n",
    "        X_train = final_train_data.drop(columns=['engagement', 'participant', 'session_num'])\n",
    "        X_test = test.drop(columns=['engagement', 'participant', 'session_num'])\n",
    "        y_train = final_train_data['engagement']\n",
    "        y_test = test['engagement']\n",
    "        \n",
    "        final_results = model(X_train, y_train, X_test, y_test, True, True)\n",
    "        print(final_results)\n",
    "        final_results['train_participants'] = \", \".join(str(x) for x in train_part)\n",
    "        final_results['test_participants'] = \", \".join(str(x) for x in test_part)\n",
    "        all_results.append(final_results)"
   ]
  },
  {
   "cell_type": "code",
   "execution_count": 113,
   "metadata": {},
   "outputs": [],
   "source": [
    "end_results = pd.DataFrame(columns=['train_participants', 'test_participants', 'accuracy', 'auc', 'precision_0', 'precision_1', 'recall_0', 'recall_1', 'f1_0', 'f1_1'])\n",
    "end_results = end_results.append(all_results, ignore_index=True, sort=True)"
   ]
  },
  {
   "cell_type": "code",
   "execution_count": 114,
   "metadata": {},
   "outputs": [
    {
     "data": {
      "text/html": [
       "<div>\n",
       "<style scoped>\n",
       "    .dataframe tbody tr th:only-of-type {\n",
       "        vertical-align: middle;\n",
       "    }\n",
       "\n",
       "    .dataframe tbody tr th {\n",
       "        vertical-align: top;\n",
       "    }\n",
       "\n",
       "    .dataframe thead th {\n",
       "        text-align: right;\n",
       "    }\n",
       "</style>\n",
       "<table border=\"1\" class=\"dataframe\">\n",
       "  <thead>\n",
       "    <tr style=\"text-align: right;\">\n",
       "      <th></th>\n",
       "      <th>accuracy</th>\n",
       "      <th>auc</th>\n",
       "      <th>f1_0</th>\n",
       "      <th>f1_1</th>\n",
       "      <th>precision_0</th>\n",
       "      <th>precision_1</th>\n",
       "      <th>recall_0</th>\n",
       "      <th>recall_1</th>\n",
       "      <th>test_participants</th>\n",
       "      <th>train_participants</th>\n",
       "    </tr>\n",
       "  </thead>\n",
       "  <tbody>\n",
       "    <tr>\n",
       "      <th>0</th>\n",
       "      <td>0.768249</td>\n",
       "      <td>0.823476</td>\n",
       "      <td>0.378327</td>\n",
       "      <td>0.857578</td>\n",
       "      <td>0.633758</td>\n",
       "      <td>0.785088</td>\n",
       "      <td>0.269648</td>\n",
       "      <td>0.944818</td>\n",
       "      <td>18</td>\n",
       "      <td>5, 7, 9, 11, 12, 17</td>\n",
       "    </tr>\n",
       "    <tr>\n",
       "      <th>1</th>\n",
       "      <td>0.710513</td>\n",
       "      <td>0.882482</td>\n",
       "      <td>0.613613</td>\n",
       "      <td>0.768555</td>\n",
       "      <td>0.866010</td>\n",
       "      <td>0.654325</td>\n",
       "      <td>0.475135</td>\n",
       "      <td>0.931104</td>\n",
       "      <td>17</td>\n",
       "      <td>5, 7, 9, 11, 12, 18</td>\n",
       "    </tr>\n",
       "    <tr>\n",
       "      <th>2</th>\n",
       "      <td>0.865413</td>\n",
       "      <td>0.943266</td>\n",
       "      <td>0.859123</td>\n",
       "      <td>0.871166</td>\n",
       "      <td>0.887298</td>\n",
       "      <td>0.846582</td>\n",
       "      <td>0.832683</td>\n",
       "      <td>0.897220</td>\n",
       "      <td>12</td>\n",
       "      <td>5, 7, 9, 11, 17, 18</td>\n",
       "    </tr>\n",
       "    <tr>\n",
       "      <th>3</th>\n",
       "      <td>0.791685</td>\n",
       "      <td>0.814003</td>\n",
       "      <td>0.429365</td>\n",
       "      <td>0.872586</td>\n",
       "      <td>0.894215</td>\n",
       "      <td>0.781836</td>\n",
       "      <td>0.282507</td>\n",
       "      <td>0.987169</td>\n",
       "      <td>11</td>\n",
       "      <td>5, 7, 9, 12, 17, 18</td>\n",
       "    </tr>\n",
       "    <tr>\n",
       "      <th>4</th>\n",
       "      <td>0.854855</td>\n",
       "      <td>0.956195</td>\n",
       "      <td>0.877579</td>\n",
       "      <td>0.821773</td>\n",
       "      <td>0.940247</td>\n",
       "      <td>0.749087</td>\n",
       "      <td>0.822743</td>\n",
       "      <td>0.910081</td>\n",
       "      <td>9</td>\n",
       "      <td>5, 7, 11, 12, 17, 18</td>\n",
       "    </tr>\n",
       "  </tbody>\n",
       "</table>\n",
       "</div>"
      ],
      "text/plain": [
       "   accuracy       auc      f1_0      f1_1  precision_0  precision_1  recall_0  \\\n",
       "0  0.768249  0.823476  0.378327  0.857578     0.633758     0.785088  0.269648   \n",
       "1  0.710513  0.882482  0.613613  0.768555     0.866010     0.654325  0.475135   \n",
       "2  0.865413  0.943266  0.859123  0.871166     0.887298     0.846582  0.832683   \n",
       "3  0.791685  0.814003  0.429365  0.872586     0.894215     0.781836  0.282507   \n",
       "4  0.854855  0.956195  0.877579  0.821773     0.940247     0.749087  0.822743   \n",
       "\n",
       "   recall_1 test_participants    train_participants  \n",
       "0  0.944818                18   5, 7, 9, 11, 12, 17  \n",
       "1  0.931104                17   5, 7, 9, 11, 12, 18  \n",
       "2  0.897220                12   5, 7, 9, 11, 17, 18  \n",
       "3  0.987169                11   5, 7, 9, 12, 17, 18  \n",
       "4  0.910081                 9  5, 7, 11, 12, 17, 18  "
      ]
     },
     "execution_count": 114,
     "metadata": {},
     "output_type": "execute_result"
    }
   ],
   "source": [
    "end_results.head()"
   ]
  },
  {
   "cell_type": "code",
   "execution_count": 115,
   "metadata": {},
   "outputs": [],
   "source": [
    "end_results.to_csv(output_file, index=False)"
   ]
  },
  {
   "cell_type": "code",
   "execution_count": null,
   "metadata": {},
   "outputs": [],
   "source": []
  },
  {
   "cell_type": "code",
   "execution_count": null,
   "metadata": {},
   "outputs": [],
   "source": []
  }
 ],
 "metadata": {
  "kernelspec": {
   "display_name": "Python [conda env:caispp]",
   "language": "python",
   "name": "conda-env-caispp-py"
  },
  "language_info": {
   "codemirror_mode": {
    "name": "ipython",
    "version": 3
   },
   "file_extension": ".py",
   "mimetype": "text/x-python",
   "name": "python",
   "nbconvert_exporter": "python",
   "pygments_lexer": "ipython3",
   "version": "3.5.6"
  }
 },
 "nbformat": 4,
 "nbformat_minor": 2
}
