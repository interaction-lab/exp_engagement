{
 "cells": [
  {
   "cell_type": "code",
   "execution_count": 1,
   "metadata": {},
   "outputs": [],
   "source": [
    "import numpy as np\n",
    "import pandas as pd\n",
    "from sklearn import metrics"
   ]
  },
  {
   "cell_type": "markdown",
   "metadata": {},
   "source": [
    "### Read data - Window"
   ]
  },
  {
   "cell_type": "code",
   "execution_count": 2,
   "metadata": {},
   "outputs": [],
   "source": [
    "df1 = pd.read_csv('p7_master_window.csv')\n",
    "df2 = pd.read_csv('p9_master_window.csv')\n",
    "df3 = df1.append(df2,sort=True,ignore_index=True)\n",
    "df4 = pd.read_csv('p5_master_window.csv')\n",
    "#df3.head()"
   ]
  },
  {
   "cell_type": "markdown",
   "metadata": {},
   "source": [
    "##### P7,9- Train\n",
    "##### P5 - Test"
   ]
  },
  {
   "cell_type": "code",
   "execution_count": 3,
   "metadata": {},
   "outputs": [],
   "source": [
    "X_train = df3.drop(['engagement'],axis = 1)\n",
    "y_train = df3['engagement']\n",
    "X_test = df4.drop(['engagement'],axis = 1)\n",
    "y_test = df4['engagement']"
   ]
  },
  {
   "cell_type": "code",
   "execution_count": 4,
   "metadata": {},
   "outputs": [
    {
     "name": "stdout",
     "output_type": "stream",
     "text": [
      "0.0    24341\n",
      "1.0    22912\n",
      "Name: engagement, dtype: int64\n",
      "1.0    11339\n",
      "0.0     6400\n",
      "Name: engagement, dtype: int64\n"
     ]
    }
   ],
   "source": [
    "print y_train.value_counts()\n",
    "print y_test.value_counts()"
   ]
  },
  {
   "cell_type": "markdown",
   "metadata": {},
   "source": [
    "#### Transforming the data to CRFsuite format"
   ]
  },
  {
   "cell_type": "code",
   "execution_count": 5,
   "metadata": {},
   "outputs": [],
   "source": [
    "trainx = []\n",
    "train_temp = []\n",
    "train_sess_index = []\n",
    "train_index_curr = X_train['session_num'][0]\n",
    "for item in X_train.iterrows():\n",
    "    if(item[1]['session_num'] != train_index_curr):\n",
    "        trainx.append(train_temp)\n",
    "        train_temp = []\n",
    "        train_sess_index.append(item[0]) \n",
    "        train_index_curr = item[1]['session_num']\n",
    "    temp = []\n",
    "    for val in item[1].items():\n",
    "        s = val[0] + '=' + str(val[1])\n",
    "        temp.append(s)\n",
    "    train_temp.append(temp)\n",
    "trainx.append(train_temp)\n",
    "\n",
    "testx = []\n",
    "test_temp = []\n",
    "test_sess_index = []\n",
    "test_index_curr = X_test['session_num'][0]\n",
    "for item in X_test.iterrows():\n",
    "    if(item[1]['session_num'] != test_index_curr):\n",
    "        testx.append(test_temp)\n",
    "        test_temp = []\n",
    "        test_sess_index.append(item[0]) \n",
    "        test_index_curr = item[1]['session_num']\n",
    "    temp = []\n",
    "    for val in item[1].items():\n",
    "        s = val[0] + '=' + str(val[1])\n",
    "        temp.append(s)\n",
    "    test_temp.append(temp)\n",
    "testx.append(test_temp)\n",
    "    \n",
    "trainy = []\n",
    "trctr = 0\n",
    "trtemp = []\n",
    "for item in y_train:\n",
    "    if(trctr in train_sess_index):\n",
    "        trainy.append(trtemp)\n",
    "        trtemp = []\n",
    "    s = str(int(item))\n",
    "    trtemp.append(s)\n",
    "    trctr+=1\n",
    "trainy.append(trtemp)\n",
    "\n",
    "testy = []\n",
    "tectr = 0\n",
    "tetemp = []\n",
    "for item in y_test:\n",
    "    if(tectr in test_sess_index):\n",
    "        testy.append(tetemp)\n",
    "        tetemp = []\n",
    "    s = str(int(item))\n",
    "    tetemp.append(s)\n",
    "    tectr+=1\n",
    "testy.append(tetemp)    "
   ]
  },
  {
   "cell_type": "markdown",
   "metadata": {},
   "source": [
    "### CRF"
   ]
  },
  {
   "cell_type": "code",
   "execution_count": 6,
   "metadata": {},
   "outputs": [],
   "source": [
    "#from __future__ import print_function\n",
    "from itertools import chain\n",
    "import sklearn\n",
    "from sklearn.metrics import classification_report, confusion_matrix, accuracy_score\n",
    "from sklearn.preprocessing import LabelBinarizer\n",
    "import pycrfsuite"
   ]
  },
  {
   "cell_type": "code",
   "execution_count": 7,
   "metadata": {},
   "outputs": [
    {
     "name": "stdout",
     "output_type": "stream",
     "text": [
      "CPU times: user 5.63 s, sys: 82.5 ms, total: 5.71 s\n",
      "Wall time: 5.71 s\n"
     ]
    }
   ],
   "source": [
    "%%time\n",
    "trainer = pycrfsuite.Trainer(verbose=False)\n",
    "\n",
    "for xseq, yseq in zip(trainx, trainy):\n",
    "    trainer.append(xseq, yseq)"
   ]
  },
  {
   "cell_type": "code",
   "execution_count": 8,
   "metadata": {},
   "outputs": [],
   "source": [
    "trainer.set_params({\n",
    "    'c1': 1.0,   # coefficient for L1 penalty\n",
    "    'c2': 1e-3,  # coefficient for L2 penalty\n",
    "    'max_iterations': 300,  # stop earlier\n",
    "    #'feature.possible_transitions': True\n",
    "})"
   ]
  },
  {
   "cell_type": "code",
   "execution_count": 9,
   "metadata": {},
   "outputs": [
    {
     "data": {
      "text/plain": [
       "['feature.minfreq',\n",
       " 'feature.possible_states',\n",
       " 'feature.possible_transitions',\n",
       " 'c1',\n",
       " 'c2',\n",
       " 'max_iterations',\n",
       " 'num_memories',\n",
       " 'epsilon',\n",
       " 'period',\n",
       " 'delta',\n",
       " 'linesearch',\n",
       " 'max_linesearch']"
      ]
     },
     "execution_count": 9,
     "metadata": {},
     "output_type": "execute_result"
    }
   ],
   "source": [
    "trainer.params()"
   ]
  },
  {
   "cell_type": "code",
   "execution_count": 10,
   "metadata": {},
   "outputs": [],
   "source": [
    "trainer.train('p579_s.crfsuite')"
   ]
  },
  {
   "cell_type": "code",
   "execution_count": 11,
   "metadata": {},
   "outputs": [],
   "source": [
    "#!ls -lh ./p5_test_s1.crfsuite"
   ]
  },
  {
   "cell_type": "code",
   "execution_count": 12,
   "metadata": {},
   "outputs": [
    {
     "data": {
      "text/plain": [
       "{'active_features': 3896,\n",
       " 'error_norm': 366.733044,\n",
       " 'feature_norm': 24.327539,\n",
       " 'linesearch_step': 1.0,\n",
       " 'linesearch_trials': 1,\n",
       " 'loss': 2171.268692,\n",
       " 'num': 300,\n",
       " 'scores': {},\n",
       " 'time': 0.272}"
      ]
     },
     "execution_count": 12,
     "metadata": {},
     "output_type": "execute_result"
    }
   ],
   "source": [
    "trainer.logparser.last_iteration"
   ]
  },
  {
   "cell_type": "code",
   "execution_count": 13,
   "metadata": {},
   "outputs": [
    {
     "data": {
      "text/plain": [
       "<contextlib.closing at 0x7f1c64f61210>"
      ]
     },
     "execution_count": 13,
     "metadata": {},
     "output_type": "execute_result"
    }
   ],
   "source": [
    "tagger = pycrfsuite.Tagger()\n",
    "tagger.open('p579_s.crfsuite')"
   ]
  },
  {
   "cell_type": "markdown",
   "metadata": {},
   "source": [
    "### Classification Accuracy"
   ]
  },
  {
   "cell_type": "code",
   "execution_count": 14,
   "metadata": {},
   "outputs": [],
   "source": [
    "pred = []\n",
    "for item in testx:\n",
    "        pred.append((tagger.tag(item)))"
   ]
  },
  {
   "cell_type": "code",
   "execution_count": 15,
   "metadata": {},
   "outputs": [],
   "source": [
    "pred_ravel = []\n",
    "for i in pred:\n",
    "    for j in i:\n",
    "        pred_ravel.append(int(j))\n",
    "\n",
    "y_test_true = []\n",
    "for item in testy:\n",
    "    for j in item:\n",
    "        y_test_true.append(int(j))\n",
    "#set(y_test_true)"
   ]
  },
  {
   "cell_type": "code",
   "execution_count": 16,
   "metadata": {},
   "outputs": [
    {
     "name": "stdout",
     "output_type": "stream",
     "text": [
      "              precision    recall  f1-score   support\n",
      "\n",
      "           0       0.79      0.77      0.78      6400\n",
      "           1       0.87      0.89      0.88     11339\n",
      "\n",
      "   micro avg       0.84      0.84      0.84     17739\n",
      "   macro avg       0.83      0.83      0.83     17739\n",
      "weighted avg       0.84      0.84      0.84     17739\n",
      "\n"
     ]
    }
   ],
   "source": [
    "print(metrics.classification_report(y_test_true,pred_ravel))"
   ]
  },
  {
   "cell_type": "code",
   "execution_count": 17,
   "metadata": {},
   "outputs": [
    {
     "name": "stdout",
     "output_type": "stream",
     "text": [
      "0.844128755848695\n"
     ]
    }
   ],
   "source": [
    "print(metrics.accuracy_score(y_test_true,pred_ravel))"
   ]
  },
  {
   "cell_type": "code",
   "execution_count": 18,
   "metadata": {},
   "outputs": [
    {
     "name": "stdout",
     "output_type": "stream",
     "text": [
      "[[ 4924  1476]\n",
      " [ 1289 10050]]\n"
     ]
    }
   ],
   "source": [
    "print(metrics.confusion_matrix(y_test_true,pred_ravel))"
   ]
  },
  {
   "cell_type": "code",
   "execution_count": 19,
   "metadata": {},
   "outputs": [
    {
     "name": "stdout",
     "output_type": "stream",
     "text": [
      "0.827848272554899\n"
     ]
    }
   ],
   "source": [
    "print(metrics.roc_auc_score(y_test_true,pred_ravel))"
   ]
  }
 ],
 "metadata": {
  "kernelspec": {
   "display_name": "Python 2",
   "language": "python",
   "name": "python2"
  },
  "language_info": {
   "codemirror_mode": {
    "name": "ipython",
    "version": 2
   },
   "file_extension": ".py",
   "mimetype": "text/x-python",
   "name": "python",
   "nbconvert_exporter": "python",
   "pygments_lexer": "ipython2",
   "version": "2.7.15"
  }
 },
 "nbformat": 4,
 "nbformat_minor": 2
}
