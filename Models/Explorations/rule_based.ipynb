{
 "cells": [
  {
   "cell_type": "code",
   "execution_count": null,
   "metadata": {},
   "outputs": [],
   "source": [
    "# Rule Based Model Exploration"
   ]
  },
  {
   "cell_type": "code",
   "execution_count": 1,
   "metadata": {},
   "outputs": [],
   "source": [
    "import pandas as pd\n",
    "import numpy as np\n",
    "import copy\n",
    "from sklearn.model_selection import train_test_split\n",
    "from sklearn.metrics import roc_auc_score\n",
    "from sklearn.metrics import roc_auc_score\n",
    "from sklearn.metrics import accuracy_score\n",
    "from sklearn.metrics import classification_report\n",
    "from sklearn import metrics\n",
    "from itertools import combinations\n",
    "import matplotlib.pyplot as plt\n",
    "from itertools import cycle\n",
    "from sklearn.metrics import roc_curve, auc"
   ]
  },
  {
   "cell_type": "markdown",
   "metadata": {},
   "source": [
    "## Load data"
   ]
  },
  {
   "cell_type": "code",
   "execution_count": 2,
   "metadata": {},
   "outputs": [],
   "source": [
    "df = pd.read_csv('Data/p7_master_window.csv')\n",
    "df.fillna(value=0, inplace=True)"
   ]
  },
  {
   "cell_type": "code",
   "execution_count": 3,
   "metadata": {},
   "outputs": [
    {
     "data": {
      "text/plain": [
       "1.0    12029\n",
       "0.0     8097\n",
       "Name: engagement, dtype: int64"
      ]
     },
     "execution_count": 3,
     "metadata": {},
     "output_type": "execute_result"
    }
   ],
   "source": [
    "df['engagement'].value_counts()"
   ]
  },
  {
   "cell_type": "code",
   "execution_count": 4,
   "metadata": {},
   "outputs": [],
   "source": [
    "len_df = len(df)\n",
    "split_ratio = 0.8\n",
    "split = int(split_ratio * len_df)"
   ]
  },
  {
   "cell_type": "code",
   "execution_count": 5,
   "metadata": {},
   "outputs": [
    {
     "data": {
      "text/plain": [
       "0.0    2094\n",
       "1.0    1932\n",
       "Name: engagement, dtype: int64"
      ]
     },
     "execution_count": 5,
     "metadata": {},
     "output_type": "execute_result"
    }
   ],
   "source": [
    "df.iloc[split:,:]['engagement'].value_counts()"
   ]
  },
  {
   "cell_type": "markdown",
   "metadata": {},
   "source": [
    "## Rule based model: Open Face Success"
   ]
  },
  {
   "cell_type": "code",
   "execution_count": 6,
   "metadata": {},
   "outputs": [],
   "source": [
    "train_df, test_df = df.iloc[:split,:], df.iloc[split:,:]\n",
    "pred = []\n",
    "for item in test_df.iterrows():\n",
    "    if item[1]['of_success'] == 0:\n",
    "        pred.append(0)\n",
    "    else:\n",
    "        pred.append(1)\n",
    "pred = [0 if i[1]['of_success'] == 0 else 1 for i in test_df.iterrows()]"
   ]
  },
  {
   "cell_type": "code",
   "execution_count": 7,
   "metadata": {},
   "outputs": [
    {
     "name": "stdout",
     "output_type": "stream",
     "text": [
      "              precision    recall  f1-score   support\n",
      "\n",
      "         0.0       0.78      0.94      0.85      2094\n",
      "         1.0       0.92      0.72      0.81      1932\n",
      "\n",
      "   micro avg       0.83      0.83      0.83      4026\n",
      "   macro avg       0.85      0.83      0.83      4026\n",
      "weighted avg       0.85      0.83      0.83      4026\n",
      "\n"
     ]
    }
   ],
   "source": [
    "print(classification_report(test_df['engagement'], pred))"
   ]
  },
  {
   "cell_type": "code",
   "execution_count": 8,
   "metadata": {},
   "outputs": [
    {
     "name": "stdout",
     "output_type": "stream",
     "text": [
      "Accuracy Score: 0.8340784898161947\n"
     ]
    }
   ],
   "source": [
    "print(\"Accuracy Score:\", accuracy_score(test_df['engagement'], pred))"
   ]
  },
  {
   "cell_type": "markdown",
   "metadata": {},
   "source": [
    "### Probablity - Open Face Success"
   ]
  },
  {
   "cell_type": "code",
   "execution_count": 9,
   "metadata": {},
   "outputs": [],
   "source": [
    "df_rule = df[['of_success', 'engagement']]\n",
    "count_dict = {}"
   ]
  },
  {
   "cell_type": "code",
   "execution_count": 10,
   "metadata": {},
   "outputs": [],
   "source": [
    "for row in df_rule.iterrows():\n",
    "    try:\n",
    "        count_dict[(row[1]['of_success'], row[1]['engagement'])] += 1\n",
    "    except:\n",
    "        count_dict[(row[1]['of_success'], row[1]['engagement'])] = 1"
   ]
  },
  {
   "cell_type": "code",
   "execution_count": 11,
   "metadata": {},
   "outputs": [
    {
     "name": "stdout",
     "output_type": "stream",
     "text": [
      "{(0.0, 0.0): 5042, (1.0, 1.0): 8477, (0.0, 1.0): 3552, (1.0, 0.0): 3055}\n",
      "0.42700983802047104\n",
      "0.5866883872469164\n",
      "0.41331161275308353\n",
      "0.26491501907735\n",
      "0.7350849809226501\n"
     ]
    }
   ],
   "source": [
    "print(count_dict)\n",
    "print((count_dict[(0.0, 0.0)] + count_dict[(0.0, 1.0)]) / sum(list(count_dict.values())))\n",
    "prob_o0_e0 = count_dict[(0.0, 0.0)] / (count_dict[(0.0, 0.0)] + count_dict[(0.0, 1.0)])\n",
    "print(prob_o0_e0)\n",
    "prob_o0_e1 = count_dict[(0.0, 1.0)] / (count_dict[(0.0, 0.0)] + count_dict[(0.0, 1.0)])\n",
    "print(prob_o0_e1)\n",
    "prob_o1_e0 = count_dict[(1.0, 0.0)] / (count_dict[(1.0, 0.0)] + count_dict[(1.0, 1.0)])\n",
    "print(prob_o1_e0)\n",
    "prob_o1_e1 = count_dict[(1.0, 1.0)] / (count_dict[(1.0, 0.0)] + count_dict[(1.0, 1.0)])\n",
    "print(prob_o1_e1)"
   ]
  },
  {
   "cell_type": "code",
   "execution_count": 12,
   "metadata": {},
   "outputs": [],
   "source": [
    "prob_pred = [prob_o0_e1 if i[1]['of_success'] == 0 else prob_o1_e1 for i in df_rule.iterrows()]"
   ]
  },
  {
   "cell_type": "code",
   "execution_count": 13,
   "metadata": {},
   "outputs": [],
   "source": [
    "# Compute ROC curve\n",
    "fpr = dict()\n",
    "tpr = dict()\n",
    "roc_auc = dict()\n",
    "for i in range(1):\n",
    "    fpr[i], tpr[i], _ = roc_curve(df_rule['engagement'], prob_pred)\n",
    "    roc_auc[i] = auc(fpr[i], tpr[i])"
   ]
  },
  {
   "cell_type": "code",
   "execution_count": 14,
   "metadata": {},
   "outputs": [
    {
     "data": {
      "image/png": "[encoded data removed]",
      "text/plain": [
       "<Figure size 432x288 with 1 Axes>"
      ]
     },
     "metadata": {
      "needs_background": "light"
     },
     "output_type": "display_data"
    }
   ],
   "source": [
    "plt.figure()\n",
    "lw = 2\n",
    "plt.plot(fpr[0], tpr[0], color='darkorange',\n",
    "         lw=lw, label='ROC curve (area = %0.2f)' % roc_auc[0])\n",
    "plt.plot([0, 1], [0, 1], color='navy', lw=lw, linestyle='--')\n",
    "plt.xlim([0.0, 1.0])\n",
    "plt.ylim([0.0, 1.05])\n",
    "plt.xlabel('False Positive Rate')\n",
    "plt.ylabel('True Positive Rate')\n",
    "plt.title('Receiver operating characteristic example')\n",
    "plt.legend(loc=\"lower right\")\n",
    "plt.show()"
   ]
  },
  {
   "cell_type": "code",
   "execution_count": 15,
   "metadata": {},
   "outputs": [
    {
     "name": "stdout",
     "output_type": "stream",
     "text": [
      "              precision    recall  f1-score   support\n",
      "\n",
      "         0.0       0.00      0.00      0.00      8097\n",
      "         1.0       0.60      1.00      0.75     12029\n",
      "\n",
      "   micro avg       0.60      0.60      0.60     20126\n",
      "   macro avg       0.30      0.50      0.37     20126\n",
      "weighted avg       0.36      0.60      0.45     20126\n",
      "\n",
      "0.597684587101262\n"
     ]
    },
    {
     "name": "stderr",
     "output_type": "stream",
     "text": [
      "/home/bala/anaconda2/envs/tensorflow/lib/python3.6/site-packages/sklearn/metrics/classification.py:1143: UndefinedMetricWarning: Precision and F-score are ill-defined and being set to 0.0 in labels with no predicted samples.\n",
      "  'precision', 'predicted', average, warn_for)\n"
     ]
    }
   ],
   "source": [
    "pred_list = [0 if val < 0.4 else 1 for val in prob_pred]\n",
    "print(classification_report(df_rule['engagement'], pred_list))\n",
    "print(accuracy_score(df_rule['engagement'], pred_list))"
   ]
  },
  {
   "cell_type": "code",
   "execution_count": 16,
   "metadata": {},
   "outputs": [
    {
     "name": "stdout",
     "output_type": "stream",
     "text": [
      "              precision    recall  f1-score   support\n",
      "\n",
      "         0.0       0.59      0.62      0.60      8097\n",
      "         1.0       0.74      0.70      0.72     12029\n",
      "\n",
      "   micro avg       0.67      0.67      0.67     20126\n",
      "   macro avg       0.66      0.66      0.66     20126\n",
      "weighted avg       0.68      0.67      0.67     20126\n",
      "\n",
      "0.6717181754943854\n"
     ]
    }
   ],
   "source": [
    "pred_list = [0 if val < 0.6 else 1 for val in prob_pred]\n",
    "print(classification_report(df_rule['engagement'], pred_list))\n",
    "print(accuracy_score(df_rule['engagement'], pred_list))"
   ]
  },
  {
   "cell_type": "code",
   "execution_count": 17,
   "metadata": {},
   "outputs": [
    {
     "name": "stdout",
     "output_type": "stream",
     "text": [
      "              precision    recall  f1-score   support\n",
      "\n",
      "         0.0       0.40      1.00      0.57      8097\n",
      "         1.0       0.00      0.00      0.00     12029\n",
      "\n",
      "   micro avg       0.40      0.40      0.40     20126\n",
      "   macro avg       0.20      0.50      0.29     20126\n",
      "weighted avg       0.16      0.40      0.23     20126\n",
      "\n",
      "0.40231541289873796\n"
     ]
    }
   ],
   "source": [
    "pred_list = [0 if val < 0.75 else 1 for val in prob_pred]\n",
    "print(classification_report(df_rule['engagement'], pred_list))\n",
    "print(accuracy_score(df_rule['engagement'], pred_list))"
   ]
  },
  {
   "cell_type": "markdown",
   "metadata": {},
   "source": [
    "It can be observed that varying the threshold changes the accuracy."
   ]
  },
  {
   "cell_type": "markdown",
   "metadata": {},
   "source": [
    "## Rule based model"
   ]
  },
  {
   "cell_type": "code",
   "execution_count": 18,
   "metadata": {},
   "outputs": [],
   "source": [
    "# Code for converting the numerical variables into categorical by binning them\n",
    "df_rules = df[['op_num_people', 'of_pose_distance', 'of_gaze_distance', 'of_success', 'of_confidence', 'ros_difficulty', 'ros_mistakes_session', 'ros_ts_robot_talked']]\n",
    "\n",
    "def calc(df):\n",
    "    min_df = min(df)\n",
    "    max_df = max(df)\n",
    "    diff_df = (max_df - min_df) / 10\n",
    "    list_df = []\n",
    "    base_df = min_df\n",
    "    for i in range(11):\n",
    "        list_df.append(base_df)\n",
    "        base_df = base_df + diff_df\n",
    "    return list_df"
   ]
  },
  {
   "cell_type": "code",
   "execution_count": 19,
   "metadata": {},
   "outputs": [],
   "source": [
    "pose_dist_list = calc(df_rules['of_pose_distance'])\n",
    "gaze_dist_list = calc(df_rules['of_gaze_distance'])\n",
    "confidence_list = calc(df_rules['of_confidence'])\n",
    "ts_talked_list = calc(df_rules['ros_ts_robot_talked'])    "
   ]
  },
  {
   "cell_type": "code",
   "execution_count": 20,
   "metadata": {},
   "outputs": [],
   "source": [
    "dpose = df_rules['of_pose_distance']\n",
    "dgaze = df_rules['of_gaze_distance']\n",
    "dconf = df_rules['of_confidence']\n",
    "dts = df_rules['ros_ts_robot_talked']"
   ]
  },
  {
   "cell_type": "code",
   "execution_count": 21,
   "metadata": {},
   "outputs": [],
   "source": [
    "def binv_pose(val, range_list = pose_dist_list):\n",
    "    for i in range(len(range_list) - 1):\n",
    "        if val <= range_list[i+1] and val >= range_list[i]:\n",
    "            return i\n",
    "    return 0\n",
    "\n",
    "def binv_gaze(val, range_list = gaze_dist_list):\n",
    "    for i in range(len(range_list) - 1):\n",
    "        if val <= range_list[i+1] and val >= range_list[i]:\n",
    "            return i\n",
    "    return 0\n",
    "\n",
    "def binv_conf(val, range_list = confidence_list):\n",
    "    for i in range(len(range_list) - 1):\n",
    "        if val <= range_list[i+1] and val >= range_list[i]:\n",
    "            return i\n",
    "    return 0\n",
    "\n",
    "def binv_ts(val, range_list = ts_talked_list):\n",
    "    for i in range(len(range_list) - 1):\n",
    "        if val <= range_list[i+1] and val >= range_list[i]:\n",
    "            return i\n",
    "    return 0\n",
    "\n",
    "#map(binv, list(dts))"
   ]
  },
  {
   "cell_type": "code",
   "execution_count": 22,
   "metadata": {},
   "outputs": [
    {
     "name": "stderr",
     "output_type": "stream",
     "text": [
      "/home/bala/anaconda2/envs/tensorflow/lib/python3.6/site-packages/ipykernel_launcher.py:1: SettingWithCopyWarning: \n",
      "A value is trying to be set on a copy of a slice from a DataFrame.\n",
      "Try using .loc[row_indexer,col_indexer] = value instead\n",
      "\n",
      "See the caveats in the documentation: http://pandas.pydata.org/pandas-docs/stable/indexing.html#indexing-view-versus-copy\n",
      "  \"\"\"Entry point for launching an IPython kernel.\n",
      "/home/bala/anaconda2/envs/tensorflow/lib/python3.6/site-packages/ipykernel_launcher.py:2: SettingWithCopyWarning: \n",
      "A value is trying to be set on a copy of a slice from a DataFrame.\n",
      "Try using .loc[row_indexer,col_indexer] = value instead\n",
      "\n",
      "See the caveats in the documentation: http://pandas.pydata.org/pandas-docs/stable/indexing.html#indexing-view-versus-copy\n",
      "  \n",
      "/home/bala/anaconda2/envs/tensorflow/lib/python3.6/site-packages/ipykernel_launcher.py:3: SettingWithCopyWarning: \n",
      "A value is trying to be set on a copy of a slice from a DataFrame.\n",
      "Try using .loc[row_indexer,col_indexer] = value instead\n",
      "\n",
      "See the caveats in the documentation: http://pandas.pydata.org/pandas-docs/stable/indexing.html#indexing-view-versus-copy\n",
      "  This is separate from the ipykernel package so we can avoid doing imports until\n",
      "/home/bala/anaconda2/envs/tensorflow/lib/python3.6/site-packages/ipykernel_launcher.py:4: SettingWithCopyWarning: \n",
      "A value is trying to be set on a copy of a slice from a DataFrame.\n",
      "Try using .loc[row_indexer,col_indexer] = value instead\n",
      "\n",
      "See the caveats in the documentation: http://pandas.pydata.org/pandas-docs/stable/indexing.html#indexing-view-versus-copy\n",
      "  after removing the cwd from sys.path.\n"
     ]
    }
   ],
   "source": [
    "df_rules['of_pose_distance_bin'] = list(map(binv_pose, list(dpose)))\n",
    "df_rules['of_gaze_distance_bin'] = list(map(binv_gaze, list(dgaze)))\n",
    "df_rules['of_confidence_bin'] = list(map(binv_conf, list(dconf)))\n",
    "df_rules['ros_ts_robot_talked_bin'] = list(map(binv_ts, list(dts)))"
   ]
  },
  {
   "cell_type": "markdown",
   "metadata": {},
   "source": [
    "### Probability Calculation"
   ]
  },
  {
   "cell_type": "code",
   "execution_count": 23,
   "metadata": {},
   "outputs": [],
   "source": [
    "df_threshold = df_rules[['op_num_people', 'of_pose_distance_bin', 'of_gaze_distance_bin', 'of_success', 'of_confidence_bin', 'ros_difficulty', 'ros_mistakes_session', 'ros_ts_robot_talked_bin']]\n",
    "df_label = df[['engagement']]\n",
    "df_threshold_int = df_threshold.astype('int')\n",
    "df_thresh = pd.concat([df_threshold_int, df_label], axis=1).astype('int')"
   ]
  },
  {
   "cell_type": "code",
   "execution_count": 24,
   "metadata": {},
   "outputs": [],
   "source": [
    "df_train, df_test = df_thresh.iloc[:split,:], df_threshold_int.iloc[split:,:]"
   ]
  },
  {
   "cell_type": "code",
   "execution_count": 25,
   "metadata": {},
   "outputs": [],
   "source": [
    "from collections import defaultdict\n",
    "\n",
    "c_dict = defaultdict(dict) # Count Dict\n",
    "p_dict = defaultdict(dict) # Probability Dict\n",
    "\n",
    "feat = ['op_num_people', 'of_pose_distance_bin', 'of_gaze_distance_bin',\n",
    "       'of_success', 'of_confidence_bin', 'ros_difficulty',\n",
    "       'ros_mistakes_session', 'ros_ts_robot_talked_bin']"
   ]
  },
  {
   "cell_type": "code",
   "execution_count": 26,
   "metadata": {},
   "outputs": [],
   "source": [
    "for row in df_train.iterrows():\n",
    "    for f in feat:\n",
    "        try:\n",
    "            c_dict[f][(row[1][f], row[1]['engagement'])] += 1\n",
    "        except:\n",
    "            c_dict[f][(row[1][f], row[1]['engagement'])] = 1"
   ]
  },
  {
   "cell_type": "code",
   "execution_count": 27,
   "metadata": {},
   "outputs": [],
   "source": [
    "# Smoothing Count\n",
    "mc_dict = copy.deepcopy(c_dict)"
   ]
  },
  {
   "cell_type": "code",
   "execution_count": 28,
   "metadata": {},
   "outputs": [
    {
     "name": "stdout",
     "output_type": "stream",
     "text": [
      "op_num_people\n",
      "of_pose_distance_bin\n",
      "of_gaze_distance_bin\n",
      "of_success\n",
      "of_confidence_bin\n",
      "ros_difficulty\n",
      "ros_mistakes_session\n",
      "ros_ts_robot_talked_bin\n"
     ]
    }
   ],
   "source": [
    "for key in c_dict:\n",
    "    print(key)\n",
    "    if '_bin' in key:\n",
    "        for i in range(10):\n",
    "            if (i,0) not in c_dict[key]:\n",
    "                #print(\"Err0\", i)\n",
    "                mc_dict[key][(i,0)] = 1\n",
    "            if (i,1) not in c_dict[key]:\n",
    "                #print(\"Err1\", i)\n",
    "                mc_dict[key][(i,1)] = 1\n",
    "    else:\n",
    "        vset = set(map(lambda x: x[0], c_dict[key].keys()))\n",
    "        for i in vset:\n",
    "            if (i,0) not in c_dict[key]:\n",
    "                #print(\"Err0\", i)\n",
    "                mc_dict[key][(i,0)] = 1\n",
    "            if (i,1) not in c_dict[key]:\n",
    "                #print(\"Err1\", i)\n",
    "                mc_dict[key][(i,1)] = 1            "
   ]
  },
  {
   "cell_type": "code",
   "execution_count": 29,
   "metadata": {},
   "outputs": [
    {
     "data": {
      "text/plain": [
       "defaultdict(dict,\n",
       "            {'op_num_people': {(0, 0): 3818,\n",
       "              (1, 0): 1776,\n",
       "              (1, 1): 7614,\n",
       "              (2, 1): 1677,\n",
       "              (0, 1): 473,\n",
       "              (3, 1): 322,\n",
       "              (2, 0): 336,\n",
       "              (4, 1): 11,\n",
       "              (3, 0): 73,\n",
       "              (4, 0): 1},\n",
       "             'of_pose_distance_bin': {(0, 0): 3977,\n",
       "              (0, 1): 9511,\n",
       "              (1, 1): 504,\n",
       "              (5, 1): 20,\n",
       "              (3, 0): 9,\n",
       "              (3, 1): 17,\n",
       "              (4, 1): 12,\n",
       "              (2, 0): 18,\n",
       "              (2, 1): 12,\n",
       "              (8, 0): 317,\n",
       "              (7, 0): 1477,\n",
       "              (7, 1): 12,\n",
       "              (1, 0): 203,\n",
       "              (8, 1): 4,\n",
       "              (6, 1): 5,\n",
       "              (5, 0): 1,\n",
       "              (4, 0): 1,\n",
       "              (6, 0): 1,\n",
       "              (9, 0): 1,\n",
       "              (9, 1): 1},\n",
       "             'of_gaze_distance_bin': {(0, 0): 4223,\n",
       "              (0, 1): 10058,\n",
       "              (1, 0): 1674,\n",
       "              (1, 1): 16,\n",
       "              (2, 1): 21,\n",
       "              (2, 0): 72,\n",
       "              (3, 0): 33,\n",
       "              (3, 1): 1,\n",
       "              (9, 1): 1,\n",
       "              (9, 0): 1,\n",
       "              (4, 0): 1,\n",
       "              (4, 1): 1,\n",
       "              (5, 0): 1,\n",
       "              (5, 1): 1,\n",
       "              (6, 0): 1,\n",
       "              (6, 1): 1,\n",
       "              (7, 0): 1,\n",
       "              (7, 1): 1,\n",
       "              (8, 0): 1,\n",
       "              (8, 1): 1},\n",
       "             'of_success': {(0, 0): 3076,\n",
       "              (1, 1): 7085,\n",
       "              (0, 1): 3012,\n",
       "              (1, 0): 2927},\n",
       "             'of_confidence_bin': {(0, 0): 3964,\n",
       "              (0, 1): 8146,\n",
       "              (8, 1): 1117,\n",
       "              (9, 1): 409,\n",
       "              (6, 1): 82,\n",
       "              (4, 1): 99,\n",
       "              (5, 1): 67,\n",
       "              (7, 1): 93,\n",
       "              (8, 0): 1649,\n",
       "              (7, 0): 68,\n",
       "              (9, 0): 160,\n",
       "              (2, 1): 38,\n",
       "              (5, 0): 28,\n",
       "              (4, 0): 32,\n",
       "              (2, 0): 32,\n",
       "              (6, 0): 32,\n",
       "              (3, 0): 32,\n",
       "              (3, 1): 33,\n",
       "              (1, 1): 13,\n",
       "              (1, 0): 6},\n",
       "             'ros_difficulty': {(4, 0): 1695,\n",
       "              (4, 1): 2889,\n",
       "              (0, 1): 216,\n",
       "              (0, 0): 123,\n",
       "              (3, 0): 2202,\n",
       "              (3, 1): 2395,\n",
       "              (2, 1): 2012,\n",
       "              (2, 0): 1143,\n",
       "              (1, 1): 410,\n",
       "              (1, 0): 42,\n",
       "              (5, 1): 2175,\n",
       "              (5, 0): 798},\n",
       "             'ros_mistakes_session': {(0, 0): 101,\n",
       "              (0, 1): 1023,\n",
       "              (1, 1): 2101,\n",
       "              (2, 1): 860,\n",
       "              (3, 1): 742,\n",
       "              (3, 0): 249,\n",
       "              (4, 1): 304,\n",
       "              (4, 0): 76,\n",
       "              (5, 1): 650,\n",
       "              (5, 0): 52,\n",
       "              (6, 1): 772,\n",
       "              (6, 0): 142,\n",
       "              (7, 1): 493,\n",
       "              (7, 0): 187,\n",
       "              (8, 1): 133,\n",
       "              (8, 0): 83,\n",
       "              (9, 1): 779,\n",
       "              (9, 0): 2543,\n",
       "              (10, 0): 123,\n",
       "              (10, 1): 117,\n",
       "              (11, 1): 560,\n",
       "              (11, 0): 80,\n",
       "              (12, 0): 292,\n",
       "              (12, 1): 869,\n",
       "              (13, 1): 378,\n",
       "              (13, 0): 87,\n",
       "              (14, 0): 21,\n",
       "              (14, 1): 67,\n",
       "              (15, 1): 186,\n",
       "              (15, 0): 108,\n",
       "              (16, 0): 59,\n",
       "              (16, 1): 33,\n",
       "              (17, 0): 45,\n",
       "              (17, 1): 30,\n",
       "              (2, 0): 1124,\n",
       "              (1, 0): 631},\n",
       "             'ros_ts_robot_talked_bin': {(0, 0): 3027,\n",
       "              (0, 1): 7619,\n",
       "              (1, 0): 595,\n",
       "              (1, 1): 1561,\n",
       "              (2, 1): 570,\n",
       "              (3, 1): 245,\n",
       "              (2, 0): 526,\n",
       "              (3, 0): 425,\n",
       "              (4, 0): 344,\n",
       "              (5, 0): 280,\n",
       "              (6, 0): 279,\n",
       "              (7, 0): 280,\n",
       "              (8, 0): 176,\n",
       "              (9, 0): 71,\n",
       "              (4, 1): 36,\n",
       "              (5, 1): 22,\n",
       "              (6, 1): 5,\n",
       "              (9, 1): 39,\n",
       "              (7, 1): 1,\n",
       "              (8, 1): 1}})"
      ]
     },
     "execution_count": 29,
     "metadata": {},
     "output_type": "execute_result"
    }
   ],
   "source": [
    "# Smoothed count dict\n",
    "mc_dict"
   ]
  },
  {
   "cell_type": "code",
   "execution_count": 30,
   "metadata": {
    "scrolled": true
   },
   "outputs": [],
   "source": [
    "for key in mc_dict:\n",
    "    for tup in mc_dict[key]:\n",
    "        p_dict[key][tup] = mc_dict[key][tup] / (mc_dict[key][(tup[0], 0)] + mc_dict[key][(tup[0], 1)])"
   ]
  },
  {
   "cell_type": "code",
   "execution_count": 31,
   "metadata": {},
   "outputs": [
    {
     "data": {
      "text/plain": [
       "defaultdict(dict,\n",
       "            {'op_num_people': {(0, 0): 0.8897692845490561,\n",
       "              (1, 0): 0.1891373801916933,\n",
       "              (1, 1): 0.8108626198083068,\n",
       "              (2, 1): 0.8330849478390462,\n",
       "              (0, 1): 0.11023071545094383,\n",
       "              (3, 1): 0.8151898734177215,\n",
       "              (2, 0): 0.16691505216095381,\n",
       "              (4, 1): 0.9166666666666666,\n",
       "              (3, 0): 0.1848101265822785,\n",
       "              (4, 0): 0.08333333333333333},\n",
       "             'of_pose_distance_bin': {(0, 0): 0.2948546856465006,\n",
       "              (0, 1): 0.7051453143534994,\n",
       "              (1, 1): 0.7128712871287128,\n",
       "              (5, 1): 0.9523809523809523,\n",
       "              (3, 0): 0.34615384615384615,\n",
       "              (3, 1): 0.6538461538461539,\n",
       "              (4, 1): 0.9230769230769231,\n",
       "              (2, 0): 0.6,\n",
       "              (2, 1): 0.4,\n",
       "              (8, 0): 0.9875389408099688,\n",
       "              (7, 0): 0.9919408999328408,\n",
       "              (7, 1): 0.008059100067159167,\n",
       "              (1, 0): 0.2871287128712871,\n",
       "              (8, 1): 0.012461059190031152,\n",
       "              (6, 1): 0.8333333333333334,\n",
       "              (5, 0): 0.047619047619047616,\n",
       "              (4, 0): 0.07692307692307693,\n",
       "              (6, 0): 0.16666666666666666,\n",
       "              (9, 0): 0.5,\n",
       "              (9, 1): 0.5},\n",
       "             'of_gaze_distance_bin': {(0, 0): 0.2957075835025558,\n",
       "              (0, 1): 0.7042924164974441,\n",
       "              (1, 0): 0.9905325443786982,\n",
       "              (1, 1): 0.009467455621301775,\n",
       "              (2, 1): 0.22580645161290322,\n",
       "              (2, 0): 0.7741935483870968,\n",
       "              (3, 0): 0.9705882352941176,\n",
       "              (3, 1): 0.029411764705882353,\n",
       "              (9, 1): 0.5,\n",
       "              (9, 0): 0.5,\n",
       "              (4, 0): 0.5,\n",
       "              (4, 1): 0.5,\n",
       "              (5, 0): 0.5,\n",
       "              (5, 1): 0.5,\n",
       "              (6, 0): 0.5,\n",
       "              (6, 1): 0.5,\n",
       "              (7, 0): 0.5,\n",
       "              (7, 1): 0.5,\n",
       "              (8, 0): 0.5,\n",
       "              (8, 1): 0.5},\n",
       "             'of_success': {(0, 0): 0.5052562417871223,\n",
       "              (1, 1): 0.7076508190171794,\n",
       "              (0, 1): 0.4947437582128778,\n",
       "              (1, 0): 0.2923491809828206},\n",
       "             'of_confidence_bin': {(0, 0): 0.3273327828241123,\n",
       "              (0, 1): 0.6726672171758877,\n",
       "              (8, 1): 0.40383224873463486,\n",
       "              (9, 1): 0.718804920913884,\n",
       "              (6, 1): 0.7192982456140351,\n",
       "              (4, 1): 0.7557251908396947,\n",
       "              (5, 1): 0.7052631578947368,\n",
       "              (7, 1): 0.577639751552795,\n",
       "              (8, 0): 0.5961677512653651,\n",
       "              (7, 0): 0.422360248447205,\n",
       "              (9, 0): 0.281195079086116,\n",
       "              (2, 1): 0.5428571428571428,\n",
       "              (5, 0): 0.29473684210526313,\n",
       "              (4, 0): 0.24427480916030533,\n",
       "              (2, 0): 0.45714285714285713,\n",
       "              (6, 0): 0.2807017543859649,\n",
       "              (3, 0): 0.49230769230769234,\n",
       "              (3, 1): 0.5076923076923077,\n",
       "              (1, 1): 0.6842105263157895,\n",
       "              (1, 0): 0.3157894736842105},\n",
       "             'ros_difficulty': {(4, 0): 0.36976439790575916,\n",
       "              (4, 1): 0.6302356020942408,\n",
       "              (0, 1): 0.6371681415929203,\n",
       "              (0, 0): 0.36283185840707965,\n",
       "              (3, 0): 0.4790080487274309,\n",
       "              (3, 1): 0.520991951272569,\n",
       "              (2, 1): 0.6377179080824089,\n",
       "              (2, 0): 0.36228209191759114,\n",
       "              (1, 1): 0.9070796460176991,\n",
       "              (1, 0): 0.09292035398230089,\n",
       "              (5, 1): 0.7315842583249244,\n",
       "              (5, 0): 0.2684157416750757},\n",
       "             'ros_mistakes_session': {(0, 0): 0.0898576512455516,\n",
       "              (0, 1): 0.9101423487544484,\n",
       "              (1, 1): 0.7690336749633968,\n",
       "              (2, 1): 0.4334677419354839,\n",
       "              (3, 1): 0.7487386478304743,\n",
       "              (3, 0): 0.2512613521695257,\n",
       "              (4, 1): 0.8,\n",
       "              (4, 0): 0.2,\n",
       "              (5, 1): 0.9259259259259259,\n",
       "              (5, 0): 0.07407407407407407,\n",
       "              (6, 1): 0.8446389496717724,\n",
       "              (6, 0): 0.15536105032822758,\n",
       "              (7, 1): 0.725,\n",
       "              (7, 0): 0.275,\n",
       "              (8, 1): 0.6157407407407407,\n",
       "              (8, 0): 0.38425925925925924,\n",
       "              (9, 1): 0.2344972907886815,\n",
       "              (9, 0): 0.7655027092113185,\n",
       "              (10, 0): 0.5125,\n",
       "              (10, 1): 0.4875,\n",
       "              (11, 1): 0.875,\n",
       "              (11, 0): 0.125,\n",
       "              (12, 0): 0.25150732127476316,\n",
       "              (12, 1): 0.7484926787252368,\n",
       "              (13, 1): 0.8129032258064516,\n",
       "              (13, 0): 0.1870967741935484,\n",
       "              (14, 0): 0.23863636363636365,\n",
       "              (14, 1): 0.7613636363636364,\n",
       "              (15, 1): 0.6326530612244898,\n",
       "              (15, 0): 0.3673469387755102,\n",
       "              (16, 0): 0.6413043478260869,\n",
       "              (16, 1): 0.358695652173913,\n",
       "              (17, 0): 0.6,\n",
       "              (17, 1): 0.4,\n",
       "              (2, 0): 0.5665322580645161,\n",
       "              (1, 0): 0.23096632503660322},\n",
       "             'ros_ts_robot_talked_bin': {(0, 0): 0.28433214352808567,\n",
       "              (0, 1): 0.7156678564719143,\n",
       "              (1, 0): 0.275974025974026,\n",
       "              (1, 1): 0.724025974025974,\n",
       "              (2, 1): 0.5200729927007299,\n",
       "              (3, 1): 0.3656716417910448,\n",
       "              (2, 0): 0.47992700729927007,\n",
       "              (3, 0): 0.6343283582089553,\n",
       "              (4, 0): 0.9052631578947369,\n",
       "              (5, 0): 0.9271523178807947,\n",
       "              (6, 0): 0.9823943661971831,\n",
       "              (7, 0): 0.99644128113879,\n",
       "              (8, 0): 0.9943502824858758,\n",
       "              (9, 0): 0.6454545454545455,\n",
       "              (4, 1): 0.09473684210526316,\n",
       "              (5, 1): 0.0728476821192053,\n",
       "              (6, 1): 0.017605633802816902,\n",
       "              (9, 1): 0.35454545454545455,\n",
       "              (7, 1): 0.0035587188612099642,\n",
       "              (8, 1): 0.005649717514124294}})"
      ]
     },
     "execution_count": 31,
     "metadata": {},
     "output_type": "execute_result"
    }
   ],
   "source": [
    "# Probability dict - Shows the naive probabilities of engaged/disengaged given feature.\n",
    "p_dict"
   ]
  },
  {
   "cell_type": "markdown",
   "metadata": {},
   "source": [
    "## Thresholding and Prediction"
   ]
  },
  {
   "cell_type": "code",
   "execution_count": 32,
   "metadata": {},
   "outputs": [],
   "source": [
    "df_test = df_threshold_int.iloc[split:,:]\n",
    "df_test_label = df_label.iloc[split:,:]"
   ]
  },
  {
   "cell_type": "code",
   "execution_count": 33,
   "metadata": {},
   "outputs": [
    {
     "data": {
      "text/plain": [
       "0.0    2094\n",
       "1.0    1932\n",
       "Name: engagement, dtype: int64"
      ]
     },
     "execution_count": 33,
     "metadata": {},
     "output_type": "execute_result"
    }
   ],
   "source": [
    "df_test_label.engagement.value_counts()"
   ]
  },
  {
   "cell_type": "code",
   "execution_count": 34,
   "metadata": {},
   "outputs": [],
   "source": [
    "'''\n",
    "Prediction Probability of Engaged(1) = Product of individual probabilites => P (engagement=1/feature=x) \n",
    "'''\n",
    "pred_prob_list = [] # Prediction Probability list \n",
    "for item in df_test.iterrows():\n",
    "    proba = 1\n",
    "    for k in item[1].keys():\n",
    "        proba *= p_dict[k][(item[1][k], 1)]\n",
    "    pred_prob_list.append(proba)"
   ]
  },
  {
   "cell_type": "code",
   "execution_count": 35,
   "metadata": {},
   "outputs": [
    {
     "name": "stderr",
     "output_type": "stream",
     "text": [
      "/home/bala/anaconda2/envs/tensorflow/lib/python3.6/site-packages/ipykernel_launcher.py:1: SettingWithCopyWarning: \n",
      "A value is trying to be set on a copy of a slice from a DataFrame.\n",
      "Try using .loc[row_indexer,col_indexer] = value instead\n",
      "\n",
      "See the caveats in the documentation: http://pandas.pydata.org/pandas-docs/stable/indexing.html#indexing-view-versus-copy\n",
      "  \"\"\"Entry point for launching an IPython kernel.\n"
     ]
    }
   ],
   "source": [
    "df_test['pred_prob'] = pred_prob_list"
   ]
  },
  {
   "cell_type": "code",
   "execution_count": 36,
   "metadata": {},
   "outputs": [
    {
     "data": {
      "text/plain": [
       "count    4026.000000\n",
       "mean        0.032415\n",
       "std         0.030303\n",
       "min         0.000021\n",
       "25%         0.003677\n",
       "50%         0.025675\n",
       "75%         0.054398\n",
       "max         0.100462\n",
       "Name: pred_prob, dtype: float64"
      ]
     },
     "execution_count": 36,
     "metadata": {},
     "output_type": "execute_result"
    }
   ],
   "source": [
    "df_test.pred_prob.describe()"
   ]
  },
  {
   "cell_type": "code",
   "execution_count": 37,
   "metadata": {},
   "outputs": [],
   "source": [
    "pred_list = list(map(lambda x: 1 if x > 0.02 else 0, pred_prob_list)) # Prediction List with Threshold = 0.02"
   ]
  },
  {
   "cell_type": "code",
   "execution_count": 38,
   "metadata": {},
   "outputs": [
    {
     "name": "stderr",
     "output_type": "stream",
     "text": [
      "/home/bala/anaconda2/envs/tensorflow/lib/python3.6/site-packages/ipykernel_launcher.py:1: SettingWithCopyWarning: \n",
      "A value is trying to be set on a copy of a slice from a DataFrame.\n",
      "Try using .loc[row_indexer,col_indexer] = value instead\n",
      "\n",
      "See the caveats in the documentation: http://pandas.pydata.org/pandas-docs/stable/indexing.html#indexing-view-versus-copy\n",
      "  \"\"\"Entry point for launching an IPython kernel.\n"
     ]
    }
   ],
   "source": [
    "df_test['pred'] = pred_list"
   ]
  },
  {
   "cell_type": "code",
   "execution_count": 39,
   "metadata": {},
   "outputs": [
    {
     "data": {
      "text/plain": [
       "1    2119\n",
       "0    1907\n",
       "Name: pred, dtype: int64"
      ]
     },
     "execution_count": 39,
     "metadata": {},
     "output_type": "execute_result"
    }
   ],
   "source": [
    "df_test.pred.value_counts()"
   ]
  },
  {
   "cell_type": "code",
   "execution_count": 40,
   "metadata": {},
   "outputs": [
    {
     "name": "stdout",
     "output_type": "stream",
     "text": [
      "              precision    recall  f1-score   support\n",
      "\n",
      "         0.0       0.90      0.82      0.86      2094\n",
      "         1.0       0.82      0.90      0.86      1932\n",
      "\n",
      "   micro avg       0.86      0.86      0.86      4026\n",
      "   macro avg       0.86      0.86      0.86      4026\n",
      "weighted avg       0.86      0.86      0.86      4026\n",
      "\n",
      "Accuracy 0.860655737704918\n"
     ]
    }
   ],
   "source": [
    "print(classification_report(df_test_label['engagement'], pred_list))\n",
    "print(\"Accuracy\", accuracy_score(df_test_label['engagement'], pred_list))"
   ]
  },
  {
   "cell_type": "code",
   "execution_count": 41,
   "metadata": {},
   "outputs": [
    {
     "name": "stdout",
     "output_type": "stream",
     "text": [
      "              precision    recall  f1-score   support\n",
      "\n",
      "         0.0       0.96      0.80      0.87      2094\n",
      "         1.0       0.82      0.97      0.89      1932\n",
      "\n",
      "   micro avg       0.88      0.88      0.88      4026\n",
      "   macro avg       0.89      0.88      0.88      4026\n",
      "weighted avg       0.89      0.88      0.88      4026\n",
      "\n",
      "Accuracy 0.8805265772478887\n"
     ]
    },
    {
     "name": "stderr",
     "output_type": "stream",
     "text": [
      "/home/bala/anaconda2/envs/tensorflow/lib/python3.6/site-packages/ipykernel_launcher.py:3: SettingWithCopyWarning: \n",
      "A value is trying to be set on a copy of a slice from a DataFrame.\n",
      "Try using .loc[row_indexer,col_indexer] = value instead\n",
      "\n",
      "See the caveats in the documentation: http://pandas.pydata.org/pandas-docs/stable/indexing.html#indexing-view-versus-copy\n",
      "  This is separate from the ipykernel package so we can avoid doing imports until\n"
     ]
    }
   ],
   "source": [
    "# It is seen that accuracy improves when threshold is varied\n",
    "pred_list = list(map(lambda x: 1 if x > 0.01 else 0, pred_prob_list))\n",
    "df_test['pred'] = pred_list\n",
    "print(classification_report(df_test_label['engagement'], pred_list))\n",
    "print(\"Accuracy\", accuracy_score(df_test_label['engagement'], pred_list))"
   ]
  },
  {
   "cell_type": "code",
   "execution_count": 42,
   "metadata": {},
   "outputs": [
    {
     "name": "stdout",
     "output_type": "stream",
     "text": [
      "              precision    recall  f1-score   support\n",
      "\n",
      "         0.0       0.71      0.94      0.81      2094\n",
      "         1.0       0.90      0.59      0.71      1932\n",
      "\n",
      "   micro avg       0.77      0.77      0.77      4026\n",
      "   macro avg       0.81      0.77      0.76      4026\n",
      "weighted avg       0.80      0.77      0.76      4026\n",
      "\n",
      "Accuracy 0.7727272727272727\n"
     ]
    },
    {
     "name": "stderr",
     "output_type": "stream",
     "text": [
      "/home/bala/anaconda2/envs/tensorflow/lib/python3.6/site-packages/ipykernel_launcher.py:2: SettingWithCopyWarning: \n",
      "A value is trying to be set on a copy of a slice from a DataFrame.\n",
      "Try using .loc[row_indexer,col_indexer] = value instead\n",
      "\n",
      "See the caveats in the documentation: http://pandas.pydata.org/pandas-docs/stable/indexing.html#indexing-view-versus-copy\n",
      "  \n"
     ]
    }
   ],
   "source": [
    "pred_list = list(map(lambda x: 1 if x > 0.05 else 0, pred_prob_list))\n",
    "df_test['pred'] = pred_list\n",
    "print(classification_report(df_test_label['engagement'], pred_list))\n",
    "print(\"Accuracy\", accuracy_score(df_test_label['engagement'], pred_list))"
   ]
  },
  {
   "cell_type": "markdown",
   "metadata": {},
   "source": [
    "The rule-based probability thresholding model (with a good threshold fixed manually) results (using key features for P7) looks promising."
   ]
  },
  {
   "cell_type": "markdown",
   "metadata": {},
   "source": [
    "To find: An approach to fix the threshold automatically (maybe using a grid search of continuous values) instead of manually. "
   ]
  }
 ],
 "metadata": {
  "kernelspec": {
   "display_name": "Python [default]",
   "language": "python",
   "name": "python3"
  },
  "language_info": {
   "codemirror_mode": {
    "name": "ipython",
    "version": 3
   },
   "file_extension": ".py",
   "mimetype": "text/x-python",
   "name": "python",
   "nbconvert_exporter": "python",
   "pygments_lexer": "ipython3",
   "version": "3.5.6"
  }
 },
 "nbformat": 4,
 "nbformat_minor": 2
}
