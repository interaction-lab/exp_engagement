{
 "cells": [
  {
   "cell_type": "code",
   "execution_count": 1,
   "metadata": {},
   "outputs": [],
   "source": [
    "# All as One: Adaboost\n",
    "# Treat All Participants as One\n",
    "# Try with 10% ... 90% for Training (several iterations for each)"
   ]
  },
  {
   "cell_type": "code",
   "execution_count": 2,
   "metadata": {},
   "outputs": [],
   "source": [
    "use_key_features = False\n",
    "shuffle_times = 100\n",
    "iterations = 10\n",
    "if use_key_features:\n",
    "    output_file = 'all_kf_adaboost_results.csv'\n",
    "else:\n",
    "    output_file = 'all_af_adaboost_results.csv'"
   ]
  },
  {
   "cell_type": "code",
   "execution_count": 3,
   "metadata": {},
   "outputs": [],
   "source": [
    "from tqdm import tqdm\n",
    "import pandas as pd\n",
    "import numpy as np\n",
    "from sklearn.model_selection import train_test_split\n",
    "from sklearn.metrics import roc_auc_score\n",
    "from sklearn.metrics import roc_auc_score\n",
    "from sklearn.metrics import accuracy_score\n",
    "from sklearn import metrics\n",
    "from itertools import combinations\n",
    "import itertools\n",
    "import json\n",
    "pd.options.mode.chained_assignment = None"
   ]
  },
  {
   "cell_type": "markdown",
   "metadata": {},
   "source": [
    "# 1 -- Load Data"
   ]
  },
  {
   "cell_type": "code",
   "execution_count": 4,
   "metadata": {},
   "outputs": [],
   "source": [
    "# Windowed Data: 1 Second Overlapping Windows, Feature Median + Variance in Window \n",
    "p5_file = '../../../../../Google Drive File Stream/My Drive/USC Expeditions Year 5/Analysis/Engagement/Data/Master Window/p5_master_window.csv'\n",
    "p7_file = '../../../../../Google Drive File Stream/My Drive/USC Expeditions Year 5/Analysis/Engagement/Data/Master Window/p7_master_window.csv'\n",
    "p9_file = '../../../../../Google Drive File Stream/My Drive/USC Expeditions Year 5/Analysis/Engagement/Data/Master Window/p9_master_window.csv'\n",
    "p11_file = '../../../../../Google Drive File Stream/My Drive/USC Expeditions Year 5/Analysis/Engagement/Data/Master Window/p11_master_window.csv'\n",
    "p12_file = '../../../../../Google Drive File Stream/My Drive/USC Expeditions Year 5/Analysis/Engagement/Data/Master Window/p12_master_window.csv'\n",
    "p17_file = '../../../../../Google Drive File Stream/My Drive/USC Expeditions Year 5/Analysis/Engagement/Data/Master Window/p17_master_window.csv'\n",
    "p18_file = '../../../../../Google Drive File Stream/My Drive/USC Expeditions Year 5/Analysis/Engagement/Data/Master Window/p18_master_window.csv'\n",
    "\n",
    "data5 = pd.read_csv(p5_file)\n",
    "data7 = pd.read_csv(p7_file)\n",
    "data9 = pd.read_csv(p9_file)\n",
    "data11 = pd.read_csv(p11_file)\n",
    "data12 = pd.read_csv(p12_file)\n",
    "data17 = pd.read_csv(p17_file)\n",
    "data18 = pd.read_csv(p18_file)"
   ]
  },
  {
   "cell_type": "code",
   "execution_count": 5,
   "metadata": {},
   "outputs": [],
   "source": [
    "data = [data5, data7, data9, data11, data12, data17, data18]\n",
    "all_data = pd.concat(data, ignore_index=True, sort=True)"
   ]
  },
  {
   "cell_type": "code",
   "execution_count": 6,
   "metadata": {},
   "outputs": [],
   "source": [
    "remove = [\n",
    "'engagement_change',\n",
    "'ros_GAME_STATE',\n",
    "'ros_PARTICIPANT_STATE',\n",
    "'ros_ROBOT_STATE',\n",
    "'ros_activity',\n",
    "'ros_diff_1_change',\n",
    "'ros_diff_2_change',\n",
    "'ros_diff_3_change',\n",
    "'ros_diff_4_change',\n",
    "'ros_diff_5_change',\n",
    "'ros_difficulty',\n",
    "'ros_skill_EM_change',\n",
    "'ros_skill_NC_change',\n",
    "'ros_skill_OS_change',\n",
    "'ros_ts_attempt_var',\n",
    "'ros_games_session_change',\n",
    "'ros_in_game_change',\n",
    "'ros_mistakes_session_change',\n",
    "'ros_mistakes_game_change',\n",
    "'ros_skill',\n",
    "'ros_ts_game_start_var',\n",
    "'ros_ts_robot_talked_var',\n",
    "'ros_game_correct',\n",
    "'ros_game_incorrect',\n",
    "'ros_game_start',\n",
    "'ros_mistake_made',\n",
    "]\n",
    "\n",
    "all_data = all_data.drop(columns=remove)"
   ]
  },
  {
   "cell_type": "code",
   "execution_count": 7,
   "metadata": {},
   "outputs": [],
   "source": [
    "# Remove rows where engagment NaN\n",
    "all_data = all_data[np.isfinite(all_data['engagement'])]\n",
    "\n",
    "# Remove rows where engagment is -1\n",
    "all_data = all_data[all_data['engagement']>=0]"
   ]
  },
  {
   "cell_type": "markdown",
   "metadata": {},
   "source": [
    "# 2 -- Choose Feature Set"
   ]
  },
  {
   "cell_type": "markdown",
   "metadata": {},
   "source": [
    "Feature Dictionary: https://docs.google.com/spreadsheets/d/1ewoVPHwW68Ins0AOVZf-0lsl_wW0_ZzuByuDiNJETBY/edit?usp=sharing"
   ]
  },
  {
   "cell_type": "markdown",
   "metadata": {},
   "source": [
    "### Data Overview"
   ]
  },
  {
   "cell_type": "code",
   "execution_count": 8,
   "metadata": {},
   "outputs": [
    {
     "name": "stdout",
     "output_type": "stream",
     "text": [
      "engagement\n",
      "participant\n",
      "session_num\n",
      "timestamp\n"
     ]
    }
   ],
   "source": [
    "# Main Columns\n",
    "basic_cols = []\n",
    "for i in all_data.columns:\n",
    "    if 'of_' not in i and 'op_' not in i and 'ros_' not in i and 'a_' not in i:\n",
    "        basic_cols.append(i)\n",
    "        \n",
    "basic_cols = sorted(basic_cols)\n",
    "for i in basic_cols:\n",
    "    print(i)"
   ]
  },
  {
   "cell_type": "code",
   "execution_count": 9,
   "metadata": {},
   "outputs": [
    {
     "name": "stdout",
     "output_type": "stream",
     "text": [
      "of_AU01_c\n",
      "of_AU02_c\n",
      "of_AU04_c\n",
      "of_AU05_c\n",
      "of_AU06_c\n",
      "of_AU07_c\n",
      "of_AU09_c\n",
      "of_AU10_c\n",
      "of_AU12_c\n",
      "of_AU14_c\n",
      "of_AU15_c\n",
      "of_AU17_c\n",
      "of_AU20_c\n",
      "of_AU23_c\n",
      "of_AU25_c\n",
      "of_AU26_c\n",
      "of_AU28_c\n",
      "of_AU45_c\n",
      "of_confidence\n",
      "of_gaze_0_x\n",
      "of_gaze_0_y\n",
      "of_gaze_0_z\n",
      "of_gaze_1_x\n",
      "of_gaze_1_y\n",
      "of_gaze_1_z\n",
      "of_gaze_angle_x\n",
      "of_gaze_angle_y\n",
      "of_gaze_distance\n",
      "of_gaze_distance_x\n",
      "of_gaze_distance_y\n",
      "of_pose_Rx\n",
      "of_pose_Ry\n",
      "of_pose_Rz\n",
      "of_pose_Tx\n",
      "of_pose_Ty\n",
      "of_pose_Tz\n",
      "of_pose_distance\n",
      "of_success\n",
      "of_ts_success\n",
      "op_num_people\n"
     ]
    }
   ],
   "source": [
    "# Open Face Columns\n",
    "\n",
    "of_cols = []\n",
    "for i in all_data.columns:\n",
    "    if ('of_' in i or 'op_' in i) and '_change' not in i and '_var' not in i:\n",
    "        of_cols.append(i)\n",
    "        \n",
    "of_cols = sorted(of_cols)\n",
    "for i in of_cols:\n",
    "    print(i)"
   ]
  },
  {
   "cell_type": "code",
   "execution_count": 10,
   "metadata": {},
   "outputs": [
    {
     "name": "stdout",
     "output_type": "stream",
     "text": [
      "a_harmonicity\n",
      "a_intensity\n",
      "a_mfcc_0\n",
      "a_mfcc_1\n",
      "a_pitch_frequency\n",
      "a_pitch_strength\n"
     ]
    }
   ],
   "source": [
    "# Audio Columns\n",
    "\n",
    "a_cols = []\n",
    "for i in all_data.columns:\n",
    "    if 'a_' in i and '_change' not in i and '_var' not in i:\n",
    "        a_cols.append(i)\n",
    "        \n",
    "a_cols = sorted(a_cols)\n",
    "for i in a_cols:\n",
    "    print(i)"
   ]
  },
  {
   "cell_type": "code",
   "execution_count": 11,
   "metadata": {},
   "outputs": [
    {
     "name": "stdout",
     "output_type": "stream",
     "text": [
      "ros_aptitude\n",
      "ros_diff_1\n",
      "ros_diff_2\n",
      "ros_diff_3\n",
      "ros_diff_4\n",
      "ros_diff_5\n",
      "ros_games_session\n",
      "ros_in_game\n",
      "ros_mistakes_game\n",
      "ros_mistakes_session\n",
      "ros_skill_EM\n",
      "ros_skill_NC\n",
      "ros_skill_OS\n",
      "ros_ts_attempt\n",
      "ros_ts_game_start\n",
      "ros_ts_robot_talked\n"
     ]
    }
   ],
   "source": [
    "# ROS Columns\n",
    "\n",
    "ros_cols = []\n",
    "for i in all_data.columns:\n",
    "    if 'ros_' in i and '_change' not in i and '_var' not in i:\n",
    "        ros_cols.append(i)\n",
    "        \n",
    "ros_cols = sorted(ros_cols)\n",
    "for i in ros_cols:\n",
    "    print(i)"
   ]
  },
  {
   "cell_type": "code",
   "execution_count": 12,
   "metadata": {},
   "outputs": [
    {
     "name": "stdout",
     "output_type": "stream",
     "text": [
      "a_harmonicity_var\n",
      "a_intensity_var\n",
      "a_mfcc_0_var\n",
      "a_mfcc_1_var\n",
      "a_pitch_frequency_var\n",
      "a_pitch_strength_var\n",
      "of_AU01_c_change\n",
      "of_AU02_c_change\n",
      "of_AU04_c_change\n",
      "of_AU05_c_change\n",
      "of_AU06_c_change\n",
      "of_AU07_c_change\n",
      "of_AU09_c_change\n",
      "of_AU10_c_change\n",
      "of_AU12_c_change\n",
      "of_AU14_c_change\n",
      "of_AU15_c_change\n",
      "of_AU17_c_change\n",
      "of_AU20_c_change\n",
      "of_AU23_c_change\n",
      "of_AU25_c_change\n",
      "of_AU26_c_change\n",
      "of_AU28_c_change\n",
      "of_AU45_c_change\n",
      "of_confidence_var\n",
      "of_gaze_0_x_var\n",
      "of_gaze_0_y_var\n",
      "of_gaze_0_z_var\n",
      "of_gaze_1_x_var\n",
      "of_gaze_1_y_var\n",
      "of_gaze_1_z_var\n",
      "of_gaze_angle_x_var\n",
      "of_gaze_angle_y_var\n",
      "of_gaze_distance_var\n",
      "of_gaze_distance_x_var\n",
      "of_gaze_distance_y_var\n",
      "of_pose_Rx_var\n",
      "of_pose_Ry_var\n",
      "of_pose_Rz_var\n",
      "of_pose_Tx_var\n",
      "of_pose_Ty_var\n",
      "of_pose_Tz_var\n",
      "of_pose_distance_var\n",
      "of_success_change\n",
      "of_ts_success_var\n",
      "op_num_people_change\n",
      "ros_aptitude_var\n"
     ]
    }
   ],
   "source": [
    "# For Window Only:\n",
    "non_window_features = []\n",
    "window_features = []\n",
    "for i in all_data.columns:\n",
    "    if i not in basic_cols:\n",
    "        if 'change' in i or 'var' in i:\n",
    "            window_features.append(i)\n",
    "        else:\n",
    "            non_window_features.append(i)\n",
    "        \n",
    "window_features = sorted(window_features)\n",
    "for i in window_features:\n",
    "    print(i)"
   ]
  },
  {
   "cell_type": "code",
   "execution_count": 13,
   "metadata": {},
   "outputs": [],
   "source": [
    "# Columns where NaNs filled with max value\n",
    "nan_max_cols = ['of_gaze_0_x',\n",
    "'of_gaze_0_y',\n",
    "'of_gaze_0_z',\n",
    "'of_gaze_1_x',\n",
    "'of_gaze_1_y',\n",
    "'of_gaze_1_z',\n",
    "'of_gaze_angle_x',\n",
    "'of_gaze_angle_y',\n",
    "'of_gaze_distance',\n",
    "'of_gaze_distance_x',\n",
    "'of_gaze_distance_y',\n",
    "'of_pose_Rxv',\n",
    "'of_pose_Ry',\n",
    "'of_pose_Rz',\n",
    "'of_pose_Tx',\n",
    "'of_pose_Ty',\n",
    "'of_pose_Tz',\n",
    "'of_pose_distance']"
   ]
  },
  {
   "cell_type": "code",
   "execution_count": 14,
   "metadata": {},
   "outputs": [],
   "source": [
    "# Key Features (from feature analysis) \n",
    "# Note: Timestamp automatically included\n",
    "\n",
    "key_features = [\n",
    "'op_num_people',\n",
    "'of_pose_distance',\n",
    "'of_gaze_distance',\n",
    "'of_confidence',\n",
    "'ros_mistakes_session',\n",
    "'ros_ts_robot_talked']"
   ]
  },
  {
   "cell_type": "markdown",
   "metadata": {},
   "source": [
    "### Filter Feature Set (Optional)"
   ]
  },
  {
   "cell_type": "code",
   "execution_count": 15,
   "metadata": {},
   "outputs": [],
   "source": [
    "# always include basic_cols, add desired group of features \n",
    "# features_to_keep = all_data.columns\n",
    "\n",
    "if use_key_features:\n",
    "    features_to_keep = basic_cols + key_features\n",
    "else:\n",
    "    features_to_keep = basic_cols + of_cols + ros_cols + a_cols + window_features\n",
    "\n",
    "all_data = all_data[features_to_keep]"
   ]
  },
  {
   "cell_type": "code",
   "execution_count": 16,
   "metadata": {},
   "outputs": [],
   "source": [
    "# All as One Participant: Shuffle Data! \n",
    "\n",
    "for i in range(shuffle_times):\n",
    "    all_data.reindex(np.random.permutation(all_data.index))\n",
    "all_data = all_data.reset_index(drop=True)"
   ]
  },
  {
   "cell_type": "markdown",
   "metadata": {},
   "source": [
    "# 3 -- Scenario Based Modeling"
   ]
  },
  {
   "cell_type": "markdown",
   "metadata": {},
   "source": [
    "- Open Face Success / Failure\n",
    "- Robot Talking / Not Talking\n",
    "- First 10 Minutes / After 10 Minutes"
   ]
  },
  {
   "cell_type": "code",
   "execution_count": 17,
   "metadata": {},
   "outputs": [],
   "source": [
    "# Create Separate Models for Different Scenarios\n",
    "\n",
    "# for i,d in enumerate(data):\n",
    "#     # Open Face Success/Failure\n",
    "#     data[i] = d.loc[d['of_success']==1]\n",
    "#     data[i] = d.loc[d['of_success']==0]\n",
    "    \n",
    "#     # Robot Talking/Not Talking\n",
    "#     data[i] = d.loc[d['ros_ts_robot_talked']==0]\n",
    "#     data[i] = d.loc[d['ros_ts_robot_talked']>0]\n",
    "    \n",
    "#     # First 10 Min/After 10 Min\n",
    "#     data[i] = d.loc[d['timestamp']<=(10*60)]\n",
    "#     data[i] = d.loc[d['timestamp']>(10*60)]"
   ]
  },
  {
   "cell_type": "markdown",
   "metadata": {},
   "source": [
    "# 4 -- Modeling"
   ]
  },
  {
   "cell_type": "code",
   "execution_count": 18,
   "metadata": {},
   "outputs": [],
   "source": [
    "# Function: Formulate Train-Test Split \n",
    "# Includes Preprocessing \n",
    "\n",
    "# split_size: how much data for training\n",
    "def split(split_size):\n",
    "    y_data = all_data['engagement'].copy()\n",
    "    X_data = all_data.drop(columns=['engagement', 'session_num', 'participant'], axis=1).copy()\n",
    "        \n",
    "    X_train, X_test, y_train, y_test = train_test_split(X_data, y_data, test_size=1-split_size, shuffle=True)\n",
    "\n",
    "    # Preprocessing: Standardization\n",
    "    # x' = ( x - mean(x) ) / ( stdev(x) )\n",
    "    # => x' is z-score, NaN's filled with min_val\n",
    "    for c in X_train.columns:\n",
    "        mean = np.nanmean(X_train[c])\n",
    "        std = np.nanstd(X_train[c])\n",
    "\n",
    "        if std == 0:\n",
    "            X_train[c] = (X_train[c]-mean)\n",
    "            X_test[c] = (X_test[c]-mean)\n",
    "        else:\n",
    "            X_train[c] = (X_train[c]-mean)/(std)\n",
    "            X_test[c] = (X_test[c]-mean)/(std)\n",
    "\n",
    "        if c not in nan_max_cols:\n",
    "            min_val = np.nanmin(X_train[c])\n",
    "\n",
    "            X_train[c] = X_train[c].fillna(min_val)\n",
    "            X_test[c] = X_test[c].fillna(min_val)\n",
    "        else:\n",
    "            max_val = np.nanmax(X_train[c])\n",
    "\n",
    "            X_train[c] = X_train[c].fillna(max_val)\n",
    "            X_test[c] = X_test[c].fillna(max_val) \n",
    "\n",
    "    return X_train, y_train, X_test, y_test"
   ]
  },
  {
   "cell_type": "code",
   "execution_count": 19,
   "metadata": {},
   "outputs": [],
   "source": [
    "# MODEL HERE\n",
    "\n",
    "# Inputs: X_train, y_train, X_test, y_test, hp, isVerbose\n",
    "# hp = Hyperparameter Dictionary, isVerbose = whether to return all accuracy metrics\n",
    "\n",
    "# Output: Accuracy Metrics as Dictionary \n",
    "\n",
    "# IMPORTS HERE\n",
    "from xgboost import XGBClassifier\n",
    "from sklearn.ensemble import RandomForestClassifier\n",
    "from sklearn.tree import DecisionTreeClassifier\n",
    "from sklearn.ensemble import AdaBoostClassifier\n",
    "\n",
    "# Hyperparameter Combinations to Try:  \n",
    "def model(X_train, y_train, X_test, y_test, hp, isVerbose):\n",
    "    # Model Here: must create pred & scores arrays\n",
    "    model = AdaBoostClassifier(base_estimator=RandomForestClassifier(n_estimators=100))\n",
    "    model.fit(X_train.values, y_train.values)\n",
    "    \n",
    "    scores = model.predict(X_test.values)\n",
    "    pred = [round(value) for value in scores] \n",
    "    \n",
    "    # Evaluation\n",
    "    results = {}\n",
    "    accuracy = accuracy_score(y_test, pred)\n",
    "    results['accuracy'] = accuracy\n",
    "    \n",
    "    if isVerbose:\n",
    "        try:\n",
    "            auc = roc_auc_score(y_test, scores)\n",
    "        except:\n",
    "            auc = np.nan\n",
    "        results['auc'] = auc\n",
    "    \n",
    "        precision = metrics.precision_score(y_test, pred, average=None)\n",
    "        recall = metrics.recall_score(y_test, pred, average=None)\n",
    "        f1 = metrics.f1_score(y_test, pred, average=None)\n",
    "\n",
    "        results['precision_0'], results['precision_1'] = precision[0], precision[1]\n",
    "        results['recall_0'], results['recall_1'] = recall[0], recall[1]\n",
    "        results['f1_0'], results['f1_1'] = f1[0], f1[1]\n",
    "    \n",
    "    return results"
   ]
  },
  {
   "cell_type": "code",
   "execution_count": 21,
   "metadata": {},
   "outputs": [
    {
     "name": "stderr",
     "output_type": "stream",
     "text": [
      "\r",
      "  0%|          | 0/11 [00:00<?, ?it/s]"
     ]
    },
    {
     "name": "stdout",
     "output_type": "stream",
     "text": [
      "Training Percentage: 0.01\n",
      "\n",
      "Best HP {}\n",
      "{'f1_1': 0.8681256378274181, 'precision_1': 0.8433575677461996, 'precision_0': 0.7752303182579564, 'auc': 0.7905847010154062, 'recall_1': 0.8943925233644859, 'recall_0': 0.6867768786663266, 'f1_0': 0.7283278212867453, 'accuracy': 0.8224413213444864}\n",
      "\n",
      "Best HP {}\n",
      "{'f1_1': 0.8747424206365331, 'precision_1': 0.8282840496867099, 'precision_0': 0.8220376952716628, 'auc': 0.7823194118964911, 'recall_1': 0.9267221764423728, 'recall_0': 0.6379166473506096, 'f1_0': 0.7183670273162709, 'accuracy': 0.8266036689728322}\n",
      "\n",
      "Best HP {}\n",
      "{'f1_1': 0.8679093375339109, 'precision_1': 0.8257143491485536, 'precision_0': 0.7980329967701574, 'auc': 0.7752997315018633, 'recall_1': 0.9146489922900041, 'recall_0': 0.6359504707137226, 'f1_0': 0.7078316751190429, 'accuracy': 0.8180700527927103}\n",
      "\n",
      "Best HP {}\n",
      "{'f1_1': 0.8631222927668665, 'precision_1': 0.8340328425301592, 'precision_0': 0.7692307692307693, 'auc': 0.7793464396489354, 'recall_1': 0.8943142414479994, 'recall_0': 0.6643786378498713, 'f1_0': 0.7129703364523193, 'accuracy': 0.8146389283963712}\n",
      "\n",
      "Best HP {}\n",
      "{'f1_1': 0.8644214572113218, 'precision_1': 0.8354045812028523, 'precision_0': 0.7716196974988583, 'auc': 0.7811275876507928, 'recall_1': 0.8955266068575642, 'recall_0': 0.6667285684440214, 'f1_0': 0.7153495554282583, 'accuracy': 0.816326366624079}\n",
      "\n",
      "Best HP {}\n",
      "{'f1_1': 0.8688380074754931, 'precision_1': 0.8321025733390368, 'precision_0': 0.7921381440404324, 'auc': 0.7815638948468975, 'recall_1': 0.9089668232458621, 'recall_0': 0.6541609664479329, 'f1_0': 0.716568032308044, 'accuracy': 0.8206654934953274}\n",
      "\n",
      "Best HP {}\n",
      "{'f1_1': 0.8631703947846739, 'precision_1': 0.8509311576457659, 'precision_0': 0.7519393165750197, 'auc': 0.7931490257835915, 'recall_1': 0.8757668523094703, 'recall_0': 0.7105311992577128, 'f1_0': 0.7306490470624716, 'accuracy': 0.8185280717402309}\n",
      "\n",
      "Best HP {}\n",
      "{'f1_1': 0.8648998906168262, 'precision_1': 0.8374585559034813, 'precision_0': 0.7709990687774378, 'auc': 0.7832953504652045, 'recall_1': 0.894200511358049, 'recall_0': 0.6723901895723601, 'f1_0': 0.7183262685605216, 'accuracy': 0.8173870420814953}\n",
      "\n",
      "Best HP {}\n",
      "{'f1_1': 0.8682456140350877, 'precision_1': 0.8278503880810063, 'precision_0': 0.7960433619921212, 'auc': 0.7773963196022897, 'recall_1': 0.9127852646075153, 'recall_0': 0.642007374597064, 'f1_0': 0.7107756296695679, 'accuracy': 0.8189619844273558}\n",
      "\n",
      "Best HP {}\n"
     ]
    },
    {
     "name": "stderr",
     "output_type": "stream",
     "text": [
      "\r",
      "  9%|▉         | 1/11 [00:26<04:20, 26.02s/it]"
     ]
    },
    {
     "name": "stdout",
     "output_type": "stream",
     "text": [
      "{'f1_1': 0.8679716587447688, 'precision_1': 0.8368870422792439, 'precision_0': 0.7824434733041992, 'auc': 0.7850115135034517, 'recall_1': 0.9014545141578449, 'recall_0': 0.6685685128490584, 'f1_0': 0.7210375576872569, 'accuracy': 0.8207699539570427}\n",
      "Training Percentage: 0.05\n",
      "\n",
      "Best HP {}\n",
      "{'f1_1': 0.8909775358053756, 'precision_1': 0.8542825230733055, 'precision_0': 0.8432171332130595, 'auc': 0.8156959263228545, 'recall_1': 0.9309664441568758, 'recall_0': 0.7004254084888331, 'f1_0': 0.7652169320552431, 'accuracy': 0.8510982155567279}\n",
      "\n",
      "Best HP {}\n",
      "{'f1_1': 0.8894677988178769, 'precision_1': 0.8545321464831299, 'precision_0': 0.8367276393489846, 'auc': 0.8147629315394803, 'recall_1': 0.927381745502998, 'recall_0': 0.7021441175759626, 'f1_0': 0.7635508122601335, 'accuracy': 0.8493564783413302}\n",
      "\n",
      "Best HP {}\n",
      "{'f1_1': 0.8904799235650064, 'precision_1': 0.8530809580248072, 'precision_0': 0.8432347093907145, 'auc': 0.8143075379746688, 'recall_1': 0.9313083693103934, 'recall_0': 0.697306706638944, 'f1_0': 0.7633591827012148, 'accuracy': 0.850260841895479}\n",
      "\n",
      "Best HP {}\n",
      "{'f1_1': 0.8910519846541599, 'precision_1': 0.8645705336706421, 'precision_0': 0.8267556507648788, 'auc': 0.8236499017974375, 'recall_1': 0.9192069265843537, 'recall_0': 0.7280928770105213, 'f1_0': 0.7742939451617882, 'accuracy': 0.8530409224508252}\n",
      "\n",
      "Best HP {}\n",
      "{'f1_1': 0.8902330327450655, 'precision_1': 0.8557719580221235, 'precision_0': 0.8375808073552651, 'auc': 0.8162448742450625, 'recall_1': 0.9275859860372766, 'recall_0': 0.7049037624528485, 'f1_0': 0.7655361668045326, 'accuracy': 0.8504701853107912}\n",
      "\n",
      "Best HP {}\n",
      "{'f1_1': 0.8900335013504659, 'precision_1': 0.8520086301915997, 'precision_0': 0.8437564076276399, 'auc': 0.8134736314779669, 'recall_1': 0.9316110007051734, 'recall_0': 0.6953362622507604, 'f1_0': 0.7623899953682259, 'accuracy': 0.8496495591227674}\n",
      "\n",
      "Best HP {}\n",
      "{'f1_1': 0.8892304653258761, 'precision_1': 0.8581862809346218, 'precision_0': 0.8297740463176875, 'auc': 0.8173986164300858, 'recall_1': 0.9226049419088731, 'recall_0': 0.7121922909512985, 'f1_0': 0.7665001041016032, 'accuracy': 0.8497416702255047}\n",
      "\n",
      "Best HP {}\n",
      "{'f1_1': 0.8876355695296586, 'precision_1': 0.8497774654485828, 'precision_0': 0.8371669457418994, 'auc': 0.8093238128112243, 'recall_1': 0.9290241622597539, 'recall_0': 0.6896234633626948, 'f1_0': 0.7562661712996748, 'accuracy': 0.8461828321651971}\n",
      "\n",
      "Best HP {}\n",
      "{'f1_1': 0.889915633736609, 'precision_1': 0.8603599832565927, 'precision_0': 0.8290230687594258, 'auc': 0.8196362063671031, 'recall_1': 0.9215741535465853, 'recall_0': 0.7176982591876209, 'f1_0': 0.7693543788715237, 'accuracy': 0.8509642357709281}\n",
      "\n",
      "Best HP {}\n"
     ]
    },
    {
     "name": "stderr",
     "output_type": "stream",
     "text": [
      "\r",
      " 18%|█▊        | 2/11 [11:02<31:23, 209.27s/it]"
     ]
    },
    {
     "name": "stdout",
     "output_type": "stream",
     "text": [
      "{'f1_1': 0.8878277819323044, 'precision_1': 0.8506806996111966, 'precision_0': 0.8370275314979001, 'auc': 0.8107015373505689, 'recall_1': 0.9283672396774731, 'recall_0': 0.6930358350236646, 'f1_0': 0.7582562747688242, 'accuracy': 0.8467606199914588}\n",
      "Training Percentage: 0.1\n",
      "\n",
      "Best HP {}\n",
      "{'f1_1': 0.9043432996063376, 'precision_1': 0.8712200992929141, 'precision_0': 0.8672839506172839, 'auc': 0.8390720505206681, 'recall_1': 0.9400846850015557, 'recall_0': 0.7380594160397806, 'f1_0': 0.797470621461143, 'accuracy': 0.8700590439824636}\n",
      "\n",
      "Best HP {}\n",
      "{'f1_1': 0.9019436984243622, 'precision_1': 0.867818752893772, 'precision_0': 0.8640700719381151, 'auc': 0.8349391534403026, 'recall_1': 0.9388622640998565, 'recall_0': 0.7310160427807486, 'f1_0': 0.7919937097374918, 'accuracy': 0.8667179323999434}\n",
      "\n",
      "Best HP {}\n",
      "{'f1_1': 0.9033491827057544, 'precision_1': 0.870066407718331, 'precision_0': 0.8653003660805377, 'auc': 0.837392996863215, 'recall_1': 0.9392795790555803, 'recall_0': 0.7355064146708495, 'f1_0': 0.7951415217900818, 'accuracy': 0.8686624946966482}\n",
      "\n",
      "Best HP {}\n",
      "{'f1_1': 0.9014991250750869, 'precision_1': 0.8717531032566832, 'precision_0': 0.8547650611282958, 'auc': 0.8370367055770698, 'recall_1': 0.933346853241398, 'recall_0': 0.7407265579127416, 'f1_0': 0.7936703320750589, 'accuracy': 0.8666560599632301}\n",
      "\n",
      "Best HP {}\n",
      "{'f1_1': 0.9035586494047232, 'precision_1': 0.8707913777320777, 'precision_0': 0.8646260744556591, 'auc': 0.8379250229460941, 'recall_1': 0.9388883631004692, 'recall_0': 0.7369616827917188, 'f1_0': 0.7957057412970976, 'accuracy': 0.8689718568802149}\n",
      "\n",
      "Best HP {}\n",
      "{'f1_1': 0.9028373110941325, 'precision_1': 0.8659437840791941, 'precision_0': 0.8708659003831417, 'auc': 0.8338589570374487, 'recall_1': 0.9430144323761345, 'recall_0': 0.7247034816987629, 'f1_0': 0.7910900737853264, 'accuracy': 0.8673631735256683}\n",
      "\n",
      "Best HP {}\n",
      "{'f1_1': 0.9032162174387871, 'precision_1': 0.86448540326571, 'precision_0': 0.8754644538023285, 'auc': 0.8331612821272255, 'recall_1': 0.9455802562680125, 'recall_0': 0.7207423079864386, 'f1_0': 0.790604683677036, 'accuracy': 0.8676195021920521}\n",
      "\n",
      "Best HP {}\n",
      "{'f1_1': 0.9013987333945157, 'precision_1': 0.8691150075935385, 'precision_0': 0.8589188058452619, 'auc': 0.8349746129104534, 'recall_1': 0.9361733769569802, 'recall_0': 0.7337758488639264, 'f1_0': 0.7914308922941361, 'accuracy': 0.86609920803281}\n",
      "\n",
      "Best HP {}\n",
      "{'f1_1': 0.9033775923362385, 'precision_1': 0.8707854610151229, 'precision_0': 0.8633376346667467, 'auc': 0.8373116320525625, 'recall_1': 0.9385043346746968, 'recall_0': 0.7361189294304283, 'f1_0': 0.794668876458808, 'accuracy': 0.8685917833404044}\n",
      "\n",
      "Best HP {}\n"
     ]
    },
    {
     "name": "stderr",
     "output_type": "stream",
     "text": [
      "\r",
      " 27%|██▋       | 3/11 [36:37<1:20:54, 606.83s/it]"
     ]
    },
    {
     "name": "stdout",
     "output_type": "stream",
     "text": [
      "{'f1_1': 0.9061760499284879, 'precision_1': 0.8726475928128717, 'precision_0': 0.8719305100538006, 'auc': 0.8413968873202105, 'recall_1': 0.9423838820904604, 'recall_0': 0.7404098925499605, 'f1_0': 0.8008060509026667, 'accuracy': 0.8724367133361618}\n",
      "Training Percentage: 0.2\n",
      "\n",
      "Best HP {}\n",
      "{'f1_1': 0.9195628978255271, 'precision_1': 0.8912376795469782, 'precision_0': 0.8914570884496684, 'auc': 0.8652467848117593, 'recall_1': 0.9497476743479054, 'recall_0': 0.7807458952756132, 'f1_0': 0.8324365754579598, 'accuracy': 0.8913041316561428}\n",
      "\n",
      "Best HP {}\n",
      "{'f1_1': 0.9188844317656808, 'precision_1': 0.8876200731064577, 'precision_0': 0.8956408631557883, 'auc': 0.8622044296674476, 'recall_1': 0.9524316271150367, 'recall_0': 0.7719772322198586, 'f1_0': 0.8292238570921273, 'accuracy': 0.8900114353900462}\n",
      "\n",
      "Best HP {}\n",
      "{'f1_1': 0.9193484481620076, 'precision_1': 0.8883610788122855, 'precision_0': 0.8961821389341943, 'auc': 0.8631602918890746, 'recall_1': 0.9525757207152414, 'recall_0': 0.7737448630629077, 'f1_0': 0.8304750154225786, 'accuracy': 0.8906975587928205}\n",
      "\n",
      "Best HP {}\n",
      "{'f1_1': 0.9189491171584411, 'precision_1': 0.8897777904311805, 'precision_0': 0.8917073492545191, 'auc': 0.8637222432652999, 'recall_1': 0.9500980407058931, 'recall_0': 0.7773464458247067, 'f1_0': 0.8306089842069686, 'accuracy': 0.8903594690001492}\n",
      "\n",
      "Best HP {}\n",
      "{'f1_1': 0.9198285512284216, 'precision_1': 0.8917973324193871, 'precision_0': 0.8916467467828023, 'auc': 0.8659965144350369, 'recall_1': 0.9496791264941148, 'recall_0': 0.7823139023759589, 'f1_0': 0.8334098491108868, 'accuracy': 0.8917516034405608}\n",
      "\n",
      "Best HP {}\n",
      "{'f1_1': 0.9193124219496069, 'precision_1': 0.8890230734257786, 'precision_0': 0.8948676319538783, 'auc': 0.8637034828418059, 'recall_1': 0.9517385088066194, 'recall_0': 0.7756684568769925, 'f1_0': 0.8310153846153846, 'accuracy': 0.8907771093322726}\n",
      "\n",
      "Best HP {}\n",
      "{'f1_1': 0.9175504217088376, 'precision_1': 0.8866745099150944, 'precision_0': 0.8918243603411514, 'auc': 0.8603374782283191, 'recall_1': 0.9506542453762101, 'recall_0': 0.770020711080428, 'f1_0': 0.8264587835751777, 'accuracy': 0.8882116044349426}\n",
      "\n",
      "Best HP {}\n",
      "{'f1_1': 0.9181629126270466, 'precision_1': 0.8855209819347731, 'precision_0': 0.8968285963851375, 'auc': 0.8602005650124835, 'recall_1': 0.9533034288755416, 'recall_0': 0.7670977011494253, 'f1_0': 0.8269058018151969, 'accuracy': 0.8888678963854224}\n",
      "\n",
      "Best HP {}\n",
      "{'f1_1': 0.9185081961201365, 'precision_1': 0.8865621770094437, 'precision_0': 0.8964791555318011, 'auc': 0.8614681839690417, 'recall_1': 0.9528425345425772, 'recall_0': 0.7700938333955063, 'f1_0': 0.8284942502122404, 'accuracy': 0.8895142445184706}\n",
      "\n",
      "Best HP {}\n"
     ]
    },
    {
     "name": "stderr",
     "output_type": "stream",
     "text": [
      "\r",
      " 36%|███▋      | 4/11 [1:20:59<2:22:43, 1223.39s/it]"
     ]
    },
    {
     "name": "stdout",
     "output_type": "stream",
     "text": [
      "{'f1_1': 0.9190871369294606, 'precision_1': 0.8890897445021707, 'precision_0': 0.8942263279445728, 'auc': 0.8639436659289903, 'recall_1': 0.9511793997167614, 'recall_0': 0.7767079321412196, 'f1_0': 0.8313345397662791, 'accuracy': 0.8906378958882315}\n",
      "Training Percentage: 0.3\n",
      "\n",
      "Best HP {}\n",
      "{'f1_1': 0.9262535879931649, 'precision_1': 0.8967175174392072, 'precision_0': 0.9090055933030519, 'auc': 0.8751923918983828, 'recall_1': 0.9578016468499208, 'recall_0': 0.7925831369468447, 'f1_0': 0.8468115612596386, 'accuracy': 0.900437524859367}\n",
      "\n",
      "Best HP {}\n",
      "{'f1_1': 0.9275552858683925, 'precision_1': 0.898360976883897, 'precision_0': 0.9113654212947381, 'auc': 0.8776067489563836, 'recall_1': 0.9587108013937282, 'recall_0': 0.796502696519039, 'f1_0': 0.8500715107963861, 'accuracy': 0.9023126313995113}\n",
      "\n",
      "Best HP {}\n",
      "{'f1_1': 0.9272797879345569, 'precision_1': 0.8990456234550723, 'precision_0': 0.9090605024528021, 'auc': 0.8779965553202324, 'recall_1': 0.9573448149633065, 'recall_0': 0.7986482956771581, 'f1_0': 0.8502850389321468, 'accuracy': 0.9021080743224047}\n",
      "\n",
      "Best HP {}\n",
      "{'f1_1': 0.9274803050090575, 'precision_1': 0.8984052364396128, 'precision_0': 0.910855903037558, 'auc': 0.8774609528267712, 'recall_1': 0.958500226394065, 'recall_0': 0.7964216792594773, 'f1_0': 0.8498036820521768, 'accuracy': 0.9021876242968351}\n",
      "\n",
      "Best HP {}\n",
      "{'f1_1': 0.9295107572932937, 'precision_1': 0.8996245062501016, 'precision_0': 0.916188245958604, 'auc': 0.8792697614895968, 'recall_1': 0.961450932022306, 'recall_0': 0.7970885909568874, 'f1_0': 0.8524987699444717, 'accuracy': 0.9046082163759305}\n",
      "\n",
      "Best HP {}\n",
      "{'f1_1': 0.9269809174775687, 'precision_1': 0.8975576330086633, 'precision_0': 0.9105684967418171, 'auc': 0.876577816308171, 'recall_1': 0.9583986620675238, 'recall_0': 0.7947569705488183, 'f1_0': 0.8487302556942142, 'accuracy': 0.9015057673731462}\n",
      "\n",
      "Best HP {}\n",
      "{'f1_1': 0.9284137442914681, 'precision_1': 0.8999183273440052, 'precision_0': 0.9115219421101775, 'auc': 0.8790523123016193, 'recall_1': 0.9587727541679719, 'recall_0': 0.7993318704352668, 'f1_0': 0.8517484469882042, 'accuracy': 0.9034490596056595}\n",
      "\n",
      "Best HP {}\n",
      "{'f1_1': 0.9286411525127065, 'precision_1': 0.9014540107825518, 'precision_0': 0.9086055628150084, 'auc': 0.8794477894708286, 'recall_1': 0.9575191753722279, 'recall_0': 0.8013764035694294, 'f1_0': 0.8516289323581903, 'accuracy': 0.9036308881186431}\n",
      "\n",
      "Best HP {}\n",
      "{'f1_1': 0.9272226260713743, 'precision_1': 0.8998113362316463, 'precision_0': 0.9074334319526627, 'auc': 0.8785339334657819, 'recall_1': 0.9563564715523705, 'recall_0': 0.8007113953791933, 'f1_0': 0.8507385063449137, 'accuracy': 0.9021535314506506}\n",
      "\n",
      "Best HP {}\n"
     ]
    },
    {
     "name": "stderr",
     "output_type": "stream",
     "text": [
      "\r",
      " 45%|████▌     | 5/11 [2:22:01<3:15:29, 1954.98s/it]"
     ]
    },
    {
     "name": "stdout",
     "output_type": "stream",
     "text": [
      "{'f1_1': 0.9294224862456543, 'precision_1': 0.9021098152273621, 'precision_0': 0.911381600920325, 'auc': 0.8813654066011904, 'recall_1': 0.9584406543682562, 'recall_0': 0.8042901588341248, 'f1_0': 0.854493580599144, 'accuracy': 0.9049491448377749}\n",
      "Training Percentage: 0.4\n",
      "\n",
      "Best HP {}\n",
      "{'f1_1': 0.9338099176808854, 'precision_1': 0.9077108618247253, 'precision_0': 0.9180108686276202, 'auc': 0.8883920225076198, 'recall_1': 0.9614542357759844, 'recall_0': 0.8153298092392554, 'f1_0': 0.8636289864481052, 'accuracy': 0.9108771743742045}\n",
      "\n",
      "Best HP {}\n",
      "{'f1_1': 0.9328558639212176, 'precision_1': 0.9052565253088424, 'precision_0': 0.9191792113140428, 'auc': 0.8862197897409195, 'recall_1': 0.962191013516256, 'recall_0': 0.8102485659655831, 'f1_0': 0.8612833072498527, 'accuracy': 0.9095115613067458}\n",
      "\n",
      "Best HP {}\n",
      "{'f1_1': 0.9338276731425182, 'precision_1': 0.909276444992106, 'precision_0': 0.9156518777143831, 'auc': 0.8900053955555842, 'recall_1': 0.9597415001930619, 'recall_0': 0.8202692909181065, 'f1_0': 0.8653401203146692, 'accuracy': 0.9112616673737802}\n",
      "\n",
      "Best HP {}\n",
      "{'f1_1': 0.9340292111419078, 'precision_1': 0.9074502014858387, 'precision_0': 0.919091185014959, 'auc': 0.8880676570046923, 'recall_1': 0.9622121868734939, 'recall_0': 0.8139231271358907, 'f1_0': 0.8633160917199527, 'accuracy': 0.9110097581671617}\n",
      "\n",
      "Best HP {}\n",
      "{'f1_1': 0.9337800396926765, 'precision_1': 0.9060938870457232, 'precision_0': 0.9210114022108103, 'auc': 0.8872136663638908, 'recall_1': 0.9632114480298363, 'recall_0': 0.8112158846979454, 'f1_0': 0.862634003179391, 'accuracy': 0.9106385235468817}\n",
      "\n",
      "Best HP {}\n",
      "{'f1_1': 0.9336850186012636, 'precision_1': 0.9074977520136218, 'precision_0': 0.9178147268408551, 'auc': 0.8880435923543953, 'recall_1': 0.9614285424731945, 'recall_0': 0.8146586422355963, 'f1_0': 0.8631655903497015, 'accuracy': 0.910665040305473}\n",
      "\n",
      "Best HP {}\n",
      "{'f1_1': 0.9330671099351817, 'precision_1': 0.9075984003367712, 'precision_0': 0.9146915339118422, 'auc': 0.8871949665092506, 'recall_1': 0.9600064766839378, 'recall_0': 0.8143834563345633, 'f1_0': 0.8616279306207935, 'accuracy': 0.9097767288926601}\n",
      "\n",
      "Best HP {}\n",
      "{'f1_1': 0.9335497196813219, 'precision_1': 0.9051669877357951, 'precision_0': 0.9224179169384649, 'auc': 0.8869379114382674, 'recall_1': 0.96377002904084, 'recall_0': 0.8101057938356949, 'f1_0': 0.8626214974175445, 'accuracy': 0.9104263894781502}\n",
      "\n",
      "Best HP {}\n",
      "{'f1_1': 0.9330512227525463, 'precision_1': 0.90460833889896, 'precision_0': 0.9216299578608975, 'auc': 0.8863205791197262, 'recall_1': 0.963340784393416, 'recall_0': 0.8093003738460365, 'f1_0': 0.8618203237665794, 'accuracy': 0.9098032456512516}\n",
      "\n",
      "Best HP {}\n"
     ]
    },
    {
     "name": "stderr",
     "output_type": "stream",
     "text": [
      "\r",
      " 55%|█████▍    | 6/11 [3:39:44<3:50:37, 2767.42s/it]"
     ]
    },
    {
     "name": "stdout",
     "output_type": "stream",
     "text": [
      "{'f1_1': 0.9345847947438621, 'precision_1': 0.9101878223385421, 'precision_0': 0.9167092924126172, 'auc': 0.8910060747284663, 'recall_1': 0.960325678666423, 'recall_0': 0.8216864707905093, 'f1_0': 0.8666008502407672, 'accuracy': 0.9122162706830717}\n",
      "Training Percentage: 0.5\n",
      "\n",
      "Best HP {}\n",
      "{'f1_1': 0.9398774165357772, 'precision_1': 0.9155603616869521, 'precision_0': 0.9267148014440433, 'auc': 0.8979601208547263, 'recall_1': 0.9655214247585772, 'recall_0': 0.8303988169508757, 'f1_0': 0.8759170342928172, 'accuracy': 0.9190014796429765}\n",
      "\n",
      "Best HP {}\n",
      "{'f1_1': 0.9384364126961585, 'precision_1': 0.9151087107048885, 'precision_0': 0.9219542172376709, 'auc': 0.8966714654560763, 'recall_1': 0.962984552608569, 'recall_0': 0.8303583783035838, 'f1_0': 0.8737623762376238, 'accuracy': 0.9172354541549329}\n",
      "\n",
      "Best HP {}\n",
      "{'f1_1': 0.939221013418121, 'precision_1': 0.915658470008559, 'precision_0': 0.9247350183448838, 'auc': 0.8983634121378836, 'recall_1': 0.9640282513395032, 'recall_0': 0.8326985729362639, 'f1_0': 0.8763068305285269, 'accuracy': 0.9184923551779549}\n",
      "\n",
      "Best HP {}\n",
      "{'f1_1': 0.9392802622392105, 'precision_1': 0.916112650046168, 'precision_0': 0.9233604669021656, 'auc': 0.8979763862179367, 'recall_1': 0.963650049777821, 'recall_0': 0.8323027226580526, 'f1_0': 0.8754702327500424, 'accuracy': 0.9183650740616995}\n",
      "\n",
      "Best HP {}\n",
      "{'f1_1': 0.9391772922255179, 'precision_1': 0.9148421852337869, 'precision_0': 0.9254223320972393, 'auc': 0.8970609858638433, 'recall_1': 0.964842422182295, 'recall_0': 0.8292795495453916, 'f1_0': 0.8747170362437018, 'accuracy': 0.9181105118291888}\n",
      "\n",
      "Best HP {}\n",
      "{'f1_1': 0.9398479348224527, 'precision_1': 0.9165359778597786, 'precision_0': 0.9246909146873237, 'auc': 0.8985855108579912, 'recall_1': 0.96437671382465, 'recall_0': 0.8327943078913325, 'f1_0': 0.876340034518803, 'accuracy': 0.9190651202011042}\n",
      "\n",
      "Best HP {}\n",
      "{'f1_1': 0.9380581349841678, 'precision_1': 0.9129712135552529, 'precision_0': 0.9256168731442613, 'auc': 0.8960152773499781, 'recall_1': 0.9645627042583289, 'recall_0': 0.8274678504416274, 'f1_0': 0.8737948532076839, 'accuracy': 0.9169013412247625}\n",
      "\n",
      "Best HP {}\n",
      "{'f1_1': 0.9395001723133964, 'precision_1': 0.9161895932321242, 'precision_0': 0.9251572965293282, 'auc': 0.8992641672598044, 'recall_1': 0.9640278997171008, 'recall_0': 0.8345004348025081, 'f1_0': 0.8774935630579687, 'accuracy': 0.9190014796429765}\n",
      "\n",
      "Best HP {}\n",
      "{'f1_1': 0.9390767483944221, 'precision_1': 0.914765657403567, 'precision_0': 0.9253662297609869, 'auc': 0.8971350982474056, 'recall_1': 0.9647153167602245, 'recall_0': 0.8295548797345866, 'f1_0': 0.8748451053283767, 'accuracy': 0.918046871271061}\n",
      "\n",
      "Best HP {}\n"
     ]
    },
    {
     "name": "stderr",
     "output_type": "stream",
     "text": [
      "\r",
      " 64%|██████▎   | 7/11 [5:13:43<4:01:55, 3628.86s/it]"
     ]
    },
    {
     "name": "stdout",
     "output_type": "stream",
     "text": [
      "{'f1_1': 0.9397821453942694, 'precision_1': 0.9148264257065142, 'precision_0': 0.9285604231934672, 'auc': 0.8982237902086418, 'recall_1': 0.9661375918983397, 'recall_0': 0.8303099885189438, 'f1_0': 0.8766910730737526, 'accuracy': 0.919081030340636}\n",
      "Training Percentage: 0.6\n",
      "\n",
      "Best HP {}\n",
      "{'f1_1': 0.9443243403322771, 'precision_1': 0.9209241877256318, 'precision_0': 0.9347298505556265, 'auc': 0.9056764308740867, 'recall_1': 0.9689446655929989, 'recall_0': 0.8424081961551744, 'f1_0': 0.8861709857108259, 'accuracy': 0.9252232364815146}\n",
      "\n",
      "Best HP {}\n",
      "{'f1_1': 0.9434672994216224, 'precision_1': 0.9202661651960076, 'precision_0': 0.9328158798829368, 'auc': 0.9048207159016842, 'recall_1': 0.9678685531720675, 'recall_0': 0.8417728786313009, 'f1_0': 0.8849589570255916, 'accuracy': 0.9241890897520036}\n",
      "\n",
      "Best HP {}\n",
      "{'f1_1': 0.9434337734083788, 'precision_1': 0.9194430775465308, 'precision_0': 0.934799186578546, 'auc': 0.9048088821203556, 'recall_1': 0.9687099725526075, 'recall_0': 0.8409077916881038, 'f1_0': 0.8853712118932258, 'accuracy': 0.9242487520633216}\n",
      "\n",
      "Best HP {}\n",
      "{'f1_1': 0.9412884137910528, 'precision_1': 0.9171398771584193, 'precision_0': 0.9309316927760513, 'auc': 0.901834273664353, 'recall_1': 0.9667430142006413, 'recall_0': 0.8369255331280647, 'f1_0': 0.8814292148326076, 'accuracy': 0.9214645108684844}\n",
      "\n",
      "Best HP {}\n",
      "{'f1_1': 0.9427431274017144, 'precision_1': 0.9191331162281334, 'precision_0': 0.9314681724845996, 'auc': 0.9028037690878957, 'recall_1': 0.9675980704468918, 'recall_0': 0.8380094677288996, 'f1_0': 0.8822707105087217, 'accuracy': 0.9229560686514329}\n",
      "\n",
      "Best HP {}\n",
      "{'f1_1': 0.9433131372838778, 'precision_1': 0.9195067845927803, 'precision_0': 0.9330850244027742, 'auc': 0.9035529064121556, 'recall_1': 0.9683849631360175, 'recall_0': 0.8387208496882937, 'f1_0': 0.8833900778210116, 'accuracy': 0.9237117912614602}\n",
      "\n",
      "Best HP {}\n",
      "{'f1_1': 0.9438225600522582, 'precision_1': 0.9192041872704665, 'precision_0': 0.9369507069163164, 'auc': 0.9050967357175725, 'recall_1': 0.9697958934618788, 'recall_0': 0.8403975779732663, 'f1_0': 0.8860515538424477, 'accuracy': 0.9247459379909712}\n",
      "\n",
      "Best HP {}\n",
      "{'f1_1': 0.9431512648732155, 'precision_1': 0.9190816710575838, 'precision_0': 0.9344428916274933, 'auc': 0.9044234007981716, 'recall_1': 0.9685154676917445, 'recall_0': 0.8403313339045987, 'f1_0': 0.8848918699431527, 'accuracy': 0.923890778195414}\n",
      "\n",
      "Best HP {}\n",
      "{'f1_1': 0.9416667902644499, 'precision_1': 0.9175916290900682, 'precision_0': 0.9310256900618347, 'auc': 0.9018571980636092, 'recall_1': 0.967039327382947, 'recall_0': 0.8366750687442713, 'f1_0': 0.8813324080499654, 'accuracy': 0.92178270986218}\n",
      "\n",
      "Best HP {}\n"
     ]
    },
    {
     "name": "stderr",
     "output_type": "stream",
     "text": [
      "\r",
      " 73%|███████▎  | 8/11 [7:05:47<3:47:51, 4557.28s/it]"
     ]
    },
    {
     "name": "stdout",
     "output_type": "stream",
     "text": [
      "{'f1_1': 0.9435776085188198, 'precision_1': 0.9207677875595324, 'precision_0': 0.9315769279959074, 'auc': 0.9044974382964575, 'recall_1': 0.967546254170458, 'recall_0': 0.8414486224224571, 'f1_0': 0.8842220266456253, 'accuracy': 0.9241294274406857}\n",
      "Training Percentage: 0.7\n",
      "\n",
      "Best HP {}\n",
      "{'f1_1': 0.9456287235516498, 'precision_1': 0.9234575537343436, 'precision_0': 0.935241472475515, 'auc': 0.9086239472880766, 'recall_1': 0.9688906915432975, 'recall_0': 0.8483572030328559, 'f1_0': 0.8896831452552106, 'accuracy': 0.9271584641493423}\n",
      "\n",
      "Best HP {}\n",
      "{'f1_1': 0.9459251210115578, 'precision_1': 0.923608163895212, 'precision_0': 0.9358093784448401, 'auc': 0.908613397798608, 'recall_1': 0.9693472627146097, 'recall_0': 0.847879532882606, 'f1_0': 0.8896771332983998, 'accuracy': 0.9274236317352567}\n",
      "\n",
      "Best HP {}\n",
      "{'f1_1': 0.9449309899712044, 'precision_1': 0.9219531098624297, 'precision_0': 0.9362559838750315, 'auc': 0.9080336220638875, 'recall_1': 0.9690835030549898, 'recall_0': 0.8469837410727853, 'f1_0': 0.8893852965814352, 'accuracy': 0.9264690284259652}\n",
      "\n",
      "Best HP {}\n",
      "{'f1_1': 0.9460226708752705, 'precision_1': 0.9229190068559476, 'precision_0': 0.9387137452711223, 'auc': 0.9095254864118579, 'recall_1': 0.9703127545202802, 'recall_0': 0.8487382183034357, 'f1_0': 0.8914614187058401, 'accuracy': 0.9279009333899024}\n",
      "\n",
      "Best HP {}\n",
      "{'f1_1': 0.9450666877745676, 'precision_1': 0.9225746629061546, 'precision_0': 0.9347366641305267, 'auc': 0.9076244624556853, 'recall_1': 0.968682812056306, 'recall_0': 0.8465661128550647, 'f1_0': 0.8884692647649659, 'accuracy': 0.9263894781501909}\n",
      "\n",
      "Best HP {}\n",
      "{'f1_1': 0.9463424278370898, 'precision_1': 0.9240183776688159, 'precision_0': 0.9368385403437474, 'auc': 0.9093852832200799, 'recall_1': 0.9697718708213461, 'recall_0': 0.8489986956188138, 'f1_0': 0.8907583319916278, 'accuracy': 0.9280335171828595}\n",
      "\n",
      "Best HP {}\n",
      "{'f1_1': 0.9462951985773562, 'precision_1': 0.9230591319096446, 'precision_0': 0.9386576040781648, 'auc': 0.908855382988075, 'recall_1': 0.9707313118209826, 'recall_0': 0.8469794541551672, 'f1_0': 0.8904650600467479, 'accuracy': 0.9279274501484939}\n",
      "\n",
      "Best HP {}\n",
      "{'f1_1': 0.9459234278912916, 'precision_1': 0.9240368963646229, 'precision_0': 0.9356842989084803, 'auc': 0.9096496310004113, 'recall_1': 0.9688719115734721, 'recall_0': 0.8504273504273504, 'f1_0': 0.8910210282241945, 'accuracy': 0.9277153160797624}\n",
      "\n",
      "Best HP {}\n",
      "{'f1_1': 0.9451913951281239, 'precision_1': 0.9233919258257678, 'precision_0': 0.9332882387756828, 'auc': 0.9078762929981998, 'recall_1': 0.9680450366530314, 'recall_0': 0.8477075493433684, 'f1_0': 0.8884417256922087, 'accuracy': 0.9264955451845567}\n",
      "\n",
      "Best HP {}\n"
     ]
    },
    {
     "name": "stderr",
     "output_type": "stream",
     "text": [
      "\r",
      " 82%|████████▏ | 9/11 [9:17:02<3:05:05, 5552.61s/it]"
     ]
    },
    {
     "name": "stdout",
     "output_type": "stream",
     "text": [
      "{'f1_1': 0.9467730810917332, 'precision_1': 0.922610131735607, 'precision_0': 0.9412419700214133, 'auc': 0.9086416953835004, 'recall_1': 0.9722357131293509, 'recall_0': 0.84504767763765, 'f1_0': 0.8905547226386807, 'accuracy': 0.9283782350445482}\n",
      "Training Percentage: 0.8\n",
      "\n",
      "Best HP {}\n",
      "{'f1_1': 0.9489890116434888, 'precision_1': 0.9268803443662381, 'precision_0': 0.9426487234310149, 'auc': 0.9142769214853217, 'recall_1': 0.9721781574130567, 'recall_0': 0.8563756855575868, 'f1_0': 0.8974435730108362, 'accuracy': 0.9318669954657545}\n",
      "\n",
      "Best HP {}\n",
      "{'f1_1': 0.9482794269679515, 'precision_1': 0.927485988328422, 'precision_0': 0.9366943203573708, 'auc': 0.91199723694328, 'recall_1': 0.9700265893159294, 'recall_0': 0.8539678845706307, 'f1_0': 0.8934201716476962, 'accuracy': 0.930355580303874}\n",
      "\n",
      "Best HP {}\n",
      "{'f1_1': 0.9480496348631479, 'precision_1': 0.9256811594202898, 'precision_0': 0.9406994424733908, 'auc': 0.9121355759437703, 'recall_1': 0.9715259187150158, 'recall_0': 0.8527452331725247, 'f1_0': 0.8945656103144958, 'accuracy': 0.9303953543870814}\n",
      "\n",
      "Best HP {}\n",
      "{'f1_1': 0.9472901421857338, 'precision_1': 0.9255405719600093, 'precision_0': 0.938145628621819, 'auc': 0.9116587461330824, 'recall_1': 0.9700865115145607, 'recall_0': 0.8532309807516041, 'f1_0': 0.8936757470298813, 'accuracy': 0.929520324556519}\n",
      "\n",
      "Best HP {}\n",
      "{'f1_1': 0.9479847818333135, 'precision_1': 0.924410179120051, 'precision_0': 0.9434799138258776, 'auc': 0.911873830103071, 'recall_1': 0.9727932654181662, 'recall_0': 0.8509543947879757, 'f1_0': 0.8948317307692306, 'accuracy': 0.9303953543870814}\n",
      "\n",
      "Best HP {}\n",
      "{'f1_1': 0.9485261244076182, 'precision_1': 0.9261932479627474, 'precision_0': 0.942351168048229, 'auc': 0.9136976463430359, 'recall_1': 0.9719626168224299, 'recall_0': 0.8554326758636416, 'f1_0': 0.8967907727245563, 'accuracy': 0.9313101583008512}\n",
      "\n",
      "Best HP {}\n",
      "{'f1_1': 0.9495039505732789, 'precision_1': 0.9270343947566847, 'precision_0': 0.9440577142133907, 'auc': 0.9143870485932682, 'recall_1': 0.973089802130898, 'recall_0': 0.8556842950556384, 'f1_0': 0.8977012877602599, 'accuracy': 0.9323840585474504}\n",
      "\n",
      "Best HP {}\n",
      "{'f1_1': 0.9490485691313542, 'precision_1': 0.9285589417866091, 'precision_0': 0.939230672848014, 'auc': 0.9149493796889213, 'recall_1': 0.9704628501827041, 'recall_0': 0.8594359091951387, 'f1_0': 0.8975633119798838, 'accuracy': 0.9319465436321693}\n",
      "\n",
      "Best HP {}\n",
      "{'f1_1': 0.9497196760701255, 'precision_1': 0.9271937445699392, 'precision_0': 0.9443950742668529, 'auc': 0.914409083067542, 'recall_1': 0.9733673841663626, 'recall_0': 0.8554507819687213, 'f1_0': 0.8977252157123031, 'accuracy': 0.9325829289634874}\n",
      "\n",
      "Best HP {}\n"
     ]
    },
    {
     "name": "stderr",
     "output_type": "stream",
     "text": [
      "\r",
      " 91%|█████████ | 10/11 [11:47:26<1:49:54, 6594.28s/it]"
     ]
    },
    {
     "name": "stdout",
     "output_type": "stream",
     "text": [
      "{'f1_1': 0.9488990196954799, 'precision_1': 0.9276975064087625, 'precision_0': 0.9405866131862622, 'auc': 0.9145913051561922, 'recall_1': 0.971092272976764, 'recall_0': 0.8580903373356203, 'f1_0': 0.8974466303892843, 'accuracy': 0.9317874472993397}\n",
      "Training Percentage: 0.9\n",
      "\n",
      "Best HP {}\n",
      "{'f1_1': 0.9526574628192215, 'precision_1': 0.9327068105348648, 'precision_0': 0.944585020242915, 'auc': 0.9195015497481889, 'recall_1': 0.9734802615645435, 'recall_0': 0.865522837931834, 'f1_0': 0.9033272837265578, 'accuracy': 0.9364410150346034}\n",
      "\n",
      "Best HP {}\n",
      "{'f1_1': 0.9517470881863561, 'precision_1': 0.9318128927158482, 'precision_0': 0.9431732461654514, 'auc': 0.9187181948974735, 'recall_1': 0.9725528297303863, 'recall_0': 0.8648835600645608, 'f1_0': 0.902333413519365, 'accuracy': 0.9354068888712115}\n",
      "\n",
      "Best HP {}\n",
      "{'f1_1': 0.9505386584131897, 'precision_1': 0.9323914058851004, 'precision_0': 0.9371100573995508, 'auc': 0.917905752847168, 'recall_1': 0.9694063372587107, 'recall_0': 0.8664051684356253, 'f1_0': 0.9003716580745713, 'accuracy': 0.933895473709331}\n",
      "\n",
      "Best HP {}\n",
      "{'f1_1': 0.9502170939154226, 'precision_1': 0.9288372093023256, 'precision_0': 0.9433392092671871, 'auc': 0.9160865085501461, 'recall_1': 0.9726044076464142, 'recall_0': 0.8595686094538779, 'f1_0': 0.8995077440268939, 'accuracy': 0.9334181847108424}\n",
      "\n",
      "Best HP {}\n",
      "{'f1_1': 0.9492558723327954, 'precision_1': 0.92822910578609, 'precision_0': 0.9414840637450199, 'auc': 0.9157765646115381, 'recall_1': 0.9712573385518591, 'recall_0': 0.8602957906712173, 'f1_0': 0.8990607537748188, 'accuracy': 0.9324636067138653}\n",
      "\n",
      "Best HP {}\n",
      "{'f1_1': 0.9516388079233835, 'precision_1': 0.9313074863197113, 'precision_0': 0.9439979909593169, 'auc': 0.918607137225953, 'recall_1': 0.972877645341766, 'recall_0': 0.8643366291101403, 'f1_0': 0.9024126755491538, 'accuracy': 0.9353273407047967}\n",
      "\n",
      "Best HP {}\n",
      "{'f1_1': 0.9507512520868113, 'precision_1': 0.9304469599719921, 'precision_0': 0.9425287356321839, 'auc': 0.9177572955306712, 'recall_1': 0.9719614775082287, 'recall_0': 0.8635531135531136, 'f1_0': 0.9013142174432497, 'accuracy': 0.9342932145414048}\n",
      "\n",
      "Best HP {}\n",
      "{'f1_1': 0.9516614531074781, 'precision_1': 0.9318076745261211, 'precision_0': 0.9415667262056647, 'auc': 0.917264610764741, 'recall_1': 0.9723796888192016, 'recall_0': 0.8621495327102804, 'f1_0': 0.9001097694840834, 'accuracy': 0.9348500517063082}\n",
      "\n",
      "Best HP {}\n",
      "{'f1_1': 0.9505304565502444, 'precision_1': 0.928937558247903, 'precision_0': 0.9448206671682969, 'auc': 0.9168931121915661, 'recall_1': 0.9731510861606053, 'recall_0': 0.8606351382225268, 'f1_0': 0.9007651841224295, 'accuracy': 0.9339750218757458}\n",
      "\n",
      "Best HP {}\n"
     ]
    },
    {
     "name": "stderr",
     "output_type": "stream",
     "text": [
      "\r",
      "100%|██████████| 11/11 [14:38:27<00:00, 7694.15s/it]  "
     ]
    },
    {
     "name": "stdout",
     "output_type": "stream",
     "text": [
      "{'f1_1': 0.9477728418777763, 'precision_1': 0.9238150965476887, 'precision_0': 0.9456035767511177, 'auc': 0.9134883382584389, 'recall_1': 0.9730062862073215, 'recall_0': 0.8539703903095559, 'f1_0': 0.8974540311173974, 'accuracy': 0.9307930952191552}\n"
     ]
    },
    {
     "name": "stderr",
     "output_type": "stream",
     "text": [
      "\n"
     ]
    }
   ],
   "source": [
    "all_results = []\n",
    "for perc in tqdm([0.01, 0.05, 0.1, 0.2, 0.3, 0.4, 0.5, 0.6, 0.7, 0.8, 0.9]):\n",
    "    print('Training Percentage:', perc)\n",
    "    for n in range(iterations):\n",
    "        print()\n",
    "        new_results = {}\n",
    "        \n",
    "        # Shuffle Data For This Iteration\n",
    "        for i in range(shuffle_times):\n",
    "            all_data.reindex(np.random.permutation(all_data.index))        \n",
    "        all_data = all_data.reset_index(drop=True)\n",
    "\n",
    "        # Train - Test Split (and preprocessing)\n",
    "        X_train, y_train, X_test, y_test = split(perc)\n",
    "        X_train = X_train.reset_index(drop=True)\n",
    "        y_train = y_train.reset_index(drop=True)\n",
    "        '''\n",
    "        # Set Up Cross Validation Groups\n",
    "        div = int(len(X_train)/3)\n",
    "        X_cv1 = X_train.loc[:div]\n",
    "        X_cv2 = X_train.loc[div+1:div*2]\n",
    "        X_cv3 = X_train.loc[(div*2)+1:]\n",
    "        \n",
    "        y_cv1 = y_train.loc[:div]\n",
    "        y_cv2 = y_train.loc[div+1:div*2]\n",
    "        y_cv3 = y_train.loc[(div*2)+1:]\n",
    "        \n",
    "        cv1_X_train = X_cv1.append(X_cv2)\n",
    "        cv1_X_test = X_cv3\n",
    "        cv1_y_train = y_cv1.append(y_cv2)\n",
    "        cv1_y_test = y_cv3\n",
    "        \n",
    "        cv2_X_train = X_cv1.append(X_cv3)\n",
    "        cv2_X_test = X_cv2\n",
    "        cv2_y_train = y_cv1.append(y_cv3)\n",
    "        cv2_y_test = y_cv2\n",
    "\n",
    "        cv3_X_train = X_cv3.append(X_cv2)\n",
    "        cv3_X_test = X_cv1\n",
    "        cv3_y_train = y_cv3.append(y_cv2)\n",
    "        cv3_y_test = y_cv1\n",
    "        \n",
    "        # Hyperparameter Combinations        \n",
    "        hp_combos = list(itertools.product(*hp_list))\n",
    "        best, best_index, best_acc = None, -1, 0\n",
    "        for index,h in enumerate(hp_combos):\n",
    "            hp = {}\n",
    "            for i,v in enumerate(h):\n",
    "                hp[hp_names[i]] = v\n",
    "            \n",
    "            # Cross-Validation\n",
    "            res1 = model(cv1_X_train, cv1_y_train, cv1_X_test, cv1_y_test, hp, False)\n",
    "            res2 = model(cv2_X_train, cv2_y_train, cv2_X_test, cv2_y_test, hp, False)\n",
    "            res3 = model(cv3_X_train, cv3_y_train, cv3_X_test, cv3_y_test, hp, False)\n",
    "            \n",
    "            acc = np.mean([res1['accuracy'], res2['accuracy'], res3['accuracy']])\n",
    "            print(hp, acc)\n",
    "            if acc > best_acc:\n",
    "                best = hp\n",
    "                best_index = index\n",
    "                best_acc = acc\n",
    "        '''\n",
    "        best = {}\n",
    "        # Evaluate on Test Using Best Hyperaparemeters  \n",
    "        print('Best HP', best)\n",
    "        results = model(X_train, y_train, X_test, y_test, best, True)\n",
    "        print(results)\n",
    "        results['train_percentage'] = perc\n",
    "        results['iteration'] = n\n",
    "        results['hyperparameters'] = \"\"\n",
    "        all_results.append(results)"
   ]
  },
  {
   "cell_type": "code",
   "execution_count": 22,
   "metadata": {},
   "outputs": [],
   "source": [
    "results = pd.DataFrame(columns=['train_percentage', 'iteration', 'accuracy', 'auc', 'precision_0', 'precision_1', 'recall_0', 'recall_1', 'f1_0', 'f1_1', 'hyperparameters'])\n",
    "results = results.append(all_results, ignore_index=True, sort=True)"
   ]
  },
  {
   "cell_type": "code",
   "execution_count": 23,
   "metadata": {},
   "outputs": [
    {
     "data": {
      "text/html": [
       "<div>\n",
       "<style scoped>\n",
       "    .dataframe tbody tr th:only-of-type {\n",
       "        vertical-align: middle;\n",
       "    }\n",
       "\n",
       "    .dataframe tbody tr th {\n",
       "        vertical-align: top;\n",
       "    }\n",
       "\n",
       "    .dataframe thead th {\n",
       "        text-align: right;\n",
       "    }\n",
       "</style>\n",
       "<table border=\"1\" class=\"dataframe\">\n",
       "  <thead>\n",
       "    <tr style=\"text-align: right;\">\n",
       "      <th></th>\n",
       "      <th>accuracy</th>\n",
       "      <th>auc</th>\n",
       "      <th>f1_0</th>\n",
       "      <th>f1_1</th>\n",
       "      <th>hyperparameters</th>\n",
       "      <th>iteration</th>\n",
       "      <th>precision_0</th>\n",
       "      <th>precision_1</th>\n",
       "      <th>recall_0</th>\n",
       "      <th>recall_1</th>\n",
       "      <th>train_percentage</th>\n",
       "    </tr>\n",
       "  </thead>\n",
       "  <tbody>\n",
       "    <tr>\n",
       "      <th>0</th>\n",
       "      <td>0.822441</td>\n",
       "      <td>0.790585</td>\n",
       "      <td>0.728328</td>\n",
       "      <td>0.868126</td>\n",
       "      <td></td>\n",
       "      <td>0</td>\n",
       "      <td>0.775230</td>\n",
       "      <td>0.843358</td>\n",
       "      <td>0.686777</td>\n",
       "      <td>0.894393</td>\n",
       "      <td>0.01</td>\n",
       "    </tr>\n",
       "    <tr>\n",
       "      <th>1</th>\n",
       "      <td>0.826604</td>\n",
       "      <td>0.782319</td>\n",
       "      <td>0.718367</td>\n",
       "      <td>0.874742</td>\n",
       "      <td></td>\n",
       "      <td>1</td>\n",
       "      <td>0.822038</td>\n",
       "      <td>0.828284</td>\n",
       "      <td>0.637917</td>\n",
       "      <td>0.926722</td>\n",
       "      <td>0.01</td>\n",
       "    </tr>\n",
       "    <tr>\n",
       "      <th>2</th>\n",
       "      <td>0.818070</td>\n",
       "      <td>0.775300</td>\n",
       "      <td>0.707832</td>\n",
       "      <td>0.867909</td>\n",
       "      <td></td>\n",
       "      <td>2</td>\n",
       "      <td>0.798033</td>\n",
       "      <td>0.825714</td>\n",
       "      <td>0.635950</td>\n",
       "      <td>0.914649</td>\n",
       "      <td>0.01</td>\n",
       "    </tr>\n",
       "    <tr>\n",
       "      <th>3</th>\n",
       "      <td>0.814639</td>\n",
       "      <td>0.779346</td>\n",
       "      <td>0.712970</td>\n",
       "      <td>0.863122</td>\n",
       "      <td></td>\n",
       "      <td>3</td>\n",
       "      <td>0.769231</td>\n",
       "      <td>0.834033</td>\n",
       "      <td>0.664379</td>\n",
       "      <td>0.894314</td>\n",
       "      <td>0.01</td>\n",
       "    </tr>\n",
       "    <tr>\n",
       "      <th>4</th>\n",
       "      <td>0.816326</td>\n",
       "      <td>0.781128</td>\n",
       "      <td>0.715350</td>\n",
       "      <td>0.864421</td>\n",
       "      <td></td>\n",
       "      <td>4</td>\n",
       "      <td>0.771620</td>\n",
       "      <td>0.835405</td>\n",
       "      <td>0.666729</td>\n",
       "      <td>0.895527</td>\n",
       "      <td>0.01</td>\n",
       "    </tr>\n",
       "  </tbody>\n",
       "</table>\n",
       "</div>"
      ],
      "text/plain": [
       "   accuracy       auc      f1_0      f1_1 hyperparameters iteration  \\\n",
       "0  0.822441  0.790585  0.728328  0.868126                         0   \n",
       "1  0.826604  0.782319  0.718367  0.874742                         1   \n",
       "2  0.818070  0.775300  0.707832  0.867909                         2   \n",
       "3  0.814639  0.779346  0.712970  0.863122                         3   \n",
       "4  0.816326  0.781128  0.715350  0.864421                         4   \n",
       "\n",
       "   precision_0  precision_1  recall_0  recall_1  train_percentage  \n",
       "0     0.775230     0.843358  0.686777  0.894393              0.01  \n",
       "1     0.822038     0.828284  0.637917  0.926722              0.01  \n",
       "2     0.798033     0.825714  0.635950  0.914649              0.01  \n",
       "3     0.769231     0.834033  0.664379  0.894314              0.01  \n",
       "4     0.771620     0.835405  0.666729  0.895527              0.01  "
      ]
     },
     "execution_count": 23,
     "metadata": {},
     "output_type": "execute_result"
    }
   ],
   "source": [
    "results.head()"
   ]
  },
  {
   "cell_type": "code",
   "execution_count": 24,
   "metadata": {},
   "outputs": [],
   "source": [
    "results.to_csv(output_file, index=False)"
   ]
  },
  {
   "cell_type": "code",
   "execution_count": null,
   "metadata": {},
   "outputs": [],
   "source": []
  }
 ],
 "metadata": {
  "kernelspec": {
   "display_name": "Python [conda env:caispp]",
   "language": "python",
   "name": "conda-env-caispp-py"
  },
  "language_info": {
   "codemirror_mode": {
    "name": "ipython",
    "version": 3
   },
   "file_extension": ".py",
   "mimetype": "text/x-python",
   "name": "python",
   "nbconvert_exporter": "python",
   "pygments_lexer": "ipython3",
   "version": "3.5.6"
  }
 },
 "nbformat": 4,
 "nbformat_minor": 2
}
