{
 "cells": [
  {
   "cell_type": "code",
   "execution_count": 24,
   "metadata": {},
   "outputs": [],
   "source": [
    "# All as One: Bernoulli NB\n",
    "# Treat All Participants as One\n",
    "# Try with 10% ... 90% for Training (several iterations for each)"
   ]
  },
  {
   "cell_type": "code",
   "execution_count": 25,
   "metadata": {},
   "outputs": [],
   "source": [
    "use_key_features = False\n",
    "shuffle_times = 100\n",
    "iterations = 10\n",
    "output_file = 'bernoulli_nb_results_af.csv'"
   ]
  },
  {
   "cell_type": "code",
   "execution_count": 26,
   "metadata": {},
   "outputs": [],
   "source": [
    "from tqdm import tqdm\n",
    "import pandas as pd\n",
    "import numpy as np\n",
    "from sklearn.model_selection import train_test_split\n",
    "from sklearn.metrics import roc_auc_score\n",
    "from sklearn.metrics import roc_auc_score\n",
    "from sklearn.metrics import accuracy_score\n",
    "from sklearn import metrics\n",
    "from itertools import combinations\n",
    "import itertools\n",
    "import json\n",
    "pd.options.mode.chained_assignment = None"
   ]
  },
  {
   "cell_type": "markdown",
   "metadata": {},
   "source": [
    "# 1 -- Load Data"
   ]
  },
  {
   "cell_type": "code",
   "execution_count": 27,
   "metadata": {},
   "outputs": [],
   "source": [
    "# Windowed Data: 1 Second Overlapping Windows, Feature Median + Variance in Window \n",
    "p5_file = '../../../../../Google Drive File Stream/My Drive/USC Expeditions Year 5/Analysis/Engagement/Data/Master Window/p5_master_window.csv'\n",
    "p7_file = '../../../../../Google Drive File Stream/My Drive/USC Expeditions Year 5/Analysis/Engagement/Data/Master Window/p7_master_window.csv'\n",
    "p9_file = '../../../../../Google Drive File Stream/My Drive/USC Expeditions Year 5/Analysis/Engagement/Data/Master Window/p9_master_window.csv'\n",
    "p11_file = '../../../../../Google Drive File Stream/My Drive/USC Expeditions Year 5/Analysis/Engagement/Data/Master Window/p11_master_window.csv'\n",
    "p12_file = '../../../../../Google Drive File Stream/My Drive/USC Expeditions Year 5/Analysis/Engagement/Data/Master Window/p12_master_window.csv'\n",
    "p17_file = '../../../../../Google Drive File Stream/My Drive/USC Expeditions Year 5/Analysis/Engagement/Data/Master Window/p17_master_window.csv'\n",
    "p18_file = '../../../../../Google Drive File Stream/My Drive/USC Expeditions Year 5/Analysis/Engagement/Data/Master Window/p18_master_window.csv'\n",
    "\n",
    "data5 = pd.read_csv(p5_file)\n",
    "data7 = pd.read_csv(p7_file)\n",
    "data9 = pd.read_csv(p9_file)\n",
    "data11 = pd.read_csv(p11_file)\n",
    "data12 = pd.read_csv(p12_file)\n",
    "data17 = pd.read_csv(p17_file)\n",
    "data18 = pd.read_csv(p18_file)"
   ]
  },
  {
   "cell_type": "code",
   "execution_count": 28,
   "metadata": {},
   "outputs": [],
   "source": [
    "data = [data5, data7, data9, data11, data12, data17, data18]\n",
    "all_data = pd.concat(data, ignore_index=True, sort=True)"
   ]
  },
  {
   "cell_type": "code",
   "execution_count": 29,
   "metadata": {},
   "outputs": [],
   "source": [
    "remove = [\n",
    "'engagement_change',\n",
    "'ros_GAME_STATE',\n",
    "'ros_PARTICIPANT_STATE',\n",
    "'ros_ROBOT_STATE',\n",
    "'ros_activity',\n",
    "'ros_diff_1_change',\n",
    "'ros_diff_2_change',\n",
    "'ros_diff_3_change',\n",
    "'ros_diff_4_change',\n",
    "'ros_diff_5_change',\n",
    "'ros_difficulty',\n",
    "'ros_skill_EM_change',\n",
    "'ros_skill_NC_change',\n",
    "'ros_skill_OS_change',\n",
    "'ros_ts_attempt_var',\n",
    "'ros_games_session_change',\n",
    "'ros_in_game_change',\n",
    "'ros_mistakes_session_change',\n",
    "'ros_mistakes_game_change',\n",
    "'ros_skill',\n",
    "'ros_ts_game_start_var',\n",
    "'ros_ts_robot_talked_var',\n",
    "'ros_game_correct',\n",
    "'ros_game_incorrect',\n",
    "'ros_game_start',\n",
    "'ros_mistake_made',\n",
    "]\n",
    "\n",
    "all_data = all_data.drop(columns=remove)"
   ]
  },
  {
   "cell_type": "code",
   "execution_count": 30,
   "metadata": {},
   "outputs": [],
   "source": [
    "# Remove rows where engagment NaN\n",
    "all_data = all_data[np.isfinite(all_data['engagement'])]\n",
    "\n",
    "# Remove rows where engagment is -1\n",
    "all_data = all_data[all_data['engagement']>=0]"
   ]
  },
  {
   "cell_type": "markdown",
   "metadata": {},
   "source": [
    "# 2 -- Choose Feature Set"
   ]
  },
  {
   "cell_type": "markdown",
   "metadata": {},
   "source": [
    "Feature Dictionary: https://docs.google.com/spreadsheets/d/1ewoVPHwW68Ins0AOVZf-0lsl_wW0_ZzuByuDiNJETBY/edit?usp=sharing"
   ]
  },
  {
   "cell_type": "markdown",
   "metadata": {},
   "source": [
    "### Data Overview"
   ]
  },
  {
   "cell_type": "code",
   "execution_count": 31,
   "metadata": {},
   "outputs": [
    {
     "name": "stdout",
     "output_type": "stream",
     "text": [
      "engagement\n",
      "participant\n",
      "session_num\n",
      "timestamp\n"
     ]
    }
   ],
   "source": [
    "# Main Columns\n",
    "basic_cols = []\n",
    "for i in all_data.columns:\n",
    "    if 'of_' not in i and 'op_' not in i and 'ros_' not in i and 'a_' not in i:\n",
    "        basic_cols.append(i)\n",
    "        \n",
    "basic_cols = sorted(basic_cols)\n",
    "for i in basic_cols:\n",
    "    print(i)"
   ]
  },
  {
   "cell_type": "code",
   "execution_count": 32,
   "metadata": {},
   "outputs": [
    {
     "name": "stdout",
     "output_type": "stream",
     "text": [
      "of_AU01_c\n",
      "of_AU02_c\n",
      "of_AU04_c\n",
      "of_AU05_c\n",
      "of_AU06_c\n",
      "of_AU07_c\n",
      "of_AU09_c\n",
      "of_AU10_c\n",
      "of_AU12_c\n",
      "of_AU14_c\n",
      "of_AU15_c\n",
      "of_AU17_c\n",
      "of_AU20_c\n",
      "of_AU23_c\n",
      "of_AU25_c\n",
      "of_AU26_c\n",
      "of_AU28_c\n",
      "of_AU45_c\n",
      "of_confidence\n",
      "of_gaze_0_x\n",
      "of_gaze_0_y\n",
      "of_gaze_0_z\n",
      "of_gaze_1_x\n",
      "of_gaze_1_y\n",
      "of_gaze_1_z\n",
      "of_gaze_angle_x\n",
      "of_gaze_angle_y\n",
      "of_gaze_distance\n",
      "of_gaze_distance_x\n",
      "of_gaze_distance_y\n",
      "of_pose_Rx\n",
      "of_pose_Ry\n",
      "of_pose_Rz\n",
      "of_pose_Tx\n",
      "of_pose_Ty\n",
      "of_pose_Tz\n",
      "of_pose_distance\n",
      "of_success\n",
      "of_ts_success\n",
      "op_num_people\n"
     ]
    }
   ],
   "source": [
    "# Open Face Columns\n",
    "\n",
    "of_cols = []\n",
    "for i in all_data.columns:\n",
    "    if ('of_' in i or 'op_' in i) and '_change' not in i and '_var' not in i:\n",
    "        of_cols.append(i)\n",
    "        \n",
    "of_cols = sorted(of_cols)\n",
    "for i in of_cols:\n",
    "    print(i)"
   ]
  },
  {
   "cell_type": "code",
   "execution_count": 33,
   "metadata": {},
   "outputs": [
    {
     "name": "stdout",
     "output_type": "stream",
     "text": [
      "a_harmonicity\n",
      "a_intensity\n",
      "a_mfcc_0\n",
      "a_mfcc_1\n",
      "a_pitch_frequency\n",
      "a_pitch_strength\n"
     ]
    }
   ],
   "source": [
    "# Audio Columns\n",
    "\n",
    "a_cols = []\n",
    "for i in all_data.columns:\n",
    "    if 'a_' in i and '_change' not in i and '_var' not in i:\n",
    "        a_cols.append(i)\n",
    "        \n",
    "a_cols = sorted(a_cols)\n",
    "for i in a_cols:\n",
    "    print(i)"
   ]
  },
  {
   "cell_type": "code",
   "execution_count": 34,
   "metadata": {},
   "outputs": [
    {
     "name": "stdout",
     "output_type": "stream",
     "text": [
      "ros_aptitude\n",
      "ros_diff_1\n",
      "ros_diff_2\n",
      "ros_diff_3\n",
      "ros_diff_4\n",
      "ros_diff_5\n",
      "ros_games_session\n",
      "ros_in_game\n",
      "ros_mistakes_game\n",
      "ros_mistakes_session\n",
      "ros_skill_EM\n",
      "ros_skill_NC\n",
      "ros_skill_OS\n",
      "ros_ts_attempt\n",
      "ros_ts_game_start\n",
      "ros_ts_robot_talked\n"
     ]
    }
   ],
   "source": [
    "# ROS Columns\n",
    "\n",
    "ros_cols = []\n",
    "for i in all_data.columns:\n",
    "    if 'ros_' in i and '_change' not in i and '_var' not in i:\n",
    "        ros_cols.append(i)\n",
    "        \n",
    "ros_cols = sorted(ros_cols)\n",
    "for i in ros_cols:\n",
    "    print(i)"
   ]
  },
  {
   "cell_type": "code",
   "execution_count": 35,
   "metadata": {},
   "outputs": [
    {
     "name": "stdout",
     "output_type": "stream",
     "text": [
      "a_harmonicity_var\n",
      "a_intensity_var\n",
      "a_mfcc_0_var\n",
      "a_mfcc_1_var\n",
      "a_pitch_frequency_var\n",
      "a_pitch_strength_var\n",
      "of_AU01_c_change\n",
      "of_AU02_c_change\n",
      "of_AU04_c_change\n",
      "of_AU05_c_change\n",
      "of_AU06_c_change\n",
      "of_AU07_c_change\n",
      "of_AU09_c_change\n",
      "of_AU10_c_change\n",
      "of_AU12_c_change\n",
      "of_AU14_c_change\n",
      "of_AU15_c_change\n",
      "of_AU17_c_change\n",
      "of_AU20_c_change\n",
      "of_AU23_c_change\n",
      "of_AU25_c_change\n",
      "of_AU26_c_change\n",
      "of_AU28_c_change\n",
      "of_AU45_c_change\n",
      "of_confidence_var\n",
      "of_gaze_0_x_var\n",
      "of_gaze_0_y_var\n",
      "of_gaze_0_z_var\n",
      "of_gaze_1_x_var\n",
      "of_gaze_1_y_var\n",
      "of_gaze_1_z_var\n",
      "of_gaze_angle_x_var\n",
      "of_gaze_angle_y_var\n",
      "of_gaze_distance_var\n",
      "of_gaze_distance_x_var\n",
      "of_gaze_distance_y_var\n",
      "of_pose_Rx_var\n",
      "of_pose_Ry_var\n",
      "of_pose_Rz_var\n",
      "of_pose_Tx_var\n",
      "of_pose_Ty_var\n",
      "of_pose_Tz_var\n",
      "of_pose_distance_var\n",
      "of_success_change\n",
      "of_ts_success_var\n",
      "op_num_people_change\n",
      "ros_aptitude_var\n"
     ]
    }
   ],
   "source": [
    "# For Window Only:\n",
    "non_window_features = []\n",
    "window_features = []\n",
    "for i in all_data.columns:\n",
    "    if i not in basic_cols:\n",
    "        if 'change' in i or 'var' in i:\n",
    "            window_features.append(i)\n",
    "        else:\n",
    "            non_window_features.append(i)\n",
    "        \n",
    "window_features = sorted(window_features)\n",
    "for i in window_features:\n",
    "    print(i)"
   ]
  },
  {
   "cell_type": "code",
   "execution_count": 36,
   "metadata": {},
   "outputs": [],
   "source": [
    "# Columns where NaNs filled with max value\n",
    "nan_max_cols = ['of_gaze_0_x',\n",
    "'of_gaze_0_y',\n",
    "'of_gaze_0_z',\n",
    "'of_gaze_1_x',\n",
    "'of_gaze_1_y',\n",
    "'of_gaze_1_z',\n",
    "'of_gaze_angle_x',\n",
    "'of_gaze_angle_y',\n",
    "'of_gaze_distance',\n",
    "'of_gaze_distance_x',\n",
    "'of_gaze_distance_y',\n",
    "'of_pose_Rxv',\n",
    "'of_pose_Ry',\n",
    "'of_pose_Rz',\n",
    "'of_pose_Tx',\n",
    "'of_pose_Ty',\n",
    "'of_pose_Tz',\n",
    "'of_pose_distance']"
   ]
  },
  {
   "cell_type": "code",
   "execution_count": 37,
   "metadata": {},
   "outputs": [],
   "source": [
    "# Key Features (from feature analysis) \n",
    "# Note: Timestamp automatically included\n",
    "\n",
    "key_features = [\n",
    "'op_num_people',\n",
    "'of_pose_distance',\n",
    "'of_gaze_distance',\n",
    "'of_confidence',\n",
    "'ros_mistakes_session',\n",
    "'ros_ts_robot_talked']"
   ]
  },
  {
   "cell_type": "markdown",
   "metadata": {},
   "source": [
    "### Filter Feature Set (Optional)"
   ]
  },
  {
   "cell_type": "code",
   "execution_count": 38,
   "metadata": {},
   "outputs": [],
   "source": [
    "# always include basic_cols, add desired group of features \n",
    "# features_to_keep = all_data.columns\n",
    "\n",
    "if use_key_features:\n",
    "    features_to_keep = basic_cols + key_features\n",
    "else:\n",
    "    features_to_keep = basic_cols + of_cols + ros_cols + a_cols + window_features\n",
    "\n",
    "all_data = all_data[features_to_keep]"
   ]
  },
  {
   "cell_type": "code",
   "execution_count": 39,
   "metadata": {},
   "outputs": [],
   "source": [
    "# All as One Participant: Shuffle Data! \n",
    "\n",
    "for i in range(shuffle_times):\n",
    "    all_data.reindex(np.random.permutation(all_data.index))\n",
    "all_data = all_data.reset_index(drop=True)"
   ]
  },
  {
   "cell_type": "markdown",
   "metadata": {},
   "source": [
    "# 3 -- Scenario Based Modeling"
   ]
  },
  {
   "cell_type": "markdown",
   "metadata": {},
   "source": [
    "- Open Face Success / Failure\n",
    "- Robot Talking / Not Talking\n",
    "- First 10 Minutes / After 10 Minutes"
   ]
  },
  {
   "cell_type": "code",
   "execution_count": 40,
   "metadata": {},
   "outputs": [],
   "source": [
    "# Create Separate Models for Different Scenarios\n",
    "\n",
    "# for i,d in enumerate(data):\n",
    "#     # Open Face Success/Failure\n",
    "#     data[i] = d.loc[d['of_success']==1]\n",
    "#     data[i] = d.loc[d['of_success']==0]\n",
    "    \n",
    "#     # Robot Talking/Not Talking\n",
    "#     data[i] = d.loc[d['ros_ts_robot_talked']==0]\n",
    "#     data[i] = d.loc[d['ros_ts_robot_talked']>0]\n",
    "    \n",
    "#     # First 10 Min/After 10 Min\n",
    "#     data[i] = d.loc[d['timestamp']<=(10*60)]\n",
    "#     data[i] = d.loc[d['timestamp']>(10*60)]"
   ]
  },
  {
   "cell_type": "markdown",
   "metadata": {},
   "source": [
    "# 4 -- Modeling"
   ]
  },
  {
   "cell_type": "code",
   "execution_count": 41,
   "metadata": {},
   "outputs": [],
   "source": [
    "# Function: Formulate Train-Test Split \n",
    "# Includes Preprocessing \n",
    "\n",
    "# split_size: how much data for training\n",
    "def split(split_size):\n",
    "    y_data = all_data['engagement'].copy()\n",
    "    X_data = all_data.drop(columns=['engagement', 'session_num', 'participant'], axis=1).copy()\n",
    "        \n",
    "    X_train, X_test, y_train, y_test = train_test_split(X_data, y_data, test_size=1-split_size, shuffle=True)\n",
    "\n",
    "    # Preprocessing: Standardization\n",
    "    # x' = ( x - mean(x) ) / ( stdev(x) )\n",
    "    # => x' is z-score, NaN's filled with min_val\n",
    "    for c in X_train.columns:\n",
    "        mean = np.nanmean(X_train[c])\n",
    "        std = np.nanstd(X_train[c])\n",
    "\n",
    "        if std == 0:\n",
    "            X_train[c] = (X_train[c]-mean)\n",
    "            X_test[c] = (X_test[c]-mean)\n",
    "        else:\n",
    "            X_train[c] = (X_train[c]-mean)/(std)\n",
    "            X_test[c] = (X_test[c]-mean)/(std)\n",
    "\n",
    "        if c not in nan_max_cols:\n",
    "            min_val = np.nanmin(X_train[c])\n",
    "\n",
    "            X_train[c] = X_train[c].fillna(min_val)\n",
    "            X_test[c] = X_test[c].fillna(min_val)\n",
    "        else:\n",
    "            max_val = np.nanmax(X_train[c])\n",
    "\n",
    "            X_train[c] = X_train[c].fillna(max_val)\n",
    "            X_test[c] = X_test[c].fillna(max_val) \n",
    "\n",
    "    return X_train, y_train, X_test, y_test"
   ]
  },
  {
   "cell_type": "code",
   "execution_count": 42,
   "metadata": {},
   "outputs": [],
   "source": [
    "# MODEL HERE\n",
    "\n",
    "# Inputs: X_train, y_train, X_test, y_test, hp, isVerbose\n",
    "# hp = Hyperparameter Dictionary, isVerbose = whether to return all accuracy metrics\n",
    "\n",
    "# Output: Accuracy Metrics as Dictionary \n",
    "\n",
    "# IMPORTS HERE\n",
    "from sklearn.naive_bayes import BernoulliNB\n",
    "\n",
    "# Hyperparameter Combinations to Try:  \n",
    "\n",
    "def model(X_train, y_train, X_test, y_test, hp, isVerbose):\n",
    "    # Model Here: must create pred & scores arrays\n",
    "    clf = BernoulliNB()\n",
    "    clf.fit(X_train.values, y_train.values)\n",
    "    \n",
    "    pred = clf.predict(X_test.values)\n",
    "    scores = clf.predict_proba(X_test.values)[:,1]    \n",
    "    \n",
    "    # Evaluation\n",
    "    results = {}\n",
    "    accuracy = accuracy_score(y_test, pred)\n",
    "    results['accuracy'] = accuracy\n",
    "    \n",
    "    if isVerbose:\n",
    "        try:\n",
    "            auc = roc_auc_score(y_test, scores)\n",
    "        except:\n",
    "            auc = np.nan\n",
    "        results['auc'] = auc\n",
    "    \n",
    "        precision = metrics.precision_score(y_test, pred, average=None)\n",
    "        recall = metrics.recall_score(y_test, pred, average=None)\n",
    "        f1 = metrics.f1_score(y_test, pred, average=None)\n",
    "\n",
    "        results['precision_0'], results['precision_1'] = precision[0], precision[1]\n",
    "        results['recall_0'], results['recall_1'] = recall[0], recall[1]\n",
    "        results['f1_0'], results['f1_1'] = f1[0], f1[1]\n",
    "    \n",
    "    return results"
   ]
  },
  {
   "cell_type": "code",
   "execution_count": 43,
   "metadata": {},
   "outputs": [
    {
     "name": "stderr",
     "output_type": "stream",
     "text": [
      "\r",
      "  0%|          | 0/11 [00:00<?, ?it/s]"
     ]
    },
    {
     "name": "stdout",
     "output_type": "stream",
     "text": [
      "Training Percentage: 0.01\n",
      "\n",
      "Best HP {}\n",
      "{'recall_0': 0.6920241131463019, 'precision_0': 0.6419261871988988, 'precision_1': 0.8296024527599964, 'f1_1': 0.8120699181274802, 'auc': 0.7942104729412234, 'recall_1': 0.7952630996446095, 'f1_0': 0.6660344096579117, 'accuracy': 0.7594838046107241}\n",
      "\n",
      "Best HP {}\n",
      "{'recall_0': 0.6577354026028255, 'precision_0': 0.6432606574857636, 'precision_1': 0.8164286069775544, 'f1_1': 0.8115314691368711, 'auc': 0.7630171459655206, 'recall_1': 0.8066927294632539, 'f1_0': 0.6504175077995963, 'accuracy': 0.755096465218684}\n",
      "\n",
      "Best HP {}\n",
      "{'recall_0': 0.6749188687992582, 'precision_0': 0.6393921426532271, 'precision_1': 0.8222830494728305, 'f1_1': 0.8099812134489237, 'auc': 0.7682692283624173, 'recall_1': 0.7980420371668573, 'f1_0': 0.6566753498652413, 'accuracy': 0.755361634083038}\n",
      "\n",
      "Best HP {}\n",
      "{'recall_0': 0.674823714974949, 'precision_0': 0.6378784888947356, 'precision_1': 0.8221841704718417, 'f1_1': 0.8093671376040255, 'auc': 0.7682109959650427, 'recall_1': 0.7969435804123585, 'f1_0': 0.6558312011812312, 'accuracy': 0.7546384462711633}\n",
      "\n",
      "Best HP {}\n",
      "{'recall_0': 0.7006884721481722, 'precision_0': 0.640104188725594, 'precision_1': 0.83280458906859, 'f1_1': 0.8113563395295735, 'auc': 0.7916244670917012, 'recall_1': 0.7909851186815889, 'f1_0': 0.6690275672026648, 'accuracy': 0.7596846901140226}\n",
      "\n",
      "Best HP {}\n",
      "{'recall_0': 0.68314236674862, 'precision_0': 0.6428680563134345, 'precision_1': 0.8262710786682606, 'f1_1': 0.812319886978102, 'auc': 0.7789857670075414, 'recall_1': 0.7988319911477224, 'f1_0': 0.6623935948903058, 'accuracy': 0.7587525813787174}\n",
      "\n",
      "Best HP {}\n",
      "{'recall_0': 0.6697988445743718, 'precision_0': 0.6443397910900812, 'precision_1': 0.8213070500345282, 'f1_1': 0.8126191822004682, 'auc': 0.7706545710554289, 'recall_1': 0.8041131927029552, 'f1_0': 0.656822706330698, 'accuracy': 0.7575954808797178}\n",
      "\n",
      "Best HP {}\n",
      "{'recall_0': 0.6725277784221392, 'precision_0': 0.6439375430335607, 'precision_1': 0.8222622315110921, 'f1_1': 0.8124727865344663, 'auc': 0.7727149373010769, 'recall_1': 0.8029136955987214, 'f1_0': 0.6579222075976944, 'accuracy': 0.7577481538622247}\n",
      "\n",
      "Best HP {}\n",
      "{'recall_0': 0.6665120701249913, 'precision_0': 0.6401193737333244, 'precision_1': 0.8192160708000201, 'f1_1': 0.8101619901289207, 'auc': 0.7682128493713442, 'recall_1': 0.8013058554459829, 'f1_0': 0.6530491684086157, 'accuracy': 0.7545982691705035}\n",
      "\n",
      "Best HP {}\n"
     ]
    },
    {
     "name": "stderr",
     "output_type": "stream",
     "text": [
      "\r",
      "  9%|▉         | 1/11 [00:56<09:22, 56.28s/it]"
     ]
    },
    {
     "name": "stdout",
     "output_type": "stream",
     "text": [
      "{'recall_0': 0.6654683767423522, 'precision_0': 0.6434417957975467, 'precision_1': 0.8193748747745943, 'f1_1': 0.8118718515025931, 'auc': 0.7644240541640772, 'recall_1': 0.8045049918851128, 'f1_0': 0.654269752593775, 'accuracy': 0.756333919919003}\n",
      "Training Percentage: 0.05\n",
      "\n",
      "Best HP {}\n",
      "{'recall_0': 0.6708989334687658, 'precision_0': 0.6427479147358666, 'precision_1': 0.8215601683691534, 'f1_1': 0.8119196801720955, 'auc': 0.772815440305763, 'recall_1': 0.8025028179116713, 'f1_0': 0.6565217905785182, 'accuracy': 0.7569355473492937}\n",
      "\n",
      "Best HP {}\n",
      "{'recall_0': 0.6788915464714551, 'precision_0': 0.640660267663756, 'precision_1': 0.8241000529380624, 'f1_1': 0.8108470603554919, 'auc': 0.7748437285068788, 'recall_1': 0.7980135845187748, 'f1_0': 0.6592220710364567, 'accuracy': 0.7567262039339815}\n",
      "\n",
      "Best HP {}\n",
      "{'recall_0': 0.6803874676908955, 'precision_0': 0.6431621492019273, 'precision_1': 0.8250515682022531, 'f1_1': 0.8121859787051259, 'auc': 0.7803597866010166, 'recall_1': 0.7997154721624116, 'f1_0': 0.6612513205775326, 'accuracy': 0.7583507088368042}\n",
      "\n",
      "Best HP {}\n",
      "{'recall_0': 0.6849159308092415, 'precision_0': 0.6410279633193705, 'precision_1': 0.8269373870521952, 'f1_1': 0.8116758617991158, 'auc': 0.7784805081385875, 'recall_1': 0.7969674461491176, 'f1_0': 0.6622456140350876, 'accuracy': 0.7581832341045545}\n",
      "\n",
      "Best HP {}\n",
      "{'recall_0': 0.6817324890027554, 'precision_0': 0.6409143584266854, 'precision_1': 0.8253858802312629, 'f1_1': 0.8112134185678259, 'auc': 0.7711787324328679, 'recall_1': 0.7975194434123029, 'f1_0': 0.6606935806893645, 'accuracy': 0.7574044765995931}\n",
      "\n",
      "Best HP {}\n",
      "{'recall_0': 0.6758793969849246, 'precision_0': 0.6402123666987047, 'precision_1': 0.8228279386712095, 'f1_1': 0.8104870180550496, 'auc': 0.771711508169658, 'recall_1': 0.7985108100834305, 'f1_0': 0.6575625807968034, 'accuracy': 0.7560060625853074}\n",
      "\n",
      "Best HP {}\n",
      "{'recall_0': 0.680283290227454, 'precision_0': 0.6419268754419177, 'precision_1': 0.8249887533409194, 'f1_1': 0.811714010466842, 'auc': 0.7749913133499218, 'recall_1': 0.7988597053171044, 'f1_0': 0.6605487361231723, 'accuracy': 0.757781294747155}\n",
      "\n",
      "Best HP {}\n",
      "{'recall_0': 0.684762387958735, 'precision_0': 0.6414765525982256, 'precision_1': 0.826574690644231, 'f1_1': 0.8115119366856532, 'auc': 0.7743706456495181, 'recall_1': 0.7969883378187876, 'f1_0': 0.6624130879345603, 'accuracy': 0.7580911230018171}\n",
      "\n",
      "Best HP {}\n",
      "{'recall_0': 0.6805196061830233, 'precision_0': 0.6414483434799462, 'precision_1': 0.8252210047112382, 'f1_1': 0.811697017820184, 'auc': 0.7745052852657968, 'recall_1': 0.798609154478625, 'f1_0': 0.6604065918587727, 'accuracy': 0.7577310523274801}\n",
      "\n",
      "Best HP {}\n"
     ]
    },
    {
     "name": "stderr",
     "output_type": "stream",
     "text": [
      "\r",
      " 18%|█▊        | 2/11 [01:49<08:19, 55.51s/it]"
     ]
    },
    {
     "name": "stdout",
     "output_type": "stream",
     "text": [
      "{'recall_0': 0.6779882114213933, 'precision_0': 0.6404399516235767, 'precision_1': 0.8236725839307918, 'f1_1': 0.8106598621300196, 'auc': 0.7726487999140784, 'recall_1': 0.7980519064402435, 'f1_0': 0.6586794024806676, 'accuracy': 0.7564331231525444}\n",
      "Training Percentage: 0.1\n",
      "\n",
      "Best HP {}\n",
      "{'recall_0': 0.6823202305945973, 'precision_0': 0.6407406520228999, 'precision_1': 0.8255473532336914, 'f1_1': 0.81109536064739, 'auc': 0.7740545224692443, 'recall_1': 0.7971406543762596, 'f1_0': 0.6608770846201358, 'accuracy': 0.7573539810493565}\n",
      "\n",
      "Best HP {}\n",
      "{'recall_0': 0.6832780188920092, 'precision_0': 0.6420380943242335, 'precision_1': 0.826368089573128, 'f1_1': 0.8120701986026296, 'auc': 0.7728556162509265, 'recall_1': 0.7982586593840413, 'f1_0': 0.6620164242604135, 'accuracy': 0.7584500070711356}\n",
      "\n",
      "Best HP {}\n",
      "{'recall_0': 0.6808543252771958, 'precision_0': 0.6403940886699507, 'precision_1': 0.8253380126116805, 'f1_1': 0.8113115486375976, 'auc': 0.7735834116844839, 'recall_1': 0.7977538719355624, 'f1_0': 0.660004705474448, 'accuracy': 0.7573097864517041}\n",
      "\n",
      "Best HP {}\n",
      "{'recall_0': 0.6758865067428047, 'precision_0': 0.6435350372581858, 'precision_1': 0.8232620209349848, 'f1_1': 0.8121306035132949, 'auc': 0.775988226809357, 'recall_1': 0.8012961885561974, 'f1_0': 0.6593141521398552, 'accuracy': 0.7578136048649413}\n",
      "\n",
      "Best HP {}\n",
      "{'recall_0': 0.6805754292722813, 'precision_0': 0.6414826232508851, 'precision_1': 0.8254415974307059, 'f1_1': 0.811921848710641, 'auc': 0.775251820229111, 'recall_1': 0.7988378378378378, 'f1_0': 0.6604510457864785, 'accuracy': 0.7579285108188375}\n",
      "\n",
      "Best HP {}\n",
      "{'recall_0': 0.6821895424836601, 'precision_0': 0.6421378962293625, 'precision_1': 0.8259629500174764, 'f1_1': 0.8120940526348346, 'auc': 0.7733726593310665, 'recall_1': 0.7986832143629677, 'f1_0': 0.6615580782133971, 'accuracy': 0.7583527789563004}\n",
      "\n",
      "Best HP {}\n",
      "{'recall_0': 0.6702195476451539, 'precision_0': 0.6415425921405907, 'precision_1': 0.8207881828007649, 'f1_1': 0.8109388369784715, 'auc': 0.7710118862630002, 'recall_1': 0.8013230698467241, 'f1_0': 0.6555676107099655, 'accuracy': 0.7558778814877669}\n",
      "\n",
      "Best HP {}\n",
      "{'recall_0': 0.6784131995722361, 'precision_0': 0.6426590125183916, 'precision_1': 0.8237928484730108, 'f1_1': 0.8114251162918529, 'auc': 0.7747531398823001, 'recall_1': 0.7994232487612033, 'f1_0': 0.6600522710663546, 'accuracy': 0.7574158534860699}\n",
      "\n",
      "Best HP {}\n",
      "{'recall_0': 0.6837600286166896, 'precision_0': 0.6415352159946301, 'precision_1': 0.8267060569572401, 'f1_1': 0.8120616146334755, 'auc': 0.7760249096495103, 'recall_1': 0.7979269709992162, 'f1_0': 0.6619749666056499, 'accuracy': 0.7584323292320747}\n",
      "\n",
      "Best HP {}\n"
     ]
    },
    {
     "name": "stderr",
     "output_type": "stream",
     "text": [
      "\r",
      " 27%|██▋       | 3/11 [02:43<07:19, 54.93s/it]"
     ]
    },
    {
     "name": "stdout",
     "output_type": "stream",
     "text": [
      "{'recall_0': 0.6769920521703688, 'precision_0': 0.6421340034310291, 'precision_1': 0.823272798227153, 'f1_1': 0.8112257860728289, 'auc': 0.7725408562651899, 'recall_1': 0.799526258798051, 'f1_0': 0.6591024639460338, 'accuracy': 0.7570092631876679}\n",
      "Training Percentage: 0.2\n",
      "\n",
      "Best HP {}\n",
      "{'recall_0': 0.6769452449567723, 'precision_0': 0.6414002129809137, 'precision_1': 0.8246848706640393, 'f1_1': 0.8124677405686905, 'auc': 0.7751913399843492, 'recall_1': 0.8006073028163668, 'f1_0': 0.6586935490655189, 'accuracy': 0.7579376522647044}\n",
      "\n",
      "Best HP {}\n",
      "{'recall_0': 0.6776014210405684, 'precision_0': 0.6425156207552296, 'precision_1': 0.8234961963767548, 'f1_1': 0.8113679915930024, 'auc': 0.7733623566881145, 'recall_1': 0.7995918429509146, 'f1_0': 0.6595922692919095, 'accuracy': 0.7572515288619301}\n",
      "\n",
      "Best HP {}\n",
      "{'recall_0': 0.6782691038480301, 'precision_0': 0.6404129074209542, 'precision_1': 0.8238657785597587, 'f1_1': 0.8107473023529047, 'auc': 0.7728334602465622, 'recall_1': 0.7980400511291009, 'f1_0': 0.6587976253518771, 'accuracy': 0.7565355740068612}\n",
      "\n",
      "Best HP {}\n",
      "{'recall_0': 0.6779529371152407, 'precision_0': 0.6409126757499116, 'precision_1': 0.8245132771107001, 'f1_1': 0.811731753049839, 'auc': 0.7737598156320413, 'recall_1': 0.7993404556023281, 'f1_0': 0.6589126696769323, 'accuracy': 0.7573807984885398}\n",
      "\n",
      "Best HP {}\n",
      "{'recall_0': 0.6806746794412094, 'precision_0': 0.6422442958832922, 'precision_1': 0.8250180766449747, 'f1_1': 0.8117103045112201, 'auc': 0.7733619958969226, 'recall_1': 0.7988250334835018, 'f1_0': 0.6609012923351159, 'accuracy': 0.7578680455426838}\n",
      "\n",
      "Best HP {}\n",
      "{'recall_0': 0.6801752778096002, 'precision_0': 0.6425595238095239, 'precision_1': 0.8244320415061709, 'f1_1': 0.8113946183483683, 'auc': 0.7763738197954241, 'recall_1': 0.7987631190117138, 'f1_0': 0.6608325449385052, 'accuracy': 0.7575896186546015}\n",
      "\n",
      "Best HP {}\n",
      "{'recall_0': 0.6772255598033862, 'precision_0': 0.6433818509516918, 'precision_1': 0.8243987114127546, 'f1_1': 0.8127688441436303, 'auc': 0.7748952623946318, 'recall_1': 0.8014625395280953, 'f1_0': 0.6598700425722609, 'accuracy': 0.7584845622234376}\n",
      "\n",
      "Best HP {}\n",
      "{'recall_0': 0.6748079348698544, 'precision_0': 0.640753443301214, 'precision_1': 0.8222695724379965, 'f1_1': 0.8104981931618125, 'auc': 0.7698144661702528, 'recall_1': 0.7990590886253255, 'f1_0': 0.6573399234871966, 'accuracy': 0.7559588325958335}\n",
      "\n",
      "Best HP {}\n",
      "{'recall_0': 0.6773616996742483, 'precision_0': 0.640437188258061, 'precision_1': 0.8247855219487757, 'f1_1': 0.8120722609285406, 'auc': 0.7742069246198073, 'recall_1': 0.799744975408343, 'f1_0': 0.6583821345512623, 'accuracy': 0.7575299557500125}\n",
      "\n",
      "Best HP {}\n"
     ]
    },
    {
     "name": "stderr",
     "output_type": "stream",
     "text": [
      "\r",
      " 36%|███▋      | 4/11 [03:37<06:23, 54.75s/it]"
     ]
    },
    {
     "name": "stdout",
     "output_type": "stream",
     "text": [
      "{'recall_0': 0.6777739509787039, 'precision_0': 0.6425850340136054, 'precision_1': 0.8240695761184674, 'f1_1': 0.811931633960691, 'auc': 0.774597535135851, 'recall_1': 0.8001460675866896, 'f1_0': 0.6597105821879541, 'accuracy': 0.7577487197335057}\n",
      "Training Percentage: 0.3\n",
      "\n",
      "Best HP {}\n",
      "{'recall_0': 0.6758731935345821, 'precision_0': 0.6404129885523566, 'precision_1': 0.8239774027459954, 'f1_1': 0.8117723726156718, 'auc': 0.7730924409164424, 'recall_1': 0.7999236349751814, 'f1_0': 0.6576654494202063, 'accuracy': 0.7570998352179101}\n",
      "\n",
      "Best HP {}\n",
      "{'recall_0': 0.6804851734396966, 'precision_0': 0.6436987784134839, 'precision_1': 0.8244160977362558, 'f1_1': 0.8116708529380551, 'auc': 0.7745795365830399, 'recall_1': 0.7993136845039019, 'f1_0': 0.6615810050538763, 'accuracy': 0.7580089777828286}\n",
      "\n",
      "Best HP {}\n",
      "{'recall_0': 0.6777887139107611, 'precision_0': 0.6432619255199901, 'precision_1': 0.8242452441883356, 'f1_1': 0.8123533873044428, 'auc': 0.7736874398622019, 'recall_1': 0.800799791358776, 'f1_0': 0.6600741261422456, 'accuracy': 0.7581908062958123}\n",
      "\n",
      "Best HP {}\n",
      "{'recall_0': 0.6798213933941821, 'precision_0': 0.6401409757002411, 'precision_1': 0.8247587557727901, 'f1_1': 0.8110013605922994, 'auc': 0.7725812269934449, 'recall_1': 0.7976953960060483, 'f1_0': 0.6593847525635309, 'accuracy': 0.7568952781408035}\n",
      "\n",
      "Best HP {}\n",
      "{'recall_0': 0.6797151857199107, 'precision_0': 0.642345499085243, 'precision_1': 0.8249022351379471, 'f1_1': 0.8119895819538252, 'auc': 0.7755914797715021, 'recall_1': 0.7994749561014621, 'f1_0': 0.6605021921084098, 'accuracy': 0.7579976135007671}\n",
      "\n",
      "Best HP {}\n",
      "{'recall_0': 0.6785784732724045, 'precision_0': 0.6414631114426005, 'precision_1': 0.8248383109088628, 'f1_1': 0.8120359101892516, 'auc': 0.7733366560480022, 'recall_1': 0.7996248502006009, 'f1_0': 0.6594990095213751, 'accuracy': 0.757781692141599}\n",
      "\n",
      "Best HP {}\n",
      "{'recall_0': 0.6745529122231337, 'precision_0': 0.641984947378283, 'precision_1': 0.8228105906313645, 'f1_1': 0.8116023754559714, 'auc': 0.7740108575852205, 'recall_1': 0.8006954102920724, 'f1_0': 0.6578661034306196, 'accuracy': 0.7570089209614183}\n",
      "\n",
      "Best HP {}\n",
      "{'recall_0': 0.6775085593889913, 'precision_0': 0.6410615830296233, 'precision_1': 0.8247334144421384, 'f1_1': 0.8121856031574033, 'auc': 0.7746763882091008, 'recall_1': 0.8000138843089953, 'f1_0': 0.6587813505337794, 'accuracy': 0.7577248707312916}\n",
      "\n",
      "Best HP {}\n",
      "{'recall_0': 0.6779644333617691, 'precision_0': 0.6408920318848671, 'precision_1': 0.8239588190981812, 'f1_1': 0.8111343591916731, 'auc': 0.7726196393559654, 'recall_1': 0.79870299215884, 'f1_0': 0.6589071892090117, 'accuracy': 0.756883913858742}\n",
      "\n",
      "Best HP {}\n"
     ]
    },
    {
     "name": "stderr",
     "output_type": "stream",
     "text": [
      "\r",
      " 45%|████▌     | 5/11 [04:31<05:26, 54.34s/it]"
     ]
    },
    {
     "name": "stdout",
     "output_type": "stream",
     "text": [
      "{'recall_0': 0.6792892036326678, 'precision_0': 0.6393766394074989, 'precision_1': 0.8240330994783235, 'f1_1': 0.8101588199922183, 'auc': 0.7737478899516329, 'recall_1': 0.7967440080704074, 'f1_0': 0.6587288970845387, 'accuracy': 0.7560315927041309}\n",
      "Training Percentage: 0.4\n",
      "\n",
      "Best HP {}\n",
      "{'recall_0': 0.6763907474670235, 'precision_0': 0.6399811887277068, 'precision_1': 0.8228584583830393, 'f1_1': 0.8102421432251417, 'auc': 0.7697455623622251, 'recall_1': 0.7980068602975502, 'f1_0': 0.6576824417264583, 'accuracy': 0.7558336868901145}\n",
      "\n",
      "Best HP {}\n",
      "{'recall_0': 0.6779467245912885, 'precision_0': 0.6446119284006088, 'precision_1': 0.8232969514490026, 'f1_1': 0.8117803502767785, 'auc': 0.7746085007142542, 'recall_1': 0.8005815017384056, 'f1_0': 0.6608592284403498, 'accuracy': 0.7579152524395418}\n",
      "\n",
      "Best HP {}\n",
      "{'recall_0': 0.6761959433601225, 'precision_0': 0.6433981501711455, 'precision_1': 0.8235895083607856, 'f1_1': 0.8123097803734475, 'auc': 0.7737581136267906, 'recall_1': 0.8013348480545299, 'f1_0': 0.659389461113599, 'accuracy': 0.7579815443360204}\n",
      "\n",
      "Best HP {}\n",
      "{'recall_0': 0.6744622934478396, 'precision_0': 0.6392674152403793, 'precision_1': 0.8227533660369482, 'f1_1': 0.8106040351274089, 'auc': 0.7692679241343126, 'recall_1': 0.7988082933057701, 'f1_0': 0.6563934181560389, 'accuracy': 0.7558071701315231}\n",
      "\n",
      "Best HP {}\n",
      "{'recall_0': 0.6798606591892202, 'precision_0': 0.6417807971669136, 'precision_1': 0.824862306548554, 'f1_1': 0.8116885793183035, 'auc': 0.7722395412174103, 'recall_1': 0.7989290278087665, 'f1_0': 0.660272139192505, 'accuracy': 0.7576898599915146}\n",
      "\n",
      "Best HP {}\n",
      "{'recall_0': 0.676926010678871, 'precision_0': 0.6431030109786586, 'precision_1': 0.8228750653423942, 'f1_1': 0.8111801626317905, 'auc': 0.7747754154608182, 'recall_1': 0.7998130233314364, 'f1_0': 0.6595811887994946, 'accuracy': 0.7570932329232075}\n",
      "\n",
      "Best HP {}\n",
      "{'recall_0': 0.6765514082894436, 'precision_0': 0.6407967032967034, 'precision_1': 0.8225502512562815, 'f1_1': 0.8101503371759707, 'auc': 0.7734582358579103, 'recall_1': 0.7981187273983178, 'f1_0': 0.6581888389707794, 'accuracy': 0.7558867204072974}\n",
      "\n",
      "Best HP {}\n",
      "{'recall_0': 0.6789601199861555, 'precision_0': 0.6400449535962877, 'precision_1': 0.8255016722408027, 'f1_1': 0.8120829520568367, 'auc': 0.7748680378320232, 'recall_1': 0.7990935027619838, 'f1_0': 0.6589284714576297, 'accuracy': 0.757676601612219}\n",
      "\n",
      "Best HP {}\n",
      "{'recall_0': 0.6778356437160143, 'precision_0': 0.6426911625880474, 'precision_1': 0.8242972306921181, 'f1_1': 0.8121861881636349, 'auc': 0.7740906760363553, 'recall_1': 0.8004258771040357, 'f1_0': 0.6597957357984195, 'accuracy': 0.7579815443360204}\n",
      "\n",
      "Best HP {}\n"
     ]
    },
    {
     "name": "stderr",
     "output_type": "stream",
     "text": [
      "\r",
      " 55%|█████▍    | 6/11 [05:24<04:30, 54.09s/it]"
     ]
    },
    {
     "name": "stdout",
     "output_type": "stream",
     "text": [
      "{'recall_0': 0.6789289961256665, 'precision_0': 0.6428286056731922, 'precision_1': 0.8252281221941492, 'f1_1': 0.8128046397795283, 'auc': 0.7759560301886432, 'recall_1': 0.80074967075271, 'f1_0': 0.6603858064997575, 'accuracy': 0.7586444633008061}\n",
      "Training Percentage: 0.5\n",
      "\n",
      "Best HP {}\n",
      "{'recall_0': 0.6780969891978855, 'precision_0': 0.6405001736714137, 'precision_1': 0.8241380176288893, 'f1_1': 0.811132119774095, 'auc': 0.7729660209013889, 'recall_1': 0.7985303421091051, 'f1_0': 0.6587625873579387, 'accuracy': 0.7568453375336102}\n",
      "\n",
      "Best HP {}\n",
      "{'recall_0': 0.6792539931677593, 'precision_0': 0.6403237738804995, 'precision_1': 0.8257511160154487, 'f1_1': 0.8123357799296861, 'auc': 0.7735503655143049, 'recall_1': 0.7993493724357262, 'f1_0': 0.6592146233283305, 'accuracy': 0.7579590473008448}\n",
      "\n",
      "Best HP {}\n",
      "{'recall_0': 0.6820074111350016, 'precision_0': 0.642088035145146, 'precision_1': 0.8246247003910685, 'f1_1': 0.8107256694241526, 'auc': 0.7755092908603071, 'recall_1': 0.7972874079133532, 'f1_0': 0.6614459702287196, 'accuracy': 0.7571953606033125}\n",
      "\n",
      "Best HP {}\n",
      "{'recall_0': 0.674638947658909, 'precision_0': 0.6383497258247018, 'precision_1': 0.8225956112852665, 'f1_1': 0.8100412416960956, 'auc': 0.7714456647330541, 'recall_1': 0.7978643185522123, 'f1_0': 0.6559928443649373, 'accuracy': 0.7552384134408858}\n",
      "\n",
      "Best HP {}\n",
      "{'recall_0': 0.678223984508276, 'precision_0': 0.6382332523429365, 'precision_1': 0.8246702675543274, 'f1_1': 0.8108288357272536, 'auc': 0.7718253686548942, 'recall_1': 0.7974443688659995, 'f1_0': 0.657621208395735, 'accuracy': 0.7563043927895248}\n",
      "\n",
      "Best HP {}\n",
      "{'recall_0': 0.6744399981601582, 'precision_0': 0.639300662713638, 'precision_1': 0.8226820652854674, 'f1_1': 0.8105493095064731, 'auc': 0.7711250896929578, 'recall_1': 0.7987692158007395, 'f1_0': 0.656400384985563, 'accuracy': 0.7557634480454394}\n",
      "\n",
      "Best HP {}\n",
      "{'recall_0': 0.6733921233667297, 'precision_0': 0.6379302803656564, 'precision_1': 0.823105776444111, 'f1_1': 0.8108986992510839, 'auc': 0.7690278119773948, 'recall_1': 0.7990484051075399, 'f1_0': 0.6551817079196801, 'accuracy': 0.7557475379059074}\n",
      "\n",
      "Best HP {}\n",
      "{'recall_0': 0.671590439928437, 'precision_0': 0.6412334107135036, 'precision_1': 0.821123382139823, 'f1_1': 0.8106714687453747, 'auc': 0.7684693987094806, 'recall_1': 0.8004822916159205, 'f1_0': 0.656060945552319, 'accuracy': 0.7557793581849713}\n",
      "\n",
      "Best HP {}\n",
      "{'recall_0': 0.6822714681440443, 'precision_0': 0.641684759009987, 'precision_1': 0.8271852949300655, 'f1_1': 0.8131973931075344, 'auc': 0.7761837639538349, 'recall_1': 0.7996747020124778, 'f1_0': 0.6613560080554933, 'accuracy': 0.7592159483238669}\n",
      "\n",
      "Best HP {}\n"
     ]
    },
    {
     "name": "stderr",
     "output_type": "stream",
     "text": [
      "\r",
      " 64%|██████▎   | 7/11 [06:17<03:34, 53.62s/it]"
     ]
    },
    {
     "name": "stdout",
     "output_type": "stream",
     "text": [
      "{'recall_0': 0.6775515843773029, 'precision_0': 0.6393029420711833, 'precision_1': 0.8242809095928919, 'f1_1': 0.8110591111714803, 'auc': 0.7725863183735886, 'recall_1': 0.7982547823339248, 'f1_0': 0.6578717885651677, 'accuracy': 0.7565589550220355}\n",
      "Training Percentage: 0.6\n",
      "\n",
      "Best HP {}\n",
      "{'recall_0': 0.681763319731019, 'precision_0': 0.6471358428805237, 'precision_1': 0.8267142365349106, 'f1_1': 0.8148433764671408, 'auc': 0.777304389685985, 'recall_1': 0.8033085999270162, 'f1_0': 0.66399843264575, 'accuracy': 0.7612513175427083}\n",
      "\n",
      "Best HP {}\n",
      "{'recall_0': 0.677939825447864, 'precision_0': 0.6429427140056633, 'precision_1': 0.8242739434192801, 'f1_1': 0.8122125150495478, 'auc': 0.7752472603318962, 'recall_1': 0.8004989807405605, 'f1_0': 0.6599776411403019, 'accuracy': 0.7580494401686455}\n",
      "\n",
      "Best HP {}\n",
      "{'recall_0': 0.6772278358166353, 'precision_0': 0.642563102589102, 'precision_1': 0.8223185946387606, 'f1_1': 0.8102868998405252, 'auc': 0.7714287279098059, 'recall_1': 0.79860220960752, 'f1_0': 0.6594402290224853, 'accuracy': 0.7563192331404252}\n",
      "\n",
      "Best HP {}\n",
      "{'recall_0': 0.675539527162402, 'precision_0': 0.6393433741467115, 'precision_1': 0.8219010212097407, 'f1_1': 0.8093256393199153, 'auc': 0.7717000915479031, 'recall_1': 0.7971292740903273, 'f1_0': 0.6569432460266652, 'accuracy': 0.7548873376687947}\n",
      "\n",
      "Best HP {}\n",
      "{'recall_0': 0.6815315831709274, 'precision_0': 0.6425984975409393, 'precision_1': 0.8251730648206419, 'f1_1': 0.8116749462215825, 'auc': 0.7756238130227737, 'recall_1': 0.7986113225934159, 'f1_0': 0.661492670171632, 'accuracy': 0.7579897778573276}\n",
      "\n",
      "Best HP {}\n",
      "{'recall_0': 0.6715366105190788, 'precision_0': 0.6415786304669112, 'precision_1': 0.8209220965827451, 'f1_1': 0.8106040744567647, 'auc': 0.7729246376675316, 'recall_1': 0.8005422035395534, 'f1_0': 0.6562158833244688, 'accuracy': 0.7557623849014578}\n",
      "\n",
      "Best HP {}\n",
      "{'recall_0': 0.67204826199368, 'precision_0': 0.6431163404442489, 'precision_1': 0.8221529833307368, 'f1_1': 0.8122450864205131, 'auc': 0.7706669861238155, 'recall_1': 0.8025731492183222, 'f1_0': 0.6572640687775686, 'accuracy': 0.7573931547441481}\n",
      "\n",
      "Best HP {}\n",
      "{'recall_0': 0.6754928931682714, 'precision_0': 0.6392580137766448, 'precision_1': 0.8222068705645921, 'f1_1': 0.8096349778141959, 'auc': 0.7708442662089852, 'recall_1': 0.7974417542256739, 'f1_0': 0.6568761320886165, 'accuracy': 0.7551259869140664}\n",
      "\n",
      "Best HP {}\n",
      "{'recall_0': 0.6807023623866458, 'precision_0': 0.6421643417611159, 'precision_1': 0.8268767028906079, 'f1_1': 0.813639235142756, 'auc': 0.7741347714871164, 'recall_1': 0.8008189262966333, 'f1_0': 0.6608720033646431, 'accuracy': 0.7594614482031701}\n",
      "\n",
      "Best HP {}\n"
     ]
    },
    {
     "name": "stderr",
     "output_type": "stream",
     "text": [
      "\r",
      " 73%|███████▎  | 8/11 [07:09<02:39, 53.10s/it]"
     ]
    },
    {
     "name": "stdout",
     "output_type": "stream",
     "text": [
      "{'recall_0': 0.6758608874421792, 'precision_0': 0.6436262780073961, 'precision_1': 0.8220410722683806, 'f1_1': 0.8108927273570755, 'auc': 0.7750655883174421, 'recall_1': 0.8000427193946051, 'f1_0': 0.6593498426140003, 'accuracy': 0.7567965316309687}\n",
      "Training Percentage: 0.7\n",
      "\n",
      "Best HP {}\n",
      "{'recall_0': 0.6826783114992722, 'precision_0': 0.643114896073903, 'precision_1': 0.8263749161636486, 'f1_1': 0.8126971039884571, 'auc': 0.7762050372598214, 'recall_1': 0.7994646984873677, 'f1_0': 0.6623062915753095, 'accuracy': 0.7590422146796776}\n",
      "\n",
      "Best HP {}\n",
      "{'recall_0': 0.6814916704875439, 'precision_0': 0.649101099061067, 'precision_1': 0.8261377382889084, 'f1_1': 0.8150373464474577, 'auc': 0.7768550962720191, 'recall_1': 0.8042313002517665, 'f1_0': 0.6649021435228332, 'accuracy': 0.7616408570216376}\n",
      "\n",
      "Best HP {}\n",
      "{'recall_0': 0.6758625930992552, 'precision_0': 0.6426971164269711, 'precision_1': 0.8213612565445026, 'f1_1': 0.8098453406017057, 'auc': 0.772268659107386, 'recall_1': 0.7986478781461269, 'f1_0': 0.6588627523615485, 'accuracy': 0.7558071701315231}\n",
      "\n",
      "Best HP {}\n",
      "{'recall_0': 0.6806908094948265, 'precision_0': 0.6472545757071547, 'precision_1': 0.8243124450583951, 'f1_1': 0.8127618300761501, 'auc': 0.7764206154907005, 'recall_1': 0.8015304461087593, 'f1_0': 0.6635517484332704, 'accuracy': 0.7594134492999576}\n",
      "\n",
      "Best HP {}\n",
      "{'recall_0': 0.6786232160573914, 'precision_0': 0.6454235319735792, 'precision_1': 0.824065176519741, 'f1_1': 0.812623599208965, 'auc': 0.7745591466470887, 'recall_1': 0.8014953878662278, 'f1_0': 0.6616071428571428, 'accuracy': 0.7588035638523547}\n",
      "\n",
      "Best HP {}\n",
      "{'recall_0': 0.6776612841509145, 'precision_0': 0.6391194514615662, 'precision_1': 0.8234480445990695, 'f1_1': 0.8100696878479239, 'auc': 0.77020293975322, 'recall_1': 0.7971190910935281, 'f1_0': 0.6578263130525221, 'accuracy': 0.7557276198557489}\n",
      "\n",
      "Best HP {}\n",
      "{'recall_0': 0.6794339332410398, 'precision_0': 0.6368223760092272, 'precision_1': 0.8251677852348993, 'f1_1': 0.8103810504634398, 'auc': 0.7720023912518268, 'recall_1': 0.7961149332254148, 'f1_0': 0.6574384163131651, 'accuracy': 0.7558867204072974}\n",
      "\n",
      "Best HP {}\n",
      "{'recall_0': 0.6732567049808429, 'precision_0': 0.6390747745126564, 'precision_1': 0.8220664329828076, 'f1_1': 0.8102661127791717, 'auc': 0.769182454835351, 'recall_1': 0.7987997729300138, 'f1_0': 0.6557205761624002, 'accuracy': 0.7553563852354688}\n",
      "\n",
      "Best HP {}\n",
      "{'recall_0': 0.6826695206788472, 'precision_0': 0.6453711064537111, 'precision_1': 0.8261361256544503, 'f1_1': 0.8132602152311055, 'auc': 0.7759506960610332, 'recall_1': 0.8007795055011977, 'f1_0': 0.6634965450627833, 'accuracy': 0.759811200678829}\n",
      "\n",
      "Best HP {}\n"
     ]
    },
    {
     "name": "stderr",
     "output_type": "stream",
     "text": [
      "\r",
      " 82%|████████▏ | 9/11 [08:01<01:45, 52.75s/it]"
     ]
    },
    {
     "name": "stdout",
     "output_type": "stream",
     "text": [
      "{'recall_0': 0.6784062885326757, 'precision_0': 0.6434000877064756, 'precision_1': 0.8263420724094881, 'f1_1': 0.8143788705245458, 'auc': 0.7748639645133497, 'recall_1': 0.8027571151358344, 'f1_0': 0.6604396428839372, 'accuracy': 0.7599703012303776}\n",
      "Training Percentage: 0.8\n",
      "\n",
      "Best HP {}\n",
      "{'recall_0': 0.6780074314909429, 'precision_0': 0.6391899288451013, 'precision_1': 0.8267632910601612, 'f1_1': 0.8134738912622553, 'auc': 0.7740053904159955, 'recall_1': 0.8006049606775559, 'f1_0': 0.6580267087395053, 'accuracy': 0.7586110890143982}\n",
      "\n",
      "Best HP {}\n",
      "{'recall_0': 0.6672072280783041, 'precision_0': 0.6386517352256348, 'precision_1': 0.8218073559511258, 'f1_1': 0.8120862956607011, 'auc': 0.7698463664575701, 'recall_1': 0.8025925252892362, 'f1_0': 0.6526172671651936, 'accuracy': 0.7561053217723331}\n",
      "\n",
      "Best HP {}\n",
      "{'recall_0': 0.6775500752576126, 'precision_0': 0.6409638554216868, 'precision_1': 0.8260679490382213, 'f1_1': 0.8135436848417751, 'auc': 0.7750473584741076, 'recall_1': 0.8013935171160255, 'f1_0': 0.6587493668036247, 'accuracy': 0.7588497335136425}\n",
      "\n",
      "Best HP {}\n",
      "{'recall_0': 0.6804455161327363, 'precision_0': 0.641897746967071, 'precision_1': 0.825078566939032, 'f1_1': 0.8117366972760721, 'auc': 0.7740017945149382, 'recall_1': 0.7988194486703585, 'f1_0': 0.6606097764896047, 'accuracy': 0.7578156073502506}\n",
      "\n",
      "Best HP {}\n",
      "{'recall_0': 0.6729967577582214, 'precision_0': 0.6367221735319895, 'precision_1': 0.8236543024853253, 'f1_1': 0.8111931119311193, 'auc': 0.7706214260262819, 'recall_1': 0.7991033563552647, 'f1_0': 0.6543571267732493, 'accuracy': 0.7557871291066741}\n",
      "\n",
      "Best HP {}\n",
      "{'recall_0': 0.6824455343903274, 'precision_0': 0.6427113546030723, 'precision_1': 0.8241647192572475, 'f1_1': 0.8102955787382017, 'auc': 0.7748574921395902, 'recall_1': 0.7968854961832061, 'f1_0': 0.661982739544147, 'accuracy': 0.7569803516028956}\n",
      "\n",
      "Best HP {}\n",
      "{'recall_0': 0.6798532278408439, 'precision_0': 0.6399352401511064, 'precision_1': 0.8241481388171569, 'f1_1': 0.8102668895906866, 'auc': 0.7747297923368435, 'recall_1': 0.7968455027099446, 'f1_0': 0.6592905593239186, 'accuracy': 0.7562644181051627}\n",
      "\n",
      "Best HP {}\n",
      "{'recall_0': 0.6874715261958998, 'precision_0': 0.6481262750993235, 'precision_1': 0.8266472929433318, 'f1_1': 0.8129601441396664, 'auc': 0.7765295559548362, 'recall_1': 0.7997188607749663, 'f1_0': 0.6672193666058696, 'accuracy': 0.7605202450083526}\n",
      "\n",
      "Best HP {}\n",
      "{'recall_0': 0.6813657407407407, 'precision_0': 0.6401696389734667, 'precision_1': 0.8273548225260253, 'f1_1': 0.8131780078895464, 'auc': 0.7768015598277649, 'recall_1': 0.7994788510483578, 'f1_0': 0.6601255886970172, 'accuracy': 0.7588895075968499}\n",
      "\n",
      "Best HP {}\n"
     ]
    },
    {
     "name": "stderr",
     "output_type": "stream",
     "text": [
      "\r",
      " 91%|█████████ | 10/11 [08:54<00:53, 53.02s/it]"
     ]
    },
    {
     "name": "stdout",
     "output_type": "stream",
     "text": [
      "{'recall_0': 0.6680914972273567, 'precision_0': 0.6375964718853363, 'precision_1': 0.8212419113987058, 'f1_1': 0.810799189139382, 'auc': 0.7689917976110576, 'recall_1': 0.8006187067815116, 'f1_0': 0.6524878709240663, 'accuracy': 0.7549916474425264}\n",
      "Training Percentage: 0.9\n",
      "\n",
      "Best HP {}\n",
      "{'recall_0': 0.6769983686786297, 'precision_0': 0.6394453004622496, 'precision_1': 0.827354260089686, 'f1_1': 0.814569536423841, 'auc': 0.7750259502812875, 'recall_1': 0.8021739130434783, 'f1_0': 0.6576862123613313, 'accuracy': 0.7594463447617532}\n",
      "\n",
      "Best HP {}\n",
      "{'recall_0': 0.6739811912225705, 'precision_0': 0.6615384615384615, 'precision_1': 0.8184764991896273, 'f1_1': 0.8142130720575468, 'auc': 0.7752647393024767, 'recall_1': 0.8099938309685379, 'f1_0': 0.6677018633540373, 'accuracy': 0.7616736934213666}\n",
      "\n",
      "Best HP {}\n",
      "{'recall_0': 0.6767630057803469, 'precision_0': 0.6385253054101222, 'precision_1': 0.8249655690497057, 'f1_1': 0.8118031171071275, 'auc': 0.7688527771040504, 'recall_1': 0.7990540868299781, 'f1_0': 0.6570883376360983, 'accuracy': 0.7569803516028956}\n",
      "\n",
      "Best HP {}\n",
      "{'recall_0': 0.6661938534278959, 'precision_0': 0.6248337028824834, 'precision_1': 0.8248356283339536, 'f1_1': 0.8107547860017071, 'auc': 0.7668393163396058, 'recall_1': 0.7971466251049035, 'f1_0': 0.6448512585812358, 'accuracy': 0.7530824914485721}\n",
      "\n",
      "Best HP {}\n",
      "{'recall_0': 0.6867088607594937, 'precision_0': 0.6458333333333334, 'precision_1': 0.8238210245328588, 'f1_1': 0.8094167603347071, 'auc': 0.7751831540959286, 'recall_1': 0.795507548790966, 'f1_0': 0.6656441717791411, 'accuracy': 0.7572189961021398}\n",
      "\n",
      "Best HP {}\n",
      "{'recall_0': 0.673958093483767, 'precision_0': 0.6392225376719808, 'precision_1': 0.8228228228228228, 'f1_1': 0.8108508014796548, 'auc': 0.7705466029129961, 'recall_1': 0.7992221682061255, 'f1_0': 0.6561309123514908, 'accuracy': 0.7559462254395036}\n",
      "\n",
      "Best HP {}\n",
      "{'recall_0': 0.6822451317296678, 'precision_0': 0.6419486958396206, 'precision_1': 0.8251386787695411, 'f1_1': 0.8111290122691784, 'auc': 0.7727371417388278, 'recall_1': 0.7975871313672922, 'f1_0': 0.6614837849844514, 'accuracy': 0.7575371887677989}\n",
      "\n",
      "Best HP {}\n",
      "{'recall_0': 0.6764440433212996, 'precision_0': 0.6461206896551724, 'precision_1': 0.8191905182196444, 'f1_1': 0.8085874299937772, 'auc': 0.7746849721424189, 'recall_1': 0.7982553139206291, 'f1_0': 0.6609347442680776, 'accuracy': 0.7553098401081855}\n",
      "\n",
      "Best HP {}\n",
      "{'recall_0': 0.6763085399449036, 'precision_0': 0.6373864128083081, 'precision_1': 0.8226191973833187, 'f1_1': 0.8090819104182133, 'auc': 0.7698960919995059, 'recall_1': 0.7959829580036518, 'f1_0': 0.6562708843840499, 'accuracy': 0.7545143584440379}\n",
      "\n",
      "Best HP {}\n"
     ]
    },
    {
     "name": "stderr",
     "output_type": "stream",
     "text": [
      "\r",
      "100%|██████████| 11/11 [09:47<00:00, 53.06s/it]"
     ]
    },
    {
     "name": "stdout",
     "output_type": "stream",
     "text": [
      "{'recall_0': 0.6611834589901759, 'precision_0': 0.6338151554971528, 'precision_1': 0.8147407870081199, 'f1_1': 0.8052348910426569, 'auc': 0.7632853106545971, 'recall_1': 0.7959482548206004, 'f1_0': 0.647210108464721, 'accuracy': 0.7490255349614191}\n"
     ]
    },
    {
     "name": "stderr",
     "output_type": "stream",
     "text": [
      "\n"
     ]
    }
   ],
   "source": [
    "all_results = []\n",
    "for perc in tqdm([0.01, 0.05, 0.1, 0.2, 0.3, 0.4, 0.5, 0.6, 0.7, 0.8, 0.9]):\n",
    "    print('Training Percentage:', perc)\n",
    "    for n in range(iterations):\n",
    "        print()\n",
    "        new_results = {}\n",
    "        \n",
    "        # Shuffle Data For This Iteration\n",
    "        for i in range(shuffle_times):\n",
    "            all_data.reindex(np.random.permutation(all_data.index))        \n",
    "        all_data = all_data.reset_index(drop=True)\n",
    "\n",
    "        # Train - Test Split (and preprocessing)\n",
    "        X_train, y_train, X_test, y_test = split(perc)\n",
    "        X_train = X_train.reset_index(drop=True)\n",
    "        y_train = y_train.reset_index(drop=True)\n",
    "\n",
    "        # Evaluate on Test Using Best Hyperaparemeters  \n",
    "        best = {}\n",
    "        print('Best HP', best)\n",
    "        results = model(X_train, y_train, X_test, y_test, best, True)\n",
    "        print(results)\n",
    "        results['train_percentage'] = perc\n",
    "        results['iteration'] = n\n",
    "        results['hyperparameters'] = json.dumps(best)\n",
    "        all_results.append(results)"
   ]
  },
  {
   "cell_type": "code",
   "execution_count": 44,
   "metadata": {},
   "outputs": [],
   "source": [
    "results = pd.DataFrame(columns=['train_percentage', 'iteration', 'accuracy', 'auc', 'precision_0', 'precision_1', 'recall_0', 'recall_1', 'f1_0', 'f1_1', 'hyperparameters'])\n",
    "results = results.append(all_results, ignore_index=True, sort=True)"
   ]
  },
  {
   "cell_type": "code",
   "execution_count": 45,
   "metadata": {},
   "outputs": [
    {
     "data": {
      "text/html": [
       "<div>\n",
       "<style scoped>\n",
       "    .dataframe tbody tr th:only-of-type {\n",
       "        vertical-align: middle;\n",
       "    }\n",
       "\n",
       "    .dataframe tbody tr th {\n",
       "        vertical-align: top;\n",
       "    }\n",
       "\n",
       "    .dataframe thead th {\n",
       "        text-align: right;\n",
       "    }\n",
       "</style>\n",
       "<table border=\"1\" class=\"dataframe\">\n",
       "  <thead>\n",
       "    <tr style=\"text-align: right;\">\n",
       "      <th></th>\n",
       "      <th>accuracy</th>\n",
       "      <th>auc</th>\n",
       "      <th>f1_0</th>\n",
       "      <th>f1_1</th>\n",
       "      <th>hyperparameters</th>\n",
       "      <th>iteration</th>\n",
       "      <th>precision_0</th>\n",
       "      <th>precision_1</th>\n",
       "      <th>recall_0</th>\n",
       "      <th>recall_1</th>\n",
       "      <th>train_percentage</th>\n",
       "    </tr>\n",
       "  </thead>\n",
       "  <tbody>\n",
       "    <tr>\n",
       "      <th>0</th>\n",
       "      <td>0.759484</td>\n",
       "      <td>0.794210</td>\n",
       "      <td>0.666034</td>\n",
       "      <td>0.812070</td>\n",
       "      <td>{}</td>\n",
       "      <td>0</td>\n",
       "      <td>0.641926</td>\n",
       "      <td>0.829602</td>\n",
       "      <td>0.692024</td>\n",
       "      <td>0.795263</td>\n",
       "      <td>0.01</td>\n",
       "    </tr>\n",
       "    <tr>\n",
       "      <th>1</th>\n",
       "      <td>0.755096</td>\n",
       "      <td>0.763017</td>\n",
       "      <td>0.650418</td>\n",
       "      <td>0.811531</td>\n",
       "      <td>{}</td>\n",
       "      <td>1</td>\n",
       "      <td>0.643261</td>\n",
       "      <td>0.816429</td>\n",
       "      <td>0.657735</td>\n",
       "      <td>0.806693</td>\n",
       "      <td>0.01</td>\n",
       "    </tr>\n",
       "    <tr>\n",
       "      <th>2</th>\n",
       "      <td>0.755362</td>\n",
       "      <td>0.768269</td>\n",
       "      <td>0.656675</td>\n",
       "      <td>0.809981</td>\n",
       "      <td>{}</td>\n",
       "      <td>2</td>\n",
       "      <td>0.639392</td>\n",
       "      <td>0.822283</td>\n",
       "      <td>0.674919</td>\n",
       "      <td>0.798042</td>\n",
       "      <td>0.01</td>\n",
       "    </tr>\n",
       "    <tr>\n",
       "      <th>3</th>\n",
       "      <td>0.754638</td>\n",
       "      <td>0.768211</td>\n",
       "      <td>0.655831</td>\n",
       "      <td>0.809367</td>\n",
       "      <td>{}</td>\n",
       "      <td>3</td>\n",
       "      <td>0.637878</td>\n",
       "      <td>0.822184</td>\n",
       "      <td>0.674824</td>\n",
       "      <td>0.796944</td>\n",
       "      <td>0.01</td>\n",
       "    </tr>\n",
       "    <tr>\n",
       "      <th>4</th>\n",
       "      <td>0.759685</td>\n",
       "      <td>0.791624</td>\n",
       "      <td>0.669028</td>\n",
       "      <td>0.811356</td>\n",
       "      <td>{}</td>\n",
       "      <td>4</td>\n",
       "      <td>0.640104</td>\n",
       "      <td>0.832805</td>\n",
       "      <td>0.700688</td>\n",
       "      <td>0.790985</td>\n",
       "      <td>0.01</td>\n",
       "    </tr>\n",
       "  </tbody>\n",
       "</table>\n",
       "</div>"
      ],
      "text/plain": [
       "   accuracy       auc      f1_0      f1_1 hyperparameters iteration  \\\n",
       "0  0.759484  0.794210  0.666034  0.812070              {}         0   \n",
       "1  0.755096  0.763017  0.650418  0.811531              {}         1   \n",
       "2  0.755362  0.768269  0.656675  0.809981              {}         2   \n",
       "3  0.754638  0.768211  0.655831  0.809367              {}         3   \n",
       "4  0.759685  0.791624  0.669028  0.811356              {}         4   \n",
       "\n",
       "   precision_0  precision_1  recall_0  recall_1  train_percentage  \n",
       "0     0.641926     0.829602  0.692024  0.795263              0.01  \n",
       "1     0.643261     0.816429  0.657735  0.806693              0.01  \n",
       "2     0.639392     0.822283  0.674919  0.798042              0.01  \n",
       "3     0.637878     0.822184  0.674824  0.796944              0.01  \n",
       "4     0.640104     0.832805  0.700688  0.790985              0.01  "
      ]
     },
     "execution_count": 45,
     "metadata": {},
     "output_type": "execute_result"
    }
   ],
   "source": [
    "results.head()"
   ]
  },
  {
   "cell_type": "code",
   "execution_count": 46,
   "metadata": {},
   "outputs": [],
   "source": [
    "results.to_csv(output_file, index=False)"
   ]
  },
  {
   "cell_type": "code",
   "execution_count": null,
   "metadata": {},
   "outputs": [],
   "source": []
  }
 ],
 "metadata": {
  "kernelspec": {
   "display_name": "Python [conda env:caispp]",
   "language": "python",
   "name": "conda-env-caispp-py"
  },
  "language_info": {
   "codemirror_mode": {
    "name": "ipython",
    "version": 3
   },
   "file_extension": ".py",
   "mimetype": "text/x-python",
   "name": "python",
   "nbconvert_exporter": "python",
   "pygments_lexer": "ipython3",
   "version": "3.5.6"
  }
 },
 "nbformat": 4,
 "nbformat_minor": 2
}
