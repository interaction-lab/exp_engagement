{
 "cells": [
  {
   "cell_type": "code",
   "execution_count": 1,
   "metadata": {},
   "outputs": [],
   "source": [
    "# Neural Networks\n",
    "# Treat All Participants as One\n",
    "# Try with 10% ... 90% for Training (several iterations for each)"
   ]
  },
  {
   "cell_type": "code",
   "execution_count": 2,
   "metadata": {},
   "outputs": [],
   "source": [
    "use_key_features = True\n",
    "shuffle_times = 100\n",
    "iterations = 10\n",
    "output_file = 'nn_results_kf.csv'"
   ]
  },
  {
   "cell_type": "code",
   "execution_count": 3,
   "metadata": {},
   "outputs": [],
   "source": [
    "from tqdm import tqdm\n",
    "import pandas as pd\n",
    "import numpy as np\n",
    "from sklearn.model_selection import train_test_split\n",
    "from sklearn.metrics import roc_auc_score\n",
    "from sklearn.metrics import roc_auc_score\n",
    "from sklearn.metrics import accuracy_score\n",
    "from sklearn import metrics\n",
    "from itertools import combinations\n",
    "import itertools\n",
    "import json\n",
    "pd.options.mode.chained_assignment = None"
   ]
  },
  {
   "cell_type": "markdown",
   "metadata": {},
   "source": [
    "# 1 -- Load Data"
   ]
  },
  {
   "cell_type": "code",
   "execution_count": 4,
   "metadata": {},
   "outputs": [],
   "source": [
    "# Windowed Data: 1 Second Overlapping Windows, Feature Median + Variance in Window \n",
    "p5_file = '../../../../../Google Drive File Stream/My Drive/USC Expeditions Year 5/Analysis/Engagement/Data/Master Window/p5_master_window.csv'\n",
    "p7_file = '../../../../../Google Drive File Stream/My Drive/USC Expeditions Year 5/Analysis/Engagement/Data/Master Window/p7_master_window.csv'\n",
    "p9_file = '../../../../../Google Drive File Stream/My Drive/USC Expeditions Year 5/Analysis/Engagement/Data/Master Window/p9_master_window.csv'\n",
    "p11_file = '../../../../../Google Drive File Stream/My Drive/USC Expeditions Year 5/Analysis/Engagement/Data/Master Window/p11_master_window.csv'\n",
    "p12_file = '../../../../../Google Drive File Stream/My Drive/USC Expeditions Year 5/Analysis/Engagement/Data/Master Window/p12_master_window.csv'\n",
    "p17_file = '../../../../../Google Drive File Stream/My Drive/USC Expeditions Year 5/Analysis/Engagement/Data/Master Window/p17_master_window.csv'\n",
    "p18_file = '../../../../../Google Drive File Stream/My Drive/USC Expeditions Year 5/Analysis/Engagement/Data/Master Window/p18_master_window.csv'\n",
    "\n",
    "data5 = pd.read_csv(p5_file)\n",
    "data7 = pd.read_csv(p7_file)\n",
    "data9 = pd.read_csv(p9_file)\n",
    "data11 = pd.read_csv(p11_file)\n",
    "data12 = pd.read_csv(p12_file)\n",
    "data17 = pd.read_csv(p17_file)\n",
    "data18 = pd.read_csv(p18_file)"
   ]
  },
  {
   "cell_type": "code",
   "execution_count": 5,
   "metadata": {},
   "outputs": [],
   "source": [
    "data = [data5, data7, data9, data11, data12, data17, data18]\n",
    "all_data = pd.concat(data, ignore_index=True, sort=True)"
   ]
  },
  {
   "cell_type": "code",
   "execution_count": 6,
   "metadata": {},
   "outputs": [],
   "source": [
    "remove = [\n",
    "'engagement_change',\n",
    "'ros_GAME_STATE',\n",
    "'ros_PARTICIPANT_STATE',\n",
    "'ros_ROBOT_STATE',\n",
    "'ros_activity',\n",
    "'ros_diff_1_change',\n",
    "'ros_diff_2_change',\n",
    "'ros_diff_3_change',\n",
    "'ros_diff_4_change',\n",
    "'ros_diff_5_change',\n",
    "'ros_difficulty',\n",
    "'ros_skill_EM_change',\n",
    "'ros_skill_NC_change',\n",
    "'ros_skill_OS_change',\n",
    "'ros_ts_attempt_var',\n",
    "'ros_games_session_change',\n",
    "'ros_in_game_change',\n",
    "'ros_mistakes_session_change',\n",
    "'ros_mistakes_game_change',\n",
    "'ros_skill',\n",
    "'ros_ts_game_start_var',\n",
    "'ros_ts_robot_talked_var',\n",
    "'ros_game_correct',\n",
    "'ros_game_incorrect',\n",
    "'ros_game_start',\n",
    "'ros_mistake_made',\n",
    "]\n",
    "\n",
    "all_data = all_data.drop(columns=remove)"
   ]
  },
  {
   "cell_type": "code",
   "execution_count": 7,
   "metadata": {},
   "outputs": [],
   "source": [
    "# Remove rows where engagment NaN\n",
    "all_data = all_data[np.isfinite(all_data['engagement'])]\n",
    "\n",
    "# Remove rows where engagment is -1\n",
    "all_data = all_data[all_data['engagement']>=0]"
   ]
  },
  {
   "cell_type": "markdown",
   "metadata": {},
   "source": [
    "# 2 -- Choose Feature Set"
   ]
  },
  {
   "cell_type": "markdown",
   "metadata": {},
   "source": [
    "Feature Dictionary: https://docs.google.com/spreadsheets/d/1ewoVPHwW68Ins0AOVZf-0lsl_wW0_ZzuByuDiNJETBY/edit?usp=sharing"
   ]
  },
  {
   "cell_type": "markdown",
   "metadata": {},
   "source": [
    "### Data Overview"
   ]
  },
  {
   "cell_type": "code",
   "execution_count": 8,
   "metadata": {},
   "outputs": [
    {
     "name": "stdout",
     "output_type": "stream",
     "text": [
      "engagement\n",
      "participant\n",
      "session_num\n",
      "timestamp\n"
     ]
    }
   ],
   "source": [
    "# Main Columns\n",
    "basic_cols = []\n",
    "for i in all_data.columns:\n",
    "    if 'of_' not in i and 'op_' not in i and 'ros_' not in i and 'a_' not in i:\n",
    "        basic_cols.append(i)\n",
    "        \n",
    "basic_cols = sorted(basic_cols)\n",
    "for i in basic_cols:\n",
    "    print(i)"
   ]
  },
  {
   "cell_type": "code",
   "execution_count": 9,
   "metadata": {},
   "outputs": [
    {
     "name": "stdout",
     "output_type": "stream",
     "text": [
      "of_AU01_c\n",
      "of_AU02_c\n",
      "of_AU04_c\n",
      "of_AU05_c\n",
      "of_AU06_c\n",
      "of_AU07_c\n",
      "of_AU09_c\n",
      "of_AU10_c\n",
      "of_AU12_c\n",
      "of_AU14_c\n",
      "of_AU15_c\n",
      "of_AU17_c\n",
      "of_AU20_c\n",
      "of_AU23_c\n",
      "of_AU25_c\n",
      "of_AU26_c\n",
      "of_AU28_c\n",
      "of_AU45_c\n",
      "of_confidence\n",
      "of_gaze_0_x\n",
      "of_gaze_0_y\n",
      "of_gaze_0_z\n",
      "of_gaze_1_x\n",
      "of_gaze_1_y\n",
      "of_gaze_1_z\n",
      "of_gaze_angle_x\n",
      "of_gaze_angle_y\n",
      "of_gaze_distance\n",
      "of_gaze_distance_x\n",
      "of_gaze_distance_y\n",
      "of_pose_Rx\n",
      "of_pose_Ry\n",
      "of_pose_Rz\n",
      "of_pose_Tx\n",
      "of_pose_Ty\n",
      "of_pose_Tz\n",
      "of_pose_distance\n",
      "of_success\n",
      "of_ts_success\n",
      "op_num_people\n"
     ]
    }
   ],
   "source": [
    "# Open Face Columns\n",
    "\n",
    "of_cols = []\n",
    "for i in all_data.columns:\n",
    "    if ('of_' in i or 'op_' in i) and '_change' not in i and '_var' not in i:\n",
    "        of_cols.append(i)\n",
    "        \n",
    "of_cols = sorted(of_cols)\n",
    "for i in of_cols:\n",
    "    print(i)"
   ]
  },
  {
   "cell_type": "code",
   "execution_count": 10,
   "metadata": {},
   "outputs": [
    {
     "name": "stdout",
     "output_type": "stream",
     "text": [
      "a_harmonicity\n",
      "a_intensity\n",
      "a_mfcc_0\n",
      "a_mfcc_1\n",
      "a_pitch_frequency\n",
      "a_pitch_strength\n"
     ]
    }
   ],
   "source": [
    "# Audio Columns\n",
    "\n",
    "a_cols = []\n",
    "for i in all_data.columns:\n",
    "    if 'a_' in i and '_change' not in i and '_var' not in i:\n",
    "        a_cols.append(i)\n",
    "        \n",
    "a_cols = sorted(a_cols)\n",
    "for i in a_cols:\n",
    "    print(i)"
   ]
  },
  {
   "cell_type": "code",
   "execution_count": 11,
   "metadata": {},
   "outputs": [
    {
     "name": "stdout",
     "output_type": "stream",
     "text": [
      "ros_aptitude\n",
      "ros_diff_1\n",
      "ros_diff_2\n",
      "ros_diff_3\n",
      "ros_diff_4\n",
      "ros_diff_5\n",
      "ros_games_session\n",
      "ros_in_game\n",
      "ros_mistakes_game\n",
      "ros_mistakes_session\n",
      "ros_skill_EM\n",
      "ros_skill_NC\n",
      "ros_skill_OS\n",
      "ros_ts_attempt\n",
      "ros_ts_game_start\n",
      "ros_ts_robot_talked\n"
     ]
    }
   ],
   "source": [
    "# ROS Columns\n",
    "\n",
    "ros_cols = []\n",
    "for i in all_data.columns:\n",
    "    if 'ros_' in i and '_change' not in i and '_var' not in i:\n",
    "        ros_cols.append(i)\n",
    "        \n",
    "ros_cols = sorted(ros_cols)\n",
    "for i in ros_cols:\n",
    "    print(i)"
   ]
  },
  {
   "cell_type": "code",
   "execution_count": 12,
   "metadata": {},
   "outputs": [
    {
     "name": "stdout",
     "output_type": "stream",
     "text": [
      "a_harmonicity_var\n",
      "a_intensity_var\n",
      "a_mfcc_0_var\n",
      "a_mfcc_1_var\n",
      "a_pitch_frequency_var\n",
      "a_pitch_strength_var\n",
      "of_AU01_c_change\n",
      "of_AU02_c_change\n",
      "of_AU04_c_change\n",
      "of_AU05_c_change\n",
      "of_AU06_c_change\n",
      "of_AU07_c_change\n",
      "of_AU09_c_change\n",
      "of_AU10_c_change\n",
      "of_AU12_c_change\n",
      "of_AU14_c_change\n",
      "of_AU15_c_change\n",
      "of_AU17_c_change\n",
      "of_AU20_c_change\n",
      "of_AU23_c_change\n",
      "of_AU25_c_change\n",
      "of_AU26_c_change\n",
      "of_AU28_c_change\n",
      "of_AU45_c_change\n",
      "of_confidence_var\n",
      "of_gaze_0_x_var\n",
      "of_gaze_0_y_var\n",
      "of_gaze_0_z_var\n",
      "of_gaze_1_x_var\n",
      "of_gaze_1_y_var\n",
      "of_gaze_1_z_var\n",
      "of_gaze_angle_x_var\n",
      "of_gaze_angle_y_var\n",
      "of_gaze_distance_var\n",
      "of_gaze_distance_x_var\n",
      "of_gaze_distance_y_var\n",
      "of_pose_Rx_var\n",
      "of_pose_Ry_var\n",
      "of_pose_Rz_var\n",
      "of_pose_Tx_var\n",
      "of_pose_Ty_var\n",
      "of_pose_Tz_var\n",
      "of_pose_distance_var\n",
      "of_success_change\n",
      "of_ts_success_var\n",
      "op_num_people_change\n",
      "ros_aptitude_var\n"
     ]
    }
   ],
   "source": [
    "# For Window Only:\n",
    "non_window_features = []\n",
    "window_features = []\n",
    "for i in all_data.columns:\n",
    "    if i not in basic_cols:\n",
    "        if 'change' in i or 'var' in i:\n",
    "            window_features.append(i)\n",
    "        else:\n",
    "            non_window_features.append(i)\n",
    "        \n",
    "window_features = sorted(window_features)\n",
    "for i in window_features:\n",
    "    print(i)"
   ]
  },
  {
   "cell_type": "code",
   "execution_count": 13,
   "metadata": {},
   "outputs": [],
   "source": [
    "# Columns where NaNs filled with max value\n",
    "nan_max_cols = ['of_gaze_0_x',\n",
    "'of_gaze_0_y',\n",
    "'of_gaze_0_z',\n",
    "'of_gaze_1_x',\n",
    "'of_gaze_1_y',\n",
    "'of_gaze_1_z',\n",
    "'of_gaze_angle_x',\n",
    "'of_gaze_angle_y',\n",
    "'of_gaze_distance',\n",
    "'of_gaze_distance_x',\n",
    "'of_gaze_distance_y',\n",
    "'of_pose_Rxv',\n",
    "'of_pose_Ry',\n",
    "'of_pose_Rz',\n",
    "'of_pose_Tx',\n",
    "'of_pose_Ty',\n",
    "'of_pose_Tz',\n",
    "'of_pose_distance']"
   ]
  },
  {
   "cell_type": "code",
   "execution_count": 14,
   "metadata": {},
   "outputs": [],
   "source": [
    "# Key Features (from feature analysis) \n",
    "# Note: Timestamp automatically included\n",
    "\n",
    "key_features = [\n",
    "'op_num_people',\n",
    "'of_pose_distance',\n",
    "'of_gaze_distance',\n",
    "'of_confidence',\n",
    "'ros_mistakes_session',\n",
    "'ros_ts_robot_talked']"
   ]
  },
  {
   "cell_type": "markdown",
   "metadata": {},
   "source": [
    "### Filter Feature Set (Optional)"
   ]
  },
  {
   "cell_type": "code",
   "execution_count": 15,
   "metadata": {},
   "outputs": [],
   "source": [
    "# always include basic_cols, add desired group of features \n",
    "# features_to_keep = all_data.columns\n",
    "\n",
    "if use_key_features:\n",
    "    features_to_keep = basic_cols + key_features\n",
    "else:\n",
    "    features_to_keep = basic_cols + of_cols + ros_cols + a_cols + window_features\n",
    "\n",
    "all_data = all_data[features_to_keep]"
   ]
  },
  {
   "cell_type": "code",
   "execution_count": 16,
   "metadata": {},
   "outputs": [],
   "source": [
    "# All as One Participant: Shuffle Data! \n",
    "\n",
    "for i in range(shuffle_times):\n",
    "    all_data.reindex(np.random.permutation(all_data.index))\n",
    "all_data = all_data.reset_index(drop=True)"
   ]
  },
  {
   "cell_type": "markdown",
   "metadata": {},
   "source": [
    "# 3 -- Scenario Based Modeling"
   ]
  },
  {
   "cell_type": "markdown",
   "metadata": {},
   "source": [
    "- Open Face Success / Failure\n",
    "- Robot Talking / Not Talking\n",
    "- First 10 Minutes / After 10 Minutes"
   ]
  },
  {
   "cell_type": "code",
   "execution_count": 17,
   "metadata": {},
   "outputs": [],
   "source": [
    "# Create Separate Models for Different Scenarios\n",
    "\n",
    "# for i,d in enumerate(data):\n",
    "#     # Open Face Success/Failure\n",
    "#     data[i] = d.loc[d['of_success']==1]\n",
    "#     data[i] = d.loc[d['of_success']==0]\n",
    "    \n",
    "#     # Robot Talking/Not Talking\n",
    "#     data[i] = d.loc[d['ros_ts_robot_talked']==0]\n",
    "#     data[i] = d.loc[d['ros_ts_robot_talked']>0]\n",
    "    \n",
    "#     # First 10 Min/After 10 Min\n",
    "#     data[i] = d.loc[d['timestamp']<=(10*60)]\n",
    "#     data[i] = d.loc[d['timestamp']>(10*60)]"
   ]
  },
  {
   "cell_type": "markdown",
   "metadata": {},
   "source": [
    "# 4 -- Modeling"
   ]
  },
  {
   "cell_type": "code",
   "execution_count": 18,
   "metadata": {},
   "outputs": [],
   "source": [
    "# Function: Formulate Train-Test Split \n",
    "# Includes Preprocessing \n",
    "\n",
    "# split_size: how much data for training\n",
    "def split(split_size):\n",
    "    y_data = all_data['engagement'].copy()\n",
    "    X_data = all_data.drop(columns=['engagement', 'session_num', 'participant'], axis=1).copy()\n",
    "        \n",
    "    X_train, X_test, y_train, y_test = train_test_split(X_data, y_data, test_size=1-split_size, shuffle=True)\n",
    "\n",
    "    # Preprocessing: Standardization\n",
    "    # x' = ( x - mean(x) ) / ( stdev(x) )\n",
    "    # => x' is z-score, NaN's filled with min_val\n",
    "    for c in X_train.columns:\n",
    "        mean = np.nanmean(X_train[c])\n",
    "        std = np.nanstd(X_train[c])\n",
    "\n",
    "        if std == 0:\n",
    "            X_train[c] = (X_train[c]-mean)\n",
    "            X_test[c] = (X_test[c]-mean)\n",
    "        else:\n",
    "            X_train[c] = (X_train[c]-mean)/(std)\n",
    "            X_test[c] = (X_test[c]-mean)/(std)\n",
    "\n",
    "        if c not in nan_max_cols:\n",
    "            min_val = np.nanmin(X_train[c])\n",
    "\n",
    "            X_train[c] = X_train[c].fillna(min_val)\n",
    "            X_test[c] = X_test[c].fillna(min_val)\n",
    "        else:\n",
    "            max_val = np.nanmax(X_train[c])\n",
    "\n",
    "            X_train[c] = X_train[c].fillna(max_val)\n",
    "            X_test[c] = X_test[c].fillna(max_val) \n",
    "\n",
    "    return X_train, y_train, X_test, y_test"
   ]
  },
  {
   "cell_type": "code",
   "execution_count": 19,
   "metadata": {},
   "outputs": [],
   "source": [
    "# MODEL HERE\n",
    "\n",
    "# Inputs: X_train, y_train, X_test, y_test, hp, isVerbose\n",
    "# hp = Hyperparameter Dictionary, isVerbose = whether to return all accuracy metrics\n",
    "\n",
    "# Output: Accuracy Metrics as Dictionary \n",
    "\n",
    "# IMPORTS HERE\n",
    "from sklearn.neural_network import MLPClassifier\n",
    "\n",
    "# Hyperparameter Combinations to Try:  \n",
    "hp_names = ['hidden_layer_sizes', 'activation']\n",
    "if use_key_features:\n",
    "    hp_list = [[(),(4,),(16,4),(32,8),(32,12,4),(64,24,8),(32,16,8,4),(64,32,12,6),(128,64,32,16,4),(256,96,48,16,4), (128,64,32,16,8,4)], ['relu', 'tanh']]\n",
    "else:\n",
    "    hp_list = [[(),(32,),(256,32),(128,24),(64,24,8),(512,128,24),(1024,256,64,16),(512,128,48,16),(1024,512,256,64,16),(512,128,64,16,4),(1024,256,128,64,24,4)], ['relu', 'tanh']]\n",
    "\n",
    "def model(X_train, y_train, X_test, y_test, hp, isVerbose):\n",
    "    # Model Here: must create pred & scores arrays\n",
    "    clf = MLPClassifier(hidden_layer_sizes=hp['hidden_layer_sizes'], activation=hp['activation'], \n",
    "                       solver='adam',alpha=0.0001,learning_rate='adaptive',max_iter=500)\n",
    "    clf.fit(X_train.values, y_train.values)\n",
    "    \n",
    "    pred = clf.predict(X_test.values)\n",
    "    scores = clf.predict_proba(X_test.values)[:,1]    \n",
    "    \n",
    "    # Evaluation\n",
    "    results = {}\n",
    "    accuracy = accuracy_score(y_test, pred)\n",
    "    results['accuracy'] = accuracy\n",
    "    \n",
    "    if isVerbose:\n",
    "        try:\n",
    "            auc = roc_auc_score(y_test, scores)\n",
    "        except:\n",
    "            auc = np.nan\n",
    "        results['auc'] = auc\n",
    "    \n",
    "        precision = metrics.precision_score(y_test, pred, average=None)\n",
    "        recall = metrics.recall_score(y_test, pred, average=None)\n",
    "        f1 = metrics.f1_score(y_test, pred, average=None)\n",
    "\n",
    "        results['precision_0'], results['precision_1'] = precision[0], precision[1]\n",
    "        results['recall_0'], results['recall_1'] = recall[0], recall[1]\n",
    "        results['f1_0'], results['f1_1'] = f1[0], f1[1]\n",
    "    \n",
    "    return results"
   ]
  },
  {
   "cell_type": "code",
   "execution_count": null,
   "metadata": {
    "scrolled": true
   },
   "outputs": [
    {
     "name": "stderr",
     "output_type": "stream",
     "text": [
      "\r",
      "  0%|          | 0/11 [00:00<?, ?it/s]"
     ]
    },
    {
     "name": "stdout",
     "output_type": "stream",
     "text": [
      "Training Percentage: 0.01\n",
      "\n",
      "{'activation': 'relu', 'hidden_layer_sizes': ()} 0.7756517115454434\n",
      "{'activation': 'tanh', 'hidden_layer_sizes': ()} 0.7867703539604055\n",
      "{'activation': 'relu', 'hidden_layer_sizes': (4,)} 0.7851773517833059\n",
      "{'activation': 'tanh', 'hidden_layer_sizes': (4,)} 0.8034825709678115\n"
     ]
    },
    {
     "name": "stderr",
     "output_type": "stream",
     "text": [
      "/anaconda3/envs/caispp/lib/python3.5/site-packages/sklearn/neural_network/multilayer_perceptron.py:562: ConvergenceWarning: Stochastic Optimizer: Maximum iterations (500) reached and the optimization hasn't converged yet.\n",
      "  % self.max_iter, ConvergenceWarning)\n",
      "/anaconda3/envs/caispp/lib/python3.5/site-packages/sklearn/neural_network/multilayer_perceptron.py:562: ConvergenceWarning: Stochastic Optimizer: Maximum iterations (500) reached and the optimization hasn't converged yet.\n",
      "  % self.max_iter, ConvergenceWarning)\n"
     ]
    },
    {
     "name": "stdout",
     "output_type": "stream",
     "text": [
      "{'activation': 'relu', 'hidden_layer_sizes': (16, 4)} 0.8034787554697115\n"
     ]
    },
    {
     "name": "stderr",
     "output_type": "stream",
     "text": [
      "/anaconda3/envs/caispp/lib/python3.5/site-packages/sklearn/neural_network/multilayer_perceptron.py:562: ConvergenceWarning: Stochastic Optimizer: Maximum iterations (500) reached and the optimization hasn't converged yet.\n",
      "  % self.max_iter, ConvergenceWarning)\n",
      "/anaconda3/envs/caispp/lib/python3.5/site-packages/sklearn/neural_network/multilayer_perceptron.py:562: ConvergenceWarning: Stochastic Optimizer: Maximum iterations (500) reached and the optimization hasn't converged yet.\n",
      "  % self.max_iter, ConvergenceWarning)\n",
      "/anaconda3/envs/caispp/lib/python3.5/site-packages/sklearn/neural_network/multilayer_perceptron.py:562: ConvergenceWarning: Stochastic Optimizer: Maximum iterations (500) reached and the optimization hasn't converged yet.\n",
      "  % self.max_iter, ConvergenceWarning)\n"
     ]
    },
    {
     "name": "stdout",
     "output_type": "stream",
     "text": [
      "{'activation': 'tanh', 'hidden_layer_sizes': (16, 4)} 0.8066723455054067\n"
     ]
    },
    {
     "name": "stderr",
     "output_type": "stream",
     "text": [
      "/anaconda3/envs/caispp/lib/python3.5/site-packages/sklearn/neural_network/multilayer_perceptron.py:562: ConvergenceWarning: Stochastic Optimizer: Maximum iterations (500) reached and the optimization hasn't converged yet.\n",
      "  % self.max_iter, ConvergenceWarning)\n"
     ]
    },
    {
     "name": "stdout",
     "output_type": "stream",
     "text": [
      "{'activation': 'relu', 'hidden_layer_sizes': (32, 8)} 0.803473073005795\n"
     ]
    },
    {
     "name": "stderr",
     "output_type": "stream",
     "text": [
      "/anaconda3/envs/caispp/lib/python3.5/site-packages/sklearn/neural_network/multilayer_perceptron.py:562: ConvergenceWarning: Stochastic Optimizer: Maximum iterations (500) reached and the optimization hasn't converged yet.\n",
      "  % self.max_iter, ConvergenceWarning)\n",
      "/anaconda3/envs/caispp/lib/python3.5/site-packages/sklearn/neural_network/multilayer_perceptron.py:562: ConvergenceWarning: Stochastic Optimizer: Maximum iterations (500) reached and the optimization hasn't converged yet.\n",
      "  % self.max_iter, ConvergenceWarning)\n",
      "/anaconda3/envs/caispp/lib/python3.5/site-packages/sklearn/neural_network/multilayer_perceptron.py:562: ConvergenceWarning: Stochastic Optimizer: Maximum iterations (500) reached and the optimization hasn't converged yet.\n",
      "  % self.max_iter, ConvergenceWarning)\n"
     ]
    },
    {
     "name": "stdout",
     "output_type": "stream",
     "text": [
      "{'activation': 'tanh', 'hidden_layer_sizes': (32, 8)} 0.8130234550721926\n"
     ]
    },
    {
     "name": "stderr",
     "output_type": "stream",
     "text": [
      "/anaconda3/envs/caispp/lib/python3.5/site-packages/sklearn/neural_network/multilayer_perceptron.py:562: ConvergenceWarning: Stochastic Optimizer: Maximum iterations (500) reached and the optimization hasn't converged yet.\n",
      "  % self.max_iter, ConvergenceWarning)\n",
      "/anaconda3/envs/caispp/lib/python3.5/site-packages/sklearn/neural_network/multilayer_perceptron.py:562: ConvergenceWarning: Stochastic Optimizer: Maximum iterations (500) reached and the optimization hasn't converged yet.\n",
      "  % self.max_iter, ConvergenceWarning)\n"
     ]
    },
    {
     "name": "stdout",
     "output_type": "stream",
     "text": [
      "{'activation': 'relu', 'hidden_layer_sizes': (32, 12, 4)} 0.7939455114244712\n"
     ]
    },
    {
     "name": "stderr",
     "output_type": "stream",
     "text": [
      "/anaconda3/envs/caispp/lib/python3.5/site-packages/sklearn/neural_network/multilayer_perceptron.py:562: ConvergenceWarning: Stochastic Optimizer: Maximum iterations (500) reached and the optimization hasn't converged yet.\n",
      "  % self.max_iter, ConvergenceWarning)\n",
      "/anaconda3/envs/caispp/lib/python3.5/site-packages/sklearn/neural_network/multilayer_perceptron.py:562: ConvergenceWarning: Stochastic Optimizer: Maximum iterations (500) reached and the optimization hasn't converged yet.\n",
      "  % self.max_iter, ConvergenceWarning)\n"
     ]
    },
    {
     "name": "stdout",
     "output_type": "stream",
     "text": [
      "{'activation': 'tanh', 'hidden_layer_sizes': (32, 12, 4)} 0.8026927356722608\n",
      "{'activation': 'relu', 'hidden_layer_sizes': (64, 24, 8)} 0.8074641293332413\n",
      "{'activation': 'tanh', 'hidden_layer_sizes': (64, 24, 8)} 0.7979213148224579\n"
     ]
    },
    {
     "name": "stderr",
     "output_type": "stream",
     "text": [
      "/anaconda3/envs/caispp/lib/python3.5/site-packages/sklearn/neural_network/multilayer_perceptron.py:562: ConvergenceWarning: Stochastic Optimizer: Maximum iterations (500) reached and the optimization hasn't converged yet.\n",
      "  % self.max_iter, ConvergenceWarning)\n",
      "/anaconda3/envs/caispp/lib/python3.5/site-packages/sklearn/neural_network/multilayer_perceptron.py:562: ConvergenceWarning: Stochastic Optimizer: Maximum iterations (500) reached and the optimization hasn't converged yet.\n",
      "  % self.max_iter, ConvergenceWarning)\n"
     ]
    },
    {
     "name": "stdout",
     "output_type": "stream",
     "text": [
      "{'activation': 'relu', 'hidden_layer_sizes': (32, 16, 8, 4)} 0.8114323651756136\n",
      "{'activation': 'tanh', 'hidden_layer_sizes': (32, 16, 8, 4)} 0.8106519734644341\n",
      "{'activation': 'relu', 'hidden_layer_sizes': (64, 32, 12, 6)} 0.8058748973395374\n",
      "{'activation': 'tanh', 'hidden_layer_sizes': (64, 32, 12, 6)} 0.8050641900911968\n",
      "{'activation': 'relu', 'hidden_layer_sizes': (128, 64, 32, 16, 4)} 0.8090514127946612\n",
      "{'activation': 'tanh', 'hidden_layer_sizes': (128, 64, 32, 16, 4)} 0.7907215333480879\n",
      "{'activation': 'relu', 'hidden_layer_sizes': (256, 96, 48, 16, 4)} 0.7931347769873082\n",
      "{'activation': 'tanh', 'hidden_layer_sizes': (256, 96, 48, 16, 4)} 0.7987187992400905\n",
      "{'activation': 'relu', 'hidden_layer_sizes': (128, 64, 32, 16, 8, 4)} 0.7994934994244126\n",
      "{'activation': 'tanh', 'hidden_layer_sizes': (128, 64, 32, 16, 8, 4)} 0.7995143532513209\n",
      "Best HP {'activation': 'tanh', 'hidden_layer_sizes': (32, 8)}\n"
     ]
    },
    {
     "name": "stderr",
     "output_type": "stream",
     "text": [
      "/anaconda3/envs/caispp/lib/python3.5/site-packages/sklearn/neural_network/multilayer_perceptron.py:562: ConvergenceWarning: Stochastic Optimizer: Maximum iterations (500) reached and the optimization hasn't converged yet.\n",
      "  % self.max_iter, ConvergenceWarning)\n"
     ]
    },
    {
     "name": "stdout",
     "output_type": "stream",
     "text": [
      "{'accuracy': 0.8074391919581515, 'precision_1': 0.8220285688617375, 'precision_0': 0.7707409395214825, 'auc': 0.8618703777032835, 'f1_0': 0.6948582779433112, 'f1_1': 0.8593364795379305, 'recall_1': 0.9001918441635103, 'recall_0': 0.632578304314562}\n",
      "\n",
      "{'activation': 'relu', 'hidden_layer_sizes': ()} 0.7796123888951424\n",
      "{'activation': 'tanh', 'hidden_layer_sizes': ()} 0.7835844221097329\n"
     ]
    },
    {
     "name": "stderr",
     "output_type": "stream",
     "text": [
      "/anaconda3/envs/caispp/lib/python3.5/site-packages/sklearn/neural_network/multilayer_perceptron.py:562: ConvergenceWarning: Stochastic Optimizer: Maximum iterations (500) reached and the optimization hasn't converged yet.\n",
      "  % self.max_iter, ConvergenceWarning)\n"
     ]
    },
    {
     "name": "stdout",
     "output_type": "stream",
     "text": [
      "{'activation': 'relu', 'hidden_layer_sizes': (4,)} 0.79710491604726\n"
     ]
    },
    {
     "name": "stderr",
     "output_type": "stream",
     "text": [
      "/anaconda3/envs/caispp/lib/python3.5/site-packages/sklearn/neural_network/multilayer_perceptron.py:562: ConvergenceWarning: Stochastic Optimizer: Maximum iterations (500) reached and the optimization hasn't converged yet.\n",
      "  % self.max_iter, ConvergenceWarning)\n",
      "/anaconda3/envs/caispp/lib/python3.5/site-packages/sklearn/neural_network/multilayer_perceptron.py:562: ConvergenceWarning: Stochastic Optimizer: Maximum iterations (500) reached and the optimization hasn't converged yet.\n",
      "  % self.max_iter, ConvergenceWarning)\n"
     ]
    },
    {
     "name": "stdout",
     "output_type": "stream",
     "text": [
      "{'activation': 'tanh', 'hidden_layer_sizes': (4,)} 0.7947315765366261\n"
     ]
    },
    {
     "name": "stderr",
     "output_type": "stream",
     "text": [
      "/anaconda3/envs/caispp/lib/python3.5/site-packages/sklearn/neural_network/multilayer_perceptron.py:562: ConvergenceWarning: Stochastic Optimizer: Maximum iterations (500) reached and the optimization hasn't converged yet.\n",
      "  % self.max_iter, ConvergenceWarning)\n",
      "/anaconda3/envs/caispp/lib/python3.5/site-packages/sklearn/neural_network/multilayer_perceptron.py:562: ConvergenceWarning: Stochastic Optimizer: Maximum iterations (500) reached and the optimization hasn't converged yet.\n",
      "  % self.max_iter, ConvergenceWarning)\n"
     ]
    },
    {
     "name": "stdout",
     "output_type": "stream",
     "text": [
      "{'activation': 'relu', 'hidden_layer_sizes': (16, 4)} 0.8082540280693779\n"
     ]
    },
    {
     "name": "stderr",
     "output_type": "stream",
     "text": [
      "/anaconda3/envs/caispp/lib/python3.5/site-packages/sklearn/neural_network/multilayer_perceptron.py:562: ConvergenceWarning: Stochastic Optimizer: Maximum iterations (500) reached and the optimization hasn't converged yet.\n",
      "  % self.max_iter, ConvergenceWarning)\n",
      "/anaconda3/envs/caispp/lib/python3.5/site-packages/sklearn/neural_network/multilayer_perceptron.py:562: ConvergenceWarning: Stochastic Optimizer: Maximum iterations (500) reached and the optimization hasn't converged yet.\n",
      "  % self.max_iter, ConvergenceWarning)\n"
     ]
    },
    {
     "name": "stdout",
     "output_type": "stream",
     "text": [
      "{'activation': 'tanh', 'hidden_layer_sizes': (16, 4)} 0.8090267434696526\n"
     ]
    },
    {
     "name": "stderr",
     "output_type": "stream",
     "text": [
      "/anaconda3/envs/caispp/lib/python3.5/site-packages/sklearn/neural_network/multilayer_perceptron.py:562: ConvergenceWarning: Stochastic Optimizer: Maximum iterations (500) reached and the optimization hasn't converged yet.\n",
      "  % self.max_iter, ConvergenceWarning)\n"
     ]
    },
    {
     "name": "stdout",
     "output_type": "stream",
     "text": [
      "{'activation': 'relu', 'hidden_layer_sizes': (32, 8)} 0.8058673569727458\n"
     ]
    },
    {
     "name": "stderr",
     "output_type": "stream",
     "text": [
      "/anaconda3/envs/caispp/lib/python3.5/site-packages/sklearn/neural_network/multilayer_perceptron.py:562: ConvergenceWarning: Stochastic Optimizer: Maximum iterations (500) reached and the optimization hasn't converged yet.\n",
      "  % self.max_iter, ConvergenceWarning)\n"
     ]
    },
    {
     "name": "stdout",
     "output_type": "stream",
     "text": [
      "{'activation': 'tanh', 'hidden_layer_sizes': (32, 8)} 0.8034712241658606\n"
     ]
    },
    {
     "name": "stderr",
     "output_type": "stream",
     "text": [
      "/anaconda3/envs/caispp/lib/python3.5/site-packages/sklearn/neural_network/multilayer_perceptron.py:562: ConvergenceWarning: Stochastic Optimizer: Maximum iterations (500) reached and the optimization hasn't converged yet.\n",
      "  % self.max_iter, ConvergenceWarning)\n",
      "/anaconda3/envs/caispp/lib/python3.5/site-packages/sklearn/neural_network/multilayer_perceptron.py:562: ConvergenceWarning: Stochastic Optimizer: Maximum iterations (500) reached and the optimization hasn't converged yet.\n",
      "  % self.max_iter, ConvergenceWarning)\n"
     ]
    },
    {
     "name": "stdout",
     "output_type": "stream",
     "text": [
      "{'activation': 'relu', 'hidden_layer_sizes': (32, 12, 4)} 0.803475021538079\n"
     ]
    },
    {
     "name": "stderr",
     "output_type": "stream",
     "text": [
      "/anaconda3/envs/caispp/lib/python3.5/site-packages/sklearn/neural_network/multilayer_perceptron.py:562: ConvergenceWarning: Stochastic Optimizer: Maximum iterations (500) reached and the optimization hasn't converged yet.\n",
      "  % self.max_iter, ConvergenceWarning)\n"
     ]
    },
    {
     "name": "stdout",
     "output_type": "stream",
     "text": [
      "{'activation': 'tanh', 'hidden_layer_sizes': (32, 12, 4)} 0.8066400904989023\n",
      "{'activation': 'relu', 'hidden_layer_sizes': (64, 24, 8)} 0.8074565345888045\n"
     ]
    },
    {
     "name": "stderr",
     "output_type": "stream",
     "text": [
      "/anaconda3/envs/caispp/lib/python3.5/site-packages/sklearn/neural_network/multilayer_perceptron.py:562: ConvergenceWarning: Stochastic Optimizer: Maximum iterations (500) reached and the optimization hasn't converged yet.\n",
      "  % self.max_iter, ConvergenceWarning)\n"
     ]
    },
    {
     "name": "stdout",
     "output_type": "stream",
     "text": [
      "{'activation': 'tanh', 'hidden_layer_sizes': (64, 24, 8)} 0.814591778861343\n"
     ]
    },
    {
     "name": "stderr",
     "output_type": "stream",
     "text": [
      "/anaconda3/envs/caispp/lib/python3.5/site-packages/sklearn/neural_network/multilayer_perceptron.py:562: ConvergenceWarning: Stochastic Optimizer: Maximum iterations (500) reached and the optimization hasn't converged yet.\n",
      "  % self.max_iter, ConvergenceWarning)\n"
     ]
    },
    {
     "name": "stdout",
     "output_type": "stream",
     "text": [
      "{'activation': 'relu', 'hidden_layer_sizes': (32, 16, 8, 4)} 0.8050585076272805\n",
      "{'activation': 'tanh', 'hidden_layer_sizes': (32, 16, 8, 4)} 0.8034674267936421\n",
      "{'activation': 'relu', 'hidden_layer_sizes': (64, 32, 12, 6)} 0.7970859291861679\n"
     ]
    },
    {
     "name": "stderr",
     "output_type": "stream",
     "text": [
      "/anaconda3/envs/caispp/lib/python3.5/site-packages/sklearn/neural_network/multilayer_perceptron.py:562: ConvergenceWarning: Stochastic Optimizer: Maximum iterations (500) reached and the optimization hasn't converged yet.\n",
      "  % self.max_iter, ConvergenceWarning)\n"
     ]
    },
    {
     "name": "stdout",
     "output_type": "stream",
     "text": [
      "{'activation': 'tanh', 'hidden_layer_sizes': (64, 32, 12, 6)} 0.8074489489073083\n",
      "{'activation': 'relu', 'hidden_layer_sizes': (128, 64, 32, 16, 4)} 0.797911844049264\n",
      "{'activation': 'tanh', 'hidden_layer_sizes': (128, 64, 32, 16, 4)} 0.8114076867876642\n",
      "{'activation': 'relu', 'hidden_layer_sizes': (256, 96, 48, 16, 4)} 0.8026642417862114\n",
      "{'activation': 'tanh', 'hidden_layer_sizes': (256, 96, 48, 16, 4)} 0.8010864562868081\n",
      "{'activation': 'relu', 'hidden_layer_sizes': (128, 64, 32, 16, 8, 4)} 0.7931157538744525\n",
      "{'activation': 'tanh', 'hidden_layer_sizes': (128, 64, 32, 16, 8, 4)} 0.7971277093435113\n",
      "Best HP {'activation': 'tanh', 'hidden_layer_sizes': (64, 24, 8)}\n",
      "{'accuracy': 0.8106533600109281, 'precision_1': 0.8209557474905792, 'precision_0': 0.78377986546045, 'auc': 0.8612179504298023, 'f1_0': 0.6964419137917708, 'f1_1': 0.8624176748096595, 'recall_1': 0.9082903912139809, 'recall_0': 0.6266169038898419}\n",
      "\n",
      "{'activation': 'relu', 'hidden_layer_sizes': ()} 0.7597387915438412\n",
      "{'activation': 'tanh', 'hidden_layer_sizes': ()} 0.7796160865750114\n"
     ]
    },
    {
     "name": "stderr",
     "output_type": "stream",
     "text": [
      "/anaconda3/envs/caispp/lib/python3.5/site-packages/sklearn/neural_network/multilayer_perceptron.py:562: ConvergenceWarning: Stochastic Optimizer: Maximum iterations (500) reached and the optimization hasn't converged yet.\n",
      "  % self.max_iter, ConvergenceWarning)\n"
     ]
    },
    {
     "name": "stdout",
     "output_type": "stream",
     "text": [
      "{'activation': 'relu', 'hidden_layer_sizes': (4,)} 0.7780363978580284\n",
      "{'activation': 'tanh', 'hidden_layer_sizes': (4,)} 0.7772389678180408\n"
     ]
    },
    {
     "name": "stderr",
     "output_type": "stream",
     "text": [
      "/anaconda3/envs/caispp/lib/python3.5/site-packages/sklearn/neural_network/multilayer_perceptron.py:562: ConvergenceWarning: Stochastic Optimizer: Maximum iterations (500) reached and the optimization hasn't converged yet.\n",
      "  % self.max_iter, ConvergenceWarning)\n",
      "/anaconda3/envs/caispp/lib/python3.5/site-packages/sklearn/neural_network/multilayer_perceptron.py:562: ConvergenceWarning: Stochastic Optimizer: Maximum iterations (500) reached and the optimization hasn't converged yet.\n",
      "  % self.max_iter, ConvergenceWarning)\n",
      "/anaconda3/envs/caispp/lib/python3.5/site-packages/sklearn/neural_network/multilayer_perceptron.py:562: ConvergenceWarning: Stochastic Optimizer: Maximum iterations (500) reached and the optimization hasn't converged yet.\n",
      "  % self.max_iter, ConvergenceWarning)\n"
     ]
    },
    {
     "name": "stdout",
     "output_type": "stream",
     "text": [
      "{'activation': 'relu', 'hidden_layer_sizes': (16, 4)} 0.7987358466318396\n"
     ]
    },
    {
     "name": "stderr",
     "output_type": "stream",
     "text": [
      "/anaconda3/envs/caispp/lib/python3.5/site-packages/sklearn/neural_network/multilayer_perceptron.py:562: ConvergenceWarning: Stochastic Optimizer: Maximum iterations (500) reached and the optimization hasn't converged yet.\n",
      "  % self.max_iter, ConvergenceWarning)\n",
      "/anaconda3/envs/caispp/lib/python3.5/site-packages/sklearn/neural_network/multilayer_perceptron.py:562: ConvergenceWarning: Stochastic Optimizer: Maximum iterations (500) reached and the optimization hasn't converged yet.\n",
      "  % self.max_iter, ConvergenceWarning)\n",
      "/anaconda3/envs/caispp/lib/python3.5/site-packages/sklearn/neural_network/multilayer_perceptron.py:562: ConvergenceWarning: Stochastic Optimizer: Maximum iterations (500) reached and the optimization hasn't converged yet.\n",
      "  % self.max_iter, ConvergenceWarning)\n"
     ]
    },
    {
     "name": "stdout",
     "output_type": "stream",
     "text": [
      "{'activation': 'tanh', 'hidden_layer_sizes': (16, 4)} 0.7868045393733122\n",
      "{'activation': 'relu', 'hidden_layer_sizes': (32, 8)} 0.8058881654849497\n"
     ]
    },
    {
     "name": "stderr",
     "output_type": "stream",
     "text": [
      "/anaconda3/envs/caispp/lib/python3.5/site-packages/sklearn/neural_network/multilayer_perceptron.py:562: ConvergenceWarning: Stochastic Optimizer: Maximum iterations (500) reached and the optimization hasn't converged yet.\n",
      "  % self.max_iter, ConvergenceWarning)\n"
     ]
    },
    {
     "name": "stdout",
     "output_type": "stream",
     "text": [
      "{'activation': 'tanh', 'hidden_layer_sizes': (32, 8)} 0.8035110104762158\n"
     ]
    },
    {
     "name": "stderr",
     "output_type": "stream",
     "text": [
      "/anaconda3/envs/caispp/lib/python3.5/site-packages/sklearn/neural_network/multilayer_perceptron.py:562: ConvergenceWarning: Stochastic Optimizer: Maximum iterations (500) reached and the optimization hasn't converged yet.\n",
      "  % self.max_iter, ConvergenceWarning)\n",
      "/anaconda3/envs/caispp/lib/python3.5/site-packages/sklearn/neural_network/multilayer_perceptron.py:562: ConvergenceWarning: Stochastic Optimizer: Maximum iterations (500) reached and the optimization hasn't converged yet.\n",
      "  % self.max_iter, ConvergenceWarning)\n"
     ]
    },
    {
     "name": "stdout",
     "output_type": "stream",
     "text": [
      "{'activation': 'relu', 'hidden_layer_sizes': (32, 12, 4)} 0.7931650743985877\n",
      "{'activation': 'tanh', 'hidden_layer_sizes': (32, 12, 4)} 0.8074716425112104\n",
      "{'activation': 'relu', 'hidden_layer_sizes': (64, 24, 8)} 0.7963358802009726\n",
      "{'activation': 'tanh', 'hidden_layer_sizes': (64, 24, 8)} 0.8019028188102425\n",
      "{'activation': 'relu', 'hidden_layer_sizes': (32, 16, 8, 4)} 0.7931688898966879\n",
      "{'activation': 'tanh', 'hidden_layer_sizes': (32, 16, 8, 4)} 0.7995351436376433\n",
      "{'activation': 'relu', 'hidden_layer_sizes': (64, 32, 12, 6)} 0.7931631802439489\n",
      "{'activation': 'tanh', 'hidden_layer_sizes': (64, 32, 12, 6)} 0.7987301007273372\n",
      "{'activation': 'relu', 'hidden_layer_sizes': (128, 64, 32, 16, 4)} 0.7907993205694499\n",
      "{'activation': 'tanh', 'hidden_layer_sizes': (128, 64, 32, 16, 4)} 0.7915853494298414\n",
      "{'activation': 'relu', 'hidden_layer_sizes': (256, 96, 48, 16, 4)} 0.7939700901200712\n",
      "{'activation': 'tanh', 'hidden_layer_sizes': (256, 96, 48, 16, 4)} 0.7844235416776555\n",
      "{'activation': 'relu', 'hidden_layer_sizes': (128, 64, 32, 16, 8, 4)} 0.7899562767481371\n",
      "{'activation': 'tanh', 'hidden_layer_sizes': (128, 64, 32, 16, 8, 4)} 0.7915682929751514\n",
      "Best HP {'activation': 'tanh', 'hidden_layer_sizes': (32, 12, 4)}\n",
      "{'accuracy': 0.8111354852188447, 'precision_1': 0.822395630120952, 'precision_0': 0.7820630900299332, 'auc': 0.8603872994846342, 'f1_0': 0.6980783064433255, 'f1_1': 0.862589885998246, 'recall_1': 0.90691499170201, 'recall_0': 0.6303823311061618}\n",
      "\n"
     ]
    },
    {
     "name": "stderr",
     "output_type": "stream",
     "text": [
      "/anaconda3/envs/caispp/lib/python3.5/site-packages/sklearn/neural_network/multilayer_perceptron.py:562: ConvergenceWarning: Stochastic Optimizer: Maximum iterations (500) reached and the optimization hasn't converged yet.\n",
      "  % self.max_iter, ConvergenceWarning)\n",
      "/anaconda3/envs/caispp/lib/python3.5/site-packages/sklearn/neural_network/multilayer_perceptron.py:562: ConvergenceWarning: Stochastic Optimizer: Maximum iterations (500) reached and the optimization hasn't converged yet.\n",
      "  % self.max_iter, ConvergenceWarning)\n"
     ]
    },
    {
     "name": "stdout",
     "output_type": "stream",
     "text": [
      "{'activation': 'relu', 'hidden_layer_sizes': ()} 0.7700639191092652\n",
      "{'activation': 'tanh', 'hidden_layer_sizes': ()} 0.7828249657919297\n"
     ]
    },
    {
     "name": "stderr",
     "output_type": "stream",
     "text": [
      "/anaconda3/envs/caispp/lib/python3.5/site-packages/sklearn/neural_network/multilayer_perceptron.py:562: ConvergenceWarning: Stochastic Optimizer: Maximum iterations (500) reached and the optimization hasn't converged yet.\n",
      "  % self.max_iter, ConvergenceWarning)\n",
      "/anaconda3/envs/caispp/lib/python3.5/site-packages/sklearn/neural_network/multilayer_perceptron.py:562: ConvergenceWarning: Stochastic Optimizer: Maximum iterations (500) reached and the optimization hasn't converged yet.\n",
      "  % self.max_iter, ConvergenceWarning)\n"
     ]
    },
    {
     "name": "stdout",
     "output_type": "stream",
     "text": [
      "{'activation': 'relu', 'hidden_layer_sizes': (4,)} 0.7740587365571664\n"
     ]
    },
    {
     "name": "stderr",
     "output_type": "stream",
     "text": [
      "/anaconda3/envs/caispp/lib/python3.5/site-packages/sklearn/neural_network/multilayer_perceptron.py:562: ConvergenceWarning: Stochastic Optimizer: Maximum iterations (500) reached and the optimization hasn't converged yet.\n",
      "  % self.max_iter, ConvergenceWarning)\n",
      "/anaconda3/envs/caispp/lib/python3.5/site-packages/sklearn/neural_network/multilayer_perceptron.py:562: ConvergenceWarning: Stochastic Optimizer: Maximum iterations (500) reached and the optimization hasn't converged yet.\n",
      "  % self.max_iter, ConvergenceWarning)\n"
     ]
    },
    {
     "name": "stdout",
     "output_type": "stream",
     "text": [
      "{'activation': 'tanh', 'hidden_layer_sizes': (4,)} 0.7828039941467902\n"
     ]
    },
    {
     "name": "stderr",
     "output_type": "stream",
     "text": [
      "/anaconda3/envs/caispp/lib/python3.5/site-packages/sklearn/neural_network/multilayer_perceptron.py:562: ConvergenceWarning: Stochastic Optimizer: Maximum iterations (500) reached and the optimization hasn't converged yet.\n",
      "  % self.max_iter, ConvergenceWarning)\n",
      "/anaconda3/envs/caispp/lib/python3.5/site-packages/sklearn/neural_network/multilayer_perceptron.py:562: ConvergenceWarning: Stochastic Optimizer: Maximum iterations (500) reached and the optimization hasn't converged yet.\n",
      "  % self.max_iter, ConvergenceWarning)\n"
     ]
    },
    {
     "name": "stdout",
     "output_type": "stream",
     "text": [
      "{'activation': 'relu', 'hidden_layer_sizes': (16, 4)} 0.7923544124649514\n"
     ]
    },
    {
     "name": "stderr",
     "output_type": "stream",
     "text": [
      "/anaconda3/envs/caispp/lib/python3.5/site-packages/sklearn/neural_network/multilayer_perceptron.py:562: ConvergenceWarning: Stochastic Optimizer: Maximum iterations (500) reached and the optimization hasn't converged yet.\n",
      "  % self.max_iter, ConvergenceWarning)\n",
      "/anaconda3/envs/caispp/lib/python3.5/site-packages/sklearn/neural_network/multilayer_perceptron.py:562: ConvergenceWarning: Stochastic Optimizer: Maximum iterations (500) reached and the optimization hasn't converged yet.\n",
      "  % self.max_iter, ConvergenceWarning)\n"
     ]
    },
    {
     "name": "stdout",
     "output_type": "stream",
     "text": [
      "{'activation': 'tanh', 'hidden_layer_sizes': (16, 4)} 0.7963397410137768\n"
     ]
    },
    {
     "name": "stderr",
     "output_type": "stream",
     "text": [
      "/anaconda3/envs/caispp/lib/python3.5/site-packages/sklearn/neural_network/multilayer_perceptron.py:562: ConvergenceWarning: Stochastic Optimizer: Maximum iterations (500) reached and the optimization hasn't converged yet.\n",
      "  % self.max_iter, ConvergenceWarning)\n",
      "/anaconda3/envs/caispp/lib/python3.5/site-packages/sklearn/neural_network/multilayer_perceptron.py:562: ConvergenceWarning: Stochastic Optimizer: Maximum iterations (500) reached and the optimization hasn't converged yet.\n",
      "  % self.max_iter, ConvergenceWarning)\n"
     ]
    },
    {
     "name": "stdout",
     "output_type": "stream",
     "text": [
      "{'activation': 'relu', 'hidden_layer_sizes': (32, 8)} 0.8058939023265111\n"
     ]
    },
    {
     "name": "stderr",
     "output_type": "stream",
     "text": [
      "/anaconda3/envs/caispp/lib/python3.5/site-packages/sklearn/neural_network/multilayer_perceptron.py:562: ConvergenceWarning: Stochastic Optimizer: Maximum iterations (500) reached and the optimization hasn't converged yet.\n",
      "  % self.max_iter, ConvergenceWarning)\n",
      "/anaconda3/envs/caispp/lib/python3.5/site-packages/sklearn/neural_network/multilayer_perceptron.py:562: ConvergenceWarning: Stochastic Optimizer: Maximum iterations (500) reached and the optimization hasn't converged yet.\n",
      "  % self.max_iter, ConvergenceWarning)\n"
     ]
    },
    {
     "name": "stdout",
     "output_type": "stream",
     "text": [
      "{'activation': 'tanh', 'hidden_layer_sizes': (32, 8)} 0.7995200266522966\n"
     ]
    },
    {
     "name": "stderr",
     "output_type": "stream",
     "text": [
      "/anaconda3/envs/caispp/lib/python3.5/site-packages/sklearn/neural_network/multilayer_perceptron.py:562: ConvergenceWarning: Stochastic Optimizer: Maximum iterations (500) reached and the optimization hasn't converged yet.\n",
      "  % self.max_iter, ConvergenceWarning)\n"
     ]
    },
    {
     "name": "stdout",
     "output_type": "stream",
     "text": [
      "{'activation': 'relu', 'hidden_layer_sizes': (32, 12, 4)} 0.8011092495830594\n"
     ]
    },
    {
     "name": "stderr",
     "output_type": "stream",
     "text": [
      "/anaconda3/envs/caispp/lib/python3.5/site-packages/sklearn/neural_network/multilayer_perceptron.py:562: ConvergenceWarning: Stochastic Optimizer: Maximum iterations (500) reached and the optimization hasn't converged yet.\n",
      "  % self.max_iter, ConvergenceWarning)\n"
     ]
    },
    {
     "name": "stdout",
     "output_type": "stream",
     "text": [
      "{'activation': 'tanh', 'hidden_layer_sizes': (32, 12, 4)} 0.792365777392784\n"
     ]
    },
    {
     "name": "stderr",
     "output_type": "stream",
     "text": [
      "/anaconda3/envs/caispp/lib/python3.5/site-packages/sklearn/neural_network/multilayer_perceptron.py:562: ConvergenceWarning: Stochastic Optimizer: Maximum iterations (500) reached and the optimization hasn't converged yet.\n",
      "  % self.max_iter, ConvergenceWarning)\n"
     ]
    },
    {
     "name": "stdout",
     "output_type": "stream",
     "text": [
      "{'activation': 'relu', 'hidden_layer_sizes': (64, 24, 8)} 0.8042971390289567\n",
      "{'activation': 'tanh', 'hidden_layer_sizes': (64, 24, 8)} 0.8034807130649363\n",
      "{'activation': 'relu', 'hidden_layer_sizes': (32, 16, 8, 4)} 0.7987358556947804\n",
      "{'activation': 'tanh', 'hidden_layer_sizes': (32, 16, 8, 4)} 0.8082596561556491\n",
      "{'activation': 'relu', 'hidden_layer_sizes': (64, 32, 12, 6)} 0.7979251575093805\n"
     ]
    },
    {
     "name": "stderr",
     "output_type": "stream",
     "text": [
      "/anaconda3/envs/caispp/lib/python3.5/site-packages/sklearn/neural_network/multilayer_perceptron.py:562: ConvergenceWarning: Stochastic Optimizer: Maximum iterations (500) reached and the optimization hasn't converged yet.\n",
      "  % self.max_iter, ConvergenceWarning)\n"
     ]
    },
    {
     "name": "stdout",
     "output_type": "stream",
     "text": [
      "{'activation': 'tanh', 'hidden_layer_sizes': (64, 32, 12, 6)} 0.8026965149185976\n",
      "{'activation': 'relu', 'hidden_layer_sizes': (128, 64, 32, 16, 4)} 0.8074736182323168\n",
      "{'activation': 'tanh', 'hidden_layer_sizes': (128, 64, 32, 16, 4)} 0.7907823184924051\n",
      "{'activation': 'relu', 'hidden_layer_sizes': (256, 96, 48, 16, 4)} 0.7812224837786953\n",
      "{'activation': 'tanh', 'hidden_layer_sizes': (256, 96, 48, 16, 4)} 0.789971574992301\n",
      "{'activation': 'relu', 'hidden_layer_sizes': (128, 64, 32, 16, 8, 4)} 0.800313695571829\n",
      "{'activation': 'tanh', 'hidden_layer_sizes': (128, 64, 32, 16, 8, 4)} 0.7987263939845274\n",
      "Best HP {'activation': 'tanh', 'hidden_layer_sizes': (32, 16, 8, 4)}\n",
      "{'accuracy': 0.8015652998417022, 'precision_1': 0.813056314200732, 'precision_0': 0.7710085269038518, 'auc': 0.8425340543418532, 'f1_0': 0.6798636228107702, 'f1_1': 0.8562229635710502, 'recall_1': 0.9042302016724053, 'recall_0': 0.6079899835377588}\n",
      "\n",
      "{'activation': 'relu', 'hidden_layer_sizes': ()} 0.7923885706890355\n",
      "{'activation': 'tanh', 'hidden_layer_sizes': ()} 0.793941714052253\n"
     ]
    },
    {
     "name": "stderr",
     "output_type": "stream",
     "text": [
      "/anaconda3/envs/caispp/lib/python3.5/site-packages/sklearn/neural_network/multilayer_perceptron.py:562: ConvergenceWarning: Stochastic Optimizer: Maximum iterations (500) reached and the optimization hasn't converged yet.\n",
      "  % self.max_iter, ConvergenceWarning)\n",
      "/anaconda3/envs/caispp/lib/python3.5/site-packages/sklearn/neural_network/multilayer_perceptron.py:562: ConvergenceWarning: Stochastic Optimizer: Maximum iterations (500) reached and the optimization hasn't converged yet.\n",
      "  % self.max_iter, ConvergenceWarning)\n"
     ]
    },
    {
     "name": "stdout",
     "output_type": "stream",
     "text": [
      "{'activation': 'relu', 'hidden_layer_sizes': (4,)} 0.8090647081288959\n"
     ]
    },
    {
     "name": "stderr",
     "output_type": "stream",
     "text": [
      "/anaconda3/envs/caispp/lib/python3.5/site-packages/sklearn/neural_network/multilayer_perceptron.py:562: ConvergenceWarning: Stochastic Optimizer: Maximum iterations (500) reached and the optimization hasn't converged yet.\n",
      "  % self.max_iter, ConvergenceWarning)\n",
      "/anaconda3/envs/caispp/lib/python3.5/site-packages/sklearn/neural_network/multilayer_perceptron.py:562: ConvergenceWarning: Stochastic Optimizer: Maximum iterations (500) reached and the optimization hasn't converged yet.\n",
      "  % self.max_iter, ConvergenceWarning)\n"
     ]
    },
    {
     "name": "stdout",
     "output_type": "stream",
     "text": [
      "{'activation': 'tanh', 'hidden_layer_sizes': (4,)} 0.8050907535708441\n"
     ]
    },
    {
     "name": "stderr",
     "output_type": "stream",
     "text": [
      "/anaconda3/envs/caispp/lib/python3.5/site-packages/sklearn/neural_network/multilayer_perceptron.py:562: ConvergenceWarning: Stochastic Optimizer: Maximum iterations (500) reached and the optimization hasn't converged yet.\n",
      "  % self.max_iter, ConvergenceWarning)\n",
      "/anaconda3/envs/caispp/lib/python3.5/site-packages/sklearn/neural_network/multilayer_perceptron.py:562: ConvergenceWarning: Stochastic Optimizer: Maximum iterations (500) reached and the optimization hasn't converged yet.\n",
      "  % self.max_iter, ConvergenceWarning)\n",
      "/anaconda3/envs/caispp/lib/python3.5/site-packages/sklearn/neural_network/multilayer_perceptron.py:562: ConvergenceWarning: Stochastic Optimizer: Maximum iterations (500) reached and the optimization hasn't converged yet.\n",
      "  % self.max_iter, ConvergenceWarning)\n"
     ]
    },
    {
     "name": "stdout",
     "output_type": "stream",
     "text": [
      "{'activation': 'relu', 'hidden_layer_sizes': (16, 4)} 0.8114817310144531\n"
     ]
    },
    {
     "name": "stderr",
     "output_type": "stream",
     "text": [
      "/anaconda3/envs/caispp/lib/python3.5/site-packages/sklearn/neural_network/multilayer_perceptron.py:562: ConvergenceWarning: Stochastic Optimizer: Maximum iterations (500) reached and the optimization hasn't converged yet.\n",
      "  % self.max_iter, ConvergenceWarning)\n",
      "/anaconda3/envs/caispp/lib/python3.5/site-packages/sklearn/neural_network/multilayer_perceptron.py:562: ConvergenceWarning: Stochastic Optimizer: Maximum iterations (500) reached and the optimization hasn't converged yet.\n",
      "  % self.max_iter, ConvergenceWarning)\n"
     ]
    },
    {
     "name": "stdout",
     "output_type": "stream",
     "text": [
      "{'activation': 'tanh', 'hidden_layer_sizes': (16, 4)} 0.805094569068944\n"
     ]
    },
    {
     "name": "stderr",
     "output_type": "stream",
     "text": [
      "/anaconda3/envs/caispp/lib/python3.5/site-packages/sklearn/neural_network/multilayer_perceptron.py:562: ConvergenceWarning: Stochastic Optimizer: Maximum iterations (500) reached and the optimization hasn't converged yet.\n",
      "  % self.max_iter, ConvergenceWarning)\n",
      "/anaconda3/envs/caispp/lib/python3.5/site-packages/sklearn/neural_network/multilayer_perceptron.py:562: ConvergenceWarning: Stochastic Optimizer: Maximum iterations (500) reached and the optimization hasn't converged yet.\n",
      "  % self.max_iter, ConvergenceWarning)\n"
     ]
    },
    {
     "name": "stdout",
     "output_type": "stream",
     "text": [
      "{'activation': 'relu', 'hidden_layer_sizes': (32, 8)} 0.8130576857998036\n"
     ]
    },
    {
     "name": "stderr",
     "output_type": "stream",
     "text": [
      "/anaconda3/envs/caispp/lib/python3.5/site-packages/sklearn/neural_network/multilayer_perceptron.py:562: ConvergenceWarning: Stochastic Optimizer: Maximum iterations (500) reached and the optimization hasn't converged yet.\n",
      "  % self.max_iter, ConvergenceWarning)\n",
      "/anaconda3/envs/caispp/lib/python3.5/site-packages/sklearn/neural_network/multilayer_perceptron.py:562: ConvergenceWarning: Stochastic Optimizer: Maximum iterations (500) reached and the optimization hasn't converged yet.\n",
      "  % self.max_iter, ConvergenceWarning)\n",
      "/anaconda3/envs/caispp/lib/python3.5/site-packages/sklearn/neural_network/multilayer_perceptron.py:562: ConvergenceWarning: Stochastic Optimizer: Maximum iterations (500) reached and the optimization hasn't converged yet.\n",
      "  % self.max_iter, ConvergenceWarning)\n"
     ]
    },
    {
     "name": "stdout",
     "output_type": "stream",
     "text": [
      "{'activation': 'tanh', 'hidden_layer_sizes': (32, 8)} 0.8202156871168302\n"
     ]
    },
    {
     "name": "stderr",
     "output_type": "stream",
     "text": [
      "/anaconda3/envs/caispp/lib/python3.5/site-packages/sklearn/neural_network/multilayer_perceptron.py:562: ConvergenceWarning: Stochastic Optimizer: Maximum iterations (500) reached and the optimization hasn't converged yet.\n",
      "  % self.max_iter, ConvergenceWarning)\n",
      "/anaconda3/envs/caispp/lib/python3.5/site-packages/sklearn/neural_network/multilayer_perceptron.py:562: ConvergenceWarning: Stochastic Optimizer: Maximum iterations (500) reached and the optimization hasn't converged yet.\n",
      "  % self.max_iter, ConvergenceWarning)\n"
     ]
    },
    {
     "name": "stdout",
     "output_type": "stream",
     "text": [
      "{'activation': 'relu', 'hidden_layer_sizes': (32, 12, 4)} 0.8217744948180824\n"
     ]
    },
    {
     "name": "stderr",
     "output_type": "stream",
     "text": [
      "/anaconda3/envs/caispp/lib/python3.5/site-packages/sklearn/neural_network/multilayer_perceptron.py:562: ConvergenceWarning: Stochastic Optimizer: Maximum iterations (500) reached and the optimization hasn't converged yet.\n",
      "  % self.max_iter, ConvergenceWarning)\n",
      "/anaconda3/envs/caispp/lib/python3.5/site-packages/sklearn/neural_network/multilayer_perceptron.py:562: ConvergenceWarning: Stochastic Optimizer: Maximum iterations (500) reached and the optimization hasn't converged yet.\n",
      "  % self.max_iter, ConvergenceWarning)\n"
     ]
    },
    {
     "name": "stdout",
     "output_type": "stream",
     "text": [
      "{'activation': 'tanh', 'hidden_layer_sizes': (32, 12, 4)} 0.821009346973422\n",
      "{'activation': 'relu', 'hidden_layer_sizes': (64, 24, 8)} 0.8225909479709254\n",
      "{'activation': 'tanh', 'hidden_layer_sizes': (64, 24, 8)} 0.8249794679074921\n"
     ]
    },
    {
     "name": "stderr",
     "output_type": "stream",
     "text": [
      "/anaconda3/envs/caispp/lib/python3.5/site-packages/sklearn/neural_network/multilayer_perceptron.py:562: ConvergenceWarning: Stochastic Optimizer: Maximum iterations (500) reached and the optimization hasn't converged yet.\n",
      "  % self.max_iter, ConvergenceWarning)\n"
     ]
    },
    {
     "name": "stdout",
     "output_type": "stream",
     "text": [
      "{'activation': 'relu', 'hidden_layer_sizes': (32, 16, 8, 4)} 0.8193916754713136\n",
      "{'activation': 'tanh', 'hidden_layer_sizes': (32, 16, 8, 4)} 0.8066894563377417\n",
      "{'activation': 'relu', 'hidden_layer_sizes': (64, 32, 12, 6)} 0.8186188875675121\n",
      "{'activation': 'tanh', 'hidden_layer_sizes': (64, 32, 12, 6)} 0.8233959818182907\n",
      "{'activation': 'relu', 'hidden_layer_sizes': (128, 64, 32, 16, 4)} 0.8090666022835348\n",
      "{'activation': 'tanh', 'hidden_layer_sizes': (128, 64, 32, 16, 4)} 0.820191008728881\n",
      "{'activation': 'relu', 'hidden_layer_sizes': (256, 96, 48, 16, 4)} 0.8170106959015389\n",
      "{'activation': 'tanh', 'hidden_layer_sizes': (256, 96, 48, 16, 4)} 0.8082653748713288\n",
      "{'activation': 'relu', 'hidden_layer_sizes': (128, 64, 32, 16, 8, 4)} 0.7994801406495918\n",
      "{'activation': 'tanh', 'hidden_layer_sizes': (128, 64, 32, 16, 8, 4)} 0.8241801437128657\n",
      "Best HP {'activation': 'tanh', 'hidden_layer_sizes': (64, 24, 8)}\n"
     ]
    },
    {
     "name": "stderr",
     "output_type": "stream",
     "text": [
      "/anaconda3/envs/caispp/lib/python3.5/site-packages/sklearn/neural_network/multilayer_perceptron.py:562: ConvergenceWarning: Stochastic Optimizer: Maximum iterations (500) reached and the optimization hasn't converged yet.\n",
      "  % self.max_iter, ConvergenceWarning)\n"
     ]
    },
    {
     "name": "stdout",
     "output_type": "stream",
     "text": [
      "{'accuracy': 0.802288487653577, 'precision_1': 0.8239216313109401, 'precision_0': 0.7508884247077015, 'auc': 0.8584353205580724, 'f1_0': 0.6923028825110987, 'f1_1': 0.8543505413388739, 'recall_1': 0.8871132309734839, 'recall_0': 0.6421975778386154}\n",
      "\n",
      "{'activation': 'relu', 'hidden_layer_sizes': ()} 0.8051153685182073\n"
     ]
    },
    {
     "name": "stderr",
     "output_type": "stream",
     "text": [
      "/anaconda3/envs/caispp/lib/python3.5/site-packages/sklearn/neural_network/multilayer_perceptron.py:562: ConvergenceWarning: Stochastic Optimizer: Maximum iterations (500) reached and the optimization hasn't converged yet.\n",
      "  % self.max_iter, ConvergenceWarning)\n"
     ]
    },
    {
     "name": "stdout",
     "output_type": "stream",
     "text": [
      "{'activation': 'tanh', 'hidden_layer_sizes': ()} 0.8074811132844043\n"
     ]
    },
    {
     "name": "stderr",
     "output_type": "stream",
     "text": [
      "/anaconda3/envs/caispp/lib/python3.5/site-packages/sklearn/neural_network/multilayer_perceptron.py:562: ConvergenceWarning: Stochastic Optimizer: Maximum iterations (500) reached and the optimization hasn't converged yet.\n",
      "  % self.max_iter, ConvergenceWarning)\n",
      "/anaconda3/envs/caispp/lib/python3.5/site-packages/sklearn/neural_network/multilayer_perceptron.py:562: ConvergenceWarning: Stochastic Optimizer: Maximum iterations (500) reached and the optimization hasn't converged yet.\n",
      "  % self.max_iter, ConvergenceWarning)\n"
     ]
    },
    {
     "name": "stdout",
     "output_type": "stream",
     "text": [
      "{'activation': 'relu', 'hidden_layer_sizes': (4,)} 0.806712195256348\n"
     ]
    },
    {
     "name": "stderr",
     "output_type": "stream",
     "text": [
      "/anaconda3/envs/caispp/lib/python3.5/site-packages/sklearn/neural_network/multilayer_perceptron.py:562: ConvergenceWarning: Stochastic Optimizer: Maximum iterations (500) reached and the optimization hasn't converged yet.\n",
      "  % self.max_iter, ConvergenceWarning)\n"
     ]
    },
    {
     "name": "stdout",
     "output_type": "stream",
     "text": [
      "{'activation': 'tanh', 'hidden_layer_sizes': (4,)} 0.8075001454602008\n"
     ]
    },
    {
     "name": "stderr",
     "output_type": "stream",
     "text": [
      "/anaconda3/envs/caispp/lib/python3.5/site-packages/sklearn/neural_network/multilayer_perceptron.py:562: ConvergenceWarning: Stochastic Optimizer: Maximum iterations (500) reached and the optimization hasn't converged yet.\n",
      "  % self.max_iter, ConvergenceWarning)\n"
     ]
    },
    {
     "name": "stdout",
     "output_type": "stream",
     "text": [
      "{'activation': 'relu', 'hidden_layer_sizes': (16, 4)} 0.8099000665763635\n"
     ]
    },
    {
     "name": "stderr",
     "output_type": "stream",
     "text": [
      "/anaconda3/envs/caispp/lib/python3.5/site-packages/sklearn/neural_network/multilayer_perceptron.py:562: ConvergenceWarning: Stochastic Optimizer: Maximum iterations (500) reached and the optimization hasn't converged yet.\n",
      "  % self.max_iter, ConvergenceWarning)\n",
      "/anaconda3/envs/caispp/lib/python3.5/site-packages/sklearn/neural_network/multilayer_perceptron.py:562: ConvergenceWarning: Stochastic Optimizer: Maximum iterations (500) reached and the optimization hasn't converged yet.\n",
      "  % self.max_iter, ConvergenceWarning)\n"
     ]
    },
    {
     "name": "stdout",
     "output_type": "stream",
     "text": [
      "{'activation': 'tanh', 'hidden_layer_sizes': (16, 4)} 0.8051229813885259\n"
     ]
    },
    {
     "name": "stderr",
     "output_type": "stream",
     "text": [
      "/anaconda3/envs/caispp/lib/python3.5/site-packages/sklearn/neural_network/multilayer_perceptron.py:562: ConvergenceWarning: Stochastic Optimizer: Maximum iterations (500) reached and the optimization hasn't converged yet.\n",
      "  % self.max_iter, ConvergenceWarning)\n",
      "/anaconda3/envs/caispp/lib/python3.5/site-packages/sklearn/neural_network/multilayer_perceptron.py:562: ConvergenceWarning: Stochastic Optimizer: Maximum iterations (500) reached and the optimization hasn't converged yet.\n",
      "  % self.max_iter, ConvergenceWarning)\n"
     ]
    },
    {
     "name": "stdout",
     "output_type": "stream",
     "text": [
      "{'activation': 'relu', 'hidden_layer_sizes': (32, 8)} 0.8138834919076094\n",
      "{'activation': 'tanh', 'hidden_layer_sizes': (32, 8)} 0.8075020305518986\n"
     ]
    },
    {
     "name": "stderr",
     "output_type": "stream",
     "text": [
      "/anaconda3/envs/caispp/lib/python3.5/site-packages/sklearn/neural_network/multilayer_perceptron.py:562: ConvergenceWarning: Stochastic Optimizer: Maximum iterations (500) reached and the optimization hasn't converged yet.\n",
      "  % self.max_iter, ConvergenceWarning)\n"
     ]
    },
    {
     "name": "stdout",
     "output_type": "stream",
     "text": [
      "{'activation': 'relu', 'hidden_layer_sizes': (32, 12, 4)} 0.8218371016135116\n"
     ]
    },
    {
     "name": "stderr",
     "output_type": "stream",
     "text": [
      "/anaconda3/envs/caispp/lib/python3.5/site-packages/sklearn/neural_network/multilayer_perceptron.py:562: ConvergenceWarning: Stochastic Optimizer: Maximum iterations (500) reached and the optimization hasn't converged yet.\n",
      "  % self.max_iter, ConvergenceWarning)\n"
     ]
    },
    {
     "name": "stdout",
     "output_type": "stream",
     "text": [
      "{'activation': 'tanh', 'hidden_layer_sizes': (32, 12, 4)} 0.8091178169623089\n",
      "{'activation': 'relu', 'hidden_layer_sizes': (64, 24, 8)} 0.8098905595514062\n"
     ]
    },
    {
     "name": "stderr",
     "output_type": "stream",
     "text": [
      "/anaconda3/envs/caispp/lib/python3.5/site-packages/sklearn/neural_network/multilayer_perceptron.py:562: ConvergenceWarning: Stochastic Optimizer: Maximum iterations (500) reached and the optimization hasn't converged yet.\n",
      "  % self.max_iter, ConvergenceWarning)\n"
     ]
    },
    {
     "name": "stdout",
     "output_type": "stream",
     "text": [
      "{'activation': 'tanh', 'hidden_layer_sizes': (64, 24, 8)} 0.8067179139720277\n"
     ]
    },
    {
     "name": "stderr",
     "output_type": "stream",
     "text": [
      "/anaconda3/envs/caispp/lib/python3.5/site-packages/sklearn/neural_network/multilayer_perceptron.py:562: ConvergenceWarning: Stochastic Optimizer: Maximum iterations (500) reached and the optimization hasn't converged yet.\n",
      "  % self.max_iter, ConvergenceWarning)\n"
     ]
    },
    {
     "name": "stdout",
     "output_type": "stream",
     "text": [
      "{'activation': 'relu', 'hidden_layer_sizes': (32, 16, 8, 4)} 0.808305170244625\n"
     ]
    },
    {
     "name": "stderr",
     "output_type": "stream",
     "text": [
      "/anaconda3/envs/caispp/lib/python3.5/site-packages/sklearn/neural_network/multilayer_perceptron.py:562: ConvergenceWarning: Stochastic Optimizer: Maximum iterations (500) reached and the optimization hasn't converged yet.\n",
      "  % self.max_iter, ConvergenceWarning)\n"
     ]
    },
    {
     "name": "stdout",
     "output_type": "stream",
     "text": [
      "{'activation': 'tanh', 'hidden_layer_sizes': (32, 16, 8, 4)} 0.8130879741481425\n",
      "{'activation': 'relu', 'hidden_layer_sizes': (64, 32, 12, 6)} 0.816249263862629\n",
      "{'activation': 'tanh', 'hidden_layer_sizes': (64, 32, 12, 6)} 0.8178650502730392\n",
      "{'activation': 'relu', 'hidden_layer_sizes': (128, 64, 32, 16, 4)} 0.7915720631585472\n"
     ]
    },
    {
     "name": "stderr",
     "output_type": "stream",
     "text": [
      "/anaconda3/envs/caispp/lib/python3.5/site-packages/sklearn/neural_network/multilayer_perceptron.py:562: ConvergenceWarning: Stochastic Optimizer: Maximum iterations (500) reached and the optimization hasn't converged yet.\n",
      "  % self.max_iter, ConvergenceWarning)\n"
     ]
    },
    {
     "name": "stdout",
     "output_type": "stream",
     "text": [
      "{'activation': 'tanh', 'hidden_layer_sizes': (128, 64, 32, 16, 4)} 0.8106918232153756\n",
      "{'activation': 'relu', 'hidden_layer_sizes': (256, 96, 48, 16, 4)} 0.7963985413740469\n",
      "{'activation': 'tanh', 'hidden_layer_sizes': (256, 96, 48, 16, 4)} 0.8154651291568764\n",
      "{'activation': 'relu', 'hidden_layer_sizes': (128, 64, 32, 16, 8, 4)} 0.8035223935299304\n",
      "{'activation': 'tanh', 'hidden_layer_sizes': (128, 64, 32, 16, 8, 4)} 0.8146809491364194\n",
      "Best HP {'activation': 'relu', 'hidden_layer_sizes': (32, 12, 4)}\n"
     ]
    },
    {
     "name": "stderr",
     "output_type": "stream",
     "text": [
      "/anaconda3/envs/caispp/lib/python3.5/site-packages/sklearn/neural_network/multilayer_perceptron.py:562: ConvergenceWarning: Stochastic Optimizer: Maximum iterations (500) reached and the optimization hasn't converged yet.\n",
      "  % self.max_iter, ConvergenceWarning)\n"
     ]
    },
    {
     "name": "stdout",
     "output_type": "stream",
     "text": [
      "{'accuracy': 0.7797732404438766, 'precision_1': 0.8601122094576543, 'precision_0': 0.6584928109056444, 'auc': 0.8115158633933188, 'f1_0': 0.7043951895594025, 'f1_1': 0.8245199541563423, 'recall_1': 0.7917563296976255, 'recall_0': 0.7571766451792422}\n",
      "\n"
     ]
    },
    {
     "name": "stderr",
     "output_type": "stream",
     "text": [
      "/anaconda3/envs/caispp/lib/python3.5/site-packages/sklearn/neural_network/multilayer_perceptron.py:562: ConvergenceWarning: Stochastic Optimizer: Maximum iterations (500) reached and the optimization hasn't converged yet.\n",
      "  % self.max_iter, ConvergenceWarning)\n",
      "/anaconda3/envs/caispp/lib/python3.5/site-packages/sklearn/neural_network/multilayer_perceptron.py:562: ConvergenceWarning: Stochastic Optimizer: Maximum iterations (500) reached and the optimization hasn't converged yet.\n",
      "  % self.max_iter, ConvergenceWarning)\n",
      "/anaconda3/envs/caispp/lib/python3.5/site-packages/sklearn/neural_network/multilayer_perceptron.py:562: ConvergenceWarning: Stochastic Optimizer: Maximum iterations (500) reached and the optimization hasn't converged yet.\n",
      "  % self.max_iter, ConvergenceWarning)\n"
     ]
    },
    {
     "name": "stdout",
     "output_type": "stream",
     "text": [
      "{'activation': 'relu', 'hidden_layer_sizes': ()} 0.7867988569093959\n",
      "{'activation': 'tanh', 'hidden_layer_sizes': ()} 0.7891930864987012\n"
     ]
    },
    {
     "name": "stderr",
     "output_type": "stream",
     "text": [
      "/anaconda3/envs/caispp/lib/python3.5/site-packages/sklearn/neural_network/multilayer_perceptron.py:562: ConvergenceWarning: Stochastic Optimizer: Maximum iterations (500) reached and the optimization hasn't converged yet.\n",
      "  % self.max_iter, ConvergenceWarning)\n"
     ]
    },
    {
     "name": "stdout",
     "output_type": "stream",
     "text": [
      "{'activation': 'relu', 'hidden_layer_sizes': (4,)} 0.8058369598691167\n"
     ]
    },
    {
     "name": "stderr",
     "output_type": "stream",
     "text": [
      "/anaconda3/envs/caispp/lib/python3.5/site-packages/sklearn/neural_network/multilayer_perceptron.py:562: ConvergenceWarning: Stochastic Optimizer: Maximum iterations (500) reached and the optimization hasn't converged yet.\n",
      "  % self.max_iter, ConvergenceWarning)\n",
      "/anaconda3/envs/caispp/lib/python3.5/site-packages/sklearn/neural_network/multilayer_perceptron.py:562: ConvergenceWarning: Stochastic Optimizer: Maximum iterations (500) reached and the optimization hasn't converged yet.\n",
      "  % self.max_iter, ConvergenceWarning)\n"
     ]
    },
    {
     "name": "stdout",
     "output_type": "stream",
     "text": [
      "{'activation': 'tanh', 'hidden_layer_sizes': (4,)} 0.8122013647701376\n"
     ]
    },
    {
     "name": "stderr",
     "output_type": "stream",
     "text": [
      "/anaconda3/envs/caispp/lib/python3.5/site-packages/sklearn/neural_network/multilayer_perceptron.py:562: ConvergenceWarning: Stochastic Optimizer: Maximum iterations (500) reached and the optimization hasn't converged yet.\n",
      "  % self.max_iter, ConvergenceWarning)\n"
     ]
    },
    {
     "name": "stdout",
     "output_type": "stream",
     "text": [
      "{'activation': 'relu', 'hidden_layer_sizes': (16, 4)} 0.8153911393077328\n"
     ]
    },
    {
     "name": "stderr",
     "output_type": "stream",
     "text": [
      "/anaconda3/envs/caispp/lib/python3.5/site-packages/sklearn/neural_network/multilayer_perceptron.py:562: ConvergenceWarning: Stochastic Optimizer: Maximum iterations (500) reached and the optimization hasn't converged yet.\n",
      "  % self.max_iter, ConvergenceWarning)\n",
      "/anaconda3/envs/caispp/lib/python3.5/site-packages/sklearn/neural_network/multilayer_perceptron.py:562: ConvergenceWarning: Stochastic Optimizer: Maximum iterations (500) reached and the optimization hasn't converged yet.\n",
      "  % self.max_iter, ConvergenceWarning)\n",
      "/anaconda3/envs/caispp/lib/python3.5/site-packages/sklearn/neural_network/multilayer_perceptron.py:562: ConvergenceWarning: Stochastic Optimizer: Maximum iterations (500) reached and the optimization hasn't converged yet.\n",
      "  % self.max_iter, ConvergenceWarning)\n"
     ]
    },
    {
     "name": "stdout",
     "output_type": "stream",
     "text": [
      "{'activation': 'tanh', 'hidden_layer_sizes': (16, 4)} 0.8050490096652639\n",
      "{'activation': 'relu', 'hidden_layer_sizes': (32, 8)} 0.81144186313763\n"
     ]
    },
    {
     "name": "stderr",
     "output_type": "stream",
     "text": [
      "/anaconda3/envs/caispp/lib/python3.5/site-packages/sklearn/neural_network/multilayer_perceptron.py:562: ConvergenceWarning: Stochastic Optimizer: Maximum iterations (500) reached and the optimization hasn't converged yet.\n",
      "  % self.max_iter, ConvergenceWarning)\n"
     ]
    },
    {
     "name": "stdout",
     "output_type": "stream",
     "text": [
      "{'activation': 'tanh', 'hidden_layer_sizes': (32, 8)} 0.8209808349614907\n"
     ]
    },
    {
     "name": "stderr",
     "output_type": "stream",
     "text": [
      "/anaconda3/envs/caispp/lib/python3.5/site-packages/sklearn/neural_network/multilayer_perceptron.py:562: ConvergenceWarning: Stochastic Optimizer: Maximum iterations (500) reached and the optimization hasn't converged yet.\n",
      "  % self.max_iter, ConvergenceWarning)\n"
     ]
    },
    {
     "name": "stdout",
     "output_type": "stream",
     "text": [
      "{'activation': 'relu', 'hidden_layer_sizes': (32, 12, 4)} 0.8066571922682964\n"
     ]
    },
    {
     "name": "stderr",
     "output_type": "stream",
     "text": [
      "/anaconda3/envs/caispp/lib/python3.5/site-packages/sklearn/neural_network/multilayer_perceptron.py:562: ConvergenceWarning: Stochastic Optimizer: Maximum iterations (500) reached and the optimization hasn't converged yet.\n",
      "  % self.max_iter, ConvergenceWarning)\n"
     ]
    },
    {
     "name": "stdout",
     "output_type": "stream",
     "text": [
      "{'activation': 'tanh', 'hidden_layer_sizes': (32, 12, 4)} 0.8074546494971065\n",
      "{'activation': 'relu', 'hidden_layer_sizes': (64, 24, 8)} 0.803478782658534\n",
      "{'activation': 'tanh', 'hidden_layer_sizes': (64, 24, 8)} 0.8186056012962181\n",
      "{'activation': 'relu', 'hidden_layer_sizes': (32, 16, 8, 4)} 0.8002928054931573\n",
      "{'activation': 'tanh', 'hidden_layer_sizes': (32, 16, 8, 4)} 0.8098203670744809\n",
      "{'activation': 'relu', 'hidden_layer_sizes': (64, 32, 12, 6)} 0.8130101778638394\n"
     ]
    },
    {
     "name": "stderr",
     "output_type": "stream",
     "text": [
      "/anaconda3/envs/caispp/lib/python3.5/site-packages/sklearn/neural_network/multilayer_perceptron.py:562: ConvergenceWarning: Stochastic Optimizer: Maximum iterations (500) reached and the optimization hasn't converged yet.\n",
      "  % self.max_iter, ConvergenceWarning)\n"
     ]
    },
    {
     "name": "stdout",
     "output_type": "stream",
     "text": [
      "{'activation': 'tanh', 'hidden_layer_sizes': (64, 32, 12, 6)} 0.8114532371284037\n",
      "{'activation': 'relu', 'hidden_layer_sizes': (128, 64, 32, 16, 4)} 0.793918893567179\n",
      "{'activation': 'tanh', 'hidden_layer_sizes': (128, 64, 32, 16, 4)} 0.8114323833014953\n",
      "{'activation': 'relu', 'hidden_layer_sizes': (256, 96, 48, 16, 4)} 0.7963169658434074\n",
      "{'activation': 'tanh', 'hidden_layer_sizes': (256, 96, 48, 16, 4)} 0.8042724153263029\n",
      "{'activation': 'relu', 'hidden_layer_sizes': (128, 64, 32, 16, 8, 4)} 0.7859615771184668\n",
      "{'activation': 'tanh', 'hidden_layer_sizes': (128, 64, 32, 16, 8, 4)} 0.8074356535730735\n",
      "Best HP {'activation': 'tanh', 'hidden_layer_sizes': (32, 8)}\n"
     ]
    },
    {
     "name": "stderr",
     "output_type": "stream",
     "text": [
      "/anaconda3/envs/caispp/lib/python3.5/site-packages/sklearn/neural_network/multilayer_perceptron.py:562: ConvergenceWarning: Stochastic Optimizer: Maximum iterations (500) reached and the optimization hasn't converged yet.\n",
      "  % self.max_iter, ConvergenceWarning)\n"
     ]
    },
    {
     "name": "stdout",
     "output_type": "stream",
     "text": [
      "{'accuracy': 0.8072784835555127, 'precision_1': 0.8234047111622295, 'precision_0': 0.767292959794218, 'auc': 0.8599977153091014, 'f1_0': 0.6959046532268289, 'f1_1': 0.8589408803255935, 'recall_1': 0.8976827094474154, 'recall_0': 0.636669450631032}\n",
      "\n",
      "{'activation': 'relu', 'hidden_layer_sizes': ()} 0.793123312367126\n",
      "{'activation': 'tanh', 'hidden_layer_sizes': ()} 0.7843988451638245\n",
      "{'activation': 'relu', 'hidden_layer_sizes': (4,)} 0.8114228037730111\n"
     ]
    },
    {
     "name": "stderr",
     "output_type": "stream",
     "text": [
      "/anaconda3/envs/caispp/lib/python3.5/site-packages/sklearn/neural_network/multilayer_perceptron.py:562: ConvergenceWarning: Stochastic Optimizer: Maximum iterations (500) reached and the optimization hasn't converged yet.\n",
      "  % self.max_iter, ConvergenceWarning)\n",
      "/anaconda3/envs/caispp/lib/python3.5/site-packages/sklearn/neural_network/multilayer_perceptron.py:562: ConvergenceWarning: Stochastic Optimizer: Maximum iterations (500) reached and the optimization hasn't converged yet.\n",
      "  % self.max_iter, ConvergenceWarning)\n",
      "/anaconda3/envs/caispp/lib/python3.5/site-packages/sklearn/neural_network/multilayer_perceptron.py:562: ConvergenceWarning: Stochastic Optimizer: Maximum iterations (500) reached and the optimization hasn't converged yet.\n",
      "  % self.max_iter, ConvergenceWarning)\n"
     ]
    },
    {
     "name": "stdout",
     "output_type": "stream",
     "text": [
      "{'activation': 'tanh', 'hidden_layer_sizes': (4,)} 0.8027002669761116\n"
     ]
    },
    {
     "name": "stderr",
     "output_type": "stream",
     "text": [
      "/anaconda3/envs/caispp/lib/python3.5/site-packages/sklearn/neural_network/multilayer_perceptron.py:562: ConvergenceWarning: Stochastic Optimizer: Maximum iterations (500) reached and the optimization hasn't converged yet.\n",
      "  % self.max_iter, ConvergenceWarning)\n",
      "/anaconda3/envs/caispp/lib/python3.5/site-packages/sklearn/neural_network/multilayer_perceptron.py:562: ConvergenceWarning: Stochastic Optimizer: Maximum iterations (500) reached and the optimization hasn't converged yet.\n",
      "  % self.max_iter, ConvergenceWarning)\n"
     ]
    },
    {
     "name": "stdout",
     "output_type": "stream",
     "text": [
      "{'activation': 'relu', 'hidden_layer_sizes': (16, 4)} 0.8130385992463621\n"
     ]
    },
    {
     "name": "stderr",
     "output_type": "stream",
     "text": [
      "/anaconda3/envs/caispp/lib/python3.5/site-packages/sklearn/neural_network/multilayer_perceptron.py:562: ConvergenceWarning: Stochastic Optimizer: Maximum iterations (500) reached and the optimization hasn't converged yet.\n",
      "  % self.max_iter, ConvergenceWarning)\n",
      "/anaconda3/envs/caispp/lib/python3.5/site-packages/sklearn/neural_network/multilayer_perceptron.py:562: ConvergenceWarning: Stochastic Optimizer: Maximum iterations (500) reached and the optimization hasn't converged yet.\n",
      "  % self.max_iter, ConvergenceWarning)\n",
      "/anaconda3/envs/caispp/lib/python3.5/site-packages/sklearn/neural_network/multilayer_perceptron.py:562: ConvergenceWarning: Stochastic Optimizer: Maximum iterations (500) reached and the optimization hasn't converged yet.\n",
      "  % self.max_iter, ConvergenceWarning)\n"
     ]
    },
    {
     "name": "stdout",
     "output_type": "stream",
     "text": [
      "{'activation': 'tanh', 'hidden_layer_sizes': (16, 4)} 0.8130215246657905\n"
     ]
    },
    {
     "name": "stderr",
     "output_type": "stream",
     "text": [
      "/anaconda3/envs/caispp/lib/python3.5/site-packages/sklearn/neural_network/multilayer_perceptron.py:562: ConvergenceWarning: Stochastic Optimizer: Maximum iterations (500) reached and the optimization hasn't converged yet.\n",
      "  % self.max_iter, ConvergenceWarning)\n",
      "/anaconda3/envs/caispp/lib/python3.5/site-packages/sklearn/neural_network/multilayer_perceptron.py:562: ConvergenceWarning: Stochastic Optimizer: Maximum iterations (500) reached and the optimization hasn't converged yet.\n",
      "  % self.max_iter, ConvergenceWarning)\n",
      "/anaconda3/envs/caispp/lib/python3.5/site-packages/sklearn/neural_network/multilayer_perceptron.py:562: ConvergenceWarning: Stochastic Optimizer: Maximum iterations (500) reached and the optimization hasn't converged yet.\n",
      "  % self.max_iter, ConvergenceWarning)\n"
     ]
    },
    {
     "name": "stdout",
     "output_type": "stream",
     "text": [
      "{'activation': 'relu', 'hidden_layer_sizes': (32, 8)} 0.8209921727005008\n"
     ]
    },
    {
     "name": "stderr",
     "output_type": "stream",
     "text": [
      "/anaconda3/envs/caispp/lib/python3.5/site-packages/sklearn/neural_network/multilayer_perceptron.py:562: ConvergenceWarning: Stochastic Optimizer: Maximum iterations (500) reached and the optimization hasn't converged yet.\n",
      "  % self.max_iter, ConvergenceWarning)\n",
      "/anaconda3/envs/caispp/lib/python3.5/site-packages/sklearn/neural_network/multilayer_perceptron.py:562: ConvergenceWarning: Stochastic Optimizer: Maximum iterations (500) reached and the optimization hasn't converged yet.\n",
      "  % self.max_iter, ConvergenceWarning)\n"
     ]
    },
    {
     "name": "stdout",
     "output_type": "stream",
     "text": [
      "{'activation': 'tanh', 'hidden_layer_sizes': (32, 8)} 0.8138227611409373\n",
      "{'activation': 'relu', 'hidden_layer_sizes': (32, 12, 4)} 0.8082805009196167\n"
     ]
    },
    {
     "name": "stderr",
     "output_type": "stream",
     "text": [
      "/anaconda3/envs/caispp/lib/python3.5/site-packages/sklearn/neural_network/multilayer_perceptron.py:562: ConvergenceWarning: Stochastic Optimizer: Maximum iterations (500) reached and the optimization hasn't converged yet.\n",
      "  % self.max_iter, ConvergenceWarning)\n",
      "/anaconda3/envs/caispp/lib/python3.5/site-packages/sklearn/neural_network/multilayer_perceptron.py:562: ConvergenceWarning: Stochastic Optimizer: Maximum iterations (500) reached and the optimization hasn't converged yet.\n",
      "  % self.max_iter, ConvergenceWarning)\n"
     ]
    },
    {
     "name": "stdout",
     "output_type": "stream",
     "text": [
      "{'activation': 'tanh', 'hidden_layer_sizes': (32, 12, 4)} 0.8098488065828852\n",
      "{'activation': 'relu', 'hidden_layer_sizes': (64, 24, 8)} 0.8178118779990404\n"
     ]
    },
    {
     "name": "stderr",
     "output_type": "stream",
     "text": [
      "/anaconda3/envs/caispp/lib/python3.5/site-packages/sklearn/neural_network/multilayer_perceptron.py:562: ConvergenceWarning: Stochastic Optimizer: Maximum iterations (500) reached and the optimization hasn't converged yet.\n",
      "  % self.max_iter, ConvergenceWarning)\n"
     ]
    },
    {
     "name": "stdout",
     "output_type": "stream",
     "text": [
      "{'activation': 'tanh', 'hidden_layer_sizes': (64, 24, 8)} 0.8122373537082744\n",
      "{'activation': 'relu', 'hidden_layer_sizes': (32, 16, 8, 4)} 0.8098355021857095\n",
      "{'activation': 'tanh', 'hidden_layer_sizes': (32, 16, 8, 4)} 0.8018895053501259\n",
      "{'activation': 'relu', 'hidden_layer_sizes': (64, 32, 12, 6)} 0.806659041108231\n",
      "{'activation': 'tanh', 'hidden_layer_sizes': (64, 32, 12, 6)} 0.8098468852394239\n",
      "{'activation': 'relu', 'hidden_layer_sizes': (128, 64, 32, 16, 4)} 0.8154290133375675\n",
      "{'activation': 'tanh', 'hidden_layer_sizes': (128, 64, 32, 16, 4)} 0.8058843409239088\n",
      "{'activation': 'relu', 'hidden_layer_sizes': (256, 96, 48, 16, 4)} 0.8027040552853894\n",
      "{'activation': 'tanh', 'hidden_layer_sizes': (256, 96, 48, 16, 4)} 0.8090646084365466\n",
      "{'activation': 'relu', 'hidden_layer_sizes': (128, 64, 32, 16, 8, 4)} 0.8026812710520788\n",
      "{'activation': 'tanh', 'hidden_layer_sizes': (128, 64, 32, 16, 8, 4)} 0.8146144905911267\n",
      "Best HP {'activation': 'relu', 'hidden_layer_sizes': (32, 8)}\n",
      "{'accuracy': 0.8068204646079921, 'precision_1': 0.8076233232018387, 'precision_0': 0.8044352265475431, 'auc': 0.8629446969183874, 'f1_0': 0.6771416676738783, 'f1_1': 0.8621778886118039, 'recall_1': 0.9246366475665839, 'recall_0': 0.5846300118266354}\n",
      "\n"
     ]
    },
    {
     "name": "stderr",
     "output_type": "stream",
     "text": [
      "/anaconda3/envs/caispp/lib/python3.5/site-packages/sklearn/neural_network/multilayer_perceptron.py:562: ConvergenceWarning: Stochastic Optimizer: Maximum iterations (500) reached and the optimization hasn't converged yet.\n",
      "  % self.max_iter, ConvergenceWarning)\n"
     ]
    },
    {
     "name": "stdout",
     "output_type": "stream",
     "text": [
      "{'activation': 'relu', 'hidden_layer_sizes': ()} 0.7645463463388347\n",
      "{'activation': 'tanh', 'hidden_layer_sizes': ()} 0.7629438371367777\n"
     ]
    },
    {
     "name": "stderr",
     "output_type": "stream",
     "text": [
      "/anaconda3/envs/caispp/lib/python3.5/site-packages/sklearn/neural_network/multilayer_perceptron.py:562: ConvergenceWarning: Stochastic Optimizer: Maximum iterations (500) reached and the optimization hasn't converged yet.\n",
      "  % self.max_iter, ConvergenceWarning)\n"
     ]
    },
    {
     "name": "stdout",
     "output_type": "stream",
     "text": [
      "{'activation': 'relu', 'hidden_layer_sizes': (4,)} 0.7796294544127731\n",
      "{'activation': 'tanh', 'hidden_layer_sizes': (4,)} 0.7764605518279679\n"
     ]
    },
    {
     "name": "stderr",
     "output_type": "stream",
     "text": [
      "/anaconda3/envs/caispp/lib/python3.5/site-packages/sklearn/neural_network/multilayer_perceptron.py:562: ConvergenceWarning: Stochastic Optimizer: Maximum iterations (500) reached and the optimization hasn't converged yet.\n",
      "  % self.max_iter, ConvergenceWarning)\n",
      "/anaconda3/envs/caispp/lib/python3.5/site-packages/sklearn/neural_network/multilayer_perceptron.py:562: ConvergenceWarning: Stochastic Optimizer: Maximum iterations (500) reached and the optimization hasn't converged yet.\n",
      "  % self.max_iter, ConvergenceWarning)\n"
     ]
    },
    {
     "name": "stdout",
     "output_type": "stream",
     "text": [
      "{'activation': 'relu', 'hidden_layer_sizes': (16, 4)} 0.7868102762148736\n"
     ]
    },
    {
     "name": "stderr",
     "output_type": "stream",
     "text": [
      "/anaconda3/envs/caispp/lib/python3.5/site-packages/sklearn/neural_network/multilayer_perceptron.py:562: ConvergenceWarning: Stochastic Optimizer: Maximum iterations (500) reached and the optimization hasn't converged yet.\n",
      "  % self.max_iter, ConvergenceWarning)\n",
      "/anaconda3/envs/caispp/lib/python3.5/site-packages/sklearn/neural_network/multilayer_perceptron.py:562: ConvergenceWarning: Stochastic Optimizer: Maximum iterations (500) reached and the optimization hasn't converged yet.\n",
      "  % self.max_iter, ConvergenceWarning)\n",
      "/anaconda3/envs/caispp/lib/python3.5/site-packages/sklearn/neural_network/multilayer_perceptron.py:562: ConvergenceWarning: Stochastic Optimizer: Maximum iterations (500) reached and the optimization hasn't converged yet.\n",
      "  % self.max_iter, ConvergenceWarning)\n"
     ]
    },
    {
     "name": "stdout",
     "output_type": "stream",
     "text": [
      "{'activation': 'tanh', 'hidden_layer_sizes': (16, 4)} 0.7828135283605703\n"
     ]
    },
    {
     "name": "stderr",
     "output_type": "stream",
     "text": [
      "/anaconda3/envs/caispp/lib/python3.5/site-packages/sklearn/neural_network/multilayer_perceptron.py:562: ConvergenceWarning: Stochastic Optimizer: Maximum iterations (500) reached and the optimization hasn't converged yet.\n",
      "  % self.max_iter, ConvergenceWarning)\n"
     ]
    },
    {
     "name": "stdout",
     "output_type": "stream",
     "text": [
      "{'activation': 'relu', 'hidden_layer_sizes': (32, 8)} 0.7884070667012509\n"
     ]
    },
    {
     "name": "stderr",
     "output_type": "stream",
     "text": [
      "/anaconda3/envs/caispp/lib/python3.5/site-packages/sklearn/neural_network/multilayer_perceptron.py:562: ConvergenceWarning: Stochastic Optimizer: Maximum iterations (500) reached and the optimization hasn't converged yet.\n",
      "  % self.max_iter, ConvergenceWarning)\n",
      "/anaconda3/envs/caispp/lib/python3.5/site-packages/sklearn/neural_network/multilayer_perceptron.py:562: ConvergenceWarning: Stochastic Optimizer: Maximum iterations (500) reached and the optimization hasn't converged yet.\n",
      "  % self.max_iter, ConvergenceWarning)\n",
      "/anaconda3/envs/caispp/lib/python3.5/site-packages/sklearn/neural_network/multilayer_perceptron.py:562: ConvergenceWarning: Stochastic Optimizer: Maximum iterations (500) reached and the optimization hasn't converged yet.\n",
      "  % self.max_iter, ConvergenceWarning)\n"
     ]
    },
    {
     "name": "stdout",
     "output_type": "stream",
     "text": [
      "{'activation': 'tanh', 'hidden_layer_sizes': (32, 8)} 0.7820331729011544\n",
      "{'activation': 'relu', 'hidden_layer_sizes': (32, 12, 4)} 0.7884032693290325\n"
     ]
    },
    {
     "name": "stderr",
     "output_type": "stream",
     "text": [
      "/anaconda3/envs/caispp/lib/python3.5/site-packages/sklearn/neural_network/multilayer_perceptron.py:562: ConvergenceWarning: Stochastic Optimizer: Maximum iterations (500) reached and the optimization hasn't converged yet.\n",
      "  % self.max_iter, ConvergenceWarning)\n",
      "/anaconda3/envs/caispp/lib/python3.5/site-packages/sklearn/neural_network/multilayer_perceptron.py:562: ConvergenceWarning: Stochastic Optimizer: Maximum iterations (500) reached and the optimization hasn't converged yet.\n",
      "  % self.max_iter, ConvergenceWarning)\n",
      "/anaconda3/envs/caispp/lib/python3.5/site-packages/sklearn/neural_network/multilayer_perceptron.py:562: ConvergenceWarning: Stochastic Optimizer: Maximum iterations (500) reached and the optimization hasn't converged yet.\n",
      "  % self.max_iter, ConvergenceWarning)\n"
     ]
    },
    {
     "name": "stdout",
     "output_type": "stream",
     "text": [
      "{'activation': 'tanh', 'hidden_layer_sizes': (32, 12, 4)} 0.7923771966982619\n",
      "{'activation': 'relu', 'hidden_layer_sizes': (64, 24, 8)} 0.7716720745234751\n"
     ]
    },
    {
     "name": "stderr",
     "output_type": "stream",
     "text": [
      "/anaconda3/envs/caispp/lib/python3.5/site-packages/sklearn/neural_network/multilayer_perceptron.py:562: ConvergenceWarning: Stochastic Optimizer: Maximum iterations (500) reached and the optimization hasn't converged yet.\n",
      "  % self.max_iter, ConvergenceWarning)\n"
     ]
    },
    {
     "name": "stdout",
     "output_type": "stream",
     "text": [
      "{'activation': 'tanh', 'hidden_layer_sizes': (64, 24, 8)} 0.8003288759977618\n",
      "{'activation': 'relu', 'hidden_layer_sizes': (32, 16, 8, 4)} 0.7860033300869879\n",
      "{'activation': 'tanh', 'hidden_layer_sizes': (32, 16, 8, 4)} 0.7796313485674119\n",
      "{'activation': 'relu', 'hidden_layer_sizes': (64, 32, 12, 6)} 0.7772465806883594\n",
      "{'activation': 'tanh', 'hidden_layer_sizes': (64, 32, 12, 6)} 0.7923962107481765\n",
      "{'activation': 'relu', 'hidden_layer_sizes': (128, 64, 32, 16, 4)} 0.7677189919182131\n",
      "{'activation': 'tanh', 'hidden_layer_sizes': (128, 64, 32, 16, 4)} 0.7812281390537891\n",
      "{'activation': 'relu', 'hidden_layer_sizes': (256, 96, 48, 16, 4)} 0.7724884914245548\n",
      "{'activation': 'tanh', 'hidden_layer_sizes': (256, 96, 48, 16, 4)} 0.7716815543596098\n",
      "{'activation': 'relu', 'hidden_layer_sizes': (128, 64, 32, 16, 8, 4)} 0.7820407585826503\n",
      "{'activation': 'tanh', 'hidden_layer_sizes': (128, 64, 32, 16, 8, 4)} 0.7828382067485196\n",
      "Best HP {'activation': 'tanh', 'hidden_layer_sizes': (64, 24, 8)}\n"
     ]
    },
    {
     "name": "stderr",
     "output_type": "stream",
     "text": [
      "/anaconda3/envs/caispp/lib/python3.5/site-packages/sklearn/neural_network/multilayer_perceptron.py:562: ConvergenceWarning: Stochastic Optimizer: Maximum iterations (500) reached and the optimization hasn't converged yet.\n",
      "  % self.max_iter, ConvergenceWarning)\n"
     ]
    },
    {
     "name": "stdout",
     "output_type": "stream",
     "text": [
      "{'accuracy': 0.8072704481353807, 'precision_1': 0.834774793701927, 'precision_0': 0.7464923140410605, 'auc': 0.8614810172540107, 'f1_0': 0.7070391225220163, 'f1_1': 0.8564004622007219, 'recall_1': 0.8791763982790411, 'recall_0': 0.6715469036404557}\n",
      "\n",
      "{'activation': 'relu', 'hidden_layer_sizes': ()} 0.7684556821285876\n"
     ]
    },
    {
     "name": "stderr",
     "output_type": "stream",
     "text": [
      "/anaconda3/envs/caispp/lib/python3.5/site-packages/sklearn/neural_network/multilayer_perceptron.py:562: ConvergenceWarning: Stochastic Optimizer: Maximum iterations (500) reached and the optimization hasn't converged yet.\n",
      "  % self.max_iter, ConvergenceWarning)\n"
     ]
    },
    {
     "name": "stdout",
     "output_type": "stream",
     "text": [
      "{'activation': 'tanh', 'hidden_layer_sizes': ()} 0.7676582158368367\n"
     ]
    },
    {
     "name": "stderr",
     "output_type": "stream",
     "text": [
      "/anaconda3/envs/caispp/lib/python3.5/site-packages/sklearn/neural_network/multilayer_perceptron.py:562: ConvergenceWarning: Stochastic Optimizer: Maximum iterations (500) reached and the optimization hasn't converged yet.\n",
      "  % self.max_iter, ConvergenceWarning)\n"
     ]
    },
    {
     "name": "stdout",
     "output_type": "stream",
     "text": [
      "{'activation': 'relu', 'hidden_layer_sizes': (4,)} 0.7604508124292071\n",
      "{'activation': 'tanh', 'hidden_layer_sizes': (4,)} 0.7811863770223274\n"
     ]
    },
    {
     "name": "stderr",
     "output_type": "stream",
     "text": [
      "/anaconda3/envs/caispp/lib/python3.5/site-packages/sklearn/neural_network/multilayer_perceptron.py:562: ConvergenceWarning: Stochastic Optimizer: Maximum iterations (500) reached and the optimization hasn't converged yet.\n",
      "  % self.max_iter, ConvergenceWarning)\n",
      "/anaconda3/envs/caispp/lib/python3.5/site-packages/sklearn/neural_network/multilayer_perceptron.py:562: ConvergenceWarning: Stochastic Optimizer: Maximum iterations (500) reached and the optimization hasn't converged yet.\n",
      "  % self.max_iter, ConvergenceWarning)\n"
     ]
    },
    {
     "name": "stdout",
     "output_type": "stream",
     "text": [
      "{'activation': 'relu', 'hidden_layer_sizes': (16, 4)} 0.7923354165409183\n"
     ]
    },
    {
     "name": "stderr",
     "output_type": "stream",
     "text": [
      "/anaconda3/envs/caispp/lib/python3.5/site-packages/sklearn/neural_network/multilayer_perceptron.py:562: ConvergenceWarning: Stochastic Optimizer: Maximum iterations (500) reached and the optimization hasn't converged yet.\n",
      "  % self.max_iter, ConvergenceWarning)\n",
      "/anaconda3/envs/caispp/lib/python3.5/site-packages/sklearn/neural_network/multilayer_perceptron.py:562: ConvergenceWarning: Stochastic Optimizer: Maximum iterations (500) reached and the optimization hasn't converged yet.\n",
      "  % self.max_iter, ConvergenceWarning)\n"
     ]
    },
    {
     "name": "stdout",
     "output_type": "stream",
     "text": [
      "{'activation': 'tanh', 'hidden_layer_sizes': (16, 4)} 0.78835577951895\n"
     ]
    },
    {
     "name": "stderr",
     "output_type": "stream",
     "text": [
      "/anaconda3/envs/caispp/lib/python3.5/site-packages/sklearn/neural_network/multilayer_perceptron.py:562: ConvergenceWarning: Stochastic Optimizer: Maximum iterations (500) reached and the optimization hasn't converged yet.\n",
      "  % self.max_iter, ConvergenceWarning)\n",
      "/anaconda3/envs/caispp/lib/python3.5/site-packages/sklearn/neural_network/multilayer_perceptron.py:562: ConvergenceWarning: Stochastic Optimizer: Maximum iterations (500) reached and the optimization hasn't converged yet.\n",
      "  % self.max_iter, ConvergenceWarning)\n"
     ]
    },
    {
     "name": "stdout",
     "output_type": "stream",
     "text": [
      "{'activation': 'relu', 'hidden_layer_sizes': (32, 8)} 0.7772389950068633\n"
     ]
    },
    {
     "name": "stderr",
     "output_type": "stream",
     "text": [
      "/anaconda3/envs/caispp/lib/python3.5/site-packages/sklearn/neural_network/multilayer_perceptron.py:562: ConvergenceWarning: Stochastic Optimizer: Maximum iterations (500) reached and the optimization hasn't converged yet.\n",
      "  % self.max_iter, ConvergenceWarning)\n",
      "/anaconda3/envs/caispp/lib/python3.5/site-packages/sklearn/neural_network/multilayer_perceptron.py:562: ConvergenceWarning: Stochastic Optimizer: Maximum iterations (500) reached and the optimization hasn't converged yet.\n",
      "  % self.max_iter, ConvergenceWarning)\n"
     ]
    },
    {
     "name": "stdout",
     "output_type": "stream",
     "text": [
      "{'activation': 'tanh', 'hidden_layer_sizes': (32, 8)} 0.7907462298619189\n"
     ]
    },
    {
     "name": "stderr",
     "output_type": "stream",
     "text": [
      "/anaconda3/envs/caispp/lib/python3.5/site-packages/sklearn/neural_network/multilayer_perceptron.py:562: ConvergenceWarning: Stochastic Optimizer: Maximum iterations (500) reached and the optimization hasn't converged yet.\n",
      "  % self.max_iter, ConvergenceWarning)\n",
      "/anaconda3/envs/caispp/lib/python3.5/site-packages/sklearn/neural_network/multilayer_perceptron.py:562: ConvergenceWarning: Stochastic Optimizer: Maximum iterations (500) reached and the optimization hasn't converged yet.\n",
      "  % self.max_iter, ConvergenceWarning)\n"
     ]
    },
    {
     "name": "stdout",
     "output_type": "stream",
     "text": [
      "{'activation': 'relu', 'hidden_layer_sizes': (32, 12, 4)} 0.7772408800985612\n"
     ]
    },
    {
     "name": "stderr",
     "output_type": "stream",
     "text": [
      "/anaconda3/envs/caispp/lib/python3.5/site-packages/sklearn/neural_network/multilayer_perceptron.py:562: ConvergenceWarning: Stochastic Optimizer: Maximum iterations (500) reached and the optimization hasn't converged yet.\n",
      "  % self.max_iter, ConvergenceWarning)\n",
      "/anaconda3/envs/caispp/lib/python3.5/site-packages/sklearn/neural_network/multilayer_perceptron.py:562: ConvergenceWarning: Stochastic Optimizer: Maximum iterations (500) reached and the optimization hasn't converged yet.\n",
      "  % self.max_iter, ConvergenceWarning)\n",
      "/anaconda3/envs/caispp/lib/python3.5/site-packages/sklearn/neural_network/multilayer_perceptron.py:562: ConvergenceWarning: Stochastic Optimizer: Maximum iterations (500) reached and the optimization hasn't converged yet.\n",
      "  % self.max_iter, ConvergenceWarning)\n"
     ]
    },
    {
     "name": "stdout",
     "output_type": "stream",
     "text": [
      "{'activation': 'tanh', 'hidden_layer_sizes': (32, 12, 4)} 0.781216728811252\n"
     ]
    },
    {
     "name": "stderr",
     "output_type": "stream",
     "text": [
      "/anaconda3/envs/caispp/lib/python3.5/site-packages/sklearn/neural_network/multilayer_perceptron.py:562: ConvergenceWarning: Stochastic Optimizer: Maximum iterations (500) reached and the optimization hasn't converged yet.\n",
      "  % self.max_iter, ConvergenceWarning)\n"
     ]
    },
    {
     "name": "stdout",
     "output_type": "stream",
     "text": [
      "{'activation': 'relu', 'hidden_layer_sizes': (64, 24, 8)} 0.783601469501482\n",
      "{'activation': 'tanh', 'hidden_layer_sizes': (64, 24, 8)} 0.7836052578107596\n",
      "{'activation': 'relu', 'hidden_layer_sizes': (32, 16, 8, 4)} 0.779625638914673\n"
     ]
    },
    {
     "name": "stderr",
     "output_type": "stream",
     "text": [
      "/anaconda3/envs/caispp/lib/python3.5/site-packages/sklearn/neural_network/multilayer_perceptron.py:562: ConvergenceWarning: Stochastic Optimizer: Maximum iterations (500) reached and the optimization hasn't converged yet.\n",
      "  % self.max_iter, ConvergenceWarning)\n"
     ]
    },
    {
     "name": "stdout",
     "output_type": "stream",
     "text": [
      "{'activation': 'tanh', 'hidden_layer_sizes': (32, 16, 8, 4)} 0.783595768911684\n",
      "{'activation': 'relu', 'hidden_layer_sizes': (64, 32, 12, 6)} 0.7708859822224977\n"
     ]
    },
    {
     "name": "stderr",
     "output_type": "stream",
     "text": [
      "/anaconda3/envs/caispp/lib/python3.5/site-packages/sklearn/neural_network/multilayer_perceptron.py:562: ConvergenceWarning: Stochastic Optimizer: Maximum iterations (500) reached and the optimization hasn't converged yet.\n",
      "  % self.max_iter, ConvergenceWarning)\n"
     ]
    },
    {
     "name": "stdout",
     "output_type": "stream",
     "text": [
      "{'activation': 'tanh', 'hidden_layer_sizes': (64, 32, 12, 6)} 0.7788490627015938\n",
      "{'activation': 'relu', 'hidden_layer_sizes': (128, 64, 32, 16, 4)} 0.7843970325756534\n",
      "{'activation': 'tanh', 'hidden_layer_sizes': (128, 64, 32, 16, 4)} 0.7836185440820537\n",
      "{'activation': 'relu', 'hidden_layer_sizes': (256, 96, 48, 16, 4)} 0.7677303749719275\n",
      "{'activation': 'tanh', 'hidden_layer_sizes': (256, 96, 48, 16, 4)} 0.7772389587550999\n",
      "{'activation': 'relu', 'hidden_layer_sizes': (128, 64, 32, 16, 8, 4)} 0.77883387321272\n",
      "{'activation': 'tanh', 'hidden_layer_sizes': (128, 64, 32, 16, 8, 4)} 0.7827945414994781\n",
      "Best HP {'activation': 'relu', 'hidden_layer_sizes': (16, 4)}\n"
     ]
    },
    {
     "name": "stderr",
     "output_type": "stream",
     "text": [
      "/anaconda3/envs/caispp/lib/python3.5/site-packages/sklearn/neural_network/multilayer_perceptron.py:562: ConvergenceWarning: Stochastic Optimizer: Maximum iterations (500) reached and the optimization hasn't converged yet.\n",
      "  % self.max_iter, ConvergenceWarning)\n",
      "  9%|▉         | 1/11 [16:21<2:43:35, 981.60s/it]"
     ]
    },
    {
     "name": "stdout",
     "output_type": "stream",
     "text": [
      "{'accuracy': 0.805727647470048, 'precision_1': 0.7918589455629518, 'precision_0': 0.8569865288102336, 'auc': 0.8584097584765017, 'f1_0': 0.6526243193149326, 'f1_1': 0.8651581994322333, 'recall_1': 0.9534117589212179, 'recall_0': 0.5269618079725277}\n",
      "Training Percentage: 0.05\n",
      "\n",
      "{'activation': 'relu', 'hidden_layer_sizes': ()} 0.7898173728219255\n",
      "{'activation': 'tanh', 'hidden_layer_sizes': ()} 0.789656972841528\n",
      "{'activation': 'relu', 'hidden_layer_sizes': (4,)} 0.7992038923549156\n",
      "{'activation': 'tanh', 'hidden_layer_sizes': (4,)} 0.79872633859615\n",
      "{'activation': 'relu', 'hidden_layer_sizes': (16, 4)} 0.8034989254514056\n",
      "{'activation': 'tanh', 'hidden_layer_sizes': (16, 4)} 0.8079569397122377\n",
      "{'activation': 'relu', 'hidden_layer_sizes': (32, 8)} 0.8132073087111195\n",
      "{'activation': 'tanh', 'hidden_layer_sizes': (32, 8)} 0.8138415420246501\n",
      "{'activation': 'relu', 'hidden_layer_sizes': (32, 12, 4)} 0.8109797062200998\n",
      "{'activation': 'tanh', 'hidden_layer_sizes': (32, 12, 4)} 0.8178198751398651\n",
      "{'activation': 'relu', 'hidden_layer_sizes': (64, 24, 8)} 0.8146389097016375\n"
     ]
    },
    {
     "name": "stderr",
     "output_type": "stream",
     "text": [
      "/anaconda3/envs/caispp/lib/python3.5/site-packages/sklearn/neural_network/multilayer_perceptron.py:562: ConvergenceWarning: Stochastic Optimizer: Maximum iterations (500) reached and the optimization hasn't converged yet.\n",
      "  % self.max_iter, ConvergenceWarning)\n",
      "/anaconda3/envs/caispp/lib/python3.5/site-packages/sklearn/neural_network/multilayer_perceptron.py:562: ConvergenceWarning: Stochastic Optimizer: Maximum iterations (500) reached and the optimization hasn't converged yet.\n",
      "  % self.max_iter, ConvergenceWarning)\n"
     ]
    },
    {
     "name": "stdout",
     "output_type": "stream",
     "text": [
      "{'activation': 'tanh', 'hidden_layer_sizes': (64, 24, 8)} 0.823231784448379\n",
      "{'activation': 'relu', 'hidden_layer_sizes': (32, 16, 8, 4)} 0.8141620389948633\n",
      "{'activation': 'tanh', 'hidden_layer_sizes': (32, 16, 8, 4)} 0.8211621518503359\n",
      "{'activation': 'relu', 'hidden_layer_sizes': (64, 32, 12, 6)} 0.8173426242991783\n",
      "{'activation': 'tanh', 'hidden_layer_sizes': (64, 32, 12, 6)} 0.8232311767996433\n",
      "{'activation': 'relu', 'hidden_layer_sizes': (128, 64, 32, 16, 4)} 0.8187749093567315\n",
      "{'activation': 'tanh', 'hidden_layer_sizes': (128, 64, 32, 16, 4)} 0.817820862705004\n",
      "{'activation': 'relu', 'hidden_layer_sizes': (256, 96, 48, 16, 4)} 0.8205241973136385\n",
      "{'activation': 'tanh', 'hidden_layer_sizes': (256, 96, 48, 16, 4)} 0.8173427002824588\n",
      "{'activation': 'relu', 'hidden_layer_sizes': (128, 64, 32, 16, 8, 4)} 0.8171819198781364\n",
      "{'activation': 'tanh', 'hidden_layer_sizes': (128, 64, 32, 16, 8, 4)} 0.8198896595594632\n",
      "Best HP {'activation': 'tanh', 'hidden_layer_sizes': (64, 24, 8)}\n",
      "{'accuracy': 0.8255750663618626, 'precision_1': 0.8411064459182213, 'precision_0': 0.7889841225235352, 'auc': 0.8845851448699638, 'f1_0': 0.7294172663739575, 'f1_1': 0.871308538242926, 'recall_1': 0.9037603814211012, 'recall_0': 0.6782133971060705}\n",
      "\n",
      "{'activation': 'relu', 'hidden_layer_sizes': ()} 0.7949111383943291\n",
      "{'activation': 'tanh', 'hidden_layer_sizes': ()} 0.7982522755005966\n",
      "{'activation': 'relu', 'hidden_layer_sizes': (4,)} 0.8079561787918843\n",
      "{'activation': 'tanh', 'hidden_layer_sizes': (4,)} 0.8007980958259258\n",
      "{'activation': 'relu', 'hidden_layer_sizes': (16, 4)} 0.8155935633495724\n"
     ]
    },
    {
     "name": "stderr",
     "output_type": "stream",
     "text": [
      "/anaconda3/envs/caispp/lib/python3.5/site-packages/sklearn/neural_network/multilayer_perceptron.py:562: ConvergenceWarning: Stochastic Optimizer: Maximum iterations (500) reached and the optimization hasn't converged yet.\n",
      "  % self.max_iter, ConvergenceWarning)\n"
     ]
    },
    {
     "name": "stdout",
     "output_type": "stream",
     "text": [
      "{'activation': 'tanh', 'hidden_layer_sizes': (16, 4)} 0.8190940373953398\n",
      "{'activation': 'relu', 'hidden_layer_sizes': (32, 8)} 0.815116843739322\n"
     ]
    },
    {
     "name": "stderr",
     "output_type": "stream",
     "text": [
      "/anaconda3/envs/caispp/lib/python3.5/site-packages/sklearn/neural_network/multilayer_perceptron.py:562: ConvergenceWarning: Stochastic Optimizer: Maximum iterations (500) reached and the optimization hasn't converged yet.\n",
      "  % self.max_iter, ConvergenceWarning)\n",
      "/anaconda3/envs/caispp/lib/python3.5/site-packages/sklearn/neural_network/multilayer_perceptron.py:562: ConvergenceWarning: Stochastic Optimizer: Maximum iterations (500) reached and the optimization hasn't converged yet.\n",
      "  % self.max_iter, ConvergenceWarning)\n"
     ]
    },
    {
     "name": "stdout",
     "output_type": "stream",
     "text": [
      "{'activation': 'tanh', 'hidden_layer_sizes': (32, 8)} 0.8183000872984092\n",
      "{'activation': 'relu', 'hidden_layer_sizes': (32, 12, 4)} 0.8120943046737796\n",
      "{'activation': 'tanh', 'hidden_layer_sizes': (32, 12, 4)} 0.8194142301424178\n",
      "{'activation': 'relu', 'hidden_layer_sizes': (64, 24, 8)} 0.8186183815510182\n",
      "{'activation': 'tanh', 'hidden_layer_sizes': (64, 24, 8)} 0.8144810159369479\n",
      "{'activation': 'relu', 'hidden_layer_sizes': (32, 16, 8, 4)} 0.8165479136444098\n",
      "{'activation': 'tanh', 'hidden_layer_sizes': (32, 16, 8, 4)} 0.8198925447490336\n",
      "{'activation': 'relu', 'hidden_layer_sizes': (64, 32, 12, 6)} 0.8162319740759663\n"
     ]
    },
    {
     "name": "stderr",
     "output_type": "stream",
     "text": [
      "/anaconda3/envs/caispp/lib/python3.5/site-packages/sklearn/neural_network/multilayer_perceptron.py:562: ConvergenceWarning: Stochastic Optimizer: Maximum iterations (500) reached and the optimization hasn't converged yet.\n",
      "  % self.max_iter, ConvergenceWarning)\n"
     ]
    },
    {
     "name": "stdout",
     "output_type": "stream",
     "text": [
      "{'activation': 'tanh', 'hidden_layer_sizes': (64, 32, 12, 6)} 0.8140053590775825\n",
      "{'activation': 'relu', 'hidden_layer_sizes': (128, 64, 32, 16, 4)} 0.8130487304443759\n",
      "{'activation': 'tanh', 'hidden_layer_sizes': (128, 64, 32, 16, 4)} 0.816072485532421\n",
      "{'activation': 'relu', 'hidden_layer_sizes': (256, 96, 48, 16, 4)} 0.818456614306588\n",
      "{'activation': 'tanh', 'hidden_layer_sizes': (256, 96, 48, 16, 4)} 0.8081159709060367\n",
      "{'activation': 'relu', 'hidden_layer_sizes': (128, 64, 32, 16, 8, 4)} 0.8081172626943106\n",
      "{'activation': 'tanh', 'hidden_layer_sizes': (128, 64, 32, 16, 8, 4)} 0.8111398022673747\n",
      "Best HP {'activation': 'tanh', 'hidden_layer_sizes': (32, 16, 8, 4)}\n",
      "{'accuracy': 0.8200818951440701, 'precision_1': 0.8127768426647768, 'precision_0': 0.8427379194285125, 'auc': 0.8780496293838159, 'f1_0': 0.6955018281794734, 'f1_1': 0.8723199429522226, 'recall_1': 0.9412768031189084, 'recall_0': 0.5920617686089998}\n",
      "\n",
      "{'activation': 'relu', 'hidden_layer_sizes': ()} 0.7921964137614212\n",
      "{'activation': 'tanh', 'hidden_layer_sizes': ()} 0.7929915791558232\n",
      "{'activation': 'relu', 'hidden_layer_sizes': (4,)} 0.8034969506836434\n",
      "{'activation': 'tanh', 'hidden_layer_sizes': (4,)} 0.7988816491468071\n",
      "{'activation': 'relu', 'hidden_layer_sizes': (16, 4)} 0.8089059733525241\n",
      "{'activation': 'tanh', 'hidden_layer_sizes': (16, 4)} 0.8120899006886342\n",
      "{'activation': 'relu', 'hidden_layer_sizes': (32, 8)} 0.809065765104161\n",
      "{'activation': 'tanh', 'hidden_layer_sizes': (32, 8)} 0.8146364039934516\n",
      "{'activation': 'relu', 'hidden_layer_sizes': (32, 12, 4)} 0.8089094666258493\n",
      "{'activation': 'tanh', 'hidden_layer_sizes': (32, 12, 4)} 0.8192498821490618\n",
      "{'activation': 'relu', 'hidden_layer_sizes': (64, 24, 8)} 0.8146356443781545\n",
      "{'activation': 'tanh', 'hidden_layer_sizes': (64, 24, 8)} 0.8178187364056994\n",
      "{'activation': 'relu', 'hidden_layer_sizes': (32, 16, 8, 4)} 0.8095443835713962\n",
      "{'activation': 'tanh', 'hidden_layer_sizes': (32, 16, 8, 4)} 0.816862487181374\n",
      "{'activation': 'relu', 'hidden_layer_sizes': (64, 32, 12, 6)} 0.810342510573668\n",
      "{'activation': 'tanh', 'hidden_layer_sizes': (64, 32, 12, 6)} 0.8159099588176999\n",
      "{'activation': 'relu', 'hidden_layer_sizes': (128, 64, 32, 16, 4)} 0.8109763655658644\n"
     ]
    },
    {
     "name": "stderr",
     "output_type": "stream",
     "text": [
      "/anaconda3/envs/caispp/lib/python3.5/site-packages/sklearn/neural_network/multilayer_perceptron.py:562: ConvergenceWarning: Stochastic Optimizer: Maximum iterations (500) reached and the optimization hasn't converged yet.\n",
      "  % self.max_iter, ConvergenceWarning)\n"
     ]
    },
    {
     "name": "stdout",
     "output_type": "stream",
     "text": [
      "{'activation': 'tanh', 'hidden_layer_sizes': (128, 64, 32, 16, 4)} 0.8160679291456953\n",
      "{'activation': 'relu', 'hidden_layer_sizes': (256, 96, 48, 16, 4)} 0.8128851407612604\n",
      "{'activation': 'tanh', 'hidden_layer_sizes': (256, 96, 48, 16, 4)} 0.8127269436434732\n",
      "{'activation': 'relu', 'hidden_layer_sizes': (128, 64, 32, 16, 8, 4)} 0.8122500723566741\n",
      "{'activation': 'tanh', 'hidden_layer_sizes': (128, 64, 32, 16, 8, 4)} 0.818770351954962\n",
      "Best HP {'activation': 'tanh', 'hidden_layer_sizes': (32, 12, 4)}\n",
      "{'accuracy': 0.8271828237914605, 'precision_1': 0.8310458571692194, 'precision_0': 0.8169453189473362, 'auc': 0.8814324056965184, 'f1_0': 0.7214619267417065, 'f1_1': 0.8747298904994294, 'recall_1': 0.9232612372507816, 'recall_0': 0.6459627329192547}\n",
      "\n",
      "{'activation': 'relu', 'hidden_layer_sizes': ()} 0.7937944898421345\n",
      "{'activation': 'tanh', 'hidden_layer_sizes': ()} 0.7922034755663203\n",
      "{'activation': 'relu', 'hidden_layer_sizes': (4,)} 0.7996819030284087\n",
      "{'activation': 'tanh', 'hidden_layer_sizes': (4,)} 0.8014331655355685\n",
      "{'activation': 'relu', 'hidden_layer_sizes': (16, 4)} 0.8111369170778043\n",
      "{'activation': 'tanh', 'hidden_layer_sizes': (16, 4)} 0.8106597417128762\n",
      "{'activation': 'relu', 'hidden_layer_sizes': (32, 8)} 0.8132049544619729\n",
      "{'activation': 'tanh', 'hidden_layer_sizes': (32, 8)} 0.8117744922781237\n",
      "{'activation': 'relu', 'hidden_layer_sizes': (32, 12, 4)} 0.8074764223880178\n",
      "{'activation': 'tanh', 'hidden_layer_sizes': (32, 12, 4)} 0.8112948868982778\n",
      "{'activation': 'relu', 'hidden_layer_sizes': (64, 24, 8)} 0.8100230022561408\n",
      "{'activation': 'tanh', 'hidden_layer_sizes': (64, 24, 8)} 0.8213197424069342\n",
      "{'activation': 'relu', 'hidden_layer_sizes': (32, 16, 8, 4)} 0.8090697905504629\n",
      "{'activation': 'tanh', 'hidden_layer_sizes': (32, 16, 8, 4)} 0.803501962535034\n",
      "{'activation': 'relu', 'hidden_layer_sizes': (64, 32, 12, 6)} 0.8175005937571359\n",
      "{'activation': 'tanh', 'hidden_layer_sizes': (64, 32, 12, 6)} 0.820207118503507\n",
      "{'activation': 'relu', 'hidden_layer_sizes': (128, 64, 32, 16, 4)} 0.8173423202210494\n",
      "{'activation': 'tanh', 'hidden_layer_sizes': (128, 64, 32, 16, 4)} 0.8136828137489299\n",
      "{'activation': 'relu', 'hidden_layer_sizes': (256, 96, 48, 16, 4)} 0.8182984166812789\n",
      "{'activation': 'tanh', 'hidden_layer_sizes': (256, 96, 48, 16, 4)} 0.809384364014924\n",
      "{'activation': 'relu', 'hidden_layer_sizes': (128, 64, 32, 16, 8, 4)} 0.7936245957218201\n",
      "{'activation': 'tanh', 'hidden_layer_sizes': (128, 64, 32, 16, 8, 4)} 0.8135248440009596\n",
      "Best HP {'activation': 'tanh', 'hidden_layer_sizes': (64, 24, 8)}\n",
      "{'accuracy': 0.8245450967585266, 'precision_1': 0.8289311508645019, 'precision_0': 0.8128680078508341, 'auc': 0.8832352539564926, 'f1_0': 0.7167173663219091, 'f1_1': 0.8729173869005379, 'recall_1': 0.9218333674933388, 'recall_0': 0.6409072224774525}\n",
      "\n",
      "{'activation': 'relu', 'hidden_layer_sizes': ()} 0.787113201817179\n",
      "{'activation': 'tanh', 'hidden_layer_sizes': ()} 0.786953712983621\n",
      "{'activation': 'relu', 'hidden_layer_sizes': (4,)} 0.7985665448144256\n",
      "{'activation': 'tanh', 'hidden_layer_sizes': (4,)} 0.8044517557181146\n",
      "{'activation': 'relu', 'hidden_layer_sizes': (16, 4)} 0.8074770288767033\n"
     ]
    },
    {
     "name": "stderr",
     "output_type": "stream",
     "text": [
      "/anaconda3/envs/caispp/lib/python3.5/site-packages/sklearn/neural_network/multilayer_perceptron.py:562: ConvergenceWarning: Stochastic Optimizer: Maximum iterations (500) reached and the optimization hasn't converged yet.\n",
      "  % self.max_iter, ConvergenceWarning)\n"
     ]
    },
    {
     "name": "stdout",
     "output_type": "stream",
     "text": [
      "{'activation': 'tanh', 'hidden_layer_sizes': (16, 4)} 0.811930335001758\n",
      "{'activation': 'relu', 'hidden_layer_sizes': (32, 8)} 0.817977388698139\n",
      "{'activation': 'tanh', 'hidden_layer_sizes': (32, 8)} 0.8233885381738465\n",
      "{'activation': 'relu', 'hidden_layer_sizes': (32, 12, 4)} 0.8144782820614106\n"
     ]
    },
    {
     "name": "stderr",
     "output_type": "stream",
     "text": [
      "/anaconda3/envs/caispp/lib/python3.5/site-packages/sklearn/neural_network/multilayer_perceptron.py:562: ConvergenceWarning: Stochastic Optimizer: Maximum iterations (500) reached and the optimization hasn't converged yet.\n",
      "  % self.max_iter, ConvergenceWarning)\n",
      "/anaconda3/envs/caispp/lib/python3.5/site-packages/sklearn/neural_network/multilayer_perceptron.py:562: ConvergenceWarning: Stochastic Optimizer: Maximum iterations (500) reached and the optimization hasn't converged yet.\n",
      "  % self.max_iter, ConvergenceWarning)\n"
     ]
    },
    {
     "name": "stdout",
     "output_type": "stream",
     "text": [
      "{'activation': 'tanh', 'hidden_layer_sizes': (32, 12, 4)} 0.8246595118141501\n",
      "{'activation': 'relu', 'hidden_layer_sizes': (64, 24, 8)} 0.8195700738085927\n",
      "{'activation': 'tanh', 'hidden_layer_sizes': (64, 24, 8)} 0.8294330098887484\n",
      "{'activation': 'relu', 'hidden_layer_sizes': (32, 16, 8, 4)} 0.8039839203514484\n",
      "{'activation': 'tanh', 'hidden_layer_sizes': (32, 16, 8, 4)} 0.8208400600287638\n",
      "{'activation': 'relu', 'hidden_layer_sizes': (64, 32, 12, 6)} 0.8221145267973862\n"
     ]
    },
    {
     "name": "stderr",
     "output_type": "stream",
     "text": [
      "/anaconda3/envs/caispp/lib/python3.5/site-packages/sklearn/neural_network/multilayer_perceptron.py:562: ConvergenceWarning: Stochastic Optimizer: Maximum iterations (500) reached and the optimization hasn't converged yet.\n",
      "  % self.max_iter, ConvergenceWarning)\n"
     ]
    },
    {
     "name": "stdout",
     "output_type": "stream",
     "text": [
      "{'activation': 'tanh', 'hidden_layer_sizes': (64, 32, 12, 6)} 0.826092556269491\n",
      "{'activation': 'relu', 'hidden_layer_sizes': (128, 64, 32, 16, 4)} 0.820681786927696\n"
     ]
    },
    {
     "name": "stderr",
     "output_type": "stream",
     "text": [
      "/anaconda3/envs/caispp/lib/python3.5/site-packages/sklearn/neural_network/multilayer_perceptron.py:562: ConvergenceWarning: Stochastic Optimizer: Maximum iterations (500) reached and the optimization hasn't converged yet.\n",
      "  % self.max_iter, ConvergenceWarning)\n"
     ]
    },
    {
     "name": "stdout",
     "output_type": "stream",
     "text": [
      "{'activation': 'tanh', 'hidden_layer_sizes': (128, 64, 32, 16, 4)} 0.8197251581494832\n",
      "{'activation': 'relu', 'hidden_layer_sizes': (256, 96, 48, 16, 4)} 0.8222747764062911\n",
      "{'activation': 'tanh', 'hidden_layer_sizes': (256, 96, 48, 16, 4)} 0.8182951514302991\n",
      "{'activation': 'relu', 'hidden_layer_sizes': (128, 64, 32, 16, 8, 4)} 0.8209996248456024\n",
      "{'activation': 'tanh', 'hidden_layer_sizes': (128, 64, 32, 16, 8, 4)} 0.8125660881259078\n",
      "Best HP {'activation': 'tanh', 'hidden_layer_sizes': (64, 24, 8)}\n",
      "{'accuracy': 0.8292008943150702, 'precision_1': 0.8351482329424617, 'precision_0': 0.8138670821597651, 'auc': 0.8831380271000713, 'f1_0': 0.7270245312562732, 'f1_1': 0.875719743360082, 'recall_1': 0.9204344596152368, 'recall_0': 0.656927951241928}\n",
      "\n",
      "{'activation': 'relu', 'hidden_layer_sizes': ()} 0.7972945086407462\n",
      "{'activation': 'tanh', 'hidden_layer_sizes': ()} 0.7945905666733886\n",
      "{'activation': 'relu', 'hidden_layer_sizes': (4,)} 0.8042981157845874\n",
      "{'activation': 'tanh', 'hidden_layer_sizes': (4,)} 0.804138018867275\n",
      "{'activation': 'relu', 'hidden_layer_sizes': (16, 4)} 0.8167059597381764\n",
      "{'activation': 'tanh', 'hidden_layer_sizes': (16, 4)} 0.8179786805589161\n",
      "{'activation': 'relu', 'hidden_layer_sizes': (32, 8)} 0.8198860140295645\n"
     ]
    },
    {
     "name": "stderr",
     "output_type": "stream",
     "text": [
      "/anaconda3/envs/caispp/lib/python3.5/site-packages/sklearn/neural_network/multilayer_perceptron.py:562: ConvergenceWarning: Stochastic Optimizer: Maximum iterations (500) reached and the optimization hasn't converged yet.\n",
      "  % self.max_iter, ConvergenceWarning)\n"
     ]
    },
    {
     "name": "stdout",
     "output_type": "stream",
     "text": [
      "{'activation': 'tanh', 'hidden_layer_sizes': (32, 8)} 0.8265706436512962\n",
      "{'activation': 'relu', 'hidden_layer_sizes': (32, 12, 4)} 0.8168636265680679\n"
     ]
    },
    {
     "name": "stderr",
     "output_type": "stream",
     "text": [
      "/anaconda3/envs/caispp/lib/python3.5/site-packages/sklearn/neural_network/multilayer_perceptron.py:562: ConvergenceWarning: Stochastic Optimizer: Maximum iterations (500) reached and the optimization hasn't converged yet.\n",
      "  % self.max_iter, ConvergenceWarning)\n"
     ]
    },
    {
     "name": "stdout",
     "output_type": "stream",
     "text": [
      "{'activation': 'tanh', 'hidden_layer_sizes': (32, 12, 4)} 0.8238653349999309\n",
      "{'activation': 'relu', 'hidden_layer_sizes': (64, 24, 8)} 0.8241856032952707\n"
     ]
    },
    {
     "name": "stderr",
     "output_type": "stream",
     "text": [
      "/anaconda3/envs/caispp/lib/python3.5/site-packages/sklearn/neural_network/multilayer_perceptron.py:562: ConvergenceWarning: Stochastic Optimizer: Maximum iterations (500) reached and the optimization hasn't converged yet.\n",
      "  % self.max_iter, ConvergenceWarning)\n"
     ]
    },
    {
     "name": "stdout",
     "output_type": "stream",
     "text": [
      "{'activation': 'tanh', 'hidden_layer_sizes': (64, 24, 8)} 0.8246611833738212\n",
      "{'activation': 'relu', 'hidden_layer_sizes': (32, 16, 8, 4)} 0.8240257345453096\n",
      "{'activation': 'tanh', 'hidden_layer_sizes': (32, 16, 8, 4)} 0.8245028342169697\n",
      "{'activation': 'relu', 'hidden_layer_sizes': (64, 32, 12, 6)} 0.8235487122344898\n"
     ]
    },
    {
     "name": "stderr",
     "output_type": "stream",
     "text": [
      "/anaconda3/envs/caispp/lib/python3.5/site-packages/sklearn/neural_network/multilayer_perceptron.py:562: ConvergenceWarning: Stochastic Optimizer: Maximum iterations (500) reached and the optimization hasn't converged yet.\n",
      "  % self.max_iter, ConvergenceWarning)\n"
     ]
    },
    {
     "name": "stdout",
     "output_type": "stream",
     "text": [
      "{'activation': 'tanh', 'hidden_layer_sizes': (64, 32, 12, 6)} 0.831026227679701\n",
      "{'activation': 'relu', 'hidden_layer_sizes': (128, 64, 32, 16, 4)} 0.8214818135119838\n",
      "{'activation': 'tanh', 'hidden_layer_sizes': (128, 64, 32, 16, 4)} 0.816230228925618\n",
      "{'activation': 'relu', 'hidden_layer_sizes': (256, 96, 48, 16, 4)} 0.8219565577744472\n",
      "{'activation': 'tanh', 'hidden_layer_sizes': (256, 96, 48, 16, 4)} 0.8105034430895581\n",
      "{'activation': 'relu', 'hidden_layer_sizes': (128, 64, 32, 16, 8, 4)} 0.8257757826975386\n",
      "{'activation': 'tanh', 'hidden_layer_sizes': (128, 64, 32, 16, 8, 4)} 0.8251389661699755\n",
      "Best HP {'activation': 'tanh', 'hidden_layer_sizes': (64, 32, 12, 6)}\n",
      "{'accuracy': 0.8246623290711014, 'precision_1': 0.8337681481568141, 'precision_0': 0.8017322649069055, 'auc': 0.8834542079457006, 'f1_0': 0.7221728342643332, 'f1_1': 0.8719131365652241, 'recall_1': 0.9137157363009308, 'recall_0': 0.6569780073872004}\n",
      "\n",
      "{'activation': 'relu', 'hidden_layer_sizes': ()} 0.7929998571282314\n",
      "{'activation': 'tanh', 'hidden_layer_sizes': ()} 0.7939547390885239\n"
     ]
    },
    {
     "name": "stderr",
     "output_type": "stream",
     "text": [
      "/anaconda3/envs/caispp/lib/python3.5/site-packages/sklearn/neural_network/multilayer_perceptron.py:562: ConvergenceWarning: Stochastic Optimizer: Maximum iterations (500) reached and the optimization hasn't converged yet.\n",
      "  % self.max_iter, ConvergenceWarning)\n"
     ]
    },
    {
     "name": "stdout",
     "output_type": "stream",
     "text": [
      "{'activation': 'relu', 'hidden_layer_sizes': (4,)} 0.8000007302515292\n",
      "{'activation': 'tanh', 'hidden_layer_sizes': (4,)} 0.8055695451795688\n",
      "{'activation': 'relu', 'hidden_layer_sizes': (16, 4)} 0.8042962931283929\n",
      "{'activation': 'tanh', 'hidden_layer_sizes': (16, 4)} 0.811615915026424\n",
      "{'activation': 'relu', 'hidden_layer_sizes': (32, 8)} 0.8160695241420605\n",
      "{'activation': 'tanh', 'hidden_layer_sizes': (32, 8)} 0.8108199902342342\n",
      "{'activation': 'relu', 'hidden_layer_sizes': (32, 12, 4)} 0.8170269121730546\n",
      "{'activation': 'tanh', 'hidden_layer_sizes': (32, 12, 4)} 0.8171853381107211\n",
      "{'activation': 'relu', 'hidden_layer_sizes': (64, 24, 8)} 0.8198879130315554\n"
     ]
    },
    {
     "name": "stderr",
     "output_type": "stream",
     "text": [
      "/anaconda3/envs/caispp/lib/python3.5/site-packages/sklearn/neural_network/multilayer_perceptron.py:562: ConvergenceWarning: Stochastic Optimizer: Maximum iterations (500) reached and the optimization hasn't converged yet.\n",
      "  % self.max_iter, ConvergenceWarning)\n"
     ]
    },
    {
     "name": "stdout",
     "output_type": "stream",
     "text": [
      "{'activation': 'tanh', 'hidden_layer_sizes': (64, 24, 8)} 0.8211607089655382\n",
      "{'activation': 'relu', 'hidden_layer_sizes': (32, 16, 8, 4)} 0.7928420414494132\n",
      "{'activation': 'tanh', 'hidden_layer_sizes': (32, 16, 8, 4)} 0.8155923487771323\n",
      "{'activation': 'relu', 'hidden_layer_sizes': (64, 32, 12, 6)} 0.8147954375798538\n"
     ]
    },
    {
     "name": "stderr",
     "output_type": "stream",
     "text": [
      "/anaconda3/envs/caispp/lib/python3.5/site-packages/sklearn/neural_network/multilayer_perceptron.py:562: ConvergenceWarning: Stochastic Optimizer: Maximum iterations (500) reached and the optimization hasn't converged yet.\n",
      "  % self.max_iter, ConvergenceWarning)\n"
     ]
    },
    {
     "name": "stdout",
     "output_type": "stream",
     "text": [
      "{'activation': 'tanh', 'hidden_layer_sizes': (64, 32, 12, 6)} 0.8205246527058003\n",
      "{'activation': 'relu', 'hidden_layer_sizes': (128, 64, 32, 16, 4)} 0.8136840286113824\n"
     ]
    },
    {
     "name": "stderr",
     "output_type": "stream",
     "text": [
      "/anaconda3/envs/caispp/lib/python3.5/site-packages/sklearn/neural_network/multilayer_perceptron.py:562: ConvergenceWarning: Stochastic Optimizer: Maximum iterations (500) reached and the optimization hasn't converged yet.\n",
      "  % self.max_iter, ConvergenceWarning)\n"
     ]
    },
    {
     "name": "stdout",
     "output_type": "stream",
     "text": [
      "{'activation': 'tanh', 'hidden_layer_sizes': (128, 64, 32, 16, 4)} 0.8063639508136675\n",
      "{'activation': 'relu', 'hidden_layer_sizes': (256, 96, 48, 16, 4)} 0.8089049086440546\n",
      "{'activation': 'tanh', 'hidden_layer_sizes': (256, 96, 48, 16, 4)} 0.8025432836583066\n",
      "{'activation': 'relu', 'hidden_layer_sizes': (128, 64, 32, 16, 8, 4)} 0.8143189461369547\n",
      "{'activation': 'tanh', 'hidden_layer_sizes': (128, 64, 32, 16, 8, 4)} 0.8144810159369479\n",
      "Best HP {'activation': 'tanh', 'hidden_layer_sizes': (64, 24, 8)}\n",
      "{'accuracy': 0.8239003190393649, 'precision_1': 0.8455918876679468, 'precision_0': 0.7753524945770065, 'auc': 0.8845806404804825, 'f1_0': 0.7311429301968806, 'f1_1': 0.8690714846036035, 'recall_1': 0.8938922401096298, 'recall_0': 0.6917029511369134}\n",
      "\n",
      "{'activation': 'relu', 'hidden_layer_sizes': ()} 0.7743848610383832\n",
      "{'activation': 'tanh', 'hidden_layer_sizes': ()} 0.7772466210046591\n",
      "{'activation': 'relu', 'hidden_layer_sizes': (4,)} 0.7810669836468725\n",
      "{'activation': 'tanh', 'hidden_layer_sizes': (4,)} 0.7902959145808488\n",
      "{'activation': 'relu', 'hidden_layer_sizes': (16, 4)} 0.7980925598772467\n",
      "{'activation': 'tanh', 'hidden_layer_sizes': (16, 4)} 0.8049311338731499\n",
      "{'activation': 'relu', 'hidden_layer_sizes': (32, 8)} 0.805888521831641\n"
     ]
    },
    {
     "name": "stderr",
     "output_type": "stream",
     "text": [
      "/anaconda3/envs/caispp/lib/python3.5/site-packages/sklearn/neural_network/multilayer_perceptron.py:562: ConvergenceWarning: Stochastic Optimizer: Maximum iterations (500) reached and the optimization hasn't converged yet.\n",
      "  % self.max_iter, ConvergenceWarning)\n"
     ]
    },
    {
     "name": "stdout",
     "output_type": "stream",
     "text": [
      "{'activation': 'tanh', 'hidden_layer_sizes': (32, 8)} 0.8089094662633335\n",
      "{'activation': 'relu', 'hidden_layer_sizes': (32, 12, 4)} 0.7564278669632984\n",
      "{'activation': 'tanh', 'hidden_layer_sizes': (32, 12, 4)} 0.8060468712060018\n",
      "{'activation': 'relu', 'hidden_layer_sizes': (64, 24, 8)} 0.8127274751639222\n"
     ]
    },
    {
     "name": "stderr",
     "output_type": "stream",
     "text": [
      "/anaconda3/envs/caispp/lib/python3.5/site-packages/sklearn/neural_network/multilayer_perceptron.py:562: ConvergenceWarning: Stochastic Optimizer: Maximum iterations (500) reached and the optimization hasn't converged yet.\n",
      "  % self.max_iter, ConvergenceWarning)\n"
     ]
    },
    {
     "name": "stdout",
     "output_type": "stream",
     "text": [
      "{'activation': 'tanh', 'hidden_layer_sizes': (64, 24, 8)} 0.8047715686937956\n",
      "{'activation': 'relu', 'hidden_layer_sizes': (32, 16, 8, 4)} 0.8007958175600599\n",
      "{'activation': 'tanh', 'hidden_layer_sizes': (32, 16, 8, 4)} 0.8120910390602841\n",
      "{'activation': 'relu', 'hidden_layer_sizes': (64, 32, 12, 6)} 0.8057291840946066\n"
     ]
    },
    {
     "name": "stderr",
     "output_type": "stream",
     "text": [
      "/anaconda3/envs/caispp/lib/python3.5/site-packages/sklearn/neural_network/multilayer_perceptron.py:562: ConvergenceWarning: Stochastic Optimizer: Maximum iterations (500) reached and the optimization hasn't converged yet.\n",
      "  % self.max_iter, ConvergenceWarning)\n"
     ]
    },
    {
     "name": "stdout",
     "output_type": "stream",
     "text": [
      "{'activation': 'tanh', 'hidden_layer_sizes': (64, 32, 12, 6)} 0.8019108733634862\n",
      "{'activation': 'relu', 'hidden_layer_sizes': (128, 64, 32, 16, 4)} 0.8085917042562046\n"
     ]
    },
    {
     "name": "stderr",
     "output_type": "stream",
     "text": [
      "/anaconda3/envs/caispp/lib/python3.5/site-packages/sklearn/neural_network/multilayer_perceptron.py:562: ConvergenceWarning: Stochastic Optimizer: Maximum iterations (500) reached and the optimization hasn't converged yet.\n",
      "  % self.max_iter, ConvergenceWarning)\n"
     ]
    },
    {
     "name": "stdout",
     "output_type": "stream",
     "text": [
      "{'activation': 'tanh', 'hidden_layer_sizes': (128, 64, 32, 16, 4)} 0.8035013548862984\n",
      "{'activation': 'relu', 'hidden_layer_sizes': (256, 96, 48, 16, 4)} 0.8143212995160636\n",
      "{'activation': 'tanh', 'hidden_layer_sizes': (256, 96, 48, 16, 4)} 0.7976137133876665\n",
      "{'activation': 'relu', 'hidden_layer_sizes': (128, 64, 32, 16, 8, 4)} 0.8141612025987511\n"
     ]
    },
    {
     "name": "stderr",
     "output_type": "stream",
     "text": [
      "/anaconda3/envs/caispp/lib/python3.5/site-packages/sklearn/neural_network/multilayer_perceptron.py:562: ConvergenceWarning: Stochastic Optimizer: Maximum iterations (500) reached and the optimization hasn't converged yet.\n",
      "  % self.max_iter, ConvergenceWarning)\n"
     ]
    },
    {
     "name": "stdout",
     "output_type": "stream",
     "text": [
      "{'activation': 'tanh', 'hidden_layer_sizes': (128, 64, 32, 16, 8, 4)} 0.8012729927074785\n",
      "Best HP {'activation': 'relu', 'hidden_layer_sizes': (256, 96, 48, 16, 4)}\n",
      "{'accuracy': 0.8332035404158398, 'precision_1': 0.8495413505812766, 'precision_0': 0.7957066387064732, 'auc': 0.8714584689850984, 'f1_0': 0.743295315419808, 'f1_1': 0.8764690195786589, 'recall_1': 0.9051596044474048, 'recall_0': 0.6973617391724906}\n",
      "\n",
      "{'activation': 'relu', 'hidden_layer_sizes': ()} 0.791247454291837\n",
      "{'activation': 'tanh', 'hidden_layer_sizes': ()} 0.7877472084859242\n",
      "{'activation': 'relu', 'hidden_layer_sizes': (4,)} 0.8035007469475501\n",
      "{'activation': 'tanh', 'hidden_layer_sizes': (4,)} 0.8023853124602738\n",
      "{'activation': 'relu', 'hidden_layer_sizes': (16, 4)} 0.8154326316312167\n",
      "{'activation': 'tanh', 'hidden_layer_sizes': (16, 4)} 0.8155909047322846\n",
      "{'activation': 'relu', 'hidden_layer_sizes': (32, 8)} 0.8179776160679558\n",
      "{'activation': 'tanh', 'hidden_layer_sizes': (32, 8)} 0.8197269038798565\n",
      "{'activation': 'relu', 'hidden_layer_sizes': (32, 12, 4)} 0.8173404964773079\n",
      "{'activation': 'tanh', 'hidden_layer_sizes': (32, 12, 4)} 0.8229100718181789\n",
      "{'activation': 'relu', 'hidden_layer_sizes': (64, 24, 8)} 0.8203639474872239\n"
     ]
    },
    {
     "name": "stderr",
     "output_type": "stream",
     "text": [
      "/anaconda3/envs/caispp/lib/python3.5/site-packages/sklearn/neural_network/multilayer_perceptron.py:562: ConvergenceWarning: Stochastic Optimizer: Maximum iterations (500) reached and the optimization hasn't converged yet.\n",
      "  % self.max_iter, ConvergenceWarning)\n"
     ]
    },
    {
     "name": "stdout",
     "output_type": "stream",
     "text": [
      "{'activation': 'tanh', 'hidden_layer_sizes': (64, 24, 8)} 0.8200455013405569\n",
      "{'activation': 'relu', 'hidden_layer_sizes': (32, 16, 8, 4)} 0.8146354159207907\n",
      "{'activation': 'tanh', 'hidden_layer_sizes': (32, 16, 8, 4)} 0.8173419395071116\n",
      "{'activation': 'relu', 'hidden_layer_sizes': (64, 32, 12, 6)} 0.8165465463078742\n"
     ]
    },
    {
     "name": "stderr",
     "output_type": "stream",
     "text": [
      "/anaconda3/envs/caispp/lib/python3.5/site-packages/sklearn/neural_network/multilayer_perceptron.py:562: ConvergenceWarning: Stochastic Optimizer: Maximum iterations (500) reached and the optimization hasn't converged yet.\n",
      "  % self.max_iter, ConvergenceWarning)\n",
      "/anaconda3/envs/caispp/lib/python3.5/site-packages/sklearn/neural_network/multilayer_perceptron.py:562: ConvergenceWarning: Stochastic Optimizer: Maximum iterations (500) reached and the optimization hasn't converged yet.\n",
      "  % self.max_iter, ConvergenceWarning)\n"
     ]
    },
    {
     "name": "stdout",
     "output_type": "stream",
     "text": [
      "{'activation': 'tanh', 'hidden_layer_sizes': (64, 32, 12, 6)} 0.816068611400152\n",
      "{'activation': 'relu', 'hidden_layer_sizes': (128, 64, 32, 16, 4)} 0.8149502915782992\n",
      "{'activation': 'tanh', 'hidden_layer_sizes': (128, 64, 32, 16, 4)} 0.8173419393621054\n",
      "{'activation': 'relu', 'hidden_layer_sizes': (256, 96, 48, 16, 4)} 0.7958670820179599\n",
      "{'activation': 'tanh', 'hidden_layer_sizes': (256, 96, 48, 16, 4)} 0.8073164011639733\n",
      "{'activation': 'relu', 'hidden_layer_sizes': (128, 64, 32, 16, 8, 4)} 0.8135222596268772\n",
      "{'activation': 'tanh', 'hidden_layer_sizes': (128, 64, 32, 16, 8, 4)} 0.8111372960516668\n",
      "Best HP {'activation': 'tanh', 'hidden_layer_sizes': (32, 12, 4)}\n",
      "{'accuracy': 0.8247376927006138, 'precision_1': 0.8200428255922152, 'precision_0': 0.8385944014294223, 'auc': 0.8813101815835914, 'f1_0': 0.7077550336507583, 'f1_1': 0.8748385399224992, 'recall_1': 0.9374815764178148, 'recall_0': 0.6122330659967147}\n",
      "\n",
      "{'activation': 'relu', 'hidden_layer_sizes': ()} 0.7926796650336816\n",
      "{'activation': 'tanh', 'hidden_layer_sizes': ()} 0.7949062036862692\n",
      "{'activation': 'relu', 'hidden_layer_sizes': (4,)} 0.8108186237677361\n",
      "{'activation': 'tanh', 'hidden_layer_sizes': (4,)} 0.8155901480171127\n",
      "{'activation': 'relu', 'hidden_layer_sizes': (16, 4)} 0.8211588871068779\n",
      "{'activation': 'tanh', 'hidden_layer_sizes': (16, 4)} 0.8176593244979626\n",
      "{'activation': 'relu', 'hidden_layer_sizes': (32, 8)} 0.8198869267714728\n",
      "{'activation': 'tanh', 'hidden_layer_sizes': (32, 8)} 0.8264107761338882\n",
      "{'activation': 'relu', 'hidden_layer_sizes': (32, 12, 4)} 0.8264096366021881\n",
      "{'activation': 'tanh', 'hidden_layer_sizes': (32, 12, 4)} 0.8265692771122947\n",
      "{'activation': 'relu', 'hidden_layer_sizes': (64, 24, 8)} 0.831343155103296\n",
      "{'activation': 'tanh', 'hidden_layer_sizes': (64, 24, 8)} 0.8273675562986372\n",
      "{'activation': 'relu', 'hidden_layer_sizes': (32, 16, 8, 4)} 0.828161279025751\n",
      "{'activation': 'tanh', 'hidden_layer_sizes': (32, 16, 8, 4)} 0.8267296773827048\n",
      "{'activation': 'relu', 'hidden_layer_sizes': (64, 32, 12, 6)} 0.8267295256336529\n",
      "{'activation': 'tanh', 'hidden_layer_sizes': (64, 32, 12, 6)} 0.8211612417910433\n",
      "{'activation': 'relu', 'hidden_layer_sizes': (128, 64, 32, 16, 4)} 0.8310242539269826\n"
     ]
    },
    {
     "name": "stderr",
     "output_type": "stream",
     "text": [
      "/anaconda3/envs/caispp/lib/python3.5/site-packages/sklearn/neural_network/multilayer_perceptron.py:562: ConvergenceWarning: Stochastic Optimizer: Maximum iterations (500) reached and the optimization hasn't converged yet.\n",
      "  % self.max_iter, ConvergenceWarning)\n"
     ]
    },
    {
     "name": "stdout",
     "output_type": "stream",
     "text": [
      "{'activation': 'tanh', 'hidden_layer_sizes': (128, 64, 32, 16, 4)} 0.8222759163005069\n",
      "{'activation': 'relu', 'hidden_layer_sizes': (256, 96, 48, 16, 4)} 0.8251366884841347\n",
      "{'activation': 'tanh', 'hidden_layer_sizes': (256, 96, 48, 16, 4)} 0.8173442964388743\n",
      "{'activation': 'relu', 'hidden_layer_sizes': (128, 64, 32, 16, 8, 4)} 0.8248206739474542\n",
      "{'activation': 'tanh', 'hidden_layer_sizes': (128, 64, 32, 16, 8, 4)} 0.815910796881384\n",
      "Best HP {'activation': 'relu', 'hidden_layer_sizes': (64, 24, 8)}\n"
     ]
    },
    {
     "name": "stderr",
     "output_type": "stream",
     "text": [
      "\r",
      " 18%|█▊        | 2/11 [1:29:03<4:59:22, 1995.83s/it]"
     ]
    },
    {
     "name": "stdout",
     "output_type": "stream",
     "text": [
      "{'accuracy': 0.8252987330536505, 'precision_1': 0.8325249776102911, 'precision_0': 0.8067216840090898, 'auc': 0.8808656712696205, 'f1_0': 0.7211686246207717, 'f1_1': 0.8728013217980843, 'recall_1': 0.9171728043873811, 'recall_0': 0.6520215568283428}\n",
      "Training Percentage: 0.1\n",
      "\n",
      "{'activation': 'relu', 'hidden_layer_sizes': ()} 0.7933951652983188\n",
      "{'activation': 'tanh', 'hidden_layer_sizes': ()} 0.7931564069570962\n",
      "{'activation': 'relu', 'hidden_layer_sizes': (4,)} 0.8115349200077628\n",
      "{'activation': 'tanh', 'hidden_layer_sizes': (4,)} 0.8072387492828188\n",
      "{'activation': 'relu', 'hidden_layer_sizes': (16, 4)} 0.8108183030050138\n",
      "{'activation': 'tanh', 'hidden_layer_sizes': (16, 4)} 0.8193298936269059\n",
      "{'activation': 'relu', 'hidden_layer_sizes': (32, 8)} 0.819807448500368\n",
      "{'activation': 'tanh', 'hidden_layer_sizes': (32, 8)} 0.8276043968778731\n",
      "{'activation': 'relu', 'hidden_layer_sizes': (32, 12, 4)} 0.818536740882743\n",
      "{'activation': 'tanh', 'hidden_layer_sizes': (32, 12, 4)} 0.8242623864805863\n",
      "{'activation': 'relu', 'hidden_layer_sizes': (64, 24, 8)} 0.8240242925805944\n",
      "{'activation': 'tanh', 'hidden_layer_sizes': (64, 24, 8)} 0.8293543109673313\n",
      "{'activation': 'relu', 'hidden_layer_sizes': (32, 16, 8, 4)} 0.8267296391147609\n",
      "{'activation': 'tanh', 'hidden_layer_sizes': (32, 16, 8, 4)} 0.8279216275278539\n",
      "{'activation': 'relu', 'hidden_layer_sizes': (64, 32, 12, 6)} 0.8230694676485745\n",
      "{'activation': 'tanh', 'hidden_layer_sizes': (64, 32, 12, 6)} 0.8297516088405971\n",
      "{'activation': 'relu', 'hidden_layer_sizes': (128, 64, 32, 16, 4)} 0.8224343418530052\n"
     ]
    },
    {
     "name": "stderr",
     "output_type": "stream",
     "text": [
      "/anaconda3/envs/caispp/lib/python3.5/site-packages/sklearn/neural_network/multilayer_perceptron.py:562: ConvergenceWarning: Stochastic Optimizer: Maximum iterations (500) reached and the optimization hasn't converged yet.\n",
      "  % self.max_iter, ConvergenceWarning)\n"
     ]
    },
    {
     "name": "stdout",
     "output_type": "stream",
     "text": [
      "{'activation': 'tanh', 'hidden_layer_sizes': (128, 64, 32, 16, 4)} 0.8241827749665864\n",
      "{'activation': 'relu', 'hidden_layer_sizes': (256, 96, 48, 16, 4)} 0.810417568035342\n",
      "{'activation': 'tanh', 'hidden_layer_sizes': (256, 96, 48, 16, 4)} 0.8168634763011537\n",
      "{'activation': 'relu', 'hidden_layer_sizes': (128, 64, 32, 16, 8, 4)} 0.8228316775366471\n",
      "{'activation': 'tanh', 'hidden_layer_sizes': (128, 64, 32, 16, 8, 4)} 0.8261721310654182\n",
      "Best HP {'activation': 'tanh', 'hidden_layer_sizes': (64, 32, 12, 6)}\n",
      "{'accuracy': 0.8321047235185971, 'precision_1': 0.8449915919985945, 'precision_0': 0.8014050822122571, 'auc': 0.8924256975723708, 'f1_0': 0.7383933121238414, 'f1_1': 0.8763853367433931, 'recall_1': 0.9102018194844343, 'recall_0': 0.6845680431063101}\n",
      "\n",
      "{'activation': 'relu', 'hidden_layer_sizes': ()} 0.789658534164615\n",
      "{'activation': 'tanh', 'hidden_layer_sizes': ()} 0.7906132451217333\n",
      "{'activation': 'relu', 'hidden_layer_sizes': (4,)} 0.8089092988174914\n",
      "{'activation': 'tanh', 'hidden_layer_sizes': (4,)} 0.8093076216854621\n",
      "{'activation': 'relu', 'hidden_layer_sizes': (16, 4)} 0.823150636022027\n",
      "{'activation': 'tanh', 'hidden_layer_sizes': (16, 4)} 0.8258550712826294\n",
      "{'activation': 'relu', 'hidden_layer_sizes': (32, 8)} 0.8236276782848507\n",
      "{'activation': 'tanh', 'hidden_layer_sizes': (32, 8)} 0.8276062575616416\n",
      "{'activation': 'relu', 'hidden_layer_sizes': (32, 12, 4)} 0.8283213366871607\n",
      "{'activation': 'tanh', 'hidden_layer_sizes': (32, 12, 4)} 0.8316629293033557\n",
      "{'activation': 'relu', 'hidden_layer_sizes': (64, 24, 8)} 0.8290376688750051\n",
      "{'activation': 'tanh', 'hidden_layer_sizes': (64, 24, 8)} 0.8336517348452294\n",
      "{'activation': 'relu', 'hidden_layer_sizes': (32, 16, 8, 4)} 0.8271285318572391\n",
      "{'activation': 'tanh', 'hidden_layer_sizes': (32, 16, 8, 4)} 0.8301518875572101\n",
      "{'activation': 'relu', 'hidden_layer_sizes': (64, 32, 12, 6)} 0.8317425219438878\n",
      "{'activation': 'tanh', 'hidden_layer_sizes': (64, 32, 12, 6)} 0.833651791728457\n",
      "{'activation': 'relu', 'hidden_layer_sizes': (128, 64, 32, 16, 4)} 0.8361180002316351\n"
     ]
    },
    {
     "name": "stderr",
     "output_type": "stream",
     "text": [
      "/anaconda3/envs/caispp/lib/python3.5/site-packages/sklearn/neural_network/multilayer_perceptron.py:562: ConvergenceWarning: Stochastic Optimizer: Maximum iterations (500) reached and the optimization hasn't converged yet.\n",
      "  % self.max_iter, ConvergenceWarning)\n"
     ]
    },
    {
     "name": "stdout",
     "output_type": "stream",
     "text": [
      "{'activation': 'tanh', 'hidden_layer_sizes': (128, 64, 32, 16, 4)} 0.8245034230872853\n",
      "{'activation': 'relu', 'hidden_layer_sizes': (256, 96, 48, 16, 4)} 0.8330943028335317\n",
      "{'activation': 'tanh', 'hidden_layer_sizes': (256, 96, 48, 16, 4)} 0.8195710632813579\n",
      "{'activation': 'relu', 'hidden_layer_sizes': (128, 64, 32, 16, 8, 4)} 0.8320608916903552\n",
      "{'activation': 'tanh', 'hidden_layer_sizes': (128, 64, 32, 16, 8, 4)} 0.8256965319046551\n",
      "Best HP {'activation': 'relu', 'hidden_layer_sizes': (128, 64, 32, 16, 4)}\n",
      "{'accuracy': 0.8370810352142554, 'precision_1': 0.8482029651389046, 'precision_0': 0.8106162439884099, 'auc': 0.887476233929883, 'f1_0': 0.7464858471102798, 'f1_1': 0.8799734316189782, 'recall_1': 0.9142165153503727, 'recall_0': 0.6917586479390248}\n",
      "\n",
      "{'activation': 'relu', 'hidden_layer_sizes': ()} 0.7889403983484243\n",
      "{'activation': 'tanh', 'hidden_layer_sizes': ()} 0.7910888825641429\n",
      "{'activation': 'relu', 'hidden_layer_sizes': (4,)} 0.8091478103807573\n",
      "{'activation': 'tanh', 'hidden_layer_sizes': (4,)} 0.8086708252096075\n",
      "{'activation': 'relu', 'hidden_layer_sizes': (16, 4)} 0.8184566739947847\n",
      "{'activation': 'tanh', 'hidden_layer_sizes': (16, 4)} 0.8198083979649499\n",
      "{'activation': 'relu', 'hidden_layer_sizes': (32, 8)} 0.8201268628491025\n",
      "{'activation': 'tanh', 'hidden_layer_sizes': (32, 8)} 0.8248998858152609\n",
      "{'activation': 'relu', 'hidden_layer_sizes': (32, 12, 4)} 0.8214799918209396\n",
      "{'activation': 'tanh', 'hidden_layer_sizes': (32, 12, 4)} 0.8280823126038851\n",
      "{'activation': 'relu', 'hidden_layer_sizes': (64, 24, 8)} 0.8236274125881119\n",
      "{'activation': 'tanh', 'hidden_layer_sizes': (64, 24, 8)} 0.8295936581652836\n",
      "{'activation': 'relu', 'hidden_layer_sizes': (32, 16, 8, 4)} 0.8196493269488\n",
      "{'activation': 'tanh', 'hidden_layer_sizes': (32, 16, 8, 4)} 0.8268097634840972\n",
      "{'activation': 'relu', 'hidden_layer_sizes': (64, 32, 12, 6)} 0.826491621343043\n",
      "{'activation': 'tanh', 'hidden_layer_sizes': (64, 32, 12, 6)} 0.8290369285955131\n",
      "{'activation': 'relu', 'hidden_layer_sizes': (128, 64, 32, 16, 4)} 0.8328563038265268\n",
      "{'activation': 'tanh', 'hidden_layer_sizes': (128, 64, 32, 16, 4)} 0.828161392416269\n",
      "{'activation': 'relu', 'hidden_layer_sizes': (256, 96, 48, 16, 4)} 0.817979347025811\n",
      "{'activation': 'tanh', 'hidden_layer_sizes': (256, 96, 48, 16, 4)} 0.8294356314341994\n",
      "{'activation': 'relu', 'hidden_layer_sizes': (128, 64, 32, 16, 8, 4)} 0.8277647401470173\n",
      "{'activation': 'tanh', 'hidden_layer_sizes': (128, 64, 32, 16, 8, 4)} 0.8259339802459472\n",
      "Best HP {'activation': 'relu', 'hidden_layer_sizes': (128, 64, 32, 16, 4)}\n",
      "{'accuracy': 0.8359142978362325, 'precision_1': 0.8553266280084159, 'precision_0': 0.7929123564851654, 'auc': 0.889915506084941, 'f1_0': 0.7503697926471775, 'f1_1': 0.8777928455755534, 'recall_1': 0.9014711052218827, 'recall_0': 0.7121598856501098}\n",
      "\n",
      "{'activation': 'relu', 'hidden_layer_sizes': ()} 0.7855199535524472\n",
      "{'activation': 'tanh', 'hidden_layer_sizes': ()} 0.7888612803359601\n",
      "{'activation': 'relu', 'hidden_layer_sizes': (4,)} 0.7972152811260256\n",
      "{'activation': 'tanh', 'hidden_layer_sizes': (4,)} 0.7982489010102102\n",
      "{'activation': 'relu', 'hidden_layer_sizes': (16, 4)} 0.8111368814653007\n",
      "{'activation': 'tanh', 'hidden_layer_sizes': (16, 4)} 0.8128077916350138\n",
      "{'activation': 'relu', 'hidden_layer_sizes': (32, 8)} 0.8177397908602781\n",
      "{'activation': 'tanh', 'hidden_layer_sizes': (32, 8)} 0.824342947196344\n",
      "{'activation': 'relu', 'hidden_layer_sizes': (32, 12, 4)} 0.817500481953035\n",
      "{'activation': 'tanh', 'hidden_layer_sizes': (32, 12, 4)} 0.8248992780216229\n",
      "{'activation': 'relu', 'hidden_layer_sizes': (64, 24, 8)} 0.8283199505680194\n"
     ]
    },
    {
     "name": "stderr",
     "output_type": "stream",
     "text": [
      "/anaconda3/envs/caispp/lib/python3.5/site-packages/sklearn/neural_network/multilayer_perceptron.py:562: ConvergenceWarning: Stochastic Optimizer: Maximum iterations (500) reached and the optimization hasn't converged yet.\n",
      "  % self.max_iter, ConvergenceWarning)\n"
     ]
    },
    {
     "name": "stdout",
     "output_type": "stream",
     "text": [
      "{'activation': 'tanh', 'hidden_layer_sizes': (64, 24, 8)} 0.8291956955970262\n",
      "{'activation': 'relu', 'hidden_layer_sizes': (32, 16, 8, 4)} 0.819330918929749\n",
      "{'activation': 'tanh', 'hidden_layer_sizes': (32, 16, 8, 4)} 0.8217978488208253\n",
      "{'activation': 'relu', 'hidden_layer_sizes': (64, 32, 12, 6)} 0.8250587098631336\n",
      "{'activation': 'tanh', 'hidden_layer_sizes': (64, 32, 12, 6)} 0.8331739331394333\n",
      "{'activation': 'relu', 'hidden_layer_sizes': (128, 64, 32, 16, 4)} 0.82951480601269\n"
     ]
    },
    {
     "name": "stderr",
     "output_type": "stream",
     "text": [
      "/anaconda3/envs/caispp/lib/python3.5/site-packages/sklearn/neural_network/multilayer_perceptron.py:562: ConvergenceWarning: Stochastic Optimizer: Maximum iterations (500) reached and the optimization hasn't converged yet.\n",
      "  % self.max_iter, ConvergenceWarning)\n",
      "/anaconda3/envs/caispp/lib/python3.5/site-packages/sklearn/neural_network/multilayer_perceptron.py:562: ConvergenceWarning: Stochastic Optimizer: Maximum iterations (500) reached and the optimization hasn't converged yet.\n",
      "  % self.max_iter, ConvergenceWarning)\n"
     ]
    },
    {
     "name": "stdout",
     "output_type": "stream",
     "text": [
      "{'activation': 'tanh', 'hidden_layer_sizes': (128, 64, 32, 16, 4)} 0.8329354975594351\n",
      "{'activation': 'relu', 'hidden_layer_sizes': (256, 96, 48, 16, 4)} 0.7766100229110654\n",
      "{'activation': 'tanh', 'hidden_layer_sizes': (256, 96, 48, 16, 4)} 0.829832036572042\n",
      "{'activation': 'relu', 'hidden_layer_sizes': (128, 64, 32, 16, 8, 4)} 0.7530565368357515\n",
      "{'activation': 'tanh', 'hidden_layer_sizes': (128, 64, 32, 16, 8, 4)} 0.8333336306958089\n",
      "Best HP {'activation': 'tanh', 'hidden_layer_sizes': (128, 64, 32, 16, 8, 4)}\n",
      "{'accuracy': 0.8320958845990666, 'precision_1': 0.8779368525184799, 'precision_0': 0.7494176537641869, 'auc': 0.8924558835940244, 'f1_0': 0.7609964771011575, 'f1_1': 0.8705924028557416, 'recall_1': 0.8633698148898797, 'recall_0': 0.772938710831672}\n",
      "\n",
      "{'activation': 'relu', 'hidden_layer_sizes': ()} 0.7898166180508134\n",
      "{'activation': 'tanh', 'hidden_layer_sizes': ()} 0.7897372723604329\n",
      "{'activation': 'relu', 'hidden_layer_sizes': (4,)} 0.7986475850932463\n",
      "{'activation': 'tanh', 'hidden_layer_sizes': (4,)} 0.8050106347793244\n",
      "{'activation': 'relu', 'hidden_layer_sizes': (16, 4)} 0.80580602773389\n",
      "{'activation': 'tanh', 'hidden_layer_sizes': (16, 4)} 0.8143975527488236\n",
      "{'activation': 'relu', 'hidden_layer_sizes': (32, 8)} 0.8180582748716597\n",
      "{'activation': 'tanh', 'hidden_layer_sizes': (32, 8)} 0.8213996396739951\n",
      "{'activation': 'relu', 'hidden_layer_sizes': (32, 12, 4)} 0.8190925593058296\n",
      "{'activation': 'tanh', 'hidden_layer_sizes': (32, 12, 4)} 0.8187740946210605\n",
      "{'activation': 'relu', 'hidden_layer_sizes': (64, 24, 8)} 0.8163079242454595\n",
      "{'activation': 'tanh', 'hidden_layer_sizes': (64, 24, 8)} 0.819171733993075\n",
      "{'activation': 'relu', 'hidden_layer_sizes': (32, 16, 8, 4)} 0.8214790992939628\n",
      "{'activation': 'tanh', 'hidden_layer_sizes': (32, 16, 8, 4)} 0.8215578183716147\n",
      "{'activation': 'relu', 'hidden_layer_sizes': (64, 32, 12, 6)} 0.819569696579458\n"
     ]
    },
    {
     "name": "stderr",
     "output_type": "stream",
     "text": [
      "/anaconda3/envs/caispp/lib/python3.5/site-packages/sklearn/neural_network/multilayer_perceptron.py:562: ConvergenceWarning: Stochastic Optimizer: Maximum iterations (500) reached and the optimization hasn't converged yet.\n",
      "  % self.max_iter, ConvergenceWarning)\n"
     ]
    },
    {
     "name": "stdout",
     "output_type": "stream",
     "text": [
      "{'activation': 'tanh', 'hidden_layer_sizes': (64, 32, 12, 6)} 0.8245823133493304\n",
      "{'activation': 'relu', 'hidden_layer_sizes': (128, 64, 32, 16, 4)} 0.8268890330824555\n",
      "{'activation': 'tanh', 'hidden_layer_sizes': (128, 64, 32, 16, 4)} 0.8229906915608147\n",
      "{'activation': 'relu', 'hidden_layer_sizes': (256, 96, 48, 16, 4)} 0.7722215544209253\n",
      "{'activation': 'tanh', 'hidden_layer_sizes': (256, 96, 48, 16, 4)} 0.825774149705259\n",
      "{'activation': 'relu', 'hidden_layer_sizes': (128, 64, 32, 16, 8, 4)} 0.7867185875016434\n",
      "{'activation': 'tanh', 'hidden_layer_sizes': (128, 64, 32, 16, 8, 4)} 0.8284797811449591\n",
      "Best HP {'activation': 'tanh', 'hidden_layer_sizes': (128, 64, 32, 16, 8, 4)}\n",
      "{'accuracy': 0.8305579126007637, 'precision_1': 0.8671261162210722, 'precision_0': 0.7598173989728693, 'auc': 0.8822535224488945, 'f1_0': 0.7534658813241081, 'f1_1': 0.8709212599485572, 'recall_1': 0.8747497700589731, 'recall_0': 0.7472196714620957}\n",
      "\n",
      "{'activation': 'relu', 'hidden_layer_sizes': ()} 0.7883839914220604\n",
      "{'activation': 'tanh', 'hidden_layer_sizes': ()} 0.794033044349948\n",
      "{'activation': 'relu', 'hidden_layer_sizes': (4,)} 0.8080351106388742\n",
      "{'activation': 'tanh', 'hidden_layer_sizes': (4,)} 0.8105009204791265\n",
      "{'activation': 'relu', 'hidden_layer_sizes': (16, 4)} 0.8198885219989592\n",
      "{'activation': 'tanh', 'hidden_layer_sizes': (16, 4)} 0.8198096319634866\n",
      "{'activation': 'relu', 'hidden_layer_sizes': (32, 8)} 0.8270486736831003\n",
      "{'activation': 'tanh', 'hidden_layer_sizes': (32, 8)} 0.8240260964898901\n",
      "{'activation': 'relu', 'hidden_layer_sizes': (32, 12, 4)} 0.8230712526753395\n",
      "{'activation': 'tanh', 'hidden_layer_sizes': (32, 12, 4)} 0.8291964932491419\n",
      "{'activation': 'relu', 'hidden_layer_sizes': (64, 24, 8)} 0.8296744468217815\n",
      "{'activation': 'tanh', 'hidden_layer_sizes': (64, 24, 8)} 0.8321404274023451\n",
      "{'activation': 'relu', 'hidden_layer_sizes': (32, 16, 8, 4)} 0.8263330629103428\n",
      "{'activation': 'tanh', 'hidden_layer_sizes': (32, 16, 8, 4)} 0.8291176221505773\n",
      "{'activation': 'relu', 'hidden_layer_sizes': (64, 32, 12, 6)} 0.8271286460859014\n"
     ]
    },
    {
     "name": "stderr",
     "output_type": "stream",
     "text": [
      "/anaconda3/envs/caispp/lib/python3.5/site-packages/sklearn/neural_network/multilayer_perceptron.py:562: ConvergenceWarning: Stochastic Optimizer: Maximum iterations (500) reached and the optimization hasn't converged yet.\n",
      "  % self.max_iter, ConvergenceWarning)\n"
     ]
    },
    {
     "name": "stdout",
     "output_type": "stream",
     "text": [
      "{'activation': 'tanh', 'hidden_layer_sizes': (64, 32, 12, 6)} 0.829037042452597\n",
      "{'activation': 'relu', 'hidden_layer_sizes': (128, 64, 32, 16, 4)} 0.8291163880704745\n"
     ]
    },
    {
     "name": "stderr",
     "output_type": "stream",
     "text": [
      "/anaconda3/envs/caispp/lib/python3.5/site-packages/sklearn/neural_network/multilayer_perceptron.py:562: ConvergenceWarning: Stochastic Optimizer: Maximum iterations (500) reached and the optimization hasn't converged yet.\n",
      "  % self.max_iter, ConvergenceWarning)\n"
     ]
    },
    {
     "name": "stdout",
     "output_type": "stream",
     "text": [
      "{'activation': 'tanh', 'hidden_layer_sizes': (128, 64, 32, 16, 4)} 0.825696569887226\n",
      "{'activation': 'relu', 'hidden_layer_sizes': (256, 96, 48, 16, 4)} 0.8298335555939299\n",
      "{'activation': 'tanh', 'hidden_layer_sizes': (256, 96, 48, 16, 4)} 0.8268105798465486\n",
      "{'activation': 'relu', 'hidden_layer_sizes': (128, 64, 32, 16, 8, 4)} 0.8157546877399705\n",
      "{'activation': 'tanh', 'hidden_layer_sizes': (128, 64, 32, 16, 8, 4)} 0.8322192792739891\n",
      "Best HP {'activation': 'tanh', 'hidden_layer_sizes': (128, 64, 32, 16, 8, 4)}\n",
      "{'accuracy': 0.8386455239711498, 'precision_1': 0.8507705501046737, 'precision_0': 0.8102358016665682, 'auc': 0.8910689293350389, 'f1_0': 0.7502565154935357, 'f1_1': 0.8808241446170118, 'recall_1': 0.913078786730371, 'recall_0': 0.69854533411459}\n",
      "\n",
      "{'activation': 'relu', 'hidden_layer_sizes': ()} 0.7844875678843085\n",
      "{'activation': 'tanh', 'hidden_layer_sizes': ()} 0.7860793414218502\n",
      "{'activation': 'relu', 'hidden_layer_sizes': (4,)} 0.8027853872439676\n",
      "{'activation': 'tanh', 'hidden_layer_sizes': (4,)} 0.8084342121767377\n",
      "{'activation': 'relu', 'hidden_layer_sizes': (16, 4)} 0.8073994533229468\n",
      "{'activation': 'tanh', 'hidden_layer_sizes': (16, 4)} 0.8174231108216325\n",
      "{'activation': 'relu', 'hidden_layer_sizes': (32, 8)} 0.8193325327902466\n",
      "{'activation': 'tanh', 'hidden_layer_sizes': (32, 8)} 0.8273674611381564\n",
      "{'activation': 'relu', 'hidden_layer_sizes': (32, 12, 4)} 0.819173708660808\n",
      "{'activation': 'tanh', 'hidden_layer_sizes': (32, 12, 4)} 0.8243441435295109\n",
      "{'activation': 'relu', 'hidden_layer_sizes': (64, 24, 8)} 0.8276062575888302\n"
     ]
    },
    {
     "name": "stderr",
     "output_type": "stream",
     "text": [
      "/anaconda3/envs/caispp/lib/python3.5/site-packages/sklearn/neural_network/multilayer_perceptron.py:562: ConvergenceWarning: Stochastic Optimizer: Maximum iterations (500) reached and the optimization hasn't converged yet.\n",
      "  % self.max_iter, ConvergenceWarning)\n"
     ]
    },
    {
     "name": "stdout",
     "output_type": "stream",
     "text": [
      "{'activation': 'tanh', 'hidden_layer_sizes': (64, 24, 8)} 0.8296743327018735\n",
      "{'activation': 'relu', 'hidden_layer_sizes': (32, 16, 8, 4)} 0.8019056736072597\n",
      "{'activation': 'tanh', 'hidden_layer_sizes': (32, 16, 8, 4)} 0.826015433379927\n",
      "{'activation': 'relu', 'hidden_layer_sizes': (64, 32, 12, 6)} 0.8254581343525419\n",
      "{'activation': 'tanh', 'hidden_layer_sizes': (64, 32, 12, 6)} 0.8292772438324397\n",
      "{'activation': 'relu', 'hidden_layer_sizes': (128, 64, 32, 16, 4)} 0.8249002464321755\n"
     ]
    },
    {
     "name": "stderr",
     "output_type": "stream",
     "text": [
      "/anaconda3/envs/caispp/lib/python3.5/site-packages/sklearn/neural_network/multilayer_perceptron.py:562: ConvergenceWarning: Stochastic Optimizer: Maximum iterations (500) reached and the optimization hasn't converged yet.\n",
      "  % self.max_iter, ConvergenceWarning)\n"
     ]
    },
    {
     "name": "stdout",
     "output_type": "stream",
     "text": [
      "{'activation': 'tanh', 'hidden_layer_sizes': (128, 64, 32, 16, 4)} 0.8244241156785511\n",
      "{'activation': 'relu', 'hidden_layer_sizes': (256, 96, 48, 16, 4)} 0.8322202855221065\n",
      "{'activation': 'tanh', 'hidden_layer_sizes': (256, 96, 48, 16, 4)} 0.817343119771936\n",
      "{'activation': 'relu', 'hidden_layer_sizes': (128, 64, 32, 16, 8, 4)} 0.8250598300770896\n",
      "{'activation': 'tanh', 'hidden_layer_sizes': (128, 64, 32, 16, 8, 4)} 0.8225142950742\n",
      "Best HP {'activation': 'relu', 'hidden_layer_sizes': (256, 96, 48, 16, 4)}\n",
      "{'accuracy': 0.8397238721538679, 'precision_1': 0.8499172683513839, 'precision_0': 0.815347721822542, 'auc': 0.8863245953862586, 'f1_0': 0.7500034467070161, 'f1_1': 0.8820533501583854, 'recall_1': 0.9167151143139137, 'recall_0': 0.6943558062951523}\n",
      "\n",
      "{'activation': 'relu', 'hidden_layer_sizes': ()} 0.785840259965951\n",
      "{'activation': 'tanh', 'hidden_layer_sizes': ()} 0.7837715392307677\n",
      "{'activation': 'relu', 'hidden_layer_sizes': (4,)} 0.8054892147471834\n",
      "{'activation': 'tanh', 'hidden_layer_sizes': (4,)} 0.8053295931106353\n",
      "{'activation': 'relu', 'hidden_layer_sizes': (16, 4)} 0.8182191685436927\n",
      "{'activation': 'tanh', 'hidden_layer_sizes': (16, 4)} 0.8171036397074883\n",
      "{'activation': 'relu', 'hidden_layer_sizes': (32, 8)} 0.8190137451176813\n",
      "{'activation': 'tanh', 'hidden_layer_sizes': (32, 8)} 0.823150749870048\n",
      "{'activation': 'relu', 'hidden_layer_sizes': (32, 12, 4)} 0.8200476687808674\n",
      "{'activation': 'tanh', 'hidden_layer_sizes': (32, 12, 4)} 0.8290370422622764\n",
      "{'activation': 'relu', 'hidden_layer_sizes': (64, 24, 8)} 0.8251391945503093\n",
      "{'activation': 'tanh', 'hidden_layer_sizes': (64, 24, 8)} 0.8296739718221353\n",
      "{'activation': 'relu', 'hidden_layer_sizes': (32, 16, 8, 4)} 0.759042943934968\n",
      "{'activation': 'tanh', 'hidden_layer_sizes': (32, 16, 8, 4)} 0.8284010051115765\n",
      "{'activation': 'relu', 'hidden_layer_sizes': (64, 32, 12, 6)} 0.8260145790439676\n",
      "{'activation': 'tanh', 'hidden_layer_sizes': (64, 32, 12, 6)} 0.8316626633891077\n",
      "{'activation': 'relu', 'hidden_layer_sizes': (128, 64, 32, 16, 4)} 0.8301516216882764\n"
     ]
    },
    {
     "name": "stderr",
     "output_type": "stream",
     "text": [
      "/anaconda3/envs/caispp/lib/python3.5/site-packages/sklearn/neural_network/multilayer_perceptron.py:562: ConvergenceWarning: Stochastic Optimizer: Maximum iterations (500) reached and the optimization hasn't converged yet.\n",
      "  % self.max_iter, ConvergenceWarning)\n"
     ]
    },
    {
     "name": "stdout",
     "output_type": "stream",
     "text": [
      "{'activation': 'tanh', 'hidden_layer_sizes': (128, 64, 32, 16, 4)} 0.828560455862807\n",
      "{'activation': 'relu', 'hidden_layer_sizes': (256, 96, 48, 16, 4)} 0.8290365866254943\n",
      "{'activation': 'tanh', 'hidden_layer_sizes': (256, 96, 48, 16, 4)} 0.8285603039959635\n",
      "{'activation': 'relu', 'hidden_layer_sizes': (128, 64, 32, 16, 8, 4)} 0.8253781427862606\n",
      "{'activation': 'tanh', 'hidden_layer_sizes': (128, 64, 32, 16, 8, 4)} 0.8295945883123158\n",
      "Best HP {'activation': 'tanh', 'hidden_layer_sizes': (64, 32, 12, 6)}\n",
      "{'accuracy': 0.8322991797482676, 'precision_1': 0.8470463335102753, 'precision_0': 0.7979949432586582, 'auc': 0.8899961777191139, 'f1_0': 0.7410147558661736, 'f1_1': 0.8760039996601596, 'recall_1': 0.9070116793655519, 'recall_0': 0.6916295069435597}\n",
      "\n",
      "{'activation': 'relu', 'hidden_layer_sizes': ()} 0.7871921168841772\n",
      "{'activation': 'tanh', 'hidden_layer_sizes': ()} 0.7910097265419189\n",
      "{'activation': 'relu', 'hidden_layer_sizes': (4,)} 0.801511433122508\n",
      "{'activation': 'tanh', 'hidden_layer_sizes': (4,)} 0.8025465907570423\n",
      "{'activation': 'relu', 'hidden_layer_sizes': (16, 4)} 0.8154336409382202\n",
      "{'activation': 'tanh', 'hidden_layer_sizes': (16, 4)} 0.8206041706183443\n",
      "{'activation': 'relu', 'hidden_layer_sizes': (32, 8)} 0.8202066640856364\n",
      "{'activation': 'tanh', 'hidden_layer_sizes': (32, 8)} 0.8246607475848888\n",
      "{'activation': 'relu', 'hidden_layer_sizes': (32, 12, 4)} 0.8179793849902562\n",
      "{'activation': 'tanh', 'hidden_layer_sizes': (32, 12, 4)} 0.8252980949349024\n",
      "{'activation': 'relu', 'hidden_layer_sizes': (64, 24, 8)} 0.8241848256175871\n"
     ]
    },
    {
     "name": "stderr",
     "output_type": "stream",
     "text": [
      "/anaconda3/envs/caispp/lib/python3.5/site-packages/sklearn/neural_network/multilayer_perceptron.py:562: ConvergenceWarning: Stochastic Optimizer: Maximum iterations (500) reached and the optimization hasn't converged yet.\n",
      "  % self.max_iter, ConvergenceWarning)\n"
     ]
    },
    {
     "name": "stdout",
     "output_type": "stream",
     "text": [
      "{'activation': 'tanh', 'hidden_layer_sizes': (64, 24, 8)} 0.8294344541195066\n",
      "{'activation': 'relu', 'hidden_layer_sizes': (32, 16, 8, 4)} 0.7902907556257525\n",
      "{'activation': 'tanh', 'hidden_layer_sizes': (32, 16, 8, 4)} 0.8213993169671484\n",
      "{'activation': 'relu', 'hidden_layer_sizes': (64, 32, 12, 6)} 0.8276050614641098\n",
      "{'activation': 'tanh', 'hidden_layer_sizes': (64, 32, 12, 6)} 0.8291958287263453\n",
      "{'activation': 'relu', 'hidden_layer_sizes': (128, 64, 32, 16, 4)} 0.8163875359860316\n",
      "{'activation': 'tanh', 'hidden_layer_sizes': (128, 64, 32, 16, 4)} 0.8262532424650142\n",
      "{'activation': 'relu', 'hidden_layer_sizes': (256, 96, 48, 16, 4)} 0.8124900111984207\n",
      "{'activation': 'tanh', 'hidden_layer_sizes': (256, 96, 48, 16, 4)} 0.8260145600617449\n",
      "{'activation': 'relu', 'hidden_layer_sizes': (128, 64, 32, 16, 8, 4)} 0.8298332899243799\n",
      "{'activation': 'tanh', 'hidden_layer_sizes': (128, 64, 32, 16, 8, 4)} 0.8235476491166397\n",
      "Best HP {'activation': 'relu', 'hidden_layer_sizes': (128, 64, 32, 16, 8, 4)}\n",
      "{'accuracy': 0.8348359496535144, 'precision_1': 0.8356532415905858, 'precision_0': 0.8326586132072417, 'auc': 0.8820745251009499, 'f1_0': 0.7334607594214476, 'f1_1': 0.8803452736190976, 'recall_1': 0.9300878130623622, 'recall_0': 0.6553824976420505}\n",
      "\n",
      "{'activation': 'relu', 'hidden_layer_sizes': ()} 0.794509478955077\n",
      "{'activation': 'tanh', 'hidden_layer_sizes': ()} 0.7956232419279967\n",
      "{'activation': 'relu', 'hidden_layer_sizes': (4,)} 0.8091491774904873\n",
      "{'activation': 'tanh', 'hidden_layer_sizes': (4,)} 0.8120133673085101\n",
      "{'activation': 'relu', 'hidden_layer_sizes': (16, 4)} 0.815036533313136\n",
      "{'activation': 'tanh', 'hidden_layer_sizes': (16, 4)} 0.8212425434524587\n",
      "{'activation': 'relu', 'hidden_layer_sizes': (32, 8)} 0.8222759544868806\n",
      "{'activation': 'tanh', 'hidden_layer_sizes': (32, 8)} 0.8253790546126613\n",
      "{'activation': 'relu', 'hidden_layer_sizes': (32, 12, 4)} 0.8250608744346585\n",
      "{'activation': 'tanh', 'hidden_layer_sizes': (32, 12, 4)} 0.8265723150431133\n",
      "{'activation': 'relu', 'hidden_layer_sizes': (64, 24, 8)} 0.8245034045219558\n"
     ]
    },
    {
     "name": "stderr",
     "output_type": "stream",
     "text": [
      "/anaconda3/envs/caispp/lib/python3.5/site-packages/sklearn/neural_network/multilayer_perceptron.py:562: ConvergenceWarning: Stochastic Optimizer: Maximum iterations (500) reached and the optimization hasn't converged yet.\n",
      "  % self.max_iter, ConvergenceWarning)\n"
     ]
    },
    {
     "name": "stdout",
     "output_type": "stream",
     "text": [
      "{'activation': 'tanh', 'hidden_layer_sizes': (64, 24, 8)} 0.8279247416092748\n",
      "{'activation': 'relu', 'hidden_layer_sizes': (32, 16, 8, 4)} 0.8258558878988417\n",
      "{'activation': 'tanh', 'hidden_layer_sizes': (32, 16, 8, 4)} 0.8256171104213275\n",
      "{'activation': 'relu', 'hidden_layer_sizes': (64, 32, 12, 6)} 0.8282434530720003\n"
     ]
    },
    {
     "name": "stderr",
     "output_type": "stream",
     "text": [
      "/anaconda3/envs/caispp/lib/python3.5/site-packages/sklearn/neural_network/multilayer_perceptron.py:562: ConvergenceWarning: Stochastic Optimizer: Maximum iterations (500) reached and the optimization hasn't converged yet.\n",
      "  % self.max_iter, ConvergenceWarning)\n"
     ]
    },
    {
     "name": "stdout",
     "output_type": "stream",
     "text": [
      "{'activation': 'tanh', 'hidden_layer_sizes': (64, 32, 12, 6)} 0.8280832429049862\n",
      "{'activation': 'relu', 'hidden_layer_sizes': (128, 64, 32, 16, 4)} 0.8325383137879512\n"
     ]
    },
    {
     "name": "stderr",
     "output_type": "stream",
     "text": [
      "/anaconda3/envs/caispp/lib/python3.5/site-packages/sklearn/neural_network/multilayer_perceptron.py:562: ConvergenceWarning: Stochastic Optimizer: Maximum iterations (500) reached and the optimization hasn't converged yet.\n",
      "  % self.max_iter, ConvergenceWarning)\n"
     ]
    },
    {
     "name": "stdout",
     "output_type": "stream",
     "text": [
      "{'activation': 'tanh', 'hidden_layer_sizes': (128, 64, 32, 16, 4)} 0.827366986582592\n",
      "{'activation': 'relu', 'hidden_layer_sizes': (256, 96, 48, 16, 4)} 0.8287196408901099\n",
      "{'activation': 'tanh', 'hidden_layer_sizes': (256, 96, 48, 16, 4)} 0.8297543809973135\n",
      "{'activation': 'relu', 'hidden_layer_sizes': (128, 64, 32, 16, 8, 4)} 0.8295952341066505\n",
      "{'activation': 'tanh', 'hidden_layer_sizes': (128, 64, 32, 16, 8, 4)} 0.8302320497550483\n",
      "Best HP {'activation': 'relu', 'hidden_layer_sizes': (128, 64, 32, 16, 4)}\n"
     ]
    },
    {
     "name": "stderr",
     "output_type": "stream",
     "text": [
      "\r",
      " 27%|██▋       | 3/11 [3:57:19<9:02:06, 4065.83s/it]"
     ]
    },
    {
     "name": "stdout",
     "output_type": "stream",
     "text": [
      "{'accuracy': 0.838168222316504, 'precision_1': 0.8571061555852431, 'precision_0': 0.7963897075493086, 'auc': 0.8892793964383509, 'f1_0': 0.7542910823324164, 'f1_1': 0.8793531764597349, 'recall_1': 0.9027858582851885, 'recall_0': 0.7164198128839829}\n",
      "Training Percentage: 0.2\n",
      "\n",
      "{'activation': 'relu', 'hidden_layer_sizes': ()} 0.7904220318014845\n",
      "{'activation': 'tanh', 'hidden_layer_sizes': ()} 0.78942769553856\n",
      "{'activation': 'relu', 'hidden_layer_sizes': (4,)} 0.8006047983102288\n",
      "{'activation': 'tanh', 'hidden_layer_sizes': (4,)} 0.8074459770304787\n",
      "{'activation': 'relu', 'hidden_layer_sizes': (16, 4)} 0.8201343209443416\n",
      "{'activation': 'tanh', 'hidden_layer_sizes': (16, 4)} 0.8165146768598177\n",
      "{'activation': 'relu', 'hidden_layer_sizes': (32, 8)} 0.8271747276224387\n",
      "{'activation': 'tanh', 'hidden_layer_sizes': (32, 8)} 0.8283281871133868\n",
      "{'activation': 'relu', 'hidden_layer_sizes': (32, 12, 4)} 0.827969987803416\n",
      "{'activation': 'tanh', 'hidden_layer_sizes': (32, 12, 4)} 0.8314704710060838\n",
      "{'activation': 'relu', 'hidden_layer_sizes': (64, 24, 8)} 0.8303168406547483\n"
     ]
    },
    {
     "name": "stderr",
     "output_type": "stream",
     "text": [
      "/anaconda3/envs/caispp/lib/python3.5/site-packages/sklearn/neural_network/multilayer_perceptron.py:562: ConvergenceWarning: Stochastic Optimizer: Maximum iterations (500) reached and the optimization hasn't converged yet.\n",
      "  % self.max_iter, ConvergenceWarning)\n"
     ]
    },
    {
     "name": "stdout",
     "output_type": "stream",
     "text": [
      "{'activation': 'tanh', 'hidden_layer_sizes': (64, 24, 8)} 0.8401813559613237\n",
      "{'activation': 'relu', 'hidden_layer_sizes': (32, 16, 8, 4)} 0.8262199977465414\n",
      "{'activation': 'tanh', 'hidden_layer_sizes': (32, 16, 8, 4)} 0.8346921765021974\n",
      "{'activation': 'relu', 'hidden_layer_sizes': (64, 32, 12, 6)} 0.8323850297064515\n"
     ]
    },
    {
     "name": "stderr",
     "output_type": "stream",
     "text": [
      "/anaconda3/envs/caispp/lib/python3.5/site-packages/sklearn/neural_network/multilayer_perceptron.py:562: ConvergenceWarning: Stochastic Optimizer: Maximum iterations (500) reached and the optimization hasn't converged yet.\n",
      "  % self.max_iter, ConvergenceWarning)\n"
     ]
    },
    {
     "name": "stdout",
     "output_type": "stream",
     "text": [
      "{'activation': 'tanh', 'hidden_layer_sizes': (64, 32, 12, 6)} 0.839982370055692\n",
      "{'activation': 'relu', 'hidden_layer_sizes': (128, 64, 32, 16, 4)} 0.8402210382863006\n",
      "{'activation': 'tanh', 'hidden_layer_sizes': (128, 64, 32, 16, 4)} 0.8467046109618139\n",
      "{'activation': 'relu', 'hidden_layer_sizes': (256, 96, 48, 16, 4)} 0.8418120902139048\n",
      "{'activation': 'tanh', 'hidden_layer_sizes': (256, 96, 48, 16, 4)} 0.8471818192777408\n",
      "{'activation': 'relu', 'hidden_layer_sizes': (128, 64, 32, 16, 8, 4)} 0.7763068565229322\n",
      "{'activation': 'tanh', 'hidden_layer_sizes': (128, 64, 32, 16, 8, 4)} 0.8407381852177856\n",
      "Best HP {'activation': 'tanh', 'hidden_layer_sizes': (256, 96, 48, 16, 4)}\n",
      "{'accuracy': 0.8498483567841695, 'precision_1': 0.8756562750274375, 'precision_0': 0.797338483357977, 'auc': 0.9088418336543109, 'f1_0': 0.77776469549348, 'f1_1': 0.8866230177799136, 'recall_1': 0.8978679400225068, 'recall_0': 0.7591289108512655}\n",
      "\n",
      "{'activation': 'relu', 'hidden_layer_sizes': ()} 0.7846546014553318\n",
      "{'activation': 'tanh', 'hidden_layer_sizes': ()} 0.7881549090514904\n",
      "{'activation': 'relu', 'hidden_layer_sizes': (4,)} 0.8010421297101818\n",
      "{'activation': 'tanh', 'hidden_layer_sizes': (4,)} 0.8052187169580928\n",
      "{'activation': 'relu', 'hidden_layer_sizes': (16, 4)} 0.8115828914456564\n",
      "{'activation': 'tanh', 'hidden_layer_sizes': (16, 4)} 0.8156399381219614\n",
      "{'activation': 'relu', 'hidden_layer_sizes': (32, 8)} 0.8159581276245461\n",
      "{'activation': 'tanh', 'hidden_layer_sizes': (32, 8)} 0.8270553816418298\n",
      "{'activation': 'relu', 'hidden_layer_sizes': (32, 12, 4)} 0.8236744105340366\n",
      "{'activation': 'tanh', 'hidden_layer_sizes': (32, 12, 4)} 0.8244300975508397\n",
      "{'activation': 'relu', 'hidden_layer_sizes': (64, 24, 8)} 0.8304761205047937\n"
     ]
    },
    {
     "name": "stderr",
     "output_type": "stream",
     "text": [
      "/anaconda3/envs/caispp/lib/python3.5/site-packages/sklearn/neural_network/multilayer_perceptron.py:562: ConvergenceWarning: Stochastic Optimizer: Maximum iterations (500) reached and the optimization hasn't converged yet.\n",
      "  % self.max_iter, ConvergenceWarning)\n"
     ]
    },
    {
     "name": "stdout",
     "output_type": "stream",
     "text": [
      "{'activation': 'tanh', 'hidden_layer_sizes': (64, 24, 8)} 0.8323058264246411\n",
      "{'activation': 'relu', 'hidden_layer_sizes': (32, 16, 8, 4)} 0.8215663635508471\n"
     ]
    },
    {
     "name": "stderr",
     "output_type": "stream",
     "text": [
      "/anaconda3/envs/caispp/lib/python3.5/site-packages/sklearn/neural_network/multilayer_perceptron.py:562: ConvergenceWarning: Stochastic Optimizer: Maximum iterations (500) reached and the optimization hasn't converged yet.\n",
      "  % self.max_iter, ConvergenceWarning)\n"
     ]
    },
    {
     "name": "stdout",
     "output_type": "stream",
     "text": [
      "{'activation': 'tanh', 'hidden_layer_sizes': (32, 16, 8, 4)} 0.8265781116263184\n",
      "{'activation': 'relu', 'hidden_layer_sizes': (64, 32, 12, 6)} 0.8252656238297843\n"
     ]
    },
    {
     "name": "stderr",
     "output_type": "stream",
     "text": [
      "/anaconda3/envs/caispp/lib/python3.5/site-packages/sklearn/neural_network/multilayer_perceptron.py:562: ConvergenceWarning: Stochastic Optimizer: Maximum iterations (500) reached and the optimization hasn't converged yet.\n",
      "  % self.max_iter, ConvergenceWarning)\n"
     ]
    },
    {
     "name": "stdout",
     "output_type": "stream",
     "text": [
      "{'activation': 'tanh', 'hidden_layer_sizes': (64, 32, 12, 6)} 0.8357662998199227\n",
      "{'activation': 'relu', 'hidden_layer_sizes': (128, 64, 32, 16, 4)} 0.840817692251396\n"
     ]
    },
    {
     "name": "stderr",
     "output_type": "stream",
     "text": [
      "/anaconda3/envs/caispp/lib/python3.5/site-packages/sklearn/neural_network/multilayer_perceptron.py:562: ConvergenceWarning: Stochastic Optimizer: Maximum iterations (500) reached and the optimization hasn't converged yet.\n",
      "  % self.max_iter, ConvergenceWarning)\n"
     ]
    },
    {
     "name": "stdout",
     "output_type": "stream",
     "text": [
      "{'activation': 'tanh', 'hidden_layer_sizes': (128, 64, 32, 16, 4)} 0.8391870481751305\n",
      "{'activation': 'relu', 'hidden_layer_sizes': (256, 96, 48, 16, 4)} 0.8383517544561575\n",
      "{'activation': 'tanh', 'hidden_layer_sizes': (256, 96, 48, 16, 4)} 0.8391869342682053\n",
      "{'activation': 'relu', 'hidden_layer_sizes': (128, 64, 32, 16, 8, 4)} 0.8345730868121696\n",
      "{'activation': 'tanh', 'hidden_layer_sizes': (128, 64, 32, 16, 8, 4)} 0.8391868630763774\n",
      "Best HP {'activation': 'relu', 'hidden_layer_sizes': (128, 64, 32, 16, 4)}\n",
      "{'accuracy': 0.8479789191070451, 'precision_1': 0.8532457550136259, 'precision_0': 0.8349879351947604, 'auc': 0.9060243157059449, 'f1_0': 0.7601280321335551, 'f1_1': 0.8887303851640512, 'recall_1': 0.9272945429139897, 'recall_0': 0.6975866835618016}\n",
      "\n",
      "{'activation': 'relu', 'hidden_layer_sizes': ()} 0.7918142924144537\n",
      "{'activation': 'tanh', 'hidden_layer_sizes': ()} 0.7878369283782681\n",
      "{'activation': 'relu', 'hidden_layer_sizes': (4,)} 0.8103498822060012\n",
      "{'activation': 'tanh', 'hidden_layer_sizes': (4,)} 0.8134520613688746\n",
      "{'activation': 'relu', 'hidden_layer_sizes': (16, 4)} 0.8192991174016844\n",
      "{'activation': 'tanh', 'hidden_layer_sizes': (16, 4)} 0.8248675048887429\n",
      "{'activation': 'relu', 'hidden_layer_sizes': (32, 8)} 0.8288849736547522\n",
      "{'activation': 'tanh', 'hidden_layer_sizes': (32, 8)} 0.8364025174569482\n",
      "{'activation': 'relu', 'hidden_layer_sizes': (32, 12, 4)} 0.8308340113168429\n",
      "{'activation': 'tanh', 'hidden_layer_sizes': (32, 12, 4)} 0.831868452309591\n",
      "{'activation': 'relu', 'hidden_layer_sizes': (64, 24, 8)} 0.8364026835712138\n"
     ]
    },
    {
     "name": "stderr",
     "output_type": "stream",
     "text": [
      "/anaconda3/envs/caispp/lib/python3.5/site-packages/sklearn/neural_network/multilayer_perceptron.py:562: ConvergenceWarning: Stochastic Optimizer: Maximum iterations (500) reached and the optimization hasn't converged yet.\n",
      "  % self.max_iter, ConvergenceWarning)\n"
     ]
    },
    {
     "name": "stdout",
     "output_type": "stream",
     "text": [
      "{'activation': 'tanh', 'hidden_layer_sizes': (64, 24, 8)} 0.8412155738863438\n",
      "{'activation': 'relu', 'hidden_layer_sizes': (32, 16, 8, 4)} 0.8347320107030743\n",
      "{'activation': 'tanh', 'hidden_layer_sizes': (32, 16, 8, 4)} 0.8343340199073235\n",
      "{'activation': 'relu', 'hidden_layer_sizes': (64, 32, 12, 6)} 0.8397436828405956\n"
     ]
    },
    {
     "name": "stderr",
     "output_type": "stream",
     "text": [
      "/anaconda3/envs/caispp/lib/python3.5/site-packages/sklearn/neural_network/multilayer_perceptron.py:562: ConvergenceWarning: Stochastic Optimizer: Maximum iterations (500) reached and the optimization hasn't converged yet.\n",
      "  % self.max_iter, ConvergenceWarning)\n"
     ]
    },
    {
     "name": "stdout",
     "output_type": "stream",
     "text": [
      "{'activation': 'tanh', 'hidden_layer_sizes': (64, 32, 12, 6)} 0.841295042950979\n",
      "{'activation': 'relu', 'hidden_layer_sizes': (128, 64, 32, 16, 4)} 0.8443578008255783\n"
     ]
    },
    {
     "name": "stderr",
     "output_type": "stream",
     "text": [
      "/anaconda3/envs/caispp/lib/python3.5/site-packages/sklearn/neural_network/multilayer_perceptron.py:562: ConvergenceWarning: Stochastic Optimizer: Maximum iterations (500) reached and the optimization hasn't converged yet.\n",
      "  % self.max_iter, ConvergenceWarning)\n"
     ]
    },
    {
     "name": "stdout",
     "output_type": "stream",
     "text": [
      "{'activation': 'tanh', 'hidden_layer_sizes': (128, 64, 32, 16, 4)} 0.845948833768695\n",
      "{'activation': 'relu', 'hidden_layer_sizes': (256, 96, 48, 16, 4)} 0.8459486534160638\n",
      "{'activation': 'tanh', 'hidden_layer_sizes': (256, 96, 48, 16, 4)} 0.8471419708384983\n",
      "{'activation': 'relu', 'hidden_layer_sizes': (128, 64, 32, 16, 8, 4)} 0.8229576796855639\n",
      "{'activation': 'tanh', 'hidden_layer_sizes': (128, 64, 32, 16, 8, 4)} 0.8463864499359605\n",
      "Best HP {'activation': 'tanh', 'hidden_layer_sizes': (256, 96, 48, 16, 4)}\n",
      "{'accuracy': 0.8560135235917069, 'precision_1': 0.8711056368642226, 'precision_0': 0.8230074473142133, 'auc': 0.9119109507185903, 'f1_0': 0.7819933754893105, 'f1_1': 0.8925098359438796, 'recall_1': 0.9149923896499239, 'recall_0': 0.7448730818872795}\n",
      "\n",
      "{'activation': 'relu', 'hidden_layer_sizes': ()} 0.7895869943730928\n",
      "{'activation': 'tanh', 'hidden_layer_sizes': ()} 0.7882742645243432\n",
      "{'activation': 'relu', 'hidden_layer_sizes': (4,)} 0.8008832200576427\n",
      "{'activation': 'tanh', 'hidden_layer_sizes': (4,)} 0.810628308699537\n",
      "{'activation': 'relu', 'hidden_layer_sizes': (16, 4)} 0.8162364259727912\n",
      "{'activation': 'tanh', 'hidden_layer_sizes': (16, 4)} 0.8207311884849212\n",
      "{'activation': 'relu', 'hidden_layer_sizes': (32, 8)} 0.8253451878168571\n",
      "{'activation': 'tanh', 'hidden_layer_sizes': (32, 8)} 0.8294419737716017\n",
      "{'activation': 'relu', 'hidden_layer_sizes': (32, 12, 4)} 0.8240326905280791\n",
      "{'activation': 'tanh', 'hidden_layer_sizes': (32, 12, 4)} 0.8267771592315345\n",
      "{'activation': 'relu', 'hidden_layer_sizes': (64, 24, 8)} 0.8291239408910389\n"
     ]
    },
    {
     "name": "stderr",
     "output_type": "stream",
     "text": [
      "/anaconda3/envs/caispp/lib/python3.5/site-packages/sklearn/neural_network/multilayer_perceptron.py:562: ConvergenceWarning: Stochastic Optimizer: Maximum iterations (500) reached and the optimization hasn't converged yet.\n",
      "  % self.max_iter, ConvergenceWarning)\n"
     ]
    },
    {
     "name": "stdout",
     "output_type": "stream",
     "text": [
      "{'activation': 'tanh', 'hidden_layer_sizes': (64, 24, 8)} 0.8391472471971065\n",
      "{'activation': 'relu', 'hidden_layer_sizes': (32, 16, 8, 4)} 0.8256234719267366\n",
      "{'activation': 'tanh', 'hidden_layer_sizes': (32, 16, 8, 4)} 0.8328229638638823\n",
      "{'activation': 'relu', 'hidden_layer_sizes': (64, 32, 12, 6)} 0.8303569311462065\n"
     ]
    },
    {
     "name": "stderr",
     "output_type": "stream",
     "text": [
      "/anaconda3/envs/caispp/lib/python3.5/site-packages/sklearn/neural_network/multilayer_perceptron.py:562: ConvergenceWarning: Stochastic Optimizer: Maximum iterations (500) reached and the optimization hasn't converged yet.\n",
      "  % self.max_iter, ConvergenceWarning)\n"
     ]
    },
    {
     "name": "stdout",
     "output_type": "stream",
     "text": [
      "{'activation': 'tanh', 'hidden_layer_sizes': (64, 32, 12, 6)} 0.8360052433256001\n",
      "{'activation': 'relu', 'hidden_layer_sizes': (128, 64, 32, 16, 4)} 0.8187417708179381\n"
     ]
    },
    {
     "name": "stderr",
     "output_type": "stream",
     "text": [
      "/anaconda3/envs/caispp/lib/python3.5/site-packages/sklearn/neural_network/multilayer_perceptron.py:562: ConvergenceWarning: Stochastic Optimizer: Maximum iterations (500) reached and the optimization hasn't converged yet.\n",
      "  % self.max_iter, ConvergenceWarning)\n"
     ]
    },
    {
     "name": "stdout",
     "output_type": "stream",
     "text": [
      "{'activation': 'tanh', 'hidden_layer_sizes': (128, 64, 32, 16, 4)} 0.8415734124910523\n",
      "{'activation': 'relu', 'hidden_layer_sizes': (256, 96, 48, 16, 4)} 0.8444772986820874\n",
      "{'activation': 'tanh', 'hidden_layer_sizes': (256, 96, 48, 16, 4)} 0.8447954359773314\n",
      "{'activation': 'relu', 'hidden_layer_sizes': (128, 64, 32, 16, 8, 4)} 0.8434031563798746\n",
      "{'activation': 'tanh', 'hidden_layer_sizes': (128, 64, 32, 16, 8, 4)} 0.8393460242733758\n",
      "Best HP {'activation': 'tanh', 'hidden_layer_sizes': (256, 96, 48, 16, 4)}\n",
      "{'accuracy': 0.8547108835081788, 'precision_1': 0.8739119621984581, 'precision_0': 0.8139592647789369, 'auc': 0.9131260620502326, 'f1_0': 0.782065241710544, 'f1_1': 0.8910334335170449, 'recall_1': 0.908839190628328, 'recall_0': 0.752576431749677}\n",
      "\n",
      "{'activation': 'relu', 'hidden_layer_sizes': ()} 0.7924902303454312\n",
      "{'activation': 'tanh', 'hidden_layer_sizes': ()} 0.79153541503934\n",
      "{'activation': 'relu', 'hidden_layer_sizes': (4,)} 0.8023143324242611\n",
      "{'activation': 'tanh', 'hidden_layer_sizes': (4,)} 0.8064512563316826\n",
      "{'activation': 'relu', 'hidden_layer_sizes': (16, 4)} 0.8115026535092777\n",
      "{'activation': 'tanh', 'hidden_layer_sizes': (16, 4)} 0.8198955198223205\n",
      "{'activation': 'relu', 'hidden_layer_sizes': (32, 8)} 0.823157168680114\n",
      "{'activation': 'tanh', 'hidden_layer_sizes': (32, 8)} 0.8288850685771895\n",
      "{'activation': 'relu', 'hidden_layer_sizes': (32, 12, 4)} 0.8209694722796582\n",
      "{'activation': 'tanh', 'hidden_layer_sizes': (32, 12, 4)} 0.8317885608401091\n",
      "{'activation': 'relu', 'hidden_layer_sizes': (64, 24, 8)} 0.8319476271146701\n",
      "{'activation': 'tanh', 'hidden_layer_sizes': (64, 24, 8)} 0.8360844086384353\n",
      "{'activation': 'relu', 'hidden_layer_sizes': (32, 16, 8, 4)} 0.826100732450004\n",
      "{'activation': 'tanh', 'hidden_layer_sizes': (32, 16, 8, 4)} 0.8325840440888143\n",
      "{'activation': 'relu', 'hidden_layer_sizes': (64, 32, 12, 6)} 0.8311524855867397\n"
     ]
    },
    {
     "name": "stderr",
     "output_type": "stream",
     "text": [
      "/anaconda3/envs/caispp/lib/python3.5/site-packages/sklearn/neural_network/multilayer_perceptron.py:562: ConvergenceWarning: Stochastic Optimizer: Maximum iterations (500) reached and the optimization hasn't converged yet.\n",
      "  % self.max_iter, ConvergenceWarning)\n"
     ]
    },
    {
     "name": "stdout",
     "output_type": "stream",
     "text": [
      "{'activation': 'tanh', 'hidden_layer_sizes': (64, 32, 12, 6)} 0.8363627069866806\n",
      "{'activation': 'relu', 'hidden_layer_sizes': (128, 64, 32, 16, 4)} 0.8362830385849267\n"
     ]
    },
    {
     "name": "stderr",
     "output_type": "stream",
     "text": [
      "/anaconda3/envs/caispp/lib/python3.5/site-packages/sklearn/neural_network/multilayer_perceptron.py:562: ConvergenceWarning: Stochastic Optimizer: Maximum iterations (500) reached and the optimization hasn't converged yet.\n",
      "  % self.max_iter, ConvergenceWarning)\n",
      "/anaconda3/envs/caispp/lib/python3.5/site-packages/sklearn/neural_network/multilayer_perceptron.py:562: ConvergenceWarning: Stochastic Optimizer: Maximum iterations (500) reached and the optimization hasn't converged yet.\n",
      "  % self.max_iter, ConvergenceWarning)\n"
     ]
    },
    {
     "name": "stdout",
     "output_type": "stream",
     "text": [
      "{'activation': 'tanh', 'hidden_layer_sizes': (128, 64, 32, 16, 4)} 0.8374367591125776\n",
      "{'activation': 'relu', 'hidden_layer_sizes': (256, 96, 48, 16, 4)} 0.8430848719548526\n",
      "{'activation': 'tanh', 'hidden_layer_sizes': (256, 96, 48, 16, 4)} 0.8404597017707874\n",
      "{'activation': 'relu', 'hidden_layer_sizes': (128, 64, 32, 16, 8, 4)} 0.8404992986655708\n",
      "{'activation': 'tanh', 'hidden_layer_sizes': (128, 64, 32, 16, 8, 4)} 0.8390277493405977\n",
      "Best HP {'activation': 'relu', 'hidden_layer_sizes': (256, 96, 48, 16, 4)}\n",
      "{'accuracy': 0.8522050415154377, 'precision_1': 0.8570627959761258, 'precision_0': 0.8403274982015004, 'auc': 0.9079799071892461, 'f1_0': 0.7674858814511208, 'f1_1': 0.8916746230148608, 'recall_1': 0.9291996415171723, 'recall_0': 0.7062651157434067}\n",
      "\n",
      "{'activation': 'relu', 'hidden_layer_sizes': ()} 0.7973824568337843\n",
      "{'activation': 'tanh', 'hidden_layer_sizes': ()} 0.7957117222660606\n",
      "{'activation': 'relu', 'hidden_layer_sizes': (4,)} 0.8125372131550727\n",
      "{'activation': 'tanh', 'hidden_layer_sizes': (4,)} 0.8162364829262537\n",
      "{'activation': 'relu', 'hidden_layer_sizes': (16, 4)} 0.8182651035599046\n",
      "{'activation': 'tanh', 'hidden_layer_sizes': (16, 4)} 0.8247482538305713\n",
      "{'activation': 'relu', 'hidden_layer_sizes': (32, 8)} 0.8276520118763157\n",
      "{'activation': 'tanh', 'hidden_layer_sizes': (32, 8)} 0.8323454185733024\n",
      "{'activation': 'relu', 'hidden_layer_sizes': (32, 12, 4)} 0.8314305323905257\n",
      "{'activation': 'tanh', 'hidden_layer_sizes': (32, 12, 4)} 0.8354878211190462\n",
      "{'activation': 'relu', 'hidden_layer_sizes': (64, 24, 8)} 0.8344138354388555\n",
      "{'activation': 'tanh', 'hidden_layer_sizes': (64, 24, 8)} 0.8370389629078235\n",
      "{'activation': 'relu', 'hidden_layer_sizes': (32, 16, 8, 4)} 0.8284077700849469\n",
      "{'activation': 'tanh', 'hidden_layer_sizes': (32, 16, 8, 4)} 0.8330614280112506\n",
      "{'activation': 'relu', 'hidden_layer_sizes': (64, 32, 12, 6)} 0.833936385070713\n",
      "{'activation': 'tanh', 'hidden_layer_sizes': (64, 32, 12, 6)} 0.8403802089755429\n",
      "{'activation': 'relu', 'hidden_layer_sizes': (128, 64, 32, 16, 4)} 0.8445167342087271\n",
      "{'activation': 'tanh', 'hidden_layer_sizes': (128, 64, 32, 16, 4)} 0.8425677392617331\n",
      "{'activation': 'relu', 'hidden_layer_sizes': (256, 96, 48, 16, 4)} 0.8447157248604805\n",
      "{'activation': 'tanh', 'hidden_layer_sizes': (256, 96, 48, 16, 4)} 0.8391868393457679\n",
      "{'activation': 'relu', 'hidden_layer_sizes': (128, 64, 32, 16, 8, 4)} 0.8430452513294598\n",
      "{'activation': 'tanh', 'hidden_layer_sizes': (128, 64, 32, 16, 8, 4)} 0.8480568475290312\n",
      "Best HP {'activation': 'tanh', 'hidden_layer_sizes': (128, 64, 32, 16, 8, 4)}\n",
      "{'accuracy': 0.8500372893153681, 'precision_1': 0.8730789104598804, 'precision_0': 0.8024977155041121, 'auc': 0.9028247170261277, 'f1_0': 0.777477756628746, 'f1_1': 0.8869125730182892, 'recall_1': 0.901191673524123, 'recall_0': 0.7539707523681424}\n",
      "\n",
      "{'activation': 'relu', 'hidden_layer_sizes': ()} 0.7894673351484401\n",
      "{'activation': 'tanh', 'hidden_layer_sizes': ()} 0.7880753640489052\n",
      "{'activation': 'relu', 'hidden_layer_sizes': (4,)} 0.808718777755914\n",
      "{'activation': 'tanh', 'hidden_layer_sizes': (4,)} 0.8065311952623833\n",
      "{'activation': 'relu', 'hidden_layer_sizes': (16, 4)} 0.8163160753900577\n",
      "{'activation': 'tanh', 'hidden_layer_sizes': (16, 4)} 0.8193788142801695\n",
      "{'activation': 'relu', 'hidden_layer_sizes': (32, 8)} 0.8264986330694395\n",
      "{'activation': 'tanh', 'hidden_layer_sizes': (32, 8)} 0.831152552032446\n",
      "{'activation': 'relu', 'hidden_layer_sizes': (32, 12, 4)} 0.8319875704763503\n",
      "{'activation': 'tanh', 'hidden_layer_sizes': (32, 12, 4)} 0.8299190681806037\n",
      "{'activation': 'relu', 'hidden_layer_sizes': (64, 24, 8)} 0.8360051721337719\n"
     ]
    },
    {
     "name": "stderr",
     "output_type": "stream",
     "text": [
      "/anaconda3/envs/caispp/lib/python3.5/site-packages/sklearn/neural_network/multilayer_perceptron.py:562: ConvergenceWarning: Stochastic Optimizer: Maximum iterations (500) reached and the optimization hasn't converged yet.\n",
      "  % self.max_iter, ConvergenceWarning)\n"
     ]
    },
    {
     "name": "stdout",
     "output_type": "stream",
     "text": [
      "{'activation': 'tanh', 'hidden_layer_sizes': (64, 24, 8)} 0.8388688966415208\n",
      "{'activation': 'relu', 'hidden_layer_sizes': (32, 16, 8, 4)} 0.8302772769828182\n",
      "{'activation': 'tanh', 'hidden_layer_sizes': (32, 16, 8, 4)} 0.8357264513806801\n",
      "{'activation': 'relu', 'hidden_layer_sizes': (64, 32, 12, 6)} 0.8352887687677084\n",
      "{'activation': 'tanh', 'hidden_layer_sizes': (64, 32, 12, 6)} 0.8393857825363029\n",
      "{'activation': 'relu', 'hidden_layer_sizes': (128, 64, 32, 16, 4)} 0.8447554831234076\n",
      "{'activation': 'tanh', 'hidden_layer_sizes': (128, 64, 32, 16, 4)} 0.847619302553594\n",
      "{'activation': 'relu', 'hidden_layer_sizes': (256, 96, 48, 16, 4)} 0.8469829615173996\n",
      "{'activation': 'tanh', 'hidden_layer_sizes': (256, 96, 48, 16, 4)} 0.8443176771112673\n",
      "{'activation': 'relu', 'hidden_layer_sizes': (128, 64, 32, 16, 8, 4)} 0.844795227147969\n",
      "{'activation': 'tanh', 'hidden_layer_sizes': (128, 64, 32, 16, 8, 4)} 0.8464657956014271\n",
      "Best HP {'activation': 'tanh', 'hidden_layer_sizes': (128, 64, 32, 16, 4)}\n",
      "{'accuracy': 0.8497389747924228, 'precision_1': 0.8698866292660121, 'precision_0': 0.806800136999097, 'auc': 0.9088231524027325, 'f1_0': 0.7742436692313438, 'f1_1': 0.887395208465293, 'recall_1': 0.9056230702541561, 'recall_0': 0.7442127635131254}\n",
      "\n",
      "{'activation': 'relu', 'hidden_layer_sizes': ()} 0.7898251405302955\n",
      "{'activation': 'tanh', 'hidden_layer_sizes': ()} 0.7893876050471018\n",
      "{'activation': 'relu', 'hidden_layer_sizes': (4,)} 0.8095936304006951\n",
      "{'activation': 'tanh', 'hidden_layer_sizes': (4,)} 0.8063719343968253\n",
      "{'activation': 'relu', 'hidden_layer_sizes': (16, 4)} 0.8148045257499419\n",
      "{'activation': 'tanh', 'hidden_layer_sizes': (16, 4)} 0.8231970123732347\n",
      "{'activation': 'relu', 'hidden_layer_sizes': (32, 8)} 0.8271347842607589\n",
      "{'activation': 'tanh', 'hidden_layer_sizes': (32, 8)} 0.8282486943181423\n",
      "{'activation': 'relu', 'hidden_layer_sizes': (32, 12, 4)} 0.8257828039841225\n",
      "{'activation': 'tanh', 'hidden_layer_sizes': (32, 12, 4)} 0.8299590020500398\n",
      "{'activation': 'relu', 'hidden_layer_sizes': (64, 24, 8)} 0.8332207648147584\n"
     ]
    },
    {
     "name": "stderr",
     "output_type": "stream",
     "text": [
      "/anaconda3/envs/caispp/lib/python3.5/site-packages/sklearn/neural_network/multilayer_perceptron.py:562: ConvergenceWarning: Stochastic Optimizer: Maximum iterations (500) reached and the optimization hasn't converged yet.\n",
      "  % self.max_iter, ConvergenceWarning)\n"
     ]
    },
    {
     "name": "stdout",
     "output_type": "stream",
     "text": [
      "{'activation': 'tanh', 'hidden_layer_sizes': (64, 24, 8)} 0.8375163990376003\n",
      "{'activation': 'relu', 'hidden_layer_sizes': (32, 16, 8, 4)} 0.8248278890094719\n",
      "{'activation': 'tanh', 'hidden_layer_sizes': (32, 16, 8, 4)} 0.8330215510952769\n",
      "{'activation': 'relu', 'hidden_layer_sizes': (64, 32, 12, 6)} 0.8358457546461923\n"
     ]
    },
    {
     "name": "stderr",
     "output_type": "stream",
     "text": [
      "/anaconda3/envs/caispp/lib/python3.5/site-packages/sklearn/neural_network/multilayer_perceptron.py:562: ConvergenceWarning: Stochastic Optimizer: Maximum iterations (500) reached and the optimization hasn't converged yet.\n",
      "  % self.max_iter, ConvergenceWarning)\n",
      "/anaconda3/envs/caispp/lib/python3.5/site-packages/sklearn/neural_network/multilayer_perceptron.py:562: ConvergenceWarning: Stochastic Optimizer: Maximum iterations (500) reached and the optimization hasn't converged yet.\n",
      "  % self.max_iter, ConvergenceWarning)\n"
     ]
    },
    {
     "name": "stdout",
     "output_type": "stream",
     "text": [
      "{'activation': 'tanh', 'hidden_layer_sizes': (64, 32, 12, 6)} 0.8391470526061098\n",
      "{'activation': 'relu', 'hidden_layer_sizes': (128, 64, 32, 16, 4)} 0.8422495782358798\n",
      "{'activation': 'tanh', 'hidden_layer_sizes': (128, 64, 32, 16, 4)} 0.8425280806673655\n",
      "{'activation': 'relu', 'hidden_layer_sizes': (256, 96, 48, 16, 4)} 0.8406587256453943\n",
      "{'activation': 'tanh', 'hidden_layer_sizes': (256, 96, 48, 16, 4)} 0.8446361940962611\n",
      "{'activation': 'relu', 'hidden_layer_sizes': (128, 64, 32, 16, 8, 4)} 0.8430848292397557\n",
      "{'activation': 'tanh', 'hidden_layer_sizes': (128, 64, 32, 16, 8, 4)} 0.8414539098884215\n",
      "Best HP {'activation': 'tanh', 'hidden_layer_sizes': (256, 96, 48, 16, 4)}\n",
      "{'accuracy': 0.8548600407696515, 'precision_1': 0.8692004447589204, 'precision_0': 0.8231461965893849, 'auc': 0.9075759333080922, 'f1_0': 0.7793432908024429, 'f1_1': 0.891867063756649, 'recall_1': 0.9157475163925697, 'recall_0': 0.7399666992019291}\n",
      "\n",
      "{'activation': 'relu', 'hidden_layer_sizes': ()} 0.7879958380308074\n",
      "{'activation': 'tanh', 'hidden_layer_sizes': ()} 0.790899444200652\n",
      "{'activation': 'relu', 'hidden_layer_sizes': (4,)} 0.8076051761964522\n",
      "{'activation': 'tanh', 'hidden_layer_sizes': (4,)} 0.8068892332042105\n",
      "{'activation': 'relu', 'hidden_layer_sizes': (16, 4)} 0.8195379090314617\n",
      "{'activation': 'tanh', 'hidden_layer_sizes': (16, 4)} 0.8173104448758353\n",
      "{'activation': 'relu', 'hidden_layer_sizes': (32, 8)} 0.8219243113163587\n",
      "{'activation': 'tanh', 'hidden_layer_sizes': (32, 8)} 0.8260610738556364\n",
      "{'activation': 'relu', 'hidden_layer_sizes': (32, 12, 4)} 0.8230378938913329\n",
      "{'activation': 'tanh', 'hidden_layer_sizes': (32, 12, 4)} 0.8261404907129312\n",
      "{'activation': 'relu', 'hidden_layer_sizes': (64, 24, 8)} 0.8331013951035401\n",
      "{'activation': 'tanh', 'hidden_layer_sizes': (64, 24, 8)} 0.8350107124716787\n",
      "{'activation': 'relu', 'hidden_layer_sizes': (32, 16, 8, 4)} 0.8268962299370749\n",
      "{'activation': 'tanh', 'hidden_layer_sizes': (32, 16, 8, 4)} 0.8323853524427388\n",
      "{'activation': 'relu', 'hidden_layer_sizes': (64, 32, 12, 6)} 0.8344137974698804\n"
     ]
    },
    {
     "name": "stderr",
     "output_type": "stream",
     "text": [
      "/anaconda3/envs/caispp/lib/python3.5/site-packages/sklearn/neural_network/multilayer_perceptron.py:562: ConvergenceWarning: Stochastic Optimizer: Maximum iterations (500) reached and the optimization hasn't converged yet.\n",
      "  % self.max_iter, ConvergenceWarning)\n"
     ]
    },
    {
     "name": "stdout",
     "output_type": "stream",
     "text": [
      "{'activation': 'tanh', 'hidden_layer_sizes': (64, 32, 12, 6)} 0.8369594748587009\n",
      "{'activation': 'relu', 'hidden_layer_sizes': (128, 64, 32, 16, 4)} 0.8367207164517766\n"
     ]
    },
    {
     "name": "stderr",
     "output_type": "stream",
     "text": [
      "/anaconda3/envs/caispp/lib/python3.5/site-packages/sklearn/neural_network/multilayer_perceptron.py:562: ConvergenceWarning: Stochastic Optimizer: Maximum iterations (500) reached and the optimization hasn't converged yet.\n",
      "  % self.max_iter, ConvergenceWarning)\n",
      "/anaconda3/envs/caispp/lib/python3.5/site-packages/sklearn/neural_network/multilayer_perceptron.py:562: ConvergenceWarning: Stochastic Optimizer: Maximum iterations (500) reached and the optimization hasn't converged yet.\n",
      "  % self.max_iter, ConvergenceWarning)\n"
     ]
    },
    {
     "name": "stdout",
     "output_type": "stream",
     "text": [
      "{'activation': 'tanh', 'hidden_layer_sizes': (128, 64, 32, 16, 4)} 0.8418121756440987\n",
      "{'activation': 'relu', 'hidden_layer_sizes': (256, 96, 48, 16, 4)} 0.8070866433973803\n",
      "{'activation': 'tanh', 'hidden_layer_sizes': (256, 96, 48, 16, 4)} 0.845630734442426\n",
      "{'activation': 'relu', 'hidden_layer_sizes': (128, 64, 32, 16, 8, 4)} 0.8388291146479844\n",
      "{'activation': 'tanh', 'hidden_layer_sizes': (128, 64, 32, 16, 8, 4)} 0.8414144269005631\n",
      "Best HP {'activation': 'tanh', 'hidden_layer_sizes': (256, 96, 48, 16, 4)}\n",
      "{'accuracy': 0.8439317854124199, 'precision_1': 0.8841817875055601, 'precision_0': 0.7697353539923094, 'auc': 0.9036547968838392, 'f1_0': 0.7762428182427327, 'f1_1': 0.8801789490560131, 'recall_1': 0.8762121903024775, 'recall_0': 0.7828612508986341}\n",
      "\n",
      "{'activation': 'relu', 'hidden_layer_sizes': ()} 0.7893881128821422\n",
      "{'activation': 'tanh', 'hidden_layer_sizes': ()} 0.7938827092800067\n",
      "{'activation': 'relu', 'hidden_layer_sizes': (4,)} 0.8130151286431587\n",
      "{'activation': 'tanh', 'hidden_layer_sizes': (4,)} 0.8117419055128768\n",
      "{'activation': 'relu', 'hidden_layer_sizes': (16, 4)} 0.8194184064288309\n",
      "{'activation': 'tanh', 'hidden_layer_sizes': (16, 4)} 0.8278908035060931\n",
      "{'activation': 'relu', 'hidden_layer_sizes': (32, 8)} 0.8263794816798272\n",
      "{'activation': 'tanh', 'hidden_layer_sizes': (32, 8)} 0.8312718458057144\n",
      "{'activation': 'relu', 'hidden_layer_sizes': (32, 12, 4)} 0.8258625625621919\n",
      "{'activation': 'tanh', 'hidden_layer_sizes': (32, 12, 4)} 0.8359254942397744\n",
      "{'activation': 'relu', 'hidden_layer_sizes': (64, 24, 8)} 0.8364026313638732\n"
     ]
    },
    {
     "name": "stderr",
     "output_type": "stream",
     "text": [
      "/anaconda3/envs/caispp/lib/python3.5/site-packages/sklearn/neural_network/multilayer_perceptron.py:562: ConvergenceWarning: Stochastic Optimizer: Maximum iterations (500) reached and the optimization hasn't converged yet.\n",
      "  % self.max_iter, ConvergenceWarning)\n"
     ]
    },
    {
     "name": "stdout",
     "output_type": "stream",
     "text": [
      "{'activation': 'tanh', 'hidden_layer_sizes': (64, 24, 8)} 0.8414940383488546\n",
      "{'activation': 'relu', 'hidden_layer_sizes': (32, 16, 8, 4)} 0.8336980348302697\n",
      "{'activation': 'tanh', 'hidden_layer_sizes': (32, 16, 8, 4)} 0.8361245228605029\n",
      "{'activation': 'relu', 'hidden_layer_sizes': (64, 32, 12, 6)} 0.8395053420923961\n"
     ]
    },
    {
     "name": "stderr",
     "output_type": "stream",
     "text": [
      "/anaconda3/envs/caispp/lib/python3.5/site-packages/sklearn/neural_network/multilayer_perceptron.py:562: ConvergenceWarning: Stochastic Optimizer: Maximum iterations (500) reached and the optimization hasn't converged yet.\n",
      "  % self.max_iter, ConvergenceWarning)\n"
     ]
    },
    {
     "name": "stdout",
     "output_type": "stream",
     "text": [
      "{'activation': 'tanh', 'hidden_layer_sizes': (64, 32, 12, 6)} 0.8422097060660279\n",
      "{'activation': 'relu', 'hidden_layer_sizes': (128, 64, 32, 16, 4)} 0.8415338488191221\n",
      "{'activation': 'tanh', 'hidden_layer_sizes': (128, 64, 32, 16, 4)} 0.8448351325406741\n",
      "{'activation': 'relu', 'hidden_layer_sizes': (256, 96, 48, 16, 4)} 0.8440793268708239\n",
      "{'activation': 'tanh', 'hidden_layer_sizes': (256, 96, 48, 16, 4)} 0.8520343017415325\n",
      "{'activation': 'relu', 'hidden_layer_sizes': (128, 64, 32, 16, 8, 4)} 0.8398235173566152\n",
      "{'activation': 'tanh', 'hidden_layer_sizes': (128, 64, 32, 16, 8, 4)} 0.8457500994075225\n",
      "Best HP {'activation': 'tanh', 'hidden_layer_sizes': (256, 96, 48, 16, 4)}\n"
     ]
    },
    {
     "name": "stderr",
     "output_type": "stream",
     "text": [
      "\r",
      " 36%|███▋      | 4/11 [9:24:04<16:58:12, 8727.54s/it]"
     ]
    },
    {
     "name": "stdout",
     "output_type": "stream",
     "text": [
      "{'accuracy': 0.8539153781136578, 'precision_1': 0.8733611660440929, 'precision_0': 0.8128173374613004, 'auc': 0.9105444548513468, 'f1_0': 0.7813806753076684, 'f1_1': 0.8903091890600383, 'recall_1': 0.9079279992690281, 'recall_0': 0.752285165764062}\n",
      "Training Percentage: 0.3\n",
      "\n",
      "{'activation': 'relu', 'hidden_layer_sizes': ()} 0.7894780241703655\n",
      "{'activation': 'tanh', 'hidden_layer_sizes': ()} 0.790326451457129\n",
      "{'activation': 'relu', 'hidden_layer_sizes': (4,)} 0.800694929491024\n",
      "{'activation': 'tanh', 'hidden_layer_sizes': (4,)} 0.8100554113837329\n",
      "{'activation': 'relu', 'hidden_layer_sizes': (16, 4)} 0.8148018950056598\n",
      "{'activation': 'tanh', 'hidden_layer_sizes': (16, 4)} 0.8180372672295876\n",
      "{'activation': 'relu', 'hidden_layer_sizes': (32, 8)} 0.8255150880890997\n",
      "{'activation': 'tanh', 'hidden_layer_sizes': (32, 8)} 0.8315081047684157\n",
      "{'activation': 'relu', 'hidden_layer_sizes': (32, 12, 4)} 0.8256211670772858\n",
      "{'activation': 'tanh', 'hidden_layer_sizes': (32, 12, 4)} 0.8325688440229637\n",
      "{'activation': 'relu', 'hidden_layer_sizes': (64, 24, 8)} 0.8359100188943245\n"
     ]
    },
    {
     "name": "stderr",
     "output_type": "stream",
     "text": [
      "/anaconda3/envs/caispp/lib/python3.5/site-packages/sklearn/neural_network/multilayer_perceptron.py:562: ConvergenceWarning: Stochastic Optimizer: Maximum iterations (500) reached and the optimization hasn't converged yet.\n",
      "  % self.max_iter, ConvergenceWarning)\n",
      "/anaconda3/envs/caispp/lib/python3.5/site-packages/sklearn/neural_network/multilayer_perceptron.py:562: ConvergenceWarning: Stochastic Optimizer: Maximum iterations (500) reached and the optimization hasn't converged yet.\n",
      "  % self.max_iter, ConvergenceWarning)\n"
     ]
    },
    {
     "name": "stdout",
     "output_type": "stream",
     "text": [
      "{'activation': 'tanh', 'hidden_layer_sizes': (64, 24, 8)} 0.841717319821241\n",
      "{'activation': 'relu', 'hidden_layer_sizes': (32, 16, 8, 4)} 0.81716180706686\n",
      "{'activation': 'tanh', 'hidden_layer_sizes': (32, 16, 8, 4)} 0.8315611136751736\n",
      "{'activation': 'relu', 'hidden_layer_sizes': (64, 32, 12, 6)} 0.837580671723618\n"
     ]
    },
    {
     "name": "stderr",
     "output_type": "stream",
     "text": [
      "/anaconda3/envs/caispp/lib/python3.5/site-packages/sklearn/neural_network/multilayer_perceptron.py:562: ConvergenceWarning: Stochastic Optimizer: Maximum iterations (500) reached and the optimization hasn't converged yet.\n",
      "  % self.max_iter, ConvergenceWarning)\n"
     ]
    },
    {
     "name": "stdout",
     "output_type": "stream",
     "text": [
      "{'activation': 'tanh', 'hidden_layer_sizes': (64, 32, 12, 6)} 0.8449789802777291\n",
      "{'activation': 'relu', 'hidden_layer_sizes': (128, 64, 32, 16, 4)} 0.8447933657799567\n"
     ]
    },
    {
     "name": "stderr",
     "output_type": "stream",
     "text": [
      "/anaconda3/envs/caispp/lib/python3.5/site-packages/sklearn/neural_network/multilayer_perceptron.py:562: ConvergenceWarning: Stochastic Optimizer: Maximum iterations (500) reached and the optimization hasn't converged yet.\n",
      "  % self.max_iter, ConvergenceWarning)\n"
     ]
    },
    {
     "name": "stdout",
     "output_type": "stream",
     "text": [
      "{'activation': 'tanh', 'hidden_layer_sizes': (128, 64, 32, 16, 4)} 0.8517144633860209\n",
      "{'activation': 'relu', 'hidden_layer_sizes': (256, 96, 48, 16, 4)} 0.8504415999066431\n",
      "{'activation': 'tanh', 'hidden_layer_sizes': (256, 96, 48, 16, 4)} 0.8501499232964558\n",
      "{'activation': 'relu', 'hidden_layer_sizes': (128, 64, 32, 16, 8, 4)} 0.8297576337603684\n",
      "{'activation': 'tanh', 'hidden_layer_sizes': (128, 64, 32, 16, 8, 4)} 0.8496459832363262\n",
      "Best HP {'activation': 'tanh', 'hidden_layer_sizes': (128, 64, 32, 16, 4)}\n",
      "{'accuracy': 0.8625490084663902, 'precision_1': 0.8801680559740216, 'precision_0': 0.825292889250699, 'auc': 0.9214718556873236, 'f1_0': 0.794054044850074, 'f1_1': 0.89685402648792, 'recall_1': 0.9141848780402997, 'recall_0': 0.765093844336527}\n",
      "\n",
      "{'activation': 'relu', 'hidden_layer_sizes': ()} 0.7943039884556224\n",
      "{'activation': 'tanh', 'hidden_layer_sizes': ()} 0.7882844493924206\n",
      "{'activation': 'relu', 'hidden_layer_sizes': (4,)} 0.8102674976380776\n",
      "{'activation': 'tanh', 'hidden_layer_sizes': (4,)} 0.80955149663726\n",
      "{'activation': 'relu', 'hidden_layer_sizes': (16, 4)} 0.8179310469068177\n",
      "{'activation': 'tanh', 'hidden_layer_sizes': (16, 4)} 0.8247990427893828\n",
      "{'activation': 'relu', 'hidden_layer_sizes': (32, 8)} 0.8326747183924241\n",
      "{'activation': 'tanh', 'hidden_layer_sizes': (32, 8)} 0.8262839798662768\n",
      "{'activation': 'relu', 'hidden_layer_sizes': (32, 12, 4)} 0.8170037106234731\n",
      "{'activation': 'tanh', 'hidden_layer_sizes': (32, 12, 4)} 0.8363075909686865\n",
      "{'activation': 'relu', 'hidden_layer_sizes': (64, 24, 8)} 0.8368908893428051\n",
      "{'activation': 'tanh', 'hidden_layer_sizes': (64, 24, 8)} 0.8468086851409531\n",
      "{'activation': 'relu', 'hidden_layer_sizes': (32, 16, 8, 4)} 0.8341332638726592\n",
      "{'activation': 'tanh', 'hidden_layer_sizes': (32, 16, 8, 4)} 0.8376865946109208\n",
      "{'activation': 'relu', 'hidden_layer_sizes': (64, 32, 12, 6)} 0.8424067393729735\n"
     ]
    },
    {
     "name": "stderr",
     "output_type": "stream",
     "text": [
      "/anaconda3/envs/caispp/lib/python3.5/site-packages/sklearn/neural_network/multilayer_perceptron.py:562: ConvergenceWarning: Stochastic Optimizer: Maximum iterations (500) reached and the optimization hasn't converged yet.\n",
      "  % self.max_iter, ConvergenceWarning)\n",
      "/anaconda3/envs/caispp/lib/python3.5/site-packages/sklearn/neural_network/multilayer_perceptron.py:562: ConvergenceWarning: Stochastic Optimizer: Maximum iterations (500) reached and the optimization hasn't converged yet.\n",
      "  % self.max_iter, ConvergenceWarning)\n"
     ]
    },
    {
     "name": "stdout",
     "output_type": "stream",
     "text": [
      "{'activation': 'tanh', 'hidden_layer_sizes': (64, 32, 12, 6)} 0.847498153210528\n",
      "{'activation': 'relu', 'hidden_layer_sizes': (128, 64, 32, 16, 4)} 0.8265753400557546\n",
      "{'activation': 'tanh', 'hidden_layer_sizes': (128, 64, 32, 16, 4)} 0.8540480091642189\n",
      "{'activation': 'relu', 'hidden_layer_sizes': (256, 96, 48, 16, 4)} 0.8538357625900478\n",
      "{'activation': 'tanh', 'hidden_layer_sizes': (256, 96, 48, 16, 4)} 0.8556654948763999\n",
      "{'activation': 'relu', 'hidden_layer_sizes': (128, 64, 32, 16, 8, 4)} 0.8493542749840678\n",
      "{'activation': 'tanh', 'hidden_layer_sizes': (128, 64, 32, 16, 8, 4)} 0.8535970147267049\n",
      "Best HP {'activation': 'tanh', 'hidden_layer_sizes': (256, 96, 48, 16, 4)}\n",
      "{'accuracy': 0.8621853514404227, 'precision_1': 0.8706005324274445, 'precision_0': 0.8429350668758874, 'auc': 0.9216203507276313, 'f1_0': 0.7881783724301759, 'f1_1': 0.8978684341286352, 'recall_1': 0.9268996696226743, 'recall_0': 0.7401016893554206}\n",
      "\n",
      "{'activation': 'relu', 'hidden_layer_sizes': ()} 0.7888414278919077\n",
      "{'activation': 'tanh', 'hidden_layer_sizes': ()} 0.7883375785390481\n",
      "{'activation': 'relu', 'hidden_layer_sizes': (4,)} 0.8045929373083452\n",
      "{'activation': 'tanh', 'hidden_layer_sizes': (4,)} 0.8072181491493735\n",
      "{'activation': 'relu', 'hidden_layer_sizes': (16, 4)} 0.8176128436938018\n",
      "{'activation': 'tanh', 'hidden_layer_sizes': (16, 4)} 0.8210071603686183\n",
      "{'activation': 'relu', 'hidden_layer_sizes': (32, 8)} 0.824931699007711\n",
      "{'activation': 'tanh', 'hidden_layer_sizes': (32, 8)} 0.8310040993146729\n",
      "{'activation': 'relu', 'hidden_layer_sizes': (32, 12, 4)} 0.8280871496887864\n",
      "{'activation': 'tanh', 'hidden_layer_sizes': (32, 12, 4)} 0.8319588460693618\n",
      "{'activation': 'relu', 'hidden_layer_sizes': (64, 24, 8)} 0.8388533263653274\n",
      "{'activation': 'tanh', 'hidden_layer_sizes': (64, 24, 8)} 0.8412134535926102\n",
      "{'activation': 'relu', 'hidden_layer_sizes': (32, 16, 8, 4)} 0.8250114053844806\n"
     ]
    },
    {
     "name": "stderr",
     "output_type": "stream",
     "text": [
      "/anaconda3/envs/caispp/lib/python3.5/site-packages/sklearn/neural_network/multilayer_perceptron.py:562: ConvergenceWarning: Stochastic Optimizer: Maximum iterations (500) reached and the optimization hasn't converged yet.\n",
      "  % self.max_iter, ConvergenceWarning)\n"
     ]
    },
    {
     "name": "stdout",
     "output_type": "stream",
     "text": [
      "{'activation': 'tanh', 'hidden_layer_sizes': (32, 16, 8, 4)} 0.8344515873255448\n",
      "{'activation': 'relu', 'hidden_layer_sizes': (64, 32, 12, 6)} 0.8381108156374523\n"
     ]
    },
    {
     "name": "stderr",
     "output_type": "stream",
     "text": [
      "/anaconda3/envs/caispp/lib/python3.5/site-packages/sklearn/neural_network/multilayer_perceptron.py:562: ConvergenceWarning: Stochastic Optimizer: Maximum iterations (500) reached and the optimization hasn't converged yet.\n",
      "  % self.max_iter, ConvergenceWarning)\n"
     ]
    },
    {
     "name": "stdout",
     "output_type": "stream",
     "text": [
      "{'activation': 'tanh', 'hidden_layer_sizes': (64, 32, 12, 6)} 0.8442098838818265\n",
      "{'activation': 'relu', 'hidden_layer_sizes': (128, 64, 32, 16, 4)} 0.8487444099271638\n"
     ]
    },
    {
     "name": "stderr",
     "output_type": "stream",
     "text": [
      "/anaconda3/envs/caispp/lib/python3.5/site-packages/sklearn/neural_network/multilayer_perceptron.py:562: ConvergenceWarning: Stochastic Optimizer: Maximum iterations (500) reached and the optimization hasn't converged yet.\n",
      "  % self.max_iter, ConvergenceWarning)\n"
     ]
    },
    {
     "name": "stdout",
     "output_type": "stream",
     "text": [
      "{'activation': 'tanh', 'hidden_layer_sizes': (128, 64, 32, 16, 4)} 0.8497785529663271\n",
      "{'activation': 'relu', 'hidden_layer_sizes': (256, 96, 48, 16, 4)} 0.8156775682249986\n",
      "{'activation': 'tanh', 'hidden_layer_sizes': (256, 96, 48, 16, 4)} 0.8503884749789585\n",
      "{'activation': 'relu', 'hidden_layer_sizes': (128, 64, 32, 16, 8, 4)} 0.8445016132287989\n",
      "{'activation': 'tanh', 'hidden_layer_sizes': (128, 64, 32, 16, 8, 4)} 0.852218241016853\n",
      "Best HP {'activation': 'tanh', 'hidden_layer_sizes': (128, 64, 32, 16, 8, 4)}\n",
      "{'accuracy': 0.8579464742314904, 'precision_1': 0.8534160515156275, 'precision_0': 0.8698047276464542, 'auc': 0.9174001515531545, 'f1_0': 0.7719643899591361, 'f1_1': 0.8968425569841716, 'recall_1': 0.9449255703951029, 'recall_0': 0.6939096782657177}\n",
      "\n",
      "{'activation': 'relu', 'hidden_layer_sizes': ()} 0.7951260768825117\n",
      "{'activation': 'tanh', 'hidden_layer_sizes': ()} 0.7913870008592511\n",
      "{'activation': 'relu', 'hidden_layer_sizes': (4,)} 0.8007477844063698\n",
      "{'activation': 'tanh', 'hidden_layer_sizes': (4,)} 0.8085704637594818\n",
      "{'activation': 'relu', 'hidden_layer_sizes': (16, 4)} 0.8197343897059821\n",
      "{'activation': 'tanh', 'hidden_layer_sizes': (16, 4)} 0.8292010476225614\n",
      "{'activation': 'relu', 'hidden_layer_sizes': (32, 8)} 0.831561025077375\n",
      "{'activation': 'tanh', 'hidden_layer_sizes': (32, 8)} 0.8296518290034639\n",
      "{'activation': 'relu', 'hidden_layer_sizes': (32, 12, 4)} 0.8291743501525497\n",
      "{'activation': 'tanh', 'hidden_layer_sizes': (32, 12, 4)} 0.834557512322319\n",
      "{'activation': 'relu', 'hidden_layer_sizes': (64, 24, 8)} 0.8388533706642267\n"
     ]
    },
    {
     "name": "stderr",
     "output_type": "stream",
     "text": [
      "/anaconda3/envs/caispp/lib/python3.5/site-packages/sklearn/neural_network/multilayer_perceptron.py:562: ConvergenceWarning: Stochastic Optimizer: Maximum iterations (500) reached and the optimization hasn't converged yet.\n",
      "  % self.max_iter, ConvergenceWarning)\n"
     ]
    },
    {
     "name": "stdout",
     "output_type": "stream",
     "text": [
      "{'activation': 'tanh', 'hidden_layer_sizes': (64, 24, 8)} 0.8425657914069037\n",
      "{'activation': 'relu', 'hidden_layer_sizes': (32, 16, 8, 4)} 0.8324892135871643\n",
      "{'activation': 'tanh', 'hidden_layer_sizes': (32, 16, 8, 4)} 0.8324625308834523\n",
      "{'activation': 'relu', 'hidden_layer_sizes': (64, 32, 12, 6)} 0.84007309444962\n"
     ]
    },
    {
     "name": "stderr",
     "output_type": "stream",
     "text": [
      "/anaconda3/envs/caispp/lib/python3.5/site-packages/sklearn/neural_network/multilayer_perceptron.py:562: ConvergenceWarning: Stochastic Optimizer: Maximum iterations (500) reached and the optimization hasn't converged yet.\n",
      "  % self.max_iter, ConvergenceWarning)\n",
      "/anaconda3/envs/caispp/lib/python3.5/site-packages/sklearn/neural_network/multilayer_perceptron.py:562: ConvergenceWarning: Stochastic Optimizer: Maximum iterations (500) reached and the optimization hasn't converged yet.\n",
      "  % self.max_iter, ConvergenceWarning)\n"
     ]
    },
    {
     "name": "stdout",
     "output_type": "stream",
     "text": [
      "{'activation': 'tanh', 'hidden_layer_sizes': (64, 32, 12, 6)} 0.8454827325949045\n",
      "{'activation': 'relu', 'hidden_layer_sizes': (128, 64, 32, 16, 4)} 0.8449257498764746\n",
      "{'activation': 'tanh', 'hidden_layer_sizes': (128, 64, 32, 16, 4)} 0.8511044443377053\n",
      "{'activation': 'relu', 'hidden_layer_sizes': (256, 96, 48, 16, 4)} 0.8461456846090076\n",
      "{'activation': 'tanh', 'hidden_layer_sizes': (256, 96, 48, 16, 4)} 0.8491420705993247\n",
      "{'activation': 'relu', 'hidden_layer_sizes': (128, 64, 32, 16, 8, 4)} 0.8437590961725098\n",
      "{'activation': 'tanh', 'hidden_layer_sizes': (128, 64, 32, 16, 8, 4)} 0.8514225737192223\n",
      "Best HP {'activation': 'tanh', 'hidden_layer_sizes': (128, 64, 32, 16, 8, 4)}\n",
      "{'accuracy': 0.8588328882322859, 'precision_1': 0.8676177076857639, 'precision_0': 0.8388477427518702, 'auc': 0.9153660989881078, 'f1_0': 0.7839652173913044, 'f1_1': 0.8951641488733226, 'recall_1': 0.9245171187504359, 'recall_0': 0.7358231856615847}\n",
      "\n",
      "{'activation': 'relu', 'hidden_layer_sizes': ()} 0.79295157680983\n",
      "{'activation': 'tanh', 'hidden_layer_sizes': ()} 0.7934289607345315\n",
      "{'activation': 'relu', 'hidden_layer_sizes': (4,)} 0.8139533158369557\n",
      "{'activation': 'tanh', 'hidden_layer_sizes': (4,)} 0.8132640608239919\n",
      "{'activation': 'relu', 'hidden_layer_sizes': (16, 4)} 0.8200525486200988\n",
      "{'activation': 'tanh', 'hidden_layer_sizes': (16, 4)} 0.8280872340676423\n",
      "{'activation': 'relu', 'hidden_layer_sizes': (32, 8)} 0.8303146671061117\n",
      "{'activation': 'tanh', 'hidden_layer_sizes': (32, 8)} 0.833762007453986\n",
      "{'activation': 'relu', 'hidden_layer_sizes': (32, 12, 4)} 0.8329929743422251\n",
      "{'activation': 'tanh', 'hidden_layer_sizes': (32, 12, 4)} 0.8364933257063285\n",
      "{'activation': 'relu', 'hidden_layer_sizes': (64, 24, 8)} 0.8356977638822678\n"
     ]
    },
    {
     "name": "stderr",
     "output_type": "stream",
     "text": [
      "/anaconda3/envs/caispp/lib/python3.5/site-packages/sklearn/neural_network/multilayer_perceptron.py:562: ConvergenceWarning: Stochastic Optimizer: Maximum iterations (500) reached and the optimization hasn't converged yet.\n",
      "  % self.max_iter, ConvergenceWarning)\n"
     ]
    },
    {
     "name": "stdout",
     "output_type": "stream",
     "text": [
      "{'activation': 'tanh', 'hidden_layer_sizes': (64, 24, 8)} 0.8436264673773097\n",
      "{'activation': 'relu', 'hidden_layer_sizes': (32, 16, 8, 4)} 0.8328869354339955\n",
      "{'activation': 'tanh', 'hidden_layer_sizes': (32, 16, 8, 4)} 0.8361750634281133\n",
      "{'activation': 'relu', 'hidden_layer_sizes': (64, 32, 12, 6)} 0.8405504235280651\n",
      "{'activation': 'tanh', 'hidden_layer_sizes': (64, 32, 12, 6)} 0.8455887504084201\n",
      "{'activation': 'relu', 'hidden_layer_sizes': (128, 64, 32, 16, 4)} 0.8489035653251925\n"
     ]
    },
    {
     "name": "stderr",
     "output_type": "stream",
     "text": [
      "/anaconda3/envs/caispp/lib/python3.5/site-packages/sklearn/neural_network/multilayer_perceptron.py:562: ConvergenceWarning: Stochastic Optimizer: Maximum iterations (500) reached and the optimization hasn't converged yet.\n",
      "  % self.max_iter, ConvergenceWarning)\n"
     ]
    },
    {
     "name": "stdout",
     "output_type": "stream",
     "text": [
      "{'activation': 'tanh', 'hidden_layer_sizes': (128, 64, 32, 16, 4)} 0.8505476788948294\n",
      "{'activation': 'relu', 'hidden_layer_sizes': (256, 96, 48, 16, 4)} 0.8475244667567453\n",
      "{'activation': 'tanh', 'hidden_layer_sizes': (256, 96, 48, 16, 4)} 0.8514757366173922\n",
      "{'activation': 'relu', 'hidden_layer_sizes': (128, 64, 32, 16, 8, 4)} 0.8439714060308227\n",
      "{'activation': 'tanh', 'hidden_layer_sizes': (128, 64, 32, 16, 8, 4)} 0.8479752987649615\n",
      "Best HP {'activation': 'tanh', 'hidden_layer_sizes': (256, 96, 48, 16, 4)}\n",
      "{'accuracy': 0.8604579805670777, 'precision_1': 0.8682921252898717, 'precision_0': 0.8425320428982475, 'auc': 0.9168757906813512, 'f1_0': 0.7859794676938628, 'f1_1': 0.8964819545259112, 'recall_1': 0.9265636164020703, 'recall_0': 0.7365412256631386}\n",
      "\n",
      "{'activation': 'relu', 'hidden_layer_sizes': ()} 0.7949139695334532\n",
      "{'activation': 'tanh', 'hidden_layer_sizes': ()} 0.7942776095157917\n",
      "{'activation': 'relu', 'hidden_layer_sizes': (4,)} 0.8092332238116878\n",
      "{'activation': 'tanh', 'hidden_layer_sizes': (4,)} 0.8122828781737446\n",
      "{'activation': 'relu', 'hidden_layer_sizes': (16, 4)} 0.8202116365150426\n",
      "{'activation': 'tanh', 'hidden_layer_sizes': (16, 4)} 0.8293601798164048\n",
      "{'activation': 'relu', 'hidden_layer_sizes': (32, 8)} 0.8326483267957651\n",
      "{'activation': 'tanh', 'hidden_layer_sizes': (32, 8)} 0.8322771674127761\n",
      "{'activation': 'relu', 'hidden_layer_sizes': (32, 12, 4)} 0.8294396900123343\n",
      "{'activation': 'tanh', 'hidden_layer_sizes': (32, 12, 4)} 0.8372359883161442\n",
      "{'activation': 'relu', 'hidden_layer_sizes': (64, 24, 8)} 0.8357773858801815\n",
      "{'activation': 'tanh', 'hidden_layer_sizes': (64, 24, 8)} 0.8431758568635903\n",
      "{'activation': 'relu', 'hidden_layer_sizes': (32, 16, 8, 4)} 0.8340802507469586\n",
      "{'activation': 'tanh', 'hidden_layer_sizes': (32, 16, 8, 4)} 0.8392777266969279\n",
      "{'activation': 'relu', 'hidden_layer_sizes': (64, 32, 12, 6)} 0.8423007004647439\n"
     ]
    },
    {
     "name": "stderr",
     "output_type": "stream",
     "text": [
      "/anaconda3/envs/caispp/lib/python3.5/site-packages/sklearn/neural_network/multilayer_perceptron.py:562: ConvergenceWarning: Stochastic Optimizer: Maximum iterations (500) reached and the optimization hasn't converged yet.\n",
      "  % self.max_iter, ConvergenceWarning)\n"
     ]
    },
    {
     "name": "stdout",
     "output_type": "stream",
     "text": [
      "{'activation': 'tanh', 'hidden_layer_sizes': (64, 32, 12, 6)} 0.8467291200987672\n",
      "{'activation': 'relu', 'hidden_layer_sizes': (128, 64, 32, 16, 4)} 0.848028385722161\n"
     ]
    },
    {
     "name": "stderr",
     "output_type": "stream",
     "text": [
      "/anaconda3/envs/caispp/lib/python3.5/site-packages/sklearn/neural_network/multilayer_perceptron.py:562: ConvergenceWarning: Stochastic Optimizer: Maximum iterations (500) reached and the optimization hasn't converged yet.\n",
      "  % self.max_iter, ConvergenceWarning)\n"
     ]
    },
    {
     "name": "stdout",
     "output_type": "stream",
     "text": [
      "{'activation': 'tanh', 'hidden_layer_sizes': (128, 64, 32, 16, 4)} 0.8539152854428057\n",
      "{'activation': 'relu', 'hidden_layer_sizes': (256, 96, 48, 16, 4)} 0.8342124449910507\n"
     ]
    }
   ],
   "source": [
    "all_results = []\n",
    "for perc in tqdm([0.01, 0.05, 0.1, 0.2, 0.3, 0.4, 0.5, 0.6, 0.7, 0.8, 0.9]):\n",
    "    print('Training Percentage:', perc)\n",
    "    for n in range(iterations):\n",
    "        print()\n",
    "        new_results = {}\n",
    "        \n",
    "        # Shuffle Data For This Iteration\n",
    "        for i in range(shuffle_times):\n",
    "            all_data.reindex(np.random.permutation(all_data.index))        \n",
    "        all_data = all_data.reset_index(drop=True)\n",
    "\n",
    "        # Train - Test Split (and preprocessing)\n",
    "        X_train, y_train, X_test, y_test = split(perc)\n",
    "        X_train = X_train.reset_index(drop=True)\n",
    "        y_train = y_train.reset_index(drop=True)\n",
    "\n",
    "        # Set Up Cross Validation Groups\n",
    "        div = int(len(X_train)/3)\n",
    "        X_cv1 = X_train.loc[:div]\n",
    "        X_cv2 = X_train.loc[div+1:div*2]\n",
    "        X_cv3 = X_train.loc[(div*2)+1:]\n",
    "        \n",
    "        y_cv1 = y_train.loc[:div]\n",
    "        y_cv2 = y_train.loc[div+1:div*2]\n",
    "        y_cv3 = y_train.loc[(div*2)+1:]\n",
    "        \n",
    "        cv1_X_train = X_cv1.append(X_cv2)\n",
    "        cv1_X_test = X_cv3\n",
    "        cv1_y_train = y_cv1.append(y_cv2)\n",
    "        cv1_y_test = y_cv3\n",
    "        \n",
    "        cv2_X_train = X_cv1.append(X_cv3)\n",
    "        cv2_X_test = X_cv2\n",
    "        cv2_y_train = y_cv1.append(y_cv3)\n",
    "        cv2_y_test = y_cv2\n",
    "\n",
    "        cv3_X_train = X_cv3.append(X_cv2)\n",
    "        cv3_X_test = X_cv1\n",
    "        cv3_y_train = y_cv3.append(y_cv2)\n",
    "        cv3_y_test = y_cv1\n",
    "\n",
    "        # Hyperparameter Combinations        \n",
    "        hp_combos = list(itertools.product(*hp_list))\n",
    "        best, best_acc = None, 0\n",
    "        for h in hp_combos:\n",
    "            hp = {}\n",
    "            for i,v in enumerate(h):\n",
    "                hp[hp_names[i]] = v\n",
    "            \n",
    "            # Cross-Validation\n",
    "            res1 = model(cv1_X_train, cv1_y_train, cv1_X_test, cv1_y_test, hp, False)\n",
    "            res2 = model(cv2_X_train, cv2_y_train, cv2_X_test, cv2_y_test, hp, False)\n",
    "            res3 = model(cv3_X_train, cv3_y_train, cv3_X_test, cv3_y_test, hp, False)\n",
    "            \n",
    "            acc = np.mean([res1['accuracy'], res2['accuracy'], res3['accuracy']])\n",
    "            print(hp, acc)\n",
    "            if acc > best_acc:\n",
    "                best = hp\n",
    "                best_acc = acc\n",
    "        \n",
    "        # Evaluate on Test Using Best Hyperaparemeters  \n",
    "        print('Best HP', best)\n",
    "        results = model(X_train, y_train, X_test, y_test, best, True)\n",
    "        print(results)\n",
    "        results['train_percentage'] = perc\n",
    "        results['iteration'] = n\n",
    "        results['hyperparameters'] = json.dumps(best)\n",
    "        all_results.append(results)"
   ]
  },
  {
   "cell_type": "code",
   "execution_count": null,
   "metadata": {},
   "outputs": [],
   "source": [
    "results = pd.DataFrame(columns=['train_percentage', 'iteration', 'accuracy', 'auc', 'precision_0', 'precision_1', 'recall_0', 'recall_1', 'f1_0', 'f1_1', 'hyperparameters'])\n",
    "results = results.append(all_results, ignore_index=True, sort=True)"
   ]
  },
  {
   "cell_type": "code",
   "execution_count": null,
   "metadata": {},
   "outputs": [],
   "source": [
    "results.head()"
   ]
  },
  {
   "cell_type": "code",
   "execution_count": null,
   "metadata": {},
   "outputs": [],
   "source": [
    "results.to_csv(output_file, index=False)"
   ]
  },
  {
   "cell_type": "code",
   "execution_count": null,
   "metadata": {},
   "outputs": [],
   "source": []
  }
 ],
 "metadata": {
  "kernelspec": {
   "display_name": "Python [conda env:caispp]",
   "language": "python",
   "name": "conda-env-caispp-py"
  },
  "language_info": {
   "codemirror_mode": {
    "name": "ipython",
    "version": 3
   },
   "file_extension": ".py",
   "mimetype": "text/x-python",
   "name": "python",
   "nbconvert_exporter": "python",
   "pygments_lexer": "ipython3",
   "version": "3.5.6"
  }
 },
 "nbformat": 4,
 "nbformat_minor": 2
}
