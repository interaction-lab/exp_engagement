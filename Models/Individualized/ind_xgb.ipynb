{
 "cells": [
  {
   "cell_type": "code",
   "execution_count": 1,
   "metadata": {},
   "outputs": [],
   "source": [
    "# Individualized Models: XGB"
   ]
  },
  {
   "cell_type": "code",
   "execution_count": 2,
   "metadata": {},
   "outputs": [],
   "source": [
    "import pandas as pd\n",
    "import numpy as np\n",
    "from sklearn.model_selection import train_test_split\n",
    "from sklearn.metrics import roc_auc_score\n",
    "from sklearn.metrics import roc_auc_score\n",
    "from sklearn.metrics import accuracy_score\n",
    "from sklearn import metrics\n",
    "from itertools import combinations\n",
    "import itertools\n",
    "import json\n",
    "pd.options.mode.chained_assignment = None"
   ]
  },
  {
   "cell_type": "code",
   "execution_count": 3,
   "metadata": {},
   "outputs": [],
   "source": [
    "# Key Features: op_num_people, of_pose_distance, of_gaze_distance, of_confidence, ros_mistakes_session, ros_ts_robot_talked, timestamp\n",
    "use_key_features = False\n",
    "\n",
    "# Training Percentage\n",
    "training_iterations = [0.1, 0.2, 0.3, 0.4, 0.5, 0.6, 0.7, 0.8, 0.9]\n",
    "\n",
    "# Bagging\n",
    "num_estimators = 10\n",
    "sample_percentage = 0.75\n",
    "\n",
    "# Shuffle\n",
    "shuffle_data = False\n",
    "\n",
    "# File Name for Model Results\n",
    "output_file = 'ind_chron_extra.csv'"
   ]
  },
  {
   "cell_type": "markdown",
   "metadata": {},
   "source": [
    "# 1 -- Load Data"
   ]
  },
  {
   "cell_type": "code",
   "execution_count": 4,
   "metadata": {},
   "outputs": [],
   "source": [
    "# Windowed Data: 1 Second Overlapping Windows, Feature Median + Variance in Window \n",
    "p5_file = '../../../../../Google Drive File Stream/My Drive/USC Expeditions Year 5/Analysis/Engagement/Data/Master Window/p5_master_window.csv'\n",
    "p7_file = '../../../../../Google Drive File Stream/My Drive/USC Expeditions Year 5/Analysis/Engagement/Data/Master Window/p7_master_window.csv'\n",
    "p9_file = '../../../../../Google Drive File Stream/My Drive/USC Expeditions Year 5/Analysis/Engagement/Data/Master Window/p9_master_window.csv'\n",
    "p11_file = '../../../../../Google Drive File Stream/My Drive/USC Expeditions Year 5/Analysis/Engagement/Data/Master Window/p11_master_window.csv'\n",
    "p12_file = '../../../../../Google Drive File Stream/My Drive/USC Expeditions Year 5/Analysis/Engagement/Data/Master Window/p12_master_window.csv'\n",
    "p17_file = '../../../../../Google Drive File Stream/My Drive/USC Expeditions Year 5/Analysis/Engagement/Data/Master Window/p17_master_window.csv'\n",
    "p18_file = '../../../../../Google Drive File Stream/My Drive/USC Expeditions Year 5/Analysis/Engagement/Data/Master Window/p18_master_window.csv'\n",
    "\n",
    "data5 = pd.read_csv(p5_file)\n",
    "data7 = pd.read_csv(p7_file)\n",
    "data9 = pd.read_csv(p9_file)\n",
    "data11 = pd.read_csv(p11_file)\n",
    "data12 = pd.read_csv(p12_file)\n",
    "data17 = pd.read_csv(p17_file)\n",
    "data18 = pd.read_csv(p18_file)"
   ]
  },
  {
   "cell_type": "code",
   "execution_count": 5,
   "metadata": {},
   "outputs": [],
   "source": [
    "data = [data5, data7, data9, data11, data12, data17, data18]\n",
    "part = [5, 7, 9, 11, 12, 17, 18]"
   ]
  },
  {
   "cell_type": "code",
   "execution_count": 6,
   "metadata": {},
   "outputs": [],
   "source": [
    "remove = [\n",
    "'engagement_change',\n",
    "'ros_GAME_STATE',\n",
    "'ros_PARTICIPANT_STATE',\n",
    "'ros_ROBOT_STATE',\n",
    "'ros_activity',\n",
    "'ros_diff_1_change',\n",
    "'ros_diff_2_change',\n",
    "'ros_diff_3_change',\n",
    "'ros_diff_4_change',\n",
    "'ros_diff_5_change',\n",
    "'ros_difficulty',\n",
    "'ros_skill_EM_change',\n",
    "'ros_skill_NC_change',\n",
    "'ros_skill_OS_change',\n",
    "'ros_ts_attempt_var',\n",
    "'ros_games_session_change',\n",
    "'ros_in_game_change',\n",
    "'ros_mistakes_session_change',\n",
    "'ros_mistakes_game_change',\n",
    "'ros_skill',\n",
    "'ros_ts_game_start_var',\n",
    "'ros_ts_robot_talked_var',\n",
    "'ros_game_correct',\n",
    "'ros_game_incorrect',\n",
    "'ros_game_start',\n",
    "'ros_mistake_made',\n",
    "]\n",
    "\n",
    "for i, d in enumerate(data):\n",
    "    data[i] = d.drop(columns=remove)"
   ]
  },
  {
   "cell_type": "code",
   "execution_count": 7,
   "metadata": {},
   "outputs": [],
   "source": [
    "# Remove rows where engagment NaN\n",
    "for i,d in enumerate(data):\n",
    "    data[i] = d[np.isfinite(d['engagement'])]\n",
    "    \n",
    "# Remove rows where engagment is -1\n",
    "for i,d in enumerate(data):\n",
    "    data[i] = d[d['engagement']>=0]"
   ]
  },
  {
   "cell_type": "markdown",
   "metadata": {},
   "source": [
    "# 2 -- Choose Feature Set"
   ]
  },
  {
   "cell_type": "markdown",
   "metadata": {},
   "source": [
    "Feature Dictionary: https://docs.google.com/spreadsheets/d/1ewoVPHwW68Ins0AOVZf-0lsl_wW0_ZzuByuDiNJETBY/edit?usp=sharing"
   ]
  },
  {
   "cell_type": "markdown",
   "metadata": {},
   "source": [
    "### Data Overview"
   ]
  },
  {
   "cell_type": "code",
   "execution_count": 8,
   "metadata": {},
   "outputs": [
    {
     "name": "stdout",
     "output_type": "stream",
     "text": [
      "engagement\n",
      "participant\n",
      "session_num\n",
      "timestamp\n"
     ]
    }
   ],
   "source": [
    "# Main Columns\n",
    "basic_cols = []\n",
    "for i in data[0].columns:\n",
    "    if 'of_' not in i and 'op_' not in i and 'ros_' not in i and 'a_' not in i:\n",
    "        basic_cols.append(i)\n",
    "        \n",
    "basic_cols = sorted(basic_cols)\n",
    "for i in basic_cols:\n",
    "    print(i)"
   ]
  },
  {
   "cell_type": "code",
   "execution_count": 9,
   "metadata": {},
   "outputs": [
    {
     "name": "stdout",
     "output_type": "stream",
     "text": [
      "of_AU01_c\n",
      "of_AU02_c\n",
      "of_AU04_c\n",
      "of_AU05_c\n",
      "of_AU06_c\n",
      "of_AU07_c\n",
      "of_AU09_c\n",
      "of_AU10_c\n",
      "of_AU12_c\n",
      "of_AU14_c\n",
      "of_AU15_c\n",
      "of_AU17_c\n",
      "of_AU20_c\n",
      "of_AU23_c\n",
      "of_AU25_c\n",
      "of_AU26_c\n",
      "of_AU28_c\n",
      "of_AU45_c\n",
      "of_confidence\n",
      "of_gaze_0_x\n",
      "of_gaze_0_y\n",
      "of_gaze_0_z\n",
      "of_gaze_1_x\n",
      "of_gaze_1_y\n",
      "of_gaze_1_z\n",
      "of_gaze_angle_x\n",
      "of_gaze_angle_y\n",
      "of_gaze_distance\n",
      "of_gaze_distance_x\n",
      "of_gaze_distance_y\n",
      "of_pose_Rx\n",
      "of_pose_Ry\n",
      "of_pose_Rz\n",
      "of_pose_Tx\n",
      "of_pose_Ty\n",
      "of_pose_Tz\n",
      "of_pose_distance\n",
      "of_success\n",
      "of_ts_success\n",
      "op_num_people\n"
     ]
    }
   ],
   "source": [
    "# Open Face Columns\n",
    "\n",
    "of_cols = []\n",
    "for i in data[0].columns:\n",
    "    if ('of_' in i or 'op_' in i) and '_change' not in i and '_var' not in i:\n",
    "        of_cols.append(i)\n",
    "        \n",
    "of_cols = sorted(of_cols)\n",
    "for i in of_cols:\n",
    "    print(i)"
   ]
  },
  {
   "cell_type": "code",
   "execution_count": 10,
   "metadata": {},
   "outputs": [
    {
     "name": "stdout",
     "output_type": "stream",
     "text": [
      "a_harmonicity\n",
      "a_intensity\n",
      "a_mfcc_0\n",
      "a_mfcc_1\n",
      "a_pitch_frequency\n",
      "a_pitch_strength\n"
     ]
    }
   ],
   "source": [
    "# Audio Columns\n",
    "\n",
    "a_cols = []\n",
    "for i in data[0].columns:\n",
    "    if 'a_' in i and '_change' not in i and '_var' not in i:\n",
    "        a_cols.append(i)\n",
    "        \n",
    "a_cols = sorted(a_cols)\n",
    "for i in a_cols:\n",
    "    print(i)"
   ]
  },
  {
   "cell_type": "code",
   "execution_count": 11,
   "metadata": {},
   "outputs": [
    {
     "name": "stdout",
     "output_type": "stream",
     "text": [
      "ros_aptitude\n",
      "ros_diff_1\n",
      "ros_diff_2\n",
      "ros_diff_3\n",
      "ros_diff_4\n",
      "ros_diff_5\n",
      "ros_games_session\n",
      "ros_in_game\n",
      "ros_mistakes_game\n",
      "ros_mistakes_session\n",
      "ros_skill_EM\n",
      "ros_skill_NC\n",
      "ros_skill_OS\n",
      "ros_ts_attempt\n",
      "ros_ts_game_start\n",
      "ros_ts_robot_talked\n"
     ]
    }
   ],
   "source": [
    "# ROS Columns\n",
    "\n",
    "ros_cols = []\n",
    "for i in data[0].columns:\n",
    "    if 'ros_' in i and '_change' not in i and '_var' not in i:\n",
    "        ros_cols.append(i)\n",
    "        \n",
    "ros_cols = sorted(ros_cols)\n",
    "for i in ros_cols:\n",
    "    print(i)"
   ]
  },
  {
   "cell_type": "code",
   "execution_count": 12,
   "metadata": {},
   "outputs": [
    {
     "name": "stdout",
     "output_type": "stream",
     "text": [
      "a_harmonicity_var\n",
      "a_intensity_var\n",
      "a_mfcc_0_var\n",
      "a_mfcc_1_var\n",
      "a_pitch_frequency_var\n",
      "a_pitch_strength_var\n",
      "of_AU01_c_change\n",
      "of_AU02_c_change\n",
      "of_AU04_c_change\n",
      "of_AU05_c_change\n",
      "of_AU06_c_change\n",
      "of_AU07_c_change\n",
      "of_AU09_c_change\n",
      "of_AU10_c_change\n",
      "of_AU12_c_change\n",
      "of_AU14_c_change\n",
      "of_AU15_c_change\n",
      "of_AU17_c_change\n",
      "of_AU20_c_change\n",
      "of_AU23_c_change\n",
      "of_AU25_c_change\n",
      "of_AU26_c_change\n",
      "of_AU28_c_change\n",
      "of_AU45_c_change\n",
      "of_confidence_var\n",
      "of_gaze_0_x_var\n",
      "of_gaze_0_y_var\n",
      "of_gaze_0_z_var\n",
      "of_gaze_1_x_var\n",
      "of_gaze_1_y_var\n",
      "of_gaze_1_z_var\n",
      "of_gaze_angle_x_var\n",
      "of_gaze_angle_y_var\n",
      "of_gaze_distance_var\n",
      "of_gaze_distance_x_var\n",
      "of_gaze_distance_y_var\n",
      "of_pose_Rx_var\n",
      "of_pose_Ry_var\n",
      "of_pose_Rz_var\n",
      "of_pose_Tx_var\n",
      "of_pose_Ty_var\n",
      "of_pose_Tz_var\n",
      "of_pose_distance_var\n",
      "of_success_change\n",
      "of_ts_success_var\n",
      "op_num_people_change\n",
      "ros_aptitude_var\n"
     ]
    }
   ],
   "source": [
    "# For Window Only:\n",
    "non_window_features = []\n",
    "window_features = []\n",
    "for i in data[0].columns:\n",
    "    if i not in basic_cols:\n",
    "        if 'change' in i or 'var' in i:\n",
    "            window_features.append(i)\n",
    "        else:\n",
    "            non_window_features.append(i)\n",
    "        \n",
    "window_features = sorted(window_features)\n",
    "for i in window_features:\n",
    "    print(i)"
   ]
  },
  {
   "cell_type": "code",
   "execution_count": 13,
   "metadata": {},
   "outputs": [],
   "source": [
    "# Columns where NaNs filled with max value\n",
    "nan_max_cols = ['of_gaze_0_x',\n",
    "'of_gaze_0_y',\n",
    "'of_gaze_0_z',\n",
    "'of_gaze_1_x',\n",
    "'of_gaze_1_y',\n",
    "'of_gaze_1_z',\n",
    "'of_gaze_angle_x',\n",
    "'of_gaze_angle_y',\n",
    "'of_gaze_distance',\n",
    "'of_gaze_distance_x',\n",
    "'of_gaze_distance_y',\n",
    "'of_pose_Rxv',\n",
    "'of_pose_Ry',\n",
    "'of_pose_Rz',\n",
    "'of_pose_Tx',\n",
    "'of_pose_Ty',\n",
    "'of_pose_Tz',\n",
    "'of_pose_distance']"
   ]
  },
  {
   "cell_type": "code",
   "execution_count": 14,
   "metadata": {},
   "outputs": [],
   "source": [
    "# Key Features (from feature analysis) \n",
    "# Note: Timestamp automatically included\n",
    "\n",
    "key_features = [\n",
    "'op_num_people',\n",
    "'of_pose_distance',\n",
    "'of_gaze_distance',\n",
    "'of_confidence',\n",
    "'ros_mistakes_session',\n",
    "'ros_ts_robot_talked',\n",
    "'of_gaze_distance_x',\n",
    "'of_gaze_distance_y']"
   ]
  },
  {
   "cell_type": "markdown",
   "metadata": {},
   "source": [
    "### Filter Feature Set (Optional)"
   ]
  },
  {
   "cell_type": "code",
   "execution_count": 15,
   "metadata": {},
   "outputs": [],
   "source": [
    "# always include basic_cols, add desired group of features \n",
    "# features_to_keep = all_data.columns\n",
    "\n",
    "if use_key_features:\n",
    "    features_to_keep = basic_cols + key_features\n",
    "else:\n",
    "    features_to_keep = basic_cols + of_cols + ros_cols + a_cols + window_features\n",
    "\n",
    "for i,d in enumerate(data):\n",
    "    data[i] = d[features_to_keep]"
   ]
  },
  {
   "cell_type": "markdown",
   "metadata": {},
   "source": [
    "# 3 -- Scenario Based Modeling"
   ]
  },
  {
   "cell_type": "markdown",
   "metadata": {},
   "source": [
    "- Open Face Success / Failure\n",
    "- Robot Talking / Not Talking\n",
    "- First 10 Minutes / After 10 Minutes"
   ]
  },
  {
   "cell_type": "code",
   "execution_count": 16,
   "metadata": {},
   "outputs": [],
   "source": [
    "# Create Separate Models for Different Scenarios\n",
    "\n",
    "# for i,d in enumerate(data):\n",
    "#     # Open Face Success/Failure\n",
    "#     data[i] = d.loc[d['of_success']==1]\n",
    "#     data[i] = d.loc[d['of_success']==0]\n",
    "    \n",
    "#     # Robot Talking/Not Talking\n",
    "#     data[i] = d.loc[d['ros_ts_robot_talked']==0]\n",
    "#     data[i] = d.loc[d['ros_ts_robot_talked']>0]\n",
    "    \n",
    "#     # First 10 Min/After 10 Min\n",
    "#     data[i] = d.loc[d['timestamp']<=(10*60)]\n",
    "#     data[i] = d.loc[d['timestamp']>(10*60)]"
   ]
  },
  {
   "cell_type": "markdown",
   "metadata": {},
   "source": [
    "# 4 -- Modeling"
   ]
  },
  {
   "cell_type": "code",
   "execution_count": 17,
   "metadata": {},
   "outputs": [],
   "source": [
    "# Helper Function: Split a Participant's Data Chronologically \n",
    "\n",
    "def part_split(split, split_size):\n",
    "    split = split.sort_values(['session_num', 'timestamp'], ascending=[True, True])\n",
    "    bogus = split['engagement']\n",
    "\n",
    "    split_train, split_test, bogus1, bogus2 = train_test_split(split, bogus, test_size=split_size, shuffle=shuffle_data)\n",
    "    return split_train, split_test"
   ]
  },
  {
   "cell_type": "code",
   "execution_count": 18,
   "metadata": {},
   "outputs": [],
   "source": [
    "# Function: Formulate Train-Test Split \n",
    "# Includes Preprocessing & Shuffle \n",
    "\n",
    "# train_part: an array of participants \n",
    "# test_part: an array of participants\n",
    "# split_size: how much of each test participant's data to use for training\n",
    "def split(p, split_size):\n",
    "    train_data, test_data = part_split(data[part.index(p)].copy(), 1-split_size) \n",
    "            \n",
    "    y_train = train_data['engagement']\n",
    "    X_train = train_data.drop(columns=['engagement', 'session_num', 'participant', 'timestamp'])\n",
    "    y_test = test_data['engagement']\n",
    "    X_test = test_data.drop(columns=['engagement', 'session_num', 'participant', 'timestamp'])        \n",
    "\n",
    "    # Sort Training Data Together \n",
    "    X_train, bogus1, y_train, bogus2 = train_test_split(X_train, y_train, test_size=0.0, shuffle=True)\n",
    "    X_train, bogus1, y_train, bogus2 = train_test_split(X_train, y_train, test_size=0.0, shuffle=True)\n",
    "    X_train, bogus1, y_train, bogus2 = train_test_split(X_train, y_train, test_size=0.0, shuffle=True)\n",
    "    X_train, bogus1, y_train, bogus2 = train_test_split(X_train, y_train, test_size=0.0, shuffle=True)\n",
    "    X_train, bogus1, y_train, bogus2 = train_test_split(X_train, y_train, test_size=0.0, shuffle=True)\n",
    "\n",
    "    # Preprocessing: Standardization\n",
    "    # x' = ( x - mean(x) ) / ( stdev(x) )\n",
    "    # => x' is z-score, NaN's filled with min_val\n",
    "    for c in X_train.columns:\n",
    "        mean = np.nanmean(X_train[c])\n",
    "        std = np.nanstd(X_train[c])\n",
    "\n",
    "        if std == 0:\n",
    "            X_train[c] = (X_train[c]-mean)\n",
    "            X_test[c] = (X_test[c]-mean)\n",
    "        else:\n",
    "            X_train[c] = (X_train[c]-mean)/(std)\n",
    "            X_test[c] = (X_test[c]-mean)/(std)\n",
    "\n",
    "        if c not in nan_max_cols:\n",
    "            min_val = np.nanmin(X_train[c])\n",
    "\n",
    "            X_train[c] = X_train[c].fillna(min_val)\n",
    "            X_test[c] = X_test[c].fillna(min_val)\n",
    "        else:\n",
    "            max_val = np.nanmax(X_train[c])\n",
    "\n",
    "            X_train[c] = X_train[c].fillna(max_val)\n",
    "            X_test[c] = X_test[c].fillna(max_val) \n",
    "\n",
    "    return X_train, y_train, X_test, y_test"
   ]
  },
  {
   "cell_type": "code",
   "execution_count": 19,
   "metadata": {},
   "outputs": [],
   "source": [
    "# MODEL HERE\n",
    "\n",
    "# Inputs: X_train, y_train, X_test, y_test, hp, isVerbose\n",
    "# hp = Hyperparameter Dictionary, isVerbose = whether to return all accuracy metrics\n",
    "\n",
    "# Output: Accuracy Metrics as Dictionary \n",
    "\n",
    "# IMPORTS HERE\n",
    "from sklearn.ensemble import BaggingClassifier\n",
    "from xgboost import XGBClassifier\n",
    "\n",
    "def model(X_train, y_train, X_test, y_test):\n",
    "    # Model Here: must create pred & scores arrays\n",
    "    clf = BaggingClassifier(XGBClassifier(n_estimators=100),\n",
    "                            n_estimators=num_estimators,\n",
    "                            max_samples=sample_percentage)\n",
    "    \n",
    "    clf.fit(X_train, y_train)\n",
    "    \n",
    "    scores = clf.predict_proba(X_test.values)[:,1]\n",
    "    pred = []\n",
    "    for value in scores:\n",
    "        if value > 0.4:\n",
    "            pred.append(1)\n",
    "        else:\n",
    "            pred.append(0)\n",
    "    #pred = [round(value) for value in scores]   \n",
    "\n",
    "    # Evaluation\n",
    "    results = {}\n",
    "    accuracy = accuracy_score(y_test, pred)\n",
    "    results['accuracy'] = accuracy\n",
    "    \n",
    "    try:\n",
    "        auc = roc_auc_score(y_test, scores)\n",
    "    except:\n",
    "        auc = np.nan\n",
    "    results['auc'] = auc\n",
    "\n",
    "    precision = metrics.precision_score(y_test, pred, average=None)\n",
    "    recall = metrics.recall_score(y_test, pred, average=None)\n",
    "    f1 = metrics.f1_score(y_test, pred, average=None)\n",
    "\n",
    "    results['precision_0'], results['precision_1'] = precision[0], precision[1]\n",
    "    results['recall_0'], results['recall_1'] = recall[0], recall[1]\n",
    "    results['f1_0'], results['f1_1'] = f1[0], f1[1]\n",
    "    \n",
    "    return results"
   ]
  },
  {
   "cell_type": "code",
   "execution_count": 20,
   "metadata": {},
   "outputs": [
    {
     "name": "stdout",
     "output_type": "stream",
     "text": [
      "\n",
      "5\n",
      "0.6\n",
      "{'f1_0': 0.25955204216073785, 'accuracy': 0.782759953614225, 'f1_1': 0.8727066817667044, 'recall_0': 0.15797914995990378, 'auc': 0.8465855103432347, 'precision_0': 0.7269372693726938, 'precision_1': 0.7858454007750357, 'recall_1': 0.9811560988031576}\n",
      "0.7\n",
      "{'f1_0': 0.06134969325153374, 'accuracy': 0.76340206185567, 'f1_1': 0.8646416986139782, 'recall_0': 0.03253796095444685, 'auc': 0.8338418993897208, 'precision_0': 0.5357142857142857, 'precision_1': 0.7667364016736402, 'recall_1': 0.991210277214334}\n",
      "0.8\n",
      "{'f1_0': 0.12836970474967907, 'accuracy': 0.7375338229609586, 'f1_1': 0.8455062571103527, 'recall_0': 0.07342143906020558, 'auc': 0.829833295582541, 'precision_0': 0.5102040816326531, 'precision_1': 0.7464845319405383, 'recall_1': 0.974816369359916}\n",
      "0.9\n",
      "{'f1_0': 0.5251641137855579, 'accuracy': 0.8323029366306027, 'f1_1': 0.8981698732989206, 'recall_0': 0.4819277108433735, 'auc': 0.8830652754558905, 'precision_0': 0.5769230769230769, 'precision_1': 0.8812154696132597, 'recall_1': 0.9157894736842105}\n",
      "\n",
      "7\n",
      "0.6\n",
      "{'f1_0': 0.7988677988677988, 'accuracy': 0.8499565271394858, 'f1_1': 0.8803486529318542, 'recall_0': 0.6937536148062464, 'auc': 0.9503835456601105, 'precision_0': 0.9415227629513344, 'precision_1': 0.807559512992913, 'recall_1': 0.9675593294143261}\n",
      "0.7\n",
      "{'f1_0': 0.8345292454881497, 'accuracy': 0.8739648890361047, 'f1_1': 0.8982212117159288, 'recall_0': 0.7513703993735317, 'auc': 0.9555225948445831, 'precision_0': 0.9383863080684597, 'precision_1': 0.8409717004758327, 'recall_1': 0.9638346727898967}\n",
      "0.8\n",
      "{'f1_0': 0.8609554310114759, 'accuracy': 0.8705911574764034, 'f1_1': 0.8789779326364693, 'recall_0': 0.7702960840496658, 'auc': 0.9659979414713438, 'precision_0': 0.9758015728977616, 'precision_1': 0.7973029919932575, 'recall_1': 0.979296066252588}\n",
      "0.9\n",
      "{'f1_0': 0.953709575142676, 'accuracy': 0.9274714356681569, 'f1_1': 0.8325688073394495, 'recall_0': 0.9176327028676022, 'auc': 0.99123307873263, 'precision_0': 0.9927392739273927, 'precision_1': 0.7289156626506024, 'recall_1': 0.9705882352941176}\n",
      "\n",
      "9\n",
      "0.6\n",
      "{'f1_0': 0.8668718737976145, 'accuracy': 0.8461025241854776, 'f1_1': 0.8176548089591568, 'recall_0': 0.8062265163714439, 'auc': 0.9429847827243334, 'precision_0': 0.9373829831495736, 'precision_1': 0.7412804586717631, 'recall_1': 0.9115746180963572}\n",
      "0.7\n",
      "{'f1_0': 0.9019030079803562, 'accuracy': 0.8815418828762046, 'f1_1': 0.8505144995322731, 'recall_0': 0.8611957796014068, 'auc': 0.9600827723783232, 'precision_0': 0.9466494845360824, 'precision_1': 0.7933682373472949, 'recall_1': 0.9165322580645161}\n",
      "0.8\n",
      "{'f1_0': 0.9224059603852445, 'accuracy': 0.9050478096508784, 'f1_1': 0.8776854769407048, 'recall_0': 0.8958701023649841, 'auc': 0.9747385085462543, 'precision_0': 0.950561797752809, 'precision_1': 0.8385331143951834, 'recall_1': 0.9206730769230769}\n",
      "0.9\n",
      "{'f1_0': 0.9475645461804632, 'accuracy': 0.912405513561583, 'f1_1': 0.7341430499325236, 'recall_0': 0.9368421052631579, 'auc': 0.971210978736239, 'precision_0': 0.9585352719439957, 'precision_1': 0.6938775510204082, 'recall_1': 0.7793696275071633}\n",
      "\n",
      "11\n",
      "0.6\n",
      "{'f1_0': 0.4984227129337539, 'accuracy': 0.7926763012061284, 'f1_1': 0.8693329680865636, 'recall_0': 0.37799043062200954, 'auc': 0.8143398332207735, 'precision_0': 0.7314814814814815, 'precision_1': 0.8027064626280511, 'recall_1': 0.9480209111277073}\n",
      "0.7\n",
      "{'f1_0': 0.44162436548223355, 'accuracy': 0.7769085904679125, 'f1_1': 0.8606082548877625, 'recall_0': 0.31801566579634466, 'auc': 0.7949549938128271, 'precision_0': 0.7224199288256228, 'precision_1': 0.7844884488448844, 'recall_1': 0.9530874097834804}\n",
      "0.8\n",
      "{'f1_0': 0.39765319426336376, 'accuracy': 0.7992177314211213, 'f1_1': 0.8795306388526727, 'recall_0': 0.2725647899910634, 'auc': 0.7876300488752082, 'precision_0': 0.7349397590361446, 'precision_1': 0.8055887270121805, 'recall_1': 0.9684180304335344}\n",
      "0.9\n",
      "{'f1_0': 0.29709035222052066, 'accuracy': 0.8005215123859192, 'f1_1': 0.8837680425424158, 'recall_0': 0.2113289760348584, 'auc': 0.7156129432108227, 'precision_0': 0.5, 'precision_1': 0.8281917418130043, 'recall_1': 0.9473398479913138}\n",
      "\n",
      "12\n",
      "0.6\n",
      "{'f1_0': 0.5747718230751228, 'accuracy': 0.7089074014738865, 'f1_1': 0.7787114845938375, 'recall_0': 0.44204463642908565, 'auc': 0.8949689452095565, 'precision_0': 0.8214046822742475, 'precision_1': 0.673477986096482, 'recall_1': 0.9229214780600462}\n",
      "0.7\n",
      "{'f1_0': 0.5729106628242074, 'accuracy': 0.6834009826960051, 'f1_1': 0.7484725050916498, 'recall_0': 0.4308625921109666, 'auc': 0.9009097983537155, 'precision_0': 0.8546861564918314, 'precision_1': 0.6267765776009097, 'recall_1': 0.9288121314237574}\n",
      "0.8\n",
      "{'f1_0': 0.8137979584653292, 'accuracy': 0.8305030438961871, 'f1_1': 0.8444575124963247, 'recall_0': 0.7386581469648562, 'auc': 0.9241464556452605, 'precision_0': 0.9059561128526645, 'precision_1': 0.778319783197832, 'recall_1': 0.922879177377892}\n",
      "0.9\n",
      "{'f1_0': 0.8294277929155314, 'accuracy': 0.7994875080076874, 'f1_1': 0.7567987567987567, 'recall_0': 0.7512339585389931, 'auc': 0.9164366880192534, 'precision_0': 0.9257907542579076, 'precision_1': 0.6589986468200271, 'recall_1': 0.8886861313868614}\n",
      "\n",
      "17\n",
      "0.6\n",
      "{'f1_0': 0.7659176029962548, 'accuracy': 0.8038446449588074, 'f1_1': 0.8311951384199865, 'recall_0': 0.6920473773265652, 'auc': 0.9040903419619084, 'precision_0': 0.8574423480083857, 'precision_1': 0.7717868338557994, 'recall_1': 0.9005120702267739}\n",
      "0.7\n",
      "{'f1_0': 0.7261715014344915, 'accuracy': 0.7753661087866108, 'f1_1': 0.8095765905564176, 'recall_0': 0.6156756756756757, 'auc': 0.9050861195542046, 'precision_0': 0.885003885003885, 'precision_1': 0.7197477335435554, 'recall_1': 0.9250253292806484}\n",
      "0.8\n",
      "{'f1_0': 0.7573529411764706, 'accuracy': 0.7669674382110632, 'f1_1': 0.7758490566037736, 'recall_0': 0.678623718887262, 'auc': 0.8991576617998511, 'precision_0': 0.8567467652495379, 'precision_1': 0.7007498295841854, 'recall_1': 0.8689771766694844}\n",
      "0.9\n",
      "{'f1_0': 0.6854700854700856, 'accuracy': 0.7113725490196079, 'f1_1': 0.7333333333333333, 'recall_0': 0.5569444444444445, 'auc': 0.909009009009009, 'precision_0': 0.8911111111111111, 'precision_1': 0.6133333333333333, 'recall_1': 0.9117117117117117}\n",
      "\n",
      "18\n",
      "0.6\n",
      "{'f1_0': 0.39374792151646154, 'accuracy': 0.7577408637873754, 'f1_1': 0.8486257577015696, 'recall_0': 0.2482180293501048, 'auc': 0.8498022661087048, 'precision_0': 0.9517684887459807, 'precision_1': 0.7402578589019267, 'recall_1': 0.9941634241245136}\n",
      "0.7\n",
      "{'f1_0': 0.21841794569067294, 'accuracy': 0.7654145995747696, 'f1_1': 0.8619970815092768, 'recall_0': 0.12533875338753386, 'auc': 0.8399994928452165, 'precision_0': 0.8486238532110092, 'precision_1': 0.7620715075562109, 'recall_1': 0.9920825335892515}\n",
      "0.8\n",
      "{'f1_0': 0.33542600896860986, 'accuracy': 0.8030826468243423, 'f1_1': 0.8844174075807205, 'recall_0': 0.2070874861572536, 'auc': 0.8788122729983195, 'precision_0': 0.8820754716981132, 'precision_1': 0.7983666572796395, 'recall_1': 0.9912587412587412}\n",
      "0.9\n",
      "{'f1_0': 0.2914572864321608, 'accuracy': 0.7752391073326249, 'f1_1': 0.8664351120934639, 'recall_0': 0.17330677290836655, 'auc': 0.8558736070211905, 'precision_0': 0.9157894736842105, 'precision_1': 0.7677672076105204, 'recall_1': 0.9942028985507246}\n"
     ]
    }
   ],
   "source": [
    "all_results = []\n",
    "for p in part:\n",
    "    print()\n",
    "    print(p)\n",
    "    for train_percent in training_iterations:\n",
    "        print(train_percent)\n",
    "        new_results = {}\n",
    "        \n",
    "        # Train - Test Split (and preprocessing)\n",
    "        X_train, y_train, X_test, y_test = split(p, train_percent)\n",
    "        X_train = X_train.reset_index(drop=True)\n",
    "        y_train = y_train.reset_index(drop=True)\n",
    "        \n",
    "        # Evaluate on Test  \n",
    "        results = model(X_train, y_train, X_test, y_test)\n",
    "        print(results)\n",
    "        results['participant'] = p\n",
    "        results['train_percent'] = train_percent\n",
    "        all_results.append(results)"
   ]
  },
  {
   "cell_type": "code",
   "execution_count": 21,
   "metadata": {},
   "outputs": [],
   "source": [
    "results = pd.DataFrame(columns=['participant', 'train_percent', 'accuracy', 'auc', 'precision_0', 'precision_1', 'recall_0', 'recall_1', 'f1_0', 'f1_1'])\n",
    "results = results.append(all_results, ignore_index=True, sort=True)"
   ]
  },
  {
   "cell_type": "code",
   "execution_count": 22,
   "metadata": {},
   "outputs": [
    {
     "data": {
      "text/html": [
       "<div>\n",
       "<style scoped>\n",
       "    .dataframe tbody tr th:only-of-type {\n",
       "        vertical-align: middle;\n",
       "    }\n",
       "\n",
       "    .dataframe tbody tr th {\n",
       "        vertical-align: top;\n",
       "    }\n",
       "\n",
       "    .dataframe thead th {\n",
       "        text-align: right;\n",
       "    }\n",
       "</style>\n",
       "<table border=\"1\" class=\"dataframe\">\n",
       "  <thead>\n",
       "    <tr style=\"text-align: right;\">\n",
       "      <th></th>\n",
       "      <th>accuracy</th>\n",
       "      <th>auc</th>\n",
       "      <th>f1_0</th>\n",
       "      <th>f1_1</th>\n",
       "      <th>participant</th>\n",
       "      <th>precision_0</th>\n",
       "      <th>precision_1</th>\n",
       "      <th>recall_0</th>\n",
       "      <th>recall_1</th>\n",
       "      <th>train_percent</th>\n",
       "    </tr>\n",
       "  </thead>\n",
       "  <tbody>\n",
       "    <tr>\n",
       "      <th>0</th>\n",
       "      <td>0.782760</td>\n",
       "      <td>0.846586</td>\n",
       "      <td>0.259552</td>\n",
       "      <td>0.872707</td>\n",
       "      <td>5</td>\n",
       "      <td>0.726937</td>\n",
       "      <td>0.785845</td>\n",
       "      <td>0.157979</td>\n",
       "      <td>0.981156</td>\n",
       "      <td>0.6</td>\n",
       "    </tr>\n",
       "    <tr>\n",
       "      <th>1</th>\n",
       "      <td>0.763402</td>\n",
       "      <td>0.833842</td>\n",
       "      <td>0.061350</td>\n",
       "      <td>0.864642</td>\n",
       "      <td>5</td>\n",
       "      <td>0.535714</td>\n",
       "      <td>0.766736</td>\n",
       "      <td>0.032538</td>\n",
       "      <td>0.991210</td>\n",
       "      <td>0.7</td>\n",
       "    </tr>\n",
       "    <tr>\n",
       "      <th>2</th>\n",
       "      <td>0.737534</td>\n",
       "      <td>0.829833</td>\n",
       "      <td>0.128370</td>\n",
       "      <td>0.845506</td>\n",
       "      <td>5</td>\n",
       "      <td>0.510204</td>\n",
       "      <td>0.746485</td>\n",
       "      <td>0.073421</td>\n",
       "      <td>0.974816</td>\n",
       "      <td>0.8</td>\n",
       "    </tr>\n",
       "    <tr>\n",
       "      <th>3</th>\n",
       "      <td>0.832303</td>\n",
       "      <td>0.883065</td>\n",
       "      <td>0.525164</td>\n",
       "      <td>0.898170</td>\n",
       "      <td>5</td>\n",
       "      <td>0.576923</td>\n",
       "      <td>0.881215</td>\n",
       "      <td>0.481928</td>\n",
       "      <td>0.915789</td>\n",
       "      <td>0.9</td>\n",
       "    </tr>\n",
       "    <tr>\n",
       "      <th>4</th>\n",
       "      <td>0.849957</td>\n",
       "      <td>0.950384</td>\n",
       "      <td>0.798868</td>\n",
       "      <td>0.880349</td>\n",
       "      <td>7</td>\n",
       "      <td>0.941523</td>\n",
       "      <td>0.807560</td>\n",
       "      <td>0.693754</td>\n",
       "      <td>0.967559</td>\n",
       "      <td>0.6</td>\n",
       "    </tr>\n",
       "  </tbody>\n",
       "</table>\n",
       "</div>"
      ],
      "text/plain": [
       "   accuracy       auc      f1_0      f1_1 participant  precision_0  \\\n",
       "0  0.782760  0.846586  0.259552  0.872707           5     0.726937   \n",
       "1  0.763402  0.833842  0.061350  0.864642           5     0.535714   \n",
       "2  0.737534  0.829833  0.128370  0.845506           5     0.510204   \n",
       "3  0.832303  0.883065  0.525164  0.898170           5     0.576923   \n",
       "4  0.849957  0.950384  0.798868  0.880349           7     0.941523   \n",
       "\n",
       "   precision_1  recall_0  recall_1  train_percent  \n",
       "0     0.785845  0.157979  0.981156            0.6  \n",
       "1     0.766736  0.032538  0.991210            0.7  \n",
       "2     0.746485  0.073421  0.974816            0.8  \n",
       "3     0.881215  0.481928  0.915789            0.9  \n",
       "4     0.807560  0.693754  0.967559            0.6  "
      ]
     },
     "execution_count": 22,
     "metadata": {},
     "output_type": "execute_result"
    }
   ],
   "source": [
    "results.head()"
   ]
  },
  {
   "cell_type": "code",
   "execution_count": 23,
   "metadata": {},
   "outputs": [],
   "source": [
    "results.to_csv(output_file, index=False)"
   ]
  },
  {
   "cell_type": "code",
   "execution_count": 24,
   "metadata": {},
   "outputs": [],
   "source": [
    "data_all = pd.concat(data, ignore_index=True, sort=True)"
   ]
  },
  {
   "cell_type": "code",
   "execution_count": null,
   "metadata": {},
   "outputs": [],
   "source": []
  }
 ],
 "metadata": {
  "kernelspec": {
   "display_name": "Python [default]",
   "language": "python",
   "name": "python3"
  },
  "language_info": {
   "codemirror_mode": {
    "name": "ipython",
    "version": 3
   },
   "file_extension": ".py",
   "mimetype": "text/x-python",
   "name": "python",
   "nbconvert_exporter": "python",
   "pygments_lexer": "ipython3",
   "version": "3.5.6"
  }
 },
 "nbformat": 4,
 "nbformat_minor": 2
}
