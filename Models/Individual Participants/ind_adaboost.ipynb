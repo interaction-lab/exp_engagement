{
 "cells": [
  {
   "cell_type": "code",
   "execution_count": 44,
   "metadata": {},
   "outputs": [],
   "source": [
    "# Engagement Model Template: Individual Participants"
   ]
  },
  {
   "cell_type": "code",
   "execution_count": 45,
   "metadata": {},
   "outputs": [],
   "source": [
    "import pandas as pd\n",
    "import numpy as np\n",
    "from sklearn.model_selection import train_test_split\n",
    "from sklearn.metrics import roc_auc_score\n",
    "from sklearn.metrics import roc_auc_score\n",
    "from sklearn.metrics import accuracy_score\n",
    "from sklearn import metrics\n",
    "from itertools import combinations\n",
    "import itertools\n",
    "import json\n",
    "pd.options.mode.chained_assignment = None"
   ]
  },
  {
   "cell_type": "code",
   "execution_count": 46,
   "metadata": {},
   "outputs": [],
   "source": [
    "# Key Features: op_num_people, of_pose_distance, of_gaze_distance, of_confidence, ros_mistakes_session, ros_ts_robot_talked, timestamp\n",
    "use_key_features = False\n",
    "\n",
    "# Training Percentage\n",
    "training_iterations = [0.1, 0.2, 0.3, 0.4, 0.5]\n",
    "\n",
    "# Bagging\n",
    "num_estimators = 10\n",
    "sample_percentage = 0.75\n",
    "\n",
    "# File Name for Model Results\n",
    "output_file = 'ind_af_shuffle_adaboost_results.csv'"
   ]
  },
  {
   "cell_type": "markdown",
   "metadata": {},
   "source": [
    "# 1 -- Load Data"
   ]
  },
  {
   "cell_type": "code",
   "execution_count": 47,
   "metadata": {},
   "outputs": [],
   "source": [
    "# Windowed Data: 1 Second Overlapping Windows, Feature Median + Variance in Window \n",
    "p5_file = '../../../../../Google Drive File Stream/My Drive/USC Expeditions Year 5/Analysis/Engagement/Data/Master Window/p5_master_window.csv'\n",
    "p7_file = '../../../../../Google Drive File Stream/My Drive/USC Expeditions Year 5/Analysis/Engagement/Data/Master Window/p7_master_window.csv'\n",
    "p9_file = '../../../../../Google Drive File Stream/My Drive/USC Expeditions Year 5/Analysis/Engagement/Data/Master Window/p9_master_window.csv'\n",
    "p11_file = '../../../../../Google Drive File Stream/My Drive/USC Expeditions Year 5/Analysis/Engagement/Data/Master Window/p11_master_window.csv'\n",
    "p12_file = '../../../../../Google Drive File Stream/My Drive/USC Expeditions Year 5/Analysis/Engagement/Data/Master Window/p12_master_window.csv'\n",
    "p17_file = '../../../../../Google Drive File Stream/My Drive/USC Expeditions Year 5/Analysis/Engagement/Data/Master Window/p17_master_window.csv'\n",
    "p18_file = '../../../../../Google Drive File Stream/My Drive/USC Expeditions Year 5/Analysis/Engagement/Data/Master Window/p18_master_window.csv'\n",
    "\n",
    "data5 = pd.read_csv(p5_file)\n",
    "data7 = pd.read_csv(p7_file)\n",
    "data9 = pd.read_csv(p9_file)\n",
    "data11 = pd.read_csv(p11_file)\n",
    "data12 = pd.read_csv(p12_file)\n",
    "data17 = pd.read_csv(p17_file)\n",
    "data18 = pd.read_csv(p18_file)"
   ]
  },
  {
   "cell_type": "code",
   "execution_count": 48,
   "metadata": {},
   "outputs": [],
   "source": [
    "data = [data5, data7, data9, data11, data12, data17, data18]\n",
    "part = [5, 7, 9, 11, 12, 17, 18]"
   ]
  },
  {
   "cell_type": "code",
   "execution_count": 49,
   "metadata": {},
   "outputs": [],
   "source": [
    "remove = [\n",
    "'engagement_change',\n",
    "'ros_GAME_STATE',\n",
    "'ros_PARTICIPANT_STATE',\n",
    "'ros_ROBOT_STATE',\n",
    "'ros_activity',\n",
    "'ros_diff_1_change',\n",
    "'ros_diff_2_change',\n",
    "'ros_diff_3_change',\n",
    "'ros_diff_4_change',\n",
    "'ros_diff_5_change',\n",
    "'ros_difficulty',\n",
    "'ros_skill_EM_change',\n",
    "'ros_skill_NC_change',\n",
    "'ros_skill_OS_change',\n",
    "'ros_ts_attempt_var',\n",
    "'ros_games_session_change',\n",
    "'ros_in_game_change',\n",
    "'ros_mistakes_session_change',\n",
    "'ros_mistakes_game_change',\n",
    "'ros_skill',\n",
    "'ros_ts_game_start_var',\n",
    "'ros_ts_robot_talked_var',\n",
    "'ros_game_correct',\n",
    "'ros_game_incorrect',\n",
    "'ros_game_start',\n",
    "'ros_mistake_made',\n",
    "]\n",
    "\n",
    "for i, d in enumerate(data):\n",
    "    data[i] = d.drop(columns=remove)"
   ]
  },
  {
   "cell_type": "code",
   "execution_count": 50,
   "metadata": {},
   "outputs": [],
   "source": [
    "# Remove rows where engagment NaN\n",
    "for i,d in enumerate(data):\n",
    "    data[i] = d[np.isfinite(d['engagement'])]\n",
    "    \n",
    "# Remove rows where engagment is -1\n",
    "for i,d in enumerate(data):\n",
    "    data[i] = d[d['engagement']>=0]"
   ]
  },
  {
   "cell_type": "markdown",
   "metadata": {},
   "source": [
    "# 2 -- Choose Feature Set"
   ]
  },
  {
   "cell_type": "markdown",
   "metadata": {},
   "source": [
    "Feature Dictionary: https://docs.google.com/spreadsheets/d/1ewoVPHwW68Ins0AOVZf-0lsl_wW0_ZzuByuDiNJETBY/edit?usp=sharing"
   ]
  },
  {
   "cell_type": "markdown",
   "metadata": {},
   "source": [
    "### Data Overview"
   ]
  },
  {
   "cell_type": "code",
   "execution_count": 51,
   "metadata": {},
   "outputs": [
    {
     "name": "stdout",
     "output_type": "stream",
     "text": [
      "engagement\n",
      "participant\n",
      "session_num\n",
      "timestamp\n"
     ]
    }
   ],
   "source": [
    "# Main Columns\n",
    "basic_cols = []\n",
    "for i in data[0].columns:\n",
    "    if 'of_' not in i and 'op_' not in i and 'ros_' not in i and 'a_' not in i:\n",
    "        basic_cols.append(i)\n",
    "        \n",
    "basic_cols = sorted(basic_cols)\n",
    "for i in basic_cols:\n",
    "    print(i)"
   ]
  },
  {
   "cell_type": "code",
   "execution_count": 52,
   "metadata": {},
   "outputs": [
    {
     "name": "stdout",
     "output_type": "stream",
     "text": [
      "of_AU01_c\n",
      "of_AU02_c\n",
      "of_AU04_c\n",
      "of_AU05_c\n",
      "of_AU06_c\n",
      "of_AU07_c\n",
      "of_AU09_c\n",
      "of_AU10_c\n",
      "of_AU12_c\n",
      "of_AU14_c\n",
      "of_AU15_c\n",
      "of_AU17_c\n",
      "of_AU20_c\n",
      "of_AU23_c\n",
      "of_AU25_c\n",
      "of_AU26_c\n",
      "of_AU28_c\n",
      "of_AU45_c\n",
      "of_confidence\n",
      "of_gaze_0_x\n",
      "of_gaze_0_y\n",
      "of_gaze_0_z\n",
      "of_gaze_1_x\n",
      "of_gaze_1_y\n",
      "of_gaze_1_z\n",
      "of_gaze_angle_x\n",
      "of_gaze_angle_y\n",
      "of_gaze_distance\n",
      "of_gaze_distance_x\n",
      "of_gaze_distance_y\n",
      "of_pose_Rx\n",
      "of_pose_Ry\n",
      "of_pose_Rz\n",
      "of_pose_Tx\n",
      "of_pose_Ty\n",
      "of_pose_Tz\n",
      "of_pose_distance\n",
      "of_success\n",
      "of_ts_success\n",
      "op_num_people\n"
     ]
    }
   ],
   "source": [
    "# Open Face Columns\n",
    "\n",
    "of_cols = []\n",
    "for i in data[0].columns:\n",
    "    if ('of_' in i or 'op_' in i) and '_change' not in i and '_var' not in i:\n",
    "        of_cols.append(i)\n",
    "        \n",
    "of_cols = sorted(of_cols)\n",
    "for i in of_cols:\n",
    "    print(i)"
   ]
  },
  {
   "cell_type": "code",
   "execution_count": 53,
   "metadata": {},
   "outputs": [
    {
     "name": "stdout",
     "output_type": "stream",
     "text": [
      "a_harmonicity\n",
      "a_intensity\n",
      "a_mfcc_0\n",
      "a_mfcc_1\n",
      "a_pitch_frequency\n",
      "a_pitch_strength\n"
     ]
    }
   ],
   "source": [
    "# Audio Columns\n",
    "\n",
    "a_cols = []\n",
    "for i in data[0].columns:\n",
    "    if 'a_' in i and '_change' not in i and '_var' not in i:\n",
    "        a_cols.append(i)\n",
    "        \n",
    "a_cols = sorted(a_cols)\n",
    "for i in a_cols:\n",
    "    print(i)"
   ]
  },
  {
   "cell_type": "code",
   "execution_count": 54,
   "metadata": {},
   "outputs": [
    {
     "name": "stdout",
     "output_type": "stream",
     "text": [
      "ros_aptitude\n",
      "ros_diff_1\n",
      "ros_diff_2\n",
      "ros_diff_3\n",
      "ros_diff_4\n",
      "ros_diff_5\n",
      "ros_games_session\n",
      "ros_in_game\n",
      "ros_mistakes_game\n",
      "ros_mistakes_session\n",
      "ros_skill_EM\n",
      "ros_skill_NC\n",
      "ros_skill_OS\n",
      "ros_ts_attempt\n",
      "ros_ts_game_start\n",
      "ros_ts_robot_talked\n"
     ]
    }
   ],
   "source": [
    "# ROS Columns\n",
    "\n",
    "ros_cols = []\n",
    "for i in data[0].columns:\n",
    "    if 'ros_' in i and '_change' not in i and '_var' not in i:\n",
    "        ros_cols.append(i)\n",
    "        \n",
    "ros_cols = sorted(ros_cols)\n",
    "for i in ros_cols:\n",
    "    print(i)"
   ]
  },
  {
   "cell_type": "code",
   "execution_count": 55,
   "metadata": {},
   "outputs": [
    {
     "name": "stdout",
     "output_type": "stream",
     "text": [
      "a_harmonicity_var\n",
      "a_intensity_var\n",
      "a_mfcc_0_var\n",
      "a_mfcc_1_var\n",
      "a_pitch_frequency_var\n",
      "a_pitch_strength_var\n",
      "of_AU01_c_change\n",
      "of_AU02_c_change\n",
      "of_AU04_c_change\n",
      "of_AU05_c_change\n",
      "of_AU06_c_change\n",
      "of_AU07_c_change\n",
      "of_AU09_c_change\n",
      "of_AU10_c_change\n",
      "of_AU12_c_change\n",
      "of_AU14_c_change\n",
      "of_AU15_c_change\n",
      "of_AU17_c_change\n",
      "of_AU20_c_change\n",
      "of_AU23_c_change\n",
      "of_AU25_c_change\n",
      "of_AU26_c_change\n",
      "of_AU28_c_change\n",
      "of_AU45_c_change\n",
      "of_confidence_var\n",
      "of_gaze_0_x_var\n",
      "of_gaze_0_y_var\n",
      "of_gaze_0_z_var\n",
      "of_gaze_1_x_var\n",
      "of_gaze_1_y_var\n",
      "of_gaze_1_z_var\n",
      "of_gaze_angle_x_var\n",
      "of_gaze_angle_y_var\n",
      "of_gaze_distance_var\n",
      "of_gaze_distance_x_var\n",
      "of_gaze_distance_y_var\n",
      "of_pose_Rx_var\n",
      "of_pose_Ry_var\n",
      "of_pose_Rz_var\n",
      "of_pose_Tx_var\n",
      "of_pose_Ty_var\n",
      "of_pose_Tz_var\n",
      "of_pose_distance_var\n",
      "of_success_change\n",
      "of_ts_success_var\n",
      "op_num_people_change\n",
      "ros_aptitude_var\n"
     ]
    }
   ],
   "source": [
    "# For Window Only:\n",
    "non_window_features = []\n",
    "window_features = []\n",
    "for i in data[0].columns:\n",
    "    if i not in basic_cols:\n",
    "        if 'change' in i or 'var' in i:\n",
    "            window_features.append(i)\n",
    "        else:\n",
    "            non_window_features.append(i)\n",
    "        \n",
    "window_features = sorted(window_features)\n",
    "for i in window_features:\n",
    "    print(i)"
   ]
  },
  {
   "cell_type": "code",
   "execution_count": 56,
   "metadata": {},
   "outputs": [],
   "source": [
    "# Columns where NaNs filled with max value\n",
    "nan_max_cols = ['of_gaze_0_x',\n",
    "'of_gaze_0_y',\n",
    "'of_gaze_0_z',\n",
    "'of_gaze_1_x',\n",
    "'of_gaze_1_y',\n",
    "'of_gaze_1_z',\n",
    "'of_gaze_angle_x',\n",
    "'of_gaze_angle_y',\n",
    "'of_gaze_distance',\n",
    "'of_gaze_distance_x',\n",
    "'of_gaze_distance_y',\n",
    "'of_pose_Rxv',\n",
    "'of_pose_Ry',\n",
    "'of_pose_Rz',\n",
    "'of_pose_Tx',\n",
    "'of_pose_Ty',\n",
    "'of_pose_Tz',\n",
    "'of_pose_distance']"
   ]
  },
  {
   "cell_type": "code",
   "execution_count": 57,
   "metadata": {},
   "outputs": [],
   "source": [
    "# Key Features (from feature analysis) \n",
    "# Note: Timestamp automatically included\n",
    "\n",
    "key_features = [\n",
    "'op_num_people',\n",
    "'of_pose_distance',\n",
    "'of_gaze_distance',\n",
    "'of_confidence',\n",
    "'ros_mistakes_session',\n",
    "'ros_ts_robot_talked',\n",
    "'of_gaze_distance_x',\n",
    "'of_gaze_distance_y']"
   ]
  },
  {
   "cell_type": "markdown",
   "metadata": {},
   "source": [
    "### Filter Feature Set (Optional)"
   ]
  },
  {
   "cell_type": "code",
   "execution_count": 58,
   "metadata": {},
   "outputs": [],
   "source": [
    "# always include basic_cols, add desired group of features \n",
    "# features_to_keep = all_data.columns\n",
    "\n",
    "if use_key_features:\n",
    "    features_to_keep = basic_cols + key_features\n",
    "else:\n",
    "    features_to_keep = basic_cols + of_cols + ros_cols + a_cols + window_features\n",
    "\n",
    "for i,d in enumerate(data):\n",
    "    data[i] = d[features_to_keep]"
   ]
  },
  {
   "cell_type": "markdown",
   "metadata": {},
   "source": [
    "# 3 -- Scenario Based Modeling"
   ]
  },
  {
   "cell_type": "markdown",
   "metadata": {},
   "source": [
    "- Open Face Success / Failure\n",
    "- Robot Talking / Not Talking\n",
    "- First 10 Minutes / After 10 Minutes"
   ]
  },
  {
   "cell_type": "code",
   "execution_count": 59,
   "metadata": {},
   "outputs": [],
   "source": [
    "# Create Separate Models for Different Scenarios\n",
    "\n",
    "# for i,d in enumerate(data):\n",
    "#     # Open Face Success/Failure\n",
    "#     data[i] = d.loc[d['of_success']==1]\n",
    "#     data[i] = d.loc[d['of_success']==0]\n",
    "    \n",
    "#     # Robot Talking/Not Talking\n",
    "#     data[i] = d.loc[d['ros_ts_robot_talked']==0]\n",
    "#     data[i] = d.loc[d['ros_ts_robot_talked']>0]\n",
    "    \n",
    "#     # First 10 Min/After 10 Min\n",
    "#     data[i] = d.loc[d['timestamp']<=(10*60)]\n",
    "#     data[i] = d.loc[d['timestamp']>(10*60)]"
   ]
  },
  {
   "cell_type": "markdown",
   "metadata": {},
   "source": [
    "# 4 -- Modeling"
   ]
  },
  {
   "cell_type": "code",
   "execution_count": 60,
   "metadata": {},
   "outputs": [],
   "source": [
    "# Helper Function: Split a Participant's Data Chronologically \n",
    "\n",
    "def part_split(split, split_size):\n",
    "    split = split.sample(frac=1)\n",
    "    bogus = split['engagement']\n",
    "\n",
    "    split_train, split_test, bogus1, bogus2 = train_test_split(split, bogus, test_size=split_size, shuffle=True)\n",
    "    return split_train, split_test"
   ]
  },
  {
   "cell_type": "code",
   "execution_count": 61,
   "metadata": {},
   "outputs": [],
   "source": [
    "# Function: Formulate Train-Test Split \n",
    "# Includes Preprocessing & Shuffle \n",
    "\n",
    "# train_part: an array of participants \n",
    "# test_part: an array of participants\n",
    "# split_size: how much of each test participant's data to use for training\n",
    "def split(p, split_size):\n",
    "    train_data, test_data = part_split(data[part.index(p)].copy(), 1-split_size) \n",
    "            \n",
    "    y_train = train_data['engagement']\n",
    "    X_train = train_data.drop(columns=['engagement', 'session_num', 'participant', 'timestamp'])\n",
    "    y_test = test_data['engagement']\n",
    "    X_test = test_data.drop(columns=['engagement', 'session_num', 'participant', 'timestamp'])        \n",
    "\n",
    "    # Sort Training Data Together \n",
    "    X_train, bogus1, y_train, bogus2 = train_test_split(X_train, y_train, test_size=0.0, shuffle=True)\n",
    "    X_train, bogus1, y_train, bogus2 = train_test_split(X_train, y_train, test_size=0.0, shuffle=True)\n",
    "    X_train, bogus1, y_train, bogus2 = train_test_split(X_train, y_train, test_size=0.0, shuffle=True)\n",
    "    X_train, bogus1, y_train, bogus2 = train_test_split(X_train, y_train, test_size=0.0, shuffle=True)\n",
    "    X_train, bogus1, y_train, bogus2 = train_test_split(X_train, y_train, test_size=0.0, shuffle=True)\n",
    "\n",
    "    # Preprocessing: Standardization\n",
    "    # x' = ( x - mean(x) ) / ( stdev(x) )\n",
    "    # => x' is z-score, NaN's filled with min_val\n",
    "    for c in X_train.columns:\n",
    "        mean = np.nanmean(X_train[c])\n",
    "        std = np.nanstd(X_train[c])\n",
    "\n",
    "        if std == 0:\n",
    "            X_train[c] = (X_train[c]-mean)\n",
    "            X_test[c] = (X_test[c]-mean)\n",
    "        else:\n",
    "            X_train[c] = (X_train[c]-mean)/(std)\n",
    "            X_test[c] = (X_test[c]-mean)/(std)\n",
    "\n",
    "        if c not in nan_max_cols:\n",
    "            min_val = np.nanmin(X_train[c])\n",
    "\n",
    "            X_train[c] = X_train[c].fillna(min_val)\n",
    "            X_test[c] = X_test[c].fillna(min_val)\n",
    "        else:\n",
    "            max_val = np.nanmax(X_train[c])\n",
    "\n",
    "            X_train[c] = X_train[c].fillna(max_val)\n",
    "            X_test[c] = X_test[c].fillna(max_val) \n",
    "\n",
    "    return X_train, y_train, X_test, y_test"
   ]
  },
  {
   "cell_type": "code",
   "execution_count": 62,
   "metadata": {},
   "outputs": [],
   "source": [
    "# MODEL HERE\n",
    "\n",
    "# Inputs: X_train, y_train, X_test, y_test, hp, isVerbose\n",
    "# hp = Hyperparameter Dictionary, isVerbose = whether to return all accuracy metrics\n",
    "\n",
    "# Output: Accuracy Metrics as Dictionary \n",
    "\n",
    "# IMPORTS HERE\n",
    "# IMPORTS HERE\n",
    "from xgboost import XGBClassifier\n",
    "from sklearn.ensemble import RandomForestClassifier\n",
    "from sklearn.tree import DecisionTreeClassifier\n",
    "from sklearn.ensemble import AdaBoostClassifier\n",
    "\n",
    "# Hyperparameter Combinations to Try:  \n",
    "def model(X_train, y_train, X_test, y_test):\n",
    "    # Model Here: must create pred & scores arrays\n",
    "    model = AdaBoostClassifier(base_estimator=RandomForestClassifier(n_estimators=100))\n",
    "    model.fit(X_train.values, y_train.values)\n",
    "    \n",
    "    scores = model.predict(X_test.values)\n",
    "    pred = [round(value) for value in scores] \n",
    "    \n",
    "    # Evaluation\n",
    "    results = {}\n",
    "    accuracy = accuracy_score(y_test, pred)\n",
    "    results['accuracy'] = accuracy\n",
    "    \n",
    "    try:\n",
    "        auc = roc_auc_score(y_test, scores)\n",
    "    except:\n",
    "        auc = np.nan\n",
    "    results['auc'] = auc\n",
    "\n",
    "    precision = metrics.precision_score(y_test, pred, average=None)\n",
    "    recall = metrics.recall_score(y_test, pred, average=None)\n",
    "    f1 = metrics.f1_score(y_test, pred, average=None)\n",
    "\n",
    "    results['precision_0'], results['precision_1'] = precision[0], precision[1]\n",
    "    results['recall_0'], results['recall_1'] = recall[0], recall[1]\n",
    "    results['f1_0'], results['f1_1'] = f1[0], f1[1]\n",
    "    \n",
    "    return results"
   ]
  },
  {
   "cell_type": "code",
   "execution_count": 63,
   "metadata": {},
   "outputs": [
    {
     "name": "stdout",
     "output_type": "stream",
     "text": [
      "\n",
      "5\n",
      "0.1\n",
      "{'recall_1': 0.9828693790149893, 'f1_0': 0.6475160527205137, 'recall_0': 0.5226404800872886, 'precision_1': 0.9167776298268975, 'accuracy': 0.9103951890034364, 'f1_1': 0.9486737857388909, 'auc': 0.7527549295511389, 'precision_0': 0.8507992895204263}\n",
      "0.2\n",
      "{'recall_1': 0.9854207324073011, 'f1_0': 0.6862891207153502, 'recall_0': 0.562958435207824, 'precision_1': 0.9231100118292289, 'accuracy': 0.9186237556779743, 'f1_1': 0.9532481954469739, 'auc': 0.7741895838075625, 'precision_0': 0.8788167938931297}\n",
      "0.3\n",
      "{'recall_1': 0.9879486507728583, 'f1_0': 0.7405247813411078, 'recall_0': 0.6260563380281691, 'precision_1': 0.9342251950947603, 'accuracy': 0.9311906339739342, 'f1_1': 0.9603361558540779, 'auc': 0.8070024944005136, 'precision_0': 0.9062181447502549}\n",
      "0.4\n",
      "{'recall_1': 0.9872699386503068, 'f1_0': 0.753650494583137, 'recall_0': 0.6451612903225806, 'precision_1': 0.936018612767195, 'accuracy': 0.9326030927835052, 'f1_1': 0.9609614092707323, 'auc': 0.8162156144864438, 'precision_0': 0.9060022650056625}\n",
      "0.5\n",
      "{'recall_1': 0.9887557603686636, 'f1_0': 0.7730812013348164, 'recall_0': 0.6669865642994242, 'precision_1': 0.9392400630362459, 'accuracy': 0.9369104685325499, 'f1_1': 0.9633620689655172, 'auc': 0.8278711623340439, 'precision_0': 0.9193121693121693}\n",
      "\n",
      "7\n",
      "0.1\n",
      "{'recall_1': 0.9269305286465541, 'f1_0': 0.8595461935392662, 'recall_0': 0.8357388316151203, 'precision_1': 0.8937021882227362, 'accuracy': 0.8903058407861323, 'f1_1': 0.9100131334631584, 'auc': 0.8813346801308372, 'precision_0': 0.8847497089639115}\n",
      "0.2\n",
      "{'recall_1': 0.9523958008523022, 'f1_0': 0.8691116544417279, 'recall_0': 0.8228395061728395, 'precision_1': 0.8886625933469111, 'accuracy': 0.9002546425687845, 'f1_1': 0.9194260485651214, 'auc': 0.8876176535125709, 'precision_0': 0.9208981001727116}\n",
      "0.3\n",
      "{'recall_1': 0.9534800713860797, 'f1_0': 0.8884822980514134, 'recall_0': 0.8543279380717804, 'precision_1': 0.9063560280479529, 'accuracy': 0.9134786003264959, 'f1_1': 0.929321041340523, 'auc': 0.9039040047289301, 'precision_0': 0.9254812273680199}\n",
      "0.4\n",
      "{'recall_1': 0.9634010576120233, 'f1_0': 0.8966920029975378, 'recall_0': 0.8564417177914111, 'precision_1': 0.9079344262295082, 'accuracy': 0.9200894335872806, 'f1_1': 0.9348457227736142, 'auc': 0.9099213877017172, 'precision_0': 0.9409121545720063}\n",
      "0.5\n",
      "{'recall_1': 0.9657142857142857, 'f1_0': 0.9079180369339742, 'recall_0': 0.8725990761001702, 'precision_1': 0.9164274322169059, 'accuracy': 0.927655768657458, 'f1_1': 0.9404255319148936, 'auc': 0.9191566809072279, 'precision_0': 0.9462167150013182}\n",
      "\n",
      "9\n",
      "0.1\n",
      "{'recall_1': 0.9111425969031475, 'f1_0': 0.8825314692273248, 'recall_0': 0.8567426584234931, 'precision_1': 0.8585733358764066, 'accuracy': 0.8833094449661444, 'f1_1': 0.8840771836794815, 'auc': 0.8839426276633203, 'precision_0': 0.9099210013337438}\n",
      "0.2\n",
      "{'recall_1': 0.908401268115942, 'f1_0': 0.9077951978949678, 'recall_0': 0.904621435594887, 'precision_1': 0.9018660071942446, 'accuracy': 0.9064776202390882, 'f1_1': 0.9051218411552346, 'auc': 0.9065113518554144, 'precision_0': 0.9109913081747167}\n",
      "0.3\n",
      "{'recall_1': 0.9093143596377748, 'f1_0': 0.914349831691809, 'recall_0': 0.9159485450231047, 'precision_1': 0.9126200986756686, 'accuracy': 0.9126898392323823, 'f1_1': 0.9109642301710732, 'auc': 0.9126314523304397, 'precision_0': 0.9127566894835096}\n",
      "0.4\n",
      "{'recall_1': 0.9245283018867925, 'f1_0': 0.92228889214108, 'recall_0': 0.9181235431235432, 'precision_1': 0.9159563331837894, 'accuracy': 0.9212691822966862, 'f1_1': 0.9202223557692307, 'auc': 0.9213259225051679, 'precision_0': 0.9264922081740664}\n",
      "0.5\n",
      "{'recall_1': 0.9305755395683454, 'f1_0': 0.9271441202475685, 'recall_0': 0.922900897729273, 'precision_1': 0.9219529579472558, 'accuracy': 0.9266969130860244, 'f1_1': 0.9262441818832797, 'auc': 0.926738218648809, 'precision_0': 0.9314265411263102}\n",
      "\n",
      "11\n",
      "0.1\n",
      "{'recall_1': 0.9549822964087, 'f1_0': 0.6112281571446276, 'recall_0': 0.5041913719075853, 'precision_1': 0.861657824177078, 'accuracy': 0.8485053363596852, 'f1_1': 0.9059229269755585, 'auc': 0.7295868341581426, 'precision_0': 0.775959723096287}\n",
      "0.2\n",
      "{'recall_1': 0.9478834290576473, 'f1_0': 0.6926171013364473, 'recall_0': 0.6202649314431792, 'precision_1': 0.8910811891747767, 'accuracy': 0.8712919700097794, 'f1_1': 0.9186050506785775, 'auc': 0.7840741802504132, 'precision_0': 0.7840775558166863}\n",
      "0.3\n",
      "{'recall_1': 0.9595647937642091, 'f1_0': 0.7135783945986497, 'recall_0': 0.6276062285563473, 'precision_1': 0.893340388540328, 'accuracy': 0.8814653834212978, 'f1_1': 0.9252691329027207, 'auc': 0.7935855111602782, 'precision_0': 0.8268428372739917}\n",
      "0.4\n",
      "{'recall_1': 0.9587667864573483, 'f1_0': 0.7437478588557725, 'recall_0': 0.6719281956050758, 'precision_1': 0.9053402393284515, 'accuracy': 0.8916334661354581, 'f1_1': 0.9312878927062281, 'auc': 0.815347491031212, 'precision_0': 0.8327579593402378}\n",
      "0.5\n",
      "{'recall_1': 0.9690205011389522, 'f1_0': 0.757104335200166, 'recall_0': 0.669970631424376, 'precision_1': 0.9044328691400021, 'accuracy': 0.8982093184979137, 'f1_1': 0.9356133501951944, 'auc': 0.819495566281664, 'precision_0': 0.8702908917501192}\n",
      "\n",
      "12\n",
      "0.1\n",
      "{'recall_1': 0.9119601328903655, 'f1_0': 0.8195121951219512, 'recall_0': 0.8043087971274686, 'precision_1': 0.8935546875, 'accuracy': 0.8735312967314677, 'f1_1': 0.9026635975008221, 'auc': 0.858134465008917, 'precision_0': 0.8353014294592915}\n",
      "0.2\n",
      "{'recall_1': 0.9259259259259259, 'f1_0': 0.85006753714543, 'recall_0': 0.83576803895529, 'precision_1': 0.9085869163484046, 'accuracy': 0.893294881038212, 'f1_1': 0.917174480785972, 'auc': 0.880846982440608, 'precision_0': 0.8648648648648649}\n",
      "0.3\n",
      "{'recall_1': 0.9282453637660485, 'f1_0': 0.8599457854653414, 'recall_0': 0.8512650140557118, 'precision_1': 0.9179009733389759, 'accuracy': 0.9006683145655955, 'f1_1': 0.9230441875310306, 'auc': 0.8897551889108801, 'precision_0': 0.8688054251434533}\n",
      "0.4\n",
      "{'recall_1': 0.9382470119521913, 'f1_0': 0.8719975676497415, 'recall_0': 0.8591971240263631, 'precision_1': 0.9232277033649134, 'accuracy': 0.9100619525742363, 'f1_1': 0.9306767660135024, 'auc': 0.8987220679892772, 'precision_0': 0.8851851851851852}\n",
      "0.5\n",
      "{'recall_1': 0.9388689765033851, 'f1_0': 0.8712979890310786, 'recall_0': 0.8571942446043166, 'precision_1': 0.922339593114241, 'accuracy': 0.9097667264803897, 'f1_1': 0.9305308861259128, 'auc': 0.8980316105538508, 'precision_0': 0.8858736059479554}\n",
      "\n",
      "17\n",
      "0.1\n",
      "{'recall_1': 0.8530426884650318, 'f1_0': 0.8788480635551142, 'recall_0': 0.8901927912824812, 'precision_1': 0.8775929732760231, 'accuracy': 0.8723626852659111, 'f1_1': 0.8651436993367723, 'auc': 0.8716177398737566, 'precision_0': 0.8677888543879719}\n",
      "0.2\n",
      "{'recall_1': 0.884928716904277, 'f1_0': 0.899877785089781, 'recall_0': 0.9054105183503595, 'precision_1': 0.8968008255933952, 'accuracy': 0.895547273440565, 'f1_1': 0.8908252178370067, 'auc': 0.8951696176273182, 'precision_0': 0.8944122593907681}\n",
      "0.3\n",
      "{'recall_1': 0.898728214790391, 'f1_0': 0.9110494880546076, 'recall_0': 0.9135828877005348, 'precision_1': 0.9042654028436019, 'accuracy': 0.906512722788925, 'f1_1': 0.9014883061658399, 'auc': 0.9061555512454629, 'precision_0': 0.9085300999787279}\n",
      "0.4\n",
      "{'recall_1': 0.9275482093663912, 'f1_0': 0.918918918918919, 'recall_0': 0.9056509833208862, 'precision_1': 0.898825413774693, 'accuracy': 0.9160455080423695, 'f1_1': 0.9129609544468547, 'auc': 0.9165995963436387, 'precision_0': 0.9325813893873366}\n",
      "0.5\n",
      "{'recall_1': 0.9181494661921709, 'f1_0': 0.9251824817518248, 'recall_0': 0.9271563547698872, 'precision_1': 0.9223269418264544, 'accuracy': 0.9227871939736346, 'f1_1': 0.9202334630350195, 'auc': 0.922652910481029, 'precision_0': 0.9232169954476479}\n",
      "\n",
      "18\n",
      "0.1\n",
      "{'recall_1': 0.9685988483685221, 'f1_0': 0.6174303107978213, 'recall_0': 0.4933435739887353, 'precision_1': 0.8644056183624529, 'accuracy': 0.8589569428858307, 'f1_1': 0.9135409123823316, 'auc': 0.7309712111786286, 'precision_0': 0.8249143835616438}\n",
      "0.2\n",
      "{'recall_1': 0.9777585460839463, 'f1_0': 0.6744391450273803, 'recall_0': 0.5462088698140201, 'precision_1': 0.8769015833592052, 'accuracy': 0.8775415282392026, 'f1_1': 0.9245877490895699, 'auc': 0.7619837079489831, 'precision_0': 0.88134810710988}\n",
      "0.3\n",
      "{'recall_1': 0.9722991689750693, 'f1_0': 0.712275968394681, 'recall_0': 0.6037242731133616, 'precision_1': 0.8901367629743683, 'accuracy': 0.8866276862328195, 'f1_1': 0.929405645657005, 'auc': 0.7880117210442155, 'precision_0': 0.868421052631579}\n",
      "0.4\n"
     ]
    },
    {
     "name": "stdout",
     "output_type": "stream",
     "text": [
      "{'recall_1': 0.9744386873920553, 'f1_0': 0.7365831842576029, 'recall_0': 0.6327314636957357, 'precision_1': 0.898503025798917, 'accuracy': 0.8956413890857547, 'f1_1': 0.934931506849315, 'auc': 0.8035850755438956, 'precision_0': 0.8812199036918138}\n",
      "0.5\n",
      "{'recall_1': 0.9793956043956044, 'f1_0': 0.7573027573027572, 'recall_0': 0.6523988711194731, 'precision_1': 0.9060871775320879, 'accuracy': 0.9054858600893047, 'f1_1': 0.9413162584989108, 'auc': 0.8158972377575389, 'precision_0': 0.9024072869225764}\n"
     ]
    }
   ],
   "source": [
    "all_results = []\n",
    "for p in part:\n",
    "    print()\n",
    "    print(p)\n",
    "    for train_percent in training_iterations:\n",
    "        print(train_percent)\n",
    "        new_results = {}\n",
    "        \n",
    "        # Train - Test Split (and preprocessing)\n",
    "        X_train, y_train, X_test, y_test = split(p, train_percent)\n",
    "        X_train = X_train.reset_index(drop=True)\n",
    "        y_train = y_train.reset_index(drop=True)\n",
    "        \n",
    "        # Evaluate on Test  \n",
    "        results = model(X_train, y_train, X_test, y_test)\n",
    "        print(results)\n",
    "        results['participant'] = p\n",
    "        results['train_percent'] = train_percent\n",
    "        all_results.append(results)"
   ]
  },
  {
   "cell_type": "code",
   "execution_count": 64,
   "metadata": {},
   "outputs": [],
   "source": [
    "results = pd.DataFrame(columns=['participant', 'train_percent', 'accuracy', 'auc', 'precision_0', 'precision_1', 'recall_0', 'recall_1', 'f1_0', 'f1_1'])\n",
    "results = results.append(all_results, ignore_index=True, sort=True)"
   ]
  },
  {
   "cell_type": "code",
   "execution_count": 65,
   "metadata": {},
   "outputs": [
    {
     "data": {
      "text/html": [
       "<div>\n",
       "<style scoped>\n",
       "    .dataframe tbody tr th:only-of-type {\n",
       "        vertical-align: middle;\n",
       "    }\n",
       "\n",
       "    .dataframe tbody tr th {\n",
       "        vertical-align: top;\n",
       "    }\n",
       "\n",
       "    .dataframe thead th {\n",
       "        text-align: right;\n",
       "    }\n",
       "</style>\n",
       "<table border=\"1\" class=\"dataframe\">\n",
       "  <thead>\n",
       "    <tr style=\"text-align: right;\">\n",
       "      <th></th>\n",
       "      <th>accuracy</th>\n",
       "      <th>auc</th>\n",
       "      <th>f1_0</th>\n",
       "      <th>f1_1</th>\n",
       "      <th>participant</th>\n",
       "      <th>precision_0</th>\n",
       "      <th>precision_1</th>\n",
       "      <th>recall_0</th>\n",
       "      <th>recall_1</th>\n",
       "      <th>train_percent</th>\n",
       "    </tr>\n",
       "  </thead>\n",
       "  <tbody>\n",
       "    <tr>\n",
       "      <th>0</th>\n",
       "      <td>0.910395</td>\n",
       "      <td>0.752755</td>\n",
       "      <td>0.647516</td>\n",
       "      <td>0.948674</td>\n",
       "      <td>5</td>\n",
       "      <td>0.850799</td>\n",
       "      <td>0.916778</td>\n",
       "      <td>0.522640</td>\n",
       "      <td>0.982869</td>\n",
       "      <td>0.1</td>\n",
       "    </tr>\n",
       "    <tr>\n",
       "      <th>1</th>\n",
       "      <td>0.918624</td>\n",
       "      <td>0.774190</td>\n",
       "      <td>0.686289</td>\n",
       "      <td>0.953248</td>\n",
       "      <td>5</td>\n",
       "      <td>0.878817</td>\n",
       "      <td>0.923110</td>\n",
       "      <td>0.562958</td>\n",
       "      <td>0.985421</td>\n",
       "      <td>0.2</td>\n",
       "    </tr>\n",
       "    <tr>\n",
       "      <th>2</th>\n",
       "      <td>0.931191</td>\n",
       "      <td>0.807002</td>\n",
       "      <td>0.740525</td>\n",
       "      <td>0.960336</td>\n",
       "      <td>5</td>\n",
       "      <td>0.906218</td>\n",
       "      <td>0.934225</td>\n",
       "      <td>0.626056</td>\n",
       "      <td>0.987949</td>\n",
       "      <td>0.3</td>\n",
       "    </tr>\n",
       "    <tr>\n",
       "      <th>3</th>\n",
       "      <td>0.932603</td>\n",
       "      <td>0.816216</td>\n",
       "      <td>0.753650</td>\n",
       "      <td>0.960961</td>\n",
       "      <td>5</td>\n",
       "      <td>0.906002</td>\n",
       "      <td>0.936019</td>\n",
       "      <td>0.645161</td>\n",
       "      <td>0.987270</td>\n",
       "      <td>0.4</td>\n",
       "    </tr>\n",
       "    <tr>\n",
       "      <th>4</th>\n",
       "      <td>0.936910</td>\n",
       "      <td>0.827871</td>\n",
       "      <td>0.773081</td>\n",
       "      <td>0.963362</td>\n",
       "      <td>5</td>\n",
       "      <td>0.919312</td>\n",
       "      <td>0.939240</td>\n",
       "      <td>0.666987</td>\n",
       "      <td>0.988756</td>\n",
       "      <td>0.5</td>\n",
       "    </tr>\n",
       "  </tbody>\n",
       "</table>\n",
       "</div>"
      ],
      "text/plain": [
       "   accuracy       auc      f1_0      f1_1 participant  precision_0  \\\n",
       "0  0.910395  0.752755  0.647516  0.948674           5     0.850799   \n",
       "1  0.918624  0.774190  0.686289  0.953248           5     0.878817   \n",
       "2  0.931191  0.807002  0.740525  0.960336           5     0.906218   \n",
       "3  0.932603  0.816216  0.753650  0.960961           5     0.906002   \n",
       "4  0.936910  0.827871  0.773081  0.963362           5     0.919312   \n",
       "\n",
       "   precision_1  recall_0  recall_1  train_percent  \n",
       "0     0.916778  0.522640  0.982869            0.1  \n",
       "1     0.923110  0.562958  0.985421            0.2  \n",
       "2     0.934225  0.626056  0.987949            0.3  \n",
       "3     0.936019  0.645161  0.987270            0.4  \n",
       "4     0.939240  0.666987  0.988756            0.5  "
      ]
     },
     "execution_count": 65,
     "metadata": {},
     "output_type": "execute_result"
    }
   ],
   "source": [
    "results.head()"
   ]
  },
  {
   "cell_type": "code",
   "execution_count": 66,
   "metadata": {},
   "outputs": [],
   "source": [
    "results.to_csv(output_file, index=False)"
   ]
  },
  {
   "cell_type": "code",
   "execution_count": null,
   "metadata": {},
   "outputs": [],
   "source": []
  },
  {
   "cell_type": "code",
   "execution_count": null,
   "metadata": {},
   "outputs": [],
   "source": []
  }
 ],
 "metadata": {
  "kernelspec": {
   "display_name": "Python [conda env:caispp]",
   "language": "python",
   "name": "conda-env-caispp-py"
  },
  "language_info": {
   "codemirror_mode": {
    "name": "ipython",
    "version": 3
   },
   "file_extension": ".py",
   "mimetype": "text/x-python",
   "name": "python",
   "nbconvert_exporter": "python",
   "pygments_lexer": "ipython3",
   "version": "3.5.6"
  }
 },
 "nbformat": 4,
 "nbformat_minor": 2
}
