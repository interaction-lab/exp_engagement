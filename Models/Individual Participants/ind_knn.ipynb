{
 "cells": [
  {
   "cell_type": "code",
   "execution_count": 67,
   "metadata": {},
   "outputs": [],
   "source": [
    "# Engagement Model Template: Individual Participants"
   ]
  },
  {
   "cell_type": "code",
   "execution_count": 68,
   "metadata": {},
   "outputs": [],
   "source": [
    "import pandas as pd\n",
    "import numpy as np\n",
    "from sklearn.model_selection import train_test_split\n",
    "from sklearn.metrics import roc_auc_score\n",
    "from sklearn.metrics import roc_auc_score\n",
    "from sklearn.metrics import accuracy_score\n",
    "from sklearn import metrics\n",
    "from itertools import combinations\n",
    "import itertools\n",
    "import json\n",
    "pd.options.mode.chained_assignment = None"
   ]
  },
  {
   "cell_type": "code",
   "execution_count": 69,
   "metadata": {},
   "outputs": [],
   "source": [
    "# Key Features: op_num_people, of_pose_distance, of_gaze_distance, of_confidence, ros_mistakes_session, ros_ts_robot_talked, timestamp\n",
    "use_key_features = False\n",
    "\n",
    "# Training Percentage\n",
    "training_iterations = [0.1, 0.2, 0.3, 0.4, 0.5]\n",
    "\n",
    "# Bagging\n",
    "num_estimators = 10\n",
    "sample_percentage = 0.75\n",
    "\n",
    "# File Name for Model Results\n",
    "output_file = 'ind_af_knn_results.csv'"
   ]
  },
  {
   "cell_type": "markdown",
   "metadata": {},
   "source": [
    "# 1 -- Load Data"
   ]
  },
  {
   "cell_type": "code",
   "execution_count": 70,
   "metadata": {},
   "outputs": [],
   "source": [
    "# Windowed Data: 1 Second Overlapping Windows, Feature Median + Variance in Window \n",
    "p5_file = '../../../../../Google Drive File Stream/My Drive/USC Expeditions Year 5/Analysis/Engagement/Data/Master Window/p5_master_window.csv'\n",
    "p7_file = '../../../../../Google Drive File Stream/My Drive/USC Expeditions Year 5/Analysis/Engagement/Data/Master Window/p7_master_window.csv'\n",
    "p9_file = '../../../../../Google Drive File Stream/My Drive/USC Expeditions Year 5/Analysis/Engagement/Data/Master Window/p9_master_window.csv'\n",
    "p11_file = '../../../../../Google Drive File Stream/My Drive/USC Expeditions Year 5/Analysis/Engagement/Data/Master Window/p11_master_window.csv'\n",
    "p12_file = '../../../../../Google Drive File Stream/My Drive/USC Expeditions Year 5/Analysis/Engagement/Data/Master Window/p12_master_window.csv'\n",
    "p17_file = '../../../../../Google Drive File Stream/My Drive/USC Expeditions Year 5/Analysis/Engagement/Data/Master Window/p17_master_window.csv'\n",
    "p18_file = '../../../../../Google Drive File Stream/My Drive/USC Expeditions Year 5/Analysis/Engagement/Data/Master Window/p18_master_window.csv'\n",
    "\n",
    "data5 = pd.read_csv(p5_file)\n",
    "data7 = pd.read_csv(p7_file)\n",
    "data9 = pd.read_csv(p9_file)\n",
    "data11 = pd.read_csv(p11_file)\n",
    "data12 = pd.read_csv(p12_file)\n",
    "data17 = pd.read_csv(p17_file)\n",
    "data18 = pd.read_csv(p18_file)"
   ]
  },
  {
   "cell_type": "code",
   "execution_count": 71,
   "metadata": {},
   "outputs": [],
   "source": [
    "data = [data5, data7, data9, data11, data12, data17, data18]\n",
    "part = [5, 7, 9, 11, 12, 17, 18]"
   ]
  },
  {
   "cell_type": "code",
   "execution_count": 72,
   "metadata": {},
   "outputs": [],
   "source": [
    "remove = [\n",
    "'engagement_change',\n",
    "'ros_GAME_STATE',\n",
    "'ros_PARTICIPANT_STATE',\n",
    "'ros_ROBOT_STATE',\n",
    "'ros_activity',\n",
    "'ros_diff_1_change',\n",
    "'ros_diff_2_change',\n",
    "'ros_diff_3_change',\n",
    "'ros_diff_4_change',\n",
    "'ros_diff_5_change',\n",
    "'ros_difficulty',\n",
    "'ros_skill_EM_change',\n",
    "'ros_skill_NC_change',\n",
    "'ros_skill_OS_change',\n",
    "'ros_ts_attempt_var',\n",
    "'ros_games_session_change',\n",
    "'ros_in_game_change',\n",
    "'ros_mistakes_session_change',\n",
    "'ros_mistakes_game_change',\n",
    "'ros_skill',\n",
    "'ros_ts_game_start_var',\n",
    "'ros_ts_robot_talked_var',\n",
    "'ros_game_correct',\n",
    "'ros_game_incorrect',\n",
    "'ros_game_start',\n",
    "'ros_mistake_made',\n",
    "]\n",
    "\n",
    "for i, d in enumerate(data):\n",
    "    data[i] = d.drop(columns=remove)"
   ]
  },
  {
   "cell_type": "code",
   "execution_count": 73,
   "metadata": {},
   "outputs": [],
   "source": [
    "# Remove rows where engagment NaN\n",
    "for i,d in enumerate(data):\n",
    "    data[i] = d[np.isfinite(d['engagement'])]\n",
    "    \n",
    "# Remove rows where engagment is -1\n",
    "for i,d in enumerate(data):\n",
    "    data[i] = d[d['engagement']>=0]"
   ]
  },
  {
   "cell_type": "markdown",
   "metadata": {},
   "source": [
    "# 2 -- Choose Feature Set"
   ]
  },
  {
   "cell_type": "markdown",
   "metadata": {},
   "source": [
    "Feature Dictionary: https://docs.google.com/spreadsheets/d/1ewoVPHwW68Ins0AOVZf-0lsl_wW0_ZzuByuDiNJETBY/edit?usp=sharing"
   ]
  },
  {
   "cell_type": "markdown",
   "metadata": {},
   "source": [
    "### Data Overview"
   ]
  },
  {
   "cell_type": "code",
   "execution_count": 74,
   "metadata": {},
   "outputs": [
    {
     "name": "stdout",
     "output_type": "stream",
     "text": [
      "engagement\n",
      "participant\n",
      "session_num\n",
      "timestamp\n"
     ]
    }
   ],
   "source": [
    "# Main Columns\n",
    "basic_cols = []\n",
    "for i in data[0].columns:\n",
    "    if 'of_' not in i and 'op_' not in i and 'ros_' not in i and 'a_' not in i:\n",
    "        basic_cols.append(i)\n",
    "        \n",
    "basic_cols = sorted(basic_cols)\n",
    "for i in basic_cols:\n",
    "    print(i)"
   ]
  },
  {
   "cell_type": "code",
   "execution_count": 75,
   "metadata": {},
   "outputs": [
    {
     "name": "stdout",
     "output_type": "stream",
     "text": [
      "of_AU01_c\n",
      "of_AU02_c\n",
      "of_AU04_c\n",
      "of_AU05_c\n",
      "of_AU06_c\n",
      "of_AU07_c\n",
      "of_AU09_c\n",
      "of_AU10_c\n",
      "of_AU12_c\n",
      "of_AU14_c\n",
      "of_AU15_c\n",
      "of_AU17_c\n",
      "of_AU20_c\n",
      "of_AU23_c\n",
      "of_AU25_c\n",
      "of_AU26_c\n",
      "of_AU28_c\n",
      "of_AU45_c\n",
      "of_confidence\n",
      "of_gaze_0_x\n",
      "of_gaze_0_y\n",
      "of_gaze_0_z\n",
      "of_gaze_1_x\n",
      "of_gaze_1_y\n",
      "of_gaze_1_z\n",
      "of_gaze_angle_x\n",
      "of_gaze_angle_y\n",
      "of_gaze_distance\n",
      "of_gaze_distance_x\n",
      "of_gaze_distance_y\n",
      "of_pose_Rx\n",
      "of_pose_Ry\n",
      "of_pose_Rz\n",
      "of_pose_Tx\n",
      "of_pose_Ty\n",
      "of_pose_Tz\n",
      "of_pose_distance\n",
      "of_success\n",
      "of_ts_success\n",
      "op_num_people\n"
     ]
    }
   ],
   "source": [
    "# Open Face Columns\n",
    "\n",
    "of_cols = []\n",
    "for i in data[0].columns:\n",
    "    if ('of_' in i or 'op_' in i) and '_change' not in i and '_var' not in i:\n",
    "        of_cols.append(i)\n",
    "        \n",
    "of_cols = sorted(of_cols)\n",
    "for i in of_cols:\n",
    "    print(i)"
   ]
  },
  {
   "cell_type": "code",
   "execution_count": 76,
   "metadata": {},
   "outputs": [
    {
     "name": "stdout",
     "output_type": "stream",
     "text": [
      "a_harmonicity\n",
      "a_intensity\n",
      "a_mfcc_0\n",
      "a_mfcc_1\n",
      "a_pitch_frequency\n",
      "a_pitch_strength\n"
     ]
    }
   ],
   "source": [
    "# Audio Columns\n",
    "\n",
    "a_cols = []\n",
    "for i in data[0].columns:\n",
    "    if 'a_' in i and '_change' not in i and '_var' not in i:\n",
    "        a_cols.append(i)\n",
    "        \n",
    "a_cols = sorted(a_cols)\n",
    "for i in a_cols:\n",
    "    print(i)"
   ]
  },
  {
   "cell_type": "code",
   "execution_count": 77,
   "metadata": {},
   "outputs": [
    {
     "name": "stdout",
     "output_type": "stream",
     "text": [
      "ros_aptitude\n",
      "ros_diff_1\n",
      "ros_diff_2\n",
      "ros_diff_3\n",
      "ros_diff_4\n",
      "ros_diff_5\n",
      "ros_games_session\n",
      "ros_in_game\n",
      "ros_mistakes_game\n",
      "ros_mistakes_session\n",
      "ros_skill_EM\n",
      "ros_skill_NC\n",
      "ros_skill_OS\n",
      "ros_ts_attempt\n",
      "ros_ts_game_start\n",
      "ros_ts_robot_talked\n"
     ]
    }
   ],
   "source": [
    "# ROS Columns\n",
    "\n",
    "ros_cols = []\n",
    "for i in data[0].columns:\n",
    "    if 'ros_' in i and '_change' not in i and '_var' not in i:\n",
    "        ros_cols.append(i)\n",
    "        \n",
    "ros_cols = sorted(ros_cols)\n",
    "for i in ros_cols:\n",
    "    print(i)"
   ]
  },
  {
   "cell_type": "code",
   "execution_count": 78,
   "metadata": {},
   "outputs": [
    {
     "name": "stdout",
     "output_type": "stream",
     "text": [
      "a_harmonicity_var\n",
      "a_intensity_var\n",
      "a_mfcc_0_var\n",
      "a_mfcc_1_var\n",
      "a_pitch_frequency_var\n",
      "a_pitch_strength_var\n",
      "of_AU01_c_change\n",
      "of_AU02_c_change\n",
      "of_AU04_c_change\n",
      "of_AU05_c_change\n",
      "of_AU06_c_change\n",
      "of_AU07_c_change\n",
      "of_AU09_c_change\n",
      "of_AU10_c_change\n",
      "of_AU12_c_change\n",
      "of_AU14_c_change\n",
      "of_AU15_c_change\n",
      "of_AU17_c_change\n",
      "of_AU20_c_change\n",
      "of_AU23_c_change\n",
      "of_AU25_c_change\n",
      "of_AU26_c_change\n",
      "of_AU28_c_change\n",
      "of_AU45_c_change\n",
      "of_confidence_var\n",
      "of_gaze_0_x_var\n",
      "of_gaze_0_y_var\n",
      "of_gaze_0_z_var\n",
      "of_gaze_1_x_var\n",
      "of_gaze_1_y_var\n",
      "of_gaze_1_z_var\n",
      "of_gaze_angle_x_var\n",
      "of_gaze_angle_y_var\n",
      "of_gaze_distance_var\n",
      "of_gaze_distance_x_var\n",
      "of_gaze_distance_y_var\n",
      "of_pose_Rx_var\n",
      "of_pose_Ry_var\n",
      "of_pose_Rz_var\n",
      "of_pose_Tx_var\n",
      "of_pose_Ty_var\n",
      "of_pose_Tz_var\n",
      "of_pose_distance_var\n",
      "of_success_change\n",
      "of_ts_success_var\n",
      "op_num_people_change\n",
      "ros_aptitude_var\n"
     ]
    }
   ],
   "source": [
    "# For Window Only:\n",
    "non_window_features = []\n",
    "window_features = []\n",
    "for i in data[0].columns:\n",
    "    if i not in basic_cols:\n",
    "        if 'change' in i or 'var' in i:\n",
    "            window_features.append(i)\n",
    "        else:\n",
    "            non_window_features.append(i)\n",
    "        \n",
    "window_features = sorted(window_features)\n",
    "for i in window_features:\n",
    "    print(i)"
   ]
  },
  {
   "cell_type": "code",
   "execution_count": 79,
   "metadata": {},
   "outputs": [],
   "source": [
    "# Columns where NaNs filled with max value\n",
    "nan_max_cols = ['of_gaze_0_x',\n",
    "'of_gaze_0_y',\n",
    "'of_gaze_0_z',\n",
    "'of_gaze_1_x',\n",
    "'of_gaze_1_y',\n",
    "'of_gaze_1_z',\n",
    "'of_gaze_angle_x',\n",
    "'of_gaze_angle_y',\n",
    "'of_gaze_distance',\n",
    "'of_gaze_distance_x',\n",
    "'of_gaze_distance_y',\n",
    "'of_pose_Rxv',\n",
    "'of_pose_Ry',\n",
    "'of_pose_Rz',\n",
    "'of_pose_Tx',\n",
    "'of_pose_Ty',\n",
    "'of_pose_Tz',\n",
    "'of_pose_distance']"
   ]
  },
  {
   "cell_type": "code",
   "execution_count": 80,
   "metadata": {},
   "outputs": [],
   "source": [
    "# Key Features (from feature analysis) \n",
    "# Note: Timestamp automatically included\n",
    "\n",
    "key_features = [\n",
    "'op_num_people',\n",
    "'of_pose_distance',\n",
    "'of_gaze_distance',\n",
    "'of_confidence',\n",
    "'ros_mistakes_session',\n",
    "'ros_ts_robot_talked',\n",
    "'of_gaze_distance_x',\n",
    "'of_gaze_distance_y']"
   ]
  },
  {
   "cell_type": "markdown",
   "metadata": {},
   "source": [
    "### Filter Feature Set (Optional)"
   ]
  },
  {
   "cell_type": "code",
   "execution_count": 81,
   "metadata": {},
   "outputs": [],
   "source": [
    "# always include basic_cols, add desired group of features \n",
    "# features_to_keep = all_data.columns\n",
    "\n",
    "if use_key_features:\n",
    "    features_to_keep = basic_cols + key_features\n",
    "else:\n",
    "    features_to_keep = basic_cols + of_cols + ros_cols + a_cols + window_features\n",
    "\n",
    "for i,d in enumerate(data):\n",
    "    data[i] = d[features_to_keep]"
   ]
  },
  {
   "cell_type": "markdown",
   "metadata": {},
   "source": [
    "# 3 -- Scenario Based Modeling"
   ]
  },
  {
   "cell_type": "markdown",
   "metadata": {},
   "source": [
    "- Open Face Success / Failure\n",
    "- Robot Talking / Not Talking\n",
    "- First 10 Minutes / After 10 Minutes"
   ]
  },
  {
   "cell_type": "code",
   "execution_count": 82,
   "metadata": {},
   "outputs": [],
   "source": [
    "# Create Separate Models for Different Scenarios\n",
    "\n",
    "# for i,d in enumerate(data):\n",
    "#     # Open Face Success/Failure\n",
    "#     data[i] = d.loc[d['of_success']==1]\n",
    "#     data[i] = d.loc[d['of_success']==0]\n",
    "    \n",
    "#     # Robot Talking/Not Talking\n",
    "#     data[i] = d.loc[d['ros_ts_robot_talked']==0]\n",
    "#     data[i] = d.loc[d['ros_ts_robot_talked']>0]\n",
    "    \n",
    "#     # First 10 Min/After 10 Min\n",
    "#     data[i] = d.loc[d['timestamp']<=(10*60)]\n",
    "#     data[i] = d.loc[d['timestamp']>(10*60)]"
   ]
  },
  {
   "cell_type": "markdown",
   "metadata": {},
   "source": [
    "# 4 -- Modeling"
   ]
  },
  {
   "cell_type": "code",
   "execution_count": 83,
   "metadata": {},
   "outputs": [],
   "source": [
    "# Helper Function: Split a Participant's Data Chronologically \n",
    "\n",
    "def part_split(split, split_size):\n",
    "    split = split.sort_values(['session_num', 'timestamp'], ascending=[True, True])\n",
    "    bogus = split['engagement']\n",
    "\n",
    "    split_train, split_test, bogus1, bogus2 = train_test_split(split, bogus, test_size=split_size, shuffle=False)\n",
    "    return split_train, split_test"
   ]
  },
  {
   "cell_type": "code",
   "execution_count": 84,
   "metadata": {},
   "outputs": [],
   "source": [
    "# Function: Formulate Train-Test Split \n",
    "# Includes Preprocessing & Shuffle \n",
    "\n",
    "# train_part: an array of participants \n",
    "# test_part: an array of participants\n",
    "# split_size: how much of each test participant's data to use for training\n",
    "def split(p, split_size):\n",
    "    train_data, test_data = part_split(data[part.index(p)].copy(), 1-split_size) \n",
    "            \n",
    "    y_train = train_data['engagement']\n",
    "    X_train = train_data.drop(columns=['engagement', 'session_num', 'participant', 'timestamp'])\n",
    "    y_test = test_data['engagement']\n",
    "    X_test = test_data.drop(columns=['engagement', 'session_num', 'participant', 'timestamp'])        \n",
    "\n",
    "    # Sort Training Data Together \n",
    "    X_train, bogus1, y_train, bogus2 = train_test_split(X_train, y_train, test_size=0.0, shuffle=True)\n",
    "    X_train, bogus1, y_train, bogus2 = train_test_split(X_train, y_train, test_size=0.0, shuffle=True)\n",
    "    X_train, bogus1, y_train, bogus2 = train_test_split(X_train, y_train, test_size=0.0, shuffle=True)\n",
    "    X_train, bogus1, y_train, bogus2 = train_test_split(X_train, y_train, test_size=0.0, shuffle=True)\n",
    "    X_train, bogus1, y_train, bogus2 = train_test_split(X_train, y_train, test_size=0.0, shuffle=True)\n",
    "\n",
    "    # Preprocessing: Standardization\n",
    "    # x' = ( x - mean(x) ) / ( stdev(x) )\n",
    "    # => x' is z-score, NaN's filled with min_val\n",
    "    for c in X_train.columns:\n",
    "        mean = np.nanmean(X_train[c])\n",
    "        std = np.nanstd(X_train[c])\n",
    "\n",
    "        if std == 0:\n",
    "            X_train[c] = (X_train[c]-mean)\n",
    "            X_test[c] = (X_test[c]-mean)\n",
    "        else:\n",
    "            X_train[c] = (X_train[c]-mean)/(std)\n",
    "            X_test[c] = (X_test[c]-mean)/(std)\n",
    "\n",
    "        if c not in nan_max_cols:\n",
    "            min_val = np.nanmin(X_train[c])\n",
    "\n",
    "            X_train[c] = X_train[c].fillna(min_val)\n",
    "            X_test[c] = X_test[c].fillna(min_val)\n",
    "        else:\n",
    "            max_val = np.nanmax(X_train[c])\n",
    "\n",
    "            X_train[c] = X_train[c].fillna(max_val)\n",
    "            X_test[c] = X_test[c].fillna(max_val) \n",
    "\n",
    "    return X_train, y_train, X_test, y_test"
   ]
  },
  {
   "cell_type": "code",
   "execution_count": 85,
   "metadata": {},
   "outputs": [],
   "source": [
    "# MODEL HERE\n",
    "\n",
    "# Inputs: X_train, y_train, X_test, y_test, hp, isVerbose\n",
    "# hp = Hyperparameter Dictionary, isVerbose = whether to return all accuracy metrics\n",
    "\n",
    "# Output: Accuracy Metrics as Dictionary \n",
    "\n",
    "# IMPORTS HERE\n",
    "from sklearn.ensemble import BaggingClassifier\n",
    "from sklearn import neighbors\n",
    "\n",
    "def model(X_train, y_train, X_test, y_test):\n",
    "    # Model Here: must create pred & scores arrays\n",
    "    clf = neighbors.KNeighborsClassifier(n_neighbors=5, weights='distance')\n",
    "    \n",
    "    clf.fit(X_train, y_train)\n",
    "    \n",
    "    scores = clf.predict_proba(X_test.values)[:,1]\n",
    "    pred = [round(value) for value in scores]   \n",
    "\n",
    "    # Evaluation\n",
    "    results = {}\n",
    "    accuracy = accuracy_score(y_test, pred)\n",
    "    results['accuracy'] = accuracy\n",
    "    \n",
    "    try:\n",
    "        auc = roc_auc_score(y_test, scores)\n",
    "    except:\n",
    "        auc = np.nan\n",
    "    results['auc'] = auc\n",
    "\n",
    "    precision = metrics.precision_score(y_test, pred, average=None)\n",
    "    recall = metrics.recall_score(y_test, pred, average=None)\n",
    "    f1 = metrics.f1_score(y_test, pred, average=None)\n",
    "\n",
    "    results['precision_0'], results['precision_1'] = precision[0], precision[1]\n",
    "    results['recall_0'], results['recall_1'] = recall[0], recall[1]\n",
    "    results['f1_0'], results['f1_1'] = f1[0], f1[1]\n",
    "    \n",
    "    return results"
   ]
  },
  {
   "cell_type": "code",
   "execution_count": 86,
   "metadata": {},
   "outputs": [
    {
     "name": "stdout",
     "output_type": "stream",
     "text": [
      "\n",
      "5\n",
      "0.1\n",
      "{'precision_0': 0.5384615384615384, 'recall_0': 0.0034465780403741997, 'f1_1': 0.9044076097193445, 'accuracy': 0.8256013745704467, 'auc': 0.5643245687268301, 'f1_0': 0.006849315068493151, 'recall_1': 0.9993755853886981, 'precision_1': 0.825922421948912}\n",
      "0.2\n",
      "{'precision_0': 0.3931888544891641, 'recall_0': 0.06576903158984981, 'f1_1': 0.8915401301518437, 'accuracy': 0.8067072581424567, 'auc': 0.579976636940217, 'f1_0': 0.1126885536823425, 'recall_1': 0.9767110266159695, 'precision_1': 0.8200319233838786}\n",
      "0.3\n",
      "{'precision_0': 0.3865546218487395, 'recall_0': 0.024797843665768194, 'f1_1': 0.8833519276062972, 'accuracy': 0.792136072454164, 'auc': 0.6031650098153045, 'f1_0': 0.04660587639311043, 'recall_1': 0.9898597027364912, 'precision_1': 0.7975377728035814}\n",
      "0.4\n",
      "{'precision_0': 0.45348837209302323, 'recall_0': 0.021860986547085202, 'f1_1': 0.8687179487179487, 'accuracy': 0.7690721649484537, 'auc': 0.5825909204831283, 'f1_0': 0.04171122994652406, 'recall_1': 0.9921352074966533, 'precision_1': 0.7726088089653375}\n",
      "0.5\n",
      "{'precision_0': 0.6104651162790697, 'recall_0': 0.06158357771260997, 'f1_1': 0.8492357782400288, 'accuracy': 0.7422297819700016, 'auc': 0.6018698863559386, 'f1_0': 0.11188066062866278, 'recall_1': 0.9859302813943721, 'precision_1': 0.7458300238284352}\n",
      "\n",
      "7\n",
      "0.1\n",
      "{'precision_0': 0.6865761086695965, 'recall_0': 0.44451629591308844, 'f1_1': 0.7503618561089826, 'accuracy': 0.6762724964116154, 'auc': 0.6630518761679427, 'f1_0': 0.5396451562254672, 'recall_1': 0.8488730495087652, 'precision_1': 0.6723375038144644}\n",
      "0.2\n",
      "{'precision_0': 0.6888786764705882, 'recall_0': 0.5231198743674751, 'f1_1': 0.8152267281522672, 'accuracy': 0.7461648344823303, 'auc': 0.7624395364869233, 'f1_0': 0.5946642864226916, 'recall_1': 0.8694310511089681, 'precision_1': 0.7673844582517662}\n",
      "0.3\n",
      "{'precision_0': 0.7104795737122558, 'recall_0': 0.3876720294630742, 'f1_1': 0.8033062759849534, 'accuracy': 0.7179359784228831, 'auc': 0.6926262761323181, 'f1_0': 0.5016302984700276, 'recall_1': 0.9087346024636058, 'precision_1': 0.7197977647684939}\n",
      "0.4\n",
      "{'precision_0': 0.7538389948813402, 'recall_0': 0.34055076729030903, 'f1_1': 0.7874289690362982, 'accuracy': 0.6964226565087778, 'auc': 0.7002573464987834, 'f1_0': 0.4691572545612511, 'recall_1': 0.9277223664435033, 'precision_1': 0.6839931499949632}\n",
      "0.5\n",
      "{'precision_0': 0.7233134073441503, 'recall_0': 0.3968142422112907, 'f1_1': 0.7615242323344433, 'accuracy': 0.6797177779986088, 'auc': 0.7273336008130478, 'f1_0': 0.5124792013311148, 'recall_1': 0.8881601656886434, 'precision_1': 0.666493977464059}\n",
      "\n",
      "9\n",
      "0.1\n",
      "{'precision_0': 0.7635446685878963, 'recall_0': 0.5053404539385847, 'f1_1': 0.7036458333333333, 'accuracy': 0.6625315079325854, 'auc': 0.7310562514860766, 'f1_0': 0.6081716974635601, 'recall_1': 0.8316405047706987, 'precision_1': 0.6097946287519748}\n",
      "0.2\n",
      "{'precision_0': 0.8374312520219993, 'recall_0': 0.5174412793603198, 'f1_1': 0.7051508871253096, 'accuracy': 0.6756741729218794, 'auc': 0.7533398213174114, 'f1_0': 0.6396491011305369, 'recall_1': 0.8740601503759399, 'precision_1': 0.5909514530204185}\n",
      "0.3\n",
      "{'precision_0': 0.8424669922228251, 'recall_0': 0.5018855726753583, 'f1_1': 0.6703072491598656, 'accuracy': 0.6508864459553918, 'auc': 0.7687203086557965, 'f1_0': 0.6290344361917624, 'recall_1': 0.865086741016109, 'precision_1': 0.5471199059561128}\n",
      "0.4\n",
      "{'precision_0': 0.8771757783770532, 'recall_0': 0.42840038314176243, 'f1_1': 0.6373822781329485, 'accuracy': 0.6089406182815628, 'auc': 0.7400802890643121, 'f1_0': 0.5756576301182528, 'recall_1': 0.9024722600739732, 'precision_1': 0.4926673751328374}\n",
      "0.5\n",
      "{'precision_0': 0.8887536514118792, 'recall_0': 0.5376233249889559, 'f1_1': 0.6894586894586895, 'accuracy': 0.6800106752068321, 'auc': 0.7744280682132167, 'f1_0': 0.6699697219928433, 'recall_1': 0.8973033707865169, 'precision_1': 0.5597925136688631}\n",
      "\n",
      "11\n",
      "0.1\n",
      "{'precision_0': 0.4627263045793397, 'recall_0': 0.4961933764750666, 'f1_1': 0.8141256633689314, 'accuracy': 0.7259863814169122, 'auc': 0.7057329688946413, 'f1_0': 0.4788758265980897, 'recall_1': 0.8041157056882159, 'precision_1': 0.8243879785046109}\n",
      "0.2\n",
      "{'precision_0': 0.4830669195340016, 'recall_0': 0.3553916683276859, 'f1_1': 0.8170367207514945, 'accuracy': 0.7206345756818429, 'auc': 0.6870883152930198, 'f1_0': 0.4095084979329352, 'recall_1': 0.8574949585480618, 'precision_1': 0.780224260958206}\n",
      "0.3\n",
      "{'precision_0': 0.5607160135462023, 'recall_0': 0.2430788590604027, 'f1_1': 0.8219901477832513, 'accuracy': 0.7195280968643278, 'auc': 0.6786172854607441, 'f1_0': 0.33913679590343815, 'recall_1': 0.919908264973097, 'precision_1': 0.742912095740134}\n",
      "0.4\n",
      "{'precision_0': 0.5986189037548554, 'recall_0': 0.3361609306834707, 'f1_1': 0.8266641470213067, 'accuracy': 0.734226729445853, 'auc': 0.7224296425185437, 'f1_0': 0.4305447772776657, 'recall_1': 0.9039156937700176, 'precision_1': 0.7615772980501393}\n",
      "0.5\n",
      "{'precision_0': 0.5270327799063431, 'recall_0': 0.381392483056069, 'f1_1': 0.8208809510136105, 'accuracy': 0.7288769123783032, 'auc': 0.711396812769693, 'f1_0': 0.4425379803395889, 'recall_1': 0.8654637926858804, 'precision_1': 0.7806663025669033}\n",
      "\n",
      "12\n",
      "0.1\n",
      "{'precision_0': 0.8028518288902666, 'recall_0': 0.23831431726168567, 'f1_1': 0.7881553305765484, 'accuracy': 0.6826176742861212, 'auc': 0.6964051516646415, 'f1_0': 0.36753228324109544, 'recall_1': 0.9630619119526077, 'precision_1': 0.6670152855993564}\n",
      "0.2\n",
      "{'precision_0': 0.7876195269250126, 'recall_0': 0.3031183420491962, 'f1_1': 0.7743601257296812, 'accuracy': 0.6779620283585677, 'auc': 0.7036918056071522, 'f1_0': 0.43776223776223766, 'recall_1': 0.9423497267759563, 'precision_1': 0.657202743902439}\n",
      "0.3\n",
      "{'precision_0': 0.7413993042133745, 'recall_0': 0.43266411008346495, 'f1_1': 0.7852421421826521, 'accuracy': 0.7085049894717569, 'auc': 0.7425532070196318, 'f1_0': 0.5464387464387465, 'recall_1': 0.8969183359013867, 'precision_1': 0.6982965451055663}\n",
      "0.4\n",
      "{'precision_0': 0.7247740963855421, 'recall_0': 0.4887027164254887, 'f1_1': 0.7736829087311403, 'accuracy': 0.706793420209357, 'auc': 0.7465804233723419, 'f1_0': 0.5837755875663381, 'recall_1': 0.8652037617554859, 'precision_1': 0.6996719355800776}\n",
      "0.5\n",
      "{'precision_0': 0.7354954954954955, 'recall_0': 0.65103668261563, 'f1_1': 0.8114297503610481, 'accuracy': 0.7657011022814663, 'auc': 0.8222862071711214, 'f1_0': 0.6906937394247039, 'recall_1': 0.8427255196057425, 'precision_1': 0.7823751740600756}\n",
      "\n",
      "17\n",
      "0.1\n",
      "{'precision_0': 0.7850807368660451, 'recall_0': 0.5795836131631967, 'f1_1': 0.7259871295781362, 'accuracy': 0.6993025283347863, 'auc': 0.7611010090195955, 'f1_0': 0.6668598473872307, 'recall_1': 0.8286180631120783, 'precision_1': 0.6459776615297611}\n",
      "0.2\n",
      "{'precision_0': 0.7868762062310449, 'recall_0': 0.5481083157288266, 'f1_1': 0.7295379823498875, 'accuracy': 0.6934091800706159, 'auc': 0.7531029567141045, 'f1_0': 0.646139913968757, 'recall_1': 0.8450591300861896, 'precision_1': 0.6418024052367179}\n",
      "0.3\n",
      "{'precision_0': 0.7659297789336801, 'recall_0': 0.5232067510548524, 'f1_1': 0.7206469843125792, 'accuracy': 0.6786234727048537, 'auc': 0.7704306982307555, 'f1_0': 0.6217179047367727, 'recall_1': 0.8370303304662743, 'precision_1': 0.63267750213858}\n",
      "0.4\n",
      "{'precision_0': 0.7341167829599706, 'recall_0': 0.4975111996017919, 'f1_1': 0.67929381503566, 'accuracy': 0.6412972407480058, 'auc': 0.7289693623115928, 'f1_0': 0.5930870790683874, 'recall_1': 0.8004960044089281, 'precision_1': 0.5899675060926076}\n",
      "0.5\n",
      "{'precision_0': 0.7617493472584856, 'recall_0': 0.3340967649584884, 'f1_1': 0.6513797123979791, 'accuracy': 0.577683615819209, 'auc': 0.7082045299351742, 'f1_0': 0.4644776119402985, 'recall_1': 0.8732198680097256, 'precision_1': 0.5194214876033058}\n",
      "\n",
      "18\n",
      "0.1\n",
      "{'precision_0': 0.43992248062015504, 'recall_0': 0.22287677957781052, 'f1_1': 0.8441061895830327, 'accuracy': 0.744728604335243, 'auc': 0.6424216664644881, 'f1_0': 0.295861844248941, 'recall_1': 0.910087889865443, 'precision_1': 0.7870451335171857}\n",
      "0.2\n",
      "{'precision_0': 0.4732142857142857, 'recall_0': 0.09525032092426187, 'f1_1': 0.8451280437433618, 'accuracy': 0.738405315614618, 'auc': 0.574884130662062, 'f1_0': 0.1585808933532806, 'recall_1': 0.9629762438368444, 'precision_1': 0.7529791111734193}\n",
      "0.3\n",
      "{'precision_0': 0.48601864181091875, 'recall_0': 0.09929270946681175, 'f1_1': 0.831271963853772, 'accuracy': 0.7192649403903105, 'auc': 0.5633216136464794, 'f1_0': 0.16489722159475942, 'recall_1': 0.9593384599178342, 'precision_1': 0.7333709131905298}\n",
      "0.4\n"
     ]
    },
    {
     "name": "stdout",
     "output_type": "stream",
     "text": [
      "{'precision_0': 0.4568306010928962, 'recall_0': 0.12225797016671541, 'f1_1': 0.8082447100098673, 'accuracy': 0.6901133947554926, 'auc': 0.5730065936763344, 'f1_0': 0.19289340101522842, 'recall_1': 0.9368407675689414, 'precision_1': 0.7106912175841126}\n",
      "0.5\n",
      "{'precision_0': 0.512249443207127, 'recall_0': 0.155668358714044, 'f1_1': 0.803930744033692, 'accuracy': 0.6881777588773124, 'auc': 0.5967076288491062, 'f1_0': 0.23877498053464832, 'recall_1': 0.9321035498372345, 'precision_1': 0.7067465914433474}\n"
     ]
    }
   ],
   "source": [
    "all_results = []\n",
    "for p in part:\n",
    "    print()\n",
    "    print(p)\n",
    "    for train_percent in training_iterations:\n",
    "        print(train_percent)\n",
    "        new_results = {}\n",
    "        \n",
    "        # Train - Test Split (and preprocessing)\n",
    "        X_train, y_train, X_test, y_test = split(p, train_percent)\n",
    "        X_train = X_train.reset_index(drop=True)\n",
    "        y_train = y_train.reset_index(drop=True)\n",
    "        \n",
    "        # Evaluate on Test  \n",
    "        results = model(X_train, y_train, X_test, y_test)\n",
    "        print(results)\n",
    "        results['participant'] = p\n",
    "        results['train_percent'] = train_percent\n",
    "        all_results.append(results)"
   ]
  },
  {
   "cell_type": "code",
   "execution_count": 87,
   "metadata": {},
   "outputs": [],
   "source": [
    "results = pd.DataFrame(columns=['participant', 'train_percent', 'accuracy', 'auc', 'precision_0', 'precision_1', 'recall_0', 'recall_1', 'f1_0', 'f1_1'])\n",
    "results = results.append(all_results, ignore_index=True, sort=True)"
   ]
  },
  {
   "cell_type": "code",
   "execution_count": 88,
   "metadata": {},
   "outputs": [
    {
     "data": {
      "text/html": [
       "<div>\n",
       "<style scoped>\n",
       "    .dataframe tbody tr th:only-of-type {\n",
       "        vertical-align: middle;\n",
       "    }\n",
       "\n",
       "    .dataframe tbody tr th {\n",
       "        vertical-align: top;\n",
       "    }\n",
       "\n",
       "    .dataframe thead th {\n",
       "        text-align: right;\n",
       "    }\n",
       "</style>\n",
       "<table border=\"1\" class=\"dataframe\">\n",
       "  <thead>\n",
       "    <tr style=\"text-align: right;\">\n",
       "      <th></th>\n",
       "      <th>accuracy</th>\n",
       "      <th>auc</th>\n",
       "      <th>f1_0</th>\n",
       "      <th>f1_1</th>\n",
       "      <th>participant</th>\n",
       "      <th>precision_0</th>\n",
       "      <th>precision_1</th>\n",
       "      <th>recall_0</th>\n",
       "      <th>recall_1</th>\n",
       "      <th>train_percent</th>\n",
       "    </tr>\n",
       "  </thead>\n",
       "  <tbody>\n",
       "    <tr>\n",
       "      <th>0</th>\n",
       "      <td>0.825601</td>\n",
       "      <td>0.564325</td>\n",
       "      <td>0.006849</td>\n",
       "      <td>0.904408</td>\n",
       "      <td>5</td>\n",
       "      <td>0.538462</td>\n",
       "      <td>0.825922</td>\n",
       "      <td>0.003447</td>\n",
       "      <td>0.999376</td>\n",
       "      <td>0.1</td>\n",
       "    </tr>\n",
       "    <tr>\n",
       "      <th>1</th>\n",
       "      <td>0.806707</td>\n",
       "      <td>0.579977</td>\n",
       "      <td>0.112689</td>\n",
       "      <td>0.891540</td>\n",
       "      <td>5</td>\n",
       "      <td>0.393189</td>\n",
       "      <td>0.820032</td>\n",
       "      <td>0.065769</td>\n",
       "      <td>0.976711</td>\n",
       "      <td>0.2</td>\n",
       "    </tr>\n",
       "    <tr>\n",
       "      <th>2</th>\n",
       "      <td>0.792136</td>\n",
       "      <td>0.603165</td>\n",
       "      <td>0.046606</td>\n",
       "      <td>0.883352</td>\n",
       "      <td>5</td>\n",
       "      <td>0.386555</td>\n",
       "      <td>0.797538</td>\n",
       "      <td>0.024798</td>\n",
       "      <td>0.989860</td>\n",
       "      <td>0.3</td>\n",
       "    </tr>\n",
       "    <tr>\n",
       "      <th>3</th>\n",
       "      <td>0.769072</td>\n",
       "      <td>0.582591</td>\n",
       "      <td>0.041711</td>\n",
       "      <td>0.868718</td>\n",
       "      <td>5</td>\n",
       "      <td>0.453488</td>\n",
       "      <td>0.772609</td>\n",
       "      <td>0.021861</td>\n",
       "      <td>0.992135</td>\n",
       "      <td>0.4</td>\n",
       "    </tr>\n",
       "    <tr>\n",
       "      <th>4</th>\n",
       "      <td>0.742230</td>\n",
       "      <td>0.601870</td>\n",
       "      <td>0.111881</td>\n",
       "      <td>0.849236</td>\n",
       "      <td>5</td>\n",
       "      <td>0.610465</td>\n",
       "      <td>0.745830</td>\n",
       "      <td>0.061584</td>\n",
       "      <td>0.985930</td>\n",
       "      <td>0.5</td>\n",
       "    </tr>\n",
       "  </tbody>\n",
       "</table>\n",
       "</div>"
      ],
      "text/plain": [
       "   accuracy       auc      f1_0      f1_1 participant  precision_0  \\\n",
       "0  0.825601  0.564325  0.006849  0.904408           5     0.538462   \n",
       "1  0.806707  0.579977  0.112689  0.891540           5     0.393189   \n",
       "2  0.792136  0.603165  0.046606  0.883352           5     0.386555   \n",
       "3  0.769072  0.582591  0.041711  0.868718           5     0.453488   \n",
       "4  0.742230  0.601870  0.111881  0.849236           5     0.610465   \n",
       "\n",
       "   precision_1  recall_0  recall_1  train_percent  \n",
       "0     0.825922  0.003447  0.999376            0.1  \n",
       "1     0.820032  0.065769  0.976711            0.2  \n",
       "2     0.797538  0.024798  0.989860            0.3  \n",
       "3     0.772609  0.021861  0.992135            0.4  \n",
       "4     0.745830  0.061584  0.985930            0.5  "
      ]
     },
     "execution_count": 88,
     "metadata": {},
     "output_type": "execute_result"
    }
   ],
   "source": [
    "results.head()"
   ]
  },
  {
   "cell_type": "code",
   "execution_count": 89,
   "metadata": {},
   "outputs": [],
   "source": [
    "results.to_csv(output_file, index=False)"
   ]
  },
  {
   "cell_type": "code",
   "execution_count": null,
   "metadata": {},
   "outputs": [],
   "source": []
  }
 ],
 "metadata": {
  "kernelspec": {
   "display_name": "Python [conda env:caispp]",
   "language": "python",
   "name": "conda-env-caispp-py"
  },
  "language_info": {
   "codemirror_mode": {
    "name": "ipython",
    "version": 3
   },
   "file_extension": ".py",
   "mimetype": "text/x-python",
   "name": "python",
   "nbconvert_exporter": "python",
   "pygments_lexer": "ipython3",
   "version": "3.5.6"
  }
 },
 "nbformat": 4,
 "nbformat_minor": 2
}
