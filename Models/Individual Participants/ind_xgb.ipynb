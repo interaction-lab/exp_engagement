{
 "cells": [
  {
   "cell_type": "code",
   "execution_count": 33,
   "metadata": {},
   "outputs": [],
   "source": [
    "# Engagement Model Template: Individual Participants"
   ]
  },
  {
   "cell_type": "code",
   "execution_count": 34,
   "metadata": {},
   "outputs": [],
   "source": [
    "import pandas as pd\n",
    "import numpy as np\n",
    "from sklearn.model_selection import train_test_split\n",
    "from sklearn.metrics import roc_auc_score\n",
    "from sklearn.metrics import roc_auc_score\n",
    "from sklearn.metrics import accuracy_score\n",
    "from sklearn import metrics\n",
    "from itertools import combinations\n",
    "import itertools\n",
    "import json\n",
    "pd.options.mode.chained_assignment = None"
   ]
  },
  {
   "cell_type": "code",
   "execution_count": 35,
   "metadata": {},
   "outputs": [],
   "source": [
    "# Key Features: op_num_people, of_pose_distance, of_gaze_distance, of_confidence, ros_mistakes_session, ros_ts_robot_talked, timestamp\n",
    "use_key_features = False\n",
    "\n",
    "# Training Percentage\n",
    "training_iterations = [0.1, 0.2, 0.3, 0.4, 0.5]\n",
    "\n",
    "# Bagging\n",
    "num_estimators = 10\n",
    "sample_percentage = 0.75\n",
    "\n",
    "# File Name for Model Results\n",
    "output_file = 'ind_af_xgb_results.csv'"
   ]
  },
  {
   "cell_type": "markdown",
   "metadata": {},
   "source": [
    "# 1 -- Load Data"
   ]
  },
  {
   "cell_type": "code",
   "execution_count": 36,
   "metadata": {},
   "outputs": [],
   "source": [
    "# Windowed Data: 1 Second Overlapping Windows, Feature Median + Variance in Window \n",
    "p5_file = '../../../../../Google Drive File Stream/My Drive/USC Expeditions Year 5/Analysis/Engagement/Data/Master Window/p5_master_window.csv'\n",
    "p7_file = '../../../../../Google Drive File Stream/My Drive/USC Expeditions Year 5/Analysis/Engagement/Data/Master Window/p7_master_window.csv'\n",
    "p9_file = '../../../../../Google Drive File Stream/My Drive/USC Expeditions Year 5/Analysis/Engagement/Data/Master Window/p9_master_window.csv'\n",
    "p11_file = '../../../../../Google Drive File Stream/My Drive/USC Expeditions Year 5/Analysis/Engagement/Data/Master Window/p11_master_window.csv'\n",
    "p12_file = '../../../../../Google Drive File Stream/My Drive/USC Expeditions Year 5/Analysis/Engagement/Data/Master Window/p12_master_window.csv'\n",
    "p17_file = '../../../../../Google Drive File Stream/My Drive/USC Expeditions Year 5/Analysis/Engagement/Data/Master Window/p17_master_window.csv'\n",
    "p18_file = '../../../../../Google Drive File Stream/My Drive/USC Expeditions Year 5/Analysis/Engagement/Data/Master Window/p18_master_window.csv'\n",
    "\n",
    "data5 = pd.read_csv(p5_file)\n",
    "data7 = pd.read_csv(p7_file)\n",
    "data9 = pd.read_csv(p9_file)\n",
    "data11 = pd.read_csv(p11_file)\n",
    "data12 = pd.read_csv(p12_file)\n",
    "data17 = pd.read_csv(p17_file)\n",
    "data18 = pd.read_csv(p18_file)"
   ]
  },
  {
   "cell_type": "code",
   "execution_count": 37,
   "metadata": {},
   "outputs": [],
   "source": [
    "data = [data5, data7, data9, data11, data12, data17, data18]\n",
    "part = [5, 7, 9, 11, 12, 17, 18]"
   ]
  },
  {
   "cell_type": "code",
   "execution_count": 38,
   "metadata": {},
   "outputs": [],
   "source": [
    "remove = [\n",
    "'engagement_change',\n",
    "'ros_GAME_STATE',\n",
    "'ros_PARTICIPANT_STATE',\n",
    "'ros_ROBOT_STATE',\n",
    "'ros_activity',\n",
    "'ros_diff_1_change',\n",
    "'ros_diff_2_change',\n",
    "'ros_diff_3_change',\n",
    "'ros_diff_4_change',\n",
    "'ros_diff_5_change',\n",
    "'ros_difficulty',\n",
    "'ros_skill_EM_change',\n",
    "'ros_skill_NC_change',\n",
    "'ros_skill_OS_change',\n",
    "'ros_ts_attempt_var',\n",
    "'ros_games_session_change',\n",
    "'ros_in_game_change',\n",
    "'ros_mistakes_session_change',\n",
    "'ros_mistakes_game_change',\n",
    "'ros_skill',\n",
    "'ros_ts_game_start_var',\n",
    "'ros_ts_robot_talked_var',\n",
    "'ros_game_correct',\n",
    "'ros_game_incorrect',\n",
    "'ros_game_start',\n",
    "'ros_mistake_made',\n",
    "]\n",
    "\n",
    "for i, d in enumerate(data):\n",
    "    data[i] = d.drop(columns=remove)"
   ]
  },
  {
   "cell_type": "code",
   "execution_count": 39,
   "metadata": {},
   "outputs": [],
   "source": [
    "# Remove rows where engagment NaN\n",
    "for i,d in enumerate(data):\n",
    "    data[i] = d[np.isfinite(d['engagement'])]\n",
    "    \n",
    "# Remove rows where engagment is -1\n",
    "for i,d in enumerate(data):\n",
    "    data[i] = d[d['engagement']>=0]"
   ]
  },
  {
   "cell_type": "markdown",
   "metadata": {},
   "source": [
    "# 2 -- Choose Feature Set"
   ]
  },
  {
   "cell_type": "markdown",
   "metadata": {},
   "source": [
    "Feature Dictionary: https://docs.google.com/spreadsheets/d/1ewoVPHwW68Ins0AOVZf-0lsl_wW0_ZzuByuDiNJETBY/edit?usp=sharing"
   ]
  },
  {
   "cell_type": "markdown",
   "metadata": {},
   "source": [
    "### Data Overview"
   ]
  },
  {
   "cell_type": "code",
   "execution_count": 40,
   "metadata": {},
   "outputs": [
    {
     "name": "stdout",
     "output_type": "stream",
     "text": [
      "engagement\n",
      "participant\n",
      "session_num\n",
      "timestamp\n"
     ]
    }
   ],
   "source": [
    "# Main Columns\n",
    "basic_cols = []\n",
    "for i in data[0].columns:\n",
    "    if 'of_' not in i and 'op_' not in i and 'ros_' not in i and 'a_' not in i:\n",
    "        basic_cols.append(i)\n",
    "        \n",
    "basic_cols = sorted(basic_cols)\n",
    "for i in basic_cols:\n",
    "    print(i)"
   ]
  },
  {
   "cell_type": "code",
   "execution_count": 41,
   "metadata": {},
   "outputs": [
    {
     "name": "stdout",
     "output_type": "stream",
     "text": [
      "of_AU01_c\n",
      "of_AU02_c\n",
      "of_AU04_c\n",
      "of_AU05_c\n",
      "of_AU06_c\n",
      "of_AU07_c\n",
      "of_AU09_c\n",
      "of_AU10_c\n",
      "of_AU12_c\n",
      "of_AU14_c\n",
      "of_AU15_c\n",
      "of_AU17_c\n",
      "of_AU20_c\n",
      "of_AU23_c\n",
      "of_AU25_c\n",
      "of_AU26_c\n",
      "of_AU28_c\n",
      "of_AU45_c\n",
      "of_confidence\n",
      "of_gaze_0_x\n",
      "of_gaze_0_y\n",
      "of_gaze_0_z\n",
      "of_gaze_1_x\n",
      "of_gaze_1_y\n",
      "of_gaze_1_z\n",
      "of_gaze_angle_x\n",
      "of_gaze_angle_y\n",
      "of_gaze_distance\n",
      "of_gaze_distance_x\n",
      "of_gaze_distance_y\n",
      "of_pose_Rx\n",
      "of_pose_Ry\n",
      "of_pose_Rz\n",
      "of_pose_Tx\n",
      "of_pose_Ty\n",
      "of_pose_Tz\n",
      "of_pose_distance\n",
      "of_success\n",
      "of_ts_success\n",
      "op_num_people\n"
     ]
    }
   ],
   "source": [
    "# Open Face Columns\n",
    "\n",
    "of_cols = []\n",
    "for i in data[0].columns:\n",
    "    if ('of_' in i or 'op_' in i) and '_change' not in i and '_var' not in i:\n",
    "        of_cols.append(i)\n",
    "        \n",
    "of_cols = sorted(of_cols)\n",
    "for i in of_cols:\n",
    "    print(i)"
   ]
  },
  {
   "cell_type": "code",
   "execution_count": 42,
   "metadata": {},
   "outputs": [
    {
     "name": "stdout",
     "output_type": "stream",
     "text": [
      "a_harmonicity\n",
      "a_intensity\n",
      "a_mfcc_0\n",
      "a_mfcc_1\n",
      "a_pitch_frequency\n",
      "a_pitch_strength\n"
     ]
    }
   ],
   "source": [
    "# Audio Columns\n",
    "\n",
    "a_cols = []\n",
    "for i in data[0].columns:\n",
    "    if 'a_' in i and '_change' not in i and '_var' not in i:\n",
    "        a_cols.append(i)\n",
    "        \n",
    "a_cols = sorted(a_cols)\n",
    "for i in a_cols:\n",
    "    print(i)"
   ]
  },
  {
   "cell_type": "code",
   "execution_count": 43,
   "metadata": {},
   "outputs": [
    {
     "name": "stdout",
     "output_type": "stream",
     "text": [
      "ros_aptitude\n",
      "ros_diff_1\n",
      "ros_diff_2\n",
      "ros_diff_3\n",
      "ros_diff_4\n",
      "ros_diff_5\n",
      "ros_games_session\n",
      "ros_in_game\n",
      "ros_mistakes_game\n",
      "ros_mistakes_session\n",
      "ros_skill_EM\n",
      "ros_skill_NC\n",
      "ros_skill_OS\n",
      "ros_ts_attempt\n",
      "ros_ts_game_start\n",
      "ros_ts_robot_talked\n"
     ]
    }
   ],
   "source": [
    "# ROS Columns\n",
    "\n",
    "ros_cols = []\n",
    "for i in data[0].columns:\n",
    "    if 'ros_' in i and '_change' not in i and '_var' not in i:\n",
    "        ros_cols.append(i)\n",
    "        \n",
    "ros_cols = sorted(ros_cols)\n",
    "for i in ros_cols:\n",
    "    print(i)"
   ]
  },
  {
   "cell_type": "code",
   "execution_count": 44,
   "metadata": {},
   "outputs": [
    {
     "name": "stdout",
     "output_type": "stream",
     "text": [
      "a_harmonicity_var\n",
      "a_intensity_var\n",
      "a_mfcc_0_var\n",
      "a_mfcc_1_var\n",
      "a_pitch_frequency_var\n",
      "a_pitch_strength_var\n",
      "of_AU01_c_change\n",
      "of_AU02_c_change\n",
      "of_AU04_c_change\n",
      "of_AU05_c_change\n",
      "of_AU06_c_change\n",
      "of_AU07_c_change\n",
      "of_AU09_c_change\n",
      "of_AU10_c_change\n",
      "of_AU12_c_change\n",
      "of_AU14_c_change\n",
      "of_AU15_c_change\n",
      "of_AU17_c_change\n",
      "of_AU20_c_change\n",
      "of_AU23_c_change\n",
      "of_AU25_c_change\n",
      "of_AU26_c_change\n",
      "of_AU28_c_change\n",
      "of_AU45_c_change\n",
      "of_confidence_var\n",
      "of_gaze_0_x_var\n",
      "of_gaze_0_y_var\n",
      "of_gaze_0_z_var\n",
      "of_gaze_1_x_var\n",
      "of_gaze_1_y_var\n",
      "of_gaze_1_z_var\n",
      "of_gaze_angle_x_var\n",
      "of_gaze_angle_y_var\n",
      "of_gaze_distance_var\n",
      "of_gaze_distance_x_var\n",
      "of_gaze_distance_y_var\n",
      "of_pose_Rx_var\n",
      "of_pose_Ry_var\n",
      "of_pose_Rz_var\n",
      "of_pose_Tx_var\n",
      "of_pose_Ty_var\n",
      "of_pose_Tz_var\n",
      "of_pose_distance_var\n",
      "of_success_change\n",
      "of_ts_success_var\n",
      "op_num_people_change\n",
      "ros_aptitude_var\n"
     ]
    }
   ],
   "source": [
    "# For Window Only:\n",
    "non_window_features = []\n",
    "window_features = []\n",
    "for i in data[0].columns:\n",
    "    if i not in basic_cols:\n",
    "        if 'change' in i or 'var' in i:\n",
    "            window_features.append(i)\n",
    "        else:\n",
    "            non_window_features.append(i)\n",
    "        \n",
    "window_features = sorted(window_features)\n",
    "for i in window_features:\n",
    "    print(i)"
   ]
  },
  {
   "cell_type": "code",
   "execution_count": 45,
   "metadata": {},
   "outputs": [],
   "source": [
    "# Columns where NaNs filled with max value\n",
    "nan_max_cols = ['of_gaze_0_x',\n",
    "'of_gaze_0_y',\n",
    "'of_gaze_0_z',\n",
    "'of_gaze_1_x',\n",
    "'of_gaze_1_y',\n",
    "'of_gaze_1_z',\n",
    "'of_gaze_angle_x',\n",
    "'of_gaze_angle_y',\n",
    "'of_gaze_distance',\n",
    "'of_gaze_distance_x',\n",
    "'of_gaze_distance_y',\n",
    "'of_pose_Rxv',\n",
    "'of_pose_Ry',\n",
    "'of_pose_Rz',\n",
    "'of_pose_Tx',\n",
    "'of_pose_Ty',\n",
    "'of_pose_Tz',\n",
    "'of_pose_distance']"
   ]
  },
  {
   "cell_type": "code",
   "execution_count": 46,
   "metadata": {},
   "outputs": [],
   "source": [
    "# Key Features (from feature analysis) \n",
    "# Note: Timestamp automatically included\n",
    "\n",
    "key_features = [\n",
    "'op_num_people',\n",
    "'of_pose_distance',\n",
    "'of_gaze_distance',\n",
    "'of_confidence',\n",
    "'ros_mistakes_session',\n",
    "'ros_ts_robot_talked',\n",
    "'of_gaze_distance_x',\n",
    "'of_gaze_distance_y']"
   ]
  },
  {
   "cell_type": "markdown",
   "metadata": {},
   "source": [
    "### Filter Feature Set (Optional)"
   ]
  },
  {
   "cell_type": "code",
   "execution_count": 47,
   "metadata": {},
   "outputs": [],
   "source": [
    "# always include basic_cols, add desired group of features \n",
    "# features_to_keep = all_data.columns\n",
    "\n",
    "if use_key_features:\n",
    "    features_to_keep = basic_cols + key_features\n",
    "else:\n",
    "    features_to_keep = basic_cols + of_cols + ros_cols + a_cols + window_features\n",
    "\n",
    "for i,d in enumerate(data):\n",
    "    data[i] = d[features_to_keep]"
   ]
  },
  {
   "cell_type": "markdown",
   "metadata": {},
   "source": [
    "# 3 -- Scenario Based Modeling"
   ]
  },
  {
   "cell_type": "markdown",
   "metadata": {},
   "source": [
    "- Open Face Success / Failure\n",
    "- Robot Talking / Not Talking\n",
    "- First 10 Minutes / After 10 Minutes"
   ]
  },
  {
   "cell_type": "code",
   "execution_count": 48,
   "metadata": {},
   "outputs": [],
   "source": [
    "# Create Separate Models for Different Scenarios\n",
    "\n",
    "# for i,d in enumerate(data):\n",
    "#     # Open Face Success/Failure\n",
    "#     data[i] = d.loc[d['of_success']==1]\n",
    "#     data[i] = d.loc[d['of_success']==0]\n",
    "    \n",
    "#     # Robot Talking/Not Talking\n",
    "#     data[i] = d.loc[d['ros_ts_robot_talked']==0]\n",
    "#     data[i] = d.loc[d['ros_ts_robot_talked']>0]\n",
    "    \n",
    "#     # First 10 Min/After 10 Min\n",
    "#     data[i] = d.loc[d['timestamp']<=(10*60)]\n",
    "#     data[i] = d.loc[d['timestamp']>(10*60)]"
   ]
  },
  {
   "cell_type": "markdown",
   "metadata": {},
   "source": [
    "# 4 -- Modeling"
   ]
  },
  {
   "cell_type": "code",
   "execution_count": 49,
   "metadata": {},
   "outputs": [],
   "source": [
    "# Helper Function: Split a Participant's Data Chronologically \n",
    "\n",
    "def part_split(split, split_size):\n",
    "    split = split.sort_values(['session_num', 'timestamp'], ascending=[True, True])\n",
    "    bogus = split['engagement']\n",
    "\n",
    "    split_train, split_test, bogus1, bogus2 = train_test_split(split, bogus, test_size=split_size, shuffle=False)\n",
    "    return split_train, split_test"
   ]
  },
  {
   "cell_type": "code",
   "execution_count": 50,
   "metadata": {},
   "outputs": [],
   "source": [
    "# Function: Formulate Train-Test Split \n",
    "# Includes Preprocessing & Shuffle \n",
    "\n",
    "# train_part: an array of participants \n",
    "# test_part: an array of participants\n",
    "# split_size: how much of each test participant's data to use for training\n",
    "def split(p, split_size):\n",
    "    train_data, test_data = part_split(data[part.index(p)].copy(), 1-split_size) \n",
    "            \n",
    "    y_train = train_data['engagement']\n",
    "    X_train = train_data.drop(columns=['engagement', 'session_num', 'participant', 'timestamp'])\n",
    "    y_test = test_data['engagement']\n",
    "    X_test = test_data.drop(columns=['engagement', 'session_num', 'participant', 'timestamp'])        \n",
    "\n",
    "    # Sort Training Data Together \n",
    "    X_train, bogus1, y_train, bogus2 = train_test_split(X_train, y_train, test_size=0.0, shuffle=True)\n",
    "    X_train, bogus1, y_train, bogus2 = train_test_split(X_train, y_train, test_size=0.0, shuffle=True)\n",
    "    X_train, bogus1, y_train, bogus2 = train_test_split(X_train, y_train, test_size=0.0, shuffle=True)\n",
    "    X_train, bogus1, y_train, bogus2 = train_test_split(X_train, y_train, test_size=0.0, shuffle=True)\n",
    "    X_train, bogus1, y_train, bogus2 = train_test_split(X_train, y_train, test_size=0.0, shuffle=True)\n",
    "\n",
    "    # Preprocessing: Standardization\n",
    "    # x' = ( x - mean(x) ) / ( stdev(x) )\n",
    "    # => x' is z-score, NaN's filled with min_val\n",
    "    for c in X_train.columns:\n",
    "        mean = np.nanmean(X_train[c])\n",
    "        std = np.nanstd(X_train[c])\n",
    "\n",
    "        if std == 0:\n",
    "            X_train[c] = (X_train[c]-mean)\n",
    "            X_test[c] = (X_test[c]-mean)\n",
    "        else:\n",
    "            X_train[c] = (X_train[c]-mean)/(std)\n",
    "            X_test[c] = (X_test[c]-mean)/(std)\n",
    "\n",
    "        if c not in nan_max_cols:\n",
    "            min_val = np.nanmin(X_train[c])\n",
    "\n",
    "            X_train[c] = X_train[c].fillna(min_val)\n",
    "            X_test[c] = X_test[c].fillna(min_val)\n",
    "        else:\n",
    "            max_val = np.nanmax(X_train[c])\n",
    "\n",
    "            X_train[c] = X_train[c].fillna(max_val)\n",
    "            X_test[c] = X_test[c].fillna(max_val) \n",
    "\n",
    "    return X_train, y_train, X_test, y_test"
   ]
  },
  {
   "cell_type": "code",
   "execution_count": 51,
   "metadata": {},
   "outputs": [],
   "source": [
    "# MODEL HERE\n",
    "\n",
    "# Inputs: X_train, y_train, X_test, y_test, hp, isVerbose\n",
    "# hp = Hyperparameter Dictionary, isVerbose = whether to return all accuracy metrics\n",
    "\n",
    "# Output: Accuracy Metrics as Dictionary \n",
    "\n",
    "# IMPORTS HERE\n",
    "from sklearn.ensemble import BaggingClassifier\n",
    "from xgboost import XGBClassifier\n",
    "\n",
    "def model(X_train, y_train, X_test, y_test):\n",
    "    # Model Here: must create pred & scores arrays\n",
    "    clf = BaggingClassifier(XGBClassifier(n_estimators=100),\n",
    "                            n_estimators=num_estimators,\n",
    "                            max_samples=sample_percentage)\n",
    "    \n",
    "    clf.fit(X_train, y_train)\n",
    "    \n",
    "    scores = clf.predict_proba(X_test.values)[:,1]\n",
    "    pred = [round(value) for value in scores]   \n",
    "\n",
    "    # Evaluation\n",
    "    results = {}\n",
    "    accuracy = accuracy_score(y_test, pred)\n",
    "    results['accuracy'] = accuracy\n",
    "    \n",
    "    try:\n",
    "        auc = roc_auc_score(y_test, scores)\n",
    "    except:\n",
    "        auc = np.nan\n",
    "    results['auc'] = auc\n",
    "\n",
    "    precision = metrics.precision_score(y_test, pred, average=None)\n",
    "    recall = metrics.recall_score(y_test, pred, average=None)\n",
    "    f1 = metrics.f1_score(y_test, pred, average=None)\n",
    "\n",
    "    results['precision_0'], results['precision_1'] = precision[0], precision[1]\n",
    "    results['recall_0'], results['recall_1'] = recall[0], recall[1]\n",
    "    results['f1_0'], results['f1_1'] = f1[0], f1[1]\n",
    "    \n",
    "    return results"
   ]
  },
  {
   "cell_type": "code",
   "execution_count": null,
   "metadata": {},
   "outputs": [
    {
     "name": "stdout",
     "output_type": "stream",
     "text": [
      "\n",
      "5\n",
      "0.1\n",
      "{'accuracy': 0.8252577319587628, 'f1_0': 0.02399232245681382, 'recall_1': 0.9970860651472577, 'recall_0': 0.012309207287050714, 'f1_1': 0.9040384978297792, 'auc': 0.7149073838795578, 'precision_1': 0.8268749460602399, 'precision_0': 0.4716981132075472}\n",
      "0.2\n",
      "{'accuracy': 0.8117328694307528, 'f1_0': 0.1910299003322259, 'recall_1': 0.9706511406844106, 'recall_0': 0.11910926980838944, 'f1_1': 0.8934704145247729, 'auc': 0.7810197414409288, 'precision_1': 0.8276595744680851, 'precision_0': 0.48218029350104824}\n",
      "0.3\n",
      "{'accuracy': 0.7941241440247404, 'f1_0': 0.03419689119170984, 'recall_1': 0.9941658563689402, 'recall_0': 0.01778975741239892, 'f1_1': 0.8847818024477686, 'auc': 0.7976129508852869, 'precision_1': 0.7970820804098452, 'precision_0': 0.44}\n",
      "0.4\n",
      "{'accuracy': 0.7708762886597939, 'f1_0': 0.017679558011049725, 'recall_1': 0.9983266398929049, 'recall_0': 0.008968609865470852, 'f1_1': 0.8703136396790664, 'auc': 0.7883407227564969, 'precision_1': 0.7713990173260926, 'precision_0': 0.6153846153846154}\n",
      "0.5\n",
      "{'accuracy': 0.746868718107314, 'f1_0': 0.09607951408061843, 'recall_1': 0.9960100797984041, 'recall_0': 0.05102639296187683, 'f1_1': 0.8528274746021757, 'auc': 0.8344287190502524, 'precision_1': 0.7456374783839019, 'precision_0': 0.8207547169811321}\n",
      "\n",
      "7\n",
      "0.1\n"
     ]
    }
   ],
   "source": [
    "all_results = []\n",
    "for p in part:\n",
    "    print()\n",
    "    print(p)\n",
    "    for train_percent in training_iterations:\n",
    "        print(train_percent)\n",
    "        new_results = {}\n",
    "        \n",
    "        # Train - Test Split (and preprocessing)\n",
    "        X_train, y_train, X_test, y_test = split(p, train_percent)\n",
    "        X_train = X_train.reset_index(drop=True)\n",
    "        y_train = y_train.reset_index(drop=True)\n",
    "        \n",
    "        # Evaluate on Test  \n",
    "        results = model(X_train, y_train, X_test, y_test)\n",
    "        print(results)\n",
    "        results['participant'] = p\n",
    "        results['train_percent'] = train_percent\n",
    "        all_results.append(results)"
   ]
  },
  {
   "cell_type": "code",
   "execution_count": null,
   "metadata": {},
   "outputs": [],
   "source": [
    "results = pd.DataFrame(columns=['participant', 'train_percent', 'accuracy', 'auc', 'precision_0', 'precision_1', 'recall_0', 'recall_1', 'f1_0', 'f1_1'])\n",
    "results = results.append(all_results, ignore_index=True, sort=True)"
   ]
  },
  {
   "cell_type": "code",
   "execution_count": null,
   "metadata": {},
   "outputs": [],
   "source": [
    "results.head()"
   ]
  },
  {
   "cell_type": "code",
   "execution_count": null,
   "metadata": {},
   "outputs": [],
   "source": [
    "results.to_csv(output_file, index=False)"
   ]
  },
  {
   "cell_type": "code",
   "execution_count": null,
   "metadata": {},
   "outputs": [],
   "source": []
  }
 ],
 "metadata": {
  "kernelspec": {
   "display_name": "Python [conda env:caispp]",
   "language": "python",
   "name": "conda-env-caispp-py"
  },
  "language_info": {
   "codemirror_mode": {
    "name": "ipython",
    "version": 3
   },
   "file_extension": ".py",
   "mimetype": "text/x-python",
   "name": "python",
   "nbconvert_exporter": "python",
   "pygments_lexer": "ipython3",
   "version": "3.5.6"
  }
 },
 "nbformat": 4,
 "nbformat_minor": 2
}
