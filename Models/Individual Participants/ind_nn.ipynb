{
 "cells": [
  {
   "cell_type": "code",
   "execution_count": 1,
   "metadata": {},
   "outputs": [],
   "source": [
    "# Engagement Model Template: Individual Participants"
   ]
  },
  {
   "cell_type": "code",
   "execution_count": 2,
   "metadata": {},
   "outputs": [],
   "source": [
    "import pandas as pd\n",
    "import numpy as np\n",
    "from sklearn.model_selection import train_test_split\n",
    "from sklearn.metrics import roc_auc_score\n",
    "from sklearn.metrics import roc_auc_score\n",
    "from sklearn.metrics import accuracy_score\n",
    "from sklearn import metrics\n",
    "from itertools import combinations\n",
    "import itertools\n",
    "import json\n",
    "pd.options.mode.chained_assignment = None"
   ]
  },
  {
   "cell_type": "code",
   "execution_count": 3,
   "metadata": {},
   "outputs": [],
   "source": [
    "# Key Features: op_num_people, of_pose_distance, of_gaze_distance, of_confidence, ros_mistakes_session, ros_ts_robot_talked, timestamp\n",
    "use_key_features = False\n",
    "\n",
    "# Training Percentage\n",
    "training_iterations = [0.1, 0.2, 0.3, 0.4, 0.5]\n",
    "\n",
    "# Bagging\n",
    "num_estimators = 10\n",
    "sample_percentage = 0.75\n",
    "\n",
    "# Shuffle\n",
    "shuffle_data = True\n",
    "\n",
    "# File Name for Model Results\n",
    "output_file = 'ind_shuffle_af_nn_results.csv'"
   ]
  },
  {
   "cell_type": "markdown",
   "metadata": {},
   "source": [
    "# 1 -- Load Data"
   ]
  },
  {
   "cell_type": "code",
   "execution_count": 4,
   "metadata": {},
   "outputs": [],
   "source": [
    "# Windowed Data: 1 Second Overlapping Windows, Feature Median + Variance in Window \n",
    "p5_file = '../../../../../Google Drive File Stream/My Drive/USC Expeditions Year 5/Analysis/Engagement/Data/Master Window/p5_master_window.csv'\n",
    "p7_file = '../../../../../Google Drive File Stream/My Drive/USC Expeditions Year 5/Analysis/Engagement/Data/Master Window/p7_master_window.csv'\n",
    "p9_file = '../../../../../Google Drive File Stream/My Drive/USC Expeditions Year 5/Analysis/Engagement/Data/Master Window/p9_master_window.csv'\n",
    "p11_file = '../../../../../Google Drive File Stream/My Drive/USC Expeditions Year 5/Analysis/Engagement/Data/Master Window/p11_master_window.csv'\n",
    "p12_file = '../../../../../Google Drive File Stream/My Drive/USC Expeditions Year 5/Analysis/Engagement/Data/Master Window/p12_master_window.csv'\n",
    "p17_file = '../../../../../Google Drive File Stream/My Drive/USC Expeditions Year 5/Analysis/Engagement/Data/Master Window/p17_master_window.csv'\n",
    "p18_file = '../../../../../Google Drive File Stream/My Drive/USC Expeditions Year 5/Analysis/Engagement/Data/Master Window/p18_master_window.csv'\n",
    "\n",
    "data5 = pd.read_csv(p5_file)\n",
    "data7 = pd.read_csv(p7_file)\n",
    "data9 = pd.read_csv(p9_file)\n",
    "data11 = pd.read_csv(p11_file)\n",
    "data12 = pd.read_csv(p12_file)\n",
    "data17 = pd.read_csv(p17_file)\n",
    "data18 = pd.read_csv(p18_file)"
   ]
  },
  {
   "cell_type": "code",
   "execution_count": 5,
   "metadata": {},
   "outputs": [],
   "source": [
    "data = [data5, data7, data9, data11, data12, data17, data18]\n",
    "part = [5, 7, 9, 11, 12, 17, 18]"
   ]
  },
  {
   "cell_type": "code",
   "execution_count": 6,
   "metadata": {},
   "outputs": [],
   "source": [
    "remove = [\n",
    "'engagement_change',\n",
    "'ros_GAME_STATE',\n",
    "'ros_PARTICIPANT_STATE',\n",
    "'ros_ROBOT_STATE',\n",
    "'ros_activity',\n",
    "'ros_diff_1_change',\n",
    "'ros_diff_2_change',\n",
    "'ros_diff_3_change',\n",
    "'ros_diff_4_change',\n",
    "'ros_diff_5_change',\n",
    "'ros_difficulty',\n",
    "'ros_skill_EM_change',\n",
    "'ros_skill_NC_change',\n",
    "'ros_skill_OS_change',\n",
    "'ros_ts_attempt_var',\n",
    "'ros_games_session_change',\n",
    "'ros_in_game_change',\n",
    "'ros_mistakes_session_change',\n",
    "'ros_mistakes_game_change',\n",
    "'ros_skill',\n",
    "'ros_ts_game_start_var',\n",
    "'ros_ts_robot_talked_var',\n",
    "'ros_game_correct',\n",
    "'ros_game_incorrect',\n",
    "'ros_game_start',\n",
    "'ros_mistake_made',\n",
    "]\n",
    "\n",
    "for i, d in enumerate(data):\n",
    "    data[i] = d.drop(columns=remove)"
   ]
  },
  {
   "cell_type": "code",
   "execution_count": 7,
   "metadata": {},
   "outputs": [],
   "source": [
    "# Remove rows where engagment NaN\n",
    "for i,d in enumerate(data):\n",
    "    data[i] = d[np.isfinite(d['engagement'])]\n",
    "    \n",
    "# Remove rows where engagment is -1\n",
    "for i,d in enumerate(data):\n",
    "    data[i] = d[d['engagement']>=0]"
   ]
  },
  {
   "cell_type": "markdown",
   "metadata": {},
   "source": [
    "# 2 -- Choose Feature Set"
   ]
  },
  {
   "cell_type": "markdown",
   "metadata": {},
   "source": [
    "Feature Dictionary: https://docs.google.com/spreadsheets/d/1ewoVPHwW68Ins0AOVZf-0lsl_wW0_ZzuByuDiNJETBY/edit?usp=sharing"
   ]
  },
  {
   "cell_type": "markdown",
   "metadata": {},
   "source": [
    "### Data Overview"
   ]
  },
  {
   "cell_type": "code",
   "execution_count": 8,
   "metadata": {},
   "outputs": [
    {
     "name": "stdout",
     "output_type": "stream",
     "text": [
      "engagement\n",
      "participant\n",
      "session_num\n",
      "timestamp\n"
     ]
    }
   ],
   "source": [
    "# Main Columns\n",
    "basic_cols = []\n",
    "for i in data[0].columns:\n",
    "    if 'of_' not in i and 'op_' not in i and 'ros_' not in i and 'a_' not in i:\n",
    "        basic_cols.append(i)\n",
    "        \n",
    "basic_cols = sorted(basic_cols)\n",
    "for i in basic_cols:\n",
    "    print(i)"
   ]
  },
  {
   "cell_type": "code",
   "execution_count": 9,
   "metadata": {},
   "outputs": [
    {
     "name": "stdout",
     "output_type": "stream",
     "text": [
      "of_AU01_c\n",
      "of_AU02_c\n",
      "of_AU04_c\n",
      "of_AU05_c\n",
      "of_AU06_c\n",
      "of_AU07_c\n",
      "of_AU09_c\n",
      "of_AU10_c\n",
      "of_AU12_c\n",
      "of_AU14_c\n",
      "of_AU15_c\n",
      "of_AU17_c\n",
      "of_AU20_c\n",
      "of_AU23_c\n",
      "of_AU25_c\n",
      "of_AU26_c\n",
      "of_AU28_c\n",
      "of_AU45_c\n",
      "of_confidence\n",
      "of_gaze_0_x\n",
      "of_gaze_0_y\n",
      "of_gaze_0_z\n",
      "of_gaze_1_x\n",
      "of_gaze_1_y\n",
      "of_gaze_1_z\n",
      "of_gaze_angle_x\n",
      "of_gaze_angle_y\n",
      "of_gaze_distance\n",
      "of_gaze_distance_x\n",
      "of_gaze_distance_y\n",
      "of_pose_Rx\n",
      "of_pose_Ry\n",
      "of_pose_Rz\n",
      "of_pose_Tx\n",
      "of_pose_Ty\n",
      "of_pose_Tz\n",
      "of_pose_distance\n",
      "of_success\n",
      "of_ts_success\n",
      "op_num_people\n"
     ]
    }
   ],
   "source": [
    "# Open Face Columns\n",
    "\n",
    "of_cols = []\n",
    "for i in data[0].columns:\n",
    "    if ('of_' in i or 'op_' in i) and '_change' not in i and '_var' not in i:\n",
    "        of_cols.append(i)\n",
    "        \n",
    "of_cols = sorted(of_cols)\n",
    "for i in of_cols:\n",
    "    print(i)"
   ]
  },
  {
   "cell_type": "code",
   "execution_count": 10,
   "metadata": {},
   "outputs": [
    {
     "name": "stdout",
     "output_type": "stream",
     "text": [
      "a_harmonicity\n",
      "a_intensity\n",
      "a_mfcc_0\n",
      "a_mfcc_1\n",
      "a_pitch_frequency\n",
      "a_pitch_strength\n"
     ]
    }
   ],
   "source": [
    "# Audio Columns\n",
    "\n",
    "a_cols = []\n",
    "for i in data[0].columns:\n",
    "    if 'a_' in i and '_change' not in i and '_var' not in i:\n",
    "        a_cols.append(i)\n",
    "        \n",
    "a_cols = sorted(a_cols)\n",
    "for i in a_cols:\n",
    "    print(i)"
   ]
  },
  {
   "cell_type": "code",
   "execution_count": 11,
   "metadata": {},
   "outputs": [
    {
     "name": "stdout",
     "output_type": "stream",
     "text": [
      "ros_aptitude\n",
      "ros_diff_1\n",
      "ros_diff_2\n",
      "ros_diff_3\n",
      "ros_diff_4\n",
      "ros_diff_5\n",
      "ros_games_session\n",
      "ros_in_game\n",
      "ros_mistakes_game\n",
      "ros_mistakes_session\n",
      "ros_skill_EM\n",
      "ros_skill_NC\n",
      "ros_skill_OS\n",
      "ros_ts_attempt\n",
      "ros_ts_game_start\n",
      "ros_ts_robot_talked\n"
     ]
    }
   ],
   "source": [
    "# ROS Columns\n",
    "\n",
    "ros_cols = []\n",
    "for i in data[0].columns:\n",
    "    if 'ros_' in i and '_change' not in i and '_var' not in i:\n",
    "        ros_cols.append(i)\n",
    "        \n",
    "ros_cols = sorted(ros_cols)\n",
    "for i in ros_cols:\n",
    "    print(i)"
   ]
  },
  {
   "cell_type": "code",
   "execution_count": 12,
   "metadata": {},
   "outputs": [
    {
     "name": "stdout",
     "output_type": "stream",
     "text": [
      "a_harmonicity_var\n",
      "a_intensity_var\n",
      "a_mfcc_0_var\n",
      "a_mfcc_1_var\n",
      "a_pitch_frequency_var\n",
      "a_pitch_strength_var\n",
      "of_AU01_c_change\n",
      "of_AU02_c_change\n",
      "of_AU04_c_change\n",
      "of_AU05_c_change\n",
      "of_AU06_c_change\n",
      "of_AU07_c_change\n",
      "of_AU09_c_change\n",
      "of_AU10_c_change\n",
      "of_AU12_c_change\n",
      "of_AU14_c_change\n",
      "of_AU15_c_change\n",
      "of_AU17_c_change\n",
      "of_AU20_c_change\n",
      "of_AU23_c_change\n",
      "of_AU25_c_change\n",
      "of_AU26_c_change\n",
      "of_AU28_c_change\n",
      "of_AU45_c_change\n",
      "of_confidence_var\n",
      "of_gaze_0_x_var\n",
      "of_gaze_0_y_var\n",
      "of_gaze_0_z_var\n",
      "of_gaze_1_x_var\n",
      "of_gaze_1_y_var\n",
      "of_gaze_1_z_var\n",
      "of_gaze_angle_x_var\n",
      "of_gaze_angle_y_var\n",
      "of_gaze_distance_var\n",
      "of_gaze_distance_x_var\n",
      "of_gaze_distance_y_var\n",
      "of_pose_Rx_var\n",
      "of_pose_Ry_var\n",
      "of_pose_Rz_var\n",
      "of_pose_Tx_var\n",
      "of_pose_Ty_var\n",
      "of_pose_Tz_var\n",
      "of_pose_distance_var\n",
      "of_success_change\n",
      "of_ts_success_var\n",
      "op_num_people_change\n",
      "ros_aptitude_var\n"
     ]
    }
   ],
   "source": [
    "# For Window Only:\n",
    "non_window_features = []\n",
    "window_features = []\n",
    "for i in data[0].columns:\n",
    "    if i not in basic_cols:\n",
    "        if 'change' in i or 'var' in i:\n",
    "            window_features.append(i)\n",
    "        else:\n",
    "            non_window_features.append(i)\n",
    "        \n",
    "window_features = sorted(window_features)\n",
    "for i in window_features:\n",
    "    print(i)"
   ]
  },
  {
   "cell_type": "code",
   "execution_count": 13,
   "metadata": {},
   "outputs": [],
   "source": [
    "# Columns where NaNs filled with max value\n",
    "nan_max_cols = ['of_gaze_0_x',\n",
    "'of_gaze_0_y',\n",
    "'of_gaze_0_z',\n",
    "'of_gaze_1_x',\n",
    "'of_gaze_1_y',\n",
    "'of_gaze_1_z',\n",
    "'of_gaze_angle_x',\n",
    "'of_gaze_angle_y',\n",
    "'of_gaze_distance',\n",
    "'of_gaze_distance_x',\n",
    "'of_gaze_distance_y',\n",
    "'of_pose_Rxv',\n",
    "'of_pose_Ry',\n",
    "'of_pose_Rz',\n",
    "'of_pose_Tx',\n",
    "'of_pose_Ty',\n",
    "'of_pose_Tz',\n",
    "'of_pose_distance']"
   ]
  },
  {
   "cell_type": "code",
   "execution_count": 14,
   "metadata": {},
   "outputs": [],
   "source": [
    "# Key Features (from feature analysis) \n",
    "# Note: Timestamp automatically included\n",
    "\n",
    "key_features = [\n",
    "'op_num_people',\n",
    "'of_pose_distance',\n",
    "'of_gaze_distance',\n",
    "'of_confidence',\n",
    "'ros_mistakes_session',\n",
    "'ros_ts_robot_talked',\n",
    "'of_gaze_distance_x',\n",
    "'of_gaze_distance_y']"
   ]
  },
  {
   "cell_type": "markdown",
   "metadata": {},
   "source": [
    "### Filter Feature Set (Optional)"
   ]
  },
  {
   "cell_type": "code",
   "execution_count": 15,
   "metadata": {},
   "outputs": [],
   "source": [
    "# always include basic_cols, add desired group of features \n",
    "# features_to_keep = all_data.columns\n",
    "\n",
    "if use_key_features:\n",
    "    features_to_keep = basic_cols + key_features\n",
    "else:\n",
    "    features_to_keep = basic_cols + of_cols + ros_cols + a_cols + window_features\n",
    "\n",
    "for i,d in enumerate(data):\n",
    "    data[i] = d[features_to_keep]"
   ]
  },
  {
   "cell_type": "markdown",
   "metadata": {},
   "source": [
    "# 3 -- Scenario Based Modeling"
   ]
  },
  {
   "cell_type": "markdown",
   "metadata": {},
   "source": [
    "- Open Face Success / Failure\n",
    "- Robot Talking / Not Talking\n",
    "- First 10 Minutes / After 10 Minutes"
   ]
  },
  {
   "cell_type": "code",
   "execution_count": 16,
   "metadata": {},
   "outputs": [],
   "source": [
    "# Create Separate Models for Different Scenarios\n",
    "\n",
    "# for i,d in enumerate(data):\n",
    "#     # Open Face Success/Failure\n",
    "#     data[i] = d.loc[d['of_success']==1]\n",
    "#     data[i] = d.loc[d['of_success']==0]\n",
    "    \n",
    "#     # Robot Talking/Not Talking\n",
    "#     data[i] = d.loc[d['ros_ts_robot_talked']==0]\n",
    "#     data[i] = d.loc[d['ros_ts_robot_talked']>0]\n",
    "    \n",
    "#     # First 10 Min/After 10 Min\n",
    "#     data[i] = d.loc[d['timestamp']<=(10*60)]\n",
    "#     data[i] = d.loc[d['timestamp']>(10*60)]"
   ]
  },
  {
   "cell_type": "markdown",
   "metadata": {},
   "source": [
    "# 4 -- Modeling"
   ]
  },
  {
   "cell_type": "code",
   "execution_count": 17,
   "metadata": {},
   "outputs": [],
   "source": [
    "# Helper Function: Split a Participant's Data Chronologically \n",
    "\n",
    "def part_split(split, split_size):\n",
    "    split = split.sort_values(['session_num', 'timestamp'], ascending=[True, True])\n",
    "    bogus = split['engagement']\n",
    "\n",
    "    split_train, split_test, bogus1, bogus2 = train_test_split(split, bogus, test_size=split_size, shuffle=shuffle_data)\n",
    "    return split_train, split_test"
   ]
  },
  {
   "cell_type": "code",
   "execution_count": 18,
   "metadata": {},
   "outputs": [],
   "source": [
    "# Function: Formulate Train-Test Split \n",
    "# Includes Preprocessing & Shuffle \n",
    "\n",
    "# train_part: an array of participants \n",
    "# test_part: an array of participants\n",
    "# split_size: how much of each test participant's data to use for training\n",
    "def split(p, split_size):\n",
    "    train_data, test_data = part_split(data[part.index(p)].copy(), 1-split_size) \n",
    "            \n",
    "    y_train = train_data['engagement']\n",
    "    X_train = train_data.drop(columns=['engagement', 'session_num', 'participant', 'timestamp'])\n",
    "    y_test = test_data['engagement']\n",
    "    X_test = test_data.drop(columns=['engagement', 'session_num', 'participant', 'timestamp'])        \n",
    "\n",
    "    # Sort Training Data Together \n",
    "    X_train, bogus1, y_train, bogus2 = train_test_split(X_train, y_train, test_size=0.0, shuffle=True)\n",
    "    X_train, bogus1, y_train, bogus2 = train_test_split(X_train, y_train, test_size=0.0, shuffle=True)\n",
    "    X_train, bogus1, y_train, bogus2 = train_test_split(X_train, y_train, test_size=0.0, shuffle=True)\n",
    "    X_train, bogus1, y_train, bogus2 = train_test_split(X_train, y_train, test_size=0.0, shuffle=True)\n",
    "    X_train, bogus1, y_train, bogus2 = train_test_split(X_train, y_train, test_size=0.0, shuffle=True)\n",
    "\n",
    "    # Preprocessing: Standardization\n",
    "    # x' = ( x - mean(x) ) / ( stdev(x) )\n",
    "    # => x' is z-score, NaN's filled with min_val\n",
    "    for c in X_train.columns:\n",
    "        mean = np.nanmean(X_train[c])\n",
    "        std = np.nanstd(X_train[c])\n",
    "\n",
    "        if std == 0:\n",
    "            X_train[c] = (X_train[c]-mean)\n",
    "            X_test[c] = (X_test[c]-mean)\n",
    "        else:\n",
    "            X_train[c] = (X_train[c]-mean)/(std)\n",
    "            X_test[c] = (X_test[c]-mean)/(std)\n",
    "\n",
    "        if c not in nan_max_cols:\n",
    "            min_val = np.nanmin(X_train[c])\n",
    "\n",
    "            X_train[c] = X_train[c].fillna(min_val)\n",
    "            X_test[c] = X_test[c].fillna(min_val)\n",
    "        else:\n",
    "            max_val = np.nanmax(X_train[c])\n",
    "\n",
    "            X_train[c] = X_train[c].fillna(max_val)\n",
    "            X_test[c] = X_test[c].fillna(max_val) \n",
    "\n",
    "    return X_train, y_train, X_test, y_test"
   ]
  },
  {
   "cell_type": "code",
   "execution_count": 20,
   "metadata": {},
   "outputs": [],
   "source": [
    "# MODEL HERE\n",
    "\n",
    "# Inputs: X_train, y_train, X_test, y_test, hp, isVerbose\n",
    "# hp = Hyperparameter Dictionary, isVerbose = whether to return all accuracy metrics\n",
    "\n",
    "# Output: Accuracy Metrics as Dictionary \n",
    "\n",
    "# IMPORTS HERE\n",
    "from sklearn.ensemble import BaggingClassifier\n",
    "from sklearn.neural_network import MLPClassifier\n",
    "\n",
    "def model(X_train, y_train, X_test, y_test):\n",
    "    # Model Here: must create pred & scores arrays\n",
    "    clf = BaggingClassifier(MLPClassifier(hidden_layer_sizes=(1024,512,256,64,16)),\n",
    "                            n_estimators=num_estimators,\n",
    "                            max_samples=sample_percentage)\n",
    "    clf.fit(X_train, y_train)\n",
    "    scores = clf.predict_proba(X_test.values)[:,1]\n",
    "    pred = [round(value) for value in scores]   \n",
    "\n",
    "    # Evaluation\n",
    "    results = {}\n",
    "    accuracy = accuracy_score(y_test, pred)\n",
    "    results['accuracy'] = accuracy\n",
    "    \n",
    "    try:\n",
    "        auc = roc_auc_score(y_test, scores)\n",
    "    except:\n",
    "        auc = np.nan\n",
    "    results['auc'] = auc\n",
    "\n",
    "    precision = metrics.precision_score(y_test, pred, average=None)\n",
    "    recall = metrics.recall_score(y_test, pred, average=None)\n",
    "    f1 = metrics.f1_score(y_test, pred, average=None)\n",
    "\n",
    "    results['precision_0'], results['precision_1'] = precision[0], precision[1]\n",
    "    results['recall_0'], results['recall_1'] = recall[0], recall[1]\n",
    "    results['f1_0'], results['f1_1'] = f1[0], f1[1]\n",
    "    \n",
    "    return results"
   ]
  },
  {
   "cell_type": "code",
   "execution_count": 21,
   "metadata": {},
   "outputs": [
    {
     "name": "stdout",
     "output_type": "stream",
     "text": [
      "\n",
      "5\n",
      "0.1\n",
      "{'precision_0': 0.721324717285945, 'auc': 0.894576070452475, 'recall_1': 0.9647599591419816, 'precision_1': 0.9079984618342627, 'accuracy': 0.8881443298969072, 'f1_1': 0.9355190174326466, 'recall_0': 0.4827027027027027, 'f1_0': 0.5783678756476683}\n",
      "0.2\n",
      "{'precision_0': 0.7535310734463276, 'auc': 0.9396497562788164, 'recall_1': 0.9600320659642694, 'precision_1': 0.9386406897323928, 'accuracy': 0.9133082052768918, 'f1_1': 0.9492158749929231, 'recall_0': 0.6606811145510836, 'f1_0': 0.7040580666446717}\n",
      "0.3\n",
      "{'precision_0': 0.7961246840775064, 'auc': 0.9437759676655473, 'recall_1': 0.9680907172995781, 'precision_1': 0.9332655395957798, 'accuracy': 0.9152860614093219, 'f1_1': 0.9503592000517765, 'recall_0': 0.6428571428571429, 'f1_0': 0.7113285660519384}\n",
      "0.4\n",
      "{'precision_0': 0.8396946564885496, 'auc': 0.9589122059253068, 'recall_1': 0.9742291762540267, 'precision_1': 0.9462157330154947, 'accuracy': 0.9318298969072165, 'f1_1': 0.960018139218502, 'recall_0': 0.709105560032232, 'f1_0': 0.7688947138488421}\n",
      "0.5\n",
      "{'precision_0': 0.8439955106621774, 'auc': 0.9680451272108791, 'recall_1': 0.9745700695206733, 'precision_1': 0.9553443328550932, 'accuracy': 0.9400030926240915, 'f1_1': 0.9648614381452635, 'recall_0': 0.7512487512487512, 'f1_0': 0.7949260042283298}\n",
      "\n",
      "7\n",
      "0.1\n",
      "{'precision_0': 0.8762086141224729, 'auc': 0.9447167566693165, 'recall_1': 0.9218099380031461, 'precision_1': 0.8825301204819277, 'accuracy': 0.8801479518604395, 'f1_1': 0.9017424756732292, 'recall_0': 0.8185301765430409, 'f1_0': 0.8463878865067572}\n",
      "0.2\n",
      "{'precision_0': 0.8746628589560527, 'auc': 0.9538920999496865, 'recall_1': 0.9179391295315259, 'precision_1': 0.901918758930394, 'accuracy': 0.8912489907459163, 'f1_1': 0.9098584298584299, 'recall_0': 0.8515600864998455, 'f1_0': 0.8629568756359083}\n",
      "0.3\n",
      "{'precision_0': 0.8927509293680297, 'auc': 0.9625158845401189, 'recall_1': 0.9316917248727359, 'precision_1': 0.9036628774830635, 'accuracy': 0.8994960607566186, 'f1_1': 0.9174632781534157, 'recall_0': 0.8512938674228997, 'f1_0': 0.8715296679368536}\n",
      "0.4\n",
      "{'precision_0': 0.9105655414291978, 'auc': 0.9659029815939751, 'recall_1': 0.9431438127090301, 'precision_1': 0.9007186585041256, 'accuracy': 0.9044385558131832, 'f1_1': 0.9214431586113002, 'recall_0': 0.8477551020408163, 'f1_0': 0.8780384696681464}\n",
      "0.5\n",
      "{'precision_0': 0.9081764250709311, 'auc': 0.9695368335824297, 'recall_1': 0.9408047888260725, 'precision_1': 0.9146459747817652, 'accuracy': 0.9121534333697704, 'f1_1': 0.9275409836065575, 'recall_0': 0.8695974314645591, 'f1_0': 0.8884683320716629}\n",
      "\n",
      "9\n",
      "0.1\n",
      "{'precision_0': 0.8911667169128731, 'auc': 0.9500780606354796, 'recall_1': 0.8910572377024444, 'precision_1': 0.8615055436685469, 'accuracy': 0.8760935106014927, 'f1_1': 0.8760322405182218, 'recall_0': 0.8616401088223863, 'f1_0': 0.8761547201501753}\n",
      "0.2\n",
      "{'precision_0': 0.898586218412557, 'auc': 0.9612939193517341, 'recall_1': 0.8973058279788073, 'precision_1': 0.8842479449011331, 'accuracy': 0.8914095079232693, 'f1_1': 0.8907290326190342, 'recall_0': 0.8856703971911345, 'f1_0': 0.8920815604796375}\n",
      "0.3\n",
      "{'precision_0': 0.9172749391727494, 'auc': 0.9690067493560943, 'recall_1': 0.9163429163429163, 'precision_1': 0.8925327951564077, 'accuracy': 0.9048103196289, 'f1_1': 0.9042811501597445, 'recall_0': 0.89369931378665, 'f1_0': 0.9053336703741152}\n",
      "0.4\n",
      "{'precision_0': 0.9263502454991817, 'auc': 0.9748209278118224, 'recall_1': 0.924863387978142, 'precision_1': 0.9002659574468085, 'accuracy': 0.9132626584624509, 'f1_1': 0.9123989218328841, 'recall_0': 0.9021880886827996, 'f1_0': 0.9141095287035679}\n",
      "0.5\n",
      "{'precision_0': 0.9224333275230957, 'auc': 0.9756344624527026, 'recall_1': 0.9187214611872146, 'precision_1': 0.9138808139534884, 'accuracy': 0.9182457076772529, 'f1_1': 0.9162947445122506, 'recall_0': 0.9177939646201873, 'f1_0': 0.920107797965748}\n",
      "\n",
      "11\n",
      "0.1\n",
      "{'precision_0': 0.7029702970297029, 'auc': 0.8917860725595839, 'recall_1': 0.9186479157469887, 'precision_1': 0.8901857736494745, 'accuracy': 0.850919978751147, 'f1_1': 0.9041929176623942, 'recall_0': 0.6294845360824742, 'f1_0': 0.6642010225171325}\n",
      "0.2\n",
      "{'precision_0': 0.7621121393576483, 'auc': 0.9104636209797311, 'recall_1': 0.9377537212449256, 'precision_1': 0.8937686668476785, 'accuracy': 0.8674888623275019, 'f1_1': 0.9152330309665312, 'recall_0': 0.6414662084765178, 'f1_0': 0.6966040552307501}\n",
      "0.3\n",
      "{'precision_0': 0.7714620568414884, 'auc': 0.9271178256560537, 'recall_1': 0.936785801118405, 'precision_1': 0.9107311692404665, 'accuracy': 0.8812170133498913, 'f1_1': 0.9235747672885621, 'recall_0': 0.6991502920870951, 'f1_0': 0.7335283465663742}\n",
      "0.4\n",
      "{'precision_0': 0.7969323107702567, 'auc': 0.9383737364009899, 'recall_1': 0.9423295454545455, 'precision_1': 0.9208772903942254, 'accuracy': 0.8939514668598334, 'f1_1': 0.9314799213704015, 'recall_0': 0.736517719568567, 'f1_0': 0.7655349135169763}\n",
      "0.5\n",
      "{'precision_0': 0.8265010351966874, 'auc': 0.9486507215568688, 'recall_1': 0.9523159212472971, 'precision_1': 0.9206733414016943, 'accuracy': 0.900904033379694, 'f1_1': 0.9362273439248154, 'recall_0': 0.7346337872653662, 'f1_0': 0.7778643803585347}\n",
      "\n",
      "12\n",
      "0.1\n",
      "{'precision_0': 0.8147540983606557, 'auc': 0.92816067349545, 'recall_1': 0.9001435988070253, 'precision_1': 0.8893375532030994, 'accuracy': 0.8634194972584206, 'f1_1': 0.894707949055775, 'recall_0': 0.7967935871743487, 'f1_0': 0.8056737588652482}\n",
      "0.2\n",
      "{'precision_0': 0.8368971792538672, 'auc': 0.9468396655929123, 'recall_1': 0.9107431843644964, 'precision_1': 0.9046618028935328, 'accuracy': 0.8807978851237683, 'f1_1': 0.9076923076923078, 'recall_0': 0.8267415730337079, 'f1_0': 0.8317883789283291}\n",
      "0.3\n",
      "{'precision_0': 0.8556023145712782, 'auc': 0.9560357464074456, 'recall_1': 0.9219172237235101, 'precision_1': 0.9102654121612133, 'accuracy': 0.8912386706948641, 'f1_1': 0.916054267947993, 'recall_0': 0.8358170606372045, 'f1_0': 0.845593969326748}\n",
      "0.4\n",
      "{'precision_0': 0.8702601065496709, 'auc': 0.9574746248237629, 'recall_1': 0.9313660477453581, 'precision_1': 0.9103872954140334, 'accuracy': 0.8967101046784876, 'f1_1': 0.9207571908547079, 'recall_0': 0.8339339339339339, 'f1_0': 0.8517098604508511}\n",
      "0.5\n",
      "{'precision_0': 0.8710633567988144, 'auc': 0.9615148062987813, 'recall_1': 0.9309386783091883, 'precision_1': 0.9192631785224378, 'accuracy': 0.902589079723148, 'f1_1': 0.9250640899230921, 'recall_0': 0.8508867173362288, 'f1_0': 0.8608568290003663}\n",
      "\n",
      "17\n",
      "0.1\n",
      "{'precision_0': 0.8615804744837003, 'auc': 0.9265231686121482, 'recall_1': 0.8523037698051357, 'precision_1': 0.834075922295491, 'accuracy': 0.8481255448997385, 'f1_1': 0.8430913348946135, 'recall_0': 0.844288342532196, 'f1_0': 0.8528467646561919}\n",
      "0.2\n",
      "{'precision_0': 0.8807885437976567, 'auc': 0.9539701572075673, 'recall_1': 0.8695563695563695, 'precision_1': 0.8866984851628968, 'accuracy': 0.8835817967830522, 'f1_1': 0.8780437686222131, 'recall_0': 0.896630064369557, 'f1_0': 0.8886387090721456}\n",
      "0.3\n",
      "{'precision_0': 0.8887700534759359, 'auc': 0.9584624447729087, 'recall_1': 0.8794342684906098, 'precision_1': 0.8933113518605746, 'accuracy': 0.8909315099204125, 'f1_1': 0.8863184951513027, 'recall_0': 0.9016927083333334, 'f1_0': 0.8951847463104601}\n",
      "0.4\n",
      "{'precision_0': 0.9183355006501951, 'auc': 0.9679475263635969, 'recall_1': 0.9148128052088985, 'precision_1': 0.8869016307206733, 'accuracy': 0.9027069438995684, 'f1_1': 0.9006410256410255, 'recall_0': 0.8914415551628376, 'f1_0': 0.9046887009992313}\n",
      "0.5\n",
      "{'precision_0': 0.9204957678355502, 'auc': 0.9724104134932021, 'recall_1': 0.9131439894319683, 'precision_1': 0.9024151436031331, 'accuracy': 0.9118016321406152, 'f1_1': 0.9077478660538411, 'recall_0': 0.9105861244019139, 'f1_0': 0.9155141310883945}\n",
      "\n",
      "18\n",
      "0.1\n",
      "{'precision_0': 0.663458734324876, 'auc': 0.8692639753815877, 'recall_1': 0.9113126344912389, 'precision_1': 0.8782402607021182, 'accuracy': 0.8347410076191601, 'f1_1': 0.8944708455910084, 'recall_0': 0.5805052309262567, 'f1_0': 0.6192161132280892}\n",
      "0.2\n",
      "{'precision_0': 0.7584226646248086, 'auc': 0.8936066890569473, 'recall_1': 0.9452542078778414, 'precision_1': 0.8759446856407782, 'accuracy': 0.8555481727574751, 'f1_1': 0.9092805875479887, 'recall_0': 0.5621452894438138, 'f1_0': 0.6456975228161669}\n",
      "0.3\n",
      "{'precision_0': 0.7850311850311851, 'auc': 0.9181986167880906, 'recall_1': 0.9489079948611523, 'precision_1': 0.8920475659606094, 'accuracy': 0.8725036069557294, 'f1_1': 0.919599674376287, 'recall_0': 0.6190163934426229, 'f1_0': 0.6922089825847847}\n",
      "0.4\n"
     ]
    },
    {
     "name": "stdout",
     "output_type": "stream",
     "text": [
      "{'precision_0': 0.80802163136548, 'auc': 0.9286816042844613, 'recall_1': 0.9507286606523248, 'precision_1': 0.9063843863711545, 'accuracy': 0.8870481927710844, 'f1_1': 0.9280270956816257, 'recall_0': 0.6786525359576079, 'f1_0': 0.7377082904752109}\n",
      "0.5\n",
      "{'precision_0': 0.8052660449808009, 'auc': 0.9339451533837921, 'recall_1': 0.9511490298610156, 'precision_1': 0.911512593960174, 'accuracy': 0.8909206889219647, 'f1_1': 0.930909090909091, 'recall_0': 0.68630201028518, 'f1_0': 0.7410398788490662}\n"
     ]
    }
   ],
   "source": [
    "all_results = []\n",
    "for p in part:\n",
    "    print()\n",
    "    print(p)\n",
    "    for train_percent in training_iterations:\n",
    "        print(train_percent)\n",
    "        new_results = {}\n",
    "        \n",
    "        # Train - Test Split (and preprocessing)\n",
    "        X_train, y_train, X_test, y_test = split(p, train_percent)\n",
    "        X_train = X_train.reset_index(drop=True)\n",
    "        y_train = y_train.reset_index(drop=True)\n",
    "        \n",
    "        # Evaluate on Test  \n",
    "        results = model(X_train, y_train, X_test, y_test)\n",
    "        print(results)\n",
    "        results['participant'] = p\n",
    "        results['train_percent'] = train_percent\n",
    "        all_results.append(results)"
   ]
  },
  {
   "cell_type": "code",
   "execution_count": 22,
   "metadata": {},
   "outputs": [],
   "source": [
    "results = pd.DataFrame(columns=['participant', 'train_percent', 'accuracy', 'auc', 'precision_0', 'precision_1', 'recall_0', 'recall_1', 'f1_0', 'f1_1'])\n",
    "results = results.append(all_results, ignore_index=True, sort=True)"
   ]
  },
  {
   "cell_type": "code",
   "execution_count": 23,
   "metadata": {},
   "outputs": [
    {
     "data": {
      "text/html": [
       "<div>\n",
       "<style scoped>\n",
       "    .dataframe tbody tr th:only-of-type {\n",
       "        vertical-align: middle;\n",
       "    }\n",
       "\n",
       "    .dataframe tbody tr th {\n",
       "        vertical-align: top;\n",
       "    }\n",
       "\n",
       "    .dataframe thead th {\n",
       "        text-align: right;\n",
       "    }\n",
       "</style>\n",
       "<table border=\"1\" class=\"dataframe\">\n",
       "  <thead>\n",
       "    <tr style=\"text-align: right;\">\n",
       "      <th></th>\n",
       "      <th>accuracy</th>\n",
       "      <th>auc</th>\n",
       "      <th>f1_0</th>\n",
       "      <th>f1_1</th>\n",
       "      <th>participant</th>\n",
       "      <th>precision_0</th>\n",
       "      <th>precision_1</th>\n",
       "      <th>recall_0</th>\n",
       "      <th>recall_1</th>\n",
       "      <th>train_percent</th>\n",
       "    </tr>\n",
       "  </thead>\n",
       "  <tbody>\n",
       "    <tr>\n",
       "      <th>0</th>\n",
       "      <td>0.888144</td>\n",
       "      <td>0.894576</td>\n",
       "      <td>0.578368</td>\n",
       "      <td>0.935519</td>\n",
       "      <td>5</td>\n",
       "      <td>0.721325</td>\n",
       "      <td>0.907998</td>\n",
       "      <td>0.482703</td>\n",
       "      <td>0.964760</td>\n",
       "      <td>0.1</td>\n",
       "    </tr>\n",
       "    <tr>\n",
       "      <th>1</th>\n",
       "      <td>0.913308</td>\n",
       "      <td>0.939650</td>\n",
       "      <td>0.704058</td>\n",
       "      <td>0.949216</td>\n",
       "      <td>5</td>\n",
       "      <td>0.753531</td>\n",
       "      <td>0.938641</td>\n",
       "      <td>0.660681</td>\n",
       "      <td>0.960032</td>\n",
       "      <td>0.2</td>\n",
       "    </tr>\n",
       "    <tr>\n",
       "      <th>2</th>\n",
       "      <td>0.915286</td>\n",
       "      <td>0.943776</td>\n",
       "      <td>0.711329</td>\n",
       "      <td>0.950359</td>\n",
       "      <td>5</td>\n",
       "      <td>0.796125</td>\n",
       "      <td>0.933266</td>\n",
       "      <td>0.642857</td>\n",
       "      <td>0.968091</td>\n",
       "      <td>0.3</td>\n",
       "    </tr>\n",
       "    <tr>\n",
       "      <th>3</th>\n",
       "      <td>0.931830</td>\n",
       "      <td>0.958912</td>\n",
       "      <td>0.768895</td>\n",
       "      <td>0.960018</td>\n",
       "      <td>5</td>\n",
       "      <td>0.839695</td>\n",
       "      <td>0.946216</td>\n",
       "      <td>0.709106</td>\n",
       "      <td>0.974229</td>\n",
       "      <td>0.4</td>\n",
       "    </tr>\n",
       "    <tr>\n",
       "      <th>4</th>\n",
       "      <td>0.940003</td>\n",
       "      <td>0.968045</td>\n",
       "      <td>0.794926</td>\n",
       "      <td>0.964861</td>\n",
       "      <td>5</td>\n",
       "      <td>0.843996</td>\n",
       "      <td>0.955344</td>\n",
       "      <td>0.751249</td>\n",
       "      <td>0.974570</td>\n",
       "      <td>0.5</td>\n",
       "    </tr>\n",
       "  </tbody>\n",
       "</table>\n",
       "</div>"
      ],
      "text/plain": [
       "   accuracy       auc      f1_0      f1_1 participant  precision_0  \\\n",
       "0  0.888144  0.894576  0.578368  0.935519           5     0.721325   \n",
       "1  0.913308  0.939650  0.704058  0.949216           5     0.753531   \n",
       "2  0.915286  0.943776  0.711329  0.950359           5     0.796125   \n",
       "3  0.931830  0.958912  0.768895  0.960018           5     0.839695   \n",
       "4  0.940003  0.968045  0.794926  0.964861           5     0.843996   \n",
       "\n",
       "   precision_1  recall_0  recall_1  train_percent  \n",
       "0     0.907998  0.482703  0.964760            0.1  \n",
       "1     0.938641  0.660681  0.960032            0.2  \n",
       "2     0.933266  0.642857  0.968091            0.3  \n",
       "3     0.946216  0.709106  0.974229            0.4  \n",
       "4     0.955344  0.751249  0.974570            0.5  "
      ]
     },
     "execution_count": 23,
     "metadata": {},
     "output_type": "execute_result"
    }
   ],
   "source": [
    "results.head()"
   ]
  },
  {
   "cell_type": "code",
   "execution_count": 24,
   "metadata": {},
   "outputs": [],
   "source": [
    "results.to_csv(output_file, index=False)"
   ]
  },
  {
   "cell_type": "code",
   "execution_count": null,
   "metadata": {},
   "outputs": [],
   "source": []
  },
  {
   "cell_type": "code",
   "execution_count": null,
   "metadata": {},
   "outputs": [],
   "source": []
  }
 ],
 "metadata": {
  "kernelspec": {
   "display_name": "Python [conda env:caispp]",
   "language": "python",
   "name": "conda-env-caispp-py"
  },
  "language_info": {
   "codemirror_mode": {
    "name": "ipython",
    "version": 3
   },
   "file_extension": ".py",
   "mimetype": "text/x-python",
   "name": "python",
   "nbconvert_exporter": "python",
   "pygments_lexer": "ipython3",
   "version": "3.5.6"
  }
 },
 "nbformat": 4,
 "nbformat_minor": 2
}
