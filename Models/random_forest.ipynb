{
 "cells": [
  {
   "cell_type": "code",
   "execution_count": 1,
   "metadata": {},
   "outputs": [],
   "source": [
    "# Random Forest Implementation"
   ]
  },
  {
   "cell_type": "code",
   "execution_count": 25,
   "metadata": {},
   "outputs": [],
   "source": [
    "import pandas as pd\n",
    "import numpy as np\n",
    "from sklearn.model_selection import train_test_split\n",
    "from sklearn.metrics import roc_auc_score\n",
    "from sklearn.metrics import roc_auc_score\n",
    "from sklearn.metrics import accuracy_score\n",
    "from sklearn import metrics"
   ]
  },
  {
   "cell_type": "markdown",
   "metadata": {},
   "source": [
    "# 1 -- Load, Choose Dataset"
   ]
  },
  {
   "cell_type": "markdown",
   "metadata": {},
   "source": [
    "### Choose Datasets: Regular, Smoothed, Windowed"
   ]
  },
  {
   "cell_type": "code",
   "execution_count": 4,
   "metadata": {},
   "outputs": [],
   "source": [
    "# Regular Data: All Frames, No Smoothing \n",
    "# p5_file = '../../../../Google Drive File Stream/My Drive/USC Expeditions Year 5/Analysis/Engagement/Data/Master/p5_master.csv'\n",
    "# p7_file = '../../../../Google Drive File Stream/My Drive/USC Expeditions Year 5/Analysis/Engagement/Data/Master/p7_master.csv'\n",
    "# p8_file = '../../../../Google Drive File Stream/My Drive/USC Expeditions Year 5/Analysis/Engagement/Data/Master/p8_master.csv'\n",
    "# p9_file = '../../../../Google Drive File Stream/My Drive/USC Expeditions Year 5/Analysis/Engagement/Data/Master/p9_master.csv'\n",
    "\n",
    "# Smoothed Data: All Frames, Smoothing of Open Face Features \n",
    "# p5_file = '../../../../Google Drive File Stream/My Drive/USC Expeditions Year 5/Analysis/Engagement/Data/Master_Smooth/p5_master_smooth.csv'\n",
    "# p7_file = '../../../../Google Drive File Stream/My Drive/USC Expeditions Year 5/Analysis/Engagement/Data/Master_Smooth/p7_master_smooth.csv'\n",
    "# p8_file = '../../../../Google Drive File Stream/My Drive/USC Expeditions Year 5/Analysis/Engagement/Data/Master_Smooth/p8_master_smooth.csv'\n",
    "# p9_file = '../../../../Google Drive File Stream/My Drive/USC Expeditions Year 5/Analysis/Engagement/Data/Master_Smooth/p9_master_smooth.csv'\n",
    "\n",
    "# Windowed Data: 1 Second Overlapping Windows, Feature Median + Variance in Window \n",
    "p5_file = 'G:/My Drive/USC Expeditions Year 5/Analysis/Engagement/Data/Master_Window/p5_master_window.csv'\n",
    "p7_file = 'G:/My Drive/USC Expeditions Year 5/Analysis/Engagement/Data/Master_Window/p7_master_window.csv'\n",
    "p8_file = 'G:/My Drive/USC Expeditions Year 5/Analysis/Engagement/Data/Master_Window/p8_master_window.csv'\n",
    "p9_file = 'G:/My Drive/USC Expeditions Year 5/Analysis/Engagement/Data/Master_Window/p9_master_window.csv'\n",
    "\n",
    "data5 = pd.read_csv(p5_file)\n",
    "data7 = pd.read_csv(p7_file)\n",
    "data8 = pd.read_csv(p8_file)\n",
    "data9 = pd.read_csv(p9_file)"
   ]
  },
  {
   "cell_type": "code",
   "execution_count": 5,
   "metadata": {},
   "outputs": [],
   "source": [
    "data = [data5, data7, data8, data9]\n",
    "part = [5, 7, 8, 9]"
   ]
  },
  {
   "cell_type": "markdown",
   "metadata": {},
   "source": [
    "# 2 -- Choose Feature Set"
   ]
  },
  {
   "cell_type": "markdown",
   "metadata": {},
   "source": [
    "Feature Dictionary: https://docs.google.com/spreadsheets/d/1ewoVPHwW68Ins0AOVZf-0lsl_wW0_ZzuByuDiNJETBY/edit?usp=sharing"
   ]
  },
  {
   "cell_type": "markdown",
   "metadata": {},
   "source": [
    "### Data Overview"
   ]
  },
  {
   "cell_type": "code",
   "execution_count": 6,
   "metadata": {},
   "outputs": [
    {
     "name": "stdout",
     "output_type": "stream",
     "text": [
      "engagement\n",
      "engagement_change\n",
      "engagement_var\n",
      "participant\n",
      "session_num\n",
      "timestamp\n"
     ]
    }
   ],
   "source": [
    "# Main Columns\n",
    "basic_cols = []\n",
    "for i in data[0].columns:\n",
    "    if 'of_' not in i and 'op_' not in i and 'p_' not in i and 'a_' not in i:\n",
    "        basic_cols.append(i)\n",
    "        \n",
    "basic_cols = sorted(basic_cols)\n",
    "for i in basic_cols:\n",
    "    print(i)"
   ]
  },
  {
   "cell_type": "code",
   "execution_count": 7,
   "metadata": {},
   "outputs": [
    {
     "name": "stdout",
     "output_type": "stream",
     "text": [
      "of_AU01_c\n",
      "of_AU01_change\n",
      "of_AU02_c\n",
      "of_AU02_change\n",
      "of_AU04_c\n",
      "of_AU04_change\n",
      "of_AU05_c\n",
      "of_AU05_change\n",
      "of_AU06_c\n",
      "of_AU06_change\n",
      "of_AU07_c\n",
      "of_AU07_change\n",
      "of_AU09_c\n",
      "of_AU09_change\n",
      "of_AU10_c\n",
      "of_AU10_change\n",
      "of_AU12_c\n",
      "of_AU12_change\n",
      "of_AU14_c\n",
      "of_AU14_change\n",
      "of_AU15_c\n",
      "of_AU15_change\n",
      "of_AU17_c\n",
      "of_AU17_change\n",
      "of_AU20_c\n",
      "of_AU20_change\n",
      "of_AU23_c\n",
      "of_AU23_change\n",
      "of_AU25_c\n",
      "of_AU25_change\n",
      "of_AU26_c\n",
      "of_AU26_change\n",
      "of_AU28_c\n",
      "of_AU28_change\n",
      "of_AU45_c\n",
      "of_AU45_change\n",
      "of_confidence\n",
      "of_confidence_var\n",
      "of_gaze_0_x\n",
      "of_gaze_0_x_var\n",
      "of_gaze_0_y\n",
      "of_gaze_0_y_var\n",
      "of_gaze_0_z\n",
      "of_gaze_0_z_var\n",
      "of_gaze_1_x\n",
      "of_gaze_1_x_var\n",
      "of_gaze_1_y\n",
      "of_gaze_1_y_var\n",
      "of_gaze_1_z\n",
      "of_gaze_1_z_var\n",
      "of_gaze_angle_x\n",
      "of_gaze_angle_x_var\n",
      "of_gaze_angle_y\n",
      "of_gaze_angle_y_var\n",
      "of_gaze_distance\n",
      "of_gaze_distance_var\n",
      "of_pose_Rx\n",
      "of_pose_Rx_var\n",
      "of_pose_Ry\n",
      "of_pose_Ry_var\n",
      "of_pose_Rz\n",
      "of_pose_Rz_var\n",
      "of_pose_Tx\n",
      "of_pose_Tx_var\n",
      "of_pose_Ty\n",
      "of_pose_Ty_var\n",
      "of_pose_Tz\n",
      "of_pose_Tz_var\n",
      "of_pose_distance\n",
      "of_pose_distance_var\n",
      "of_success\n",
      "of_success_change\n",
      "of_ts_success\n"
     ]
    }
   ],
   "source": [
    "# Open Face Columns\n",
    "\n",
    "of_cols = []\n",
    "for i in data[0].columns:\n",
    "    if 'of_' in i:\n",
    "        of_cols.append(i)\n",
    "        \n",
    "of_cols = sorted(of_cols)\n",
    "for i in of_cols:\n",
    "    print(i)"
   ]
  },
  {
   "cell_type": "code",
   "execution_count": 8,
   "metadata": {},
   "outputs": [
    {
     "name": "stdout",
     "output_type": "stream",
     "text": [
      "a_harmonicity\n",
      "a_harmonicity_var\n",
      "a_intensity\n",
      "a_intensity_var\n",
      "a_mfcc_0\n",
      "a_mfcc_0_var\n",
      "a_mfcc_1\n",
      "a_mfcc_1_var\n",
      "a_pitch_frequency\n",
      "a_pitch_frequency_var\n",
      "a_pitch_strength\n",
      "a_pitch_strength_var\n"
     ]
    }
   ],
   "source": [
    "# Audio Columns\n",
    "\n",
    "a_cols = []\n",
    "for i in data[0].columns:\n",
    "    if 'a_' in i:\n",
    "        a_cols.append(i)\n",
    "        \n",
    "a_cols = sorted(a_cols)\n",
    "for i in a_cols:\n",
    "    print(i)"
   ]
  },
  {
   "cell_type": "code",
   "execution_count": 9,
   "metadata": {},
   "outputs": [
    {
     "name": "stdout",
     "output_type": "stream",
     "text": [
      "p_aptitude\n",
      "p_aptitude_var\n",
      "p_diff_1\n",
      "p_diff_2\n",
      "p_diff_3\n",
      "p_diff_4\n",
      "p_diff_5\n",
      "p_games_change\n",
      "p_games_session\n",
      "p_games_total\n",
      "p_mistakes_change\n",
      "p_mistakes_game\n",
      "p_mistakes_session\n",
      "p_mistakes_total\n",
      "p_no_game\n",
      "p_playing_change\n",
      "p_skill_EM\n",
      "p_skill_NC\n",
      "p_skill_OS\n",
      "p_ts_attempt\n",
      "p_ts_game_played\n",
      "p_ts_game_start\n",
      "p_ts_robot_talked\n"
     ]
    }
   ],
   "source": [
    "# Performance Columns\n",
    "\n",
    "p_cols = []\n",
    "for i in data[0].columns:\n",
    "    if 'p_' in i and 'op_' not in i:\n",
    "        p_cols.append(i)\n",
    "        \n",
    "p_cols = sorted(p_cols)\n",
    "for i in p_cols:\n",
    "    print(i)"
   ]
  },
  {
   "cell_type": "code",
   "execution_count": 10,
   "metadata": {},
   "outputs": [
    {
     "name": "stdout",
     "output_type": "stream",
     "text": [
      "a_harmonicity_var\n",
      "a_intensity_var\n",
      "a_mfcc_0_var\n",
      "a_mfcc_1_var\n",
      "a_pitch_frequency_var\n",
      "a_pitch_strength_var\n",
      "of_AU01_change\n",
      "of_AU02_change\n",
      "of_AU04_change\n",
      "of_AU05_change\n",
      "of_AU06_change\n",
      "of_AU07_change\n",
      "of_AU09_change\n",
      "of_AU10_change\n",
      "of_AU12_change\n",
      "of_AU14_change\n",
      "of_AU15_change\n",
      "of_AU17_change\n",
      "of_AU20_change\n",
      "of_AU23_change\n",
      "of_AU25_change\n",
      "of_AU26_change\n",
      "of_AU28_change\n",
      "of_AU45_change\n",
      "of_confidence_var\n",
      "of_gaze_0_x_var\n",
      "of_gaze_0_y_var\n",
      "of_gaze_0_z_var\n",
      "of_gaze_1_x_var\n",
      "of_gaze_1_y_var\n",
      "of_gaze_1_z_var\n",
      "of_gaze_angle_x_var\n",
      "of_gaze_angle_y_var\n",
      "of_gaze_distance_var\n",
      "of_pose_Rx_var\n",
      "of_pose_Ry_var\n",
      "of_pose_Rz_var\n",
      "of_pose_Tx_var\n",
      "of_pose_Ty_var\n",
      "of_pose_Tz_var\n",
      "of_pose_distance_var\n",
      "of_success_change\n",
      "op_num_people_var\n",
      "p_aptitude_var\n",
      "p_games_change\n",
      "p_mistakes_change\n",
      "p_playing_change\n"
     ]
    }
   ],
   "source": [
    "# For Window Only:\n",
    "non_window_features = []\n",
    "window_features = []\n",
    "for i in data[0].columns:\n",
    "    if i not in basic_cols:\n",
    "        if 'change' in i or 'var' in i:\n",
    "            window_features.append(i)\n",
    "        else:\n",
    "            non_window_features.append(i)\n",
    "        \n",
    "window_features = sorted(window_features)\n",
    "for i in window_features:\n",
    "    print(i)"
   ]
  },
  {
   "cell_type": "markdown",
   "metadata": {},
   "source": [
    "### Filter Feature Set (Optional)"
   ]
  },
  {
   "cell_type": "code",
   "execution_count": 11,
   "metadata": {},
   "outputs": [],
   "source": [
    "# features_to_keep = data[0].columns\n",
    "\n",
    "# always include basic_cols, add desired group of features \n",
    "# features_to_keep = basic_cols + of_cols + p_cols + a_cols\n",
    "\n",
    "# for i,d in enumerate(data):\n",
    "#     data[i] = d[features_to_keep]"
   ]
  },
  {
   "cell_type": "markdown",
   "metadata": {},
   "source": [
    "# 3 -- Train-Test Split"
   ]
  },
  {
   "cell_type": "code",
   "execution_count": 12,
   "metadata": {},
   "outputs": [],
   "source": [
    "# Helper Function: Split a Participant's Data Chronologically \n",
    "\n",
    "def part_split(split, split_size):\n",
    "    split = split.sort_values(['session_num', 'timestamp'], ascending=[True, True])\n",
    "    bogus = split['engagement']\n",
    "\n",
    "    split_train, split_test, bogus1, bogus2 = train_test_split(split, bogus, test_size=split_size, shuffle=False)\n",
    "    return split_train, split_test"
   ]
  },
  {
   "cell_type": "code",
   "execution_count": 13,
   "metadata": {},
   "outputs": [],
   "source": [
    "# Function: Formulate Train-Test Split \n",
    "\n",
    "# train_part: an array of participants \n",
    "# test_part: single participant\n",
    "# split_size: how much of test_part data to use for testing\n",
    "def split(train_part, test_part, split_size):\n",
    "    train_data = []\n",
    "    for p in train_part:\n",
    "        i = part.index(p)\n",
    "        train_data.append(data[i])\n",
    "    \n",
    "    i = part.index(test_part)\n",
    "    test_data = data[i]\n",
    "    if split_size < 1:\n",
    "        split_train, test_data = part_split(test_data, split_size)\n",
    "        train_data.append(split_train)\n",
    "    \n",
    "    train_data = pd.concat(train_data, ignore_index=True, sort=True)\n",
    "    \n",
    "    return train_data, test_data"
   ]
  },
  {
   "cell_type": "code",
   "execution_count": 26,
   "metadata": {},
   "outputs": [],
   "source": [
    "# Train-Test Split\n",
    "\n",
    "# Excluding Participant 8\n",
    "perc = 1\n",
    "#train, test = split(train_part=[5,7], test_part=9, split_size=perc)\n",
    "#train, test = split(train_part=[5,9], test_part=7, split_size=perc)\n",
    "train, test = split(train_part=[7,9], test_part=5, split_size=perc)\n",
    "\n",
    "# Individualized\n",
    "# perc = 0.7\n",
    "# train, test = split(train_part=[], test_part=7, split_size=perc)\n",
    "# train, test = split(train_part=[], test_part=5, split_size=perc)\n",
    "# train, test = split(train_part=[], test_part=9, split_size=perc)\n",
    "# train, test = split(train_part=[], test_part=8, split_size=perc)"
   ]
  },
  {
   "cell_type": "markdown",
   "metadata": {},
   "source": [
    "# 4 -- Scenario Based Modeling"
   ]
  },
  {
   "cell_type": "markdown",
   "metadata": {},
   "source": [
    "- During Game / Outside of Game\n",
    "- Open Face Success / Failure\n",
    "- Robot Talking / Not Talking\n",
    "- First 10 Minutes / After 10 Minutes"
   ]
  },
  {
   "cell_type": "code",
   "execution_count": 27,
   "metadata": {},
   "outputs": [],
   "source": [
    "# Create Separate Models for Different Scenarios\n",
    "\n",
    "# # Outside of Game\n",
    "# train = train.loc[train['no_game']==1]\n",
    "# test = test.loc[test['no_game']==1]\n",
    "\n",
    "# # During Game\n",
    "# train = train.loc[train['no_game']==0]\n",
    "# test = test.loc[test['no_game']==0]\n",
    "\n",
    "# # Open Face Success\n",
    "# train = train.loc[train['of_success']==1]\n",
    "# test = test.loc[test['of_success']==1]\n",
    "\n",
    "# # Open Face Failure\n",
    "# train = train.loc[train['of_success']==0]\n",
    "# test = test.loc[test['of_success']==0]\n",
    "\n",
    "# # Robot Talking\n",
    "# train = train.loc[train['p_ts_robot_talked']==0]\n",
    "# test = test.loc[test['p_ts_robot_talked']==0]\n",
    "\n",
    "# # Robot Not Talking\n",
    "# train = train.loc[train['p_ts_robot_talked']>0]\n",
    "# test = test.loc[test['p_ts_robot_talked']>0]\n",
    "\n",
    "# # First 10 Minutes of Session\n",
    "# train = train.loc[train['timestamp']<=(10*60)]\n",
    "# test = test.loc[test['timestamp']<=(10*60)]\n",
    "\n",
    "# # After first 10 Minutes of Session\n",
    "# train = train.loc[train['timestamp']>(10*60)]\n",
    "# test = test.loc[test['timestamp']>(10*60)]"
   ]
  },
  {
   "cell_type": "markdown",
   "metadata": {},
   "source": [
    "### Divide into X_train, y_train, X_test, y_test"
   ]
  },
  {
   "cell_type": "code",
   "execution_count": 28,
   "metadata": {},
   "outputs": [],
   "source": [
    "y_train = train['engagement']\n",
    "X_train = train.drop(columns=basic_cols)\n",
    "\n",
    "y_test = test['engagement']\n",
    "X_test = test.drop(columns=basic_cols)"
   ]
  },
  {
   "cell_type": "code",
   "execution_count": 29,
   "metadata": {},
   "outputs": [],
   "source": [
    "# Sort Training Data Together \n",
    "\n",
    "X_train, bogus1, y_train, bogus2 = train_test_split(X_train, y_train, test_size=0.0, shuffle=True)\n",
    "X_train, bogus1, y_train, bogus2 = train_test_split(X_train, y_train, test_size=0.0, shuffle=True)\n",
    "X_train, bogus1, y_train, bogus2 = train_test_split(X_train, y_train, test_size=0.0, shuffle=True)\n",
    "X_train, bogus1, y_train, bogus2 = train_test_split(X_train, y_train, test_size=0.0, shuffle=True)\n",
    "X_train, bogus1, y_train, bogus2 = train_test_split(X_train, y_train, test_size=0.0, shuffle=True)"
   ]
  },
  {
   "cell_type": "markdown",
   "metadata": {},
   "source": [
    "# 5 -- Preprocessing\n",
    "Standardization Recommended"
   ]
  },
  {
   "cell_type": "markdown",
   "metadata": {},
   "source": [
    "### Min-Max Scaling\n",
    "- x' = ( x - min(x) ) / ( max(x) - min(x) )\n",
    "- => x' in [0, 1], fill NaN with -1"
   ]
  },
  {
   "cell_type": "code",
   "execution_count": 30,
   "metadata": {},
   "outputs": [],
   "source": [
    "# for c in X_train.columns:\n",
    "#     min_val = np.nanmin(X_train[c])\n",
    "#     max_val = np.nanmax(X_train[c])\n",
    "    \n",
    "#     X_train[c] = (X_train[c]-min_val)/(max_val - min_val)\n",
    "#     X_test[c] = (X_test[c]-min_val)/(max_val - min_val)\n",
    "    \n",
    "# X_train = X_train.fillna(-1)\n",
    "# X_test = X_test.fillna(-1)"
   ]
  },
  {
   "cell_type": "markdown",
   "metadata": {},
   "source": [
    "### Standardization (Recommended)\n",
    "- x' = ( x - mean(x) ) / ( stdev(x) )\n",
    "- => x' is z-score, NaN's filled with min_val"
   ]
  },
  {
   "cell_type": "code",
   "execution_count": 31,
   "metadata": {},
   "outputs": [],
   "source": [
    "for c in X_train.columns:\n",
    "    mean = np.nanmean(X_train[c])\n",
    "    std = np.nanstd(X_train[c])\n",
    "    \n",
    "    X_train[c] = (X_train[c]-mean)/(std)\n",
    "    X_test[c] = (X_test[c]-mean)/(std)\n",
    "        \n",
    "    if 'of_pose_distance' not in c:\n",
    "        min_val = np.nanmin(X_train[c])\n",
    "\n",
    "        X_train[c] = X_train[c].fillna(min_val)\n",
    "        X_test[c] = X_test[c].fillna(min_val)\n",
    "    else:\n",
    "        max_val = np.nanmax(X_train[c])\n",
    "\n",
    "        X_train[c] = X_train[c].fillna(max_val)\n",
    "        X_test[c] = X_test[c].fillna(max_val)"
   ]
  },
  {
   "cell_type": "markdown",
   "metadata": {},
   "source": [
    "# 6 -- Model!"
   ]
  },
  {
   "cell_type": "code",
   "execution_count": 32,
   "metadata": {},
   "outputs": [],
   "source": [
    "# TODO: Should Try K-Folds Cross Validation to Get Best Hyper Parameters"
   ]
  },
  {
   "cell_type": "code",
   "execution_count": 33,
   "metadata": {},
   "outputs": [],
   "source": [
    "from sklearn.ensemble import RandomForestClassifier"
   ]
  },
  {
   "cell_type": "code",
   "execution_count": 36,
   "metadata": {},
   "outputs": [
    {
     "data": {
      "text/plain": [
       "RandomForestClassifier(bootstrap=True, class_weight=None, criterion='entropy',\n",
       "            max_depth=5, max_features='auto', max_leaf_nodes=None,\n",
       "            min_impurity_decrease=0.0, min_impurity_split=None,\n",
       "            min_samples_leaf=1, min_samples_split=2,\n",
       "            min_weight_fraction_leaf=0.0, n_estimators=10, n_jobs=None,\n",
       "            oob_score=False, random_state=None, verbose=0,\n",
       "            warm_start=False)"
      ]
     },
     "execution_count": 36,
     "metadata": {},
     "output_type": "execute_result"
    }
   ],
   "source": [
    "clf = RandomForestClassifier(n_estimators=10, max_depth=5, criterion='entropy', max_features='auto')\n",
    "clf.fit(X_train.values, y_train.values)"
   ]
  },
  {
   "cell_type": "code",
   "execution_count": 37,
   "metadata": {},
   "outputs": [
    {
     "name": "stdout",
     "output_type": "stream",
     "text": [
      "AUC: 0.9460460086468699\n",
      "Accuracy: 0.8700399974604787\n"
     ]
    }
   ],
   "source": [
    "# Train Accuracy \n",
    "\n",
    "train_pred = clf.predict(X_train.values)\n",
    "train_scores = clf.predict_proba(X_train.values)[:,1]\n",
    "try:\n",
    "    print(\"AUC:\",roc_auc_score(y_train.values, train_scores)) \n",
    "except:\n",
    "    print(\"AUC undefinied, only 1 class in test data\")\n",
    "    \n",
    "print(\"Accuracy:\",accuracy_score(y_train.values, train_pred))"
   ]
  },
  {
   "cell_type": "code",
   "execution_count": 38,
   "metadata": {},
   "outputs": [],
   "source": [
    "pred = clf.predict(X_test.values)\n",
    "scores = clf.predict_proba(X_test.values)[:,1]"
   ]
  },
  {
   "cell_type": "markdown",
   "metadata": {},
   "source": [
    "# 7 -- Evaluation"
   ]
  },
  {
   "cell_type": "code",
   "execution_count": 39,
   "metadata": {},
   "outputs": [],
   "source": [
    "# y_test: actual y values for test data\n",
    "# scores: predicted probabilistic y values for test data\n",
    "# pred: predicted binary y values for test data"
   ]
  },
  {
   "cell_type": "code",
   "execution_count": 285,
   "metadata": {
    "scrolled": true
   },
   "outputs": [
    {
     "name": "stdout",
     "output_type": "stream",
     "text": [
      "AUC: 0.9063420729649934\n",
      "Accuracy: 0.8153077521602031\n",
      "[[ 9406  3386]\n",
      " [ 1124 10503]]\n",
      "              precision    recall  f1-score   support\n",
      "\n",
      "         0.0       0.89      0.74      0.81     12792\n",
      "         1.0       0.76      0.90      0.82     11627\n",
      "\n",
      "   micro avg       0.82      0.82      0.82     24419\n",
      "   macro avg       0.82      0.82      0.81     24419\n",
      "weighted avg       0.83      0.82      0.81     24419\n",
      "\n"
     ]
    }
   ],
   "source": [
    "try:\n",
    "    print(\"AUC:\",roc_auc_score(y_test, scores)) \n",
    "except:\n",
    "    print(\"AUC undefinied, only 1 class in test data\")\n",
    "\n",
    "print(\"Accuracy:\",accuracy_score(y_test, pred))\n",
    "print(metrics.confusion_matrix(y_test, pred))\n",
    "print(metrics.classification_report(y_test, pred))"
   ]
  },
  {
   "cell_type": "code",
   "execution_count": 286,
   "metadata": {},
   "outputs": [
    {
     "data": {
      "text/plain": [
       "[0.8153077521602031,\n",
       " 0.9063420729649934,\n",
       " '0.89',\n",
       " '0.76',\n",
       " '0.74',\n",
       " '0.90',\n",
       " '0.81',\n",
       " '0.82']"
      ]
     },
     "execution_count": 286,
     "metadata": {},
     "output_type": "execute_result"
    }
   ],
   "source": []
  },
  {
   "cell_type": "markdown",
   "metadata": {},
   "source": [
    "# 8--Randomized Random Forest best params"
   ]
  },
  {
   "cell_type": "code",
   "execution_count": 41,
   "metadata": {},
   "outputs": [
    {
     "name": "stdout",
     "output_type": "stream",
     "text": [
      "Parameters currently in use:\n",
      "\n",
      "{'bootstrap': True,\n",
      " 'criterion': 'mse',\n",
      " 'max_depth': None,\n",
      " 'max_features': 'auto',\n",
      " 'max_leaf_nodes': None,\n",
      " 'min_impurity_decrease': 0.0,\n",
      " 'min_impurity_split': None,\n",
      " 'min_samples_leaf': 1,\n",
      " 'min_samples_split': 2,\n",
      " 'min_weight_fraction_leaf': 0.0,\n",
      " 'n_estimators': 'warn',\n",
      " 'n_jobs': None,\n",
      " 'oob_score': False,\n",
      " 'random_state': 42,\n",
      " 'verbose': 0,\n",
      " 'warm_start': False}\n"
     ]
    }
   ],
   "source": [
    "from sklearn.ensemble import RandomForestRegressor\n",
    "rf = RandomForestRegressor(random_state = 42)\n",
    "from pprint import pprint\n",
    "# Look at parameters used by our current forest\n",
    "print('Parameters currently in use:\\n')\n",
    "pprint(rf.get_params())"
   ]
  },
  {
   "cell_type": "code",
   "execution_count": 42,
   "metadata": {},
   "outputs": [],
   "source": [
    "#re-parameterizing is a pain in the ass, so I made this variation of section 6 +7\n",
    "from sklearn.model_selection import RandomizedSearchCV"
   ]
  },
  {
   "cell_type": "code",
   "execution_count": 44,
   "metadata": {},
   "outputs": [
    {
     "data": {
      "text/plain": [
       "[10, 21, 32, 43, 54, 65, 76, 87, 98, 110]"
      ]
     },
     "execution_count": 44,
     "metadata": {},
     "output_type": "execute_result"
    }
   ],
   "source": [
    "# Number of trees in random forest\n",
    "n_estimators = [int(x) for x in np.linspace(start = 10, stop = 110, num = 10)]\n",
    "# Number of features to consider at every split\n",
    "max_features = ['auto', 'sqrt']\n",
    "# Maximum number of levels in tree\n",
    "max_depth = [int(x) for x in np.linspace(10, 110, num = 11)]\n",
    "max_depth.append(None)\n",
    "# Minimum number of samples required to split a node\n",
    "min_samples_split = [2, 5, 10]\n",
    "# Minimum number of samples required at each leaf node\n",
    "min_samples_leaf = [1, 2, 4]\n",
    "# Method of selecting samples for training each tree\n",
    "bootstrap = [True, False]\n",
    "# Create the random grid\n",
    "random_grid = {'n_estimators': n_estimators,\n",
    "               'max_features': max_features,\n",
    "               'max_depth': max_depth,\n",
    "               'min_samples_split': min_samples_split,\n",
    "               'min_samples_leaf': min_samples_leaf,\n",
    "               'bootstrap': bootstrap}\n",
    "rf_random = RandomizedSearchCV(estimator = rf, param_distributions = random_grid, n_iter = 100, cv = 3, verbose=2, random_state=42, n_jobs = -1)\n",
    "n_estimators"
   ]
  },
  {
   "cell_type": "code",
   "execution_count": null,
   "metadata": {},
   "outputs": [
    {
     "name": "stdout",
     "output_type": "stream",
     "text": [
      "Fitting 3 folds for each of 100 candidates, totalling 300 fits\n"
     ]
    },
    {
     "name": "stderr",
     "output_type": "stream",
     "text": [
      "[Parallel(n_jobs=-1)]: Using backend LokyBackend with 4 concurrent workers.\n",
      "[Parallel(n_jobs=-1)]: Done  33 tasks      | elapsed: 12.0min\n"
     ]
    }
   ],
   "source": [
    "rf_random.fit(X_train.values, y_train.values)"
   ]
  },
  {
   "cell_type": "code",
   "execution_count": null,
   "metadata": {},
   "outputs": [],
   "source": [
    "rf_random.best_params_"
   ]
  },
  {
   "cell_type": "code",
   "execution_count": null,
   "metadata": {},
   "outputs": [],
   "source": [
    "#evaluate best parameters\n",
    "def evaluate(model, test_features, test_labels):\n",
    "    predictions = model.predict(test_features)\n",
    "    errors = abs(predictions - test_labels)\n",
    "    mape = 100 * np.mean(errors / test_labels)\n",
    "    accuracy = 100 - mape\n",
    "    print('Model Performance')\n",
    "    print('Average Error: {:0.4f} degrees.'.format(np.mean(errors)))\n",
    "    print('Accuracy = {:0.2f}%.'.format(accuracy))\n",
    "    \n",
    "    return accuracy"
   ]
  },
  {
   "cell_type": "code",
   "execution_count": null,
   "metadata": {},
   "outputs": [],
   "source": [
    "best_random = rf_random.best_estimator_\n",
    "random_accuracy = evaluate(best_random, X_test.values, y_test)"
   ]
  },
  {
   "cell_type": "code",
   "execution_count": null,
   "metadata": {},
   "outputs": [],
   "source": [
    "solutions= []\n",
    "\n",
    "solutions.append(accuracy_score(y_test, pred))\n",
    "solutions.append(roc_auc_score(y_test, scores))\n",
    "solutions.append(metrics.classification_report(y_test,pred)[70:80].strip())\n",
    "solutions.append(metrics.classification_report(y_test,pred)[128:133].strip())\n",
    "solutions.append(metrics.classification_report(y_test,pred)[83:90].strip())\n",
    "solutions.append(metrics.classification_report(y_test,pred)[136:142].strip())\n",
    "solutions.append(metrics.classification_report(y_test,pred)[90:100].strip())\n",
    "solutions.append(metrics.classification_report(y_test,pred)[145:152].strip())\n",
    "\n",
    "solutions"
   ]
  },
  {
   "cell_type": "code",
   "execution_count": null,
   "metadata": {},
   "outputs": [],
   "source": []
  }
 ],
 "metadata": {
  "kernelspec": {
   "display_name": "Python 3",
   "language": "python",
   "name": "python3"
  },
  "language_info": {
   "codemirror_mode": {
    "name": "ipython",
    "version": 3
   },
   "file_extension": ".py",
   "mimetype": "text/x-python",
   "name": "python",
   "nbconvert_exporter": "python",
   "pygments_lexer": "ipython3",
   "version": "3.6.4"
  }
 },
 "nbformat": 4,
 "nbformat_minor": 2
}
