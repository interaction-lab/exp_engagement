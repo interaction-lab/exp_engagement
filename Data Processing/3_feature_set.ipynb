{
 "cells": [
  {
   "cell_type": "code",
   "execution_count": 1,
   "metadata": {},
   "outputs": [],
   "source": [
    "# Extract Feature Set (Select Particular Columns) from entire dataset"
   ]
  },
  {
   "cell_type": "code",
   "execution_count": 2,
   "metadata": {},
   "outputs": [],
   "source": [
    "# Imports\n",
    "\n",
    "import pandas as pd\n",
    "import numpy as np\n",
    "from pandas import *\n",
    "import os\n",
    "import re\n",
    "import math"
   ]
  },
  {
   "cell_type": "markdown",
   "metadata": {},
   "source": [
    "#### TODO: Specifiy Data Path Based on Participant/Your Computer"
   ]
  },
  {
   "cell_type": "code",
   "execution_count": 3,
   "metadata": {},
   "outputs": [
    {
     "name": "stderr",
     "output_type": "stream",
     "text": [
      "/anaconda3/envs/caispp/lib/python3.5/site-packages/IPython/core/interactiveshell.py:2785: DtypeWarning: Columns (2,4,6,21,22,23,24,25) have mixed types. Specify dtype option on import or set low_memory=False.\n",
      "  interactivity=interactivity, compiler=compiler, result=result)\n"
     ]
    }
   ],
   "source": [
    "# TODO: Specify Data Path based on participant/your computer\n",
    "# Warning: this will probably take some time\n",
    "\n",
    "file = '../../../../Google Drive File Stream/My Drive/USC Expeditions Year 5/Analysis/Help-Seeking/Data/p8_data_raw.csv'\n",
    "data = pd.read_csv(file)"
   ]
  },
  {
   "cell_type": "code",
   "execution_count": 4,
   "metadata": {},
   "outputs": [
    {
     "data": {
      "text/html": [
       "<div>\n",
       "<style scoped>\n",
       "    .dataframe tbody tr th:only-of-type {\n",
       "        vertical-align: middle;\n",
       "    }\n",
       "\n",
       "    .dataframe tbody tr th {\n",
       "        vertical-align: top;\n",
       "    }\n",
       "\n",
       "    .dataframe thead th {\n",
       "        text-align: right;\n",
       "    }\n",
       "</style>\n",
       "<table border=\"1\" class=\"dataframe\">\n",
       "  <thead>\n",
       "    <tr style=\"text-align: right;\">\n",
       "      <th></th>\n",
       "      <th>participant</th>\n",
       "      <th>session_num</th>\n",
       "      <th>session_date</th>\n",
       "      <th>timestamp</th>\n",
       "      <th>engagement</th>\n",
       "      <th>activity</th>\n",
       "      <th>skill</th>\n",
       "      <th>difficulty</th>\n",
       "      <th>aptitude</th>\n",
       "      <th>games_total</th>\n",
       "      <th>...</th>\n",
       "      <th>op_p2_pose_y22</th>\n",
       "      <th>op_p2_pose_y23</th>\n",
       "      <th>op_p2_pose_y24</th>\n",
       "      <th>op_p2_pose_y3</th>\n",
       "      <th>op_p2_pose_y4</th>\n",
       "      <th>op_p2_pose_y5</th>\n",
       "      <th>op_p2_pose_y6</th>\n",
       "      <th>op_p2_pose_y7</th>\n",
       "      <th>op_p2_pose_y8</th>\n",
       "      <th>op_p2_pose_y9</th>\n",
       "    </tr>\n",
       "  </thead>\n",
       "  <tbody>\n",
       "    <tr>\n",
       "      <th>0</th>\n",
       "      <td>NaN</td>\n",
       "      <td>0.0</td>\n",
       "      <td>NaN</td>\n",
       "      <td>NaN</td>\n",
       "      <td>disengaged</td>\n",
       "      <td>NaN</td>\n",
       "      <td>NaN</td>\n",
       "      <td>NaN</td>\n",
       "      <td>0.5</td>\n",
       "      <td>128.0</td>\n",
       "      <td>...</td>\n",
       "      <td>NaN</td>\n",
       "      <td>NaN</td>\n",
       "      <td>NaN</td>\n",
       "      <td>NaN</td>\n",
       "      <td>NaN</td>\n",
       "      <td>NaN</td>\n",
       "      <td>NaN</td>\n",
       "      <td>NaN</td>\n",
       "      <td>NaN</td>\n",
       "      <td>NaN</td>\n",
       "    </tr>\n",
       "    <tr>\n",
       "      <th>1</th>\n",
       "      <td>NaN</td>\n",
       "      <td>0.0</td>\n",
       "      <td>NaN</td>\n",
       "      <td>NaN</td>\n",
       "      <td>disengaged</td>\n",
       "      <td>NaN</td>\n",
       "      <td>NaN</td>\n",
       "      <td>NaN</td>\n",
       "      <td>0.5</td>\n",
       "      <td>128.0</td>\n",
       "      <td>...</td>\n",
       "      <td>NaN</td>\n",
       "      <td>NaN</td>\n",
       "      <td>NaN</td>\n",
       "      <td>NaN</td>\n",
       "      <td>NaN</td>\n",
       "      <td>NaN</td>\n",
       "      <td>NaN</td>\n",
       "      <td>NaN</td>\n",
       "      <td>NaN</td>\n",
       "      <td>NaN</td>\n",
       "    </tr>\n",
       "    <tr>\n",
       "      <th>2</th>\n",
       "      <td>NaN</td>\n",
       "      <td>0.0</td>\n",
       "      <td>NaN</td>\n",
       "      <td>NaN</td>\n",
       "      <td>disengaged</td>\n",
       "      <td>NaN</td>\n",
       "      <td>NaN</td>\n",
       "      <td>NaN</td>\n",
       "      <td>0.5</td>\n",
       "      <td>128.0</td>\n",
       "      <td>...</td>\n",
       "      <td>NaN</td>\n",
       "      <td>NaN</td>\n",
       "      <td>NaN</td>\n",
       "      <td>NaN</td>\n",
       "      <td>NaN</td>\n",
       "      <td>NaN</td>\n",
       "      <td>NaN</td>\n",
       "      <td>NaN</td>\n",
       "      <td>NaN</td>\n",
       "      <td>NaN</td>\n",
       "    </tr>\n",
       "    <tr>\n",
       "      <th>3</th>\n",
       "      <td>NaN</td>\n",
       "      <td>0.0</td>\n",
       "      <td>NaN</td>\n",
       "      <td>NaN</td>\n",
       "      <td>disengaged</td>\n",
       "      <td>NaN</td>\n",
       "      <td>NaN</td>\n",
       "      <td>NaN</td>\n",
       "      <td>0.5</td>\n",
       "      <td>128.0</td>\n",
       "      <td>...</td>\n",
       "      <td>NaN</td>\n",
       "      <td>NaN</td>\n",
       "      <td>NaN</td>\n",
       "      <td>NaN</td>\n",
       "      <td>NaN</td>\n",
       "      <td>NaN</td>\n",
       "      <td>NaN</td>\n",
       "      <td>NaN</td>\n",
       "      <td>NaN</td>\n",
       "      <td>NaN</td>\n",
       "    </tr>\n",
       "    <tr>\n",
       "      <th>4</th>\n",
       "      <td>NaN</td>\n",
       "      <td>0.0</td>\n",
       "      <td>NaN</td>\n",
       "      <td>NaN</td>\n",
       "      <td>disengaged</td>\n",
       "      <td>NaN</td>\n",
       "      <td>NaN</td>\n",
       "      <td>NaN</td>\n",
       "      <td>0.5</td>\n",
       "      <td>128.0</td>\n",
       "      <td>...</td>\n",
       "      <td>NaN</td>\n",
       "      <td>NaN</td>\n",
       "      <td>NaN</td>\n",
       "      <td>NaN</td>\n",
       "      <td>NaN</td>\n",
       "      <td>NaN</td>\n",
       "      <td>NaN</td>\n",
       "      <td>NaN</td>\n",
       "      <td>NaN</td>\n",
       "      <td>NaN</td>\n",
       "    </tr>\n",
       "  </tbody>\n",
       "</table>\n",
       "<p>5 rows × 1563 columns</p>\n",
       "</div>"
      ],
      "text/plain": [
       "   participant  session_num session_date  timestamp  engagement  activity  \\\n",
       "0          NaN          0.0          NaN        NaN  disengaged       NaN   \n",
       "1          NaN          0.0          NaN        NaN  disengaged       NaN   \n",
       "2          NaN          0.0          NaN        NaN  disengaged       NaN   \n",
       "3          NaN          0.0          NaN        NaN  disengaged       NaN   \n",
       "4          NaN          0.0          NaN        NaN  disengaged       NaN   \n",
       "\n",
       "  skill  difficulty  aptitude  games_total      ...        op_p2_pose_y22  \\\n",
       "0   NaN         NaN       0.5        128.0      ...                   NaN   \n",
       "1   NaN         NaN       0.5        128.0      ...                   NaN   \n",
       "2   NaN         NaN       0.5        128.0      ...                   NaN   \n",
       "3   NaN         NaN       0.5        128.0      ...                   NaN   \n",
       "4   NaN         NaN       0.5        128.0      ...                   NaN   \n",
       "\n",
       "   op_p2_pose_y23  op_p2_pose_y24  op_p2_pose_y3  op_p2_pose_y4  \\\n",
       "0             NaN             NaN            NaN            NaN   \n",
       "1             NaN             NaN            NaN            NaN   \n",
       "2             NaN             NaN            NaN            NaN   \n",
       "3             NaN             NaN            NaN            NaN   \n",
       "4             NaN             NaN            NaN            NaN   \n",
       "\n",
       "   op_p2_pose_y5  op_p2_pose_y6  op_p2_pose_y7  op_p2_pose_y8  op_p2_pose_y9  \n",
       "0            NaN            NaN            NaN            NaN            NaN  \n",
       "1            NaN            NaN            NaN            NaN            NaN  \n",
       "2            NaN            NaN            NaN            NaN            NaN  \n",
       "3            NaN            NaN            NaN            NaN            NaN  \n",
       "4            NaN            NaN            NaN            NaN            NaN  \n",
       "\n",
       "[5 rows x 1563 columns]"
      ]
     },
     "execution_count": 4,
     "metadata": {},
     "output_type": "execute_result"
    }
   ],
   "source": [
    "data.head()"
   ]
  },
  {
   "cell_type": "markdown",
   "metadata": {},
   "source": [
    "## Preprocessing Steps \n",
    "1. One Hot Encode\n",
    "2. Transform Labels \n",
    "3. Drop Irrelevant Columns"
   ]
  },
  {
   "cell_type": "code",
   "execution_count": 5,
   "metadata": {},
   "outputs": [],
   "source": [
    "# drop session 0\n",
    "\n",
    "data = data[~(data['session_num'] == 0)]  "
   ]
  },
  {
   "cell_type": "code",
   "execution_count": 6,
   "metadata": {},
   "outputs": [],
   "source": [
    "# One Hot Encoding for Skill and Difficulty\n",
    "\n",
    "data['skill_NC'] = 0\n",
    "data['skill_OS'] = 0\n",
    "data['skill_EM'] = 0\n",
    "\n",
    "data['diff_1'] = 0\n",
    "data['diff_2'] = 0\n",
    "data['diff_3'] = 0\n",
    "data['diff_4'] = 0\n",
    "data['diff_5'] = 0\n",
    "\n",
    "data['no_game'] = 0\n",
    "\n",
    "for i,r in data.iterrows():\n",
    "    skill_col = 'skill_'\n",
    "    diff_col = 'diff_'\n",
    "    \n",
    "    if isinstance(r['skill'], str):\n",
    "        skill_col += r['skill']\n",
    "        data.at[i, skill_col] = 1\n",
    "    else:\n",
    "        data.at[i, 'no_game'] = 1\n",
    "        \n",
    "    if not (math.isnan(r['difficulty'])):\n",
    "        diff_col += str(int(r['difficulty']))\n",
    "        data.at[i, diff_col] = 1\n"
   ]
  },
  {
   "cell_type": "code",
   "execution_count": 7,
   "metadata": {},
   "outputs": [],
   "source": [
    "# Transform Labels into 0s and 1s\n",
    "\n",
    "label_map = {\n",
    "    'engaged': 1,\n",
    "    'disengaged': 0\n",
    "}\n",
    "\n",
    "data['engagement'] = data['engagement'].map(label_map)\n",
    "\n",
    "data = data.dropna(subset=['engagement'])\n",
    "data = data[data['engagement'].notna()]"
   ]
  },
  {
   "cell_type": "markdown",
   "metadata": {},
   "source": [
    "## Feature Construction"
   ]
  },
  {
   "cell_type": "code",
   "execution_count": 8,
   "metadata": {},
   "outputs": [],
   "source": [
    "# Constructed Features: \n",
    "# of_gaze_distance: approximated distance from gaze to camera on x axis\n",
    "# of_pose_distance: approximated distance between camera and head position \n",
    "\n",
    "# Notes Here: https://docs.google.com/document/d/1q5ZSRo8NgItPHMHeVJkU-_e6YFZgjRdni2M6l5zrJlc/edit?usp=sharing\n",
    "\n",
    "data['of_gaze_distance'] = 0.0\n",
    "data['of_pose_distance'] = 0.0\n",
    "\n",
    "data['of_gaze_angle_x'] = pd.to_numeric(data['of_gaze_angle_x'], errors='coerce')\n",
    "data['of_pose_Tz'] = pd.to_numeric(data['of_pose_Tz'], errors='coerce')\n",
    "data['of_pose_Tx'] = pd.to_numeric(data['of_pose_Tx'], errors='coerce')\n",
    "data['of_pose_Ty'] = pd.to_numeric(data['of_pose_Ty'], errors='coerce')\n",
    "\n",
    "for i, r in data.iterrows():    \n",
    "    if (r['of_success'] == 0):\n",
    "        data.at[i, 'of_gaze_distance'] = np.nan\n",
    "        data.at[i, 'of_pose_distance'] = np.nan\n",
    "    else:\n",
    "        data.at[i, 'of_gaze_distance'] = (math.tan(r['of_gaze_angle_x'])*r['of_pose_Tz']) + r['of_pose_Tx']\n",
    "        data.at[i, 'of_pose_distance'] = math.sqrt(math.pow(r['of_pose_Tx'], 2) + math.pow(r['of_pose_Ty'], 2) + math.pow(r['of_pose_Tz'], 2))"
   ]
  },
  {
   "cell_type": "markdown",
   "metadata": {},
   "source": [
    "## Save Selected Features\n",
    "\n",
    "Note: keep timestamp and session_num until right before running the model in all feature sets"
   ]
  },
  {
   "cell_type": "code",
   "execution_count": 9,
   "metadata": {},
   "outputs": [],
   "source": [
    "basic = ['confidence', 'success', 'engagement']\n",
    "\n",
    "gaze = ['gaze_0_x', 'gaze_0_y', 'gaze_0_z', 'gaze_1_x', 'gaze_1_y', 'gaze_1_z', 'gaze_angle_x', 'gaze_angle_y', 'gaze_distance']\n",
    "\n",
    "pose = ['pose_Tx', 'pose_Ty', 'pose_Tz', 'pose_Rx', 'pose_Ry', 'pose_Rz', 'pose_distance']\n",
    "\n",
    "action_units = ['AU01_c', 'AU02_c', 'AU04_c', 'AU05_c', 'AU06_c', 'AU07_c', 'AU09_c', 'AU10_c', 'AU12_c', 'AU14_c', 'AU15_c', 'AU17_c', 'AU20_c', 'AU23_c', 'AU25_c', 'AU26_c', 'AU28_c', 'AU45_c']\n",
    "\n",
    "hand_picked = basic + gaze + pose + action_units\n",
    "\n",
    "for i,c in enumerate(hand_picked):\n",
    "    hand_picked[i] = 'of_' + c\n",
    "hand_picked += ['op_Number of People', 'timestamp', 'session_num', 'participant']\n",
    "\n",
    "performance = ['games_total', 'games_session', 'mistakes_total', 'mistakes_session', 'mistakes_game', 'ts_robot_talked', 'ts_game_start', 'ts_attempt', 'aptitude']\n",
    "\n",
    "game_info = ['diff_1', 'diff_2', 'diff_3', 'diff_4', 'diff_5', 'skill_NC', 'skill_OS', 'skill_EM', 'no_game']\n",
    "\n",
    "hand_picked += performance + game_info\n",
    "\n",
    "FS = data[hand_picked]"
   ]
  },
  {
   "cell_type": "code",
   "execution_count": 1,
   "metadata": {},
   "outputs": [
    {
     "data": {
      "text/plain": [
       "\"\\nmin_track = {}\\n\\nmax_track = {}\\n\\npath_data = '../../../../Google Drive File Stream/My Drive/USC Expeditions Year 5/Analysis/Help-Seeking/Data/min_track.csv'\\nmin_df = pd.read_csv(path_data)\\n\\npath_data = '../../../../Google Drive File Stream/My Drive/USC Expeditions Year 5/Analysis/Help-Seeking/Data/max_track.csv'\\nmax_df = pd.read_csv(path_data)\\n\\nfor c in FS.columns:\\n    print(c)\\n        \\n    try: \\n        min_val = FS.loc[:, c].min()\\n    except:\\n        FS.loc[:, c] = pd.to_numeric(FS.loc[:,c], errors='coerce')\\n        min_val = FS.loc[:, c].min()\\n        \\n    max_val = FS.loc[:, c].max()\\n    \\n    min_track[c] = min_val\\n    max_track[c] = max_val\\n\\nmin_df = min_df.append(min_track, ignore_index=True)\\nmax_df = max_df.append(max_track, ignore_index=True)\\n\""
      ]
     },
     "execution_count": 1,
     "metadata": {},
     "output_type": "execute_result"
    }
   ],
   "source": [
    "# Save Min Max \n",
    "'''\n",
    "min_track = {}\n",
    "\n",
    "max_track = {}\n",
    "\n",
    "path_data = '../../../../Google Drive File Stream/My Drive/USC Expeditions Year 5/Analysis/Help-Seeking/Data/min_track.csv'\n",
    "min_df = pd.read_csv(path_data)\n",
    "\n",
    "path_data = '../../../../Google Drive File Stream/My Drive/USC Expeditions Year 5/Analysis/Help-Seeking/Data/max_track.csv'\n",
    "max_df = pd.read_csv(path_data)\n",
    "\n",
    "for c in FS.columns:\n",
    "    print(c)\n",
    "        \n",
    "    try: \n",
    "        min_val = FS.loc[:, c].min()\n",
    "    except:\n",
    "        FS.loc[:, c] = pd.to_numeric(FS.loc[:,c], errors='coerce')\n",
    "        min_val = FS.loc[:, c].min()\n",
    "        \n",
    "    max_val = FS.loc[:, c].max()\n",
    "    \n",
    "    min_track[c] = min_val\n",
    "    max_track[c] = max_val\n",
    "\n",
    "min_df = min_df.append(min_track, ignore_index=True)\n",
    "max_df = max_df.append(max_track, ignore_index=True)\n",
    "'''"
   ]
  },
  {
   "cell_type": "markdown",
   "metadata": {},
   "source": [
    "### Write to File"
   ]
  },
  {
   "cell_type": "code",
   "execution_count": 11,
   "metadata": {},
   "outputs": [],
   "source": [
    "path_data = '../../../../Google Drive File Stream/My Drive/USC Expeditions Year 5/Analysis/Help-Seeking/Data/p8_FS.csv'\n",
    "\n",
    "FS.to_csv(path_data, index=False)"
   ]
  },
  {
   "cell_type": "code",
   "execution_count": 12,
   "metadata": {},
   "outputs": [],
   "source": [
    "#path_data = '../../../../Google Drive File Stream/My Drive/USC Expeditions Year 5/Analysis/Help-Seeking/Data/min_track.csv'\n",
    "\n",
    "#min_df.to_csv(path_data, index=False)"
   ]
  },
  {
   "cell_type": "code",
   "execution_count": 13,
   "metadata": {},
   "outputs": [],
   "source": [
    "#path_data = '../../../../Google Drive File Stream/My Drive/USC Expeditions Year 5/Analysis/Help-Seeking/Data/max_track.csv'\n",
    "\n",
    "#max_df.to_csv(path_data, index=False)"
   ]
  },
  {
   "cell_type": "code",
   "execution_count": null,
   "metadata": {},
   "outputs": [],
   "source": []
  },
  {
   "cell_type": "code",
   "execution_count": null,
   "metadata": {},
   "outputs": [],
   "source": []
  }
 ],
 "metadata": {
  "kernelspec": {
   "display_name": "Python [conda env:caispp]",
   "language": "python",
   "name": "conda-env-caispp-py"
  },
  "language_info": {
   "codemirror_mode": {
    "name": "ipython",
    "version": 3
   },
   "file_extension": ".py",
   "mimetype": "text/x-python",
   "name": "python",
   "nbconvert_exporter": "python",
   "pygments_lexer": "ipython3",
   "version": "3.5.6"
  }
 },
 "nbformat": 4,
 "nbformat_minor": 2
}
