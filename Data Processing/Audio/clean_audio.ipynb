{
 "cells": [
  {
   "cell_type": "code",
   "execution_count": 38,
   "metadata": {},
   "outputs": [],
   "source": [
    "import pandas as pd\n",
    "import os\n",
    "import regex as re"
   ]
  },
  {
   "cell_type": "code",
   "execution_count": 39,
   "metadata": {},
   "outputs": [],
   "source": [
    "data_path = '../../../Google Drive File Stream/My Drive/USC Expeditions Year 5/Analysis/Engagement/Data/Audio/p18_audio.csv'"
   ]
  },
  {
   "cell_type": "code",
   "execution_count": 40,
   "metadata": {},
   "outputs": [],
   "source": [
    "data = pd.read_csv(data_path)"
   ]
  },
  {
   "cell_type": "code",
   "execution_count": 41,
   "metadata": {
    "scrolled": true
   },
   "outputs": [
    {
     "data": {
      "text/plain": [
       "harmonicity        float64\n",
       "intensity          float64\n",
       "mfcc_0             float64\n",
       "mfcc_1             float64\n",
       "pitch_frequency    float64\n",
       "pitch_strength     float64\n",
       "timestamp          float64\n",
       "participant          int64\n",
       "session              int64\n",
       "dtype: object"
      ]
     },
     "execution_count": 41,
     "metadata": {},
     "output_type": "execute_result"
    }
   ],
   "source": [
    "data.dtypes"
   ]
  },
  {
   "cell_type": "code",
   "execution_count": 42,
   "metadata": {},
   "outputs": [
    {
     "data": {
      "text/html": [
       "<div>\n",
       "<style scoped>\n",
       "    .dataframe tbody tr th:only-of-type {\n",
       "        vertical-align: middle;\n",
       "    }\n",
       "\n",
       "    .dataframe tbody tr th {\n",
       "        vertical-align: top;\n",
       "    }\n",
       "\n",
       "    .dataframe thead th {\n",
       "        text-align: right;\n",
       "    }\n",
       "</style>\n",
       "<table border=\"1\" class=\"dataframe\">\n",
       "  <thead>\n",
       "    <tr style=\"text-align: right;\">\n",
       "      <th></th>\n",
       "      <th>harmonicity</th>\n",
       "      <th>intensity</th>\n",
       "      <th>mfcc_0</th>\n",
       "      <th>mfcc_1</th>\n",
       "      <th>pitch_frequency</th>\n",
       "      <th>pitch_strength</th>\n",
       "      <th>timestamp</th>\n",
       "      <th>participant</th>\n",
       "      <th>session</th>\n",
       "    </tr>\n",
       "  </thead>\n",
       "  <tbody>\n",
       "    <tr>\n",
       "      <th>0</th>\n",
       "      <td>51.585</td>\n",
       "      <td>37.701</td>\n",
       "      <td>1623.225</td>\n",
       "      <td>232.558</td>\n",
       "      <td>6367.882</td>\n",
       "      <td>0.356</td>\n",
       "      <td>0.0</td>\n",
       "      <td>18</td>\n",
       "      <td>3</td>\n",
       "    </tr>\n",
       "    <tr>\n",
       "      <th>1</th>\n",
       "      <td>-200.000</td>\n",
       "      <td>40.288</td>\n",
       "      <td>471.256</td>\n",
       "      <td>314.629</td>\n",
       "      <td>2611.112</td>\n",
       "      <td>0.430</td>\n",
       "      <td>0.1</td>\n",
       "      <td>18</td>\n",
       "      <td>3</td>\n",
       "    </tr>\n",
       "    <tr>\n",
       "      <th>2</th>\n",
       "      <td>-200.000</td>\n",
       "      <td>38.001</td>\n",
       "      <td>574.700</td>\n",
       "      <td>304.418</td>\n",
       "      <td>794.124</td>\n",
       "      <td>0.254</td>\n",
       "      <td>0.2</td>\n",
       "      <td>18</td>\n",
       "      <td>3</td>\n",
       "    </tr>\n",
       "    <tr>\n",
       "      <th>3</th>\n",
       "      <td>-200.000</td>\n",
       "      <td>37.380</td>\n",
       "      <td>589.167</td>\n",
       "      <td>316.439</td>\n",
       "      <td>0.000</td>\n",
       "      <td>0.000</td>\n",
       "      <td>0.3</td>\n",
       "      <td>18</td>\n",
       "      <td>3</td>\n",
       "    </tr>\n",
       "    <tr>\n",
       "      <th>4</th>\n",
       "      <td>-200.000</td>\n",
       "      <td>38.006</td>\n",
       "      <td>660.231</td>\n",
       "      <td>305.996</td>\n",
       "      <td>300.898</td>\n",
       "      <td>0.303</td>\n",
       "      <td>0.4</td>\n",
       "      <td>18</td>\n",
       "      <td>3</td>\n",
       "    </tr>\n",
       "  </tbody>\n",
       "</table>\n",
       "</div>"
      ],
      "text/plain": [
       "   harmonicity  intensity    mfcc_0   mfcc_1  pitch_frequency  pitch_strength  \\\n",
       "0       51.585     37.701  1623.225  232.558         6367.882           0.356   \n",
       "1     -200.000     40.288   471.256  314.629         2611.112           0.430   \n",
       "2     -200.000     38.001   574.700  304.418          794.124           0.254   \n",
       "3     -200.000     37.380   589.167  316.439            0.000           0.000   \n",
       "4     -200.000     38.006   660.231  305.996          300.898           0.303   \n",
       "\n",
       "   timestamp  participant  session  \n",
       "0        0.0           18        3  \n",
       "1        0.1           18        3  \n",
       "2        0.2           18        3  \n",
       "3        0.3           18        3  \n",
       "4        0.4           18        3  "
      ]
     },
     "execution_count": 42,
     "metadata": {},
     "output_type": "execute_result"
    }
   ],
   "source": [
    "data.head()"
   ]
  },
  {
   "cell_type": "code",
   "execution_count": 43,
   "metadata": {},
   "outputs": [
    {
     "name": "stdout",
     "output_type": "stream",
     "text": [
      "0\n",
      "11872\n",
      "23744\n",
      "35616\n",
      "47488\n",
      "59360\n",
      "71232\n",
      "83104\n",
      "94976\n",
      "106848\n",
      "118720\n"
     ]
    }
   ],
   "source": [
    "# Iterate through and add rows for 0.1/3 and 2*0.1/3 timestamps\n",
    "add = []\n",
    "checkpoint = int(len(data)/10)\n",
    "\n",
    "for i,r in data.iterrows():    \n",
    "    if (i%checkpoint == 0):\n",
    "        print(i)\n",
    "    r1 = r.copy()\n",
    "    r2 = r.copy()\n",
    "    \n",
    "    r1['timestamp'] = r['timestamp'] + (0.1/3)\n",
    "    r2['timestamp'] = r['timestamp'] + ((0.1/3)*2)\n",
    "    \n",
    "    add.append(r)\n",
    "    add.append(r1)\n",
    "    add.append(r2)"
   ]
  },
  {
   "cell_type": "code",
   "execution_count": 44,
   "metadata": {},
   "outputs": [
    {
     "data": {
      "text/html": [
       "<div>\n",
       "<style scoped>\n",
       "    .dataframe tbody tr th:only-of-type {\n",
       "        vertical-align: middle;\n",
       "    }\n",
       "\n",
       "    .dataframe tbody tr th {\n",
       "        vertical-align: top;\n",
       "    }\n",
       "\n",
       "    .dataframe thead th {\n",
       "        text-align: right;\n",
       "    }\n",
       "</style>\n",
       "<table border=\"1\" class=\"dataframe\">\n",
       "  <thead>\n",
       "    <tr style=\"text-align: right;\">\n",
       "      <th></th>\n",
       "      <th>harmonicity</th>\n",
       "      <th>intensity</th>\n",
       "      <th>mfcc_0</th>\n",
       "      <th>mfcc_1</th>\n",
       "      <th>pitch_frequency</th>\n",
       "      <th>pitch_strength</th>\n",
       "      <th>timestamp</th>\n",
       "      <th>participant</th>\n",
       "      <th>session</th>\n",
       "    </tr>\n",
       "  </thead>\n",
       "  <tbody>\n",
       "    <tr>\n",
       "      <th>0</th>\n",
       "      <td>51.585</td>\n",
       "      <td>37.701</td>\n",
       "      <td>1623.225</td>\n",
       "      <td>232.558</td>\n",
       "      <td>6367.882</td>\n",
       "      <td>0.356</td>\n",
       "      <td>0.000000</td>\n",
       "      <td>18.0</td>\n",
       "      <td>3.0</td>\n",
       "    </tr>\n",
       "    <tr>\n",
       "      <th>1</th>\n",
       "      <td>51.585</td>\n",
       "      <td>37.701</td>\n",
       "      <td>1623.225</td>\n",
       "      <td>232.558</td>\n",
       "      <td>6367.882</td>\n",
       "      <td>0.356</td>\n",
       "      <td>0.033333</td>\n",
       "      <td>18.0</td>\n",
       "      <td>3.0</td>\n",
       "    </tr>\n",
       "    <tr>\n",
       "      <th>2</th>\n",
       "      <td>51.585</td>\n",
       "      <td>37.701</td>\n",
       "      <td>1623.225</td>\n",
       "      <td>232.558</td>\n",
       "      <td>6367.882</td>\n",
       "      <td>0.356</td>\n",
       "      <td>0.066667</td>\n",
       "      <td>18.0</td>\n",
       "      <td>3.0</td>\n",
       "    </tr>\n",
       "    <tr>\n",
       "      <th>3</th>\n",
       "      <td>-200.000</td>\n",
       "      <td>40.288</td>\n",
       "      <td>471.256</td>\n",
       "      <td>314.629</td>\n",
       "      <td>2611.112</td>\n",
       "      <td>0.430</td>\n",
       "      <td>0.100000</td>\n",
       "      <td>18.0</td>\n",
       "      <td>3.0</td>\n",
       "    </tr>\n",
       "    <tr>\n",
       "      <th>4</th>\n",
       "      <td>-200.000</td>\n",
       "      <td>40.288</td>\n",
       "      <td>471.256</td>\n",
       "      <td>314.629</td>\n",
       "      <td>2611.112</td>\n",
       "      <td>0.430</td>\n",
       "      <td>0.133333</td>\n",
       "      <td>18.0</td>\n",
       "      <td>3.0</td>\n",
       "    </tr>\n",
       "  </tbody>\n",
       "</table>\n",
       "</div>"
      ],
      "text/plain": [
       "   harmonicity  intensity    mfcc_0   mfcc_1  pitch_frequency  pitch_strength  \\\n",
       "0       51.585     37.701  1623.225  232.558         6367.882           0.356   \n",
       "1       51.585     37.701  1623.225  232.558         6367.882           0.356   \n",
       "2       51.585     37.701  1623.225  232.558         6367.882           0.356   \n",
       "3     -200.000     40.288   471.256  314.629         2611.112           0.430   \n",
       "4     -200.000     40.288   471.256  314.629         2611.112           0.430   \n",
       "\n",
       "   timestamp  participant  session  \n",
       "0   0.000000         18.0      3.0  \n",
       "1   0.033333         18.0      3.0  \n",
       "2   0.066667         18.0      3.0  \n",
       "3   0.100000         18.0      3.0  \n",
       "4   0.133333         18.0      3.0  "
      ]
     },
     "execution_count": 44,
     "metadata": {},
     "output_type": "execute_result"
    }
   ],
   "source": [
    "master = pd.concat(add, axis=1, ignore_index=True)\n",
    "master = master.transpose()\n",
    "master.head()"
   ]
  },
  {
   "cell_type": "code",
   "execution_count": 45,
   "metadata": {},
   "outputs": [],
   "source": [
    "master.to_csv(data_path, index=False)"
   ]
  },
  {
   "cell_type": "code",
   "execution_count": null,
   "metadata": {},
   "outputs": [],
   "source": []
  }
 ],
 "metadata": {
  "kernelspec": {
   "display_name": "Python [conda env:caispp]",
   "language": "python",
   "name": "conda-env-caispp-py"
  },
  "language_info": {
   "codemirror_mode": {
    "name": "ipython",
    "version": 3
   },
   "file_extension": ".py",
   "mimetype": "text/x-python",
   "name": "python",
   "nbconvert_exporter": "python",
   "pygments_lexer": "ipython3",
   "version": "3.5.6"
  }
 },
 "nbformat": 4,
 "nbformat_minor": 2
}
