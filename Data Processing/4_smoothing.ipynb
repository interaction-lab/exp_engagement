{
 "cells": [
  {
   "cell_type": "code",
   "execution_count": 65,
   "metadata": {},
   "outputs": [],
   "source": [
    "# Smoothing, Windowing, Data Cleanup"
   ]
  },
  {
   "cell_type": "code",
   "execution_count": 66,
   "metadata": {},
   "outputs": [],
   "source": [
    "# Imports\n",
    "\n",
    "import pandas as pd\n",
    "import numpy as np\n"
   ]
  },
  {
   "cell_type": "code",
   "execution_count": 67,
   "metadata": {},
   "outputs": [],
   "source": [
    "file = '../../../../Google Drive File Stream/My Drive/USC Expeditions Year 5/Analysis/Help-Seeking/Data/FS/p8_FS.csv'\n",
    "data = pd.read_csv(file)"
   ]
  },
  {
   "cell_type": "code",
   "execution_count": 68,
   "metadata": {},
   "outputs": [],
   "source": [
    "# move timestamp, session_num to first two columns\n",
    "cols = np.array(data.columns).tolist()\n",
    "cols.remove('timestamp')\n",
    "cols.remove('session_num')\n",
    "cols.remove('engagement')\n",
    "cols = ['session_num', 'timestamp', 'engagement'] + cols\n",
    "data = data[cols]"
   ]
  },
  {
   "cell_type": "code",
   "execution_count": 69,
   "metadata": {},
   "outputs": [],
   "source": [
    "data = data.sort_values(['session_num', 'timestamp'], ascending=[True, True])"
   ]
  },
  {
   "cell_type": "code",
   "execution_count": 70,
   "metadata": {},
   "outputs": [],
   "source": [
    "orig_len = len(data)"
   ]
  },
  {
   "cell_type": "code",
   "execution_count": 71,
   "metadata": {},
   "outputs": [
    {
     "data": {
      "text/html": [
       "<div>\n",
       "<style scoped>\n",
       "    .dataframe tbody tr th:only-of-type {\n",
       "        vertical-align: middle;\n",
       "    }\n",
       "\n",
       "    .dataframe tbody tr th {\n",
       "        vertical-align: top;\n",
       "    }\n",
       "\n",
       "    .dataframe thead th {\n",
       "        text-align: right;\n",
       "    }\n",
       "</style>\n",
       "<table border=\"1\" class=\"dataframe\">\n",
       "  <thead>\n",
       "    <tr style=\"text-align: right;\">\n",
       "      <th></th>\n",
       "      <th>session_num</th>\n",
       "      <th>timestamp</th>\n",
       "      <th>engagement</th>\n",
       "      <th>of_confidence</th>\n",
       "      <th>of_success</th>\n",
       "      <th>of_gaze_0_x</th>\n",
       "      <th>of_gaze_0_y</th>\n",
       "      <th>of_gaze_0_z</th>\n",
       "      <th>of_gaze_1_x</th>\n",
       "      <th>of_gaze_1_y</th>\n",
       "      <th>...</th>\n",
       "      <th>aptitude</th>\n",
       "      <th>diff_1</th>\n",
       "      <th>diff_2</th>\n",
       "      <th>diff_3</th>\n",
       "      <th>diff_4</th>\n",
       "      <th>diff_5</th>\n",
       "      <th>skill_NC</th>\n",
       "      <th>skill_OS</th>\n",
       "      <th>skill_EM</th>\n",
       "      <th>no_game</th>\n",
       "    </tr>\n",
       "  </thead>\n",
       "  <tbody>\n",
       "    <tr>\n",
       "      <th>0</th>\n",
       "      <td>1.0</td>\n",
       "      <td>34.866667</td>\n",
       "      <td>1.0</td>\n",
       "      <td>0.88</td>\n",
       "      <td>1.0</td>\n",
       "      <td>0.827797</td>\n",
       "      <td>0.084295</td>\n",
       "      <td>-0.554659</td>\n",
       "      <td>-0.237588</td>\n",
       "      <td>0.272544</td>\n",
       "      <td>...</td>\n",
       "      <td>0.7</td>\n",
       "      <td>0</td>\n",
       "      <td>1</td>\n",
       "      <td>0</td>\n",
       "      <td>0</td>\n",
       "      <td>0</td>\n",
       "      <td>1</td>\n",
       "      <td>0</td>\n",
       "      <td>0</td>\n",
       "      <td>0</td>\n",
       "    </tr>\n",
       "    <tr>\n",
       "      <th>1</th>\n",
       "      <td>1.0</td>\n",
       "      <td>34.900000</td>\n",
       "      <td>1.0</td>\n",
       "      <td>0.88</td>\n",
       "      <td>1.0</td>\n",
       "      <td>0.854810</td>\n",
       "      <td>0.053164</td>\n",
       "      <td>-0.516210</td>\n",
       "      <td>-0.249434</td>\n",
       "      <td>0.246413</td>\n",
       "      <td>...</td>\n",
       "      <td>0.7</td>\n",
       "      <td>0</td>\n",
       "      <td>1</td>\n",
       "      <td>0</td>\n",
       "      <td>0</td>\n",
       "      <td>0</td>\n",
       "      <td>1</td>\n",
       "      <td>0</td>\n",
       "      <td>0</td>\n",
       "      <td>0</td>\n",
       "    </tr>\n",
       "    <tr>\n",
       "      <th>2</th>\n",
       "      <td>1.0</td>\n",
       "      <td>34.933333</td>\n",
       "      <td>1.0</td>\n",
       "      <td>0.88</td>\n",
       "      <td>1.0</td>\n",
       "      <td>0.864059</td>\n",
       "      <td>0.051314</td>\n",
       "      <td>-0.500768</td>\n",
       "      <td>-0.260329</td>\n",
       "      <td>0.271667</td>\n",
       "      <td>...</td>\n",
       "      <td>0.7</td>\n",
       "      <td>0</td>\n",
       "      <td>1</td>\n",
       "      <td>0</td>\n",
       "      <td>0</td>\n",
       "      <td>0</td>\n",
       "      <td>1</td>\n",
       "      <td>0</td>\n",
       "      <td>0</td>\n",
       "      <td>0</td>\n",
       "    </tr>\n",
       "    <tr>\n",
       "      <th>3</th>\n",
       "      <td>1.0</td>\n",
       "      <td>34.966667</td>\n",
       "      <td>1.0</td>\n",
       "      <td>0.88</td>\n",
       "      <td>1.0</td>\n",
       "      <td>0.857982</td>\n",
       "      <td>0.045450</td>\n",
       "      <td>-0.511665</td>\n",
       "      <td>-0.249022</td>\n",
       "      <td>0.249095</td>\n",
       "      <td>...</td>\n",
       "      <td>0.7</td>\n",
       "      <td>0</td>\n",
       "      <td>1</td>\n",
       "      <td>0</td>\n",
       "      <td>0</td>\n",
       "      <td>0</td>\n",
       "      <td>1</td>\n",
       "      <td>0</td>\n",
       "      <td>0</td>\n",
       "      <td>0</td>\n",
       "    </tr>\n",
       "    <tr>\n",
       "      <th>4</th>\n",
       "      <td>1.0</td>\n",
       "      <td>35.000000</td>\n",
       "      <td>1.0</td>\n",
       "      <td>0.88</td>\n",
       "      <td>1.0</td>\n",
       "      <td>0.867188</td>\n",
       "      <td>0.053178</td>\n",
       "      <td>-0.495133</td>\n",
       "      <td>-0.290433</td>\n",
       "      <td>0.270397</td>\n",
       "      <td>...</td>\n",
       "      <td>0.7</td>\n",
       "      <td>0</td>\n",
       "      <td>1</td>\n",
       "      <td>0</td>\n",
       "      <td>0</td>\n",
       "      <td>0</td>\n",
       "      <td>1</td>\n",
       "      <td>0</td>\n",
       "      <td>0</td>\n",
       "      <td>0</td>\n",
       "    </tr>\n",
       "  </tbody>\n",
       "</table>\n",
       "<p>5 rows × 59 columns</p>\n",
       "</div>"
      ],
      "text/plain": [
       "   session_num  timestamp  engagement  of_confidence  of_success  of_gaze_0_x  \\\n",
       "0          1.0  34.866667         1.0           0.88         1.0     0.827797   \n",
       "1          1.0  34.900000         1.0           0.88         1.0     0.854810   \n",
       "2          1.0  34.933333         1.0           0.88         1.0     0.864059   \n",
       "3          1.0  34.966667         1.0           0.88         1.0     0.857982   \n",
       "4          1.0  35.000000         1.0           0.88         1.0     0.867188   \n",
       "\n",
       "   of_gaze_0_y  of_gaze_0_z  of_gaze_1_x  of_gaze_1_y   ...     aptitude  \\\n",
       "0     0.084295    -0.554659    -0.237588     0.272544   ...          0.7   \n",
       "1     0.053164    -0.516210    -0.249434     0.246413   ...          0.7   \n",
       "2     0.051314    -0.500768    -0.260329     0.271667   ...          0.7   \n",
       "3     0.045450    -0.511665    -0.249022     0.249095   ...          0.7   \n",
       "4     0.053178    -0.495133    -0.290433     0.270397   ...          0.7   \n",
       "\n",
       "   diff_1  diff_2  diff_3  diff_4  diff_5  skill_NC  skill_OS  skill_EM  \\\n",
       "0       0       1       0       0       0         1         0         0   \n",
       "1       0       1       0       0       0         1         0         0   \n",
       "2       0       1       0       0       0         1         0         0   \n",
       "3       0       1       0       0       0         1         0         0   \n",
       "4       0       1       0       0       0         1         0         0   \n",
       "\n",
       "   no_game  \n",
       "0        0  \n",
       "1        0  \n",
       "2        0  \n",
       "3        0  \n",
       "4        0  \n",
       "\n",
       "[5 rows x 59 columns]"
      ]
     },
     "execution_count": 71,
     "metadata": {},
     "output_type": "execute_result"
    }
   ],
   "source": [
    "data.head()"
   ]
  },
  {
   "cell_type": "code",
   "execution_count": 72,
   "metadata": {},
   "outputs": [
    {
     "data": {
      "text/plain": [
       "Index(['session_num', 'timestamp', 'engagement', 'of_confidence', 'of_success',\n",
       "       'of_gaze_0_x', 'of_gaze_0_y', 'of_gaze_0_z', 'of_gaze_1_x',\n",
       "       'of_gaze_1_y', 'of_gaze_1_z', 'of_gaze_angle_x', 'of_gaze_angle_y',\n",
       "       'of_gaze_distance', 'of_pose_Tx', 'of_pose_Ty', 'of_pose_Tz',\n",
       "       'of_pose_Rx', 'of_pose_Ry', 'of_pose_Rz', 'of_pose_distance',\n",
       "       'of_AU01_c', 'of_AU02_c', 'of_AU04_c', 'of_AU05_c', 'of_AU06_c',\n",
       "       'of_AU07_c', 'of_AU09_c', 'of_AU10_c', 'of_AU12_c', 'of_AU14_c',\n",
       "       'of_AU15_c', 'of_AU17_c', 'of_AU20_c', 'of_AU23_c', 'of_AU25_c',\n",
       "       'of_AU26_c', 'of_AU28_c', 'of_AU45_c', 'op_Number of People',\n",
       "       'participant', 'games_total', 'games_session', 'mistakes_total',\n",
       "       'mistakes_session', 'mistakes_game', 'ts_robot_talked', 'ts_game_start',\n",
       "       'ts_attempt', 'aptitude', 'diff_1', 'diff_2', 'diff_3', 'diff_4',\n",
       "       'diff_5', 'skill_NC', 'skill_OS', 'skill_EM', 'no_game'],\n",
       "      dtype='object')"
      ]
     },
     "execution_count": 72,
     "metadata": {},
     "output_type": "execute_result"
    }
   ],
   "source": [
    "data.columns"
   ]
  },
  {
   "cell_type": "markdown",
   "metadata": {},
   "source": [
    "# 1. Remove Beginning of Videos/Sessions"
   ]
  },
  {
   "cell_type": "code",
   "execution_count": 73,
   "metadata": {},
   "outputs": [],
   "source": [
    "# Remove data @ beginning of each session before first game has been played \n",
    "\n",
    "last_session = -1\n",
    "session_start = -1 \n",
    "track = False\n",
    "\n",
    "# tuples: (session_start, first_game_start)\n",
    "windows_to_remove = [] \n",
    "\n",
    "for i,r in data.iterrows():\n",
    "    # Check if new session started\n",
    "    if last_session != r['session_num']:\n",
    "        session_start = i\n",
    "        last_session = r['session_num']\n",
    "        track = True \n",
    "    \n",
    "    if track:\n",
    "        # check if we've found our first game start! \n",
    "        if r['no_game'] == 0: \n",
    "            windows_to_remove.append((session_start, i))\n",
    "            track = False "
   ]
  },
  {
   "cell_type": "code",
   "execution_count": 74,
   "metadata": {},
   "outputs": [
    {
     "name": "stdout",
     "output_type": "stream",
     "text": [
      "(0, 0)\n",
      "(29001, 29421)\n",
      "(87184, 87814)\n",
      "(105104, 105404)\n",
      "(114446, 115736)\n",
      "(134945, 135335)\n",
      "(153798, 154308)\n",
      "(175732, 176542)\n",
      "(177969, 178449)\n"
     ]
    }
   ],
   "source": [
    "for i in windows_to_remove:\n",
    "    print(i)"
   ]
  },
  {
   "cell_type": "code",
   "execution_count": 75,
   "metadata": {},
   "outputs": [],
   "source": [
    "# Remove data at beginning\n",
    "# Iterate backwards! \n",
    "\n",
    "n = len(windows_to_remove)\n",
    "for i in range(n-1, -1, -1):\n",
    "    rem = windows_to_remove[i]\n",
    "\n",
    "    if (rem[0] == rem[1]):\n",
    "        continue\n",
    "\n",
    "    seg1 = data.loc[:rem[0]-1]\n",
    "    seg2 = data.loc[rem[1]:, :]\n",
    "    data = seg1.append(seg2, sort=True)\n",
    "    \n",
    "data = data.reset_index(drop=True)"
   ]
  },
  {
   "cell_type": "code",
   "execution_count": 76,
   "metadata": {},
   "outputs": [
    {
     "name": "stdout",
     "output_type": "stream",
     "text": [
      "0.019898242939831504\n"
     ]
    }
   ],
   "source": [
    "curr_len = len(data)\n",
    "print((orig_len-curr_len)/orig_len)"
   ]
  },
  {
   "cell_type": "markdown",
   "metadata": {},
   "source": [
    "# 2. Remove Ending of Videos/Sessions"
   ]
  },
  {
   "cell_type": "code",
   "execution_count": 77,
   "metadata": {},
   "outputs": [],
   "source": [
    "# Remove data @ end of each session after last game has been played \n",
    "\n",
    "# Iterate Backwards! \n",
    "\n",
    "n = len(data)\n",
    "\n",
    "last_session = -1\n",
    "session_end = -1 \n",
    "track = False\n",
    "\n",
    "# tuples: (last_game_end, session_end)\n",
    "windows_to_remove = [] \n",
    "\n",
    "for i in range(n-1, -1, -1):\n",
    "    sess = data.loc[i, 'session_num']\n",
    "    if last_session != sess:\n",
    "        session_end = i\n",
    "        last_session = sess\n",
    "        track = True\n",
    "    \n",
    "    if track:\n",
    "        # check if we've found end of last game! \n",
    "        if data.loc[i, 'no_game'] == 0:\n",
    "            windows_to_remove.append((i, session_end))\n",
    "            track = False"
   ]
  },
  {
   "cell_type": "code",
   "execution_count": 78,
   "metadata": {},
   "outputs": [
    {
     "data": {
      "text/plain": [
       "[(228924, 237904),\n",
       " (173618, 173618),\n",
       " (171078, 172191),\n",
       " (146045, 150767),\n",
       " (124286, 132304),\n",
       " (110384, 113095),\n",
       " (102394, 104053),\n",
       " (84201, 86763),\n",
       " (24994, 29000)]"
      ]
     },
     "execution_count": 78,
     "metadata": {},
     "output_type": "execute_result"
    }
   ],
   "source": [
    "windows_to_remove"
   ]
  },
  {
   "cell_type": "code",
   "execution_count": 79,
   "metadata": {},
   "outputs": [],
   "source": [
    "# Remove data at ending\n",
    "# windows to remove has end sessions first, which is what we want to remove first\n",
    "\n",
    "for rem in windows_to_remove:\n",
    "    if (rem[0] == rem[1]):\n",
    "        continue\n",
    "\n",
    "    seg1 = data.loc[:rem[0]]\n",
    "    seg2 = data.loc[rem[1]+1:, :]\n",
    "    data = seg1.append(seg2, sort=True)\n",
    "    \n",
    "data = data.reset_index(drop=True)"
   ]
  },
  {
   "cell_type": "code",
   "execution_count": 80,
   "metadata": {},
   "outputs": [
    {
     "name": "stdout",
     "output_type": "stream",
     "text": [
      "0.15902527447628073\n"
     ]
    }
   ],
   "source": [
    "curr_len = len(data)\n",
    "print((orig_len-curr_len)/orig_len)"
   ]
  },
  {
   "cell_type": "code",
   "execution_count": 81,
   "metadata": {},
   "outputs": [
    {
     "data": {
      "text/plain": [
       "0.8409747255237193"
      ]
     },
     "execution_count": 81,
     "metadata": {},
     "output_type": "execute_result"
    }
   ],
   "source": [
    "curr_len/orig_len"
   ]
  },
  {
   "cell_type": "markdown",
   "metadata": {},
   "source": [
    "# 3. Smoothing"
   ]
  },
  {
   "cell_type": "code",
   "execution_count": null,
   "metadata": {},
   "outputs": [],
   "source": []
  }
 ],
 "metadata": {
  "kernelspec": {
   "display_name": "Python [conda env:caispp]",
   "language": "python",
   "name": "conda-env-caispp-py"
  },
  "language_info": {
   "codemirror_mode": {
    "name": "ipython",
    "version": 3
   },
   "file_extension": ".py",
   "mimetype": "text/x-python",
   "name": "python",
   "nbconvert_exporter": "python",
   "pygments_lexer": "ipython3",
   "version": "3.5.6"
  }
 },
 "nbformat": 4,
 "nbformat_minor": 2
}
