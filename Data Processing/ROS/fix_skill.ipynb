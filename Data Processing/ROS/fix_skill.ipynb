{
 "cells": [
  {
   "cell_type": "code",
   "execution_count": 54,
   "metadata": {},
   "outputs": [],
   "source": [
    "import pandas as pd\n",
    "import os\n",
    "import numpy as np"
   ]
  },
  {
   "cell_type": "code",
   "execution_count": 55,
   "metadata": {},
   "outputs": [],
   "source": [
    "act_to_skill = {\n",
    "    1: 'NC',\n",
    "    2: 'NC',\n",
    "    3: 'NC',\n",
    "    4: 'NC',\n",
    "    5: 'NC',\n",
    "    6: 'NC',\n",
    "    7: 'OS',\n",
    "    8: 'OS',\n",
    "    9: 'OS',\n",
    "    10: 'OS',\n",
    "    16: 'EM',\n",
    "}"
   ]
  },
  {
   "cell_type": "code",
   "execution_count": 56,
   "metadata": {},
   "outputs": [
    {
     "name": "stdout",
     "output_type": "stream",
     "text": [
      "p7_s5_ros.csv\n",
      "p7_s29_ros.csv\n"
     ]
    },
    {
     "name": "stderr",
     "output_type": "stream",
     "text": [
      "/anaconda3/envs/caispp/lib/python3.5/site-packages/IPython/core/interactiveshell.py:2785: DtypeWarning: Columns (3,16) have mixed types. Specify dtype option on import or set low_memory=False.\n",
      "  interactivity=interactivity, compiler=compiler, result=result)\n"
     ]
    },
    {
     "name": "stdout",
     "output_type": "stream",
     "text": [
      "p7_s8_ros.csv\n",
      "p7_s7_ros.csv\n",
      "p7_s6_ros.csv\n",
      "p7_s18_ros.csv\n",
      "p7_s17_ros.csv\n",
      "p7_s16_ros.csv\n",
      "p9_s9_ros.csv\n",
      "p9_s15_ros.csv\n",
      "p9_s3-2_ros.csv\n"
     ]
    },
    {
     "name": "stderr",
     "output_type": "stream",
     "text": [
      "/anaconda3/envs/caispp/lib/python3.5/site-packages/IPython/core/interactiveshell.py:2785: DtypeWarning: Columns (2,3,16) have mixed types. Specify dtype option on import or set low_memory=False.\n",
      "  interactivity=interactivity, compiler=compiler, result=result)\n"
     ]
    },
    {
     "name": "stdout",
     "output_type": "stream",
     "text": [
      "p9_s4_ros.csv\n",
      "p9_s3-1_ros.csv\n",
      "p11_s11_ros.csv\n",
      "p11_s16-2_ros.csv\n",
      "p11_s8_ros.csv\n",
      "p11_s15_ros.csv\n",
      "p11_s4_ros.csv\n",
      "p11_s19_ros.csv\n",
      "p11_s2_ros.csv\n",
      "p11_s22-2_ros.csv\n",
      "p11_s9_ros.csv\n",
      "p12_s10_ros.csv\n",
      "p12_s8_ros.csv\n",
      "p12_s6_ros.csv\n",
      "p12_s3_ros.csv\n",
      "p12_s2-2_ros.csv\n",
      "p17_s6_ros.csv\n",
      "p17_s5_ros.csv\n",
      "p17_s2_ros.csv\n",
      "p17_s3_ros.csv\n",
      "p18_s18_ros.csv\n",
      "p18_s9_ros.csv\n",
      "p18_s3_ros.csv\n",
      "p18_s17_ros.csv\n",
      "p18_s10_ros.csv\n",
      "p18_s19_ros.csv\n",
      "p18_s5_ros.csv\n",
      "p18_s12_ros.csv\n",
      "p18_s7_ros.csv\n",
      "p18_s8_ros.csv\n",
      "p18_s4_ros.csv\n",
      "p18_s15_ros.csv\n",
      "p18_s11_ros.csv\n",
      "p18_s20_ros.csv\n",
      "p18_s13_ros.csv\n"
     ]
    }
   ],
   "source": [
    "for participant in [7,9,11,12,17,18]:\n",
    "    data_path = '../../../../../Google Drive File Stream/My Drive/USC Expeditions Year 5/Analysis/Engagement/Data/ROS/ROS_Sessions/p'+str(participant) +'/Final'\n",
    "    out = '../../../../../Google Drive File Stream/My Drive/USC Expeditions Year 5/Analysis/Engagement/Data/ROS/ROS_Sessions/p'+str(participant) +'/Final/'    \n",
    "    for subdir, dirs, files in os.walk(data_path):\n",
    "        for file in files:\n",
    "            if 'ros' in file and 'csv' in file:\n",
    "                print(file)\n",
    "\n",
    "                sess = pd.read_csv(data_path+'/'+file)\n",
    "\n",
    "                sess['skill'] = np.nan\n",
    "                sess['skill_EM'] = 0\n",
    "                sess['skill_OS'] = 0\n",
    "                sess['skill_NC'] = 0\n",
    "\n",
    "                for i,r in sess.iterrows():\n",
    "                    act = r['activity']\n",
    "                    if pd.notna(act):\n",
    "                        sess.loc[i, 'skill'] = act_to_skill[act]\n",
    "                        sess.loc[i, 'skill_'+act_to_skill[act]]=1    \n",
    "\n",
    "                sess.to_csv(out+file, index=False)"
   ]
  },
  {
   "cell_type": "code",
   "execution_count": 57,
   "metadata": {},
   "outputs": [
    {
     "data": {
      "text/plain": [
       "'Icon\\r'"
      ]
     },
     "execution_count": 57,
     "metadata": {},
     "output_type": "execute_result"
    }
   ],
   "source": [
    "file"
   ]
  },
  {
   "cell_type": "code",
   "execution_count": null,
   "metadata": {},
   "outputs": [],
   "source": []
  }
 ],
 "metadata": {
  "kernelspec": {
   "display_name": "Python [conda env:caispp]",
   "language": "python",
   "name": "conda-env-caispp-py"
  },
  "language_info": {
   "codemirror_mode": {
    "name": "ipython",
    "version": 3
   },
   "file_extension": ".py",
   "mimetype": "text/x-python",
   "name": "python",
   "nbconvert_exporter": "python",
   "pygments_lexer": "ipython3",
   "version": "3.5.6"
  }
 },
 "nbformat": 4,
 "nbformat_minor": 2
}
