{
 "cells": [
  {
   "cell_type": "code",
   "execution_count": 61,
   "metadata": {},
   "outputs": [],
   "source": [
    "# Script: calculate time difference between ros file & video"
   ]
  },
  {
   "cell_type": "code",
   "execution_count": 62,
   "metadata": {},
   "outputs": [],
   "source": [
    "import pandas as pd\n",
    "import os\n",
    "import regex as re\n",
    "import time\n"
   ]
  },
  {
   "cell_type": "code",
   "execution_count": 63,
   "metadata": {},
   "outputs": [],
   "source": [
    "participant = 5\n",
    "data_path = '../../../../Google Drive File Stream/My Drive/USC Expeditions Year 5/Analysis/Engagement/Data/ROS/p'+str(participant) +'/Interm'\n",
    "out = '../../../../Google Drive File Stream/My Drive/USC Expeditions Year 5/Analysis/Engagement/Data/ROS/p'+str(participant) +'/Interm/p'+str(participant) +'_ros_timediff.csv'"
   ]
  },
  {
   "cell_type": "code",
   "execution_count": 64,
   "metadata": {},
   "outputs": [
    {
     "data": {
      "text/html": [
       "<div>\n",
       "<style scoped>\n",
       "    .dataframe tbody tr th:only-of-type {\n",
       "        vertical-align: middle;\n",
       "    }\n",
       "\n",
       "    .dataframe tbody tr th {\n",
       "        vertical-align: top;\n",
       "    }\n",
       "\n",
       "    .dataframe thead th {\n",
       "        text-align: right;\n",
       "    }\n",
       "</style>\n",
       "<table border=\"1\" class=\"dataframe\">\n",
       "  <thead>\n",
       "    <tr style=\"text-align: right;\">\n",
       "      <th></th>\n",
       "      <th>participant</th>\n",
       "      <th>session</th>\n",
       "      <th>filename</th>\n",
       "    </tr>\n",
       "  </thead>\n",
       "  <tbody>\n",
       "    <tr>\n",
       "      <th>0</th>\n",
       "      <td>5</td>\n",
       "      <td>2</td>\n",
       "      <td>webcam_test_2018-04-09-20-43-15</td>\n",
       "    </tr>\n",
       "    <tr>\n",
       "      <th>1</th>\n",
       "      <td>5</td>\n",
       "      <td>7</td>\n",
       "      <td>webcam_test_2018-04-18-17-37-42</td>\n",
       "    </tr>\n",
       "    <tr>\n",
       "      <th>2</th>\n",
       "      <td>5</td>\n",
       "      <td>8</td>\n",
       "      <td>webcam_test_2018-04-22-17-47-40</td>\n",
       "    </tr>\n",
       "    <tr>\n",
       "      <th>3</th>\n",
       "      <td>5</td>\n",
       "      <td>10</td>\n",
       "      <td>webcam_test_2018-04-25-20-34-39</td>\n",
       "    </tr>\n",
       "    <tr>\n",
       "      <th>4</th>\n",
       "      <td>5</td>\n",
       "      <td>13</td>\n",
       "      <td>webcam_test_2018-05-06-16-17-51</td>\n",
       "    </tr>\n",
       "  </tbody>\n",
       "</table>\n",
       "</div>"
      ],
      "text/plain": [
       "   participant session                         filename\n",
       "0            5       2  webcam_test_2018-04-09-20-43-15\n",
       "1            5       7  webcam_test_2018-04-18-17-37-42\n",
       "2            5       8  webcam_test_2018-04-22-17-47-40\n",
       "3            5      10  webcam_test_2018-04-25-20-34-39\n",
       "4            5      13  webcam_test_2018-05-06-16-17-51"
      ]
     },
     "execution_count": 64,
     "metadata": {},
     "output_type": "execute_result"
    }
   ],
   "source": [
    "# Lookup file: contains video filenames \n",
    "\n",
    "file = 'session_map.csv'\n",
    "lookup = pd.read_csv(file)\n",
    "lookup = lookup[lookup['participant']==participant]\n",
    "lookup.head()"
   ]
  },
  {
   "cell_type": "code",
   "execution_count": 65,
   "metadata": {},
   "outputs": [],
   "source": [
    "answer = pd.DataFrame(columns=['file', 'time_diff'])"
   ]
  },
  {
   "cell_type": "code",
   "execution_count": 66,
   "metadata": {},
   "outputs": [],
   "source": [
    "for subdir, dirs, files in os.walk(data_path):\n",
    "    for file in files:\n",
    "        if 'ros' in file and 'csv' in file:\n",
    "            if 'timediff' in file:\n",
    "                continue\n",
    "            # Session for ros file \n",
    "            sess_regex1 = 's\\d*_'\n",
    "            sess_regex2 = 's\\d*-\\d*_'\n",
    "\n",
    "            res1 = re.findall(sess_regex1, file)\n",
    "            res2 = re.findall(sess_regex2, file)\n",
    "\n",
    "            if (res2):\n",
    "                session = res2[0]\n",
    "                session = session[1:-1]\n",
    "            else:\n",
    "                session = res1[0]\n",
    "                session = session[1:-1]\n",
    "            \n",
    "            # Corresponding video\n",
    "            l = lookup[lookup['session']==session]\n",
    "            l = l.reset_index(drop=True)\n",
    "            if len(l) != 1:\n",
    "                print('ERROR')\n",
    "            video = l.loc[0, 'filename']   \n",
    "                \n",
    "            # Get Epoch Time of Video File, \n",
    "            if 'test' in video:\n",
    "                video = video.replace('webcam_test_', '')\n",
    "            elif 'webcam' in video:\n",
    "                video = video.replace('webcam_', '')\n",
    "                \n",
    "            pattern = '%Y-%m-%d-%H-%M-%S'\n",
    "            video_epoch = int(time.mktime(time.strptime(video, pattern)))\n",
    "\n",
    "            # Get Epoch Time of Ros File\n",
    "            temp = pd.read_csv(data_path + '/' + file)           \n",
    "            ros_epoch = temp['time'][0]\n",
    "            \n",
    "            diff = ros_epoch - video_epoch\n",
    "            answer = answer.append({'file': file, 'time_diff': diff}, ignore_index=True, sort=True)"
   ]
  },
  {
   "cell_type": "code",
   "execution_count": 67,
   "metadata": {},
   "outputs": [
    {
     "data": {
      "text/html": [
       "<div>\n",
       "<style scoped>\n",
       "    .dataframe tbody tr th:only-of-type {\n",
       "        vertical-align: middle;\n",
       "    }\n",
       "\n",
       "    .dataframe tbody tr th {\n",
       "        vertical-align: top;\n",
       "    }\n",
       "\n",
       "    .dataframe thead th {\n",
       "        text-align: right;\n",
       "    }\n",
       "</style>\n",
       "<table border=\"1\" class=\"dataframe\">\n",
       "  <thead>\n",
       "    <tr style=\"text-align: right;\">\n",
       "      <th></th>\n",
       "      <th>file</th>\n",
       "      <th>time_diff</th>\n",
       "    </tr>\n",
       "  </thead>\n",
       "  <tbody>\n",
       "    <tr>\n",
       "      <th>0</th>\n",
       "      <td>p5_s10_ros_2018-04-25-20-34-01_2018-04-25-20-3...</td>\n",
       "      <td>3</td>\n",
       "    </tr>\n",
       "    <tr>\n",
       "      <th>1</th>\n",
       "      <td>p5_s7_ros_2018-04-18-17-37-04_2018-04-18-17-37...</td>\n",
       "      <td>8</td>\n",
       "    </tr>\n",
       "    <tr>\n",
       "      <th>2</th>\n",
       "      <td>p5_s8_ros_2018-04-22-17-47-02_2018-04-22-17-47...</td>\n",
       "      <td>9</td>\n",
       "    </tr>\n",
       "    <tr>\n",
       "      <th>3</th>\n",
       "      <td>p5_s13_ros_2018-05-06-16-17-13_2018-05-06-16-1...</td>\n",
       "      <td>5</td>\n",
       "    </tr>\n",
       "    <tr>\n",
       "      <th>4</th>\n",
       "      <td>p5_s2_ros_2018-04-09-20-42-37_2018-04-09-20-42...</td>\n",
       "      <td>6</td>\n",
       "    </tr>\n",
       "  </tbody>\n",
       "</table>\n",
       "</div>"
      ],
      "text/plain": [
       "                                                file time_diff\n",
       "0  p5_s10_ros_2018-04-25-20-34-01_2018-04-25-20-3...         3\n",
       "1  p5_s7_ros_2018-04-18-17-37-04_2018-04-18-17-37...         8\n",
       "2  p5_s8_ros_2018-04-22-17-47-02_2018-04-22-17-47...         9\n",
       "3  p5_s13_ros_2018-05-06-16-17-13_2018-05-06-16-1...         5\n",
       "4  p5_s2_ros_2018-04-09-20-42-37_2018-04-09-20-42...         6"
      ]
     },
     "execution_count": 67,
     "metadata": {},
     "output_type": "execute_result"
    }
   ],
   "source": [
    "answer.head()"
   ]
  },
  {
   "cell_type": "code",
   "execution_count": 68,
   "metadata": {},
   "outputs": [],
   "source": [
    "answer.to_csv(out, index=False)"
   ]
  }
 ],
 "metadata": {
  "kernelspec": {
   "display_name": "Python [conda env:caispp]",
   "language": "python",
   "name": "conda-env-caispp-py"
  },
  "language_info": {
   "codemirror_mode": {
    "name": "ipython",
    "version": 3
   },
   "file_extension": ".py",
   "mimetype": "text/x-python",
   "name": "python",
   "nbconvert_exporter": "python",
   "pygments_lexer": "ipython3",
   "version": "3.5.6"
  }
 },
 "nbformat": 4,
 "nbformat_minor": 2
}
