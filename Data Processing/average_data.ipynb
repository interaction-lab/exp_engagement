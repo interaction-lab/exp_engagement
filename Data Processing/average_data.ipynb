{
 "cells": [
  {
   "cell_type": "code",
   "execution_count": 1,
   "metadata": {},
   "outputs": [],
   "source": [
    "import pandas as pd\n",
    "import numpy as np\n",
    "from pandas import *\n",
    "import os"
   ]
  },
  {
   "cell_type": "code",
   "execution_count": 2,
   "metadata": {},
   "outputs": [],
   "source": [
    "lookup_file = '../../../../Google Drive File Stream/My Drive/USC Expeditions Year 5/Analysis/Help-Seeking/Data/FS4/p3_data_FS4.csv'\n",
    "data = pd.read_csv(lookup_file)"
   ]
  },
  {
   "cell_type": "code",
   "execution_count": null,
   "metadata": {},
   "outputs": [],
   "source": [
    "row_list = []\n",
    "\n",
    "i = 0\n",
    "num_rows = data.count()[0]\n",
    "while (i+14 < num_rows):\n",
    "    append = {}\n",
    "    curr = data.iloc[i:i+15]\n",
    "    \n",
    "    # check if there was a session change \n",
    "    if ((curr['session_num'].nunique()) > 1): \n",
    "        for a,v in enumerate(curr['session_num']):\n",
    "            if (v != curr['session_num'][i+a+1]):\n",
    "                i = a+1\n",
    "                break\n",
    "        continue\n",
    "        \n",
    "    else: \n",
    "        for j in data.columns:\n",
    "            if (j == 'engagement'):\n",
    "                append[j] = int(round(curr[j].mean()))\n",
    "            else:\n",
    "                append[j] = curr[j].mean()\n",
    "        \n",
    "        row_list.append(append)\n",
    "        i += 15\n",
    "\n",
    "answer = pd.DataFrame(row_list)"
   ]
  },
  {
   "cell_type": "code",
   "execution_count": null,
   "metadata": {},
   "outputs": [],
   "source": [
    "path_data = '../../../../Google Drive File Stream/My Drive/USC Expeditions Year 5/Analysis/Help-Seeking/Data/p3_round_test.csv'\n",
    "\n",
    "answer.to_csv(path_data, index=False)"
   ]
  },
  {
   "cell_type": "code",
   "execution_count": null,
   "metadata": {},
   "outputs": [],
   "source": []
  }
 ],
 "metadata": {
  "kernelspec": {
   "display_name": "Python [conda env:caispp]",
   "language": "python",
   "name": "conda-env-caispp-py"
  },
  "language_info": {
   "codemirror_mode": {
    "name": "ipython",
    "version": 3
   },
   "file_extension": ".py",
   "mimetype": "text/x-python",
   "name": "python",
   "nbconvert_exporter": "python",
   "pygments_lexer": "ipython3",
   "version": "3.5.6"
  }
 },
 "nbformat": 4,
 "nbformat_minor": 2
}
