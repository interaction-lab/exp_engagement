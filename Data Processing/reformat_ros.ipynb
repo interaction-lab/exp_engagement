{
 "cells": [
  {
   "cell_type": "code",
   "execution_count": 196,
   "metadata": {},
   "outputs": [],
   "source": [
    "# Script to Convert ROS => Timeseries Format"
   ]
  },
  {
   "cell_type": "code",
   "execution_count": 197,
   "metadata": {},
   "outputs": [],
   "source": [
    "import pandas as pd\n",
    "import os\n",
    "import regex as re\n",
    "import datetime\n",
    "import time\n",
    "import numpy as np"
   ]
  },
  {
   "cell_type": "code",
   "execution_count": 198,
   "metadata": {},
   "outputs": [],
   "source": [
    "participant = 18\n",
    "data_path = '../../../../Google Drive File Stream/My Drive/USC Expeditions Year 5/Analysis/Engagement/Data/ROS/p'+str(participant) +'/Interm2'\n",
    "out = '../../../../Google Drive File Stream/My Drive/USC Expeditions Year 5/Analysis/Engagement/Data/ROS/p'+str(participant) +'/Final/'"
   ]
  },
  {
   "cell_type": "code",
   "execution_count": 199,
   "metadata": {},
   "outputs": [],
   "source": [
    "def to_seconds(s):\n",
    "    if s=='0':\n",
    "        return 0\n",
    "    \n",
    "    s = s[:-4]\n",
    "    \n",
    "    # First Check if Bigger than 1 Hour\n",
    "    if len(s)==5:\n",
    "        test = int(s[0:2])\n",
    "        if test>=60:\n",
    "            hours = str(int(test/60))\n",
    "            minutes = str(test%60)\n",
    "\n",
    "            if len(minutes) == 1:\n",
    "                minutes = '0' + minutes\n",
    "            s = hours + ':' + minutes + s[2:]\n",
    "\n",
    "    if len(s) > 5:\n",
    "        regex = '%H:%M:%S'\n",
    "    else:\n",
    "        regex = '%M:%S'\n",
    "\n",
    "    x = time.strptime(s, regex)\n",
    "    return datetime.timedelta(hours=x.tm_hour,minutes=x.tm_min,seconds=x.tm_sec).total_seconds()"
   ]
  },
  {
   "cell_type": "code",
   "execution_count": 200,
   "metadata": {},
   "outputs": [
    {
     "name": "stdout",
     "output_type": "stream",
     "text": [
      "p18_s18_new_ros_2019-01-09-19-00-59_2019-01-09-19-00-59.csv\n",
      "p18_s17_new_ros_2019-01-05-07-29-25_2019-01-05-07-29-26.csv\n",
      "p18_s19_new_ros_2019-01-12-14-47-15_2019-01-12-14-47-16.csv\n",
      "p18_s9_new_ros_2018-12-16-18-56-51_2018-12-16-18-56-52.csv\n",
      "p18_s10_new_ros_2018-12-18-19-51-00_2018-12-18-19-51-00.csv\n",
      "p18_s7_new_ros_2018-12-11-19-29-19_2018-12-11-19-29-19.csv\n",
      "p18_s12_new_ros_2018-12-27-18-58-05_2018-12-27-18-58-06.csv\n",
      "p18_s15_new_ros_2019-01-02-20-16-17_2019-01-02-20-16-17.csv\n",
      "p18_s11_new_ros_2018-12-24-15-43-43_2018-12-24-15-43-44.csv\n",
      "p18_s8_new_ros_2018-12-13-19-58-02_2018-12-13-19-58-03.csv\n",
      "p18_s5_new_ros_2018-12-09-19-36-03_2018-12-09-19-36-03.csv\n",
      "p18_s4_new_ros_2018-12-07-20-28-37_2018-12-07-20-28-38.csv\n",
      "p18_s3_new_ros_2018-12-06-19-27-56_2018-12-06-19-27-56.csv\n"
     ]
    }
   ],
   "source": [
    "for subdir, dirs, files in os.walk(data_path):\n",
    "    for file in files:\n",
    "        if 'ros' in file and 'csv' in file:\n",
    "            print(file)\n",
    "            sess = pd.read_csv(data_path+'/'+file, header=None)\n",
    "            sess = sess.rename({0:'start_time', 1:'end_time', 2:'tier', 3:'value'}, axis='columns')\n",
    "            \n",
    "            # convert start & end times to seconds\n",
    "            sess['start_sec'] = np.nan\n",
    "            sess['end_sec'] = np.nan\n",
    "\n",
    "            for i,r in sess.iterrows():\n",
    "                sess.loc[i, 'start_sec'] = to_seconds(r['start_time'])\n",
    "                sess.loc[i, 'end_sec'] = to_seconds(r['end_time'])\n",
    "                \n",
    "            # create answer dataframe\n",
    "            answer = pd.DataFrame(columns=['timestamp','ROBOT STATE', 'PARTICIPANT STATE', 'GAME STATE'])\n",
    "\n",
    "            times = [] \n",
    "            curr = 0\n",
    "            interval = 1/30\n",
    "            last = max(sess['end_sec'])\n",
    "            while curr <= last+1:\n",
    "                times.append(curr) \n",
    "                curr += interval\n",
    "            answer['timestamp'] = times\n",
    "            answer['timestamp'] = round(answer['timestamp'], 5)\n",
    "            \n",
    "            # map each tier to timeseries\n",
    "            for tier in sess['tier'].unique():\n",
    "                subset = sess[sess['tier']==tier]\n",
    "                for i,r in subset.iterrows():\n",
    "                    start = r['start_sec']\n",
    "                    end = r['end_sec']\n",
    "                    val = r['value']\n",
    "\n",
    "                    s_index = answer[answer['timestamp'] == start].index[0]\n",
    "                    e_index = answer[answer['timestamp'] == end].index[0]\n",
    "\n",
    "                    answer.loc[s_index:e_index-1, tier] = val\n",
    "            \n",
    "            # Save File\n",
    "            \n",
    "            # session for file name\n",
    "            sess_regex1 = 's\\d*_'\n",
    "            sess_regex2 = 's\\d*-\\d*_'\n",
    "\n",
    "            res1 = re.findall(sess_regex1, file)\n",
    "            res2 = re.findall(sess_regex2, file)\n",
    "\n",
    "            if (res2):\n",
    "                session = res2[0]\n",
    "            else:\n",
    "                session = res1[0]\n",
    "            \n",
    "            answer.to_csv(out+'p'+str(participant)+'_'+session+'ros.csv', index=False)"
   ]
  }
 ],
 "metadata": {
  "kernelspec": {
   "display_name": "Python [conda env:caispp]",
   "language": "python",
   "name": "conda-env-caispp-py"
  },
  "language_info": {
   "codemirror_mode": {
    "name": "ipython",
    "version": 3
   },
   "file_extension": ".py",
   "mimetype": "text/x-python",
   "name": "python",
   "nbconvert_exporter": "python",
   "pygments_lexer": "ipython3",
   "version": "3.5.6"
  }
 },
 "nbformat": 4,
 "nbformat_minor": 2
}
