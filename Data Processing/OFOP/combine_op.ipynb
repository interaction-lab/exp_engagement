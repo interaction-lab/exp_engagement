{
 "cells": [
  {
   "cell_type": "code",
   "execution_count": 10,
   "metadata": {},
   "outputs": [],
   "source": [
    "import pandas as pd\n",
    "import os\n",
    "import regex as re\n",
    "import math\n",
    "import numpy as np"
   ]
  },
  {
   "cell_type": "code",
   "execution_count": 11,
   "metadata": {},
   "outputs": [],
   "source": [
    "basic = ['participant', 'session_num', 'timestamp', 'num_people']"
   ]
  },
  {
   "cell_type": "code",
   "execution_count": 12,
   "metadata": {},
   "outputs": [
    {
     "name": "stdout",
     "output_type": "stream",
     "text": [
      "\n",
      "11\n",
      "p11_s20_openpose.csv\n",
      "p11_s19_openpose.csv\n",
      "p11_s18_openpose.csv\n",
      "p11_s17_openpose.csv\n",
      "p11_s16-2_openpose.csv\n",
      "p11_s16-1_openpose.csv\n",
      "p11_s15_openpose.csv\n",
      "p11_s14_openpose.csv\n",
      "p11_s13_openpose.csv\n",
      "p11_s12_openpose.csv\n",
      "p11_s11_openpose.csv\n",
      "p11_s10_openpose.csv\n",
      "p11_s9_openpose.csv\n",
      "p11_s8_openpose.csv\n",
      "p11_s7_openpose.csv\n",
      "p11_s6_openpose.csv\n",
      "p11_s5_openpose.csv\n",
      "p11_s4_openpose.csv\n",
      "p11_s3_openpose.csv\n",
      "p11_s2_openpose.csv\n",
      "p11_s22-2_openpose.csv\n"
     ]
    }
   ],
   "source": [
    "for participant in [11]:\n",
    "    print()\n",
    "    print(participant)\n",
    "    data_path = '../../../../../Google Drive File Stream/My Drive/USC Expeditions Year 5/Analysis/Engagement/Data/Open Pose/p'+str(participant)\n",
    "    out = '../../../../../Google Drive File Stream/My Drive/USC Expeditions Year 5/Analysis/Engagement/Data/Open Pose/p'+str(participant)+'_openpose.csv'        \n",
    "    \n",
    "    master = pd.DataFrame(columns=basic)\n",
    "    \n",
    "    for subdir, dirs, files in os.walk(data_path):\n",
    "        for file in files:\n",
    "            if 'openpose' in file and 'csv' in file:\n",
    "                path_to_file = data_path + '/' + file\n",
    "                print(file)\n",
    "\n",
    "                # Get Session Number \n",
    "                sess_regex1 = 's\\d*_'\n",
    "                sess_regex2 = 's\\d*-\\d*_'\n",
    "\n",
    "                res1 = re.findall(sess_regex1, file)\n",
    "                res2 = re.findall(sess_regex2, file)\n",
    "\n",
    "                if (res1):\n",
    "                    session = res1[0]\n",
    "                    session = float(session[1:-1])\n",
    "                else:\n",
    "                    session = res2[0]\n",
    "                    session = session[1:-1]\n",
    "                    session = session.replace('-', '.')\n",
    "                    session = float(session)\n",
    "\n",
    "                process = pd.read_csv(path_to_file)\n",
    "                \n",
    "                process['participant'] = participant\n",
    "                process['session_num'] = session\n",
    "                process['num_people'] = process['Number of People']\n",
    "               \n",
    "            \n",
    "                times = [] \n",
    "                curr = 0\n",
    "                interval = 1/30\n",
    "                for i in range(0, len(process)):\n",
    "                    times.append(curr)\n",
    "                    curr += interval\n",
    "                process['timestamp'] = times\n",
    "                process['timestamp'] = round(process['timestamp'], 5)\n",
    "\n",
    "                process = process[basic]\n",
    "\n",
    "                master = pd.concat([master,process], sort=True)\n",
    "                \n",
    "    master = master.sort_values(by=['session_num', 'timestamp'])\n",
    "    master.to_csv(out, index=False)"
   ]
  },
  {
   "cell_type": "code",
   "execution_count": null,
   "metadata": {},
   "outputs": [],
   "source": []
  }
 ],
 "metadata": {
  "kernelspec": {
   "display_name": "Python [conda env:caispp]",
   "language": "python",
   "name": "conda-env-caispp-py"
  },
  "language_info": {
   "codemirror_mode": {
    "name": "ipython",
    "version": 3
   },
   "file_extension": ".py",
   "mimetype": "text/x-python",
   "name": "python",
   "nbconvert_exporter": "python",
   "pygments_lexer": "ipython3",
   "version": "3.5.6"
  }
 },
 "nbformat": 4,
 "nbformat_minor": 2
}
