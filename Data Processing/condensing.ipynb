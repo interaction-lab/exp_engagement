{
 "cells": [
  {
   "cell_type": "code",
   "execution_count": 31,
   "metadata": {},
   "outputs": [],
   "source": [
    "# Condensing (Smoothing Prep)"
   ]
  },
  {
   "cell_type": "code",
   "execution_count": 32,
   "metadata": {},
   "outputs": [],
   "source": [
    "# Imports\n",
    "\n",
    "import pandas as pd\n",
    "import numpy as np"
   ]
  },
  {
   "cell_type": "code",
   "execution_count": 33,
   "metadata": {},
   "outputs": [],
   "source": [
    "p_path = 'p9'\n",
    "file = '../../../../Google Drive File Stream/My Drive/USC Expeditions Year 5/Analysis/Engagement/Data/Master/'+p_path+'_master.csv'\n",
    "data = pd.read_csv(file)"
   ]
  },
  {
   "cell_type": "code",
   "execution_count": 34,
   "metadata": {},
   "outputs": [],
   "source": [
    "# move timestamp, session_num to first two columns\n",
    "cols = np.array(data.columns).tolist()\n",
    "cols.remove('timestamp')\n",
    "cols.remove('session_num')\n",
    "cols.remove('engagement')\n",
    "cols = ['session_num', 'timestamp', 'engagement'] + cols\n",
    "data = data[cols]"
   ]
  },
  {
   "cell_type": "code",
   "execution_count": 35,
   "metadata": {},
   "outputs": [],
   "source": [
    "data = data.sort_values(['session_num', 'timestamp'], ascending=[True, True])"
   ]
  },
  {
   "cell_type": "code",
   "execution_count": 36,
   "metadata": {},
   "outputs": [],
   "source": [
    "orig_len = len(data)"
   ]
  },
  {
   "cell_type": "code",
   "execution_count": 37,
   "metadata": {},
   "outputs": [
    {
     "data": {
      "text/html": [
       "<div>\n",
       "<style scoped>\n",
       "    .dataframe tbody tr th:only-of-type {\n",
       "        vertical-align: middle;\n",
       "    }\n",
       "\n",
       "    .dataframe tbody tr th {\n",
       "        vertical-align: top;\n",
       "    }\n",
       "\n",
       "    .dataframe thead th {\n",
       "        text-align: right;\n",
       "    }\n",
       "</style>\n",
       "<table border=\"1\" class=\"dataframe\">\n",
       "  <thead>\n",
       "    <tr style=\"text-align: right;\">\n",
       "      <th></th>\n",
       "      <th>session_num</th>\n",
       "      <th>timestamp</th>\n",
       "      <th>engagement</th>\n",
       "      <th>of_confidence</th>\n",
       "      <th>of_success</th>\n",
       "      <th>of_gaze_0_x</th>\n",
       "      <th>of_gaze_0_y</th>\n",
       "      <th>of_gaze_0_z</th>\n",
       "      <th>of_gaze_1_x</th>\n",
       "      <th>of_gaze_1_y</th>\n",
       "      <th>...</th>\n",
       "      <th>p_skill_OS</th>\n",
       "      <th>p_skill_EM</th>\n",
       "      <th>p_no_game</th>\n",
       "      <th>a_harmonicity</th>\n",
       "      <th>a_intensity</th>\n",
       "      <th>a_mfcc_0</th>\n",
       "      <th>a_mfcc_1</th>\n",
       "      <th>a_pitch_frequency</th>\n",
       "      <th>a_pitch_strength</th>\n",
       "      <th>participant</th>\n",
       "    </tr>\n",
       "  </thead>\n",
       "  <tbody>\n",
       "    <tr>\n",
       "      <th>0</th>\n",
       "      <td>3.1</td>\n",
       "      <td>64.4333</td>\n",
       "      <td>1</td>\n",
       "      <td>0.03</td>\n",
       "      <td>0.0</td>\n",
       "      <td>0.0</td>\n",
       "      <td>0.0</td>\n",
       "      <td>0.0</td>\n",
       "      <td>0.0</td>\n",
       "      <td>0.0</td>\n",
       "      <td>...</td>\n",
       "      <td>1</td>\n",
       "      <td>0</td>\n",
       "      <td>0</td>\n",
       "      <td>-200.0</td>\n",
       "      <td>51.398</td>\n",
       "      <td>756.292</td>\n",
       "      <td>309.607</td>\n",
       "      <td>878.153</td>\n",
       "      <td>0.514</td>\n",
       "      <td>9</td>\n",
       "    </tr>\n",
       "    <tr>\n",
       "      <th>1</th>\n",
       "      <td>3.1</td>\n",
       "      <td>64.4667</td>\n",
       "      <td>1</td>\n",
       "      <td>0.03</td>\n",
       "      <td>0.0</td>\n",
       "      <td>0.0</td>\n",
       "      <td>0.0</td>\n",
       "      <td>0.0</td>\n",
       "      <td>0.0</td>\n",
       "      <td>0.0</td>\n",
       "      <td>...</td>\n",
       "      <td>1</td>\n",
       "      <td>0</td>\n",
       "      <td>0</td>\n",
       "      <td>-200.0</td>\n",
       "      <td>51.398</td>\n",
       "      <td>756.292</td>\n",
       "      <td>309.607</td>\n",
       "      <td>878.153</td>\n",
       "      <td>0.514</td>\n",
       "      <td>9</td>\n",
       "    </tr>\n",
       "    <tr>\n",
       "      <th>2</th>\n",
       "      <td>3.1</td>\n",
       "      <td>64.5000</td>\n",
       "      <td>1</td>\n",
       "      <td>0.03</td>\n",
       "      <td>0.0</td>\n",
       "      <td>0.0</td>\n",
       "      <td>0.0</td>\n",
       "      <td>0.0</td>\n",
       "      <td>0.0</td>\n",
       "      <td>0.0</td>\n",
       "      <td>...</td>\n",
       "      <td>1</td>\n",
       "      <td>0</td>\n",
       "      <td>0</td>\n",
       "      <td>-200.0</td>\n",
       "      <td>51.507</td>\n",
       "      <td>1053.846</td>\n",
       "      <td>283.242</td>\n",
       "      <td>6470.416</td>\n",
       "      <td>0.696</td>\n",
       "      <td>9</td>\n",
       "    </tr>\n",
       "    <tr>\n",
       "      <th>3</th>\n",
       "      <td>3.1</td>\n",
       "      <td>64.5333</td>\n",
       "      <td>1</td>\n",
       "      <td>0.38</td>\n",
       "      <td>0.0</td>\n",
       "      <td>0.0</td>\n",
       "      <td>0.0</td>\n",
       "      <td>0.0</td>\n",
       "      <td>0.0</td>\n",
       "      <td>0.0</td>\n",
       "      <td>...</td>\n",
       "      <td>1</td>\n",
       "      <td>0</td>\n",
       "      <td>0</td>\n",
       "      <td>-200.0</td>\n",
       "      <td>51.507</td>\n",
       "      <td>1053.846</td>\n",
       "      <td>283.242</td>\n",
       "      <td>6470.416</td>\n",
       "      <td>0.696</td>\n",
       "      <td>9</td>\n",
       "    </tr>\n",
       "    <tr>\n",
       "      <th>4</th>\n",
       "      <td>3.1</td>\n",
       "      <td>64.5667</td>\n",
       "      <td>1</td>\n",
       "      <td>0.03</td>\n",
       "      <td>0.0</td>\n",
       "      <td>0.0</td>\n",
       "      <td>0.0</td>\n",
       "      <td>0.0</td>\n",
       "      <td>0.0</td>\n",
       "      <td>0.0</td>\n",
       "      <td>...</td>\n",
       "      <td>1</td>\n",
       "      <td>0</td>\n",
       "      <td>0</td>\n",
       "      <td>-200.0</td>\n",
       "      <td>51.507</td>\n",
       "      <td>1053.846</td>\n",
       "      <td>283.242</td>\n",
       "      <td>6470.416</td>\n",
       "      <td>0.696</td>\n",
       "      <td>9</td>\n",
       "    </tr>\n",
       "  </tbody>\n",
       "</table>\n",
       "<p>5 rows × 65 columns</p>\n",
       "</div>"
      ],
      "text/plain": [
       "   session_num  timestamp  engagement  of_confidence  of_success  of_gaze_0_x  \\\n",
       "0          3.1    64.4333           1           0.03         0.0          0.0   \n",
       "1          3.1    64.4667           1           0.03         0.0          0.0   \n",
       "2          3.1    64.5000           1           0.03         0.0          0.0   \n",
       "3          3.1    64.5333           1           0.38         0.0          0.0   \n",
       "4          3.1    64.5667           1           0.03         0.0          0.0   \n",
       "\n",
       "   of_gaze_0_y  of_gaze_0_z  of_gaze_1_x  of_gaze_1_y     ...       \\\n",
       "0          0.0          0.0          0.0          0.0     ...        \n",
       "1          0.0          0.0          0.0          0.0     ...        \n",
       "2          0.0          0.0          0.0          0.0     ...        \n",
       "3          0.0          0.0          0.0          0.0     ...        \n",
       "4          0.0          0.0          0.0          0.0     ...        \n",
       "\n",
       "   p_skill_OS  p_skill_EM  p_no_game  a_harmonicity  a_intensity  a_mfcc_0  \\\n",
       "0           1           0          0         -200.0       51.398   756.292   \n",
       "1           1           0          0         -200.0       51.398   756.292   \n",
       "2           1           0          0         -200.0       51.507  1053.846   \n",
       "3           1           0          0         -200.0       51.507  1053.846   \n",
       "4           1           0          0         -200.0       51.507  1053.846   \n",
       "\n",
       "   a_mfcc_1  a_pitch_frequency  a_pitch_strength  participant  \n",
       "0   309.607            878.153             0.514            9  \n",
       "1   309.607            878.153             0.514            9  \n",
       "2   283.242           6470.416             0.696            9  \n",
       "3   283.242           6470.416             0.696            9  \n",
       "4   283.242           6470.416             0.696            9  \n",
       "\n",
       "[5 rows x 65 columns]"
      ]
     },
     "execution_count": 37,
     "metadata": {},
     "output_type": "execute_result"
    }
   ],
   "source": [
    "data.head()"
   ]
  },
  {
   "cell_type": "code",
   "execution_count": 38,
   "metadata": {},
   "outputs": [
    {
     "data": {
      "text/plain": [
       "Index(['session_num', 'timestamp', 'engagement', 'of_confidence', 'of_success',\n",
       "       'of_gaze_0_x', 'of_gaze_0_y', 'of_gaze_0_z', 'of_gaze_1_x',\n",
       "       'of_gaze_1_y', 'of_gaze_1_z', 'of_gaze_angle_x', 'of_gaze_angle_y',\n",
       "       'of_gaze_distance', 'of_pose_Tx', 'of_pose_Ty', 'of_pose_Tz',\n",
       "       'of_pose_Rx', 'of_pose_Ry', 'of_pose_Rz', 'of_pose_distance',\n",
       "       'of_AU01_c', 'of_AU02_c', 'of_AU04_c', 'of_AU05_c', 'of_AU06_c',\n",
       "       'of_AU07_c', 'of_AU09_c', 'of_AU10_c', 'of_AU12_c', 'of_AU14_c',\n",
       "       'of_AU15_c', 'of_AU17_c', 'of_AU20_c', 'of_AU23_c', 'of_AU25_c',\n",
       "       'of_AU26_c', 'of_AU28_c', 'of_AU45_c', 'op_num_people', 'p_games_total',\n",
       "       'p_games_session', 'p_mistakes_total', 'p_mistakes_session',\n",
       "       'p_mistakes_game', 'p_ts_robot_talked', 'p_ts_game_start',\n",
       "       'p_ts_attempt', 'p_aptitude', 'p_diff_1', 'p_diff_2', 'p_diff_3',\n",
       "       'p_diff_4', 'p_diff_5', 'p_skill_NC', 'p_skill_OS', 'p_skill_EM',\n",
       "       'p_no_game', 'a_harmonicity', 'a_intensity', 'a_mfcc_0', 'a_mfcc_1',\n",
       "       'a_pitch_frequency', 'a_pitch_strength', 'participant'],\n",
       "      dtype='object')"
      ]
     },
     "execution_count": 38,
     "metadata": {},
     "output_type": "execute_result"
    }
   ],
   "source": [
    "data.columns"
   ]
  },
  {
   "cell_type": "markdown",
   "metadata": {},
   "source": [
    "# 1. Remove Beginning of Videos/Sessions"
   ]
  },
  {
   "cell_type": "code",
   "execution_count": 39,
   "metadata": {},
   "outputs": [
    {
     "data": {
      "text/plain": [
       "0.4748476685963788"
      ]
     },
     "execution_count": 39,
     "metadata": {},
     "output_type": "execute_result"
    }
   ],
   "source": [
    "len(data.loc[data['engagement']==1])/len(data)"
   ]
  },
  {
   "cell_type": "code",
   "execution_count": 40,
   "metadata": {},
   "outputs": [],
   "source": [
    "# Remove data @ beginning of each session before first game has been played \n",
    "\n",
    "last_session = -1\n",
    "session_start = -1 \n",
    "track = False\n",
    "\n",
    "# tuples: (session_start, first_game_start)\n",
    "windows_to_remove = [] \n",
    "\n",
    "for i,r in data.iterrows():\n",
    "    # Check if new session started\n",
    "    if last_session != r['session_num']:\n",
    "        session_start = i\n",
    "        last_session = r['session_num']\n",
    "        track = True \n",
    "    \n",
    "    if track:\n",
    "        # check if we've found our first game start! \n",
    "        if r['p_no_game'] == 0: \n",
    "            windows_to_remove.append((session_start, i))\n",
    "            track = False "
   ]
  },
  {
   "cell_type": "code",
   "execution_count": 41,
   "metadata": {},
   "outputs": [
    {
     "name": "stdout",
     "output_type": "stream",
     "text": [
      "(0, 0)\n",
      "(26808, 27738)\n",
      "(162787, 162787)\n",
      "(242321, 242981)\n",
      "(259124, 259424)\n"
     ]
    }
   ],
   "source": [
    "for i in windows_to_remove:\n",
    "    print(i)"
   ]
  },
  {
   "cell_type": "code",
   "execution_count": 42,
   "metadata": {},
   "outputs": [],
   "source": [
    "# Remove data at beginning\n",
    "# Iterate backwards! \n",
    "\n",
    "n = len(windows_to_remove)\n",
    "for i in range(n-1, -1, -1):\n",
    "    rem = windows_to_remove[i]\n",
    "\n",
    "    if (rem[0] == rem[1]):\n",
    "        continue\n",
    "\n",
    "    seg1 = data.loc[:rem[0]-1]\n",
    "    seg2 = data.loc[rem[1]:, :]\n",
    "    data = seg1.append(seg2, sort=True)\n",
    "    \n",
    "data = data.reset_index(drop=True)"
   ]
  },
  {
   "cell_type": "code",
   "execution_count": 43,
   "metadata": {},
   "outputs": [
    {
     "name": "stdout",
     "output_type": "stream",
     "text": [
      "0.005132020549805038\n"
     ]
    }
   ],
   "source": [
    "curr_len = len(data)\n",
    "print((orig_len-curr_len)/orig_len)"
   ]
  },
  {
   "cell_type": "markdown",
   "metadata": {},
   "source": [
    "# 2. TS_game_played\n",
    "=> Help Indicate \"True\" Ending of Videos/Sessions"
   ]
  },
  {
   "cell_type": "code",
   "execution_count": 44,
   "metadata": {},
   "outputs": [],
   "source": [
    "# Add \"Time Since Game Played\" Column\n",
    "# 0 if game in progress, otherwise \n",
    "\n",
    "last_session = -1\n",
    "last_success = -1\n",
    "\n",
    "data['ts_game_played'] = 0\n",
    "\n",
    "for i,r in data.iterrows():\n",
    "    # Check if new session started\n",
    "    if last_session != r['session_num']:\n",
    "        last_session = r['session_num']\n",
    "        last_success = -1\n",
    "    \n",
    "    # 1 -- game played at this row, do nothing\n",
    "    if r['p_no_game']==0:\n",
    "        last_success = i\n",
    "    # 2 -- game not played, no game this session\n",
    "    elif last_success == -1: # should be REMOVED in earlier code! \n",
    "        data.loc[i, 'ts_game_played'] = -1\n",
    "    # 3 -- game not played, game this session\n",
    "    else:\n",
    "        data.loc[i, 'ts_game_played'] = (i-last_success)*(0.1/3)"
   ]
  },
  {
   "cell_type": "code",
   "execution_count": 45,
   "metadata": {},
   "outputs": [],
   "source": [
    "# save pre-smoothing data\n",
    "\n",
    "file = '../../../../Google Drive File Stream/My Drive/USC Expeditions Year 5/Analysis/Engagement/Data/Master/'+p_path+'_master.csv'\n",
    "data.to_csv(file, index=False)"
   ]
  },
  {
   "cell_type": "code",
   "execution_count": null,
   "metadata": {},
   "outputs": [],
   "source": []
  }
 ],
 "metadata": {
  "kernelspec": {
   "display_name": "Python [conda env:caispp]",
   "language": "python",
   "name": "conda-env-caispp-py"
  },
  "language_info": {
   "codemirror_mode": {
    "name": "ipython",
    "version": 3
   },
   "file_extension": ".py",
   "mimetype": "text/x-python",
   "name": "python",
   "nbconvert_exporter": "python",
   "pygments_lexer": "ipython3",
   "version": "3.5.6"
  }
 },
 "nbformat": 4,
 "nbformat_minor": 2
}
