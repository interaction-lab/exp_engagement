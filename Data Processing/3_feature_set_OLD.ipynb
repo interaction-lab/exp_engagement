{
 "cells": [
  {
   "cell_type": "code",
   "execution_count": null,
   "metadata": {},
   "outputs": [],
   "source": [
    "# Extract Feature Set (Select Particular Columns) from entire dataset"
   ]
  },
  {
   "cell_type": "code",
   "execution_count": null,
   "metadata": {},
   "outputs": [],
   "source": [
    "# Imports\n",
    "\n",
    "import pandas as pd\n",
    "import numpy as np\n",
    "from pandas import *\n",
    "import os\n",
    "import re\n"
   ]
  },
  {
   "cell_type": "markdown",
   "metadata": {},
   "source": [
    "#### TODO: Specifiy Data Path Based on Participant/Your Computer"
   ]
  },
  {
   "cell_type": "code",
   "execution_count": null,
   "metadata": {},
   "outputs": [],
   "source": [
    "# TODO: Specify Data Path based on participant/your computer\n",
    "# Warning: this will probably take some time\n",
    "\n",
    "file = '../../../../Google Drive File Stream/My Drive/USC Expeditions Year 5/Analysis/Help-Seeking/Data/Preprocessed/p3_data_preprocessed2.csv'\n",
    "data = pd.read_csv(file)"
   ]
  },
  {
   "cell_type": "code",
   "execution_count": null,
   "metadata": {},
   "outputs": [],
   "source": [
    "data.head()"
   ]
  },
  {
   "cell_type": "code",
   "execution_count": null,
   "metadata": {},
   "outputs": [],
   "source": [
    "# Drop Irrelevant Columns\n",
    "\n",
    "# transcriptions\n",
    "data = data.drop(columns=['transcript_spk_0', 'transcript_spk_1', 'transcript_spk_2'])\n",
    "\n",
    "# raw ros messages\n",
    "data = data.drop(columns=['ros_PARTICIPANT_STATE', 'ros_ROBOT_STATE'])\n",
    "\n",
    "# more for counting purposes\n",
    "data = data.drop(columns=['game_start', 'game_correct', 'game_incorrect', 'mistake_made'])\n",
    "\n",
    "data = data.drop(columns=['participant', 'session_date'])\n",
    "\n",
    "# use one-hot encoded difficulty and skill, don't use activity for now\n",
    "data = data.drop(columns=['difficulty', 'skill', 'activity', 'of_face_id'])"
   ]
  },
  {
   "cell_type": "code",
   "execution_count": null,
   "metadata": {},
   "outputs": [],
   "source": [
    "# Open-Face/Open-Pose Columns? \n",
    "# Feature Dictionary Documentation here: https://docs.google.com/document/d/1RSygoLwsM1PKEIOoqDOaEo3lRBZBLZJuzbMSY5K_6zA/edit?usp=sharing\n",
    "\n",
    "only_ofop = []\n",
    "performance = []\n",
    "for i in data.columns:\n",
    "    # open face/open pose columns begin with of_ or op_\n",
    "    if 'op_' in i or 'of_' in i:\n",
    "        only_ofop.append(i)\n",
    "    else:\n",
    "        performance.append(i)\n",
    "        \n",
    "only_ofop.remove('of_timestamp')"
   ]
  },
  {
   "cell_type": "code",
   "execution_count": null,
   "metadata": {},
   "outputs": [],
   "source": [
    "# Label Analysis\n",
    "\n",
    "print(data['engagement'].value_counts())\n",
    "print()\n",
    "\n",
    "print(1,data['engagement'].value_counts()[1]/sum(data['engagement'].value_counts()))\n",
    "print(0,data['engagement'].value_counts()[0]/sum(data['engagement'].value_counts()))"
   ]
  },
  {
   "cell_type": "code",
   "execution_count": null,
   "metadata": {},
   "outputs": [],
   "source": [
    "# Constructed Feature: Approximated Distance to Camera!! \n",
    "# Notes Here: https://docs.google.com/document/d/1q5ZSRo8NgItPHMHeVJkU-_e6YFZgjRdni2M6l5zrJlc/edit?usp=sharing\n",
    "\n",
    "data['of_gaze_distance'] = 0.0\n",
    "\n",
    "for i, r in data.iterrows():    \n",
    "    if (r['of_success'] == 0):\n",
    "        data.at[i, 'of_gaze_distance'] = np.nan\n",
    "    else:\n",
    "        data.at[i, 'of_gaze_distance'] = (math.tan(r['of_gaze_angle_x'])*r['of_pose_Tz']) + r['of_pose_Tx']\n",
    "\n",
    "# normalize it afterwards\n",
    "#min_val = data['of_gaze_distance'].min()\n",
    "#max_val = data['of_gaze_distance'].max()\n",
    "#range_val = max_val - min_val\n",
    "\n",
    "#data['of_gaze_distance'] = data['of_gaze_distance'].fillna(value=max_val)\n",
    "#data['of_gaze_distance'] = (data['of_gaze_distance'] - min_val) / range_val"
   ]
  },
  {
   "cell_type": "markdown",
   "metadata": {},
   "source": [
    "### Set Up Feature Set\n",
    "#### (FS4: Performance + Handpicked OF/OP from Caitlyn's Intuition)\n",
    "Note: keep timestamp and session_num until right before running the model in all feature sets"
   ]
  },
  {
   "cell_type": "code",
   "execution_count": null,
   "metadata": {},
   "outputs": [],
   "source": [
    "# Feature Set 4: Performance + Handpicked OF/OP\n",
    "\n",
    "hand_picked = ['confidence', 'success', 'gaze_0_x', 'gaze_0_y', 'gaze_0_z', 'gaze_1_x', 'gaze_1_y', 'gaze_1_z', 'gaze_angle_x', 'gaze_angle_y', 'gaze_distance']\n",
    "for i,c in enumerate(hand_picked):\n",
    "    hand_picked[i] = 'of_' + c\n",
    "hand_picked.append('op_Number of People')\n",
    "\n",
    "for i in performance:\n",
    "    hand_picked.append(i)\n",
    "\n",
    "FS = data[hand_picked]"
   ]
  },
  {
   "cell_type": "code",
   "execution_count": null,
   "metadata": {},
   "outputs": [],
   "source": [
    "test = FS.loc[FS['engagement'] == 0]\n",
    "print(np.mean(test['of_gaze_distance']))\n",
    "\n",
    "test = FS.loc[FS['engagement'] == 1]\n",
    "print(np.mean(test['of_gaze_distance']))"
   ]
  },
  {
   "cell_type": "markdown",
   "metadata": {},
   "source": [
    "### Write to File"
   ]
  },
  {
   "cell_type": "code",
   "execution_count": null,
   "metadata": {},
   "outputs": [],
   "source": [
    "path_data = '../../../../Google Drive File Stream/My Drive/USC Expeditions Year 5/Analysis/Help-Seeking/Data/p102_data_FS4new.csv'\n",
    "\n",
    "FS.to_csv(path_data, index=False)"
   ]
  },
  {
   "cell_type": "markdown",
   "metadata": {},
   "source": [
    "### Other Feature Sets"
   ]
  },
  {
   "cell_type": "markdown",
   "metadata": {},
   "source": [
    "1. All OF/OP + Performance\n",
    "2. Performance ONLY\n",
    "3. All OF/OP ONLY\n",
    "4. Performance + Handpicked OF/OP (from Caitlyn's intuition)\n",
    "5. Performance + Selected OF/OP (from Feature Analysis) "
   ]
  },
  {
   "cell_type": "markdown",
   "metadata": {},
   "source": [
    "Note: keep timestamp and session_num until right before running the model in all feature sets"
   ]
  },
  {
   "cell_type": "code",
   "execution_count": null,
   "metadata": {},
   "outputs": [],
   "source": [
    "# Feature Set 1: All OF/OP + Performance\n",
    "\n",
    "# FS1 = data"
   ]
  },
  {
   "cell_type": "code",
   "execution_count": null,
   "metadata": {},
   "outputs": [],
   "source": [
    "# Feature Set 2: Performance ONLY\n",
    "\n",
    "# print(performance)\n",
    "\n",
    "# FS2 = data[performance]"
   ]
  },
  {
   "cell_type": "code",
   "execution_count": null,
   "metadata": {},
   "outputs": [],
   "source": [
    "# Feature Set 3: OF/OP ONLY  \n",
    "\n",
    "# only_ofop.append('timestamp')\n",
    "# only_ofop.append('session_num')\n",
    "# only_ofop.append('engagement')\n",
    "\n",
    "# FS3 = data[only_ofop]"
   ]
  },
  {
   "cell_type": "code",
   "execution_count": null,
   "metadata": {},
   "outputs": [],
   "source": [
    "# Feature Set 4: Performance + Handpicked OF/OP\n",
    "\n",
    "# hand_picked = ['confidence', 'success', 'gaze_0_x', 'gaze_0_y', 'gaze_0_z', 'gaze_1_x', 'gaze_1_y', 'gaze_1_z', 'gaze_angle_x', 'gaze_angle_y']\n",
    "# for i,c in enumerate(hand_picked):\n",
    "#     hand_picked[i] = 'of_' + c\n",
    "# hand_picked.append('op_Number of People')\n",
    "\n",
    "# for i in performance:\n",
    "#     hand_picked.append(i)\n",
    "\n",
    "# FS4 = data[hand_picked]"
   ]
  },
  {
   "cell_type": "code",
   "execution_count": null,
   "metadata": {},
   "outputs": [],
   "source": [
    "# Feature Set 5: Performance + Selected OF/OP\n",
    "\n",
    "# selected_ofop = ['of_AU04_c',   'of_AU06_c',    'of_AU07_c',    'of_AU14_c',    'of_AU15_c',    'of_AU25_c',    'of_confidence',    'of_frame',    'of_success',    'of_timestamp', 'op_p1_face_c25',    'op_p1_face_c43',    'op_p1_face_c44',    'op_p1_face_c45',    'op_p1_face_c46',    'op_p1_face_y7',    'op_p1_face_y8',    'op_p1_pose_c0',    'op_p1_pose_c15',    'op_p1_pose_c16']\n",
    "\n",
    "# for i in performance:\n",
    "#     selected_ofop.append(i)\n",
    "\n",
    "# FS5 = data[selected_ofop]"
   ]
  },
  {
   "cell_type": "code",
   "execution_count": null,
   "metadata": {},
   "outputs": [],
   "source": []
  }
 ],
 "metadata": {
  "kernelspec": {
   "display_name": "Python [conda env:caispp]",
   "language": "python",
   "name": "conda-env-caispp-py"
  },
  "language_info": {
   "codemirror_mode": {
    "name": "ipython",
    "version": 3
   },
   "file_extension": ".py",
   "mimetype": "text/x-python",
   "name": "python",
   "nbconvert_exporter": "python",
   "pygments_lexer": "ipython3",
   "version": "3.5.6"
  }
 },
 "nbformat": 4,
 "nbformat_minor": 2
}
