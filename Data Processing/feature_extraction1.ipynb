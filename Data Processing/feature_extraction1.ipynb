{
 "cells": [
  {
   "cell_type": "code",
   "execution_count": 1,
   "metadata": {},
   "outputs": [],
   "source": [
    "import pandas as pd\n",
    "import numpy as np\n",
    "from pandas import *\n",
    "from scipy import stats\n",
    "import os\n",
    "import re\n",
    "import math"
   ]
  },
  {
   "cell_type": "code",
   "execution_count": 2,
   "metadata": {},
   "outputs": [
    {
     "name": "stderr",
     "output_type": "stream",
     "text": [
      "/anaconda3/envs/caispp/lib/python3.5/site-packages/IPython/core/interactiveshell.py:2785: DtypeWarning: Columns (1545,1546,1547,1550,1551,1552) have mixed types. Specify dtype option on import or set low_memory=False.\n",
      "  interactivity=interactivity, compiler=compiler, result=result)\n"
     ]
    }
   ],
   "source": [
    "file = '../../../../Google Drive File Stream/My Drive/USC Expeditions Year 5/Analysis/Help-Seeking/Data/p9_data1.csv'\n",
    "data = pd.read_csv(file)"
   ]
  },
  {
   "cell_type": "code",
   "execution_count": 3,
   "metadata": {},
   "outputs": [
    {
     "data": {
      "text/plain": [
       "(447951, 1553)"
      ]
     },
     "execution_count": 3,
     "metadata": {},
     "output_type": "execute_result"
    }
   ],
   "source": [
    "data.shape"
   ]
  },
  {
   "cell_type": "code",
   "execution_count": 4,
   "metadata": {},
   "outputs": [],
   "source": [
    "engaged = data.loc[data['engagement'] == 'engaged']"
   ]
  },
  {
   "cell_type": "code",
   "execution_count": 5,
   "metadata": {},
   "outputs": [
    {
     "data": {
      "text/plain": [
       "(255408, 1553)"
      ]
     },
     "execution_count": 5,
     "metadata": {},
     "output_type": "execute_result"
    }
   ],
   "source": [
    "engaged.shape"
   ]
  },
  {
   "cell_type": "code",
   "execution_count": 6,
   "metadata": {},
   "outputs": [
    {
     "name": "stdout",
     "output_type": "stream",
     "text": [
      "activity\n",
      "difficulty\n",
      "engagement\n",
      "game_correct\n",
      "game_incorrect\n",
      "game_start\n",
      "mistake_made\n",
      "participant\n",
      "ros_PARTICIPANT_STATE\n",
      "ros_ROBOT_STATE\n",
      "session_date\n",
      "session_num\n",
      "timestamp\n",
      "transcript_spk_0\n",
      "transcript_spk_1\n",
      "transcript_spk_2\n"
     ]
    }
   ],
   "source": [
    "# non open face/open pose columns\n",
    "\n",
    "for i in data.columns:\n",
    "    if 'op' not in i and 'of' not in i:\n",
    "        print(i)"
   ]
  },
  {
   "cell_type": "code",
   "execution_count": 7,
   "metadata": {},
   "outputs": [],
   "source": [
    "# add skills column\n",
    "\n",
    "act_to_skill = {\n",
    "    1: 'NC',\n",
    "    2: 'NC',\n",
    "    3: 'NC',\n",
    "    4: 'NC',\n",
    "    5: 'NC',\n",
    "    6: 'NC',\n",
    "    7: 'OS',\n",
    "    8: 'OS',\n",
    "    9: 'OS',\n",
    "    10: 'OS',\n",
    "    16: 'EM',\n",
    "}\n",
    "\n",
    "data['skill'] = data['activity'].map(act_to_skill)"
   ]
  },
  {
   "cell_type": "code",
   "execution_count": 8,
   "metadata": {},
   "outputs": [],
   "source": [
    "# sort by session number, then timestamp (chronological) for feature extraction\n",
    "\n",
    "data = data.sort_values(['session_num', 'timestamp'], ascending=[True, True])"
   ]
  },
  {
   "cell_type": "code",
   "execution_count": 9,
   "metadata": {},
   "outputs": [],
   "source": [
    "# set up new features\n",
    "\n",
    "fe_columns = ['ts_robot_talked', 'ts_game_start', 'ts_attempt', 'games_total', 'games_session', 'mistakes_total', 'mistakes_session', 'mistakes_game', 'aptitude']\n",
    "\n",
    "for c in fe_columns:\n",
    "    if (c == 'aptitude'):\n",
    "        data[c] = 0.5\n",
    "    else:\n",
    "        data[c] = 0.0"
   ]
  },
  {
   "cell_type": "code",
   "execution_count": 10,
   "metadata": {},
   "outputs": [],
   "source": [
    "last_session = 0.0\n",
    "\n",
    "# time since robot talked\n",
    "last_robot = 0.0\n",
    "\n",
    "# time since game started (elapsed time on current attempt)\n",
    "game_started = False\n",
    "last_game_start = 0.0\n",
    "last_game_finished = 0.0\n",
    "\n",
    "# games played\n",
    "games_total = 0\n",
    "games_session = 0\n",
    "\n",
    "# mistakes  \n",
    "mistakes_total = 0\n",
    "mistakes_session = 0\n",
    "mistakes_game = 0\n",
    "\n",
    "# time since last record attempt\n",
    "last_record = 0.0\n",
    "\n",
    "# iterate through all rows, tracking new features :) \n",
    "for i,r in data.iterrows():\n",
    "    \n",
    "    # if beginning of new session, reset all variables\n",
    "    if last_session != r['session_num']:\n",
    "        # reset all variables\n",
    "        last_session = r['session_num']\n",
    "        \n",
    "        last_robot = 0.0\n",
    "        \n",
    "        game_started = False\n",
    "        last_game_start = 0.0\n",
    "        last_game_finished = 0.0\n",
    "        \n",
    "        games_session = 0\n",
    "        mistakes_session = 0\n",
    "        mistakes_game = 0\n",
    "        \n",
    "        last_record = 0.0\n",
    "\n",
    "        \n",
    "    # time since robot talked (initialized to 0)\n",
    "    if isinstance(r['ros_ROBOT_STATE'], str):\n",
    "        last_robot = r['timestamp']\n",
    "    else:\n",
    "        data.at[i, 'ts_robot_talked'] = r['timestamp'] - last_robot\n",
    "    \n",
    "    # time since game started (initialized to 0)\n",
    "    if (r['game_start'] == 1):\n",
    "        last_game_start = r['timestamp']\n",
    "        game_started = True\n",
    "    \n",
    "    # we have a recorded attempt! \n",
    "    if (r['game_start'] == 1) or (r['mistake_made'] == 1):\n",
    "        last_record = r['timestamp']\n",
    "    \n",
    "    # need to check whether game hasn't finished yet (time between games == 0)\n",
    "    if (game_started) and (last_game_finished <= last_game_start):\n",
    "        data.at[i, 'ts_game_start'] = r['timestamp'] - last_game_start\n",
    "        data.at[i, 'ts_attempt'] = r['timestamp'] - last_record\n",
    "\n",
    "    \n",
    "    if (r['game_correct'] == 1) or (r['game_incorrect'] == 1):\n",
    "        last_game_finished = r['timestamp']\n",
    "        \n",
    "        \n",
    "    # games total calculations\n",
    "    if (r['game_start'] == 1):\n",
    "        games_total += 1\n",
    "        games_session += 1\n",
    "    data.at[i, 'games_total'] = games_total\n",
    "    data.at[i, 'games_session'] = games_session\n",
    "     \n",
    "    # mistakes calculations\n",
    "    if (r['mistake_made'] == 1):\n",
    "        mistakes_total += 1\n",
    "        mistakes_session += 1\n",
    "        mistakes_game += 1\n",
    " \n",
    "    data.at[i, 'mistakes_total'] = mistakes_total\n",
    "    data.at[i, 'mistakes_session'] = mistakes_session\n",
    "    data.at[i, 'mistakes_game'] = mistakes_game\n",
    "    \n",
    "    # aptitude calculation:\n",
    "    difficulty = r['difficulty']\n",
    "    if not (math.isnan(r['difficulty'])):\n",
    "        d = difficulty / 5.0;\n",
    "        m = mistakes_game / 5.0;\n",
    "        apt = 0.5*((1.0-m)+d)\n",
    "        data.at[i, 'aptitude'] = apt\n",
    "        \n",
    "    \n",
    "    if (r['game_correct'] == 1) or (r['game_incorrect'] == 1):        \n",
    "        game_mistakes = 0"
   ]
  },
  {
   "cell_type": "code",
   "execution_count": null,
   "metadata": {},
   "outputs": [],
   "source": []
  },
  {
   "cell_type": "code",
   "execution_count": 11,
   "metadata": {},
   "outputs": [],
   "source": [
    "col_order = ['participant',\n",
    "'session_num',\n",
    "'session_date',\n",
    "'timestamp',\n",
    "'engagement',\n",
    "'activity',\n",
    "'skill',\n",
    "'difficulty',\n",
    "'aptitude',\n",
    "'games_total', \n",
    "'games_session', \n",
    "'mistakes_total', \n",
    "'mistakes_session', \n",
    "'mistakes_game', \n",
    "'ts_robot_talked', \n",
    "'ts_game_start', \n",
    "'ts_attempt', \n",
    "'game_start',\n",
    "'game_correct',\n",
    "'game_incorrect',\n",
    "'mistake_made',\n",
    "'ros_PARTICIPANT_STATE',\n",
    "'ros_ROBOT_STATE',\n",
    "'transcript_spk_0',\n",
    "'transcript_spk_1',\n",
    "'transcript_spk_2',]\n",
    "\n",
    "other_cols = []\n",
    "for i in data.columns:\n",
    "    if 'of' in i or 'op' in i:\n",
    "        other_cols.append(i)\n",
    "\n",
    "col_order = col_order + other_cols\n",
    "\n",
    "data = data[col_order]"
   ]
  },
  {
   "cell_type": "code",
   "execution_count": 12,
   "metadata": {},
   "outputs": [
    {
     "data": {
      "text/plain": [
       "(447951, 1563)"
      ]
     },
     "execution_count": 12,
     "metadata": {},
     "output_type": "execute_result"
    }
   ],
   "source": [
    "data.shape"
   ]
  },
  {
   "cell_type": "code",
   "execution_count": 13,
   "metadata": {},
   "outputs": [],
   "source": [
    "path_data = '../../../../Google Drive File Stream/My Drive/USC Expeditions Year 5/Analysis/Help-Seeking/Data/p9_data2.csv'\n",
    "\n",
    "data.to_csv(path_data, index=False)"
   ]
  },
  {
   "cell_type": "code",
   "execution_count": null,
   "metadata": {},
   "outputs": [],
   "source": []
  }
 ],
 "metadata": {
  "kernelspec": {
   "display_name": "Python [conda env:caispp]",
   "language": "python",
   "name": "conda-env-caispp-py"
  },
  "language_info": {
   "codemirror_mode": {
    "name": "ipython",
    "version": 3
   },
   "file_extension": ".py",
   "mimetype": "text/x-python",
   "name": "python",
   "nbconvert_exporter": "python",
   "pygments_lexer": "ipython3",
   "version": "3.5.6"
  }
 },
 "nbformat": 4,
 "nbformat_minor": 2
}
