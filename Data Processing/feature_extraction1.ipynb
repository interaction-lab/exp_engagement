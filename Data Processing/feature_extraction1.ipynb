{
 "cells": [
  {
   "cell_type": "code",
   "execution_count": 1,
   "metadata": {},
   "outputs": [],
   "source": [
    "import pandas as pd\n",
    "import numpy as np\n",
    "from pandas import *\n",
    "from scipy import stats\n",
    "import os\n",
    "import re\n",
    "import math"
   ]
  },
  {
   "cell_type": "code",
   "execution_count": 2,
   "metadata": {},
   "outputs": [
    {
     "name": "stderr",
     "output_type": "stream",
     "text": [
      "/anaconda3/envs/caispp/lib/python3.5/site-packages/IPython/core/interactiveshell.py:2785: DtypeWarning: Columns (2,42,43,44,45,46,47,48,49,50,51,52,53,54,55,56,57,58,59,60,61,62,63,64,65,66,67,68,69,70,71,72,73,74,75,76,77,78,79,80,81,82,83,84,85,86,87,88,89,90,91,92,93,94,95,96,97,98,99,100,101,102,103,104,105,106,107,108,109,110,111,112,113,114,115,116,117,118,119,120,121,122,123,124,125,126,127,128,129,130,131,132,133,134,135,136,137,138,139,140,141,142,143,144,145,146,147,148,149,150,151,152,153,154,155,156,157,158,159,160,161,162,163,164,165,166,167,168,169,170,171,172,173,174,175,176,177,178,179,180,181,182,183,184,185,186,187,188,189,190,191,192,193,194,195,196,197,198,199,200,201,202,203,204,205,206,207,208,209,210,211,212,213,214,215,216,217,218,219,220,221,222,223,224,225,226,227,228,229,230,231,232,233,234,235,236,237,238,239,240,241,242,243,244,245,247,248,249,250,251,252,253,254,255,256,257,258,259,260,261,262,263,264,265,266,267,268,269,270,271,272,273,274,275,276,277,278,279,280,281,282,283,284,285,286,287,288,289,290,291,292,293,294,295,296,297,298,299,300,301,302,303,304,305,306,307,308,309,310,311,312,313,314,315,316,317,318,319,320,321,322,323,324,325,326,327,328,329,330,331,332,333,334,335,336,337,338,339,340,341,342,343,344,345,346,347,348,349,350,351,352,353,354,355,356,357,358,359,360,361,362,363,364,365,366,367,368,369,370,371,372,373,374,375,376,377,378,379,380,381,382,383,384,385,386,387,388,389,390,391,392,393,394,395,396,397,398,399,400,401,402,403,404,405,406,407,408,409,410,411,412,413,414,537,538,539,540,541,542,543,544,545,546,547,548,549,550,551,552,553,554,555,556,557,558,559,560,561,562,563,564,565,566,567,568,569,570,574,575,576,577,578,579,580,581,582,585,586,587,588,589,590,591,592,593,594,595,596,597,598,599,600,601,602,603,604,605,606,607,608,609,610,611,612,613,614,615,616,617,618,619,620,621,622,623,624,625,626,627,628,629,630,631,632,633,634,635,636,637,638,639,640,641,642,643,644,645,646,647,648,649,650,651,652,653,654,655,656,657,658,659,660,661,662,663,664,665,666,667,668,669,670,671,672,673,674,675,676,677,678,679,680,681,682,683,684,685,686,687,688,689,690,691,692,693,694,695,696,697,698,699,700,701,702,703,704,705,706,707,708,709,710,711,712,713,714,715,716,717,718,719,720,1545,1546,1550,1551,1552) have mixed types. Specify dtype option on import or set low_memory=False.\n",
      "  interactivity=interactivity, compiler=compiler, result=result)\n"
     ]
    }
   ],
   "source": [
    "file = '../../../../Google Drive File Stream/My Drive/USC Expeditions Year 5/Analysis/Help-Seeking/Data/p10_data1-2.csv'\n",
    "data = pd.read_csv(file)"
   ]
  },
  {
   "cell_type": "code",
   "execution_count": 3,
   "metadata": {},
   "outputs": [
    {
     "data": {
      "text/plain": [
       "(477281, 1553)"
      ]
     },
     "execution_count": 3,
     "metadata": {},
     "output_type": "execute_result"
    }
   ],
   "source": [
    "data.shape"
   ]
  },
  {
   "cell_type": "code",
   "execution_count": 4,
   "metadata": {},
   "outputs": [],
   "source": [
    "engaged = data.loc[data['engagement'] == 'engaged']"
   ]
  },
  {
   "cell_type": "code",
   "execution_count": 5,
   "metadata": {},
   "outputs": [
    {
     "data": {
      "text/plain": [
       "(244603, 1553)"
      ]
     },
     "execution_count": 5,
     "metadata": {},
     "output_type": "execute_result"
    }
   ],
   "source": [
    "engaged.shape"
   ]
  },
  {
   "cell_type": "code",
   "execution_count": 6,
   "metadata": {},
   "outputs": [
    {
     "name": "stdout",
     "output_type": "stream",
     "text": [
      "activity\n",
      "difficulty\n",
      "engagement\n",
      "game_correct\n",
      "game_incorrect\n",
      "game_start\n",
      "mistake_made\n",
      "participant\n",
      "ros_PARTICIPANT_STATE\n",
      "ros_ROBOT_STATE\n",
      "session_date\n",
      "session_num\n",
      "timestamp\n",
      "transcript_spk_0\n",
      "transcript_spk_1\n",
      "transcript_spk_2\n"
     ]
    }
   ],
   "source": [
    "# non open face/open pose columns\n",
    "\n",
    "for i in data.columns:\n",
    "    if 'op' not in i and 'of' not in i:\n",
    "        print(i)"
   ]
  },
  {
   "cell_type": "code",
   "execution_count": 7,
   "metadata": {},
   "outputs": [],
   "source": [
    "# add skills column\n",
    "\n",
    "act_to_skill = {\n",
    "    1: 'NC',\n",
    "    2: 'NC',\n",
    "    3: 'NC',\n",
    "    4: 'NC',\n",
    "    5: 'NC',\n",
    "    6: 'NC',\n",
    "    7: 'OS',\n",
    "    8: 'OS',\n",
    "    9: 'OS',\n",
    "    10: 'OS',\n",
    "    16: 'EM',\n",
    "}\n",
    "\n",
    "data['skill'] = data['activity'].map(act_to_skill)"
   ]
  },
  {
   "cell_type": "code",
   "execution_count": 8,
   "metadata": {},
   "outputs": [],
   "source": [
    "# sort by session number, then timestamp (chronological) for feature extraction\n",
    "\n",
    "data = data.sort_values(['session_num', 'timestamp'], ascending=[True, True])"
   ]
  },
  {
   "cell_type": "code",
   "execution_count": 9,
   "metadata": {},
   "outputs": [],
   "source": [
    "# set up new features\n",
    "\n",
    "fe_columns = ['ts_robot_talked', 'ts_game_start', 'ts_attempt', 'games_total', 'games_session', 'mistakes_total', 'mistakes_session', 'mistakes_game', 'aptitude']\n",
    "\n",
    "for c in fe_columns:\n",
    "    if (c == 'aptitude'):\n",
    "        data[c] = 0.5\n",
    "    else:\n",
    "        data[c] = 0.0"
   ]
  },
  {
   "cell_type": "code",
   "execution_count": 10,
   "metadata": {},
   "outputs": [],
   "source": [
    "last_session = 0.0\n",
    "\n",
    "# time since robot talked\n",
    "last_robot = 0.0\n",
    "\n",
    "# time since game started (elapsed time on current attempt)\n",
    "game_started = False\n",
    "last_game_start = 0.0\n",
    "last_game_finished = 0.0\n",
    "\n",
    "# games played\n",
    "games_total = 128\n",
    "games_session = 0\n",
    "\n",
    "# mistakes  \n",
    "mistakes_total = 182\n",
    "mistakes_session = 0\n",
    "mistakes_game = 0\n",
    "\n",
    "# time since last record attempt\n",
    "last_record = 0.0\n",
    "\n",
    "# iterate through all rows, tracking new features :) \n",
    "for i,r in data.iterrows():\n",
    "    # if beginning of new session, reset all variables\n",
    "    if last_session != r['session_num']:\n",
    "        # reset all variables\n",
    "        last_session = r['session_num']\n",
    "        \n",
    "        last_robot = 0.0\n",
    "        \n",
    "        game_started = False\n",
    "        last_game_start = 0.0\n",
    "        last_game_finished = 0.0\n",
    "        \n",
    "        games_session = 0\n",
    "        mistakes_session = 0\n",
    "        mistakes_game = 0\n",
    "        \n",
    "        last_record = 0.0\n",
    "\n",
    "        \n",
    "    # time since robot talked (initialized to 0)\n",
    "    if isinstance(r['ros_ROBOT_STATE'], str):\n",
    "        last_robot = r['timestamp']\n",
    "    else:\n",
    "        data.at[i, 'ts_robot_talked'] = r['timestamp'] - last_robot\n",
    "    \n",
    "    # time since game started (initialized to 0)\n",
    "    if (r['game_start'] == 1):\n",
    "        last_game_start = r['timestamp']\n",
    "        game_started = True\n",
    "    \n",
    "    # we have a recorded attempt! \n",
    "    if (r['game_start'] == 1) or (r['mistake_made'] == 1):\n",
    "        last_record = r['timestamp']\n",
    "    \n",
    "    # need to check whether game hasn't finished yet (time between games == 0)\n",
    "    if (game_started) and (last_game_finished <= last_game_start):\n",
    "        data.at[i, 'ts_game_start'] = r['timestamp'] - last_game_start\n",
    "        data.at[i, 'ts_attempt'] = r['timestamp'] - last_record\n",
    "\n",
    "    \n",
    "    if (r['game_correct'] == 1) or (r['game_incorrect'] == 1):\n",
    "        last_game_finished = r['timestamp']\n",
    "        \n",
    "        \n",
    "    # games total calculations\n",
    "    if (r['game_start'] == 1):\n",
    "        games_total += 1\n",
    "        games_session += 1\n",
    "    data.at[i, 'games_total'] = games_total\n",
    "    data.at[i, 'games_session'] = games_session\n",
    "     \n",
    "    # mistakes calculations\n",
    "    if (r['mistake_made'] == 1):\n",
    "        mistakes_total += 1\n",
    "        mistakes_session += 1\n",
    "        mistakes_game += 1\n",
    " \n",
    "    data.at[i, 'mistakes_total'] = mistakes_total\n",
    "    data.at[i, 'mistakes_session'] = mistakes_session\n",
    "    data.at[i, 'mistakes_game'] = mistakes_game\n",
    "    \n",
    "    # aptitude calculation:\n",
    "    difficulty = r['difficulty']\n",
    "    if not (math.isnan(r['difficulty'])):\n",
    "        d = difficulty / 5.0;\n",
    "        m = mistakes_game / 5.0;\n",
    "        apt = 0.5*((1.0-m)+d)\n",
    "        data.at[i, 'aptitude'] = apt\n",
    "        \n",
    "    \n",
    "    if (r['game_correct'] == 1) or (r['game_incorrect'] == 1):        \n",
    "        game_mistakes = 0"
   ]
  },
  {
   "cell_type": "code",
   "execution_count": 11,
   "metadata": {},
   "outputs": [
    {
     "name": "stdout",
     "output_type": "stream",
     "text": [
      "58447    350.0\n",
      "Name: games_total, dtype: float64\n",
      "58447    561.0\n",
      "Name: mistakes_total, dtype: float64\n"
     ]
    }
   ],
   "source": [
    "print(data.iloc[-1:]['games_total'])\n",
    "print(data.iloc[-1:]['mistakes_total'])"
   ]
  },
  {
   "cell_type": "code",
   "execution_count": 12,
   "metadata": {},
   "outputs": [],
   "source": [
    "col_order = ['participant',\n",
    "'session_num',\n",
    "'session_date',\n",
    "'timestamp',\n",
    "'engagement',\n",
    "'activity',\n",
    "'skill',\n",
    "'difficulty',\n",
    "'aptitude',\n",
    "'games_total', \n",
    "'games_session', \n",
    "'mistakes_total', \n",
    "'mistakes_session', \n",
    "'mistakes_game', \n",
    "'ts_robot_talked', \n",
    "'ts_game_start', \n",
    "'ts_attempt', \n",
    "'game_start',\n",
    "'game_correct',\n",
    "'game_incorrect',\n",
    "'mistake_made',\n",
    "'ros_PARTICIPANT_STATE',\n",
    "'ros_ROBOT_STATE',\n",
    "'transcript_spk_0',\n",
    "'transcript_spk_1',\n",
    "'transcript_spk_2',]\n",
    "\n",
    "other_cols = []\n",
    "for i in data.columns:\n",
    "    if 'of' in i or 'op' in i:\n",
    "        other_cols.append(i)\n",
    "\n",
    "col_order = col_order + other_cols\n",
    "\n",
    "data = data[col_order]"
   ]
  },
  {
   "cell_type": "code",
   "execution_count": 13,
   "metadata": {},
   "outputs": [
    {
     "data": {
      "text/plain": [
       "(477281, 1563)"
      ]
     },
     "execution_count": 13,
     "metadata": {},
     "output_type": "execute_result"
    }
   ],
   "source": [
    "data.shape"
   ]
  },
  {
   "cell_type": "code",
   "execution_count": null,
   "metadata": {},
   "outputs": [],
   "source": [
    "path_data = '../../../../Google Drive File Stream/My Drive/USC Expeditions Year 5/Analysis/Help-Seeking/Data/p10_data2-2.csv'\n",
    "\n",
    "data.to_csv(path_data, index=False)"
   ]
  },
  {
   "cell_type": "code",
   "execution_count": null,
   "metadata": {},
   "outputs": [],
   "source": []
  }
 ],
 "metadata": {
  "kernelspec": {
   "display_name": "Python [conda env:caispp]",
   "language": "python",
   "name": "conda-env-caispp-py"
  },
  "language_info": {
   "codemirror_mode": {
    "name": "ipython",
    "version": 3
   },
   "file_extension": ".py",
   "mimetype": "text/x-python",
   "name": "python",
   "nbconvert_exporter": "python",
   "pygments_lexer": "ipython3",
   "version": "3.5.6"
  }
 },
 "nbformat": 4,
 "nbformat_minor": 2
}
