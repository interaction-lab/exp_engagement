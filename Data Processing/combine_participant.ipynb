{
 "cells": [
  {
   "cell_type": "code",
   "execution_count": 18,
   "metadata": {},
   "outputs": [],
   "source": [
    "# Combine Data Across All Sessions (for a given participant)"
   ]
  },
  {
   "cell_type": "code",
   "execution_count": 19,
   "metadata": {},
   "outputs": [],
   "source": [
    "import pandas as pd\n",
    "import numpy as np\n",
    "from pandas import *\n",
    "from scipy import stats\n",
    "import os\n",
    "import re"
   ]
  },
  {
   "cell_type": "code",
   "execution_count": 20,
   "metadata": {},
   "outputs": [],
   "source": [
    "# get column names & types from sample file"
   ]
  },
  {
   "cell_type": "code",
   "execution_count": 21,
   "metadata": {},
   "outputs": [
    {
     "name": "stderr",
     "output_type": "stream",
     "text": [
      "/anaconda3/envs/caispp/lib/python3.5/site-packages/IPython/core/interactiveshell.py:2785: DtypeWarning: Columns (5,6,7,8,9,16,17,18,19,20,21,22,23) have mixed types. Specify dtype option on import or set low_memory=False.\n",
      "  interactivity=interactivity, compiler=compiler, result=result)\n"
     ]
    }
   ],
   "source": [
    "file = '../../../Google Drive File Stream/My Drive/USC Expeditions Year 5/Data/All Synchronized/P3_annos/annos_s20_2017-11-08/other_data/Combined_s20_2017-11-08.csv'\n",
    "\n",
    "init_data = pd.read_csv(file)"
   ]
  },
  {
   "cell_type": "code",
   "execution_count": 22,
   "metadata": {},
   "outputs": [],
   "source": [
    "of_op_cols = []\n",
    "\n",
    "for i in init_data.columns:\n",
    "    if 'of' in i or 'op' in i:\n",
    "        of_op_cols.append(i)\n",
    "\n",
    "save_columns = ['engagement', 'timestamp', 'participant', 'session_num', 'session_date', 'activity', 'difficulty', 'ros_ROBOT_STATE', 'ros_PARTICIPANT_STATE', 'transcript_spk_0', 'transcript_spk_1', 'transcript_spk_2']\n",
    "\n",
    "new_columns = ['mistake_made', 'game_incorrect', 'game_correct', 'game_start']\n",
    "\n",
    "master_cols = save_columns + new_columns + of_op_cols"
   ]
  },
  {
   "cell_type": "code",
   "execution_count": 23,
   "metadata": {},
   "outputs": [],
   "source": [
    "master = pd.DataFrame(columns = master_cols)"
   ]
  },
  {
   "cell_type": "markdown",
   "metadata": {},
   "source": [
    "### Precondition Calculations\n",
    "- game start\n",
    "    - new continuous instance of \"game2_act1_inst0\" in ros_ROBOT_STATE\n",
    "- game end (moving on)\n",
    "    - \"Movingon\" in ros_PARTICIPANT_STATE\n",
    "- game end (completed successfully)\n",
    "    - \"GameCompleted\" in ros_PARTICIPANT_STATE\n",
    "- mistake made\n",
    "    - new continuous instance of \"Madeamistake in ros_PARTICIPANT_STATE\""
   ]
  },
  {
   "cell_type": "code",
   "execution_count": 24,
   "metadata": {},
   "outputs": [
    {
     "name": "stdout",
     "output_type": "stream",
     "text": [
      "Combined_s23_2018-06-27.csv\n"
     ]
    },
    {
     "name": "stderr",
     "output_type": "stream",
     "text": [
      "/anaconda3/envs/caispp/lib/python3.5/site-packages/IPython/core/interactiveshell.py:2785: DtypeWarning: Columns (5,6,7,8,9) have mixed types. Specify dtype option on import or set low_memory=False.\n",
      "  interactivity=interactivity, compiler=compiler, result=result)\n"
     ]
    },
    {
     "name": "stdout",
     "output_type": "stream",
     "text": [
      "(81110, 1553)\n",
      "(0, 1553)\n",
      "Combined_s16_2018-06-25.csv\n"
     ]
    },
    {
     "name": "stderr",
     "output_type": "stream",
     "text": [
      "/anaconda3/envs/caispp/lib/python3.5/site-packages/IPython/core/interactiveshell.py:2785: DtypeWarning: Columns (5,6,7,8,9,10) have mixed types. Specify dtype option on import or set low_memory=False.\n",
      "  interactivity=interactivity, compiler=compiler, result=result)\n"
     ]
    },
    {
     "name": "stdout",
     "output_type": "stream",
     "text": [
      "(18392, 1553)\n",
      "(81110, 1553)\n",
      "Combined_s6_2018-06-12.csv\n",
      "(9363, 1553)\n",
      "(99502, 1553)\n",
      "Combined_s9_2018-06-14.csv\n",
      "(21974, 1553)\n",
      "(108865, 1553)\n",
      "Combined_s8_2018-06-14.csv\n",
      "(18918, 1553)\n",
      "(130839, 1553)\n",
      "Combined_s7_2018-06-12.csv\n",
      "(20681, 1553)\n",
      "(149757, 1553)\n",
      "Combined_s4_2018-06-11.csv\n"
     ]
    },
    {
     "name": "stderr",
     "output_type": "stream",
     "text": [
      "/anaconda3/envs/caispp/lib/python3.5/site-packages/IPython/core/interactiveshell.py:2785: DtypeWarning: Columns (2,5,6,7,8,9) have mixed types. Specify dtype option on import or set low_memory=False.\n",
      "  interactivity=interactivity, compiler=compiler, result=result)\n"
     ]
    },
    {
     "name": "stdout",
     "output_type": "stream",
     "text": [
      "(18003, 1553)\n",
      "(170438, 1553)\n",
      "Combined_s3_2018-06-07.csv\n",
      "(58622, 1553)\n",
      "(188441, 1553)\n",
      "Combined_s1_2018-06-07.csv\n",
      "(30074, 1553)\n",
      "(247063, 1553)\n"
     ]
    }
   ],
   "source": [
    "rootdir = '../../../Google Drive File Stream/My Drive/USC Expeditions Year 5/Data/All Synchronized/P9_annos'\n",
    "\n",
    "for subdir, dirs, files in os.walk(rootdir):\n",
    "    for file in files:\n",
    "        if 'Combined' in file: #one of the files to process     \n",
    "            print(file)\n",
    "                        \n",
    "            path_to_file = subdir + '/' + file\n",
    "            data = pd.read_csv(path_to_file)\n",
    "            \n",
    "            new_columns = ['mistake_made', 'game_incorrect', 'game_correct', 'game_start', 'session_date', 'session_num']\n",
    "\n",
    "            for c in new_columns:\n",
    "                if c != 'session_date':\n",
    "                    data[c] = 0.0\n",
    "                else:\n",
    "                    data[c] = ''\n",
    "            \n",
    "            for i,r in data.iterrows():\n",
    "                ros_robot = r['ros_ROBOT_STATE']\n",
    "                ros_participant = r['ros_PARTICIPANT_STATE']\n",
    "\n",
    "                # new continuous instance in ros_ROBOT_STATE \n",
    "                if (isinstance(ros_robot, str)) and ((i==0) or (data.at[i-1, 'ros_ROBOT_STATE'] != ros_robot)): \n",
    "                    # new game_start\n",
    "                    if ('game' in ros_robot) and ('act' in ros_robot) and  ('inst' in ros_robot):\n",
    "                        data.at[i, 'game_start'] = 1\n",
    "\n",
    "                # new continuous instance in ros_PARTICIPANT_STATE\n",
    "                if (isinstance(ros_participant, str)) and ((i==0) or (data.at[i-1, 'ros_PARTICIPANT_STATE'] != ros_participant)):\n",
    "                    # new game correct \n",
    "                    if ('GameCompleted' in ros_participant):\n",
    "                        data.at[i, 'game_correct'] = 1\n",
    "\n",
    "                    # new game incorrect\n",
    "                    if ('Movingon' in ros_participant):\n",
    "                        data.at[i, 'game_incorrect'] = 1\n",
    "\n",
    "                    # mistake made\n",
    "                    if ('Madeamistake' in ros_participant):\n",
    "                        data.at[i, 'mistake_made'] = 1\n",
    "                        \n",
    "                # extract session num and date\n",
    "                session = r['session']\n",
    "                nan_indices = []\n",
    "                \n",
    "                if ('s18-19') in file:\n",
    "                    data.at[i, 'session_num'] = 18\n",
    "                    data.at[i, 'session_date'] = '2018-05-14'\n",
    "                elif (isinstance(session, str)):\n",
    "                    date_regex = '201\\d-\\d\\d-\\d\\d'\n",
    "                    date = re.findall(date_regex, session)[0]\n",
    "\n",
    "                    num_regex = 's\\d*_'\n",
    "                    num = re.findall(num_regex, session)[0]\n",
    "                    num = num[1:-1]\n",
    "\n",
    "\n",
    "                    data.at[i, 'session_num'] = num\n",
    "                    data.at[i, 'session_date'] = date\n",
    "                else:\n",
    "                    nan_indices.append(i)\n",
    "            \n",
    "            data = data.drop(data.index[nan_indices])\n",
    "            data = data.drop(columns=['session'])\n",
    "            \n",
    "            data['timestamp'] = data['Timestamp']\n",
    "            data = data.drop(columns=['Timestamp'])\n",
    "            \n",
    "            print(data.shape)\n",
    "            print(master.shape)\n",
    "            \n",
    "            master = pd.concat([master,data], sort=True)"
   ]
  },
  {
   "cell_type": "code",
   "execution_count": 25,
   "metadata": {},
   "outputs": [],
   "source": [
    "path_data = '../../../Google Drive File Stream/My Drive/USC Expeditions Year 5/Analysis/Help-Seeking/Data/p9_data.csv'\n",
    "\n",
    "master.to_csv(path_data, index=False)"
   ]
  },
  {
   "cell_type": "markdown",
   "metadata": {},
   "source": []
  }
 ],
 "metadata": {
  "kernelspec": {
   "display_name": "Python [conda env:caispp]",
   "language": "python",
   "name": "conda-env-caispp-py"
  },
  "language_info": {
   "codemirror_mode": {
    "name": "ipython",
    "version": 3
   },
   "file_extension": ".py",
   "mimetype": "text/x-python",
   "name": "python",
   "nbconvert_exporter": "python",
   "pygments_lexer": "ipython3",
   "version": "3.5.6"
  }
 },
 "nbformat": 4,
 "nbformat_minor": 2
}
