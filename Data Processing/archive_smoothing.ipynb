{
 "cells": [
  {
   "cell_type": "code",
   "execution_count": null,
   "metadata": {},
   "outputs": [],
   "source": [
    "X_test_sess2 = X_test_sess.reset_index()"
   ]
  },
  {
   "cell_type": "code",
   "execution_count": null,
   "metadata": {},
   "outputs": [],
   "source": [
    "X_test_sess2['session_num'][0]"
   ]
  },
  {
   "cell_type": "code",
   "execution_count": null,
   "metadata": {},
   "outputs": [],
   "source": [
    "#x = nn_model.get_weights()\n",
    "#for i in range(0, 30):\n",
    "#    print(x[0][i][0])"
   ]
  },
  {
   "cell_type": "code",
   "execution_count": null,
   "metadata": {},
   "outputs": [],
   "source": [
    "#for i in X_train.columns:\n",
    "#    print(i)"
   ]
  },
  {
   "cell_type": "code",
   "execution_count": null,
   "metadata": {},
   "outputs": [],
   "source": [
    "# SMOOTHING \n",
    "\n",
    "n = len(pred)\n",
    "\n",
    "last = pred[0]\n",
    "\n",
    "monitor = False\n",
    "count = 0\n",
    "\n",
    "last_sess = X_test_sess2['session_num'][0]\n",
    "for i in range(0, n):\n",
    "    curr = pred[i]\n",
    "    sess = X_test_sess2['session_num'][i]\n",
    "    \n",
    "    if (last_sess != sess):\n",
    "        last_sess = sess\n",
    "        monitor = False\n",
    "        count = 0 \n",
    "        last = curr\n",
    "        continue\n",
    "    \n",
    "    \n",
    "    # Case 1: Curr != Last, Not Monitoring \n",
    "    if (curr != last) and (not monitor):\n",
    "        monitor = True\n",
    "        last = curr\n",
    "        count += 1\n",
    "        continue\n",
    "    \n",
    "    # Case 2: Curr != Last, Monitoring \n",
    "    if (curr != last) and (monitor):\n",
    "        if (count < 150):\n",
    "            pred[i-count:i] = curr\n",
    "        count = 0\n",
    "        monitor = False\n",
    "        last = curr\n",
    "        continue\n",
    "\n",
    "    # Case 3: Curr == Last, Monitoring\n",
    "    if (monitor):\n",
    "        count += 1\n",
    "        last = curr\n",
    "        continue\n",
    "    \n",
    "    # Case 4: Curr == Last, Not Monitoring\n",
    "    last = curr    "
   ]
  },
  {
   "cell_type": "code",
   "execution_count": null,
   "metadata": {},
   "outputs": [],
   "source": []
  },
  {
   "cell_type": "code",
   "execution_count": null,
   "metadata": {},
   "outputs": [],
   "source": []
  },
  {
   "cell_type": "code",
   "execution_count": null,
   "metadata": {},
   "outputs": [],
   "source": []
  },
  {
   "cell_type": "code",
   "execution_count": null,
   "metadata": {},
   "outputs": [],
   "source": []
  },
  {
   "cell_type": "code",
   "execution_count": null,
   "metadata": {},
   "outputs": [],
   "source": []
  }
 ],
 "metadata": {
  "kernelspec": {
   "display_name": "Python [conda env:caispp]",
   "language": "python",
   "name": "conda-env-caispp-py"
  },
  "language_info": {
   "codemirror_mode": {
    "name": "ipython",
    "version": 3
   },
   "file_extension": ".py",
   "mimetype": "text/x-python",
   "name": "python",
   "nbconvert_exporter": "python",
   "pygments_lexer": "ipython3",
   "version": "3.5.6"
  }
 },
 "nbformat": 4,
 "nbformat_minor": 2
}
