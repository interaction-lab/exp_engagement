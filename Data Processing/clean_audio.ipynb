{
 "cells": [
  {
   "cell_type": "code",
   "execution_count": 34,
   "metadata": {},
   "outputs": [],
   "source": [
    "import pandas as pd\n",
    "import os\n",
    "import regex as re"
   ]
  },
  {
   "cell_type": "code",
   "execution_count": 54,
   "metadata": {},
   "outputs": [],
   "source": [
    "data_path = '../../../../Google Drive File Stream/My Drive/USC Expeditions Year 5/Analysis/Engagement/Data/Audio/p5_audio.csv'"
   ]
  },
  {
   "cell_type": "code",
   "execution_count": 55,
   "metadata": {},
   "outputs": [],
   "source": [
    "data = pd.read_csv(data_path)"
   ]
  },
  {
   "cell_type": "code",
   "execution_count": 56,
   "metadata": {},
   "outputs": [],
   "source": [
    "'''\n",
    "data.columns\n",
    "mapper = {}\n",
    "for i in data.columns:\n",
    "    if (i == 'timestamp' or i=='participant' or i=='session_num'):\n",
    "        continue\n",
    "    mapper[i] = 'a_' + i\n",
    "'''"
   ]
  },
  {
   "cell_type": "code",
   "execution_count": 29,
   "metadata": {},
   "outputs": [
    {
     "data": {
      "text/plain": [
       "harmonicity        float64\n",
       "intensity          float64\n",
       "mfcc_0             float64\n",
       "mfcc_1             float64\n",
       "pitch_frequency    float64\n",
       "pitch_strength     float64\n",
       "timestamp          float64\n",
       "participant          int64\n",
       "session_num        float64\n",
       "dtype: object"
      ]
     },
     "execution_count": 29,
     "metadata": {},
     "output_type": "execute_result"
    }
   ],
   "source": [
    "data.dtypes"
   ]
  },
  {
   "cell_type": "code",
   "execution_count": 30,
   "metadata": {},
   "outputs": [
    {
     "data": {
      "text/html": [
       "<div>\n",
       "<style scoped>\n",
       "    .dataframe tbody tr th:only-of-type {\n",
       "        vertical-align: middle;\n",
       "    }\n",
       "\n",
       "    .dataframe tbody tr th {\n",
       "        vertical-align: top;\n",
       "    }\n",
       "\n",
       "    .dataframe thead th {\n",
       "        text-align: right;\n",
       "    }\n",
       "</style>\n",
       "<table border=\"1\" class=\"dataframe\">\n",
       "  <thead>\n",
       "    <tr style=\"text-align: right;\">\n",
       "      <th></th>\n",
       "      <th>harmonicity</th>\n",
       "      <th>intensity</th>\n",
       "      <th>mfcc_0</th>\n",
       "      <th>mfcc_1</th>\n",
       "      <th>pitch_frequency</th>\n",
       "      <th>pitch_strength</th>\n",
       "      <th>timestamp</th>\n",
       "      <th>participant</th>\n",
       "      <th>session_num</th>\n",
       "    </tr>\n",
       "  </thead>\n",
       "  <tbody>\n",
       "    <tr>\n",
       "      <th>0</th>\n",
       "      <td>-200.0</td>\n",
       "      <td>54.770</td>\n",
       "      <td>738.616</td>\n",
       "      <td>416.141</td>\n",
       "      <td>710.578</td>\n",
       "      <td>0.409</td>\n",
       "      <td>0.0</td>\n",
       "      <td>9</td>\n",
       "      <td>1.0</td>\n",
       "    </tr>\n",
       "    <tr>\n",
       "      <th>1</th>\n",
       "      <td>-200.0</td>\n",
       "      <td>57.084</td>\n",
       "      <td>865.044</td>\n",
       "      <td>442.322</td>\n",
       "      <td>302.248</td>\n",
       "      <td>0.345</td>\n",
       "      <td>0.1</td>\n",
       "      <td>9</td>\n",
       "      <td>1.0</td>\n",
       "    </tr>\n",
       "    <tr>\n",
       "      <th>2</th>\n",
       "      <td>-200.0</td>\n",
       "      <td>53.227</td>\n",
       "      <td>736.778</td>\n",
       "      <td>410.764</td>\n",
       "      <td>882.307</td>\n",
       "      <td>0.620</td>\n",
       "      <td>0.2</td>\n",
       "      <td>9</td>\n",
       "      <td>1.0</td>\n",
       "    </tr>\n",
       "    <tr>\n",
       "      <th>3</th>\n",
       "      <td>-200.0</td>\n",
       "      <td>49.646</td>\n",
       "      <td>684.221</td>\n",
       "      <td>369.315</td>\n",
       "      <td>903.087</td>\n",
       "      <td>0.621</td>\n",
       "      <td>0.3</td>\n",
       "      <td>9</td>\n",
       "      <td>1.0</td>\n",
       "    </tr>\n",
       "    <tr>\n",
       "      <th>4</th>\n",
       "      <td>-200.0</td>\n",
       "      <td>49.429</td>\n",
       "      <td>603.242</td>\n",
       "      <td>338.440</td>\n",
       "      <td>874.348</td>\n",
       "      <td>0.683</td>\n",
       "      <td>0.4</td>\n",
       "      <td>9</td>\n",
       "      <td>1.0</td>\n",
       "    </tr>\n",
       "  </tbody>\n",
       "</table>\n",
       "</div>"
      ],
      "text/plain": [
       "   harmonicity  intensity   mfcc_0   mfcc_1  pitch_frequency  pitch_strength  \\\n",
       "0       -200.0     54.770  738.616  416.141          710.578           0.409   \n",
       "1       -200.0     57.084  865.044  442.322          302.248           0.345   \n",
       "2       -200.0     53.227  736.778  410.764          882.307           0.620   \n",
       "3       -200.0     49.646  684.221  369.315          903.087           0.621   \n",
       "4       -200.0     49.429  603.242  338.440          874.348           0.683   \n",
       "\n",
       "   timestamp  participant  session_num  \n",
       "0        0.0            9          1.0  \n",
       "1        0.1            9          1.0  \n",
       "2        0.2            9          1.0  \n",
       "3        0.3            9          1.0  \n",
       "4        0.4            9          1.0  "
      ]
     },
     "execution_count": 30,
     "metadata": {},
     "output_type": "execute_result"
    }
   ],
   "source": [
    "data.head()"
   ]
  },
  {
   "cell_type": "code",
   "execution_count": 31,
   "metadata": {},
   "outputs": [
    {
     "name": "stdout",
     "output_type": "stream",
     "text": [
      "0\n",
      "19538\n",
      "39076\n",
      "58614\n",
      "78152\n",
      "97690\n",
      "117228\n",
      "136766\n",
      "156304\n",
      "175842\n"
     ]
    }
   ],
   "source": [
    "# Iterate through and add rows for 0.1/3 and 2*0.1/3 timestamps\n",
    "add = []\n",
    "checkpoint = int(len(data)/10)\n",
    "\n",
    "for i,r in data.iterrows():    \n",
    "    if (i%checkpoint == 0):\n",
    "        print(i)\n",
    "    r1 = r.copy()\n",
    "    r2 = r.copy()\n",
    "    \n",
    "    r1['timestamp'] = r['timestamp'] + (0.1/3)\n",
    "    r2['timestamp'] = r['timestamp'] + ((0.1/3)*2)\n",
    "    \n",
    "    add.append(r)\n",
    "    add.append(r1)\n",
    "    add.append(r2)"
   ]
  },
  {
   "cell_type": "code",
   "execution_count": 32,
   "metadata": {},
   "outputs": [
    {
     "data": {
      "text/html": [
       "<div>\n",
       "<style scoped>\n",
       "    .dataframe tbody tr th:only-of-type {\n",
       "        vertical-align: middle;\n",
       "    }\n",
       "\n",
       "    .dataframe tbody tr th {\n",
       "        vertical-align: top;\n",
       "    }\n",
       "\n",
       "    .dataframe thead th {\n",
       "        text-align: right;\n",
       "    }\n",
       "</style>\n",
       "<table border=\"1\" class=\"dataframe\">\n",
       "  <thead>\n",
       "    <tr style=\"text-align: right;\">\n",
       "      <th></th>\n",
       "      <th>harmonicity</th>\n",
       "      <th>intensity</th>\n",
       "      <th>mfcc_0</th>\n",
       "      <th>mfcc_1</th>\n",
       "      <th>pitch_frequency</th>\n",
       "      <th>pitch_strength</th>\n",
       "      <th>timestamp</th>\n",
       "      <th>participant</th>\n",
       "      <th>session_num</th>\n",
       "    </tr>\n",
       "  </thead>\n",
       "  <tbody>\n",
       "    <tr>\n",
       "      <th>0</th>\n",
       "      <td>-200.0</td>\n",
       "      <td>54.770</td>\n",
       "      <td>738.616</td>\n",
       "      <td>416.141</td>\n",
       "      <td>710.578</td>\n",
       "      <td>0.409</td>\n",
       "      <td>0.000000</td>\n",
       "      <td>9.0</td>\n",
       "      <td>1.0</td>\n",
       "    </tr>\n",
       "    <tr>\n",
       "      <th>1</th>\n",
       "      <td>-200.0</td>\n",
       "      <td>54.770</td>\n",
       "      <td>738.616</td>\n",
       "      <td>416.141</td>\n",
       "      <td>710.578</td>\n",
       "      <td>0.409</td>\n",
       "      <td>0.033333</td>\n",
       "      <td>9.0</td>\n",
       "      <td>1.0</td>\n",
       "    </tr>\n",
       "    <tr>\n",
       "      <th>2</th>\n",
       "      <td>-200.0</td>\n",
       "      <td>54.770</td>\n",
       "      <td>738.616</td>\n",
       "      <td>416.141</td>\n",
       "      <td>710.578</td>\n",
       "      <td>0.409</td>\n",
       "      <td>0.066667</td>\n",
       "      <td>9.0</td>\n",
       "      <td>1.0</td>\n",
       "    </tr>\n",
       "    <tr>\n",
       "      <th>3</th>\n",
       "      <td>-200.0</td>\n",
       "      <td>57.084</td>\n",
       "      <td>865.044</td>\n",
       "      <td>442.322</td>\n",
       "      <td>302.248</td>\n",
       "      <td>0.345</td>\n",
       "      <td>0.100000</td>\n",
       "      <td>9.0</td>\n",
       "      <td>1.0</td>\n",
       "    </tr>\n",
       "    <tr>\n",
       "      <th>4</th>\n",
       "      <td>-200.0</td>\n",
       "      <td>57.084</td>\n",
       "      <td>865.044</td>\n",
       "      <td>442.322</td>\n",
       "      <td>302.248</td>\n",
       "      <td>0.345</td>\n",
       "      <td>0.133333</td>\n",
       "      <td>9.0</td>\n",
       "      <td>1.0</td>\n",
       "    </tr>\n",
       "  </tbody>\n",
       "</table>\n",
       "</div>"
      ],
      "text/plain": [
       "   harmonicity  intensity   mfcc_0   mfcc_1  pitch_frequency  pitch_strength  \\\n",
       "0       -200.0     54.770  738.616  416.141          710.578           0.409   \n",
       "1       -200.0     54.770  738.616  416.141          710.578           0.409   \n",
       "2       -200.0     54.770  738.616  416.141          710.578           0.409   \n",
       "3       -200.0     57.084  865.044  442.322          302.248           0.345   \n",
       "4       -200.0     57.084  865.044  442.322          302.248           0.345   \n",
       "\n",
       "   timestamp  participant  session_num  \n",
       "0   0.000000          9.0          1.0  \n",
       "1   0.033333          9.0          1.0  \n",
       "2   0.066667          9.0          1.0  \n",
       "3   0.100000          9.0          1.0  \n",
       "4   0.133333          9.0          1.0  "
      ]
     },
     "execution_count": 32,
     "metadata": {},
     "output_type": "execute_result"
    }
   ],
   "source": [
    "master = pd.concat(add, axis=1, ignore_index=True)\n",
    "master = master.transpose()\n",
    "master.head()"
   ]
  },
  {
   "cell_type": "code",
   "execution_count": 33,
   "metadata": {},
   "outputs": [],
   "source": [
    "master.to_csv(data_path, index=False)"
   ]
  },
  {
   "cell_type": "code",
   "execution_count": null,
   "metadata": {},
   "outputs": [],
   "source": []
  }
 ],
 "metadata": {
  "kernelspec": {
   "display_name": "Python [conda env:caispp]",
   "language": "python",
   "name": "conda-env-caispp-py"
  },
  "language_info": {
   "codemirror_mode": {
    "name": "ipython",
    "version": 3
   },
   "file_extension": ".py",
   "mimetype": "text/x-python",
   "name": "python",
   "nbconvert_exporter": "python",
   "pygments_lexer": "ipython3",
   "version": "3.5.6"
  }
 },
 "nbformat": 4,
 "nbformat_minor": 2
}
