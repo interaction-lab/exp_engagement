{
 "cells": [
  {
   "cell_type": "code",
   "execution_count": 41,
   "metadata": {},
   "outputs": [],
   "source": [
    "import pandas as pd\n",
    "import os\n",
    "import regex as re"
   ]
  },
  {
   "cell_type": "code",
   "execution_count": 42,
   "metadata": {},
   "outputs": [],
   "source": [
    "data_path = '../../../../Google Drive File Stream/My Drive/USC Expeditions Year 5/Analysis/Engagement/Data/OF_P/p9_OF_P.csv'"
   ]
  },
  {
   "cell_type": "code",
   "execution_count": 43,
   "metadata": {},
   "outputs": [],
   "source": [
    "data = pd.read_csv(data_path)"
   ]
  },
  {
   "cell_type": "code",
   "execution_count": 44,
   "metadata": {},
   "outputs": [
    {
     "data": {
      "text/plain": [
       "Index(['of_confidence', 'of_success', 'of_gaze_0_x', 'of_gaze_0_y',\n",
       "       'of_gaze_0_z', 'of_gaze_1_x', 'of_gaze_1_y', 'of_gaze_1_z',\n",
       "       'of_gaze_angle_x', 'of_gaze_angle_y', 'of_gaze_distance', 'of_pose_Tx',\n",
       "       'of_pose_Ty', 'of_pose_Tz', 'of_pose_Rx', 'of_pose_Ry', 'of_pose_Rz',\n",
       "       'of_pose_distance', 'of_AU01_c', 'of_AU02_c', 'of_AU04_c', 'of_AU05_c',\n",
       "       'of_AU06_c', 'of_AU07_c', 'of_AU09_c', 'of_AU10_c', 'of_AU12_c',\n",
       "       'of_AU14_c', 'of_AU15_c', 'of_AU17_c', 'of_AU20_c', 'of_AU23_c',\n",
       "       'of_AU25_c', 'of_AU26_c', 'of_AU28_c', 'of_AU45_c',\n",
       "       'op_Number of People', 'timestamp', 'session_num', 'participant',\n",
       "       'games_total', 'games_session', 'mistakes_total', 'mistakes_session',\n",
       "       'mistakes_game', 'ts_robot_talked', 'ts_game_start', 'ts_attempt',\n",
       "       'aptitude', 'diff_1', 'diff_2', 'diff_3', 'diff_4', 'diff_5',\n",
       "       'skill_NC', 'skill_OS', 'skill_EM', 'no_game', 'engagement'],\n",
       "      dtype='object')"
      ]
     },
     "execution_count": 44,
     "metadata": {},
     "output_type": "execute_result"
    }
   ],
   "source": [
    "data.columns"
   ]
  },
  {
   "cell_type": "code",
   "execution_count": 45,
   "metadata": {},
   "outputs": [],
   "source": [
    "mapper = {}\n",
    "for i in data.columns:\n",
    "    if 'of_' in i:\n",
    "        continue\n",
    "    if i in ['timestamp', 'session_num', 'participant']:\n",
    "        continue\n",
    "        \n",
    "    if 'op_' in i:\n",
    "        mapper[i] = 'op_num_people'\n",
    "    else:\n",
    "        mapper[i] = 'p_' + i"
   ]
  },
  {
   "cell_type": "code",
   "execution_count": 46,
   "metadata": {},
   "outputs": [],
   "source": [
    "data = data.rename(index=str, columns=mapper)"
   ]
  },
  {
   "cell_type": "code",
   "execution_count": 47,
   "metadata": {},
   "outputs": [],
   "source": [
    "data = data.drop(columns=['p_engagement'])"
   ]
  },
  {
   "cell_type": "code",
   "execution_count": 48,
   "metadata": {},
   "outputs": [
    {
     "data": {
      "text/plain": [
       "Index(['of_confidence', 'of_success', 'of_gaze_0_x', 'of_gaze_0_y',\n",
       "       'of_gaze_0_z', 'of_gaze_1_x', 'of_gaze_1_y', 'of_gaze_1_z',\n",
       "       'of_gaze_angle_x', 'of_gaze_angle_y', 'of_gaze_distance', 'of_pose_Tx',\n",
       "       'of_pose_Ty', 'of_pose_Tz', 'of_pose_Rx', 'of_pose_Ry', 'of_pose_Rz',\n",
       "       'of_pose_distance', 'of_AU01_c', 'of_AU02_c', 'of_AU04_c', 'of_AU05_c',\n",
       "       'of_AU06_c', 'of_AU07_c', 'of_AU09_c', 'of_AU10_c', 'of_AU12_c',\n",
       "       'of_AU14_c', 'of_AU15_c', 'of_AU17_c', 'of_AU20_c', 'of_AU23_c',\n",
       "       'of_AU25_c', 'of_AU26_c', 'of_AU28_c', 'of_AU45_c', 'op_num_people',\n",
       "       'timestamp', 'session_num', 'participant', 'p_games_total',\n",
       "       'p_games_session', 'p_mistakes_total', 'p_mistakes_session',\n",
       "       'p_mistakes_game', 'p_ts_robot_talked', 'p_ts_game_start',\n",
       "       'p_ts_attempt', 'p_aptitude', 'p_diff_1', 'p_diff_2', 'p_diff_3',\n",
       "       'p_diff_4', 'p_diff_5', 'p_skill_NC', 'p_skill_OS', 'p_skill_EM',\n",
       "       'p_no_game'],\n",
       "      dtype='object')"
      ]
     },
     "execution_count": 48,
     "metadata": {},
     "output_type": "execute_result"
    }
   ],
   "source": [
    "data.columns"
   ]
  },
  {
   "cell_type": "code",
   "execution_count": 49,
   "metadata": {},
   "outputs": [],
   "source": [
    "data.to_csv(data_path, index=False)"
   ]
  }
 ],
 "metadata": {
  "kernelspec": {
   "display_name": "Python [conda env:caispp]",
   "language": "python",
   "name": "conda-env-caispp-py"
  },
  "language_info": {
   "codemirror_mode": {
    "name": "ipython",
    "version": 3
   },
   "file_extension": ".py",
   "mimetype": "text/x-python",
   "name": "python",
   "nbconvert_exporter": "python",
   "pygments_lexer": "ipython3",
   "version": "3.5.6"
  }
 },
 "nbformat": 4,
 "nbformat_minor": 2
}
