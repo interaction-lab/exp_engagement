{
 "cells": [
  {
   "cell_type": "code",
   "execution_count": 1,
   "metadata": {},
   "outputs": [],
   "source": [
    "import pandas as pd\n",
    "import numpy as np\n",
    "from pandas import *\n",
    "from scipy import stats\n",
    "import os\n",
    "import re\n",
    "import math"
   ]
  },
  {
   "cell_type": "code",
   "execution_count": 2,
   "metadata": {},
   "outputs": [
    {
     "name": "stderr",
     "output_type": "stream",
     "text": [
      "/anaconda3/envs/caispp/lib/python3.5/site-packages/IPython/core/interactiveshell.py:2785: DtypeWarning: Columns (2,4,6,21,22,23,24,25) have mixed types. Specify dtype option on import or set low_memory=False.\n",
      "  interactivity=interactivity, compiler=compiler, result=result)\n"
     ]
    }
   ],
   "source": [
    "# Warning: this will probably take some time\n",
    "# Adjust file path based on your computer\n",
    "\n",
    "file = '../../../Google Drive File Stream/My Drive/USC Expeditions Year 5/Analysis/Help-Seeking/Data/p8_data_new.csv'\n",
    "data = pd.read_csv(file)"
   ]
  },
  {
   "cell_type": "code",
   "execution_count": 3,
   "metadata": {},
   "outputs": [],
   "source": [
    "### DATA PREPROCESSING\n",
    "\n",
    "# 1. one-hot encode categorical data\n",
    "# 2. standardize variables \n",
    "# 3. fill in null values"
   ]
  },
  {
   "cell_type": "code",
   "execution_count": 4,
   "metadata": {},
   "outputs": [
    {
     "name": "stdout",
     "output_type": "stream",
     "text": [
      "participant\n",
      "session_num\n",
      "session_date\n",
      "timestamp\n",
      "engagement\n",
      "activity\n",
      "skill\n",
      "difficulty\n",
      "aptitude\n",
      "games_total\n",
      "games_session\n",
      "mistakes_total\n",
      "mistakes_session\n",
      "mistakes_game\n",
      "ts_robot_talked\n",
      "ts_game_start\n",
      "ts_attempt\n",
      "game_start\n",
      "game_correct\n",
      "game_incorrect\n",
      "mistake_made\n",
      "ros_PARTICIPANT_STATE\n",
      "ros_ROBOT_STATE\n",
      "transcript_spk_0\n",
      "transcript_spk_1\n",
      "transcript_spk_2\n"
     ]
    }
   ],
   "source": [
    "# What are non open face/open pose columns? \n",
    "# Feature Dictionary Documentation here: https://docs.google.com/document/d/1RSygoLwsM1PKEIOoqDOaEo3lRBZBLZJuzbMSY5K_6zA/edit?usp=sharing\n",
    "\n",
    "for i in data.columns:\n",
    "    # open face/open pose columns begin with of_ or op_\n",
    "    if 'op' not in i and 'of' not in i:\n",
    "        print(i)"
   ]
  },
  {
   "cell_type": "code",
   "execution_count": 5,
   "metadata": {},
   "outputs": [],
   "source": [
    "# Defintely drop the following columns \n",
    "\n",
    "# transcriptions\n",
    "#data = data.drop(columns=['transcript_spk_0', 'transcript_spk_1', 'transcript_spk_2'])\n",
    "\n",
    "# raw ros messages\n",
    "#data = data.drop(columns=['ros_PARTICIPANT_STATE', 'ros_ROBOT_STATE'])\n",
    "\n",
    "# more for counting purposes\n",
    "#data = data.drop(columns=['game_start', 'game_correct', 'game_incorrect', 'mistake_made'])\n",
    "\n",
    "#data = data.drop(columns=['participant', 'session_date'])\n",
    "\n",
    "# difficulty, skill, activity"
   ]
  },
  {
   "cell_type": "code",
   "execution_count": 6,
   "metadata": {},
   "outputs": [],
   "source": [
    "# One Hot Encoding for Skill and Difficulty\n",
    "\n",
    "data['skill_NC'] = 0\n",
    "data['skill_OS'] = 0\n",
    "data['skill_EM'] = 0\n",
    "\n",
    "data['diff_1'] = 0\n",
    "data['diff_2'] = 0\n",
    "data['diff_3'] = 0\n",
    "data['diff_4'] = 0\n",
    "data['diff_5'] = 0\n",
    "\n",
    "data['no_game'] = 0\n",
    "\n",
    "for i,r in data.iterrows():\n",
    "    skill_col = 'skill_'\n",
    "    diff_col = 'diff_'\n",
    "    \n",
    "    if isinstance(r['skill'], str):\n",
    "        skill_col += r['skill']\n",
    "        data.at[i, skill_col] = 1\n",
    "    else:\n",
    "        data.at[i, 'no_game'] = 1\n",
    "        \n",
    "    if not (math.isnan(r['difficulty'])):\n",
    "        diff_col += str(int(r['difficulty']))\n",
    "        data.at[i, diff_col] = 1\n"
   ]
  },
  {
   "cell_type": "code",
   "execution_count": 7,
   "metadata": {},
   "outputs": [],
   "source": [
    "# drop session 0\n",
    "\n",
    "data = data[~(data['session_num'] == 0)]  "
   ]
  },
  {
   "cell_type": "code",
   "execution_count": 8,
   "metadata": {},
   "outputs": [],
   "source": [
    "# normalize between 0 and 1\n",
    "\n",
    "other_cols = ['games_total', 'games_session', 'mistakes_total', 'mistakes_session', 'mistakes_game', 'ts_robot_talked', 'ts_game_start', 'ts_attempt']\n",
    "\n",
    "for i in data.columns:\n",
    "    if 'op_' in i or 'of_' in i or i in other_cols:\n",
    "        min_val = data[i].min()\n",
    "        max_val = data[i].max()\n",
    "        range_val = (float) (max_val - min_val)\n",
    "        \n",
    "        data[i] = data[i].fillna(value=min_val)\n",
    "        data[i] = (data[i] - min_val) / range_val"
   ]
  },
  {
   "cell_type": "code",
   "execution_count": 13,
   "metadata": {},
   "outputs": [],
   "source": [
    "data = data.round(10)"
   ]
  },
  {
   "cell_type": "code",
   "execution_count": 14,
   "metadata": {},
   "outputs": [],
   "source": [
    "path_data = '../../../Google Drive File Stream/My Drive/USC Expeditions Year 5/Analysis/Help-Seeking/Data/p8_data_processed2.csv'\n",
    "\n",
    "data.to_csv(path_data, index=False)"
   ]
  },
  {
   "cell_type": "code",
   "execution_count": null,
   "metadata": {},
   "outputs": [],
   "source": []
  }
 ],
 "metadata": {
  "kernelspec": {
   "display_name": "Python [conda env:caispp]",
   "language": "python",
   "name": "conda-env-caispp-py"
  },
  "language_info": {
   "codemirror_mode": {
    "name": "ipython",
    "version": 3
   },
   "file_extension": ".py",
   "mimetype": "text/x-python",
   "name": "python",
   "nbconvert_exporter": "python",
   "pygments_lexer": "ipython3",
   "version": "3.5.6"
  }
 },
 "nbformat": 4,
 "nbformat_minor": 2
}
