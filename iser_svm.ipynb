{
 "cells": [
  {
   "cell_type": "code",
   "execution_count": 1,
   "metadata": {},
   "outputs": [
    {
     "name": "stderr",
     "output_type": "stream",
     "text": [
      "/home/interaction-lab/miniconda3/lib/python3.6/importlib/_bootstrap.py:219: RuntimeWarning: numpy.dtype size changed, may indicate binary incompatibility. Expected 96, got 88\n",
      "  return f(*args, **kwds)\n",
      "/home/interaction-lab/miniconda3/lib/python3.6/importlib/_bootstrap.py:219: RuntimeWarning: numpy.dtype size changed, may indicate binary incompatibility. Expected 96, got 88\n",
      "  return f(*args, **kwds)\n"
     ]
    }
   ],
   "source": [
    "import random\n",
    "import pandas as pd\n",
    "import numpy as np\n",
    "from collections import Counter\n",
    "from sklearn import metrics\n",
    "from sklearn.metrics import roc_auc_score\n",
    "from sklearn.metrics import accuracy_score\n",
    "from sklearn import svm\n",
    "from sklearn.svm import LinearSVC\n",
    "from sklearn.model_selection import train_test_split\n",
    "from sklearn.preprocessing import LabelEncoder\n",
    "from sklearn.model_selection import cross_val_predict\n",
    "from sklearn.model_selection import cross_val_score\n",
    "from sklearn.feature_selection import RFE\n",
    "from imblearn.over_sampling import SMOTE\n",
    "from sklearn.preprocessing import StandardScaler\n",
    "from sklearn.preprocessing import RobustScaler"
   ]
  },
  {
   "cell_type": "markdown",
   "metadata": {},
   "source": [
    "# P3"
   ]
  },
  {
   "cell_type": "code",
   "execution_count": 2,
   "metadata": {},
   "outputs": [],
   "source": [
    "df1 = pd.read_csv('p3_iser_data.csv')"
   ]
  },
  {
   "cell_type": "code",
   "execution_count": 3,
   "metadata": {},
   "outputs": [
    {
     "data": {
      "text/html": [
       "<div>\n",
       "<style scoped>\n",
       "    .dataframe tbody tr th:only-of-type {\n",
       "        vertical-align: middle;\n",
       "    }\n",
       "\n",
       "    .dataframe tbody tr th {\n",
       "        vertical-align: top;\n",
       "    }\n",
       "\n",
       "    .dataframe thead th {\n",
       "        text-align: right;\n",
       "    }\n",
       "</style>\n",
       "<table border=\"1\" class=\"dataframe\">\n",
       "  <thead>\n",
       "    <tr style=\"text-align: right;\">\n",
       "      <th></th>\n",
       "      <th>Timestamp</th>\n",
       "      <th>engagement</th>\n",
       "      <th>participant</th>\n",
       "      <th>session_num</th>\n",
       "      <th>session_date</th>\n",
       "      <th>activity</th>\n",
       "      <th>difficulty</th>\n",
       "      <th>total_games</th>\n",
       "      <th>session_games</th>\n",
       "      <th>total_mistakes</th>\n",
       "      <th>...</th>\n",
       "      <th>of_success</th>\n",
       "      <th>of_gaze_0_x</th>\n",
       "      <th>of_gaze_0_y</th>\n",
       "      <th>of_gaze_0_z</th>\n",
       "      <th>of_gaze_1_x</th>\n",
       "      <th>of_gaze_1_y</th>\n",
       "      <th>of_gaze_1_z</th>\n",
       "      <th>of_gaze_angle_x</th>\n",
       "      <th>of_gaze_angle_y</th>\n",
       "      <th>op_Number of People</th>\n",
       "    </tr>\n",
       "  </thead>\n",
       "  <tbody>\n",
       "    <tr>\n",
       "      <th>0</th>\n",
       "      <td>0.000000</td>\n",
       "      <td>engaged</td>\n",
       "      <td>3.0</td>\n",
       "      <td>17.0</td>\n",
       "      <td>2017-11-06</td>\n",
       "      <td>NaN</td>\n",
       "      <td>NaN</td>\n",
       "      <td>1</td>\n",
       "      <td>1</td>\n",
       "      <td>0</td>\n",
       "      <td>...</td>\n",
       "      <td>1.0</td>\n",
       "      <td>0.26013400000000003</td>\n",
       "      <td>0.25702600000000003</td>\n",
       "      <td>-0.930735</td>\n",
       "      <td>-0.07774099999999999</td>\n",
       "      <td>0.3718010000000001</td>\n",
       "      <td>-0.925052</td>\n",
       "      <td>0.098</td>\n",
       "      <td>0.327</td>\n",
       "      <td>1.0</td>\n",
       "    </tr>\n",
       "    <tr>\n",
       "      <th>1</th>\n",
       "      <td>0.033333</td>\n",
       "      <td>engaged</td>\n",
       "      <td>3.0</td>\n",
       "      <td>17.0</td>\n",
       "      <td>2017-11-06</td>\n",
       "      <td>NaN</td>\n",
       "      <td>NaN</td>\n",
       "      <td>1</td>\n",
       "      <td>1</td>\n",
       "      <td>0</td>\n",
       "      <td>...</td>\n",
       "      <td>1.0</td>\n",
       "      <td>0.26363000000000003</td>\n",
       "      <td>0.355734</td>\n",
       "      <td>-0.896634</td>\n",
       "      <td>-0.022728</td>\n",
       "      <td>0.415454</td>\n",
       "      <td>-0.90933</td>\n",
       "      <td>0.133</td>\n",
       "      <td>0.404</td>\n",
       "      <td>1.0</td>\n",
       "    </tr>\n",
       "    <tr>\n",
       "      <th>2</th>\n",
       "      <td>0.066667</td>\n",
       "      <td>engaged</td>\n",
       "      <td>3.0</td>\n",
       "      <td>17.0</td>\n",
       "      <td>2017-11-06</td>\n",
       "      <td>NaN</td>\n",
       "      <td>NaN</td>\n",
       "      <td>1</td>\n",
       "      <td>1</td>\n",
       "      <td>0</td>\n",
       "      <td>...</td>\n",
       "      <td>1.0</td>\n",
       "      <td>0.265639</td>\n",
       "      <td>0.282356</td>\n",
       "      <td>-0.921798</td>\n",
       "      <td>-0.049192</td>\n",
       "      <td>0.379725</td>\n",
       "      <td>-0.92379</td>\n",
       "      <td>0.117</td>\n",
       "      <td>0.344</td>\n",
       "      <td>1.0</td>\n",
       "    </tr>\n",
       "    <tr>\n",
       "      <th>3</th>\n",
       "      <td>0.100000</td>\n",
       "      <td>engaged</td>\n",
       "      <td>3.0</td>\n",
       "      <td>17.0</td>\n",
       "      <td>2017-11-06</td>\n",
       "      <td>NaN</td>\n",
       "      <td>NaN</td>\n",
       "      <td>1</td>\n",
       "      <td>1</td>\n",
       "      <td>0</td>\n",
       "      <td>...</td>\n",
       "      <td>1.0</td>\n",
       "      <td>0.245775</td>\n",
       "      <td>0.366982</td>\n",
       "      <td>-0.897172</td>\n",
       "      <td>-0.043081</td>\n",
       "      <td>0.407407</td>\n",
       "      <td>-0.91223</td>\n",
       "      <td>0.112</td>\n",
       "      <td>0.404</td>\n",
       "      <td>1.0</td>\n",
       "    </tr>\n",
       "    <tr>\n",
       "      <th>4</th>\n",
       "      <td>0.133333</td>\n",
       "      <td>engaged</td>\n",
       "      <td>3.0</td>\n",
       "      <td>17.0</td>\n",
       "      <td>2017-11-06</td>\n",
       "      <td>NaN</td>\n",
       "      <td>NaN</td>\n",
       "      <td>1</td>\n",
       "      <td>1</td>\n",
       "      <td>0</td>\n",
       "      <td>...</td>\n",
       "      <td>1.0</td>\n",
       "      <td>0.209906</td>\n",
       "      <td>0.365945</td>\n",
       "      <td>-0.906655</td>\n",
       "      <td>-0.06716</td>\n",
       "      <td>0.417929</td>\n",
       "      <td>-0.905994</td>\n",
       "      <td>0.079</td>\n",
       "      <td>0.408</td>\n",
       "      <td>1.0</td>\n",
       "    </tr>\n",
       "  </tbody>\n",
       "</table>\n",
       "<p>5 rows × 26 columns</p>\n",
       "</div>"
      ],
      "text/plain": [
       "   Timestamp engagement  participant  session_num session_date  activity  \\\n",
       "0   0.000000    engaged          3.0         17.0   2017-11-06       NaN   \n",
       "1   0.033333    engaged          3.0         17.0   2017-11-06       NaN   \n",
       "2   0.066667    engaged          3.0         17.0   2017-11-06       NaN   \n",
       "3   0.100000    engaged          3.0         17.0   2017-11-06       NaN   \n",
       "4   0.133333    engaged          3.0         17.0   2017-11-06       NaN   \n",
       "\n",
       "   difficulty  total_games  session_games  total_mistakes         ...          \\\n",
       "0         NaN            1              1               0         ...           \n",
       "1         NaN            1              1               0         ...           \n",
       "2         NaN            1              1               0         ...           \n",
       "3         NaN            1              1               0         ...           \n",
       "4         NaN            1              1               0         ...           \n",
       "\n",
       "   of_success          of_gaze_0_x          of_gaze_0_y of_gaze_0_z  \\\n",
       "0         1.0  0.26013400000000003  0.25702600000000003   -0.930735   \n",
       "1         1.0  0.26363000000000003             0.355734   -0.896634   \n",
       "2         1.0             0.265639             0.282356   -0.921798   \n",
       "3         1.0             0.245775             0.366982   -0.897172   \n",
       "4         1.0             0.209906             0.365945   -0.906655   \n",
       "\n",
       "            of_gaze_1_x         of_gaze_1_y  of_gaze_1_z of_gaze_angle_x  \\\n",
       "0  -0.07774099999999999  0.3718010000000001    -0.925052           0.098   \n",
       "1             -0.022728            0.415454     -0.90933           0.133   \n",
       "2             -0.049192            0.379725     -0.92379           0.117   \n",
       "3             -0.043081            0.407407     -0.91223           0.112   \n",
       "4              -0.06716            0.417929    -0.905994           0.079   \n",
       "\n",
       "  of_gaze_angle_y op_Number of People  \n",
       "0           0.327                 1.0  \n",
       "1           0.404                 1.0  \n",
       "2           0.344                 1.0  \n",
       "3           0.404                 1.0  \n",
       "4           0.408                 1.0  \n",
       "\n",
       "[5 rows x 26 columns]"
      ]
     },
     "execution_count": 3,
     "metadata": {},
     "output_type": "execute_result"
    }
   ],
   "source": [
    "df1.head()"
   ]
  },
  {
   "cell_type": "code",
   "execution_count": 4,
   "metadata": {},
   "outputs": [
    {
     "data": {
      "text/plain": [
       "Timestamp                     0\n",
       "engagement                   10\n",
       "participant                   0\n",
       "session_num                   0\n",
       "session_date                  0\n",
       "activity                  31588\n",
       "difficulty                31588\n",
       "total_games                   0\n",
       "session_games                 0\n",
       "total_mistakes                0\n",
       "session_mistakes              0\n",
       "game_mistakes                 0\n",
       "ros_ROBOT_STATE           84544\n",
       "ros_PARTICIPANT_STATE    128559\n",
       "of_timestamp                128\n",
       "of_confidence               128\n",
       "of_success                  128\n",
       "of_gaze_0_x                 128\n",
       "of_gaze_0_y                 128\n",
       "of_gaze_0_z                 128\n",
       "of_gaze_1_x                 128\n",
       "of_gaze_1_y                 128\n",
       "of_gaze_1_z                 128\n",
       "of_gaze_angle_x             128\n",
       "of_gaze_angle_y             128\n",
       "op_Number of People         112\n",
       "dtype: int64"
      ]
     },
     "execution_count": 4,
     "metadata": {},
     "output_type": "execute_result"
    }
   ],
   "source": [
    "df1.isna().sum()"
   ]
  },
  {
   "cell_type": "code",
   "execution_count": 5,
   "metadata": {},
   "outputs": [],
   "source": [
    "df1 = df1.drop(['ros_ROBOT_STATE','ros_PARTICIPANT_STATE','session_date','Timestamp'],axis=1)"
   ]
  },
  {
   "cell_type": "code",
   "execution_count": 6,
   "metadata": {},
   "outputs": [
    {
     "data": {
      "text/plain": [
       "engagement                10\n",
       "participant                0\n",
       "session_num                0\n",
       "activity               31588\n",
       "difficulty             31588\n",
       "total_games                0\n",
       "session_games              0\n",
       "total_mistakes             0\n",
       "session_mistakes           0\n",
       "game_mistakes              0\n",
       "of_timestamp             128\n",
       "of_confidence            128\n",
       "of_success               128\n",
       "of_gaze_0_x              128\n",
       "of_gaze_0_y              128\n",
       "of_gaze_0_z              128\n",
       "of_gaze_1_x              128\n",
       "of_gaze_1_y              128\n",
       "of_gaze_1_z              128\n",
       "of_gaze_angle_x          128\n",
       "of_gaze_angle_y          128\n",
       "op_Number of People      112\n",
       "dtype: int64"
      ]
     },
     "execution_count": 6,
     "metadata": {},
     "output_type": "execute_result"
    }
   ],
   "source": [
    "df1.isna().sum()"
   ]
  },
  {
   "cell_type": "code",
   "execution_count": 7,
   "metadata": {},
   "outputs": [],
   "source": [
    "df1 = df1.fillna(value = {'activity':-1,'difficulty':-1 })"
   ]
  },
  {
   "cell_type": "code",
   "execution_count": 8,
   "metadata": {},
   "outputs": [
    {
     "data": {
      "text/html": [
       "<div>\n",
       "<style scoped>\n",
       "    .dataframe tbody tr th:only-of-type {\n",
       "        vertical-align: middle;\n",
       "    }\n",
       "\n",
       "    .dataframe tbody tr th {\n",
       "        vertical-align: top;\n",
       "    }\n",
       "\n",
       "    .dataframe thead th {\n",
       "        text-align: right;\n",
       "    }\n",
       "</style>\n",
       "<table border=\"1\" class=\"dataframe\">\n",
       "  <thead>\n",
       "    <tr style=\"text-align: right;\">\n",
       "      <th></th>\n",
       "      <th>engagement</th>\n",
       "      <th>participant</th>\n",
       "      <th>session_num</th>\n",
       "      <th>activity</th>\n",
       "      <th>difficulty</th>\n",
       "      <th>total_games</th>\n",
       "      <th>session_games</th>\n",
       "      <th>total_mistakes</th>\n",
       "      <th>session_mistakes</th>\n",
       "      <th>game_mistakes</th>\n",
       "      <th>...</th>\n",
       "      <th>of_success</th>\n",
       "      <th>of_gaze_0_x</th>\n",
       "      <th>of_gaze_0_y</th>\n",
       "      <th>of_gaze_0_z</th>\n",
       "      <th>of_gaze_1_x</th>\n",
       "      <th>of_gaze_1_y</th>\n",
       "      <th>of_gaze_1_z</th>\n",
       "      <th>of_gaze_angle_x</th>\n",
       "      <th>of_gaze_angle_y</th>\n",
       "      <th>op_Number of People</th>\n",
       "    </tr>\n",
       "  </thead>\n",
       "  <tbody>\n",
       "    <tr>\n",
       "      <th>0</th>\n",
       "      <td>engaged</td>\n",
       "      <td>3.0</td>\n",
       "      <td>17.0</td>\n",
       "      <td>-1.0</td>\n",
       "      <td>-1.0</td>\n",
       "      <td>1</td>\n",
       "      <td>1</td>\n",
       "      <td>0</td>\n",
       "      <td>0</td>\n",
       "      <td>0</td>\n",
       "      <td>...</td>\n",
       "      <td>1.0</td>\n",
       "      <td>0.26013400000000003</td>\n",
       "      <td>0.25702600000000003</td>\n",
       "      <td>-0.930735</td>\n",
       "      <td>-0.07774099999999999</td>\n",
       "      <td>0.3718010000000001</td>\n",
       "      <td>-0.925052</td>\n",
       "      <td>0.098</td>\n",
       "      <td>0.327</td>\n",
       "      <td>1.0</td>\n",
       "    </tr>\n",
       "    <tr>\n",
       "      <th>1</th>\n",
       "      <td>engaged</td>\n",
       "      <td>3.0</td>\n",
       "      <td>17.0</td>\n",
       "      <td>-1.0</td>\n",
       "      <td>-1.0</td>\n",
       "      <td>1</td>\n",
       "      <td>1</td>\n",
       "      <td>0</td>\n",
       "      <td>0</td>\n",
       "      <td>0</td>\n",
       "      <td>...</td>\n",
       "      <td>1.0</td>\n",
       "      <td>0.26363000000000003</td>\n",
       "      <td>0.355734</td>\n",
       "      <td>-0.896634</td>\n",
       "      <td>-0.022728</td>\n",
       "      <td>0.415454</td>\n",
       "      <td>-0.90933</td>\n",
       "      <td>0.133</td>\n",
       "      <td>0.404</td>\n",
       "      <td>1.0</td>\n",
       "    </tr>\n",
       "    <tr>\n",
       "      <th>2</th>\n",
       "      <td>engaged</td>\n",
       "      <td>3.0</td>\n",
       "      <td>17.0</td>\n",
       "      <td>-1.0</td>\n",
       "      <td>-1.0</td>\n",
       "      <td>1</td>\n",
       "      <td>1</td>\n",
       "      <td>0</td>\n",
       "      <td>0</td>\n",
       "      <td>0</td>\n",
       "      <td>...</td>\n",
       "      <td>1.0</td>\n",
       "      <td>0.265639</td>\n",
       "      <td>0.282356</td>\n",
       "      <td>-0.921798</td>\n",
       "      <td>-0.049192</td>\n",
       "      <td>0.379725</td>\n",
       "      <td>-0.92379</td>\n",
       "      <td>0.117</td>\n",
       "      <td>0.344</td>\n",
       "      <td>1.0</td>\n",
       "    </tr>\n",
       "    <tr>\n",
       "      <th>3</th>\n",
       "      <td>engaged</td>\n",
       "      <td>3.0</td>\n",
       "      <td>17.0</td>\n",
       "      <td>-1.0</td>\n",
       "      <td>-1.0</td>\n",
       "      <td>1</td>\n",
       "      <td>1</td>\n",
       "      <td>0</td>\n",
       "      <td>0</td>\n",
       "      <td>0</td>\n",
       "      <td>...</td>\n",
       "      <td>1.0</td>\n",
       "      <td>0.245775</td>\n",
       "      <td>0.366982</td>\n",
       "      <td>-0.897172</td>\n",
       "      <td>-0.043081</td>\n",
       "      <td>0.407407</td>\n",
       "      <td>-0.91223</td>\n",
       "      <td>0.112</td>\n",
       "      <td>0.404</td>\n",
       "      <td>1.0</td>\n",
       "    </tr>\n",
       "    <tr>\n",
       "      <th>4</th>\n",
       "      <td>engaged</td>\n",
       "      <td>3.0</td>\n",
       "      <td>17.0</td>\n",
       "      <td>-1.0</td>\n",
       "      <td>-1.0</td>\n",
       "      <td>1</td>\n",
       "      <td>1</td>\n",
       "      <td>0</td>\n",
       "      <td>0</td>\n",
       "      <td>0</td>\n",
       "      <td>...</td>\n",
       "      <td>1.0</td>\n",
       "      <td>0.209906</td>\n",
       "      <td>0.365945</td>\n",
       "      <td>-0.906655</td>\n",
       "      <td>-0.06716</td>\n",
       "      <td>0.417929</td>\n",
       "      <td>-0.905994</td>\n",
       "      <td>0.079</td>\n",
       "      <td>0.408</td>\n",
       "      <td>1.0</td>\n",
       "    </tr>\n",
       "  </tbody>\n",
       "</table>\n",
       "<p>5 rows × 22 columns</p>\n",
       "</div>"
      ],
      "text/plain": [
       "  engagement  participant  session_num  activity  difficulty  total_games  \\\n",
       "0    engaged          3.0         17.0      -1.0        -1.0            1   \n",
       "1    engaged          3.0         17.0      -1.0        -1.0            1   \n",
       "2    engaged          3.0         17.0      -1.0        -1.0            1   \n",
       "3    engaged          3.0         17.0      -1.0        -1.0            1   \n",
       "4    engaged          3.0         17.0      -1.0        -1.0            1   \n",
       "\n",
       "   session_games  total_mistakes  session_mistakes  game_mistakes  \\\n",
       "0              1               0                 0              0   \n",
       "1              1               0                 0              0   \n",
       "2              1               0                 0              0   \n",
       "3              1               0                 0              0   \n",
       "4              1               0                 0              0   \n",
       "\n",
       "          ...          of_success          of_gaze_0_x          of_gaze_0_y  \\\n",
       "0         ...                 1.0  0.26013400000000003  0.25702600000000003   \n",
       "1         ...                 1.0  0.26363000000000003             0.355734   \n",
       "2         ...                 1.0             0.265639             0.282356   \n",
       "3         ...                 1.0             0.245775             0.366982   \n",
       "4         ...                 1.0             0.209906             0.365945   \n",
       "\n",
       "  of_gaze_0_z           of_gaze_1_x         of_gaze_1_y of_gaze_1_z  \\\n",
       "0   -0.930735  -0.07774099999999999  0.3718010000000001   -0.925052   \n",
       "1   -0.896634             -0.022728            0.415454    -0.90933   \n",
       "2   -0.921798             -0.049192            0.379725    -0.92379   \n",
       "3   -0.897172             -0.043081            0.407407    -0.91223   \n",
       "4   -0.906655              -0.06716            0.417929   -0.905994   \n",
       "\n",
       "  of_gaze_angle_x of_gaze_angle_y op_Number of People  \n",
       "0           0.098           0.327                 1.0  \n",
       "1           0.133           0.404                 1.0  \n",
       "2           0.117           0.344                 1.0  \n",
       "3           0.112           0.404                 1.0  \n",
       "4           0.079           0.408                 1.0  \n",
       "\n",
       "[5 rows x 22 columns]"
      ]
     },
     "execution_count": 8,
     "metadata": {},
     "output_type": "execute_result"
    }
   ],
   "source": [
    "df1.head()"
   ]
  },
  {
   "cell_type": "code",
   "execution_count": 9,
   "metadata": {},
   "outputs": [
    {
     "data": {
      "text/plain": [
       "engagement              10\n",
       "participant              0\n",
       "session_num              0\n",
       "activity                 0\n",
       "difficulty               0\n",
       "total_games              0\n",
       "session_games            0\n",
       "total_mistakes           0\n",
       "session_mistakes         0\n",
       "game_mistakes            0\n",
       "of_timestamp           128\n",
       "of_confidence          128\n",
       "of_success             128\n",
       "of_gaze_0_x            128\n",
       "of_gaze_0_y            128\n",
       "of_gaze_0_z            128\n",
       "of_gaze_1_x            128\n",
       "of_gaze_1_y            128\n",
       "of_gaze_1_z            128\n",
       "of_gaze_angle_x        128\n",
       "of_gaze_angle_y        128\n",
       "op_Number of People    112\n",
       "dtype: int64"
      ]
     },
     "execution_count": 9,
     "metadata": {},
     "output_type": "execute_result"
    }
   ],
   "source": [
    "df1.isna().sum()"
   ]
  },
  {
   "cell_type": "code",
   "execution_count": 10,
   "metadata": {},
   "outputs": [],
   "source": [
    "df1 = df1.dropna()\n",
    "#df1.to_csv('p3.csv',index=False)"
   ]
  },
  {
   "cell_type": "code",
   "execution_count": 11,
   "metadata": {
    "scrolled": true
   },
   "outputs": [
    {
     "data": {
      "text/html": [
       "<div>\n",
       "<style scoped>\n",
       "    .dataframe tbody tr th:only-of-type {\n",
       "        vertical-align: middle;\n",
       "    }\n",
       "\n",
       "    .dataframe tbody tr th {\n",
       "        vertical-align: top;\n",
       "    }\n",
       "\n",
       "    .dataframe thead th {\n",
       "        text-align: right;\n",
       "    }\n",
       "</style>\n",
       "<table border=\"1\" class=\"dataframe\">\n",
       "  <thead>\n",
       "    <tr style=\"text-align: right;\">\n",
       "      <th></th>\n",
       "      <th>engagement</th>\n",
       "      <th>participant</th>\n",
       "      <th>session_num</th>\n",
       "      <th>activity</th>\n",
       "      <th>difficulty</th>\n",
       "      <th>total_games</th>\n",
       "      <th>session_games</th>\n",
       "      <th>total_mistakes</th>\n",
       "      <th>session_mistakes</th>\n",
       "      <th>game_mistakes</th>\n",
       "      <th>...</th>\n",
       "      <th>of_success</th>\n",
       "      <th>of_gaze_0_x</th>\n",
       "      <th>of_gaze_0_y</th>\n",
       "      <th>of_gaze_0_z</th>\n",
       "      <th>of_gaze_1_x</th>\n",
       "      <th>of_gaze_1_y</th>\n",
       "      <th>of_gaze_1_z</th>\n",
       "      <th>of_gaze_angle_x</th>\n",
       "      <th>of_gaze_angle_y</th>\n",
       "      <th>op_Number of People</th>\n",
       "    </tr>\n",
       "  </thead>\n",
       "  <tbody>\n",
       "    <tr>\n",
       "      <th>0</th>\n",
       "      <td>engaged</td>\n",
       "      <td>3.0</td>\n",
       "      <td>17.0</td>\n",
       "      <td>-1.0</td>\n",
       "      <td>-1.0</td>\n",
       "      <td>1</td>\n",
       "      <td>1</td>\n",
       "      <td>0</td>\n",
       "      <td>0</td>\n",
       "      <td>0</td>\n",
       "      <td>...</td>\n",
       "      <td>1.0</td>\n",
       "      <td>0.26013400000000003</td>\n",
       "      <td>0.25702600000000003</td>\n",
       "      <td>-0.930735</td>\n",
       "      <td>-0.07774099999999999</td>\n",
       "      <td>0.3718010000000001</td>\n",
       "      <td>-0.925052</td>\n",
       "      <td>0.098</td>\n",
       "      <td>0.327</td>\n",
       "      <td>1.0</td>\n",
       "    </tr>\n",
       "    <tr>\n",
       "      <th>1</th>\n",
       "      <td>engaged</td>\n",
       "      <td>3.0</td>\n",
       "      <td>17.0</td>\n",
       "      <td>-1.0</td>\n",
       "      <td>-1.0</td>\n",
       "      <td>1</td>\n",
       "      <td>1</td>\n",
       "      <td>0</td>\n",
       "      <td>0</td>\n",
       "      <td>0</td>\n",
       "      <td>...</td>\n",
       "      <td>1.0</td>\n",
       "      <td>0.26363000000000003</td>\n",
       "      <td>0.355734</td>\n",
       "      <td>-0.896634</td>\n",
       "      <td>-0.022728</td>\n",
       "      <td>0.415454</td>\n",
       "      <td>-0.90933</td>\n",
       "      <td>0.133</td>\n",
       "      <td>0.404</td>\n",
       "      <td>1.0</td>\n",
       "    </tr>\n",
       "    <tr>\n",
       "      <th>2</th>\n",
       "      <td>engaged</td>\n",
       "      <td>3.0</td>\n",
       "      <td>17.0</td>\n",
       "      <td>-1.0</td>\n",
       "      <td>-1.0</td>\n",
       "      <td>1</td>\n",
       "      <td>1</td>\n",
       "      <td>0</td>\n",
       "      <td>0</td>\n",
       "      <td>0</td>\n",
       "      <td>...</td>\n",
       "      <td>1.0</td>\n",
       "      <td>0.265639</td>\n",
       "      <td>0.282356</td>\n",
       "      <td>-0.921798</td>\n",
       "      <td>-0.049192</td>\n",
       "      <td>0.379725</td>\n",
       "      <td>-0.92379</td>\n",
       "      <td>0.117</td>\n",
       "      <td>0.344</td>\n",
       "      <td>1.0</td>\n",
       "    </tr>\n",
       "    <tr>\n",
       "      <th>3</th>\n",
       "      <td>engaged</td>\n",
       "      <td>3.0</td>\n",
       "      <td>17.0</td>\n",
       "      <td>-1.0</td>\n",
       "      <td>-1.0</td>\n",
       "      <td>1</td>\n",
       "      <td>1</td>\n",
       "      <td>0</td>\n",
       "      <td>0</td>\n",
       "      <td>0</td>\n",
       "      <td>...</td>\n",
       "      <td>1.0</td>\n",
       "      <td>0.245775</td>\n",
       "      <td>0.366982</td>\n",
       "      <td>-0.897172</td>\n",
       "      <td>-0.043081</td>\n",
       "      <td>0.407407</td>\n",
       "      <td>-0.91223</td>\n",
       "      <td>0.112</td>\n",
       "      <td>0.404</td>\n",
       "      <td>1.0</td>\n",
       "    </tr>\n",
       "    <tr>\n",
       "      <th>4</th>\n",
       "      <td>engaged</td>\n",
       "      <td>3.0</td>\n",
       "      <td>17.0</td>\n",
       "      <td>-1.0</td>\n",
       "      <td>-1.0</td>\n",
       "      <td>1</td>\n",
       "      <td>1</td>\n",
       "      <td>0</td>\n",
       "      <td>0</td>\n",
       "      <td>0</td>\n",
       "      <td>...</td>\n",
       "      <td>1.0</td>\n",
       "      <td>0.209906</td>\n",
       "      <td>0.365945</td>\n",
       "      <td>-0.906655</td>\n",
       "      <td>-0.06716</td>\n",
       "      <td>0.417929</td>\n",
       "      <td>-0.905994</td>\n",
       "      <td>0.079</td>\n",
       "      <td>0.408</td>\n",
       "      <td>1.0</td>\n",
       "    </tr>\n",
       "  </tbody>\n",
       "</table>\n",
       "<p>5 rows × 22 columns</p>\n",
       "</div>"
      ],
      "text/plain": [
       "  engagement  participant  session_num  activity  difficulty  total_games  \\\n",
       "0    engaged          3.0         17.0      -1.0        -1.0            1   \n",
       "1    engaged          3.0         17.0      -1.0        -1.0            1   \n",
       "2    engaged          3.0         17.0      -1.0        -1.0            1   \n",
       "3    engaged          3.0         17.0      -1.0        -1.0            1   \n",
       "4    engaged          3.0         17.0      -1.0        -1.0            1   \n",
       "\n",
       "   session_games  total_mistakes  session_mistakes  game_mistakes  \\\n",
       "0              1               0                 0              0   \n",
       "1              1               0                 0              0   \n",
       "2              1               0                 0              0   \n",
       "3              1               0                 0              0   \n",
       "4              1               0                 0              0   \n",
       "\n",
       "          ...          of_success          of_gaze_0_x          of_gaze_0_y  \\\n",
       "0         ...                 1.0  0.26013400000000003  0.25702600000000003   \n",
       "1         ...                 1.0  0.26363000000000003             0.355734   \n",
       "2         ...                 1.0             0.265639             0.282356   \n",
       "3         ...                 1.0             0.245775             0.366982   \n",
       "4         ...                 1.0             0.209906             0.365945   \n",
       "\n",
       "  of_gaze_0_z           of_gaze_1_x         of_gaze_1_y of_gaze_1_z  \\\n",
       "0   -0.930735  -0.07774099999999999  0.3718010000000001   -0.925052   \n",
       "1   -0.896634             -0.022728            0.415454    -0.90933   \n",
       "2   -0.921798             -0.049192            0.379725    -0.92379   \n",
       "3   -0.897172             -0.043081            0.407407    -0.91223   \n",
       "4   -0.906655              -0.06716            0.417929   -0.905994   \n",
       "\n",
       "  of_gaze_angle_x of_gaze_angle_y op_Number of People  \n",
       "0           0.098           0.327                 1.0  \n",
       "1           0.133           0.404                 1.0  \n",
       "2           0.117           0.344                 1.0  \n",
       "3           0.112           0.404                 1.0  \n",
       "4           0.079           0.408                 1.0  \n",
       "\n",
       "[5 rows x 22 columns]"
      ]
     },
     "execution_count": 11,
     "metadata": {},
     "output_type": "execute_result"
    }
   ],
   "source": [
    "df1.head()"
   ]
  },
  {
   "cell_type": "code",
   "execution_count": 12,
   "metadata": {},
   "outputs": [
    {
     "data": {
      "text/plain": [
       "139850"
      ]
     },
     "execution_count": 12,
     "metadata": {},
     "output_type": "execute_result"
    }
   ],
   "source": [
    "len(df1)"
   ]
  },
  {
   "cell_type": "code",
   "execution_count": 13,
   "metadata": {},
   "outputs": [],
   "source": [
    "df1 = df1[df1.of_gaze_0_y != ' nan']"
   ]
  },
  {
   "cell_type": "code",
   "execution_count": 14,
   "metadata": {},
   "outputs": [
    {
     "data": {
      "text/plain": [
       "125286"
      ]
     },
     "execution_count": 14,
     "metadata": {},
     "output_type": "execute_result"
    }
   ],
   "source": [
    "len(df1)\n",
    "#df1.to_csv('p3.csv',index=False)"
   ]
  },
  {
   "cell_type": "code",
   "execution_count": 15,
   "metadata": {},
   "outputs": [],
   "source": [
    "df1 = df1.drop(['participant','session_num'],axis=1)"
   ]
  },
  {
   "cell_type": "code",
   "execution_count": 16,
   "metadata": {},
   "outputs": [
    {
     "data": {
      "text/html": [
       "<div>\n",
       "<style scoped>\n",
       "    .dataframe tbody tr th:only-of-type {\n",
       "        vertical-align: middle;\n",
       "    }\n",
       "\n",
       "    .dataframe tbody tr th {\n",
       "        vertical-align: top;\n",
       "    }\n",
       "\n",
       "    .dataframe thead th {\n",
       "        text-align: right;\n",
       "    }\n",
       "</style>\n",
       "<table border=\"1\" class=\"dataframe\">\n",
       "  <thead>\n",
       "    <tr style=\"text-align: right;\">\n",
       "      <th></th>\n",
       "      <th>engagement</th>\n",
       "      <th>activity</th>\n",
       "      <th>difficulty</th>\n",
       "      <th>total_games</th>\n",
       "      <th>session_games</th>\n",
       "      <th>total_mistakes</th>\n",
       "      <th>session_mistakes</th>\n",
       "      <th>game_mistakes</th>\n",
       "      <th>of_timestamp</th>\n",
       "      <th>of_confidence</th>\n",
       "      <th>of_success</th>\n",
       "      <th>of_gaze_0_x</th>\n",
       "      <th>of_gaze_0_y</th>\n",
       "      <th>of_gaze_0_z</th>\n",
       "      <th>of_gaze_1_x</th>\n",
       "      <th>of_gaze_1_y</th>\n",
       "      <th>of_gaze_1_z</th>\n",
       "      <th>of_gaze_angle_x</th>\n",
       "      <th>of_gaze_angle_y</th>\n",
       "      <th>op_Number of People</th>\n",
       "    </tr>\n",
       "  </thead>\n",
       "  <tbody>\n",
       "    <tr>\n",
       "      <th>0</th>\n",
       "      <td>engaged</td>\n",
       "      <td>-1.0</td>\n",
       "      <td>-1.0</td>\n",
       "      <td>1</td>\n",
       "      <td>1</td>\n",
       "      <td>0</td>\n",
       "      <td>0</td>\n",
       "      <td>0</td>\n",
       "      <td>0.000</td>\n",
       "      <td>0.88</td>\n",
       "      <td>1.0</td>\n",
       "      <td>0.26013400000000003</td>\n",
       "      <td>0.25702600000000003</td>\n",
       "      <td>-0.930735</td>\n",
       "      <td>-0.07774099999999999</td>\n",
       "      <td>0.3718010000000001</td>\n",
       "      <td>-0.925052</td>\n",
       "      <td>0.098</td>\n",
       "      <td>0.327</td>\n",
       "      <td>1.0</td>\n",
       "    </tr>\n",
       "    <tr>\n",
       "      <th>1</th>\n",
       "      <td>engaged</td>\n",
       "      <td>-1.0</td>\n",
       "      <td>-1.0</td>\n",
       "      <td>1</td>\n",
       "      <td>1</td>\n",
       "      <td>0</td>\n",
       "      <td>0</td>\n",
       "      <td>0</td>\n",
       "      <td>0.033</td>\n",
       "      <td>0.98</td>\n",
       "      <td>1.0</td>\n",
       "      <td>0.26363000000000003</td>\n",
       "      <td>0.355734</td>\n",
       "      <td>-0.896634</td>\n",
       "      <td>-0.022728</td>\n",
       "      <td>0.415454</td>\n",
       "      <td>-0.90933</td>\n",
       "      <td>0.133</td>\n",
       "      <td>0.404</td>\n",
       "      <td>1.0</td>\n",
       "    </tr>\n",
       "    <tr>\n",
       "      <th>2</th>\n",
       "      <td>engaged</td>\n",
       "      <td>-1.0</td>\n",
       "      <td>-1.0</td>\n",
       "      <td>1</td>\n",
       "      <td>1</td>\n",
       "      <td>0</td>\n",
       "      <td>0</td>\n",
       "      <td>0</td>\n",
       "      <td>0.067</td>\n",
       "      <td>0.98</td>\n",
       "      <td>1.0</td>\n",
       "      <td>0.265639</td>\n",
       "      <td>0.282356</td>\n",
       "      <td>-0.921798</td>\n",
       "      <td>-0.049192</td>\n",
       "      <td>0.379725</td>\n",
       "      <td>-0.92379</td>\n",
       "      <td>0.117</td>\n",
       "      <td>0.344</td>\n",
       "      <td>1.0</td>\n",
       "    </tr>\n",
       "    <tr>\n",
       "      <th>3</th>\n",
       "      <td>engaged</td>\n",
       "      <td>-1.0</td>\n",
       "      <td>-1.0</td>\n",
       "      <td>1</td>\n",
       "      <td>1</td>\n",
       "      <td>0</td>\n",
       "      <td>0</td>\n",
       "      <td>0</td>\n",
       "      <td>0.100</td>\n",
       "      <td>0.98</td>\n",
       "      <td>1.0</td>\n",
       "      <td>0.245775</td>\n",
       "      <td>0.366982</td>\n",
       "      <td>-0.897172</td>\n",
       "      <td>-0.043081</td>\n",
       "      <td>0.407407</td>\n",
       "      <td>-0.91223</td>\n",
       "      <td>0.112</td>\n",
       "      <td>0.404</td>\n",
       "      <td>1.0</td>\n",
       "    </tr>\n",
       "    <tr>\n",
       "      <th>4</th>\n",
       "      <td>engaged</td>\n",
       "      <td>-1.0</td>\n",
       "      <td>-1.0</td>\n",
       "      <td>1</td>\n",
       "      <td>1</td>\n",
       "      <td>0</td>\n",
       "      <td>0</td>\n",
       "      <td>0</td>\n",
       "      <td>0.133</td>\n",
       "      <td>0.98</td>\n",
       "      <td>1.0</td>\n",
       "      <td>0.209906</td>\n",
       "      <td>0.365945</td>\n",
       "      <td>-0.906655</td>\n",
       "      <td>-0.06716</td>\n",
       "      <td>0.417929</td>\n",
       "      <td>-0.905994</td>\n",
       "      <td>0.079</td>\n",
       "      <td>0.408</td>\n",
       "      <td>1.0</td>\n",
       "    </tr>\n",
       "  </tbody>\n",
       "</table>\n",
       "</div>"
      ],
      "text/plain": [
       "  engagement  activity  difficulty  total_games  session_games  \\\n",
       "0    engaged      -1.0        -1.0            1              1   \n",
       "1    engaged      -1.0        -1.0            1              1   \n",
       "2    engaged      -1.0        -1.0            1              1   \n",
       "3    engaged      -1.0        -1.0            1              1   \n",
       "4    engaged      -1.0        -1.0            1              1   \n",
       "\n",
       "   total_mistakes  session_mistakes  game_mistakes  of_timestamp  \\\n",
       "0               0                 0              0         0.000   \n",
       "1               0                 0              0         0.033   \n",
       "2               0                 0              0         0.067   \n",
       "3               0                 0              0         0.100   \n",
       "4               0                 0              0         0.133   \n",
       "\n",
       "   of_confidence  of_success          of_gaze_0_x          of_gaze_0_y  \\\n",
       "0           0.88         1.0  0.26013400000000003  0.25702600000000003   \n",
       "1           0.98         1.0  0.26363000000000003             0.355734   \n",
       "2           0.98         1.0             0.265639             0.282356   \n",
       "3           0.98         1.0             0.245775             0.366982   \n",
       "4           0.98         1.0             0.209906             0.365945   \n",
       "\n",
       "  of_gaze_0_z           of_gaze_1_x         of_gaze_1_y of_gaze_1_z  \\\n",
       "0   -0.930735  -0.07774099999999999  0.3718010000000001   -0.925052   \n",
       "1   -0.896634             -0.022728            0.415454    -0.90933   \n",
       "2   -0.921798             -0.049192            0.379725    -0.92379   \n",
       "3   -0.897172             -0.043081            0.407407    -0.91223   \n",
       "4   -0.906655              -0.06716            0.417929   -0.905994   \n",
       "\n",
       "  of_gaze_angle_x of_gaze_angle_y  op_Number of People  \n",
       "0           0.098           0.327                  1.0  \n",
       "1           0.133           0.404                  1.0  \n",
       "2           0.117           0.344                  1.0  \n",
       "3           0.112           0.404                  1.0  \n",
       "4           0.079           0.408                  1.0  "
      ]
     },
     "execution_count": 16,
     "metadata": {},
     "output_type": "execute_result"
    }
   ],
   "source": [
    "df1.head()"
   ]
  },
  {
   "cell_type": "code",
   "execution_count": 17,
   "metadata": {},
   "outputs": [
    {
     "data": {
      "text/plain": [
       "engaged       111378\n",
       "disengaged     13908\n",
       "Name: engagement, dtype: int64"
      ]
     },
     "execution_count": 17,
     "metadata": {},
     "output_type": "execute_result"
    }
   ],
   "source": [
    "df1['engagement'].value_counts()"
   ]
  },
  {
   "cell_type": "code",
   "execution_count": 18,
   "metadata": {},
   "outputs": [
    {
     "name": "stdout",
     "output_type": "stream",
     "text": [
      "Engaged 0.8889899909008189\n",
      "Disengaged 0.11101000909918107\n"
     ]
    }
   ],
   "source": [
    "print(\"Engaged\",df1['engagement'].value_counts()['engaged']/sum(df1['engagement'].value_counts()))\n",
    "print(\"Disengaged\",df1['engagement'].value_counts()['disengaged']/sum(df1['engagement'].value_counts()))"
   ]
  },
  {
   "cell_type": "code",
   "execution_count": 19,
   "metadata": {},
   "outputs": [],
   "source": [
    "le = LabelEncoder()\n",
    "df1['engagement'] = le.fit_transform(df1['engagement'])"
   ]
  },
  {
   "cell_type": "code",
   "execution_count": 20,
   "metadata": {},
   "outputs": [
    {
     "data": {
      "text/html": [
       "<div>\n",
       "<style scoped>\n",
       "    .dataframe tbody tr th:only-of-type {\n",
       "        vertical-align: middle;\n",
       "    }\n",
       "\n",
       "    .dataframe tbody tr th {\n",
       "        vertical-align: top;\n",
       "    }\n",
       "\n",
       "    .dataframe thead th {\n",
       "        text-align: right;\n",
       "    }\n",
       "</style>\n",
       "<table border=\"1\" class=\"dataframe\">\n",
       "  <thead>\n",
       "    <tr style=\"text-align: right;\">\n",
       "      <th></th>\n",
       "      <th>engagement</th>\n",
       "      <th>activity</th>\n",
       "      <th>difficulty</th>\n",
       "      <th>total_games</th>\n",
       "      <th>session_games</th>\n",
       "      <th>total_mistakes</th>\n",
       "      <th>session_mistakes</th>\n",
       "      <th>game_mistakes</th>\n",
       "      <th>of_timestamp</th>\n",
       "      <th>of_confidence</th>\n",
       "      <th>of_success</th>\n",
       "      <th>of_gaze_0_x</th>\n",
       "      <th>of_gaze_0_y</th>\n",
       "      <th>of_gaze_0_z</th>\n",
       "      <th>of_gaze_1_x</th>\n",
       "      <th>of_gaze_1_y</th>\n",
       "      <th>of_gaze_1_z</th>\n",
       "      <th>of_gaze_angle_x</th>\n",
       "      <th>of_gaze_angle_y</th>\n",
       "      <th>op_Number of People</th>\n",
       "    </tr>\n",
       "  </thead>\n",
       "  <tbody>\n",
       "    <tr>\n",
       "      <th>0</th>\n",
       "      <td>1</td>\n",
       "      <td>-1.0</td>\n",
       "      <td>-1.0</td>\n",
       "      <td>1</td>\n",
       "      <td>1</td>\n",
       "      <td>0</td>\n",
       "      <td>0</td>\n",
       "      <td>0</td>\n",
       "      <td>0.000</td>\n",
       "      <td>0.88</td>\n",
       "      <td>1.0</td>\n",
       "      <td>0.26013400000000003</td>\n",
       "      <td>0.25702600000000003</td>\n",
       "      <td>-0.930735</td>\n",
       "      <td>-0.07774099999999999</td>\n",
       "      <td>0.3718010000000001</td>\n",
       "      <td>-0.925052</td>\n",
       "      <td>0.098</td>\n",
       "      <td>0.327</td>\n",
       "      <td>1.0</td>\n",
       "    </tr>\n",
       "    <tr>\n",
       "      <th>1</th>\n",
       "      <td>1</td>\n",
       "      <td>-1.0</td>\n",
       "      <td>-1.0</td>\n",
       "      <td>1</td>\n",
       "      <td>1</td>\n",
       "      <td>0</td>\n",
       "      <td>0</td>\n",
       "      <td>0</td>\n",
       "      <td>0.033</td>\n",
       "      <td>0.98</td>\n",
       "      <td>1.0</td>\n",
       "      <td>0.26363000000000003</td>\n",
       "      <td>0.355734</td>\n",
       "      <td>-0.896634</td>\n",
       "      <td>-0.022728</td>\n",
       "      <td>0.415454</td>\n",
       "      <td>-0.90933</td>\n",
       "      <td>0.133</td>\n",
       "      <td>0.404</td>\n",
       "      <td>1.0</td>\n",
       "    </tr>\n",
       "    <tr>\n",
       "      <th>2</th>\n",
       "      <td>1</td>\n",
       "      <td>-1.0</td>\n",
       "      <td>-1.0</td>\n",
       "      <td>1</td>\n",
       "      <td>1</td>\n",
       "      <td>0</td>\n",
       "      <td>0</td>\n",
       "      <td>0</td>\n",
       "      <td>0.067</td>\n",
       "      <td>0.98</td>\n",
       "      <td>1.0</td>\n",
       "      <td>0.265639</td>\n",
       "      <td>0.282356</td>\n",
       "      <td>-0.921798</td>\n",
       "      <td>-0.049192</td>\n",
       "      <td>0.379725</td>\n",
       "      <td>-0.92379</td>\n",
       "      <td>0.117</td>\n",
       "      <td>0.344</td>\n",
       "      <td>1.0</td>\n",
       "    </tr>\n",
       "    <tr>\n",
       "      <th>3</th>\n",
       "      <td>1</td>\n",
       "      <td>-1.0</td>\n",
       "      <td>-1.0</td>\n",
       "      <td>1</td>\n",
       "      <td>1</td>\n",
       "      <td>0</td>\n",
       "      <td>0</td>\n",
       "      <td>0</td>\n",
       "      <td>0.100</td>\n",
       "      <td>0.98</td>\n",
       "      <td>1.0</td>\n",
       "      <td>0.245775</td>\n",
       "      <td>0.366982</td>\n",
       "      <td>-0.897172</td>\n",
       "      <td>-0.043081</td>\n",
       "      <td>0.407407</td>\n",
       "      <td>-0.91223</td>\n",
       "      <td>0.112</td>\n",
       "      <td>0.404</td>\n",
       "      <td>1.0</td>\n",
       "    </tr>\n",
       "    <tr>\n",
       "      <th>4</th>\n",
       "      <td>1</td>\n",
       "      <td>-1.0</td>\n",
       "      <td>-1.0</td>\n",
       "      <td>1</td>\n",
       "      <td>1</td>\n",
       "      <td>0</td>\n",
       "      <td>0</td>\n",
       "      <td>0</td>\n",
       "      <td>0.133</td>\n",
       "      <td>0.98</td>\n",
       "      <td>1.0</td>\n",
       "      <td>0.209906</td>\n",
       "      <td>0.365945</td>\n",
       "      <td>-0.906655</td>\n",
       "      <td>-0.06716</td>\n",
       "      <td>0.417929</td>\n",
       "      <td>-0.905994</td>\n",
       "      <td>0.079</td>\n",
       "      <td>0.408</td>\n",
       "      <td>1.0</td>\n",
       "    </tr>\n",
       "  </tbody>\n",
       "</table>\n",
       "</div>"
      ],
      "text/plain": [
       "   engagement  activity  difficulty  total_games  session_games  \\\n",
       "0           1      -1.0        -1.0            1              1   \n",
       "1           1      -1.0        -1.0            1              1   \n",
       "2           1      -1.0        -1.0            1              1   \n",
       "3           1      -1.0        -1.0            1              1   \n",
       "4           1      -1.0        -1.0            1              1   \n",
       "\n",
       "   total_mistakes  session_mistakes  game_mistakes  of_timestamp  \\\n",
       "0               0                 0              0         0.000   \n",
       "1               0                 0              0         0.033   \n",
       "2               0                 0              0         0.067   \n",
       "3               0                 0              0         0.100   \n",
       "4               0                 0              0         0.133   \n",
       "\n",
       "   of_confidence  of_success          of_gaze_0_x          of_gaze_0_y  \\\n",
       "0           0.88         1.0  0.26013400000000003  0.25702600000000003   \n",
       "1           0.98         1.0  0.26363000000000003             0.355734   \n",
       "2           0.98         1.0             0.265639             0.282356   \n",
       "3           0.98         1.0             0.245775             0.366982   \n",
       "4           0.98         1.0             0.209906             0.365945   \n",
       "\n",
       "  of_gaze_0_z           of_gaze_1_x         of_gaze_1_y of_gaze_1_z  \\\n",
       "0   -0.930735  -0.07774099999999999  0.3718010000000001   -0.925052   \n",
       "1   -0.896634             -0.022728            0.415454    -0.90933   \n",
       "2   -0.921798             -0.049192            0.379725    -0.92379   \n",
       "3   -0.897172             -0.043081            0.407407    -0.91223   \n",
       "4   -0.906655              -0.06716            0.417929   -0.905994   \n",
       "\n",
       "  of_gaze_angle_x of_gaze_angle_y  op_Number of People  \n",
       "0           0.098           0.327                  1.0  \n",
       "1           0.133           0.404                  1.0  \n",
       "2           0.117           0.344                  1.0  \n",
       "3           0.112           0.404                  1.0  \n",
       "4           0.079           0.408                  1.0  "
      ]
     },
     "execution_count": 20,
     "metadata": {},
     "output_type": "execute_result"
    }
   ],
   "source": [
    "df1.head()"
   ]
  },
  {
   "cell_type": "markdown",
   "metadata": {},
   "source": [
    "## Linear Kernel SVM"
   ]
  },
  {
   "cell_type": "markdown",
   "metadata": {},
   "source": [
    "### Test: 20% - Random"
   ]
  },
  {
   "cell_type": "code",
   "execution_count": 21,
   "metadata": {},
   "outputs": [],
   "source": [
    "X_train, X_test, y_train, y_test = train_test_split(df1.iloc[:,1:], df1.iloc[:,0], test_size=0.2, random_state=42)"
   ]
  },
  {
   "cell_type": "code",
   "execution_count": 22,
   "metadata": {},
   "outputs": [],
   "source": [
    "clf = LinearSVC()"
   ]
  },
  {
   "cell_type": "code",
   "execution_count": 23,
   "metadata": {},
   "outputs": [
    {
     "data": {
      "text/plain": [
       "LinearSVC(C=1.0, class_weight=None, dual=True, fit_intercept=True,\n",
       "     intercept_scaling=1, loss='squared_hinge', max_iter=1000,\n",
       "     multi_class='ovr', penalty='l2', random_state=None, tol=0.0001,\n",
       "     verbose=0)"
      ]
     },
     "execution_count": 23,
     "metadata": {},
     "output_type": "execute_result"
    }
   ],
   "source": [
    "clf.fit(X_train,y_train)"
   ]
  },
  {
   "cell_type": "code",
   "execution_count": 24,
   "metadata": {},
   "outputs": [],
   "source": [
    "pred = clf.predict(X_test)\n",
    "scores = clf.decision_function(X_test)"
   ]
  },
  {
   "cell_type": "code",
   "execution_count": 25,
   "metadata": {},
   "outputs": [
    {
     "name": "stdout",
     "output_type": "stream",
     "text": [
      "AUC: 0.6486868368252813\n"
     ]
    }
   ],
   "source": [
    "print(\"AUC:\",roc_auc_score(y_test, scores)) "
   ]
  },
  {
   "cell_type": "code",
   "execution_count": 26,
   "metadata": {},
   "outputs": [
    {
     "name": "stdout",
     "output_type": "stream",
     "text": [
      "Accuracy: 0.8911724798467555\n",
      "[[   70  2688]\n",
      " [   39 22261]]\n"
     ]
    }
   ],
   "source": [
    "print(\"Accuracy:\",accuracy_score(y_test, pred))\n",
    "print(metrics.confusion_matrix(y_test, pred))"
   ]
  },
  {
   "cell_type": "code",
   "execution_count": 27,
   "metadata": {},
   "outputs": [
    {
     "name": "stdout",
     "output_type": "stream",
     "text": [
      "             precision    recall  f1-score   support\n",
      "\n",
      "          0       0.64      0.03      0.05      2758\n",
      "          1       0.89      1.00      0.94     22300\n",
      "\n",
      "avg / total       0.86      0.89      0.84     25058\n",
      "\n"
     ]
    }
   ],
   "source": [
    "print(metrics.classification_report(y_test, pred))"
   ]
  },
  {
   "cell_type": "markdown",
   "metadata": {},
   "source": [
    "### Test: 30% - Last by session"
   ]
  },
  {
   "cell_type": "code",
   "execution_count": 50,
   "metadata": {},
   "outputs": [],
   "source": [
    "X_train1, X_test1, y_train1, y_test1 = train_test_split(df1.iloc[:,1:], df1.iloc[:,0], test_size=0.3, shuffle=False)\n",
    "clf1 = LinearSVC()\n",
    "clf1.fit(X_train1,y_train1)\n",
    "pred1 = clf1.predict(X_test1)\n",
    "scores1 = clf1.decision_function(X_test1)"
   ]
  },
  {
   "cell_type": "code",
   "execution_count": 51,
   "metadata": {},
   "outputs": [
    {
     "name": "stdout",
     "output_type": "stream",
     "text": [
      "AUC: 0.6761621911113234\n",
      "Accuracy: 0.8387431490448571\n",
      "[[  327  5346]\n",
      " [  715 31198]]\n",
      "             precision    recall  f1-score   support\n",
      "\n",
      "          0       0.31      0.06      0.10      5673\n",
      "          1       0.85      0.98      0.91     31913\n",
      "\n",
      "avg / total       0.77      0.84      0.79     37586\n",
      "\n"
     ]
    }
   ],
   "source": [
    "print(\"AUC:\",roc_auc_score(y_test1, scores1)) \n",
    "print(\"Accuracy:\",accuracy_score(y_test1, pred1))\n",
    "print(metrics.confusion_matrix(y_test1, pred1))\n",
    "print(metrics.classification_report(y_test1, pred1))"
   ]
  },
  {
   "cell_type": "markdown",
   "metadata": {},
   "source": [
    "### Cross Validation"
   ]
  },
  {
   "cell_type": "markdown",
   "metadata": {},
   "source": [
    "### 5 - fold CV"
   ]
  },
  {
   "cell_type": "code",
   "execution_count": 67,
   "metadata": {},
   "outputs": [],
   "source": [
    "X = df1.iloc[:,1:]\n",
    "y = df1.iloc[:,0]\n",
    "clf11 = LinearSVC()\n",
    "y_pred = cross_val_predict(clf11, X, y, cv=5)"
   ]
  },
  {
   "cell_type": "code",
   "execution_count": 68,
   "metadata": {},
   "outputs": [
    {
     "name": "stdout",
     "output_type": "stream",
     "text": [
      "Accuracy: 0.790487364909088\n",
      "[[ 3123 10785]\n",
      " [15464 95914]]\n",
      "             precision    recall  f1-score   support\n",
      "\n",
      "          0       0.17      0.22      0.19     13908\n",
      "          1       0.90      0.86      0.88    111378\n",
      "\n",
      "avg / total       0.82      0.79      0.80    125286\n",
      "\n"
     ]
    }
   ],
   "source": [
    "print(\"Accuracy:\",accuracy_score(y, y_pred))\n",
    "print(metrics.confusion_matrix(y, y_pred))\n",
    "print(metrics.classification_report(y, y_pred))"
   ]
  },
  {
   "cell_type": "markdown",
   "metadata": {},
   "source": [
    "### 3 - fold CV"
   ]
  },
  {
   "cell_type": "code",
   "execution_count": 72,
   "metadata": {},
   "outputs": [],
   "source": [
    "scores = cross_val_score(clf11, X, y, cv=3)"
   ]
  },
  {
   "cell_type": "code",
   "execution_count": 73,
   "metadata": {},
   "outputs": [
    {
     "name": "stdout",
     "output_type": "stream",
     "text": [
      "Accuracy: 0.80 (+/- 0.22)\n"
     ]
    }
   ],
   "source": [
    "print(\"Accuracy: %0.2f (+/- %0.2f)\" % (scores.mean(), scores.std() * 2))"
   ]
  },
  {
   "cell_type": "markdown",
   "metadata": {},
   "source": [
    "### Feature Selection"
   ]
  },
  {
   "cell_type": "code",
   "execution_count": 36,
   "metadata": {},
   "outputs": [],
   "source": [
    "X_train11, X_test11, y_train11, y_test11 = train_test_split(df1.iloc[:,1:], df1.iloc[:,0], test_size=0.2, random_state=42)"
   ]
  },
  {
   "cell_type": "code",
   "execution_count": 42,
   "metadata": {},
   "outputs": [],
   "source": [
    "clf11 = LinearSVC()\n",
    "selector = RFE(clf11, 5)\n",
    "selector = selector.fit(X_train11,y_train11)\n",
    "pred11 = selector.predict(X_test11)\n",
    "scores11 = selector.decision_function(X_test11)"
   ]
  },
  {
   "cell_type": "code",
   "execution_count": 43,
   "metadata": {},
   "outputs": [
    {
     "name": "stdout",
     "output_type": "stream",
     "text": [
      "AUC: 0.7855252555143293\n",
      "Accuracy: 0.8906137760395881\n",
      "[[   69  2689]\n",
      " [   52 22248]]\n",
      "             precision    recall  f1-score   support\n",
      "\n",
      "          0       0.57      0.03      0.05      2758\n",
      "          1       0.89      1.00      0.94     22300\n",
      "\n",
      "avg / total       0.86      0.89      0.84     25058\n",
      "\n"
     ]
    }
   ],
   "source": [
    "print(\"AUC:\",roc_auc_score(y_test11, scores11)) \n",
    "print(\"Accuracy:\",accuracy_score(y_test11, pred11))\n",
    "print(metrics.confusion_matrix(y_test11, pred11))\n",
    "print(metrics.classification_report(y_test11, pred11))"
   ]
  },
  {
   "cell_type": "code",
   "execution_count": 44,
   "metadata": {},
   "outputs": [
    {
     "data": {
      "text/plain": [
       "array([False, False, False, False, False, False, False, False,  True,\n",
       "       False, False,  True, False, False,  True,  True, False,  True,\n",
       "       False])"
      ]
     },
     "execution_count": 44,
     "metadata": {},
     "output_type": "execute_result"
    }
   ],
   "source": [
    "selector.get_support()"
   ]
  },
  {
   "cell_type": "code",
   "execution_count": 46,
   "metadata": {},
   "outputs": [
    {
     "data": {
      "text/plain": [
       "array([ 9, 11, 14, 12, 13, 10,  8, 15,  1,  7,  2,  1,  4,  3,  1,  1,  5,\n",
       "        1,  6])"
      ]
     },
     "execution_count": 46,
     "metadata": {},
     "output_type": "execute_result"
    }
   ],
   "source": [
    "selector.ranking_ "
   ]
  },
  {
   "cell_type": "code",
   "execution_count": 47,
   "metadata": {},
   "outputs": [
    {
     "data": {
      "text/plain": [
       "['engagement',\n",
       " 'activity',\n",
       " 'difficulty',\n",
       " 'total_games',\n",
       " 'session_games',\n",
       " 'total_mistakes',\n",
       " 'session_mistakes',\n",
       " 'game_mistakes',\n",
       " 'of_timestamp',\n",
       " 'of_confidence',\n",
       " 'of_success',\n",
       " 'of_gaze_0_x',\n",
       " 'of_gaze_0_y',\n",
       " 'of_gaze_0_z',\n",
       " 'of_gaze_1_x',\n",
       " 'of_gaze_1_y',\n",
       " 'of_gaze_1_z',\n",
       " 'of_gaze_angle_x',\n",
       " 'of_gaze_angle_y',\n",
       " 'op_Number of People']"
      ]
     },
     "execution_count": 47,
     "metadata": {},
     "output_type": "execute_result"
    }
   ],
   "source": [
    "list(df1)"
   ]
  },
  {
   "cell_type": "code",
   "execution_count": 59,
   "metadata": {},
   "outputs": [
    {
     "name": "stdout",
     "output_type": "stream",
     "text": [
      "of_timestamp\n",
      "of_gaze_0_x\n",
      "of_gaze_1_x\n",
      "of_gaze_1_y\n",
      "of_gaze_angle_x\n"
     ]
    }
   ],
   "source": [
    "for i,j in zip(selector.ranking_,list(df1)):\n",
    "    if(i==1):\n",
    "        print(j)"
   ]
  },
  {
   "cell_type": "code",
   "execution_count": 57,
   "metadata": {},
   "outputs": [
    {
     "name": "stdout",
     "output_type": "stream",
     "text": [
      "engagement 9\n",
      "activity 11\n",
      "difficulty 14\n",
      "total_games 12\n",
      "session_games 13\n",
      "total_mistakes 10\n",
      "session_mistakes 8\n",
      "game_mistakes 15\n",
      "of_timestamp 1\n",
      "of_confidence 7\n",
      "of_success 2\n",
      "of_gaze_0_x 1\n",
      "of_gaze_0_y 4\n",
      "of_gaze_0_z 3\n",
      "of_gaze_1_x 1\n",
      "of_gaze_1_y 1\n",
      "of_gaze_1_z 5\n",
      "of_gaze_angle_x 1\n",
      "of_gaze_angle_y 6\n"
     ]
    }
   ],
   "source": [
    "for i,j in zip(selector.ranking_,list(df1)):\n",
    "    print(j,i)"
   ]
  },
  {
   "cell_type": "markdown",
   "metadata": {},
   "source": [
    "### Sampling"
   ]
  },
  {
   "cell_type": "markdown",
   "metadata": {},
   "source": [
    "#### Oversampling"
   ]
  },
  {
   "cell_type": "code",
   "execution_count": 65,
   "metadata": {},
   "outputs": [],
   "source": [
    "X = df1.iloc[:,1:]\n",
    "y = df1.iloc[:,0]\n",
    "X_resampled, y_resampled = SMOTE().fit_resample(X, y)"
   ]
  },
  {
   "cell_type": "code",
   "execution_count": 68,
   "metadata": {},
   "outputs": [
    {
     "name": "stdout",
     "output_type": "stream",
     "text": [
      "[(0, 111378), (1, 111378)]\n"
     ]
    }
   ],
   "source": [
    "print(sorted(Counter(y_resampled).items()))"
   ]
  },
  {
   "cell_type": "code",
   "execution_count": 69,
   "metadata": {},
   "outputs": [],
   "source": [
    "X_train12, X_test12, y_train12, y_test12 = train_test_split(X_resampled, y_resampled, test_size=0.2, random_state=42)\n",
    "clf12 = LinearSVC()\n",
    "clf12.fit(X_train12,y_train12)\n",
    "pred12 = clf12.predict(X_test12)\n",
    "scores12 = clf12.decision_function(X_test12)"
   ]
  },
  {
   "cell_type": "code",
   "execution_count": 70,
   "metadata": {},
   "outputs": [
    {
     "name": "stdout",
     "output_type": "stream",
     "text": [
      "AUC: 0.7494637333409434\n",
      "Accuracy: 0.6379960495600646\n",
      "[[ 8614 13707]\n",
      " [ 2421 19810]]\n",
      "             precision    recall  f1-score   support\n",
      "\n",
      "          0       0.78      0.39      0.52     22321\n",
      "          1       0.59      0.89      0.71     22231\n",
      "\n",
      "avg / total       0.69      0.64      0.61     44552\n",
      "\n"
     ]
    }
   ],
   "source": [
    "print(\"AUC:\",roc_auc_score(y_test12, scores12)) \n",
    "print(\"Accuracy:\",accuracy_score(y_test12, pred12))\n",
    "print(metrics.confusion_matrix(y_test12, pred12))\n",
    "print(metrics.classification_report(y_test12, pred12))"
   ]
  },
  {
   "cell_type": "markdown",
   "metadata": {},
   "source": [
    "#### Undersampling"
   ]
  },
  {
   "cell_type": "markdown",
   "metadata": {},
   "source": [
    "### Standarization of data"
   ]
  },
  {
   "cell_type": "markdown",
   "metadata": {},
   "source": [
    "##### Standard Scalar"
   ]
  },
  {
   "cell_type": "code",
   "execution_count": 24,
   "metadata": {},
   "outputs": [
    {
     "name": "stderr",
     "output_type": "stream",
     "text": [
      "/home/interaction-lab/miniconda3/lib/python3.6/site-packages/sklearn/preprocessing/data.py:617: DataConversionWarning: Data with input dtype int64, float64, object were all converted to float64 by StandardScaler.\n",
      "  return self.partial_fit(X, y)\n",
      "/home/interaction-lab/miniconda3/lib/python3.6/site-packages/sklearn/base.py:462: DataConversionWarning: Data with input dtype int64, float64, object were all converted to float64 by StandardScaler.\n",
      "  return self.fit(X, **fit_params).transform(X)\n"
     ]
    }
   ],
   "source": [
    "X = df1.iloc[:,1:]\n",
    "y = df1.iloc[:,0]\n",
    "sscaler = StandardScaler()\n",
    "Standard_X = sscaler.fit_transform(X)"
   ]
  },
  {
   "cell_type": "code",
   "execution_count": 76,
   "metadata": {},
   "outputs": [],
   "source": [
    "X_train13, X_test13, y_train13, y_test13 = train_test_split(Standard_X, y, test_size=0.2, random_state=42)\n",
    "clf13 = LinearSVC()\n",
    "clf13.fit(X_train13,y_train13)\n",
    "pred13 = clf13.predict(X_test13)\n",
    "scores13 = clf13.decision_function(X_test13)"
   ]
  },
  {
   "cell_type": "code",
   "execution_count": 77,
   "metadata": {},
   "outputs": [
    {
     "name": "stdout",
     "output_type": "stream",
     "text": [
      "AUC: 0.8250178526715597\n",
      "Accuracy: 0.8898156277436348\n",
      "[[  186  2572]\n",
      " [  189 22111]]\n",
      "             precision    recall  f1-score   support\n",
      "\n",
      "          0       0.50      0.07      0.12      2758\n",
      "          1       0.90      0.99      0.94     22300\n",
      "\n",
      "avg / total       0.85      0.89      0.85     25058\n",
      "\n"
     ]
    }
   ],
   "source": [
    "print(\"AUC:\",roc_auc_score(y_test13, scores13)) \n",
    "print(\"Accuracy:\",accuracy_score(y_test13, pred13))\n",
    "print(metrics.confusion_matrix(y_test13, pred13))\n",
    "print(metrics.classification_report(y_test13, pred13))"
   ]
  },
  {
   "cell_type": "markdown",
   "metadata": {},
   "source": [
    "##### Robust Scalar"
   ]
  },
  {
   "cell_type": "code",
   "execution_count": 25,
   "metadata": {},
   "outputs": [],
   "source": [
    "rscaler = RobustScaler()\n",
    "Robust_X = rscaler.fit_transform(X)"
   ]
  },
  {
   "cell_type": "code",
   "execution_count": 79,
   "metadata": {},
   "outputs": [],
   "source": [
    "X_train13, X_test13, y_train13, y_test13 = train_test_split(Robust_X, y, test_size=0.2, random_state=42)\n",
    "clf13 = LinearSVC()\n",
    "clf13.fit(X_train13,y_train13)\n",
    "pred13 = clf13.predict(X_test13)\n",
    "scores13 = clf13.decision_function(X_test13)"
   ]
  },
  {
   "cell_type": "code",
   "execution_count": 80,
   "metadata": {},
   "outputs": [
    {
     "name": "stdout",
     "output_type": "stream",
     "text": [
      "AUC: 0.8250158202635953\n",
      "Accuracy: 0.8898555351584324\n",
      "[[  186  2572]\n",
      " [  188 22112]]\n",
      "             precision    recall  f1-score   support\n",
      "\n",
      "          0       0.50      0.07      0.12      2758\n",
      "          1       0.90      0.99      0.94     22300\n",
      "\n",
      "avg / total       0.85      0.89      0.85     25058\n",
      "\n"
     ]
    }
   ],
   "source": [
    "print(\"AUC:\",roc_auc_score(y_test13, scores13)) \n",
    "print(\"Accuracy:\",accuracy_score(y_test13, pred13))\n",
    "print(metrics.confusion_matrix(y_test13, pred13))\n",
    "print(metrics.classification_report(y_test13, pred13))"
   ]
  },
  {
   "cell_type": "markdown",
   "metadata": {},
   "source": [
    "## SVM - Poly / RBF Kernel"
   ]
  },
  {
   "cell_type": "code",
   "execution_count": 26,
   "metadata": {},
   "outputs": [
    {
     "name": "stderr",
     "output_type": "stream",
     "text": [
      "/home/interaction-lab/miniconda3/lib/python3.6/site-packages/sklearn/svm/base.py:196: FutureWarning: The default value of gamma will change from 'auto' to 'scale' in version 0.22 to account better for unscaled features. Set gamma explicitly to 'auto' or 'scale' to avoid this warning.\n",
      "  \"avoid this warning.\", FutureWarning)\n"
     ]
    }
   ],
   "source": [
    "X_train13, X_test13, y_train13, y_test13 = train_test_split(Robust_X, y, test_size=0.2, random_state=42)\n",
    "clf14 = svm.SVC(kernel='poly', degree=2)\n",
    "clf14.fit(X_train13,y_train13)\n",
    "pred14 = clf14.predict(X_test13)\n",
    "scores14 = clf14.decision_function(X_test13)"
   ]
  },
  {
   "cell_type": "code",
   "execution_count": 27,
   "metadata": {},
   "outputs": [
    {
     "name": "stdout",
     "output_type": "stream",
     "text": [
      "AUC: 0.8850225190802461\n",
      "Accuracy: 0.9100885944608508\n",
      "[[  640  2118]\n",
      " [  135 22165]]\n",
      "              precision    recall  f1-score   support\n",
      "\n",
      "           0       0.83      0.23      0.36      2758\n",
      "           1       0.91      0.99      0.95     22300\n",
      "\n",
      "   micro avg       0.91      0.91      0.91     25058\n",
      "   macro avg       0.87      0.61      0.66     25058\n",
      "weighted avg       0.90      0.91      0.89     25058\n",
      "\n"
     ]
    }
   ],
   "source": [
    "print(\"AUC:\",roc_auc_score(y_test13, scores14)) \n",
    "print(\"Accuracy:\",accuracy_score(y_test13, pred14))\n",
    "print(metrics.confusion_matrix(y_test13, pred14))\n",
    "print(metrics.classification_report(y_test13, pred14))"
   ]
  },
  {
   "cell_type": "code",
   "execution_count": null,
   "metadata": {},
   "outputs": [],
   "source": [
    "#Degree = 3"
   ]
  },
  {
   "cell_type": "code",
   "execution_count": 28,
   "metadata": {},
   "outputs": [
    {
     "name": "stderr",
     "output_type": "stream",
     "text": [
      "/home/interaction-lab/miniconda3/lib/python3.6/site-packages/sklearn/svm/base.py:196: FutureWarning: The default value of gamma will change from 'auto' to 'scale' in version 0.22 to account better for unscaled features. Set gamma explicitly to 'auto' or 'scale' to avoid this warning.\n",
      "  \"avoid this warning.\", FutureWarning)\n"
     ]
    }
   ],
   "source": [
    "clf15 = svm.SVC(kernel='poly', degree=3)\n",
    "clf15.fit(X_train13,y_train13)\n",
    "pred15 = clf15.predict(X_test13)\n",
    "scores15 = clf15.decision_function(X_test13)"
   ]
  },
  {
   "cell_type": "code",
   "execution_count": 29,
   "metadata": {},
   "outputs": [
    {
     "name": "stdout",
     "output_type": "stream",
     "text": [
      "AUC: 0.9161942429199035\n",
      "Accuracy: 0.927448319897837\n",
      "[[ 1142  1616]\n",
      " [  202 22098]]\n",
      "              precision    recall  f1-score   support\n",
      "\n",
      "           0       0.85      0.41      0.56      2758\n",
      "           1       0.93      0.99      0.96     22300\n",
      "\n",
      "   micro avg       0.93      0.93      0.93     25058\n",
      "   macro avg       0.89      0.70      0.76     25058\n",
      "weighted avg       0.92      0.93      0.92     25058\n",
      "\n"
     ]
    }
   ],
   "source": [
    "print(\"AUC:\",roc_auc_score(y_test13, scores15)) \n",
    "print(\"Accuracy:\",accuracy_score(y_test13, pred15))\n",
    "print(metrics.confusion_matrix(y_test13, pred15))\n",
    "print(metrics.classification_report(y_test13, pred15))"
   ]
  },
  {
   "cell_type": "code",
   "execution_count": null,
   "metadata": {},
   "outputs": [],
   "source": [
    "# RBF Kernel"
   ]
  },
  {
   "cell_type": "code",
   "execution_count": 30,
   "metadata": {},
   "outputs": [
    {
     "name": "stderr",
     "output_type": "stream",
     "text": [
      "/home/interaction-lab/miniconda3/lib/python3.6/site-packages/sklearn/svm/base.py:196: FutureWarning: The default value of gamma will change from 'auto' to 'scale' in version 0.22 to account better for unscaled features. Set gamma explicitly to 'auto' or 'scale' to avoid this warning.\n",
      "  \"avoid this warning.\", FutureWarning)\n"
     ]
    }
   ],
   "source": [
    "clf16 = svm.SVC(kernel='rbf')\n",
    "clf16.fit(X_train13,y_train13)\n",
    "pred16 = clf16.predict(X_test13)\n",
    "scores16 = clf16.decision_function(X_test13)"
   ]
  },
  {
   "cell_type": "code",
   "execution_count": 31,
   "metadata": {},
   "outputs": [
    {
     "name": "stdout",
     "output_type": "stream",
     "text": [
      "AUC: 0.9498453581428018\n",
      "Accuracy: 0.9390613776039588\n",
      "[[ 1412  1346]\n",
      " [  181 22119]]\n",
      "              precision    recall  f1-score   support\n",
      "\n",
      "           0       0.89      0.51      0.65      2758\n",
      "           1       0.94      0.99      0.97     22300\n",
      "\n",
      "   micro avg       0.94      0.94      0.94     25058\n",
      "   macro avg       0.91      0.75      0.81     25058\n",
      "weighted avg       0.94      0.94      0.93     25058\n",
      "\n"
     ]
    }
   ],
   "source": [
    "print(\"AUC:\",roc_auc_score(y_test13, scores16)) \n",
    "print(\"Accuracy:\",accuracy_score(y_test13, pred16))\n",
    "print(metrics.confusion_matrix(y_test13, pred16))\n",
    "print(metrics.classification_report(y_test13, pred16))"
   ]
  },
  {
   "cell_type": "markdown",
   "metadata": {},
   "source": [
    "# P5"
   ]
  },
  {
   "cell_type": "code",
   "execution_count": 21,
   "metadata": {},
   "outputs": [
    {
     "name": "stderr",
     "output_type": "stream",
     "text": [
      "/home/interaction-lab/miniconda3/lib/python3.6/site-packages/IPython/core/interactiveshell.py:3020: DtypeWarning: Columns (12,13) have mixed types. Specify dtype option on import or set low_memory=False.\n",
      "  interactivity=interactivity, compiler=compiler, result=result)\n"
     ]
    },
    {
     "data": {
      "text/html": [
       "<div>\n",
       "<style scoped>\n",
       "    .dataframe tbody tr th:only-of-type {\n",
       "        vertical-align: middle;\n",
       "    }\n",
       "\n",
       "    .dataframe tbody tr th {\n",
       "        vertical-align: top;\n",
       "    }\n",
       "\n",
       "    .dataframe thead th {\n",
       "        text-align: right;\n",
       "    }\n",
       "</style>\n",
       "<table border=\"1\" class=\"dataframe\">\n",
       "  <thead>\n",
       "    <tr style=\"text-align: right;\">\n",
       "      <th></th>\n",
       "      <th>Timestamp</th>\n",
       "      <th>engagement</th>\n",
       "      <th>participant</th>\n",
       "      <th>session_num</th>\n",
       "      <th>session_date</th>\n",
       "      <th>activity</th>\n",
       "      <th>difficulty</th>\n",
       "      <th>total_games</th>\n",
       "      <th>session_games</th>\n",
       "      <th>total_mistakes</th>\n",
       "      <th>...</th>\n",
       "      <th>of_success</th>\n",
       "      <th>of_gaze_0_x</th>\n",
       "      <th>of_gaze_0_y</th>\n",
       "      <th>of_gaze_0_z</th>\n",
       "      <th>of_gaze_1_x</th>\n",
       "      <th>of_gaze_1_y</th>\n",
       "      <th>of_gaze_1_z</th>\n",
       "      <th>of_gaze_angle_x</th>\n",
       "      <th>of_gaze_angle_y</th>\n",
       "      <th>op_Number of People</th>\n",
       "    </tr>\n",
       "  </thead>\n",
       "  <tbody>\n",
       "    <tr>\n",
       "      <th>0</th>\n",
       "      <td>0.000000</td>\n",
       "      <td>engaged</td>\n",
       "      <td>5.0</td>\n",
       "      <td>1.0</td>\n",
       "      <td>2018-04-05</td>\n",
       "      <td>NaN</td>\n",
       "      <td>NaN</td>\n",
       "      <td>0</td>\n",
       "      <td>0</td>\n",
       "      <td>0</td>\n",
       "      <td>...</td>\n",
       "      <td>1.0</td>\n",
       "      <td>0.076070</td>\n",
       "      <td>0.127410</td>\n",
       "      <td>-0.988929</td>\n",
       "      <td>-0.294418</td>\n",
       "      <td>0.170766</td>\n",
       "      <td>-0.940296</td>\n",
       "      <td>-0.113</td>\n",
       "      <td>0.153</td>\n",
       "      <td>2.0</td>\n",
       "    </tr>\n",
       "    <tr>\n",
       "      <th>1</th>\n",
       "      <td>0.033333</td>\n",
       "      <td>engaged</td>\n",
       "      <td>5.0</td>\n",
       "      <td>1.0</td>\n",
       "      <td>2018-04-05</td>\n",
       "      <td>NaN</td>\n",
       "      <td>NaN</td>\n",
       "      <td>0</td>\n",
       "      <td>0</td>\n",
       "      <td>0</td>\n",
       "      <td>...</td>\n",
       "      <td>1.0</td>\n",
       "      <td>0.100135</td>\n",
       "      <td>0.130810</td>\n",
       "      <td>-0.986337</td>\n",
       "      <td>-0.277336</td>\n",
       "      <td>0.177454</td>\n",
       "      <td>-0.944243</td>\n",
       "      <td>-0.092</td>\n",
       "      <td>0.158</td>\n",
       "      <td>2.0</td>\n",
       "    </tr>\n",
       "    <tr>\n",
       "      <th>2</th>\n",
       "      <td>0.066667</td>\n",
       "      <td>engaged</td>\n",
       "      <td>5.0</td>\n",
       "      <td>1.0</td>\n",
       "      <td>2018-04-05</td>\n",
       "      <td>NaN</td>\n",
       "      <td>NaN</td>\n",
       "      <td>0</td>\n",
       "      <td>0</td>\n",
       "      <td>0</td>\n",
       "      <td>...</td>\n",
       "      <td>1.0</td>\n",
       "      <td>0.087110</td>\n",
       "      <td>0.121171</td>\n",
       "      <td>-0.988802</td>\n",
       "      <td>-0.325118</td>\n",
       "      <td>0.173623</td>\n",
       "      <td>-0.929599</td>\n",
       "      <td>-0.123</td>\n",
       "      <td>0.152</td>\n",
       "      <td>2.0</td>\n",
       "    </tr>\n",
       "    <tr>\n",
       "      <th>3</th>\n",
       "      <td>0.100000</td>\n",
       "      <td>engaged</td>\n",
       "      <td>5.0</td>\n",
       "      <td>1.0</td>\n",
       "      <td>2018-04-05</td>\n",
       "      <td>NaN</td>\n",
       "      <td>NaN</td>\n",
       "      <td>0</td>\n",
       "      <td>0</td>\n",
       "      <td>0</td>\n",
       "      <td>...</td>\n",
       "      <td>1.0</td>\n",
       "      <td>0.089518</td>\n",
       "      <td>0.094099</td>\n",
       "      <td>-0.991530</td>\n",
       "      <td>-0.322802</td>\n",
       "      <td>0.183486</td>\n",
       "      <td>-0.928510</td>\n",
       "      <td>-0.121</td>\n",
       "      <td>0.144</td>\n",
       "      <td>2.0</td>\n",
       "    </tr>\n",
       "    <tr>\n",
       "      <th>4</th>\n",
       "      <td>0.133333</td>\n",
       "      <td>engaged</td>\n",
       "      <td>5.0</td>\n",
       "      <td>1.0</td>\n",
       "      <td>2018-04-05</td>\n",
       "      <td>NaN</td>\n",
       "      <td>NaN</td>\n",
       "      <td>0</td>\n",
       "      <td>0</td>\n",
       "      <td>0</td>\n",
       "      <td>...</td>\n",
       "      <td>1.0</td>\n",
       "      <td>0.096125</td>\n",
       "      <td>0.090759</td>\n",
       "      <td>-0.991223</td>\n",
       "      <td>-0.322998</td>\n",
       "      <td>0.173539</td>\n",
       "      <td>-0.930353</td>\n",
       "      <td>-0.118</td>\n",
       "      <td>0.137</td>\n",
       "      <td>2.0</td>\n",
       "    </tr>\n",
       "  </tbody>\n",
       "</table>\n",
       "<p>5 rows × 26 columns</p>\n",
       "</div>"
      ],
      "text/plain": [
       "   Timestamp engagement  participant  session_num session_date  activity  \\\n",
       "0   0.000000    engaged          5.0          1.0   2018-04-05       NaN   \n",
       "1   0.033333    engaged          5.0          1.0   2018-04-05       NaN   \n",
       "2   0.066667    engaged          5.0          1.0   2018-04-05       NaN   \n",
       "3   0.100000    engaged          5.0          1.0   2018-04-05       NaN   \n",
       "4   0.133333    engaged          5.0          1.0   2018-04-05       NaN   \n",
       "\n",
       "   difficulty  total_games  session_games  total_mistakes  \\\n",
       "0         NaN            0              0               0   \n",
       "1         NaN            0              0               0   \n",
       "2         NaN            0              0               0   \n",
       "3         NaN            0              0               0   \n",
       "4         NaN            0              0               0   \n",
       "\n",
       "          ...           of_success  of_gaze_0_x of_gaze_0_y of_gaze_0_z  \\\n",
       "0         ...                  1.0     0.076070    0.127410   -0.988929   \n",
       "1         ...                  1.0     0.100135    0.130810   -0.986337   \n",
       "2         ...                  1.0     0.087110    0.121171   -0.988802   \n",
       "3         ...                  1.0     0.089518    0.094099   -0.991530   \n",
       "4         ...                  1.0     0.096125    0.090759   -0.991223   \n",
       "\n",
       "   of_gaze_1_x  of_gaze_1_y  of_gaze_1_z  of_gaze_angle_x  of_gaze_angle_y  \\\n",
       "0    -0.294418     0.170766    -0.940296           -0.113            0.153   \n",
       "1    -0.277336     0.177454    -0.944243           -0.092            0.158   \n",
       "2    -0.325118     0.173623    -0.929599           -0.123            0.152   \n",
       "3    -0.322802     0.183486    -0.928510           -0.121            0.144   \n",
       "4    -0.322998     0.173539    -0.930353           -0.118            0.137   \n",
       "\n",
       "   op_Number of People  \n",
       "0                  2.0  \n",
       "1                  2.0  \n",
       "2                  2.0  \n",
       "3                  2.0  \n",
       "4                  2.0  \n",
       "\n",
       "[5 rows x 26 columns]"
      ]
     },
     "execution_count": 21,
     "metadata": {},
     "output_type": "execute_result"
    }
   ],
   "source": [
    "df2 = pd.read_csv('p5_iser_data.csv')\n",
    "df2.head()"
   ]
  },
  {
   "cell_type": "code",
   "execution_count": 22,
   "metadata": {},
   "outputs": [
    {
     "data": {
      "text/plain": [
       "Timestamp                     0\n",
       "engagement                    0\n",
       "participant                   0\n",
       "session_num                   0\n",
       "session_date                  0\n",
       "activity                  96630\n",
       "difficulty                96630\n",
       "total_games                   0\n",
       "session_games                 0\n",
       "total_mistakes                0\n",
       "session_mistakes              0\n",
       "game_mistakes                 0\n",
       "ros_ROBOT_STATE          265034\n",
       "ros_PARTICIPANT_STATE    320726\n",
       "of_timestamp                  0\n",
       "of_confidence                 0\n",
       "of_success                    0\n",
       "of_gaze_0_x                   0\n",
       "of_gaze_0_y                   0\n",
       "of_gaze_0_z                   0\n",
       "of_gaze_1_x                   0\n",
       "of_gaze_1_y                   0\n",
       "of_gaze_1_z                   0\n",
       "of_gaze_angle_x               0\n",
       "of_gaze_angle_y               0\n",
       "op_Number of People           0\n",
       "dtype: int64"
      ]
     },
     "execution_count": 22,
     "metadata": {},
     "output_type": "execute_result"
    }
   ],
   "source": [
    "df2.isna().sum()"
   ]
  },
  {
   "cell_type": "code",
   "execution_count": 23,
   "metadata": {},
   "outputs": [],
   "source": [
    "df2 = df2.drop(['ros_ROBOT_STATE','ros_PARTICIPANT_STATE','session_date','Timestamp'],axis=1)\n",
    "df2 = df2.fillna(value = {'activity':-1,'difficulty':-1 })\n",
    "df2 = df2.dropna()"
   ]
  },
  {
   "cell_type": "code",
   "execution_count": 24,
   "metadata": {},
   "outputs": [
    {
     "data": {
      "text/html": [
       "<div>\n",
       "<style scoped>\n",
       "    .dataframe tbody tr th:only-of-type {\n",
       "        vertical-align: middle;\n",
       "    }\n",
       "\n",
       "    .dataframe tbody tr th {\n",
       "        vertical-align: top;\n",
       "    }\n",
       "\n",
       "    .dataframe thead th {\n",
       "        text-align: right;\n",
       "    }\n",
       "</style>\n",
       "<table border=\"1\" class=\"dataframe\">\n",
       "  <thead>\n",
       "    <tr style=\"text-align: right;\">\n",
       "      <th></th>\n",
       "      <th>engagement</th>\n",
       "      <th>participant</th>\n",
       "      <th>session_num</th>\n",
       "      <th>activity</th>\n",
       "      <th>difficulty</th>\n",
       "      <th>total_games</th>\n",
       "      <th>session_games</th>\n",
       "      <th>total_mistakes</th>\n",
       "      <th>session_mistakes</th>\n",
       "      <th>game_mistakes</th>\n",
       "      <th>...</th>\n",
       "      <th>of_success</th>\n",
       "      <th>of_gaze_0_x</th>\n",
       "      <th>of_gaze_0_y</th>\n",
       "      <th>of_gaze_0_z</th>\n",
       "      <th>of_gaze_1_x</th>\n",
       "      <th>of_gaze_1_y</th>\n",
       "      <th>of_gaze_1_z</th>\n",
       "      <th>of_gaze_angle_x</th>\n",
       "      <th>of_gaze_angle_y</th>\n",
       "      <th>op_Number of People</th>\n",
       "    </tr>\n",
       "  </thead>\n",
       "  <tbody>\n",
       "    <tr>\n",
       "      <th>0</th>\n",
       "      <td>engaged</td>\n",
       "      <td>5.0</td>\n",
       "      <td>1.0</td>\n",
       "      <td>-1.0</td>\n",
       "      <td>-1.0</td>\n",
       "      <td>0</td>\n",
       "      <td>0</td>\n",
       "      <td>0</td>\n",
       "      <td>0</td>\n",
       "      <td>0</td>\n",
       "      <td>...</td>\n",
       "      <td>1.0</td>\n",
       "      <td>0.076070</td>\n",
       "      <td>0.127410</td>\n",
       "      <td>-0.988929</td>\n",
       "      <td>-0.294418</td>\n",
       "      <td>0.170766</td>\n",
       "      <td>-0.940296</td>\n",
       "      <td>-0.113</td>\n",
       "      <td>0.153</td>\n",
       "      <td>2.0</td>\n",
       "    </tr>\n",
       "    <tr>\n",
       "      <th>1</th>\n",
       "      <td>engaged</td>\n",
       "      <td>5.0</td>\n",
       "      <td>1.0</td>\n",
       "      <td>-1.0</td>\n",
       "      <td>-1.0</td>\n",
       "      <td>0</td>\n",
       "      <td>0</td>\n",
       "      <td>0</td>\n",
       "      <td>0</td>\n",
       "      <td>0</td>\n",
       "      <td>...</td>\n",
       "      <td>1.0</td>\n",
       "      <td>0.100135</td>\n",
       "      <td>0.130810</td>\n",
       "      <td>-0.986337</td>\n",
       "      <td>-0.277336</td>\n",
       "      <td>0.177454</td>\n",
       "      <td>-0.944243</td>\n",
       "      <td>-0.092</td>\n",
       "      <td>0.158</td>\n",
       "      <td>2.0</td>\n",
       "    </tr>\n",
       "    <tr>\n",
       "      <th>2</th>\n",
       "      <td>engaged</td>\n",
       "      <td>5.0</td>\n",
       "      <td>1.0</td>\n",
       "      <td>-1.0</td>\n",
       "      <td>-1.0</td>\n",
       "      <td>0</td>\n",
       "      <td>0</td>\n",
       "      <td>0</td>\n",
       "      <td>0</td>\n",
       "      <td>0</td>\n",
       "      <td>...</td>\n",
       "      <td>1.0</td>\n",
       "      <td>0.087110</td>\n",
       "      <td>0.121171</td>\n",
       "      <td>-0.988802</td>\n",
       "      <td>-0.325118</td>\n",
       "      <td>0.173623</td>\n",
       "      <td>-0.929599</td>\n",
       "      <td>-0.123</td>\n",
       "      <td>0.152</td>\n",
       "      <td>2.0</td>\n",
       "    </tr>\n",
       "    <tr>\n",
       "      <th>3</th>\n",
       "      <td>engaged</td>\n",
       "      <td>5.0</td>\n",
       "      <td>1.0</td>\n",
       "      <td>-1.0</td>\n",
       "      <td>-1.0</td>\n",
       "      <td>0</td>\n",
       "      <td>0</td>\n",
       "      <td>0</td>\n",
       "      <td>0</td>\n",
       "      <td>0</td>\n",
       "      <td>...</td>\n",
       "      <td>1.0</td>\n",
       "      <td>0.089518</td>\n",
       "      <td>0.094099</td>\n",
       "      <td>-0.991530</td>\n",
       "      <td>-0.322802</td>\n",
       "      <td>0.183486</td>\n",
       "      <td>-0.928510</td>\n",
       "      <td>-0.121</td>\n",
       "      <td>0.144</td>\n",
       "      <td>2.0</td>\n",
       "    </tr>\n",
       "    <tr>\n",
       "      <th>4</th>\n",
       "      <td>engaged</td>\n",
       "      <td>5.0</td>\n",
       "      <td>1.0</td>\n",
       "      <td>-1.0</td>\n",
       "      <td>-1.0</td>\n",
       "      <td>0</td>\n",
       "      <td>0</td>\n",
       "      <td>0</td>\n",
       "      <td>0</td>\n",
       "      <td>0</td>\n",
       "      <td>...</td>\n",
       "      <td>1.0</td>\n",
       "      <td>0.096125</td>\n",
       "      <td>0.090759</td>\n",
       "      <td>-0.991223</td>\n",
       "      <td>-0.322998</td>\n",
       "      <td>0.173539</td>\n",
       "      <td>-0.930353</td>\n",
       "      <td>-0.118</td>\n",
       "      <td>0.137</td>\n",
       "      <td>2.0</td>\n",
       "    </tr>\n",
       "  </tbody>\n",
       "</table>\n",
       "<p>5 rows × 22 columns</p>\n",
       "</div>"
      ],
      "text/plain": [
       "  engagement  participant  session_num  activity  difficulty  total_games  \\\n",
       "0    engaged          5.0          1.0      -1.0        -1.0            0   \n",
       "1    engaged          5.0          1.0      -1.0        -1.0            0   \n",
       "2    engaged          5.0          1.0      -1.0        -1.0            0   \n",
       "3    engaged          5.0          1.0      -1.0        -1.0            0   \n",
       "4    engaged          5.0          1.0      -1.0        -1.0            0   \n",
       "\n",
       "   session_games  total_mistakes  session_mistakes  game_mistakes  \\\n",
       "0              0               0                 0              0   \n",
       "1              0               0                 0              0   \n",
       "2              0               0                 0              0   \n",
       "3              0               0                 0              0   \n",
       "4              0               0                 0              0   \n",
       "\n",
       "          ...           of_success  of_gaze_0_x  of_gaze_0_y  of_gaze_0_z  \\\n",
       "0         ...                  1.0     0.076070     0.127410    -0.988929   \n",
       "1         ...                  1.0     0.100135     0.130810    -0.986337   \n",
       "2         ...                  1.0     0.087110     0.121171    -0.988802   \n",
       "3         ...                  1.0     0.089518     0.094099    -0.991530   \n",
       "4         ...                  1.0     0.096125     0.090759    -0.991223   \n",
       "\n",
       "   of_gaze_1_x  of_gaze_1_y  of_gaze_1_z  of_gaze_angle_x  of_gaze_angle_y  \\\n",
       "0    -0.294418     0.170766    -0.940296           -0.113            0.153   \n",
       "1    -0.277336     0.177454    -0.944243           -0.092            0.158   \n",
       "2    -0.325118     0.173623    -0.929599           -0.123            0.152   \n",
       "3    -0.322802     0.183486    -0.928510           -0.121            0.144   \n",
       "4    -0.322998     0.173539    -0.930353           -0.118            0.137   \n",
       "\n",
       "   op_Number of People  \n",
       "0                  2.0  \n",
       "1                  2.0  \n",
       "2                  2.0  \n",
       "3                  2.0  \n",
       "4                  2.0  \n",
       "\n",
       "[5 rows x 22 columns]"
      ]
     },
     "execution_count": 24,
     "metadata": {},
     "output_type": "execute_result"
    }
   ],
   "source": [
    "df2.head()"
   ]
  },
  {
   "cell_type": "code",
   "execution_count": 25,
   "metadata": {},
   "outputs": [
    {
     "data": {
      "text/plain": [
       "339128"
      ]
     },
     "execution_count": 25,
     "metadata": {},
     "output_type": "execute_result"
    }
   ],
   "source": [
    "len(df2)"
   ]
  },
  {
   "cell_type": "code",
   "execution_count": 25,
   "metadata": {},
   "outputs": [],
   "source": [
    "#df2.to_csv('p5.csv')"
   ]
  },
  {
   "cell_type": "code",
   "execution_count": 26,
   "metadata": {},
   "outputs": [],
   "source": [
    "df2 = df2.drop(['participant','session_num'],axis=1)"
   ]
  },
  {
   "cell_type": "code",
   "execution_count": 27,
   "metadata": {},
   "outputs": [
    {
     "data": {
      "text/plain": [
       "engaged       232553\n",
       "disengaged    106575\n",
       "Name: engagement, dtype: int64"
      ]
     },
     "execution_count": 27,
     "metadata": {},
     "output_type": "execute_result"
    }
   ],
   "source": [
    "df2['engagement'].value_counts()"
   ]
  },
  {
   "cell_type": "code",
   "execution_count": 28,
   "metadata": {},
   "outputs": [
    {
     "name": "stdout",
     "output_type": "stream",
     "text": [
      "Engaged 0.6857381283763063\n",
      "Disengaged 0.31426187162369373\n"
     ]
    }
   ],
   "source": [
    "df2['engagement'].value_counts()\n",
    "print(\"Engaged\",df2['engagement'].value_counts()['engaged']/sum(df2['engagement'].value_counts()))\n",
    "print(\"Disengaged\",df2['engagement'].value_counts()['disengaged']/sum(df2['engagement'].value_counts()))"
   ]
  },
  {
   "cell_type": "code",
   "execution_count": 29,
   "metadata": {},
   "outputs": [],
   "source": [
    "le2 = LabelEncoder()\n",
    "df2['engagement'] = le2.fit_transform(df2['engagement'])"
   ]
  },
  {
   "cell_type": "code",
   "execution_count": 30,
   "metadata": {},
   "outputs": [
    {
     "data": {
      "text/html": [
       "<div>\n",
       "<style scoped>\n",
       "    .dataframe tbody tr th:only-of-type {\n",
       "        vertical-align: middle;\n",
       "    }\n",
       "\n",
       "    .dataframe tbody tr th {\n",
       "        vertical-align: top;\n",
       "    }\n",
       "\n",
       "    .dataframe thead th {\n",
       "        text-align: right;\n",
       "    }\n",
       "</style>\n",
       "<table border=\"1\" class=\"dataframe\">\n",
       "  <thead>\n",
       "    <tr style=\"text-align: right;\">\n",
       "      <th></th>\n",
       "      <th>engagement</th>\n",
       "      <th>activity</th>\n",
       "      <th>difficulty</th>\n",
       "      <th>total_games</th>\n",
       "      <th>session_games</th>\n",
       "      <th>total_mistakes</th>\n",
       "      <th>session_mistakes</th>\n",
       "      <th>game_mistakes</th>\n",
       "      <th>of_timestamp</th>\n",
       "      <th>of_confidence</th>\n",
       "      <th>of_success</th>\n",
       "      <th>of_gaze_0_x</th>\n",
       "      <th>of_gaze_0_y</th>\n",
       "      <th>of_gaze_0_z</th>\n",
       "      <th>of_gaze_1_x</th>\n",
       "      <th>of_gaze_1_y</th>\n",
       "      <th>of_gaze_1_z</th>\n",
       "      <th>of_gaze_angle_x</th>\n",
       "      <th>of_gaze_angle_y</th>\n",
       "      <th>op_Number of People</th>\n",
       "    </tr>\n",
       "  </thead>\n",
       "  <tbody>\n",
       "    <tr>\n",
       "      <th>0</th>\n",
       "      <td>1</td>\n",
       "      <td>-1.0</td>\n",
       "      <td>-1.0</td>\n",
       "      <td>0</td>\n",
       "      <td>0</td>\n",
       "      <td>0</td>\n",
       "      <td>0</td>\n",
       "      <td>0</td>\n",
       "      <td>0.000</td>\n",
       "      <td>0.98</td>\n",
       "      <td>1.0</td>\n",
       "      <td>0.076070</td>\n",
       "      <td>0.127410</td>\n",
       "      <td>-0.988929</td>\n",
       "      <td>-0.294418</td>\n",
       "      <td>0.170766</td>\n",
       "      <td>-0.940296</td>\n",
       "      <td>-0.113</td>\n",
       "      <td>0.153</td>\n",
       "      <td>2.0</td>\n",
       "    </tr>\n",
       "    <tr>\n",
       "      <th>1</th>\n",
       "      <td>1</td>\n",
       "      <td>-1.0</td>\n",
       "      <td>-1.0</td>\n",
       "      <td>0</td>\n",
       "      <td>0</td>\n",
       "      <td>0</td>\n",
       "      <td>0</td>\n",
       "      <td>0</td>\n",
       "      <td>0.033</td>\n",
       "      <td>0.98</td>\n",
       "      <td>1.0</td>\n",
       "      <td>0.100135</td>\n",
       "      <td>0.130810</td>\n",
       "      <td>-0.986337</td>\n",
       "      <td>-0.277336</td>\n",
       "      <td>0.177454</td>\n",
       "      <td>-0.944243</td>\n",
       "      <td>-0.092</td>\n",
       "      <td>0.158</td>\n",
       "      <td>2.0</td>\n",
       "    </tr>\n",
       "    <tr>\n",
       "      <th>2</th>\n",
       "      <td>1</td>\n",
       "      <td>-1.0</td>\n",
       "      <td>-1.0</td>\n",
       "      <td>0</td>\n",
       "      <td>0</td>\n",
       "      <td>0</td>\n",
       "      <td>0</td>\n",
       "      <td>0</td>\n",
       "      <td>0.067</td>\n",
       "      <td>0.98</td>\n",
       "      <td>1.0</td>\n",
       "      <td>0.087110</td>\n",
       "      <td>0.121171</td>\n",
       "      <td>-0.988802</td>\n",
       "      <td>-0.325118</td>\n",
       "      <td>0.173623</td>\n",
       "      <td>-0.929599</td>\n",
       "      <td>-0.123</td>\n",
       "      <td>0.152</td>\n",
       "      <td>2.0</td>\n",
       "    </tr>\n",
       "    <tr>\n",
       "      <th>3</th>\n",
       "      <td>1</td>\n",
       "      <td>-1.0</td>\n",
       "      <td>-1.0</td>\n",
       "      <td>0</td>\n",
       "      <td>0</td>\n",
       "      <td>0</td>\n",
       "      <td>0</td>\n",
       "      <td>0</td>\n",
       "      <td>0.100</td>\n",
       "      <td>0.98</td>\n",
       "      <td>1.0</td>\n",
       "      <td>0.089518</td>\n",
       "      <td>0.094099</td>\n",
       "      <td>-0.991530</td>\n",
       "      <td>-0.322802</td>\n",
       "      <td>0.183486</td>\n",
       "      <td>-0.928510</td>\n",
       "      <td>-0.121</td>\n",
       "      <td>0.144</td>\n",
       "      <td>2.0</td>\n",
       "    </tr>\n",
       "    <tr>\n",
       "      <th>4</th>\n",
       "      <td>1</td>\n",
       "      <td>-1.0</td>\n",
       "      <td>-1.0</td>\n",
       "      <td>0</td>\n",
       "      <td>0</td>\n",
       "      <td>0</td>\n",
       "      <td>0</td>\n",
       "      <td>0</td>\n",
       "      <td>0.133</td>\n",
       "      <td>0.98</td>\n",
       "      <td>1.0</td>\n",
       "      <td>0.096125</td>\n",
       "      <td>0.090759</td>\n",
       "      <td>-0.991223</td>\n",
       "      <td>-0.322998</td>\n",
       "      <td>0.173539</td>\n",
       "      <td>-0.930353</td>\n",
       "      <td>-0.118</td>\n",
       "      <td>0.137</td>\n",
       "      <td>2.0</td>\n",
       "    </tr>\n",
       "  </tbody>\n",
       "</table>\n",
       "</div>"
      ],
      "text/plain": [
       "   engagement  activity  difficulty  total_games  session_games  \\\n",
       "0           1      -1.0        -1.0            0              0   \n",
       "1           1      -1.0        -1.0            0              0   \n",
       "2           1      -1.0        -1.0            0              0   \n",
       "3           1      -1.0        -1.0            0              0   \n",
       "4           1      -1.0        -1.0            0              0   \n",
       "\n",
       "   total_mistakes  session_mistakes  game_mistakes  of_timestamp  \\\n",
       "0               0                 0              0         0.000   \n",
       "1               0                 0              0         0.033   \n",
       "2               0                 0              0         0.067   \n",
       "3               0                 0              0         0.100   \n",
       "4               0                 0              0         0.133   \n",
       "\n",
       "   of_confidence  of_success  of_gaze_0_x  of_gaze_0_y  of_gaze_0_z  \\\n",
       "0           0.98         1.0     0.076070     0.127410    -0.988929   \n",
       "1           0.98         1.0     0.100135     0.130810    -0.986337   \n",
       "2           0.98         1.0     0.087110     0.121171    -0.988802   \n",
       "3           0.98         1.0     0.089518     0.094099    -0.991530   \n",
       "4           0.98         1.0     0.096125     0.090759    -0.991223   \n",
       "\n",
       "   of_gaze_1_x  of_gaze_1_y  of_gaze_1_z  of_gaze_angle_x  of_gaze_angle_y  \\\n",
       "0    -0.294418     0.170766    -0.940296           -0.113            0.153   \n",
       "1    -0.277336     0.177454    -0.944243           -0.092            0.158   \n",
       "2    -0.325118     0.173623    -0.929599           -0.123            0.152   \n",
       "3    -0.322802     0.183486    -0.928510           -0.121            0.144   \n",
       "4    -0.322998     0.173539    -0.930353           -0.118            0.137   \n",
       "\n",
       "   op_Number of People  \n",
       "0                  2.0  \n",
       "1                  2.0  \n",
       "2                  2.0  \n",
       "3                  2.0  \n",
       "4                  2.0  "
      ]
     },
     "execution_count": 30,
     "metadata": {},
     "output_type": "execute_result"
    }
   ],
   "source": [
    "df2.head()"
   ]
  },
  {
   "cell_type": "markdown",
   "metadata": {},
   "source": [
    "## Linear Kernel SVM"
   ]
  },
  {
   "cell_type": "markdown",
   "metadata": {},
   "source": [
    "### Test: 20% - Random"
   ]
  },
  {
   "cell_type": "code",
   "execution_count": 48,
   "metadata": {},
   "outputs": [],
   "source": [
    "X_train2, X_test2, y_train2, y_test2 = train_test_split(df2.iloc[:,1:], df2.iloc[:,0], test_size=0.2, random_state=42)\n",
    "clf2 = LinearSVC()\n",
    "clf2.fit(X_train2,y_train2)\n",
    "pred2 = clf2.predict(X_test2)\n",
    "scores2 = clf2.decision_function(X_test2)"
   ]
  },
  {
   "cell_type": "code",
   "execution_count": 49,
   "metadata": {},
   "outputs": [
    {
     "name": "stdout",
     "output_type": "stream",
     "text": [
      "AUC: 0.9047571768391618\n",
      "Accuracy: 0.8493498068587267\n",
      "[[11421 10096]\n",
      " [  122 46187]]\n",
      "             precision    recall  f1-score   support\n",
      "\n",
      "          0       0.99      0.53      0.69     21517\n",
      "          1       0.82      1.00      0.90     46309\n",
      "\n",
      "avg / total       0.87      0.85      0.83     67826\n",
      "\n"
     ]
    }
   ],
   "source": [
    "print(\"AUC:\",roc_auc_score(y_test2, scores2)) \n",
    "print(\"Accuracy:\",accuracy_score(y_test2, pred2))\n",
    "print(metrics.confusion_matrix(y_test2, pred2))\n",
    "print(metrics.classification_report(y_test2, pred2))"
   ]
  },
  {
   "cell_type": "markdown",
   "metadata": {},
   "source": [
    "### Test: 30% - Random"
   ]
  },
  {
   "cell_type": "code",
   "execution_count": 60,
   "metadata": {},
   "outputs": [],
   "source": [
    "X_train21, X_test21, y_train21, y_test21 = train_test_split(df2.iloc[:,1:], df2.iloc[:,0], test_size=0.3)\n",
    "clf21 = LinearSVC()\n",
    "clf21.fit(X_train21,y_train21)\n",
    "pred21 = clf21.predict(X_test21)\n",
    "scores21 = clf21.decision_function(X_test21)"
   ]
  },
  {
   "cell_type": "code",
   "execution_count": 61,
   "metadata": {},
   "outputs": [
    {
     "name": "stdout",
     "output_type": "stream",
     "text": [
      "AUC: 0.9084512027330167\n",
      "Accuracy: 0.8732934272992657\n",
      "[[21934 10150]\n",
      " [ 2741 66914]]\n",
      "             precision    recall  f1-score   support\n",
      "\n",
      "          0       0.89      0.68      0.77     32084\n",
      "          1       0.87      0.96      0.91     69655\n",
      "\n",
      "avg / total       0.87      0.87      0.87    101739\n",
      "\n"
     ]
    }
   ],
   "source": [
    "print(\"AUC:\",roc_auc_score(y_test21, scores21)) \n",
    "print(\"Accuracy:\",accuracy_score(y_test21, pred21))\n",
    "print(metrics.confusion_matrix(y_test21, pred21))\n",
    "print(metrics.classification_report(y_test21, pred21))"
   ]
  },
  {
   "cell_type": "markdown",
   "metadata": {},
   "source": [
    "### Test: 30% - Last by session"
   ]
  },
  {
   "cell_type": "code",
   "execution_count": 62,
   "metadata": {},
   "outputs": [],
   "source": [
    "X_train21, X_test21, y_train21, y_test21 = train_test_split(df2.iloc[:,1:], df2.iloc[:,0], test_size=0.3, shuffle=False)\n",
    "clf21 = LinearSVC()\n",
    "clf21.fit(X_train21,y_train21)\n",
    "pred21 = clf21.predict(X_test21)\n",
    "scores21 = clf21.decision_function(X_test21)"
   ]
  },
  {
   "cell_type": "code",
   "execution_count": 63,
   "metadata": {},
   "outputs": [
    {
     "name": "stdout",
     "output_type": "stream",
     "text": [
      "AUC: 0.6626892813103046\n",
      "Accuracy: 0.8046865017348312\n",
      "[[ 2426 18773]\n",
      " [ 1098 79442]]\n",
      "             precision    recall  f1-score   support\n",
      "\n",
      "          0       0.69      0.11      0.20     21199\n",
      "          1       0.81      0.99      0.89     80540\n",
      "\n",
      "avg / total       0.78      0.80      0.74    101739\n",
      "\n"
     ]
    }
   ],
   "source": [
    "print(\"AUC:\",roc_auc_score(y_test21, scores21)) \n",
    "print(\"Accuracy:\",accuracy_score(y_test21, pred21))\n",
    "print(metrics.confusion_matrix(y_test21, pred21))\n",
    "print(metrics.classification_report(y_test21, pred21))"
   ]
  },
  {
   "cell_type": "code",
   "execution_count": null,
   "metadata": {},
   "outputs": [],
   "source": []
  },
  {
   "cell_type": "markdown",
   "metadata": {},
   "source": [
    "### Cross Validation"
   ]
  },
  {
   "cell_type": "markdown",
   "metadata": {},
   "source": [
    "### 5 - fold CV"
   ]
  },
  {
   "cell_type": "code",
   "execution_count": 42,
   "metadata": {},
   "outputs": [
    {
     "name": "stderr",
     "output_type": "stream",
     "text": [
      "/home/interaction-lab/miniconda3/lib/python3.6/site-packages/sklearn/svm/base.py:922: ConvergenceWarning: Liblinear failed to converge, increase the number of iterations.\n",
      "  \"the number of iterations.\", ConvergenceWarning)\n",
      "/home/interaction-lab/miniconda3/lib/python3.6/site-packages/sklearn/svm/base.py:922: ConvergenceWarning: Liblinear failed to converge, increase the number of iterations.\n",
      "  \"the number of iterations.\", ConvergenceWarning)\n",
      "/home/interaction-lab/miniconda3/lib/python3.6/site-packages/sklearn/svm/base.py:922: ConvergenceWarning: Liblinear failed to converge, increase the number of iterations.\n",
      "  \"the number of iterations.\", ConvergenceWarning)\n",
      "/home/interaction-lab/miniconda3/lib/python3.6/site-packages/sklearn/svm/base.py:922: ConvergenceWarning: Liblinear failed to converge, increase the number of iterations.\n",
      "  \"the number of iterations.\", ConvergenceWarning)\n",
      "/home/interaction-lab/miniconda3/lib/python3.6/site-packages/sklearn/svm/base.py:922: ConvergenceWarning: Liblinear failed to converge, increase the number of iterations.\n",
      "  \"the number of iterations.\", ConvergenceWarning)\n"
     ]
    }
   ],
   "source": [
    "X2 = df2.iloc[:,1:]\n",
    "y2 = df2.iloc[:,0]\n",
    "clf21 = LinearSVC()\n",
    "y_pred2 = cross_val_predict(clf21, X2, y2, cv=5)"
   ]
  },
  {
   "cell_type": "code",
   "execution_count": 43,
   "metadata": {},
   "outputs": [
    {
     "name": "stdout",
     "output_type": "stream",
     "text": [
      "Accuracy: 0.8006121582411361\n",
      "[[ 75931  30644]\n",
      " [ 36974 195579]]\n",
      "              precision    recall  f1-score   support\n",
      "\n",
      "           0       0.67      0.71      0.69    106575\n",
      "           1       0.86      0.84      0.85    232553\n",
      "\n",
      "   micro avg       0.80      0.80      0.80    339128\n",
      "   macro avg       0.77      0.78      0.77    339128\n",
      "weighted avg       0.80      0.80      0.80    339128\n",
      "\n"
     ]
    }
   ],
   "source": [
    "print(\"Accuracy:\",accuracy_score(y2, y_pred2))\n",
    "print(metrics.confusion_matrix(y2, y_pred2))\n",
    "print(metrics.classification_report(y2, y_pred2))"
   ]
  },
  {
   "cell_type": "markdown",
   "metadata": {},
   "source": [
    "### 3 - fold CV"
   ]
  },
  {
   "cell_type": "code",
   "execution_count": 44,
   "metadata": {},
   "outputs": [
    {
     "name": "stderr",
     "output_type": "stream",
     "text": [
      "/home/interaction-lab/miniconda3/lib/python3.6/site-packages/sklearn/svm/base.py:922: ConvergenceWarning: Liblinear failed to converge, increase the number of iterations.\n",
      "  \"the number of iterations.\", ConvergenceWarning)\n",
      "/home/interaction-lab/miniconda3/lib/python3.6/site-packages/sklearn/svm/base.py:922: ConvergenceWarning: Liblinear failed to converge, increase the number of iterations.\n",
      "  \"the number of iterations.\", ConvergenceWarning)\n",
      "/home/interaction-lab/miniconda3/lib/python3.6/site-packages/sklearn/svm/base.py:922: ConvergenceWarning: Liblinear failed to converge, increase the number of iterations.\n",
      "  \"the number of iterations.\", ConvergenceWarning)\n"
     ]
    }
   ],
   "source": [
    "scores = cross_val_score(clf21, X2, y2, cv=3)"
   ]
  },
  {
   "cell_type": "code",
   "execution_count": 45,
   "metadata": {},
   "outputs": [
    {
     "name": "stdout",
     "output_type": "stream",
     "text": [
      "Accuracy: 0.83 (+/- 0.23)\n"
     ]
    }
   ],
   "source": [
    "print(\"Accuracy: %0.2f (+/- %0.2f)\" % (scores.mean(), scores.std() * 2))"
   ]
  },
  {
   "cell_type": "markdown",
   "metadata": {},
   "source": [
    "### Feature Selection"
   ]
  },
  {
   "cell_type": "code",
   "execution_count": 46,
   "metadata": {},
   "outputs": [],
   "source": [
    "X_train21, X_test21, y_train21, y_test21 = train_test_split(df2.iloc[:,1:], df2.iloc[:,0], test_size=0.2, random_state=42)"
   ]
  },
  {
   "cell_type": "code",
   "execution_count": 52,
   "metadata": {},
   "outputs": [
    {
     "name": "stderr",
     "output_type": "stream",
     "text": [
      "/home/interaction-lab/miniconda3/lib/python3.6/site-packages/sklearn/svm/base.py:922: ConvergenceWarning: Liblinear failed to converge, increase the number of iterations.\n",
      "  \"the number of iterations.\", ConvergenceWarning)\n",
      "/home/interaction-lab/miniconda3/lib/python3.6/site-packages/sklearn/svm/base.py:922: ConvergenceWarning: Liblinear failed to converge, increase the number of iterations.\n",
      "  \"the number of iterations.\", ConvergenceWarning)\n",
      "/home/interaction-lab/miniconda3/lib/python3.6/site-packages/sklearn/svm/base.py:922: ConvergenceWarning: Liblinear failed to converge, increase the number of iterations.\n",
      "  \"the number of iterations.\", ConvergenceWarning)\n",
      "/home/interaction-lab/miniconda3/lib/python3.6/site-packages/sklearn/svm/base.py:922: ConvergenceWarning: Liblinear failed to converge, increase the number of iterations.\n",
      "  \"the number of iterations.\", ConvergenceWarning)\n",
      "/home/interaction-lab/miniconda3/lib/python3.6/site-packages/sklearn/svm/base.py:922: ConvergenceWarning: Liblinear failed to converge, increase the number of iterations.\n",
      "  \"the number of iterations.\", ConvergenceWarning)\n",
      "/home/interaction-lab/miniconda3/lib/python3.6/site-packages/sklearn/svm/base.py:922: ConvergenceWarning: Liblinear failed to converge, increase the number of iterations.\n",
      "  \"the number of iterations.\", ConvergenceWarning)\n",
      "/home/interaction-lab/miniconda3/lib/python3.6/site-packages/sklearn/svm/base.py:922: ConvergenceWarning: Liblinear failed to converge, increase the number of iterations.\n",
      "  \"the number of iterations.\", ConvergenceWarning)\n",
      "/home/interaction-lab/miniconda3/lib/python3.6/site-packages/sklearn/svm/base.py:922: ConvergenceWarning: Liblinear failed to converge, increase the number of iterations.\n",
      "  \"the number of iterations.\", ConvergenceWarning)\n"
     ]
    }
   ],
   "source": [
    "clf21 = LinearSVC()\n",
    "selector = RFE(clf21, 5)\n",
    "selector = selector.fit(X_train21,y_train21)\n",
    "pred21 = selector.predict(X_test21)\n",
    "scores21 = selector.decision_function(X_test21)"
   ]
  },
  {
   "cell_type": "code",
   "execution_count": 50,
   "metadata": {},
   "outputs": [],
   "source": [
    "#scores21 = selector.decision_function(X_test21)"
   ]
  },
  {
   "cell_type": "code",
   "execution_count": 53,
   "metadata": {},
   "outputs": [
    {
     "name": "stdout",
     "output_type": "stream",
     "text": [
      "AUC: 0.8538208053480261\n",
      "Accuracy: 0.8289004216672072\n",
      "[[16380  5137]\n",
      " [ 6468 39841]]\n",
      "              precision    recall  f1-score   support\n",
      "\n",
      "           0       0.72      0.76      0.74     21517\n",
      "           1       0.89      0.86      0.87     46309\n",
      "\n",
      "   micro avg       0.83      0.83      0.83     67826\n",
      "   macro avg       0.80      0.81      0.81     67826\n",
      "weighted avg       0.83      0.83      0.83     67826\n",
      "\n"
     ]
    }
   ],
   "source": [
    "print(\"AUC:\",roc_auc_score(y_test21, scores21)) \n",
    "print(\"Accuracy:\",accuracy_score(y_test21, pred21))\n",
    "print(metrics.confusion_matrix(y_test21, pred21))\n",
    "print(metrics.classification_report(y_test21, pred21))"
   ]
  },
  {
   "cell_type": "code",
   "execution_count": 54,
   "metadata": {},
   "outputs": [
    {
     "data": {
      "text/plain": [
       "array([False, False, False, False, False, False, False, False,  True,\n",
       "        True,  True, False, False,  True, False,  True, False, False,\n",
       "       False])"
      ]
     },
     "execution_count": 54,
     "metadata": {},
     "output_type": "execute_result"
    }
   ],
   "source": [
    "selector.get_support()"
   ]
  },
  {
   "cell_type": "code",
   "execution_count": 55,
   "metadata": {},
   "outputs": [
    {
     "data": {
      "text/plain": [
       "array([10,  8, 14, 13, 12, 11,  9, 15,  1,  1,  1,  7,  4,  1,  3,  1,  6,\n",
       "        2,  5])"
      ]
     },
     "execution_count": 55,
     "metadata": {},
     "output_type": "execute_result"
    }
   ],
   "source": [
    "selector.ranking_ "
   ]
  },
  {
   "cell_type": "code",
   "execution_count": 56,
   "metadata": {},
   "outputs": [
    {
     "data": {
      "text/plain": [
       "['engagement',\n",
       " 'activity',\n",
       " 'difficulty',\n",
       " 'total_games',\n",
       " 'session_games',\n",
       " 'total_mistakes',\n",
       " 'session_mistakes',\n",
       " 'game_mistakes',\n",
       " 'of_timestamp',\n",
       " 'of_confidence',\n",
       " 'of_success',\n",
       " 'of_gaze_0_x',\n",
       " 'of_gaze_0_y',\n",
       " 'of_gaze_0_z',\n",
       " 'of_gaze_1_x',\n",
       " 'of_gaze_1_y',\n",
       " 'of_gaze_1_z',\n",
       " 'of_gaze_angle_x',\n",
       " 'of_gaze_angle_y',\n",
       " 'op_Number of People']"
      ]
     },
     "execution_count": 56,
     "metadata": {},
     "output_type": "execute_result"
    }
   ],
   "source": [
    "list(df2)"
   ]
  },
  {
   "cell_type": "code",
   "execution_count": 57,
   "metadata": {},
   "outputs": [
    {
     "name": "stdout",
     "output_type": "stream",
     "text": [
      "of_timestamp\n",
      "of_confidence\n",
      "of_success\n",
      "of_gaze_0_z\n",
      "of_gaze_1_y\n"
     ]
    }
   ],
   "source": [
    "for i,j in zip(selector.ranking_,list(df2)):\n",
    "    if(i==1):\n",
    "        print(j)"
   ]
  },
  {
   "cell_type": "code",
   "execution_count": 58,
   "metadata": {},
   "outputs": [
    {
     "name": "stdout",
     "output_type": "stream",
     "text": [
      "engagement 10\n",
      "activity 8\n",
      "difficulty 14\n",
      "total_games 13\n",
      "session_games 12\n",
      "total_mistakes 11\n",
      "session_mistakes 9\n",
      "game_mistakes 15\n",
      "of_timestamp 1\n",
      "of_confidence 1\n",
      "of_success 1\n",
      "of_gaze_0_x 7\n",
      "of_gaze_0_y 4\n",
      "of_gaze_0_z 1\n",
      "of_gaze_1_x 3\n",
      "of_gaze_1_y 1\n",
      "of_gaze_1_z 6\n",
      "of_gaze_angle_x 2\n",
      "of_gaze_angle_y 5\n"
     ]
    }
   ],
   "source": [
    "for i,j in zip(selector.ranking_,list(df2)):\n",
    "    print(j,i)"
   ]
  },
  {
   "cell_type": "markdown",
   "metadata": {},
   "source": [
    "### Sampling"
   ]
  },
  {
   "cell_type": "markdown",
   "metadata": {},
   "source": [
    "#### Oversampling"
   ]
  },
  {
   "cell_type": "code",
   "execution_count": 59,
   "metadata": {},
   "outputs": [],
   "source": [
    "X2 = df2.iloc[:,1:]\n",
    "y2 = df2.iloc[:,0]\n",
    "X_resampled2, y_resampled2 = SMOTE().fit_resample(X2, y2)"
   ]
  },
  {
   "cell_type": "code",
   "execution_count": 60,
   "metadata": {},
   "outputs": [
    {
     "name": "stdout",
     "output_type": "stream",
     "text": [
      "[(0, 232553), (1, 232553)]\n"
     ]
    }
   ],
   "source": [
    "print(sorted(Counter(y_resampled2).items()))"
   ]
  },
  {
   "cell_type": "code",
   "execution_count": 61,
   "metadata": {},
   "outputs": [
    {
     "name": "stderr",
     "output_type": "stream",
     "text": [
      "/home/interaction-lab/miniconda3/lib/python3.6/site-packages/sklearn/svm/base.py:922: ConvergenceWarning: Liblinear failed to converge, increase the number of iterations.\n",
      "  \"the number of iterations.\", ConvergenceWarning)\n"
     ]
    }
   ],
   "source": [
    "X_train22, X_test22, y_train22, y_test22 = train_test_split(X_resampled2, y_resampled2, test_size=0.2, random_state=42)\n",
    "clf22 = LinearSVC()\n",
    "clf22.fit(X_train22,y_train22)\n",
    "pred22 = clf22.predict(X_test22)\n",
    "scores22 = clf22.decision_function(X_test22)"
   ]
  },
  {
   "cell_type": "code",
   "execution_count": 62,
   "metadata": {},
   "outputs": [
    {
     "name": "stdout",
     "output_type": "stream",
     "text": [
      "AUC: 0.8695138700254192\n",
      "Accuracy: 0.7772247425340242\n",
      "[[29017 17589]\n",
      " [ 3134 43282]]\n",
      "              precision    recall  f1-score   support\n",
      "\n",
      "           0       0.90      0.62      0.74     46606\n",
      "           1       0.71      0.93      0.81     46416\n",
      "\n",
      "   micro avg       0.78      0.78      0.78     93022\n",
      "   macro avg       0.81      0.78      0.77     93022\n",
      "weighted avg       0.81      0.78      0.77     93022\n",
      "\n"
     ]
    }
   ],
   "source": [
    "print(\"AUC:\",roc_auc_score(y_test22, scores22)) \n",
    "print(\"Accuracy:\",accuracy_score(y_test22, pred22))\n",
    "print(metrics.confusion_matrix(y_test22, pred22))\n",
    "print(metrics.classification_report(y_test22, pred22))"
   ]
  },
  {
   "cell_type": "markdown",
   "metadata": {},
   "source": [
    "#### Undersampling"
   ]
  },
  {
   "cell_type": "markdown",
   "metadata": {},
   "source": [
    "### Standarization of data"
   ]
  },
  {
   "cell_type": "markdown",
   "metadata": {},
   "source": [
    "##### Standard Scalar"
   ]
  },
  {
   "cell_type": "code",
   "execution_count": 32,
   "metadata": {},
   "outputs": [
    {
     "name": "stderr",
     "output_type": "stream",
     "text": [
      "/home/interaction-lab/miniconda3/lib/python3.6/site-packages/sklearn/preprocessing/data.py:617: DataConversionWarning: Data with input dtype int64, float64 were all converted to float64 by StandardScaler.\n",
      "  return self.partial_fit(X, y)\n",
      "/home/interaction-lab/miniconda3/lib/python3.6/site-packages/sklearn/base.py:462: DataConversionWarning: Data with input dtype int64, float64 were all converted to float64 by StandardScaler.\n",
      "  return self.fit(X, **fit_params).transform(X)\n"
     ]
    }
   ],
   "source": [
    "X2 = df2.iloc[:,1:]\n",
    "y2 = df2.iloc[:,0]\n",
    "sscaler = StandardScaler()\n",
    "Standard_X2 = sscaler.fit_transform(X2)"
   ]
  },
  {
   "cell_type": "code",
   "execution_count": 65,
   "metadata": {},
   "outputs": [
    {
     "name": "stderr",
     "output_type": "stream",
     "text": [
      "/home/interaction-lab/miniconda3/lib/python3.6/site-packages/sklearn/svm/base.py:922: ConvergenceWarning: Liblinear failed to converge, increase the number of iterations.\n",
      "  \"the number of iterations.\", ConvergenceWarning)\n"
     ]
    }
   ],
   "source": [
    "X_train23, X_test23, y_train23, y_test23 = train_test_split(Standard_X2, y2, test_size=0.2, random_state=42)\n",
    "clf23 = LinearSVC()\n",
    "clf23.fit(X_train23,y_train23)\n",
    "pred23 = clf23.predict(X_test23)\n",
    "scores23 = clf23.decision_function(X_test23)"
   ]
  },
  {
   "cell_type": "code",
   "execution_count": 66,
   "metadata": {},
   "outputs": [
    {
     "name": "stdout",
     "output_type": "stream",
     "text": [
      "AUC: 0.9427436700159735\n",
      "Accuracy: 0.8756671482912157\n",
      "[[15020  6497]\n",
      " [ 1936 44373]]\n",
      "              precision    recall  f1-score   support\n",
      "\n",
      "           0       0.89      0.70      0.78     21517\n",
      "           1       0.87      0.96      0.91     46309\n",
      "\n",
      "   micro avg       0.88      0.88      0.88     67826\n",
      "   macro avg       0.88      0.83      0.85     67826\n",
      "weighted avg       0.88      0.88      0.87     67826\n",
      "\n"
     ]
    }
   ],
   "source": [
    "print(\"AUC:\",roc_auc_score(y_test23, scores23)) \n",
    "print(\"Accuracy:\",accuracy_score(y_test23, pred23))\n",
    "print(metrics.confusion_matrix(y_test23, pred23))\n",
    "print(metrics.classification_report(y_test23, pred23))"
   ]
  },
  {
   "cell_type": "markdown",
   "metadata": {},
   "source": [
    "##### Robust Scalar"
   ]
  },
  {
   "cell_type": "code",
   "execution_count": 33,
   "metadata": {},
   "outputs": [],
   "source": [
    "rscaler = RobustScaler()\n",
    "Robust_X2 = rscaler.fit_transform(X2)"
   ]
  },
  {
   "cell_type": "code",
   "execution_count": 34,
   "metadata": {},
   "outputs": [
    {
     "name": "stderr",
     "output_type": "stream",
     "text": [
      "/home/interaction-lab/miniconda3/lib/python3.6/site-packages/sklearn/svm/base.py:922: ConvergenceWarning: Liblinear failed to converge, increase the number of iterations.\n",
      "  \"the number of iterations.\", ConvergenceWarning)\n"
     ]
    }
   ],
   "source": [
    "X_train23, X_test23, y_train23, y_test23 = train_test_split(Robust_X2, y2, test_size=0.2, random_state=42)\n",
    "clf23 = LinearSVC()\n",
    "clf23.fit(X_train23,y_train23)\n",
    "pred23 = clf23.predict(X_test23)\n",
    "scores23 = clf23.decision_function(X_test23)"
   ]
  },
  {
   "cell_type": "code",
   "execution_count": 35,
   "metadata": {},
   "outputs": [
    {
     "name": "stdout",
     "output_type": "stream",
     "text": [
      "AUC: 0.9427382095261364\n",
      "Accuracy: 0.8756818918998615\n",
      "[[15021  6496]\n",
      " [ 1936 44373]]\n",
      "              precision    recall  f1-score   support\n",
      "\n",
      "           0       0.89      0.70      0.78     21517\n",
      "           1       0.87      0.96      0.91     46309\n",
      "\n",
      "   micro avg       0.88      0.88      0.88     67826\n",
      "   macro avg       0.88      0.83      0.85     67826\n",
      "weighted avg       0.88      0.88      0.87     67826\n",
      "\n"
     ]
    }
   ],
   "source": [
    "print(\"AUC:\",roc_auc_score(y_test23, scores23)) \n",
    "print(\"Accuracy:\",accuracy_score(y_test23, pred23))\n",
    "print(metrics.confusion_matrix(y_test23, pred23))\n",
    "print(metrics.classification_report(y_test23, pred23))"
   ]
  },
  {
   "cell_type": "markdown",
   "metadata": {},
   "source": [
    "## SVM - Poly / RBF Kernel"
   ]
  },
  {
   "cell_type": "code",
   "execution_count": null,
   "metadata": {},
   "outputs": [
    {
     "name": "stderr",
     "output_type": "stream",
     "text": [
      "/home/interaction-lab/miniconda3/lib/python3.6/site-packages/sklearn/svm/base.py:196: FutureWarning: The default value of gamma will change from 'auto' to 'scale' in version 0.22 to account better for unscaled features. Set gamma explicitly to 'auto' or 'scale' to avoid this warning.\n",
      "  \"avoid this warning.\", FutureWarning)\n"
     ]
    }
   ],
   "source": [
    "#X_train23, X_test23, y_train23, y_test23 = train_test_split(Robust_X2, y2, test_size=0.2, random_state=42)\n",
    "clf24 = svm.SVC(kernel='poly', degree=2)\n",
    "clf24.fit(X_train23,y_train23)\n",
    "pred24 = clf24.predict(X_test23)\n",
    "scores24 = clf24.decision_function(X_test23)"
   ]
  },
  {
   "cell_type": "code",
   "execution_count": null,
   "metadata": {},
   "outputs": [],
   "source": [
    "print(\"AUC:\",roc_auc_score(y_test23, scores24)) \n",
    "print(\"Accuracy:\",accuracy_score(y_test23, pred24))\n",
    "print(metrics.confusion_matrix(y_test23, pred24))\n",
    "print(metrics.classification_report(y_test23, pred24))"
   ]
  },
  {
   "cell_type": "code",
   "execution_count": null,
   "metadata": {},
   "outputs": [],
   "source": []
  },
  {
   "cell_type": "code",
   "execution_count": null,
   "metadata": {},
   "outputs": [],
   "source": []
  },
  {
   "cell_type": "markdown",
   "metadata": {},
   "source": [
    "## P3 and P5 - Combined Test - 20% Random"
   ]
  },
  {
   "cell_type": "code",
   "execution_count": 31,
   "metadata": {},
   "outputs": [],
   "source": [
    "frames = [df1, df2]\n",
    "combined = pd.concat(frames)"
   ]
  },
  {
   "cell_type": "code",
   "execution_count": 39,
   "metadata": {},
   "outputs": [
    {
     "name": "stdout",
     "output_type": "stream",
     "text": [
      "1    343931\n",
      "0    120483\n",
      "Name: engagement, dtype: int64\n",
      "Engaged 0.7405698363959743\n",
      "Disengaged 0.2594301636040257\n"
     ]
    }
   ],
   "source": [
    "print(combined['engagement'].value_counts())\n",
    "print(\"Engaged\",combined['engagement'].value_counts()[1]/sum(combined['engagement'].value_counts()))\n",
    "print(\"Disengaged\",combined['engagement'].value_counts()[0]/sum(combined['engagement'].value_counts()))"
   ]
  },
  {
   "cell_type": "code",
   "execution_count": 40,
   "metadata": {},
   "outputs": [
    {
     "name": "stderr",
     "output_type": "stream",
     "text": [
      "/home/interaction-lab/miniconda3/lib/python3.6/site-packages/sklearn/svm/base.py:922: ConvergenceWarning: Liblinear failed to converge, increase the number of iterations.\n",
      "  \"the number of iterations.\", ConvergenceWarning)\n"
     ]
    }
   ],
   "source": [
    "X_trainc, X_testc, y_trainc, y_testc = train_test_split(combined.iloc[:,1:], combined.iloc[:,0], test_size=0.2, random_state=42)\n",
    "clfc = LinearSVC()\n",
    "clfc.fit(X_trainc,y_trainc)\n",
    "predc = clfc.predict(X_testc)\n",
    "scoresc = clfc.decision_function(X_testc)"
   ]
  },
  {
   "cell_type": "code",
   "execution_count": 41,
   "metadata": {},
   "outputs": [
    {
     "name": "stdout",
     "output_type": "stream",
     "text": [
      "AUC: 0.8488516527612686\n",
      "Accuracy: 0.7796475135385378\n",
      "[[ 3627 20418]\n",
      " [   49 68789]]\n",
      "              precision    recall  f1-score   support\n",
      "\n",
      "           0       0.99      0.15      0.26     24045\n",
      "           1       0.77      1.00      0.87     68838\n",
      "\n",
      "   micro avg       0.78      0.78      0.78     92883\n",
      "   macro avg       0.88      0.58      0.57     92883\n",
      "weighted avg       0.83      0.78      0.71     92883\n",
      "\n"
     ]
    }
   ],
   "source": [
    "print(\"AUC:\",roc_auc_score(y_testc, scoresc)) \n",
    "print(\"Accuracy:\",accuracy_score(y_testc, predc))\n",
    "print(metrics.confusion_matrix(y_testc, predc))\n",
    "print(metrics.classification_report(y_testc, predc))"
   ]
  },
  {
   "cell_type": "markdown",
   "metadata": {},
   "source": [
    "## Train - P3 & Test - P5"
   ]
  },
  {
   "cell_type": "code",
   "execution_count": 42,
   "metadata": {},
   "outputs": [],
   "source": [
    "X_P3 = df1.iloc[:,1:]\n",
    "y_P3 = df1.iloc[:,0]\n",
    "X_P5 = df2.iloc[:,1:]\n",
    "y_P5 = df2.iloc[:,0]"
   ]
  },
  {
   "cell_type": "code",
   "execution_count": 43,
   "metadata": {},
   "outputs": [
    {
     "name": "stderr",
     "output_type": "stream",
     "text": [
      "/home/interaction-lab/miniconda3/lib/python3.6/site-packages/sklearn/svm/base.py:922: ConvergenceWarning: Liblinear failed to converge, increase the number of iterations.\n",
      "  \"the number of iterations.\", ConvergenceWarning)\n"
     ]
    }
   ],
   "source": [
    "clfp35 = LinearSVC()\n",
    "clfp35.fit(X_P3,y_P3)\n",
    "predp35 = clfp35.predict(X_P5)\n",
    "scoresp35 = clfp35.decision_function(X_P5)"
   ]
  },
  {
   "cell_type": "code",
   "execution_count": 44,
   "metadata": {},
   "outputs": [
    {
     "name": "stdout",
     "output_type": "stream",
     "text": [
      "AUC: 0.7928635901652394\n",
      "Accuracy: 0.673660092944257\n",
      "[[ 11054  95521]\n",
      " [ 15150 217403]]\n",
      "              precision    recall  f1-score   support\n",
      "\n",
      "           0       0.42      0.10      0.17    106575\n",
      "           1       0.69      0.93      0.80    232553\n",
      "\n",
      "   micro avg       0.67      0.67      0.67    339128\n",
      "   macro avg       0.56      0.52      0.48    339128\n",
      "weighted avg       0.61      0.67      0.60    339128\n",
      "\n"
     ]
    }
   ],
   "source": [
    "print(\"AUC:\",roc_auc_score(y_P5, scoresp35)) \n",
    "print(\"Accuracy:\",accuracy_score(y_P5, predp35))\n",
    "print(metrics.confusion_matrix(y_P5, predp35))\n",
    "print(metrics.classification_report(y_P5, predp35))"
   ]
  },
  {
   "cell_type": "markdown",
   "metadata": {},
   "source": [
    "## Train - P5 & Test - P3"
   ]
  },
  {
   "cell_type": "code",
   "execution_count": 45,
   "metadata": {},
   "outputs": [
    {
     "name": "stderr",
     "output_type": "stream",
     "text": [
      "/home/interaction-lab/miniconda3/lib/python3.6/site-packages/sklearn/svm/base.py:922: ConvergenceWarning: Liblinear failed to converge, increase the number of iterations.\n",
      "  \"the number of iterations.\", ConvergenceWarning)\n"
     ]
    }
   ],
   "source": [
    "clfp53 = LinearSVC()\n",
    "clfp53.fit(X_P5,y_P5)\n",
    "predp53 = clfp53.predict(X_P3)\n",
    "scoresp53 = clfp53.decision_function(X_P3)"
   ]
  },
  {
   "cell_type": "code",
   "execution_count": 46,
   "metadata": {},
   "outputs": [
    {
     "name": "stdout",
     "output_type": "stream",
     "text": [
      "AUC: 0.4765984295110548\n",
      "Accuracy: 0.8889979726386029\n",
      "[[     3  13905]\n",
      " [     2 111376]]\n",
      "              precision    recall  f1-score   support\n",
      "\n",
      "           0       0.60      0.00      0.00     13908\n",
      "           1       0.89      1.00      0.94    111378\n",
      "\n",
      "   micro avg       0.89      0.89      0.89    125286\n",
      "   macro avg       0.74      0.50      0.47    125286\n",
      "weighted avg       0.86      0.89      0.84    125286\n",
      "\n"
     ]
    }
   ],
   "source": [
    "print(\"AUC:\",roc_auc_score(y_P3, scoresp53)) \n",
    "print(\"Accuracy:\",accuracy_score(y_P3, predp53))\n",
    "print(metrics.confusion_matrix(y_P3, predp53))\n",
    "print(metrics.classification_report(y_P3, predp53))"
   ]
  },
  {
   "cell_type": "code",
   "execution_count": null,
   "metadata": {},
   "outputs": [],
   "source": []
  }
 ],
 "metadata": {
  "kernelspec": {
   "display_name": "Python [default]",
   "language": "python",
   "name": "python3"
  },
  "language_info": {
   "codemirror_mode": {
    "name": "ipython",
    "version": 3
   },
   "file_extension": ".py",
   "mimetype": "text/x-python",
   "name": "python",
   "nbconvert_exporter": "python",
   "pygments_lexer": "ipython3",
   "version": "3.5.6"
  }
 },
 "nbformat": 4,
 "nbformat_minor": 2
}
