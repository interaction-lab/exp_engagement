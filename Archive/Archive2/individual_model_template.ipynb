{
 "cells": [
  {
   "cell_type": "code",
   "execution_count": 230,
   "metadata": {},
   "outputs": [],
   "source": [
    "# Template Notebook for Indvidualized Participant Engagement Classifcation NN Model\n",
    "\n",
    "# ToDo/Goals: https://docs.google.com/document/d/1_dTnbdRoBV0A7xCxVEyLBdckrlsUnMnRFbbRn39tiXk/edit?usp=sharing\n",
    "# Data: https://drive.google.com/drive/folders/19aJUAlkTMz7PcZE1q4hogFkjVtwYGcMT\n",
    "# Upload code to help-seeking github: https://github.com/interaction-lab/help_seeking\n",
    "# Record model results here: https://docs.google.com/spreadsheets/d/16ye54fSSEuAuDL_j56UIeDB-rIIrxq_kPbtyPRQOrVI/edit?usp=sharing"
   ]
  },
  {
   "cell_type": "code",
   "execution_count": 231,
   "metadata": {},
   "outputs": [],
   "source": [
    "# Imports\n",
    "\n",
    "import pandas as pd\n",
    "import numpy as np\n",
    "from pandas import *\n",
    "import os\n",
    "from sklearn.preprocessing import LabelEncoder\n",
    "from sklearn.model_selection import train_test_split\n",
    "from sklearn.metrics import roc_auc_score\n",
    "from sklearn.metrics import roc_auc_score\n",
    "from sklearn.metrics import accuracy_score\n",
    "from sklearn.model_selection import cross_val_predict\n",
    "from sklearn.model_selection import cross_val_score\n",
    "from sklearn import metrics\n",
    "\n",
    "from keras.layers import Dense, Activation\n",
    "from keras.models import Sequential\n",
    "from keras.utils import np_utils"
   ]
  },
  {
   "cell_type": "markdown",
   "metadata": {},
   "source": [
    "#### TODO: Specifiy Data Path Based on Participant/Your Computer"
   ]
  },
  {
   "cell_type": "code",
   "execution_count": 232,
   "metadata": {},
   "outputs": [],
   "source": [
    "# TODO: Specify Data Path based on participant/your computer\n",
    "# USE data from FS4 folder\n",
    "\n",
    "file = '../../../Google Drive File Stream/My Drive/USC Expeditions Year 5/Analysis/Help-Seeking/Data/FS4/p7_data_FS4.csv'\n",
    "data = pd.read_csv(file)"
   ]
  },
  {
   "cell_type": "code",
   "execution_count": 233,
   "metadata": {},
   "outputs": [
    {
     "data": {
      "text/html": [
       "<div>\n",
       "<style scoped>\n",
       "    .dataframe tbody tr th:only-of-type {\n",
       "        vertical-align: middle;\n",
       "    }\n",
       "\n",
       "    .dataframe tbody tr th {\n",
       "        vertical-align: top;\n",
       "    }\n",
       "\n",
       "    .dataframe thead th {\n",
       "        text-align: right;\n",
       "    }\n",
       "</style>\n",
       "<table border=\"1\" class=\"dataframe\">\n",
       "  <thead>\n",
       "    <tr style=\"text-align: right;\">\n",
       "      <th></th>\n",
       "      <th>of_confidence</th>\n",
       "      <th>of_success</th>\n",
       "      <th>of_gaze_0_x</th>\n",
       "      <th>of_gaze_0_y</th>\n",
       "      <th>of_gaze_0_z</th>\n",
       "      <th>of_gaze_1_x</th>\n",
       "      <th>of_gaze_1_y</th>\n",
       "      <th>of_gaze_1_z</th>\n",
       "      <th>of_gaze_angle_x</th>\n",
       "      <th>of_gaze_angle_y</th>\n",
       "      <th>...</th>\n",
       "      <th>ts_attempt</th>\n",
       "      <th>skill_NC</th>\n",
       "      <th>skill_OS</th>\n",
       "      <th>skill_EM</th>\n",
       "      <th>diff_1</th>\n",
       "      <th>diff_2</th>\n",
       "      <th>diff_3</th>\n",
       "      <th>diff_4</th>\n",
       "      <th>diff_5</th>\n",
       "      <th>no_game</th>\n",
       "    </tr>\n",
       "  </thead>\n",
       "  <tbody>\n",
       "    <tr>\n",
       "      <th>0</th>\n",
       "      <td>1.0</td>\n",
       "      <td>1.0</td>\n",
       "      <td>0.802148</td>\n",
       "      <td>0.562868</td>\n",
       "      <td>0.109746</td>\n",
       "      <td>0.394162</td>\n",
       "      <td>0.568244</td>\n",
       "      <td>0.018943</td>\n",
       "      <td>0.606309</td>\n",
       "      <td>0.508006</td>\n",
       "      <td>...</td>\n",
       "      <td>0.0</td>\n",
       "      <td>0</td>\n",
       "      <td>1</td>\n",
       "      <td>0</td>\n",
       "      <td>0</td>\n",
       "      <td>1</td>\n",
       "      <td>0</td>\n",
       "      <td>0</td>\n",
       "      <td>0</td>\n",
       "      <td>0</td>\n",
       "    </tr>\n",
       "    <tr>\n",
       "      <th>1</th>\n",
       "      <td>1.0</td>\n",
       "      <td>1.0</td>\n",
       "      <td>0.805980</td>\n",
       "      <td>0.553090</td>\n",
       "      <td>0.111663</td>\n",
       "      <td>0.395043</td>\n",
       "      <td>0.564921</td>\n",
       "      <td>0.018227</td>\n",
       "      <td>0.607571</td>\n",
       "      <td>0.505478</td>\n",
       "      <td>...</td>\n",
       "      <td>0.0</td>\n",
       "      <td>0</td>\n",
       "      <td>1</td>\n",
       "      <td>0</td>\n",
       "      <td>0</td>\n",
       "      <td>1</td>\n",
       "      <td>0</td>\n",
       "      <td>0</td>\n",
       "      <td>0</td>\n",
       "      <td>0</td>\n",
       "    </tr>\n",
       "    <tr>\n",
       "      <th>2</th>\n",
       "      <td>1.0</td>\n",
       "      <td>1.0</td>\n",
       "      <td>0.802828</td>\n",
       "      <td>0.542876</td>\n",
       "      <td>0.108154</td>\n",
       "      <td>0.413679</td>\n",
       "      <td>0.556325</td>\n",
       "      <td>0.012879</td>\n",
       "      <td>0.610515</td>\n",
       "      <td>0.501938</td>\n",
       "      <td>...</td>\n",
       "      <td>0.0</td>\n",
       "      <td>0</td>\n",
       "      <td>1</td>\n",
       "      <td>0</td>\n",
       "      <td>0</td>\n",
       "      <td>1</td>\n",
       "      <td>0</td>\n",
       "      <td>0</td>\n",
       "      <td>0</td>\n",
       "      <td>0</td>\n",
       "    </tr>\n",
       "    <tr>\n",
       "      <th>3</th>\n",
       "      <td>1.0</td>\n",
       "      <td>1.0</td>\n",
       "      <td>0.806615</td>\n",
       "      <td>0.533710</td>\n",
       "      <td>0.110562</td>\n",
       "      <td>0.390660</td>\n",
       "      <td>0.568724</td>\n",
       "      <td>0.019901</td>\n",
       "      <td>0.606730</td>\n",
       "      <td>0.502613</td>\n",
       "      <td>...</td>\n",
       "      <td>0.0</td>\n",
       "      <td>0</td>\n",
       "      <td>1</td>\n",
       "      <td>0</td>\n",
       "      <td>0</td>\n",
       "      <td>1</td>\n",
       "      <td>0</td>\n",
       "      <td>0</td>\n",
       "      <td>0</td>\n",
       "      <td>0</td>\n",
       "    </tr>\n",
       "    <tr>\n",
       "      <th>4</th>\n",
       "      <td>1.0</td>\n",
       "      <td>1.0</td>\n",
       "      <td>0.805455</td>\n",
       "      <td>0.529496</td>\n",
       "      <td>0.109395</td>\n",
       "      <td>0.397752</td>\n",
       "      <td>0.560606</td>\n",
       "      <td>0.016963</td>\n",
       "      <td>0.607781</td>\n",
       "      <td>0.500253</td>\n",
       "      <td>...</td>\n",
       "      <td>0.0</td>\n",
       "      <td>0</td>\n",
       "      <td>1</td>\n",
       "      <td>0</td>\n",
       "      <td>0</td>\n",
       "      <td>1</td>\n",
       "      <td>0</td>\n",
       "      <td>0</td>\n",
       "      <td>0</td>\n",
       "      <td>0</td>\n",
       "    </tr>\n",
       "  </tbody>\n",
       "</table>\n",
       "<p>5 rows × 32 columns</p>\n",
       "</div>"
      ],
      "text/plain": [
       "   of_confidence  of_success  of_gaze_0_x  of_gaze_0_y  of_gaze_0_z  \\\n",
       "0            1.0         1.0     0.802148     0.562868     0.109746   \n",
       "1            1.0         1.0     0.805980     0.553090     0.111663   \n",
       "2            1.0         1.0     0.802828     0.542876     0.108154   \n",
       "3            1.0         1.0     0.806615     0.533710     0.110562   \n",
       "4            1.0         1.0     0.805455     0.529496     0.109395   \n",
       "\n",
       "   of_gaze_1_x  of_gaze_1_y  of_gaze_1_z  of_gaze_angle_x  of_gaze_angle_y  \\\n",
       "0     0.394162     0.568244     0.018943         0.606309         0.508006   \n",
       "1     0.395043     0.564921     0.018227         0.607571         0.505478   \n",
       "2     0.413679     0.556325     0.012879         0.610515         0.501938   \n",
       "3     0.390660     0.568724     0.019901         0.606730         0.502613   \n",
       "4     0.397752     0.560606     0.016963         0.607781         0.500253   \n",
       "\n",
       "    ...     ts_attempt  skill_NC  skill_OS  skill_EM  diff_1  diff_2  diff_3  \\\n",
       "0   ...            0.0         0         1         0       0       1       0   \n",
       "1   ...            0.0         0         1         0       0       1       0   \n",
       "2   ...            0.0         0         1         0       0       1       0   \n",
       "3   ...            0.0         0         1         0       0       1       0   \n",
       "4   ...            0.0         0         1         0       0       1       0   \n",
       "\n",
       "   diff_4  diff_5  no_game  \n",
       "0       0       0        0  \n",
       "1       0       0        0  \n",
       "2       0       0        0  \n",
       "3       0       0        0  \n",
       "4       0       0        0  \n",
       "\n",
       "[5 rows x 32 columns]"
      ]
     },
     "execution_count": 233,
     "metadata": {},
     "output_type": "execute_result"
    }
   ],
   "source": [
    "data.head()"
   ]
  },
  {
   "cell_type": "code",
   "execution_count": 234,
   "metadata": {},
   "outputs": [
    {
     "name": "stdout",
     "output_type": "stream",
     "text": [
      "1.0    238113\n",
      "0.0    155633\n",
      "Name: engagement, dtype: int64\n",
      "\n",
      "1 0.6047375719372388\n",
      "0 0.3952624280627613\n"
     ]
    }
   ],
   "source": [
    "# Label Analysis\n",
    "\n",
    "print(data['engagement'].value_counts())\n",
    "print()\n",
    "\n",
    "print(1,data['engagement'].value_counts()[1]/sum(data['engagement'].value_counts()))\n",
    "print(0,data['engagement'].value_counts()[0]/sum(data['engagement'].value_counts()))"
   ]
  },
  {
   "cell_type": "markdown",
   "metadata": {},
   "source": [
    "### Train Test Split (for chosen Feature Set)\n",
    "\n",
    "#### TODO: Specify which train-test split you want\n",
    "\n",
    "1. Random Shuffle Split: 70-30, 50-50, 30-70, 10-90\n",
    "2. Chronological Split: 70-30, 50-50, 30-70\n",
    "3. Session Split: 70-30, 50-50, 30-70, 10-90"
   ]
  },
  {
   "cell_type": "code",
   "execution_count": 235,
   "metadata": {},
   "outputs": [],
   "source": [
    "# Session Split: Train on Percentage of Data From Each Session, Sorted Chronologically \n",
    "\n",
    "def session_split(data, size):\n",
    "    sessions = data['session_num'].unique()\n",
    "    \n",
    "    first = True\n",
    "        \n",
    "    for s in sessions:\n",
    "        curr = data.loc[data['session_num'] == s]\n",
    "        curr = curr.sort_values(['timestamp'], ascending=[True])\n",
    "\n",
    "        y = curr['engagement']\n",
    "        X = curr.drop(columns=['timestamp', 'session_num', 'engagement'])\n",
    "\n",
    "        if first:\n",
    "            X_train, X_test, y_train, y_test = train_test_split(X, y, test_size=size, shuffle=True)\n",
    "            first = False\n",
    "            \n",
    "        else:\n",
    "            CX_train, CX_test, Cy_train, Cy_test = train_test_split(X, y, test_size=size, shuffle=True)\n",
    "                        \n",
    "            X_train = X_train.append(CX_train)\n",
    "            X_test = X_test.append(CX_test)\n",
    "            y_train = y_train.append(Cy_train)\n",
    "            y_test = y_test.append(Cy_test)\n",
    "    \n",
    "    return X_train, X_test, y_train, y_test"
   ]
  },
  {
   "cell_type": "code",
   "execution_count": 236,
   "metadata": {},
   "outputs": [],
   "source": [
    "# Sort data (don't need for Random Shuffle, but ok to leave it)\n",
    "\n",
    "data = data.sort_values(['session_num', 'timestamp'], ascending=[True, True])"
   ]
  },
  {
   "cell_type": "code",
   "execution_count": 237,
   "metadata": {},
   "outputs": [],
   "source": [
    "# TODO: Uncomment train-test split to run below \n",
    "\n",
    "y = data['engagement']\n",
    "X = data.drop(columns=['timestamp', 'session_num', 'engagement'])\n",
    "\n",
    "# Choose one of these \n",
    "\n",
    "\n",
    "# 1. Random Shuffle Split 50-50\n",
    "# X_train, X_test, y_train, y_test = train_test_split(X, y, test_size=0.5, random_state=42)\n",
    "\n",
    "### (Extra)\n",
    "# Random Shuffle Split 70-30\n",
    "# X_train, X_test, y_train, y_test = train_test_split(X, y, test_size=0.3, random_state=42)\n",
    "\n",
    "# Random Shuffle Split 30-70\n",
    "# X_train, X_test, y_train, y_test = train_test_split(X, y, test_size=0.7, random_state=42)\n",
    "\n",
    "# Random Shuffle Split 10-90\n",
    "# X_train, X_test, y_train, y_test = train_test_split(X, y, test_size=0.9, random_state=42)\n",
    "### \n",
    "\n",
    "#############################\n",
    "\n",
    "# 2. Chronological Split 70-30\n",
    "# X_train, X_test, y_train, y_test = train_test_split(X, y, test_size=0.3, shuffle=False)\n",
    "\n",
    "# 3. Chronological Split 50-50\n",
    "# X_train, X_test, y_train, y_test = train_test_split(X, y, test_size=0.5, shuffle=False)\n",
    "\n",
    "# 4. Chronological Split 30-70\n",
    "X_train, X_test, y_train, y_test = train_test_split(X, y, test_size=0.7, shuffle=False)\n",
    "\n",
    "############################# \n",
    "\n",
    "# 5. Session Split 70-30\n",
    "# X_train, X_test, y_train, y_test = session_split(data, 0.3)\n",
    "\n",
    "# 6. Session Split 50-50\n",
    "# X_train, X_test, y_train, y_test = session_split(data, 0.5)\n",
    "\n",
    "# 7. Session Split 30-70\n",
    "# X_train, X_test, y_train, y_test = session_split(data, 0.7)\n",
    "\n",
    "# 8. Session Split 10-90\n",
    "# X_train, X_test, y_train, y_test = session_split(data, 0.9)"
   ]
  },
  {
   "cell_type": "code",
   "execution_count": 238,
   "metadata": {},
   "outputs": [],
   "source": [
    "# Sort X,y Train dataframes together after split \n",
    "\n",
    "X_train, bogus_test, y_train, bogus_test = train_test_split(X_train, y_train, test_size=0.0, shuffle=True)\n",
    "X_train, bogus_test, y_train, bogus_test = train_test_split(X_train, y_train, test_size=0.0, shuffle=True)\n",
    "X_train, bogus_test, y_train, bogus_test = train_test_split(X_train, y_train, test_size=0.0, shuffle=True)\n",
    "X_train, bogus_test, y_train, bogus_test = train_test_split(X_train, y_train, test_size=0.0, shuffle=True)\n",
    "X_train, bogus_test, y_train, bogus_test = train_test_split(X_train, y_train, test_size=0.0, shuffle=True)"
   ]
  },
  {
   "cell_type": "markdown",
   "metadata": {},
   "source": [
    "### Step 3: Neural Network Model"
   ]
  },
  {
   "cell_type": "markdown",
   "metadata": {},
   "source": [
    "#### TODO: May need to adjust following if poor accurracy\n",
    "1. Vary num_epochs, batch size\n",
    "2. Vary between 2, 3, 4 hidden layers\n",
    "3. Vary amount of nodes in each layer"
   ]
  },
  {
   "cell_type": "code",
   "execution_count": 239,
   "metadata": {},
   "outputs": [],
   "source": [
    "num_epochs = 1       # if bad, try 1 - 20\n",
    "size_batch = 256      # if bad, try 16, 32, 64, 128, 256 "
   ]
  },
  {
   "cell_type": "code",
   "execution_count": 240,
   "metadata": {},
   "outputs": [
    {
     "name": "stdout",
     "output_type": "stream",
     "text": [
      "_________________________________________________________________\n",
      "Layer (type)                 Output Shape              Param #   \n",
      "=================================================================\n",
      "dense_89 (Dense)             (None, 64)                1920      \n",
      "_________________________________________________________________\n",
      "activation_89 (Activation)   (None, 64)                0         \n",
      "_________________________________________________________________\n",
      "dense_90 (Dense)             (None, 32)                2080      \n",
      "_________________________________________________________________\n",
      "activation_90 (Activation)   (None, 32)                0         \n",
      "_________________________________________________________________\n",
      "dense_91 (Dense)             (None, 16)                528       \n",
      "_________________________________________________________________\n",
      "activation_91 (Activation)   (None, 16)                0         \n",
      "_________________________________________________________________\n",
      "dense_92 (Dense)             (None, 1)                 17        \n",
      "_________________________________________________________________\n",
      "activation_92 (Activation)   (None, 1)                 0         \n",
      "=================================================================\n",
      "Total params: 4,545\n",
      "Trainable params: 4,545\n",
      "Non-trainable params: 0\n",
      "_________________________________________________________________\n"
     ]
    }
   ],
   "source": [
    "# NN Model for FS4 (all OF/OP)\n",
    "\n",
    "model = Sequential()\n",
    "\n",
    "# model.add(Dense(units=16, input_dim=(X_train.shape[1]), kernel_initializer='glorot_normal'))\n",
    "model.add(Dense(units=64, input_dim=(X_train.shape[1]), kernel_initializer='glorot_normal'))\n",
    "model.add(Activation('relu'))\n",
    "\n",
    "#model.add(Dense(units=16, kernel_initializer='glorot_normal'))\n",
    "model.add(Dense(units=32, kernel_initializer='glorot_normal'))\n",
    "model.add(Activation('relu'))\n",
    "\n",
    "#model.add(Dense(units=64, kernel_initializer='glorot_normal'))\n",
    "model.add(Dense(units=16, kernel_initializer='glorot_normal'))\n",
    "model.add(Activation('relu'))\n",
    "\n",
    "#model.add(Dense(units=4, kernel_initializer='glorot_normal'))\n",
    "#model.add(Activation('relu'))\n",
    "\n",
    "model.add(Dense(units=1))\n",
    "model.add(Activation('sigmoid'))\n",
    "\n",
    "model.summary()"
   ]
  },
  {
   "cell_type": "code",
   "execution_count": 241,
   "metadata": {},
   "outputs": [],
   "source": [
    "model.compile(loss='binary_crossentropy',  \n",
    "              optimizer='Adam',\n",
    "              metrics=['accuracy'])"
   ]
  },
  {
   "cell_type": "markdown",
   "metadata": {},
   "source": [
    "### 4. Model Evaluation"
   ]
  },
  {
   "cell_type": "code",
   "execution_count": 242,
   "metadata": {},
   "outputs": [
    {
     "name": "stdout",
     "output_type": "stream",
     "text": [
      "Epoch 1/1\n",
      "118123/118123 [==============================] - 3s 22us/step - loss: 0.2805 - acc: 0.8809\n"
     ]
    },
    {
     "data": {
      "text/plain": [
       "<keras.callbacks.History at 0x1a2ffbe860>"
      ]
     },
     "execution_count": 242,
     "metadata": {},
     "output_type": "execute_result"
    }
   ],
   "source": [
    "# use validation split to monitor training, don't use for final recorded accurracy \n",
    "# model.fit(X_train, y_train, epochs=num_epochs, batch_size=size_batch, verbose=1, validation_split=0.1)\n",
    "\n",
    "model.fit(X_train, y_train, epochs=num_epochs, batch_size=size_batch, verbose=1)"
   ]
  },
  {
   "cell_type": "code",
   "execution_count": 243,
   "metadata": {},
   "outputs": [
    {
     "name": "stdout",
     "output_type": "stream",
     "text": [
      "275623/275623 [==============================] - 14s 51us/step\n",
      "[1.2370253477332234, 0.650007437695693]\n"
     ]
    }
   ],
   "source": [
    "loss_and_metrics = model.evaluate(X_test, y_test)\n",
    "print(loss_and_metrics)"
   ]
  },
  {
   "cell_type": "code",
   "execution_count": 244,
   "metadata": {},
   "outputs": [],
   "source": [
    "scores = model.predict_proba(X_test)\n",
    "pred = model.predict_classes(X_test)"
   ]
  },
  {
   "cell_type": "markdown",
   "metadata": {},
   "source": [
    "#### TODO: RECORD ACCURACY IN MODEL RESULTS SPREADSHEET\n",
    "Try to get accurracy, AUC above 90%!!!\n",
    "See results for P8 for guidelines"
   ]
  },
  {
   "cell_type": "code",
   "execution_count": 245,
   "metadata": {
    "scrolled": true
   },
   "outputs": [
    {
     "name": "stdout",
     "output_type": "stream",
     "text": [
      "AUC: 0.8553321903822332\n",
      "Accuracy: 0.650007437695693\n",
      "[[ 16205  96000]\n",
      " [   466 162952]]\n",
      "              precision    recall  f1-score   support\n",
      "\n",
      "         0.0       0.97      0.14      0.25    112205\n",
      "         1.0       0.63      1.00      0.77    163418\n",
      "\n",
      "   micro avg       0.65      0.65      0.65    275623\n",
      "   macro avg       0.80      0.57      0.51    275623\n",
      "weighted avg       0.77      0.65      0.56    275623\n",
      "\n"
     ]
    }
   ],
   "source": [
    "try:\n",
    "    print(\"AUC:\",roc_auc_score(y_test, scores)) \n",
    "except:\n",
    "    print(\"AUC undefinied, only 1 class in test data\")\n",
    "    \n",
    "print(\"Accuracy:\",accuracy_score(y_test, pred))\n",
    "print(metrics.confusion_matrix(y_test, pred))\n",
    "print(metrics.classification_report(y_test, pred))"
   ]
  },
  {
   "cell_type": "code",
   "execution_count": null,
   "metadata": {},
   "outputs": [],
   "source": []
  }
 ],
 "metadata": {
  "kernelspec": {
   "display_name": "Python [conda env:caispp]",
   "language": "python",
   "name": "conda-env-caispp-py"
  },
  "language_info": {
   "codemirror_mode": {
    "name": "ipython",
    "version": 3
   },
   "file_extension": ".py",
   "mimetype": "text/x-python",
   "name": "python",
   "nbconvert_exporter": "python",
   "pygments_lexer": "ipython3",
   "version": "3.5.6"
  }
 },
 "nbformat": 4,
 "nbformat_minor": 2
}
