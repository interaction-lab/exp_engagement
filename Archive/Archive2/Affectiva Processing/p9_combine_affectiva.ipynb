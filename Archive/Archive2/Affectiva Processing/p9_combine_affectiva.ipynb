{
 "cells": [
  {
   "cell_type": "code",
   "execution_count": 30,
   "metadata": {},
   "outputs": [],
   "source": [
    "import pandas as pd\n",
    "import os\n",
    "import numpy as np\n",
    "import regex as re"
   ]
  },
  {
   "cell_type": "code",
   "execution_count": 8,
   "metadata": {},
   "outputs": [],
   "source": [
    "init = '../../../../Google Drive File Stream/My Drive/USC Expeditions Year 5/Analysis/Help-Seeking/Data/Affectiva Features/P9/p9_s15_2018-07-07_aff_features.csv'\n",
    "init_data = pd.read_csv(init)"
   ]
  },
  {
   "cell_type": "code",
   "execution_count": 21,
   "metadata": {},
   "outputs": [
    {
     "data": {
      "text/html": [
       "<div>\n",
       "<style scoped>\n",
       "    .dataframe tbody tr th:only-of-type {\n",
       "        vertical-align: middle;\n",
       "    }\n",
       "\n",
       "    .dataframe tbody tr th {\n",
       "        vertical-align: top;\n",
       "    }\n",
       "\n",
       "    .dataframe thead th {\n",
       "        text-align: right;\n",
       "    }\n",
       "</style>\n",
       "<table border=\"1\" class=\"dataframe\">\n",
       "  <thead>\n",
       "    <tr style=\"text-align: right;\">\n",
       "      <th></th>\n",
       "      <th>session_num</th>\n",
       "      <th>timestamp</th>\n",
       "      <th>Engagement</th>\n",
       "      <th>Attention</th>\n",
       "      <th>Valence</th>\n",
       "      <th>Joy</th>\n",
       "      <th>Sadness</th>\n",
       "      <th>Anger</th>\n",
       "      <th>Fear</th>\n",
       "      <th>Disgust</th>\n",
       "      <th>...</th>\n",
       "      <th>LipSuck</th>\n",
       "      <th>MouthOpen</th>\n",
       "      <th>Smirk</th>\n",
       "      <th>EyeClosure</th>\n",
       "      <th>EyeWiden</th>\n",
       "      <th>CheekRaise</th>\n",
       "      <th>LidTighten</th>\n",
       "      <th>Dimpler</th>\n",
       "      <th>LipStretch</th>\n",
       "      <th>JawDrop</th>\n",
       "    </tr>\n",
       "  </thead>\n",
       "  <tbody>\n",
       "  </tbody>\n",
       "</table>\n",
       "<p>0 rows × 32 columns</p>\n",
       "</div>"
      ],
      "text/plain": [
       "Empty DataFrame\n",
       "Columns: [session_num, timestamp, Engagement, Attention, Valence, Joy, Sadness, Anger, Fear, Disgust, Surprise, Contempt, Smile, InnerBrowRaise, BrowRaise, BrowFurrow, NoseWrinkle, UpperLipRaise, LipCornerDepressor, ChinRaise, LipPucker, LipPress, LipSuck, MouthOpen, Smirk, EyeClosure, EyeWiden, CheekRaise, LidTighten, Dimpler, LipStretch, JawDrop]\n",
       "Index: []\n",
       "\n",
       "[0 rows x 32 columns]"
      ]
     },
     "execution_count": 21,
     "metadata": {},
     "output_type": "execute_result"
    }
   ],
   "source": [
    "cols = np.array(init_data.columns).tolist()\n",
    "cols.remove('Timestamp')\n",
    "\n",
    "master_cols = cols\n",
    "#for i in cols:\n",
    "#    master_cols.append('aff_' + i)\n",
    "\n",
    "master_cols = ['session_num', 'timestamp'] + master_cols\n",
    "\n",
    "master = pd.DataFrame(columns=master_cols)\n",
    "master.head()"
   ]
  },
  {
   "cell_type": "code",
   "execution_count": 31,
   "metadata": {},
   "outputs": [
    {
     "name": "stdout",
     "output_type": "stream",
     "text": [
      "p9_s16_2018-07-08_aff_features.csv\n",
      "p9_s15_2018-07-07_aff_features.csv\n",
      "p9_s4_2018-06-14_aff_features.csv\n",
      "p9_s9_2018-06-26_aff_features.csv\n",
      "p9_s3-1_2018-06-12_aff_features.csv\n",
      "p9_s3-2_2018-06-12_aff_features.csv\n",
      "p9_s13-3_2018-07-05_aff_features.csv\n"
     ]
    }
   ],
   "source": [
    "rootdir = '../../../../Google Drive File Stream/My Drive/USC Expeditions Year 5/Analysis/Help-Seeking/Data/Affectiva Features/P9'\n",
    "\n",
    "for subdir, dirs, files in os.walk(rootdir):\n",
    "    for file in files:\n",
    "        if 'csv' not in file:\n",
    "            continue\n",
    "        \n",
    "        if 'features' not in file:\n",
    "            continue\n",
    "        \n",
    "        print(file)\n",
    "        continue\n",
    "        \n",
    "        path_to_file = rootdir + '/' + file\n",
    "        \n",
    "        sess_regex1 = 's\\d*_'\n",
    "        sess_regex2 = 's\\d*-\\d*_'\n",
    "\n",
    "        res1 = re.findall(sess_regex1, file)\n",
    "        res2 = re.findall(sess_regex2, file)\n",
    "\n",
    "        if (res1):\n",
    "            num = res1[0]\n",
    "            num = float(num[1:-1])\n",
    "        else:\n",
    "            num = res2[0]\n",
    "            num = num[1:-1]\n",
    "            num = num.replace('-', '.')\n",
    "            num = float(num)\n",
    "\n",
    "        data = pd.read_csv(path_to_file)\n",
    "        data['session_num'] = num\n",
    "        data['timestamp'] = data['Timestamp']\n",
    "        \n",
    "        data = data[master_cols]\n",
    "        \n",
    "        master = pd.concat([master,data], sort=True)"
   ]
  },
  {
   "cell_type": "code",
   "execution_count": 26,
   "metadata": {},
   "outputs": [],
   "source": [
    "cols = master.columns\n",
    "\n",
    "for i in cols:\n",
    "    if i=='session_num' or i=='timestamp':\n",
    "        continue\n",
    "    \n",
    "    new = 'aff_' + i\n",
    "    master[new] = master[i]\n",
    "    master = master.drop(i, axis=1)"
   ]
  },
  {
   "cell_type": "code",
   "execution_count": 29,
   "metadata": {},
   "outputs": [],
   "source": [
    "out = '../../../../Google Drive File Stream/My Drive/USC Expeditions Year 5/Analysis/Help-Seeking/Data/Affectiva Features/p9_aff_features.csv'\n",
    "\n",
    "master.to_csv(out, index=False)"
   ]
  },
  {
   "cell_type": "code",
   "execution_count": null,
   "metadata": {},
   "outputs": [],
   "source": []
  }
 ],
 "metadata": {
  "kernelspec": {
   "display_name": "Python [conda env:caispp]",
   "language": "python",
   "name": "conda-env-caispp-py"
  },
  "language_info": {
   "codemirror_mode": {
    "name": "ipython",
    "version": 3
   },
   "file_extension": ".py",
   "mimetype": "text/x-python",
   "name": "python",
   "nbconvert_exporter": "python",
   "pygments_lexer": "ipython3",
   "version": "3.5.6"
  }
 },
 "nbformat": 4,
 "nbformat_minor": 2
}
