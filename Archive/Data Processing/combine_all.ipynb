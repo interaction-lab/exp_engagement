{
 "cells": [
  {
   "cell_type": "code",
   "execution_count": 109,
   "metadata": {},
   "outputs": [],
   "source": [
    "import pandas as pd"
   ]
  },
  {
   "cell_type": "code",
   "execution_count": 110,
   "metadata": {},
   "outputs": [],
   "source": [
    "participant = 18\n",
    "p_path = 'p' + str(participant)"
   ]
  },
  {
   "cell_type": "code",
   "execution_count": 111,
   "metadata": {},
   "outputs": [],
   "source": [
    "of_path = '../../../../Google Drive File Stream/My Drive/USC Expeditions Year 5/Analysis/Engagement/Data/Open Face/'+ p_path + '_openface.csv'\n",
    "op_path = '../../../../Google Drive File Stream/My Drive/USC Expeditions Year 5/Analysis/Engagement/Data/Open Pose/'+ p_path + '_openpose.csv'\n",
    "a_path = '../../../../Google Drive File Stream/My Drive/USC Expeditions Year 5/Analysis/Engagement/Data/Audio/'+ p_path + '_audio.csv'\n",
    "ros_path = '../../../../Google Drive File Stream/My Drive/USC Expeditions Year 5/Analysis/Engagement/Data/ROS/'+ p_path + '_ros.csv'\n",
    "e_path = '../../../../Google Drive File Stream/My Drive/USC Expeditions Year 5/Analysis/Engagement/Data/Annotations/'+ p_path + '_engagement.csv'"
   ]
  },
  {
   "cell_type": "code",
   "execution_count": 112,
   "metadata": {},
   "outputs": [],
   "source": [
    "of = pd.read_csv(of_path)\n",
    "op = pd.read_csv(op_path)\n",
    "a = pd.read_csv(a_path)\n",
    "ros = pd.read_csv(ros_path)\n",
    "e = pd.read_csv(e_path)"
   ]
  },
  {
   "cell_type": "code",
   "execution_count": 113,
   "metadata": {},
   "outputs": [],
   "source": [
    "a = a.rename({'session': 'session_num'}, axis='columns')"
   ]
  },
  {
   "cell_type": "code",
   "execution_count": 114,
   "metadata": {},
   "outputs": [],
   "source": [
    "if participant==12:\n",
    "    of.loc[of['session_num']==2, 'session_num'] = 2.2\n",
    "    op.loc[op['session_num']==2, 'session_num'] = 2.2\n",
    "    a.loc[a['session_num']==2, 'session_num'] = 2.2"
   ]
  },
  {
   "cell_type": "code",
   "execution_count": 115,
   "metadata": {},
   "outputs": [],
   "source": [
    "if participant == 17:\n",
    "    e = e.loc[e['session_num']!=1]"
   ]
  },
  {
   "cell_type": "code",
   "execution_count": 116,
   "metadata": {},
   "outputs": [],
   "source": [
    "if participant==11:\n",
    "    a.loc[a['session_num']==16, 'session_num'] = 16.2\n",
    "    a.loc[a['session_num']==22, 'session_num'] = 22.2"
   ]
  },
  {
   "cell_type": "code",
   "execution_count": 117,
   "metadata": {},
   "outputs": [
    {
     "name": "stdout",
     "output_type": "stream",
     "text": [
      "[ 2.  3.  4.  5.  7.  8.  9. 10. 11. 12. 13. 15. 17. 18. 19. 20.]\n",
      "[ 1.  2.  3.  4.  5.  7.  8.  9. 10. 11. 12. 13. 15. 17. 18. 19. 20.]\n",
      "[ 3.  4.  5.  7.  8.  9. 10. 11. 12. 13. 15. 17. 18. 19. 20.]\n",
      "[ 3.  4.  5.  7.  8.  9. 10. 11. 12. 13. 15. 17. 18. 19. 20.]\n",
      "[ 3.  4.  5.  7.  8.  9. 10. 11. 12. 13. 15. 17. 18. 19. 20.]\n"
     ]
    }
   ],
   "source": [
    "# Check Unique Sessions in each:\n",
    "print(of['session_num'].unique())\n",
    "print(op['session_num'].unique())\n",
    "print(a['session_num'].unique())\n",
    "print(ros['session_num'].unique())\n",
    "print((e['session_num'].unique()))"
   ]
  },
  {
   "cell_type": "code",
   "execution_count": 118,
   "metadata": {},
   "outputs": [],
   "source": [
    "# Sort: session_num => timestamp\n",
    "of = of.sort_values(by=['session_num', 'timestamp'])\n",
    "op = op.sort_values(by=['session_num', 'timestamp'])\n",
    "a = a.sort_values(by=['session_num', 'timestamp'])\n",
    "ros = ros.sort_values(by=['session_num', 'timestamp'])\n",
    "e = e.sort_values(by=['session_num', 'timestamp'])\n",
    "\n",
    "of = of.reset_index(drop=True)\n",
    "op = op.reset_index(drop=True)\n",
    "a = a.reset_index(drop=True)\n",
    "ros = ros.reset_index(drop=True)\n",
    "e = e.reset_index(drop=True)"
   ]
  },
  {
   "cell_type": "code",
   "execution_count": 119,
   "metadata": {},
   "outputs": [],
   "source": [
    "# Round: Merging \n",
    "of['timestamp'] = of['timestamp'].round(3)\n",
    "op['timestamp'] = op['timestamp'].round(3)\n",
    "a['timestamp'] = a['timestamp'].round(3)\n",
    "ros['timestamp'] = ros['timestamp'].round(3)\n",
    "e['timestamp'] = e['timestamp'].round(3)\n",
    "\n",
    "of['session_num'] = of['session_num'].round(1)\n",
    "op['session_num'] = op['session_num'].round(1)\n",
    "a['session_num'] = a['session_num'].round(1)\n",
    "ros['session_num'] = ros['session_num'].round(1)\n",
    "e['session_num'] = e['session_num'].round(1)"
   ]
  },
  {
   "cell_type": "code",
   "execution_count": 120,
   "metadata": {},
   "outputs": [],
   "source": [
    "# Temporarily Drop Participant\n",
    "\n",
    "of = of.drop(columns=['participant'])\n",
    "op = op.drop(columns=['participant'])\n",
    "a = a.drop(columns=['participant'])\n",
    "ros = ros.drop(columns=['participant'])\n",
    "e = e.drop(columns=['participant'])"
   ]
  },
  {
   "cell_type": "code",
   "execution_count": 121,
   "metadata": {},
   "outputs": [],
   "source": [
    "# Rename\n",
    "\n",
    "rename = {}\n",
    "for c in of.columns:\n",
    "    if c not in ['timestamp', 'session_num']:\n",
    "        rename[c] = 'of_' + c\n",
    "    else:\n",
    "        rename[c] = c\n",
    "of = of.rename(rename, axis='columns')\n",
    "\n",
    "rename = {}\n",
    "for c in op.columns:\n",
    "    if c not in ['timestamp', 'session_num']:\n",
    "        rename[c] = 'op_' + c\n",
    "    else:\n",
    "        rename[c] = c\n",
    "op = op.rename(rename, axis='columns')\n",
    "\n",
    "# may or may not need this\n",
    "if 'a_mfcc_0' not in a.columns:\n",
    "    rename = {}\n",
    "    for c in a.columns:\n",
    "        if c not in ['timestamp', 'session_num']:\n",
    "            rename[c] = 'a_' + c\n",
    "        else:\n",
    "            rename[c] = c\n",
    "    a = a.rename(rename, axis='columns')\n",
    "\n",
    "rename = {}\n",
    "for c in ros.columns:\n",
    "    if c == 'GAME STATE':\n",
    "        rename[c] = 'ros_GAME_STATE'\n",
    "    elif c == 'PARTICIPANT STATE':\n",
    "        rename[c] = 'ros_PARTICIPANT_STATE'\n",
    "    elif c == 'ROBOT STATE':\n",
    "        rename[c] = 'ros_ROBOT_STATE'\n",
    "    elif c not in ['timestamp', 'session_num']:\n",
    "        rename[c] = 'ros_' + c\n",
    "    else:\n",
    "        rename[c] = c\n",
    "ros = ros.rename(rename, axis='columns')"
   ]
  },
  {
   "cell_type": "code",
   "execution_count": 122,
   "metadata": {},
   "outputs": [],
   "source": [
    "e['participant'] = participant\n",
    "master = pd.merge(e, of, how='left', on=['session_num', 'timestamp'])\n",
    "master = pd.merge(master, op, how='left', on=['session_num', 'timestamp'])\n",
    "master = pd.merge(master, a, how='left', on=['session_num', 'timestamp'])\n",
    "master = pd.merge(master, ros, how='left', on=['session_num', 'timestamp'])"
   ]
  },
  {
   "cell_type": "code",
   "execution_count": 123,
   "metadata": {},
   "outputs": [
    {
     "data": {
      "text/plain": [
       "Index(['session_num', 'timestamp', 'engagement', 'participant', 'of_AU01_c',\n",
       "       'of_AU02_c', 'of_AU04_c', 'of_AU05_c', 'of_AU06_c', 'of_AU07_c',\n",
       "       'of_AU09_c', 'of_AU10_c', 'of_AU12_c', 'of_AU14_c', 'of_AU15_c',\n",
       "       'of_AU17_c', 'of_AU20_c', 'of_AU23_c', 'of_AU25_c', 'of_AU26_c',\n",
       "       'of_AU28_c', 'of_AU45_c', 'of_confidence', 'of_gaze_0_x', 'of_gaze_0_y',\n",
       "       'of_gaze_0_z', 'of_gaze_1_x', 'of_gaze_1_y', 'of_gaze_1_z',\n",
       "       'of_gaze_angle_x', 'of_gaze_angle_y', 'of_gaze_distance',\n",
       "       'of_gaze_distance_x', 'of_gaze_distance_y', 'of_pose_Rx', 'of_pose_Ry',\n",
       "       'of_pose_Rz', 'of_pose_Tx', 'of_pose_Ty', 'of_pose_Tz',\n",
       "       'of_pose_distance', 'of_success', 'op_num_people', 'a_harmonicity',\n",
       "       'a_intensity', 'a_mfcc_0', 'a_mfcc_1', 'a_pitch_frequency',\n",
       "       'a_pitch_strength', 'ros_GAME_STATE', 'ros_PARTICIPANT_STATE',\n",
       "       'ros_ROBOT_STATE', 'ros_activity', 'ros_aptitude', 'ros_diff_1',\n",
       "       'ros_diff_2', 'ros_diff_3', 'ros_diff_4', 'ros_diff_5',\n",
       "       'ros_difficulty', 'ros_game_correct', 'ros_game_incorrect',\n",
       "       'ros_game_start', 'ros_games_session', 'ros_in_game',\n",
       "       'ros_mistake_made', 'ros_mistakes_game', 'ros_mistakes_session',\n",
       "       'ros_skill', 'ros_skill_EM', 'ros_skill_NC', 'ros_skill_OS',\n",
       "       'ros_ts_attempt', 'ros_ts_game_start', 'ros_ts_robot_talked'],\n",
       "      dtype='object')"
      ]
     },
     "execution_count": 123,
     "metadata": {},
     "output_type": "execute_result"
    }
   ],
   "source": [
    "master.columns"
   ]
  },
  {
   "cell_type": "code",
   "execution_count": 124,
   "metadata": {},
   "outputs": [
    {
     "name": "stdout",
     "output_type": "stream",
     "text": [
      "356377\n",
      "378016\n",
      "387034\n",
      "356166\n",
      "335197\n",
      "356377\n",
      "\n",
      "13\n",
      "214\n",
      "0\n"
     ]
    }
   ],
   "source": [
    "# Simple Checks \n",
    "print(len(master))\n",
    "print(len(of))\n",
    "print(len(op))\n",
    "print(len(a))\n",
    "print(len(ros))\n",
    "print(len(e))\n",
    "print()\n",
    "\n",
    "print(master['of_confidence'].isna().sum())\n",
    "print(master['a_mfcc_0'].isna().sum())\n",
    "print(master['engagement'].isna().sum())"
   ]
  },
  {
   "cell_type": "code",
   "execution_count": 125,
   "metadata": {},
   "outputs": [
    {
     "name": "stdout",
     "output_type": "stream",
     "text": [
      "3.0 1320.533 1260.0\n",
      "4.0 796.733 753.0\n",
      "5.0 1039.967 1005.0\n",
      "7.0 648.167 602.967\n",
      "8.0 772.733 723.0\n",
      "9.0 1390.4 1355.0\n",
      "10.0 1043.2 975.0\n",
      "11.0 577.933 531.967\n",
      "12.0 697.8 661.967\n",
      "13.0 620.067 575.967\n",
      "15.0 844.533 796.0\n",
      "17.0 469.533 412.967\n",
      "18.0 464.367 417.967\n",
      "19.0 465.667 422.967\n",
      "20.0 727.1 678.967\n"
     ]
    }
   ],
   "source": [
    "for i in ros['session_num'].unique():\n",
    "    temp1 = master[master['session_num']==i]\n",
    "    temp2 = ros[ros['session_num']==i]\n",
    "    \n",
    "    print(i, max(temp1['timestamp']), max(temp2['timestamp']))"
   ]
  },
  {
   "cell_type": "code",
   "execution_count": 126,
   "metadata": {},
   "outputs": [],
   "source": [
    "o_path = '../../../../Google Drive File Stream/My Drive/USC Expeditions Year 5/Analysis/Engagement/Data/Master/'+ p_path +'_master.csv'\n",
    "master.to_csv(o_path, index=False)"
   ]
  },
  {
   "cell_type": "code",
   "execution_count": null,
   "metadata": {},
   "outputs": [],
   "source": []
  }
 ],
 "metadata": {
  "kernelspec": {
   "display_name": "Python [conda env:caispp]",
   "language": "python",
   "name": "conda-env-caispp-py"
  },
  "language_info": {
   "codemirror_mode": {
    "name": "ipython",
    "version": 3
   },
   "file_extension": ".py",
   "mimetype": "text/x-python",
   "name": "python",
   "nbconvert_exporter": "python",
   "pygments_lexer": "ipython3",
   "version": "3.5.6"
  }
 },
 "nbformat": 4,
 "nbformat_minor": 2
}
