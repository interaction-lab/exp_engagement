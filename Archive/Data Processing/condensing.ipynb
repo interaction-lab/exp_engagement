{
 "cells": [
  {
   "cell_type": "code",
   "execution_count": 121,
   "metadata": {},
   "outputs": [],
   "source": [
    "# Condensing (Smoothing Prep)"
   ]
  },
  {
   "cell_type": "code",
   "execution_count": 122,
   "metadata": {},
   "outputs": [],
   "source": [
    "# Imports\n",
    "\n",
    "import pandas as pd\n",
    "import numpy as np"
   ]
  },
  {
   "cell_type": "code",
   "execution_count": 123,
   "metadata": {},
   "outputs": [
    {
     "name": "stderr",
     "output_type": "stream",
     "text": [
      "/anaconda3/envs/caispp/lib/python3.5/site-packages/IPython/core/interactiveshell.py:2785: DtypeWarning: Columns (49,68) have mixed types. Specify dtype option on import or set low_memory=False.\n",
      "  interactivity=interactivity, compiler=compiler, result=result)\n"
     ]
    }
   ],
   "source": [
    "p_path = 'p18'\n",
    "file = '../../../../Google Drive File Stream/My Drive/USC Expeditions Year 5/Analysis/Engagement/Data/Master/'+p_path+'_master.csv'\n",
    "data = pd.read_csv(file)"
   ]
  },
  {
   "cell_type": "code",
   "execution_count": 124,
   "metadata": {},
   "outputs": [],
   "source": [
    "data = data.sort_values(['session_num', 'timestamp'], ascending=[True, True])"
   ]
  },
  {
   "cell_type": "code",
   "execution_count": 125,
   "metadata": {},
   "outputs": [],
   "source": [
    "orig_len = len(data)"
   ]
  },
  {
   "cell_type": "code",
   "execution_count": 126,
   "metadata": {},
   "outputs": [
    {
     "data": {
      "text/html": [
       "<div>\n",
       "<style scoped>\n",
       "    .dataframe tbody tr th:only-of-type {\n",
       "        vertical-align: middle;\n",
       "    }\n",
       "\n",
       "    .dataframe tbody tr th {\n",
       "        vertical-align: top;\n",
       "    }\n",
       "\n",
       "    .dataframe thead th {\n",
       "        text-align: right;\n",
       "    }\n",
       "</style>\n",
       "<table border=\"1\" class=\"dataframe\">\n",
       "  <thead>\n",
       "    <tr style=\"text-align: right;\">\n",
       "      <th></th>\n",
       "      <th>session_num</th>\n",
       "      <th>timestamp</th>\n",
       "      <th>engagement</th>\n",
       "      <th>participant</th>\n",
       "      <th>of_AU01_c</th>\n",
       "      <th>of_AU02_c</th>\n",
       "      <th>of_AU04_c</th>\n",
       "      <th>of_AU05_c</th>\n",
       "      <th>of_AU06_c</th>\n",
       "      <th>of_AU07_c</th>\n",
       "      <th>...</th>\n",
       "      <th>ros_mistake_made</th>\n",
       "      <th>ros_mistakes_game</th>\n",
       "      <th>ros_mistakes_session</th>\n",
       "      <th>ros_skill</th>\n",
       "      <th>ros_skill_EM</th>\n",
       "      <th>ros_skill_NC</th>\n",
       "      <th>ros_skill_OS</th>\n",
       "      <th>ros_ts_attempt</th>\n",
       "      <th>ros_ts_game_start</th>\n",
       "      <th>ros_ts_robot_talked</th>\n",
       "    </tr>\n",
       "  </thead>\n",
       "  <tbody>\n",
       "    <tr>\n",
       "      <th>0</th>\n",
       "      <td>3.0</td>\n",
       "      <td>0.000</td>\n",
       "      <td>0</td>\n",
       "      <td>18</td>\n",
       "      <td>0.0</td>\n",
       "      <td>0.0</td>\n",
       "      <td>0.0</td>\n",
       "      <td>0.0</td>\n",
       "      <td>0.0</td>\n",
       "      <td>0.0</td>\n",
       "      <td>...</td>\n",
       "      <td>0.0</td>\n",
       "      <td>0.0</td>\n",
       "      <td>0.0</td>\n",
       "      <td>NaN</td>\n",
       "      <td>0.0</td>\n",
       "      <td>0.0</td>\n",
       "      <td>0.0</td>\n",
       "      <td>0.0</td>\n",
       "      <td>0.0</td>\n",
       "      <td>0.00000</td>\n",
       "    </tr>\n",
       "    <tr>\n",
       "      <th>1</th>\n",
       "      <td>3.0</td>\n",
       "      <td>0.033</td>\n",
       "      <td>0</td>\n",
       "      <td>18</td>\n",
       "      <td>0.0</td>\n",
       "      <td>0.0</td>\n",
       "      <td>0.0</td>\n",
       "      <td>0.0</td>\n",
       "      <td>0.0</td>\n",
       "      <td>0.0</td>\n",
       "      <td>...</td>\n",
       "      <td>0.0</td>\n",
       "      <td>0.0</td>\n",
       "      <td>0.0</td>\n",
       "      <td>NaN</td>\n",
       "      <td>0.0</td>\n",
       "      <td>0.0</td>\n",
       "      <td>0.0</td>\n",
       "      <td>0.0</td>\n",
       "      <td>0.0</td>\n",
       "      <td>0.03333</td>\n",
       "    </tr>\n",
       "    <tr>\n",
       "      <th>2</th>\n",
       "      <td>3.0</td>\n",
       "      <td>0.067</td>\n",
       "      <td>0</td>\n",
       "      <td>18</td>\n",
       "      <td>0.0</td>\n",
       "      <td>0.0</td>\n",
       "      <td>0.0</td>\n",
       "      <td>0.0</td>\n",
       "      <td>0.0</td>\n",
       "      <td>0.0</td>\n",
       "      <td>...</td>\n",
       "      <td>0.0</td>\n",
       "      <td>0.0</td>\n",
       "      <td>0.0</td>\n",
       "      <td>NaN</td>\n",
       "      <td>0.0</td>\n",
       "      <td>0.0</td>\n",
       "      <td>0.0</td>\n",
       "      <td>0.0</td>\n",
       "      <td>0.0</td>\n",
       "      <td>0.06667</td>\n",
       "    </tr>\n",
       "    <tr>\n",
       "      <th>3</th>\n",
       "      <td>3.0</td>\n",
       "      <td>0.100</td>\n",
       "      <td>0</td>\n",
       "      <td>18</td>\n",
       "      <td>0.0</td>\n",
       "      <td>0.0</td>\n",
       "      <td>0.0</td>\n",
       "      <td>0.0</td>\n",
       "      <td>0.0</td>\n",
       "      <td>0.0</td>\n",
       "      <td>...</td>\n",
       "      <td>0.0</td>\n",
       "      <td>0.0</td>\n",
       "      <td>0.0</td>\n",
       "      <td>NaN</td>\n",
       "      <td>0.0</td>\n",
       "      <td>0.0</td>\n",
       "      <td>0.0</td>\n",
       "      <td>0.0</td>\n",
       "      <td>0.0</td>\n",
       "      <td>0.10000</td>\n",
       "    </tr>\n",
       "    <tr>\n",
       "      <th>4</th>\n",
       "      <td>3.0</td>\n",
       "      <td>0.133</td>\n",
       "      <td>0</td>\n",
       "      <td>18</td>\n",
       "      <td>0.0</td>\n",
       "      <td>0.0</td>\n",
       "      <td>0.0</td>\n",
       "      <td>0.0</td>\n",
       "      <td>0.0</td>\n",
       "      <td>0.0</td>\n",
       "      <td>...</td>\n",
       "      <td>0.0</td>\n",
       "      <td>0.0</td>\n",
       "      <td>0.0</td>\n",
       "      <td>NaN</td>\n",
       "      <td>0.0</td>\n",
       "      <td>0.0</td>\n",
       "      <td>0.0</td>\n",
       "      <td>0.0</td>\n",
       "      <td>0.0</td>\n",
       "      <td>0.13333</td>\n",
       "    </tr>\n",
       "  </tbody>\n",
       "</table>\n",
       "<p>5 rows × 75 columns</p>\n",
       "</div>"
      ],
      "text/plain": [
       "   session_num  timestamp  engagement  participant  of_AU01_c  of_AU02_c  \\\n",
       "0          3.0      0.000           0           18        0.0        0.0   \n",
       "1          3.0      0.033           0           18        0.0        0.0   \n",
       "2          3.0      0.067           0           18        0.0        0.0   \n",
       "3          3.0      0.100           0           18        0.0        0.0   \n",
       "4          3.0      0.133           0           18        0.0        0.0   \n",
       "\n",
       "   of_AU04_c  of_AU05_c  of_AU06_c  of_AU07_c         ...           \\\n",
       "0        0.0        0.0        0.0        0.0         ...            \n",
       "1        0.0        0.0        0.0        0.0         ...            \n",
       "2        0.0        0.0        0.0        0.0         ...            \n",
       "3        0.0        0.0        0.0        0.0         ...            \n",
       "4        0.0        0.0        0.0        0.0         ...            \n",
       "\n",
       "   ros_mistake_made  ros_mistakes_game  ros_mistakes_session  ros_skill  \\\n",
       "0               0.0                0.0                   0.0        NaN   \n",
       "1               0.0                0.0                   0.0        NaN   \n",
       "2               0.0                0.0                   0.0        NaN   \n",
       "3               0.0                0.0                   0.0        NaN   \n",
       "4               0.0                0.0                   0.0        NaN   \n",
       "\n",
       "   ros_skill_EM  ros_skill_NC  ros_skill_OS  ros_ts_attempt  \\\n",
       "0           0.0           0.0           0.0             0.0   \n",
       "1           0.0           0.0           0.0             0.0   \n",
       "2           0.0           0.0           0.0             0.0   \n",
       "3           0.0           0.0           0.0             0.0   \n",
       "4           0.0           0.0           0.0             0.0   \n",
       "\n",
       "   ros_ts_game_start  ros_ts_robot_talked  \n",
       "0                0.0              0.00000  \n",
       "1                0.0              0.03333  \n",
       "2                0.0              0.06667  \n",
       "3                0.0              0.10000  \n",
       "4                0.0              0.13333  \n",
       "\n",
       "[5 rows x 75 columns]"
      ]
     },
     "execution_count": 126,
     "metadata": {},
     "output_type": "execute_result"
    }
   ],
   "source": [
    "data.head()"
   ]
  },
  {
   "cell_type": "code",
   "execution_count": 127,
   "metadata": {},
   "outputs": [
    {
     "data": {
      "text/plain": [
       "Index(['session_num', 'timestamp', 'engagement', 'participant', 'of_AU01_c',\n",
       "       'of_AU02_c', 'of_AU04_c', 'of_AU05_c', 'of_AU06_c', 'of_AU07_c',\n",
       "       'of_AU09_c', 'of_AU10_c', 'of_AU12_c', 'of_AU14_c', 'of_AU15_c',\n",
       "       'of_AU17_c', 'of_AU20_c', 'of_AU23_c', 'of_AU25_c', 'of_AU26_c',\n",
       "       'of_AU28_c', 'of_AU45_c', 'of_confidence', 'of_gaze_0_x', 'of_gaze_0_y',\n",
       "       'of_gaze_0_z', 'of_gaze_1_x', 'of_gaze_1_y', 'of_gaze_1_z',\n",
       "       'of_gaze_angle_x', 'of_gaze_angle_y', 'of_gaze_distance',\n",
       "       'of_gaze_distance_x', 'of_gaze_distance_y', 'of_pose_Rx', 'of_pose_Ry',\n",
       "       'of_pose_Rz', 'of_pose_Tx', 'of_pose_Ty', 'of_pose_Tz',\n",
       "       'of_pose_distance', 'of_success', 'op_num_people', 'a_harmonicity',\n",
       "       'a_intensity', 'a_mfcc_0', 'a_mfcc_1', 'a_pitch_frequency',\n",
       "       'a_pitch_strength', 'ros_GAME_STATE', 'ros_PARTICIPANT_STATE',\n",
       "       'ros_ROBOT_STATE', 'ros_activity', 'ros_aptitude', 'ros_diff_1',\n",
       "       'ros_diff_2', 'ros_diff_3', 'ros_diff_4', 'ros_diff_5',\n",
       "       'ros_difficulty', 'ros_game_correct', 'ros_game_incorrect',\n",
       "       'ros_game_start', 'ros_games_session', 'ros_in_game',\n",
       "       'ros_mistake_made', 'ros_mistakes_game', 'ros_mistakes_session',\n",
       "       'ros_skill', 'ros_skill_EM', 'ros_skill_NC', 'ros_skill_OS',\n",
       "       'ros_ts_attempt', 'ros_ts_game_start', 'ros_ts_robot_talked'],\n",
       "      dtype='object')"
      ]
     },
     "execution_count": 127,
     "metadata": {},
     "output_type": "execute_result"
    }
   ],
   "source": [
    "data.columns"
   ]
  },
  {
   "cell_type": "markdown",
   "metadata": {},
   "source": [
    "# 1. Remove Beginning of Videos/Sessions"
   ]
  },
  {
   "cell_type": "code",
   "execution_count": 128,
   "metadata": {},
   "outputs": [
    {
     "data": {
      "text/plain": [
       "0.6607581297334003"
      ]
     },
     "execution_count": 128,
     "metadata": {},
     "output_type": "execute_result"
    }
   ],
   "source": [
    "len(data.loc[data['engagement']==1])/len(data)"
   ]
  },
  {
   "cell_type": "code",
   "execution_count": 129,
   "metadata": {},
   "outputs": [],
   "source": [
    "# Remove data @ beginning of each session before first game has been played \n",
    "\n",
    "last_session = -1\n",
    "session_start = -1 \n",
    "track = False\n",
    "\n",
    "# tuples: (session_start, first_game_start)\n",
    "windows_to_remove = [] \n",
    "\n",
    "for i,r in data.iterrows():\n",
    "    # Check if new session started\n",
    "    if last_session != r['session_num']:\n",
    "        session_start = i\n",
    "        last_session = r['session_num']\n",
    "        track = True \n",
    "    \n",
    "    if track:\n",
    "        # check if we've found our first game start! \n",
    "        if r['ros_game_start'] == 1: \n",
    "            windows_to_remove.append((session_start, i))\n",
    "            track = False "
   ]
  },
  {
   "cell_type": "code",
   "execution_count": 130,
   "metadata": {},
   "outputs": [
    {
     "name": "stdout",
     "output_type": "stream",
     "text": [
      "(0, 840)\n",
      "(39617, 39947)\n",
      "(63520, 63790)\n",
      "(94720, 95350)\n",
      "(114166, 114706)\n",
      "(137349, 137979)\n",
      "(179062, 179542)\n",
      "(210359, 210809)\n",
      "(227698, 228058)\n",
      "(248633, 249083)\n",
      "(267236, 268316)\n",
      "(292573, 293053)\n",
      "(306660, 307110)\n",
      "(320592, 320982)\n",
      "(334563, 335013)\n"
     ]
    }
   ],
   "source": [
    "for i in windows_to_remove:\n",
    "    print(i)"
   ]
  },
  {
   "cell_type": "code",
   "execution_count": 131,
   "metadata": {},
   "outputs": [],
   "source": [
    "# Remove data at beginning\n",
    "# Iterate backwards! \n",
    "\n",
    "n = len(windows_to_remove)\n",
    "for i in range(n-1, -1, -1):\n",
    "    rem = windows_to_remove[i]\n",
    "\n",
    "    if (rem[0] == rem[1]):\n",
    "        continue\n",
    "\n",
    "    seg1 = data.loc[:rem[0]-1]\n",
    "    seg2 = data.loc[rem[1]:, :]\n",
    "    data = seg1.append(seg2, sort=True)\n",
    "    \n",
    "data = data.reset_index(drop=True)"
   ]
  },
  {
   "cell_type": "code",
   "execution_count": 132,
   "metadata": {},
   "outputs": [
    {
     "name": "stdout",
     "output_type": "stream",
     "text": [
      "0.021971114858703\n"
     ]
    }
   ],
   "source": [
    "curr_len = len(data)\n",
    "print((orig_len-curr_len)/orig_len)"
   ]
  },
  {
   "cell_type": "code",
   "execution_count": 133,
   "metadata": {},
   "outputs": [
    {
     "name": "stdout",
     "output_type": "stream",
     "text": [
      "3.0 28.0\n",
      "4.0 11.0\n",
      "5.0 9.0\n",
      "7.0 21.0\n",
      "8.0 18.0\n",
      "9.0 21.0\n",
      "10.0 16.0\n",
      "11.0 15.0\n",
      "12.0 12.0\n",
      "13.0 15.0\n",
      "15.0 36.0\n",
      "17.0 16.0\n",
      "18.0 15.0\n",
      "19.0 13.0\n",
      "20.0 15.0\n"
     ]
    }
   ],
   "source": [
    "for i in data['session_num'].unique():\n",
    "    temp = data[data['session_num']==i]\n",
    "    print(i, min(temp['timestamp']))"
   ]
  },
  {
   "cell_type": "markdown",
   "metadata": {},
   "source": [
    "# 2. Remove Ending of Videos/Sessions"
   ]
  },
  {
   "cell_type": "code",
   "execution_count": 134,
   "metadata": {},
   "outputs": [],
   "source": [
    "# Remove data @ end of each session after last game has been played \n",
    "\n",
    "# Iterate Backwards! \n",
    "\n",
    "n = len(data)\n",
    "\n",
    "last_session = -1\n",
    "session_end = -1 \n",
    "track = False\n",
    "\n",
    "# tuples: (last_game_end, session_end)\n",
    "windows_to_remove = [] \n",
    "\n",
    "for i in range(n-1, -1, -1):\n",
    "    sess = data.loc[i, 'session_num']\n",
    "    if last_session != sess:\n",
    "        session_end = i\n",
    "        last_session = sess\n",
    "        track = True\n",
    "    \n",
    "    if track:\n",
    "        # check if we've found end of last game! \n",
    "        if data.loc[i, 'ros_game_correct'] == 1 or data.loc[i, 'ros_game_incorrect'] == 1 or data.loc[i, 'ros_mistake_made'] == 1:\n",
    "            windows_to_remove.append((i, session_end))\n",
    "            track = False"
   ]
  },
  {
   "cell_type": "code",
   "execution_count": 135,
   "metadata": {},
   "outputs": [
    {
     "data": {
      "text/plain": [
       "[(344253, 348546),\n",
       " (323052, 327182),\n",
       " (309450, 313601),\n",
       " (295393, 300119),\n",
       " (282206, 286512),\n",
       " (256853, 262255),\n",
       " (240328, 244102),\n",
       " (219449, 223527),\n",
       " (201772, 206638),\n",
       " (171999, 175821),\n",
       " (130396, 134738),\n",
       " (107590, 112095),\n",
       " (89380, 93279),\n",
       " (58097, 62349),\n",
       " (34200, 38776)]"
      ]
     },
     "execution_count": 135,
     "metadata": {},
     "output_type": "execute_result"
    }
   ],
   "source": [
    "windows_to_remove"
   ]
  },
  {
   "cell_type": "code",
   "execution_count": 136,
   "metadata": {},
   "outputs": [],
   "source": [
    "# Remove data at ending\n",
    "# windows to remove has end sessions first, which is what we want to remove first\n",
    "\n",
    "for rem in windows_to_remove:\n",
    "    if (rem[0] == rem[1]):\n",
    "        continue\n",
    "\n",
    "    seg1 = data.loc[:rem[0]]\n",
    "    seg2 = data.loc[rem[1]+1:, :]\n",
    "    data = seg1.append(seg2, sort=True)\n",
    "    \n",
    "data = data.reset_index(drop=True)"
   ]
  },
  {
   "cell_type": "code",
   "execution_count": 137,
   "metadata": {},
   "outputs": [
    {
     "name": "stdout",
     "output_type": "stream",
     "text": [
      "0.2047045684766413\n"
     ]
    }
   ],
   "source": [
    "curr_len = len(data)\n",
    "print((orig_len-curr_len)/orig_len)"
   ]
  },
  {
   "cell_type": "code",
   "execution_count": 138,
   "metadata": {},
   "outputs": [
    {
     "data": {
      "text/plain": [
       "0.7952954315233587"
      ]
     },
     "execution_count": 138,
     "metadata": {},
     "output_type": "execute_result"
    }
   ],
   "source": [
    "curr_len/orig_len"
   ]
  },
  {
   "cell_type": "code",
   "execution_count": 139,
   "metadata": {},
   "outputs": [
    {
     "name": "stdout",
     "output_type": "stream",
     "text": [
      "3.0 19 28\n",
      "4.0 10 55\n",
      "5.0 15 10\n",
      "7.0 8 18\n",
      "8.0 10 28\n",
      "9.0 21 3\n",
      "10.0 14 41\n",
      "11.0 7 22\n",
      "12.0 9 32\n",
      "13.0 7 20\n",
      "15.0 11 41\n",
      "17.0 5 12\n",
      "18.0 5 26\n",
      "19.0 5 28\n",
      "20.0 9 44\n"
     ]
    }
   ],
   "source": [
    "for i in data['session_num'].unique():\n",
    "    temp = data[data['session_num']==i]\n",
    "    print(i, int(max(temp['timestamp'])/60), int(max(temp['timestamp'])%60))"
   ]
  },
  {
   "cell_type": "code",
   "execution_count": 140,
   "metadata": {},
   "outputs": [],
   "source": [
    "# save pre-smoothing data\n",
    "\n",
    "file = '../../../../Google Drive File Stream/My Drive/USC Expeditions Year 5/Analysis/Engagement/Data/Master2/'+p_path+'_master.csv'\n",
    "data.to_csv(file, index=False)"
   ]
  }
 ],
 "metadata": {
  "kernelspec": {
   "display_name": "Python [conda env:caispp]",
   "language": "python",
   "name": "conda-env-caispp-py"
  },
  "language_info": {
   "codemirror_mode": {
    "name": "ipython",
    "version": 3
   },
   "file_extension": ".py",
   "mimetype": "text/x-python",
   "name": "python",
   "nbconvert_exporter": "python",
   "pygments_lexer": "ipython3",
   "version": "3.5.6"
  }
 },
 "nbformat": 4,
 "nbformat_minor": 2
}
