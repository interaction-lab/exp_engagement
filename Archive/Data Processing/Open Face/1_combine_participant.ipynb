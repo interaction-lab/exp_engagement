{
 "cells": [
  {
   "cell_type": "code",
   "execution_count": 1,
   "metadata": {},
   "outputs": [],
   "source": [
    "# Combine Data Across All Sessions (for a given participant)"
   ]
  },
  {
   "cell_type": "code",
   "execution_count": 2,
   "metadata": {},
   "outputs": [],
   "source": [
    "import pandas as pd\n",
    "import numpy as np\n",
    "from pandas import *\n",
    "from scipy import stats\n",
    "import os\n",
    "import re"
   ]
  },
  {
   "cell_type": "code",
   "execution_count": 3,
   "metadata": {},
   "outputs": [],
   "source": [
    "# get column names & types from sample file"
   ]
  },
  {
   "cell_type": "code",
   "execution_count": 4,
   "metadata": {},
   "outputs": [
    {
     "name": "stderr",
     "output_type": "stream",
     "text": [
      "/anaconda3/envs/caispp/lib/python3.5/site-packages/IPython/core/interactiveshell.py:2785: DtypeWarning: Columns (5,6,7,8,9,16,17,18,19,20,21,22,23) have mixed types. Specify dtype option on import or set low_memory=False.\n",
      "  interactivity=interactivity, compiler=compiler, result=result)\n"
     ]
    }
   ],
   "source": [
    "file = '../../../../Google Drive File Stream/My Drive/USC Expeditions Year 5/Data/All Synchronized/P3_annos/annos_s20_2017-11-08/other_data/Combined_s20_2017-11-08.csv'\n",
    "\n",
    "init_data = pd.read_csv(file)"
   ]
  },
  {
   "cell_type": "code",
   "execution_count": 5,
   "metadata": {},
   "outputs": [],
   "source": [
    "of_op_cols = []\n",
    "\n",
    "for i in init_data.columns:\n",
    "    if 'of' in i or 'op' in i:\n",
    "        of_op_cols.append(i)\n",
    "\n",
    "save_columns = ['engagement', 'timestamp', 'participant', 'session_num', 'session_date', 'activity', 'difficulty', 'ros_ROBOT_STATE', 'ros_PARTICIPANT_STATE', 'transcript_spk_0', 'transcript_spk_1', 'transcript_spk_2']\n",
    "\n",
    "new_columns = ['mistake_made', 'game_incorrect', 'game_correct', 'game_start']\n",
    "\n",
    "master_cols = save_columns + new_columns + of_op_cols"
   ]
  },
  {
   "cell_type": "code",
   "execution_count": 6,
   "metadata": {},
   "outputs": [],
   "source": [
    "master = pd.DataFrame(columns = master_cols)"
   ]
  },
  {
   "cell_type": "markdown",
   "metadata": {},
   "source": [
    "### Precondition Calculations\n",
    "- game start\n",
    "    - new continuous instance of \"game2_act1_inst0\" in ros_ROBOT_STATE\n",
    "- game end (moving on)\n",
    "    - \"Movingon\" in ros_PARTICIPANT_STATE\n",
    "- game end (completed successfully)\n",
    "    - \"GameCompleted\" in ros_PARTICIPANT_STATE\n",
    "- mistake made\n",
    "    - new continuous instance of \"Madeamistake in ros_PARTICIPANT_STATE\""
   ]
  },
  {
   "cell_type": "code",
   "execution_count": 7,
   "metadata": {},
   "outputs": [],
   "source": [
    "curr_sessions = [\n",
    "'s2-1',\n",
    "'s2-2',\n",
    "'s2-3',\n",
    "'s3-1',\n",
    "'s3-2',\n",
    "'s4-2',\n",
    "'s4-3',\n",
    "'s4-4',\n",
    "'s5-1',\n",
    "'s5-2',\n",
    "'s7-1',\n",
    "'s7-2',\n",
    "'s8',\n",
    "'s9'\n",
    "]"
   ]
  },
  {
   "cell_type": "code",
   "execution_count": 8,
   "metadata": {},
   "outputs": [
    {
     "name": "stdout",
     "output_type": "stream",
     "text": [
      "Combined_s17-2_2018-07-28.csv\n"
     ]
    },
    {
     "name": "stderr",
     "output_type": "stream",
     "text": [
      "/anaconda3/envs/caispp/lib/python3.5/site-packages/IPython/core/interactiveshell.py:2785: DtypeWarning: Columns (5,6,7,8,9) have mixed types. Specify dtype option on import or set low_memory=False.\n",
      "  interactivity=interactivity, compiler=compiler, result=result)\n"
     ]
    },
    {
     "name": "stdout",
     "output_type": "stream",
     "text": [
      "(22602, 1553)\n",
      "(0, 1553)\n",
      "Combined_s12-1_2018-07-22.csv\n",
      "(23870, 1553)\n",
      "(22602, 1553)\n",
      "Combined_s22-2_2018-08-06.csv\n"
     ]
    },
    {
     "name": "stderr",
     "output_type": "stream",
     "text": [
      "/anaconda3/envs/caispp/lib/python3.5/site-packages/IPython/core/interactiveshell.py:2785: DtypeWarning: Columns (5,6,8,9) have mixed types. Specify dtype option on import or set low_memory=False.\n",
      "  interactivity=interactivity, compiler=compiler, result=result)\n"
     ]
    },
    {
     "name": "stdout",
     "output_type": "stream",
     "text": [
      "(12008, 1553)\n",
      "(46472, 1553)\n",
      "Combined_s21_2018-08-02.csv\n"
     ]
    },
    {
     "name": "stderr",
     "output_type": "stream",
     "text": [
      "/anaconda3/envs/caispp/lib/python3.5/site-packages/IPython/core/interactiveshell.py:2785: DtypeWarning: Columns (5,6,7,8,9,136,137,138,139,140,141,142,143,144,145,146,147,148,149,150,151,152,153,154,155,156,157,158,159,160,161,162,163,164,165,166,167,168,169,170,171,172,173,174,175,176,177,178,179,180,181,182,183,184,185,186,187,188,189,190,191,192,193,194,195,196,197,198,199,200,201,202,203,204,205,206,207,208,209,210,211,212,213,214,215,216,217,218,219,220,221,222,223,224,225,226,227,228,229,230,231,232,233,234,235,236,237,238,239,240,241,242,243,244,245,246,247,248,249,250,251,252,253,254,255,256,257,258,259,260,261,262,263,264,265,266,267,268,269,270,271,272,273,274,275,276,277,278,279,280,281,282,283,284,285,286,287,288,289,290,291,292,293,294,295,296,297,298,299,300,301,302,303,304,305,306,307,308,309,310,311,312,313,314,315,316,317,318,319,320,321,322,323,324,325,326,327,328,329,330,331,332,333,334,335,336,337,338,339,340,341,342,343,344,345,346,347,348,349,350,351,352,353,354,355,356,357,358,359,360,361,362,363,364,365,366,367,368,369,370,371,372,373,374,375,376,377,378,379,380,381,382,383,384,385,386,387,388,389,390,391,392,393,394,395,396,397,398,399,400,401,402,403,404,405,406,407,408,409,410,411,412,413,414,415,416,417,418,419,420,421,422,423,424,425,426,427,428,429,430,431,432,433,434,435,436,437,438,439,440,441,442,443,444,445,446,447,448,449,450,451,452,453,454,455,456,457,458,459,460,461,462,463,464,465,466,467,468,469,470,471,472,473,474,475,476,477,478,479,480,481,482,483,484,485,486,487,488,489,490,491,492,493,494,495,496,497,498,499,500,501,502,503,504,505,506,507,508,509,510,511,512,513,514,515,516,517,518,519,520,521,522,523,524,525,526,527,528,529,530,531,532,533,534,535,536,537,538,539,540,541,542,543,544,545,546,547,548,549,550,551,552,553,554,555,556,557,558,559,560,561,562,563,564,565,566,567,568,569,570,571,572,573,574,575,576,577,578,579,580,581,582,583,584,585,586,587,588,589,590,591,592,593,594,595,596,597,598,599,600,601,602,603,604,605,606,607,608,609,610,611,612,613,614,615,616,617,618,619,620,621,622,623,624,625,626,627,628,629,630,631,632,633,634,635,636,637,638,639,640,641,642,643,644,645,646,647,648,649,650,654,655,656,657,658,659,660,661,662,663,664,665,666,667,668,669,670,671,672,673,674,675,676,677,678,679,680,681,682,683,684,685,686,687,688,689) have mixed types. Specify dtype option on import or set low_memory=False.\n",
      "  interactivity=interactivity, compiler=compiler, result=result)\n"
     ]
    },
    {
     "name": "stdout",
     "output_type": "stream",
     "text": [
      "(47496, 1553)\n",
      "(58480, 1553)\n",
      "Combined_s20-3_2018-08-01.csv\n",
      "(42590, 1553)\n",
      "(105976, 1553)\n",
      "Combined_s19_2018-07-31.csv\n"
     ]
    },
    {
     "name": "stderr",
     "output_type": "stream",
     "text": [
      "/anaconda3/envs/caispp/lib/python3.5/site-packages/IPython/core/interactiveshell.py:2785: DtypeWarning: Columns (5,6,7,8,135,136,137,138,139,140,141,142,143,144,145,146,147,148,149,150,151,152,153,154,155,156,157,158,159,160,161,162,163,164,165,166,167,168,169,170,171,172,173,174,175,176,177,178,179,180,181,182,183,184,185,186,187,188,189,190,191,192,193,194,195,196,197,198,199,200,201,202,203,204,205,206,207,208,209,210,211,212,213,214,215,216,217,218,219,220,221,222,223,224,225,226,227,228,229,230,231,232,233,234,235,236,237,238,239,240,241,242,243,244,245,246,247,248,249,250,251,252,253,254,255,256,257,258,259,260,261,262,263,264,265,266,267,268,269,270,271,272,273,274,275,276,277,278,279,280,281,282,283,284,285,286,287,288,289,290,291,292,293,294,295,296,297,298,299,300,301,302,303,304,305,306,307,308,309,310,311,312,313,314,315,316,317,318,319,320,321,322,323,324,325,326,327,328,329,330,331,332,333,334,335,336,337,338,339,340,341,342,343,344,345,346,347,348,349,350,351,352,353,354,355,356,357,358,359,360,361,362,363,364,365,366,367,368,369,370,371,372,373,374,375,376,377,378,379,380,381,382,383,384,385,386,387,388,389,390,391,392,393,394,395,396,397,398,399,400,401,402,403,404,405,406,407,408,409,410,411,412,413,414,415,416,417,418,419,420,421,422,423,424,425,426,427,428,429,430,431,432,433,434,435,436,437,438,439,440,441,442,443,444,445,446,447,448,449,450,451,452,453,454,455,456,457,458,459,460,461,462,463,464,465,466,467,468,469,470,471,472,473,474,475,476,477,478,479,480,481,482,483,484,485,486,487,488,489,490,491,492,493,494,495,496,497,498,499,500,501,502,503,504,505,506,507,508,509,510,511,512,513,514,515,516,517,518,519,520,521,522,523,524,525,526,527,528,529,530,531,532,533,534,535,536,537,538,539,540,541,542,543,544,545,546,547,548,549,550,551,552,553,554,555,556,557,558,559,560,561,562,563,564,565,566,567,568,569,570,571,572,573,574,575,576,577,578,579,580,581,582,583,584,585,586,587,588,589,590,591,592,593,594,595,596,597,598,599,600,601,602,603,604,605,606,607,608,609,610,611,612,613,614,615,616,617,618,619,620,621,622,623,624,625,626,627,628,629,630,631,632,633,634,635,636,637,638,639,640,641,642,643,644,645,646,647,648,649,653,654,655,656,657,658,659,660,661,662,663,664,665,666,667,668,669,670,671,672,673,674,675,676,677,678,679,680,681,682,683,684,685,686,687,688) have mixed types. Specify dtype option on import or set low_memory=False.\n",
      "  interactivity=interactivity, compiler=compiler, result=result)\n"
     ]
    },
    {
     "name": "stdout",
     "output_type": "stream",
     "text": [
      "(22367, 1552)\n",
      "(148566, 1553)\n",
      "Combined_s18-3_2018-07-29.csv\n"
     ]
    },
    {
     "name": "stderr",
     "output_type": "stream",
     "text": [
      "/anaconda3/envs/caispp/lib/python3.5/site-packages/IPython/core/interactiveshell.py:2785: DtypeWarning: Columns (5,6,7) have mixed types. Specify dtype option on import or set low_memory=False.\n",
      "  interactivity=interactivity, compiler=compiler, result=result)\n"
     ]
    },
    {
     "name": "stdout",
     "output_type": "stream",
     "text": [
      "(5217, 1551)\n",
      "(170933, 1553)\n",
      "Combined_s18-2_2018-07-29.csv\n",
      "(3784, 1553)\n",
      "(176150, 1553)\n",
      "Combined_s17-1_2018-07-28.csv\n",
      "(21702, 1553)\n",
      "(179934, 1553)\n",
      "Combined_s16_2018-07-26.csv\n"
     ]
    },
    {
     "name": "stderr",
     "output_type": "stream",
     "text": [
      "/anaconda3/envs/caispp/lib/python3.5/site-packages/IPython/core/interactiveshell.py:2785: DtypeWarning: Columns (5,6,7,9) have mixed types. Specify dtype option on import or set low_memory=False.\n",
      "  interactivity=interactivity, compiler=compiler, result=result)\n"
     ]
    },
    {
     "name": "stdout",
     "output_type": "stream",
     "text": [
      "(25390, 1553)\n",
      "(201636, 1553)\n",
      "Combined_s15-2_2018-07-25.csv\n"
     ]
    },
    {
     "name": "stderr",
     "output_type": "stream",
     "text": [
      "/anaconda3/envs/caispp/lib/python3.5/site-packages/IPython/core/interactiveshell.py:2785: DtypeWarning: Columns (5,6,7,8,9,10) have mixed types. Specify dtype option on import or set low_memory=False.\n",
      "  interactivity=interactivity, compiler=compiler, result=result)\n"
     ]
    },
    {
     "name": "stdout",
     "output_type": "stream",
     "text": [
      "(24931, 1553)\n",
      "(227026, 1553)\n",
      "Combined_s15-1_2018-07-25.csv\n"
     ]
    },
    {
     "name": "stderr",
     "output_type": "stream",
     "text": [
      "/anaconda3/envs/caispp/lib/python3.5/site-packages/IPython/core/interactiveshell.py:2785: DtypeWarning: Columns (2,5,6,7,8,9) have mixed types. Specify dtype option on import or set low_memory=False.\n",
      "  interactivity=interactivity, compiler=compiler, result=result)\n"
     ]
    },
    {
     "name": "stdout",
     "output_type": "stream",
     "text": [
      "(25719, 1553)\n",
      "(251957, 1553)\n",
      "Combined_s14-2_2018-07-24.csv\n",
      "(23068, 1553)\n",
      "(277676, 1553)\n",
      "Combined_s13_2018-07-23.csv\n",
      "(20827, 1553)\n",
      "(300744, 1553)\n",
      "Combined_s12-2_2018-07-22.csv\n",
      "(47513, 1553)\n",
      "(321571, 1553)\n",
      "Combined_s11_2018-07-21.csv\n",
      "(48088, 1553)\n",
      "(369084, 1553)\n",
      "Combined_s10-3_2018-07-18.csv\n"
     ]
    },
    {
     "name": "stderr",
     "output_type": "stream",
     "text": [
      "/anaconda3/envs/caispp/lib/python3.5/site-packages/IPython/core/interactiveshell.py:2785: DtypeWarning: Columns (2,5,6) have mixed types. Specify dtype option on import or set low_memory=False.\n",
      "  interactivity=interactivity, compiler=compiler, result=result)\n"
     ]
    },
    {
     "name": "stdout",
     "output_type": "stream",
     "text": [
      "(45192, 1550)\n",
      "(417172, 1553)\n",
      "Combined_s10-1_2018-07-18.csv\n",
      "(14917, 1553)\n",
      "(462364, 1553)\n"
     ]
    }
   ],
   "source": [
    "rootdir = '../../../../Google Drive File Stream/My Drive/USC Expeditions Year 5/Data/All Synchronized/P10_annos'\n",
    "\n",
    "for subdir, dirs, files in os.walk(rootdir):\n",
    "    for file in files:\n",
    "        if 's2-3_2018-07-08.csv' in file:\n",
    "            continue\n",
    "        \n",
    "        found = False\n",
    "        for i in curr_sessions:\n",
    "            if i in file:\n",
    "                found = True\n",
    "        \n",
    "        if found:\n",
    "            continue\n",
    "            \n",
    "        if 'Combined' in file: #one of the files to process\n",
    "            print(file)\n",
    "                        \n",
    "            path_to_file = subdir + '/' + file\n",
    "            data = pd.read_csv(path_to_file)\n",
    "            \n",
    "            new_columns = ['mistake_made', 'game_incorrect', 'game_correct', 'game_start', 'session_date', 'session_num']\n",
    "\n",
    "            for c in new_columns:\n",
    "                if c != 'session_date':\n",
    "                    data[c] = 0.0\n",
    "                else:\n",
    "                    data[c] = ''\n",
    "            \n",
    "            for i,r in data.iterrows():\n",
    "                ros_robot = r['ros_ROBOT_STATE']\n",
    "                ros_participant = r['ros_PARTICIPANT_STATE']\n",
    "\n",
    "                # new continuous instance in ros_ROBOT_STATE \n",
    "                if (isinstance(ros_robot, str)) and ((i==0) or (data.at[i-1, 'ros_ROBOT_STATE'] != ros_robot)): \n",
    "                    # new game_start\n",
    "                    if ('game' in ros_robot) and ('act' in ros_robot) and  ('inst' in ros_robot):\n",
    "                        data.at[i, 'game_start'] = 1\n",
    "\n",
    "                # new continuous instance in ros_PARTICIPANT_STATE\n",
    "                if (isinstance(ros_participant, str)) and ((i==0) or (data.at[i-1, 'ros_PARTICIPANT_STATE'] != ros_participant)):\n",
    "                    # new game correct \n",
    "                    if ('GameCompleted' in ros_participant):\n",
    "                        data.at[i, 'game_correct'] = 1\n",
    "\n",
    "                    # new game incorrect\n",
    "                    if ('Movingon' in ros_participant):\n",
    "                        data.at[i, 'game_incorrect'] = 1\n",
    "\n",
    "                    # mistake made\n",
    "                    if ('Madeamistake' in ros_participant):\n",
    "                        data.at[i, 'mistake_made'] = 1\n",
    "                        \n",
    "                # extract session num and date\n",
    "                session = r['session']\n",
    "                nan_indices = []\n",
    "                \n",
    "                if (isinstance(session, str)):\n",
    "                    date_regex = '201\\d-\\d\\d-\\d\\d'\n",
    "                    date = re.findall(date_regex, session)[0]\n",
    "\n",
    "                    sess_regex1 = 's\\d*_'\n",
    "                    sess_regex2 = 's\\d*-\\d*_'\n",
    "\n",
    "                    res1 = re.findall(sess_regex1, session)\n",
    "                    res2 = re.findall(sess_regex2, session)\n",
    "\n",
    "                    if (res1):\n",
    "                        num = res1[0]\n",
    "                        num = float(num[1:-1])\n",
    "                    else:\n",
    "                        num = res2[0]\n",
    "                        num = num[1:-1]\n",
    "                        num = num.replace('-', '.')\n",
    "                        num = float(num)\n",
    "\n",
    "                    data.at[i, 'session_num'] = num\n",
    "                    data.at[i, 'session_date'] = date\n",
    "                else:\n",
    "                    nan_indices.append(i)\n",
    "            \n",
    "            data = data.drop(data.index[nan_indices])\n",
    "            data = data.drop(columns=['session'])\n",
    "            \n",
    "            data['timestamp'] = data['Timestamp']\n",
    "            data = data.drop(columns=['Timestamp'])\n",
    "            \n",
    "            print(data.shape)\n",
    "            print(master.shape)\n",
    "            \n",
    "            try:\n",
    "                master = pd.concat([master,data], sort=True)\n",
    "            except:\n",
    "                print('error with this file', file)\n",
    "                continue"
   ]
  },
  {
   "cell_type": "code",
   "execution_count": 9,
   "metadata": {},
   "outputs": [
    {
     "data": {
      "text/plain": [
       "Index(['participant', 'activity', 'difficulty', 'ros_ROBOT_STATE',\n",
       "       'ros_PARTICIPANT_STATE', 'transcript_spk_1', 'transcript_spk_2',\n",
       "       'transcript_spk_0', 'engagement', 'of_frame',\n",
       "       ...\n",
       "       'op_p2_hand_right_x20', 'op_p2_hand_right_y20', 'op_p2_hand_right_c20',\n",
       "       'mistake_made', 'game_incorrect', 'game_correct', 'game_start',\n",
       "       'session_date', 'session_num', 'timestamp'],\n",
       "      dtype='object', length=1553)"
      ]
     },
     "execution_count": 9,
     "metadata": {},
     "output_type": "execute_result"
    }
   ],
   "source": [
    "data.columns"
   ]
  },
  {
   "cell_type": "code",
   "execution_count": 10,
   "metadata": {},
   "outputs": [
    {
     "data": {
      "text/plain": [
       "(477281, 1553)"
      ]
     },
     "execution_count": 10,
     "metadata": {},
     "output_type": "execute_result"
    }
   ],
   "source": [
    "master.shape"
   ]
  },
  {
   "cell_type": "code",
   "execution_count": 11,
   "metadata": {},
   "outputs": [
    {
     "data": {
      "text/plain": [
       "Index(['activity', 'difficulty', 'engagement', 'game_correct',\n",
       "       'game_incorrect', 'game_start', 'mistake_made', 'of_AU01_c',\n",
       "       'of_AU01_r', 'of_AU02_c',\n",
       "       ...\n",
       "       'op_p2_pose_y9', 'participant', 'ros_PARTICIPANT_STATE',\n",
       "       'ros_ROBOT_STATE', 'session_date', 'session_num', 'timestamp',\n",
       "       'transcript_spk_0', 'transcript_spk_1', 'transcript_spk_2'],\n",
       "      dtype='object', length=1553)"
      ]
     },
     "execution_count": 11,
     "metadata": {},
     "output_type": "execute_result"
    }
   ],
   "source": [
    "master.columns"
   ]
  },
  {
   "cell_type": "code",
   "execution_count": 12,
   "metadata": {},
   "outputs": [],
   "source": [
    "path_data = '../../../../Google Drive File Stream/My Drive/USC Expeditions Year 5/Analysis/Help-Seeking/Data/p10_data1-2.csv'\n",
    "\n",
    "master.to_csv(path_data, index=False)"
   ]
  },
  {
   "cell_type": "code",
   "execution_count": null,
   "metadata": {},
   "outputs": [],
   "source": []
  }
 ],
 "metadata": {
  "kernelspec": {
   "display_name": "Python [conda env:caispp]",
   "language": "python",
   "name": "conda-env-caispp-py"
  },
  "language_info": {
   "codemirror_mode": {
    "name": "ipython",
    "version": 3
   },
   "file_extension": ".py",
   "mimetype": "text/x-python",
   "name": "python",
   "nbconvert_exporter": "python",
   "pygments_lexer": "ipython3",
   "version": "3.5.6"
  }
 },
 "nbformat": 4,
 "nbformat_minor": 2
}
