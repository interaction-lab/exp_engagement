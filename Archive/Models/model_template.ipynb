{
 "cells": [
  {
   "cell_type": "code",
   "execution_count": 1,
   "metadata": {},
   "outputs": [],
   "source": [
    "# Model Template: Engagement -- P5, P7, P8, P9"
   ]
  },
  {
   "cell_type": "code",
   "execution_count": 2,
   "metadata": {},
   "outputs": [],
   "source": [
    "import pandas as pd\n",
    "import numpy as np\n",
    "from sklearn.model_selection import train_test_split\n",
    "from sklearn.metrics import roc_auc_score\n",
    "from sklearn.metrics import roc_auc_score\n",
    "from sklearn.metrics import accuracy_score\n",
    "from sklearn import metrics"
   ]
  },
  {
   "cell_type": "markdown",
   "metadata": {},
   "source": [
    "# 1 -- Load, Choose Dataset"
   ]
  },
  {
   "cell_type": "markdown",
   "metadata": {},
   "source": [
    "### Choose Datasets: Regular, Smoothed, Windowed"
   ]
  },
  {
   "cell_type": "code",
   "execution_count": 3,
   "metadata": {},
   "outputs": [],
   "source": [
    "# Regular Data: All Frames, No Smoothing \n",
    "# p5_file = '../../../../Google Drive File Stream/My Drive/USC Expeditions Year 5/Analysis/Engagement/Data/Master/p5_master.csv'\n",
    "# p7_file = '../../../../Google Drive File Stream/My Drive/USC Expeditions Year 5/Analysis/Engagement/Data/Master/p7_master.csv'\n",
    "# p8_file = '../../../../Google Drive File Stream/My Drive/USC Expeditions Year 5/Analysis/Engagement/Data/Master/p8_master.csv'\n",
    "# p9_file = '../../../../Google Drive File Stream/My Drive/USC Expeditions Year 5/Analysis/Engagement/Data/Master/p9_master.csv'\n",
    "\n",
    "# Smoothed Data: All Frames, Smoothing of Open Face Features \n",
    "p5_file = '../../../../Google Drive File Stream/My Drive/USC Expeditions Year 5/Analysis/Engagement/Data/Master_Smooth/p5_master_smooth.csv'\n",
    "p7_file = '../../../../Google Drive File Stream/My Drive/USC Expeditions Year 5/Analysis/Engagement/Data/Master_Smooth/p7_master_smooth.csv'\n",
    "p8_file = '../../../../Google Drive File Stream/My Drive/USC Expeditions Year 5/Analysis/Engagement/Data/Master_Smooth/p8_master_smooth.csv'\n",
    "p9_file = '../../../../Google Drive File Stream/My Drive/USC Expeditions Year 5/Analysis/Engagement/Data/Master_Smooth/p9_master_smooth.csv'\n",
    "\n",
    "# Windowed Data: 1 Second Overlapping Windows, Feature Median + Variance in Window \n",
    "# p5_file = '../../../../Google Drive File Stream/My Drive/USC Expeditions Year 5/Analysis/Engagement/Data/Master_Window/p5_master_window.csv'\n",
    "# p7_file = '../../../../Google Drive File Stream/My Drive/USC Expeditions Year 5/Analysis/Engagement/Data/Master_Window/p7_master_window.csv'\n",
    "# p8_file = '../../../../Google Drive File Stream/My Drive/USC Expeditions Year 5/Analysis/Engagement/Data/Master_Window/p8_master_window.csv'\n",
    "# p9_file = '../../../../Google Drive File Stream/My Drive/USC Expeditions Year 5/Analysis/Engagement/Data/Master_Window/p9_master_window.csv'\n",
    "\n",
    "data5 = pd.read_csv(p5_file)\n",
    "data7 = pd.read_csv(p7_file)\n",
    "data8 = pd.read_csv(p8_file)\n",
    "data9 = pd.read_csv(p9_file)"
   ]
  },
  {
   "cell_type": "code",
   "execution_count": 4,
   "metadata": {},
   "outputs": [],
   "source": [
    "data = [data5, data7, data8, data9]\n",
    "part = [5, 7, 8, 9]"
   ]
  },
  {
   "cell_type": "markdown",
   "metadata": {},
   "source": [
    "# 2 -- Choose Feature Set"
   ]
  },
  {
   "cell_type": "markdown",
   "metadata": {},
   "source": [
    "Feature Dictionary: https://docs.google.com/spreadsheets/d/1ewoVPHwW68Ins0AOVZf-0lsl_wW0_ZzuByuDiNJETBY/edit?usp=sharing"
   ]
  },
  {
   "cell_type": "markdown",
   "metadata": {},
   "source": [
    "### Data Overview"
   ]
  },
  {
   "cell_type": "code",
   "execution_count": 5,
   "metadata": {},
   "outputs": [
    {
     "name": "stdout",
     "output_type": "stream",
     "text": [
      "engagement\n",
      "participant\n",
      "session_num\n",
      "timestamp\n"
     ]
    }
   ],
   "source": [
    "# Main Columns\n",
    "basic_cols = []\n",
    "for i in data[0].columns:\n",
    "    if 'of_' not in i and 'op_' not in i and 'p_' not in i and 'a_' not in i:\n",
    "        basic_cols.append(i)\n",
    "        \n",
    "basic_cols = sorted(basic_cols)\n",
    "for i in basic_cols:\n",
    "    print(i)"
   ]
  },
  {
   "cell_type": "code",
   "execution_count": 6,
   "metadata": {},
   "outputs": [
    {
     "name": "stdout",
     "output_type": "stream",
     "text": [
      "of_AU01_c\n",
      "of_AU02_c\n",
      "of_AU04_c\n",
      "of_AU05_c\n",
      "of_AU06_c\n",
      "of_AU07_c\n",
      "of_AU09_c\n",
      "of_AU10_c\n",
      "of_AU12_c\n",
      "of_AU14_c\n",
      "of_AU15_c\n",
      "of_AU17_c\n",
      "of_AU20_c\n",
      "of_AU23_c\n",
      "of_AU25_c\n",
      "of_AU26_c\n",
      "of_AU28_c\n",
      "of_AU45_c\n",
      "of_confidence\n",
      "of_gaze_0_x\n",
      "of_gaze_0_y\n",
      "of_gaze_0_z\n",
      "of_gaze_1_x\n",
      "of_gaze_1_y\n",
      "of_gaze_1_z\n",
      "of_gaze_angle_x\n",
      "of_gaze_angle_y\n",
      "of_gaze_distance\n",
      "of_pose_Rx\n",
      "of_pose_Ry\n",
      "of_pose_Rz\n",
      "of_pose_Tx\n",
      "of_pose_Ty\n",
      "of_pose_Tz\n",
      "of_pose_distance\n",
      "of_success\n",
      "of_ts_success\n"
     ]
    }
   ],
   "source": [
    "# Open Face Columns\n",
    "\n",
    "of_cols = []\n",
    "for i in data[0].columns:\n",
    "    if 'of_' in i:\n",
    "        of_cols.append(i)\n",
    "        \n",
    "of_cols = sorted(of_cols)\n",
    "for i in of_cols:\n",
    "    print(i)"
   ]
  },
  {
   "cell_type": "code",
   "execution_count": 7,
   "metadata": {},
   "outputs": [
    {
     "name": "stdout",
     "output_type": "stream",
     "text": [
      "a_harmonicity\n",
      "a_intensity\n",
      "a_mfcc_0\n",
      "a_mfcc_1\n",
      "a_pitch_frequency\n",
      "a_pitch_strength\n"
     ]
    }
   ],
   "source": [
    "# Audio Columns\n",
    "\n",
    "a_cols = []\n",
    "for i in data[0].columns:\n",
    "    if 'a_' in i:\n",
    "        a_cols.append(i)\n",
    "        \n",
    "a_cols = sorted(a_cols)\n",
    "for i in a_cols:\n",
    "    print(i)"
   ]
  },
  {
   "cell_type": "code",
   "execution_count": 8,
   "metadata": {},
   "outputs": [
    {
     "name": "stdout",
     "output_type": "stream",
     "text": [
      "p_aptitude\n",
      "p_diff_1\n",
      "p_diff_2\n",
      "p_diff_3\n",
      "p_diff_4\n",
      "p_diff_5\n",
      "p_games_session\n",
      "p_games_total\n",
      "p_mistakes_game\n",
      "p_mistakes_session\n",
      "p_mistakes_total\n",
      "p_no_game\n",
      "p_skill_EM\n",
      "p_skill_NC\n",
      "p_skill_OS\n",
      "p_ts_attempt\n",
      "p_ts_game_played\n",
      "p_ts_game_start\n",
      "p_ts_robot_talked\n"
     ]
    }
   ],
   "source": [
    "# Performance Columns\n",
    "\n",
    "p_cols = []\n",
    "for i in data[0].columns:\n",
    "    if 'p_' in i and 'op_' not in i:\n",
    "        p_cols.append(i)\n",
    "        \n",
    "p_cols = sorted(p_cols)\n",
    "for i in p_cols:\n",
    "    print(i)"
   ]
  },
  {
   "cell_type": "code",
   "execution_count": 9,
   "metadata": {},
   "outputs": [],
   "source": [
    "# For Window Only:\n",
    "non_window_features = []\n",
    "window_features = []\n",
    "for i in data[0].columns:\n",
    "    if i not in basic_cols:\n",
    "        if 'change' in i or 'var' in i:\n",
    "            window_features.append(i)\n",
    "        else:\n",
    "            non_window_features.append(i)\n",
    "        \n",
    "window_features = sorted(window_features)\n",
    "for i in window_features:\n",
    "    print(i)"
   ]
  },
  {
   "cell_type": "markdown",
   "metadata": {},
   "source": [
    "### Filter Feature Set (Optional)"
   ]
  },
  {
   "cell_type": "code",
   "execution_count": 10,
   "metadata": {},
   "outputs": [],
   "source": [
    "# features_to_keep = data[0].columns\n",
    "\n",
    "# always include basic_cols, add desired group of features \n",
    "# features_to_keep = basic_cols + of_cols + p_cols + a_cols\n",
    "\n",
    "# for i,d in enumerate(data):\n",
    "#    data[i] = d[features_to_keep]"
   ]
  },
  {
   "cell_type": "markdown",
   "metadata": {},
   "source": [
    "# 3 -- Train-Test Split"
   ]
  },
  {
   "cell_type": "code",
   "execution_count": 11,
   "metadata": {},
   "outputs": [],
   "source": [
    "# Helper Function: Split a Participant's Data Chronologically \n",
    "\n",
    "def part_split(split, split_size):\n",
    "    split = split.sort_values(['session_num', 'timestamp'], ascending=[True, True])\n",
    "    bogus = split['engagement']\n",
    "\n",
    "    split_train, split_test, bogus1, bogus2 = train_test_split(split, bogus, test_size=split_size, shuffle=False)\n",
    "    return split_train, split_test"
   ]
  },
  {
   "cell_type": "code",
   "execution_count": 12,
   "metadata": {},
   "outputs": [],
   "source": [
    "# Function: Formulate Train-Test Split \n",
    "\n",
    "# train_part: an array of participants \n",
    "# test_part: single participant\n",
    "# split_size: how much of test_part data to use for testing\n",
    "def split(train_part, test_part, split_size):\n",
    "    train_data = []\n",
    "    for p in train_part:\n",
    "        i = part.index(p)\n",
    "        train_data.append(data[i])\n",
    "    \n",
    "    i = part.index(test_part)\n",
    "    test_data = data[i]\n",
    "    if split_size < 1:\n",
    "        split_train, test_data = part_split(test_data, split_size)\n",
    "        train_data.append(split_train)\n",
    "    \n",
    "    train_data = pd.concat(train_data, ignore_index=True, sort=True)\n",
    "    \n",
    "    return train_data, test_data"
   ]
  },
  {
   "cell_type": "code",
   "execution_count": 13,
   "metadata": {},
   "outputs": [],
   "source": [
    "# Train-Test Split\n",
    "\n",
    "# Excluding Participant 8\n",
    "perc = 1\n",
    "# train, test = split(train_part=[5,7], test_part=9, split_size=perc)\n",
    "train, test = split(train_part=[5,9], test_part=7, split_size=perc)\n",
    "# train, test = split(train_part=[7,9], test_part=5, split_size=perc)\n",
    "\n",
    "# Individualized\n",
    "# perc = 0.7\n",
    "# train, test = split(train_part=[], test_part=7, split_size=perc)\n",
    "# train, test = split(train_part=[], test_part=5, split_size=perc)\n",
    "# train, test = split(train_part=[], test_part=9, split_size=perc)\n",
    "# train, test = split(train_part=[], test_part=8, split_size=perc)"
   ]
  },
  {
   "cell_type": "markdown",
   "metadata": {},
   "source": [
    "# 4 -- Scenario Based Modeling"
   ]
  },
  {
   "cell_type": "markdown",
   "metadata": {},
   "source": [
    "- During Game / Outside of Game\n",
    "- Open Face Success / Failure\n",
    "- Robot Talking / Not Talking\n",
    "- First 10 Minutes / After 10 Minutes"
   ]
  },
  {
   "cell_type": "code",
   "execution_count": null,
   "metadata": {},
   "outputs": [],
   "source": [
    "# Create Separate Models for Different Scenarios\n",
    "\n",
    "# # Outside of Game\n",
    "# train = train.loc[train['no_game']==1]\n",
    "# test = test.loc[test['no_game']==1]\n",
    "\n",
    "# # During Game\n",
    "# train = train.loc[train['no_game']==0]\n",
    "# test = test.loc[test['no_game']==0]\n",
    "\n",
    "# # Open Face Success\n",
    "# train = train.loc[train['of_success']==1]\n",
    "# test = test.loc[test['of_success']==1]\n",
    "\n",
    "# # Open Face Failure\n",
    "# train = train.loc[train['of_success']==0]\n",
    "# test = test.loc[test['of_success']==0]\n",
    "\n",
    "# # Robot Talking\n",
    "# train = train.loc[train['p_ts_robot_talked']==0]\n",
    "# test = test.loc[test['p_ts_robot_talked']==0]\n",
    "\n",
    "# # Robot Not Talking\n",
    "# train = train.loc[train['p_ts_robot_talked']>0]\n",
    "# test = test.loc[test['p_ts_robot_talked']>0]\n",
    "\n",
    "# # First 10 Minutes of Session\n",
    "# train = train.loc[train['timestamp']<=(10*60)]\n",
    "# test = test.loc[test['timestamp']<=(10*60)]\n",
    "\n",
    "# # After first 10 Minutes of Session\n",
    "# train = train.loc[train['timestamp']>(10*60)]\n",
    "# test = test.loc[test['timestamp']>(10*60)]"
   ]
  },
  {
   "cell_type": "markdown",
   "metadata": {},
   "source": [
    "### Divide into X_train, y_train, X_test, y_test"
   ]
  },
  {
   "cell_type": "code",
   "execution_count": 14,
   "metadata": {},
   "outputs": [],
   "source": [
    "y_train = train['engagement']\n",
    "X_train = train.drop(columns=basic_cols)\n",
    "\n",
    "y_test = test['engagement']\n",
    "X_test = test.drop(columns=basic_cols)"
   ]
  },
  {
   "cell_type": "code",
   "execution_count": 15,
   "metadata": {},
   "outputs": [],
   "source": [
    "# Sort Training Data Together \n",
    "\n",
    "X_train, bogus1, y_train, bogus2 = train_test_split(X_train, y_train, test_size=0.0, shuffle=True)\n",
    "X_train, bogus1, y_train, bogus2 = train_test_split(X_train, y_train, test_size=0.0, shuffle=True)\n",
    "X_train, bogus1, y_train, bogus2 = train_test_split(X_train, y_train, test_size=0.0, shuffle=True)\n",
    "X_train, bogus1, y_train, bogus2 = train_test_split(X_train, y_train, test_size=0.0, shuffle=True)\n",
    "X_train, bogus1, y_train, bogus2 = train_test_split(X_train, y_train, test_size=0.0, shuffle=True)"
   ]
  },
  {
   "cell_type": "markdown",
   "metadata": {},
   "source": [
    "# 5 -- Preprocessing\n",
    "Standardization Recommended"
   ]
  },
  {
   "cell_type": "markdown",
   "metadata": {},
   "source": [
    "### Min-Max Scaling\n",
    "- x' = ( x - min(x) ) / ( max(x) - min(x) )\n",
    "- => x' in [0, 1], fill NaN with -1"
   ]
  },
  {
   "cell_type": "code",
   "execution_count": 16,
   "metadata": {},
   "outputs": [],
   "source": [
    "# for c in X_train.columns:\n",
    "#     min_val = np.nanmin(X_train[c])\n",
    "#     max_val = np.nanmax(X_train[c])\n",
    "    \n",
    "#     X_train[c] = (X_train[c]-min_val)/(max_val - min_val)\n",
    "#     X_test[c] = (X_test[c]-min_val)/(max_val - min_val)\n",
    "    \n",
    "# X_train = X_train.fillna(-1)\n",
    "# X_test = X_test.fillna(-1)"
   ]
  },
  {
   "cell_type": "markdown",
   "metadata": {},
   "source": [
    "### Standardization (Recommended)\n",
    "- x' = ( x - mean(x) ) / ( stdev(x) )\n",
    "- => x' is z-score, NaN's filled with min_val"
   ]
  },
  {
   "cell_type": "code",
   "execution_count": 17,
   "metadata": {},
   "outputs": [],
   "source": [
    "for c in X_train.columns:\n",
    "    mean = np.nanmean(X_train[c])\n",
    "    std = np.nanstd(X_train[c])\n",
    "    \n",
    "    X_train[c] = (X_train[c]-mean)/(std)\n",
    "    X_test[c] = (X_test[c]-mean)/(std)\n",
    "        \n",
    "    if 'of_pose_distance' not in c:\n",
    "        min_val = np.nanmin(X_train[c])\n",
    "\n",
    "        X_train[c] = X_train[c].fillna(min_val)\n",
    "        X_test[c] = X_test[c].fillna(min_val)\n",
    "    else:\n",
    "        max_val = np.nanmax(X_train[c])\n",
    "\n",
    "        X_train[c] = X_train[c].fillna(max_val)\n",
    "        X_test[c] = X_test[c].fillna(max_val)"
   ]
  },
  {
   "cell_type": "markdown",
   "metadata": {},
   "source": [
    "# 6 -- Model!"
   ]
  },
  {
   "cell_type": "code",
   "execution_count": 18,
   "metadata": {},
   "outputs": [
    {
     "name": "stderr",
     "output_type": "stream",
     "text": [
      "Using TensorFlow backend.\n"
     ]
    }
   ],
   "source": [
    "from keras.layers import Dense, Activation\n",
    "from keras.models import Sequential\n",
    "from keras.utils import np_utils"
   ]
  },
  {
   "cell_type": "code",
   "execution_count": 19,
   "metadata": {},
   "outputs": [
    {
     "name": "stdout",
     "output_type": "stream",
     "text": [
      "WARNING:tensorflow:From /anaconda3/envs/caispp/lib/python3.5/site-packages/tensorflow/python/framework/op_def_library.py:263: colocate_with (from tensorflow.python.framework.ops) is deprecated and will be removed in a future version.\n",
      "Instructions for updating:\n",
      "Colocations handled automatically by placer.\n",
      "_________________________________________________________________\n",
      "Layer (type)                 Output Shape              Param #   \n",
      "=================================================================\n",
      "dense_1 (Dense)              (None, 1)                 64        \n",
      "_________________________________________________________________\n",
      "activation_1 (Activation)    (None, 1)                 0         \n",
      "=================================================================\n",
      "Total params: 64\n",
      "Trainable params: 64\n",
      "Non-trainable params: 0\n",
      "_________________________________________________________________\n",
      "WARNING:tensorflow:From /anaconda3/envs/caispp/lib/python3.5/site-packages/tensorflow/python/ops/math_ops.py:3066: to_int32 (from tensorflow.python.ops.math_ops) is deprecated and will be removed in a future version.\n",
      "Instructions for updating:\n",
      "Use tf.cast instead.\n",
      "Epoch 1/5\n",
      "632598/632598 [==============================] - 13s 21us/step - loss: 0.4727 - acc: 0.8301\n",
      "Epoch 2/5\n",
      "632598/632598 [==============================] - 14s 23us/step - loss: 0.3455 - acc: 0.8481\n",
      "Epoch 3/5\n",
      "632598/632598 [==============================] - 10s 16us/step - loss: 0.3413 - acc: 0.8489\n",
      "Epoch 4/5\n",
      "632598/632598 [==============================] - 10s 16us/step - loss: 0.3390 - acc: 0.8493\n",
      "Epoch 5/5\n",
      "632598/632598 [==============================] - 12s 18us/step - loss: 0.3371 - acc: 0.8499\n"
     ]
    },
    {
     "data": {
      "text/plain": [
       "<keras.callbacks.History at 0x1a48cd7588>"
      ]
     },
     "execution_count": 19,
     "metadata": {},
     "output_type": "execute_result"
    }
   ],
   "source": [
    "num_epochs = 5\n",
    "size_batch = 96   \n",
    "\n",
    "nn_model = Sequential()\n",
    "\n",
    "nn_model.add(Dense(units=1, input_dim=(X_train.shape[1])))\n",
    "nn_model.add(Activation('sigmoid'))\n",
    "\n",
    "nn_model.summary()\n",
    "\n",
    "nn_model.compile(loss='binary_crossentropy',  \n",
    "              optimizer='Adam',\n",
    "              metrics=['accuracy'])\n",
    "\n",
    "nn_model.fit(X_train, y_train, epochs=num_epochs, batch_size=size_batch, verbose=1)"
   ]
  },
  {
   "cell_type": "code",
   "execution_count": 20,
   "metadata": {},
   "outputs": [
    {
     "name": "stdout",
     "output_type": "stream",
     "text": [
      "342676/342676 [==============================] - 5s 14us/step\n",
      "[0.3932184453870827, 0.8220476485076282]\n"
     ]
    }
   ],
   "source": [
    "loss_and_metrics = nn_model.evaluate(X_test, y_test)\n",
    "print(loss_and_metrics)"
   ]
  },
  {
   "cell_type": "code",
   "execution_count": 21,
   "metadata": {},
   "outputs": [],
   "source": [
    "scores = nn_model.predict_proba(X_test)\n",
    "pred = nn_model.predict_classes(X_test)"
   ]
  },
  {
   "cell_type": "markdown",
   "metadata": {},
   "source": [
    "# 7 -- Evaluation"
   ]
  },
  {
   "cell_type": "code",
   "execution_count": 22,
   "metadata": {},
   "outputs": [],
   "source": [
    "# y_test: actual y values for test data\n",
    "# scores: predicted probabilistic y values for test data\n",
    "# pred: predicted binary y values for test data"
   ]
  },
  {
   "cell_type": "code",
   "execution_count": 23,
   "metadata": {
    "scrolled": true
   },
   "outputs": [
    {
     "name": "stdout",
     "output_type": "stream",
     "text": [
      "AUC: 0.9014238316823009\n",
      "Accuracy: 0.8220476485076282\n",
      "[[145411  27778]\n",
      " [ 33202 136285]]\n",
      "              precision    recall  f1-score   support\n",
      "\n",
      "           0       0.81      0.84      0.83    173189\n",
      "           1       0.83      0.80      0.82    169487\n",
      "\n",
      "   micro avg       0.82      0.82      0.82    342676\n",
      "   macro avg       0.82      0.82      0.82    342676\n",
      "weighted avg       0.82      0.82      0.82    342676\n",
      "\n"
     ]
    }
   ],
   "source": [
    "try:\n",
    "    print(\"AUC:\",roc_auc_score(y_test, scores)) \n",
    "except:\n",
    "    print(\"AUC undefinied, only 1 class in test data\")\n",
    "    \n",
    "print(\"Accuracy:\",accuracy_score(y_test, pred))\n",
    "print(metrics.confusion_matrix(y_test, pred))\n",
    "print(metrics.classification_report(y_test, pred))"
   ]
  },
  {
   "cell_type": "code",
   "execution_count": null,
   "metadata": {},
   "outputs": [],
   "source": []
  }
 ],
 "metadata": {
  "kernelspec": {
   "display_name": "Python [conda env:caispp]",
   "language": "python",
   "name": "conda-env-caispp-py"
  },
  "language_info": {
   "codemirror_mode": {
    "name": "ipython",
    "version": 3
   },
   "file_extension": ".py",
   "mimetype": "text/x-python",
   "name": "python",
   "nbconvert_exporter": "python",
   "pygments_lexer": "ipython3",
   "version": "3.5.6"
  }
 },
 "nbformat": 4,
 "nbformat_minor": 2
}
