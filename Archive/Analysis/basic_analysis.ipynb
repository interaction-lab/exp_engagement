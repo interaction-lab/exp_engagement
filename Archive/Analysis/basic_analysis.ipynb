{
 "cells": [
  {
   "cell_type": "code",
   "execution_count": 1,
   "metadata": {},
   "outputs": [],
   "source": [
    "# Basic Analysis\n",
    "# Interaction Time, # Sessions, % Engagaed, Engagement by Session, Continuous Engagement"
   ]
  },
  {
   "cell_type": "code",
   "execution_count": 2,
   "metadata": {},
   "outputs": [],
   "source": [
    "import pandas as pd\n",
    "import numpy as np\n",
    "from scipy import stats \n",
    "import matplotlib.pyplot as plt"
   ]
  },
  {
   "cell_type": "code",
   "execution_count": 3,
   "metadata": {},
   "outputs": [
    {
     "name": "stderr",
     "output_type": "stream",
     "text": [
      "/anaconda3/envs/caispp/lib/python3.5/site-packages/IPython/core/interactiveshell.py:2785: DtypeWarning: Columns (37,38,39) have mixed types. Specify dtype option on import or set low_memory=False.\n",
      "  interactivity=interactivity, compiler=compiler, result=result)\n"
     ]
    }
   ],
   "source": [
    "file = '../../../../Google Drive File Stream/My Drive/USC Expeditions Year 5/Analysis/Engagement/Data/Master2/p5_master.csv'\n",
    "data5 = pd.read_csv(file)"
   ]
  },
  {
   "cell_type": "code",
   "execution_count": 4,
   "metadata": {},
   "outputs": [
    {
     "name": "stderr",
     "output_type": "stream",
     "text": [
      "/anaconda3/envs/caispp/lib/python3.5/site-packages/IPython/core/interactiveshell.py:2785: DtypeWarning: Columns (37,38,39,48,49) have mixed types. Specify dtype option on import or set low_memory=False.\n",
      "  interactivity=interactivity, compiler=compiler, result=result)\n"
     ]
    }
   ],
   "source": [
    "file = '../../../../Google Drive File Stream/My Drive/USC Expeditions Year 5/Analysis/Engagement/Data/Master2/p7_master.csv'\n",
    "data7 = pd.read_csv(file)"
   ]
  },
  {
   "cell_type": "code",
   "execution_count": 5,
<<<<<<< HEAD:Analysis/basic_analysis.ipynb
   "metadata": {},
   "outputs": [
    {
     "name": "stderr",
     "output_type": "stream",
     "text": [
      "/anaconda3/envs/caispp/lib/python3.5/site-packages/IPython/core/interactiveshell.py:2785: DtypeWarning: Columns (48,49) have mixed types. Specify dtype option on import or set low_memory=False.\n",
      "  interactivity=interactivity, compiler=compiler, result=result)\n"
     ]
    }
   ],
   "source": [
    "file = '../../../../Google Drive File Stream/My Drive/USC Expeditions Year 5/Analysis/Engagement/Data/Master2/p9_master.csv'\n",
    "data9 = pd.read_csv(file)"
   ]
  },
  {
   "cell_type": "code",
   "execution_count": 6,
   "metadata": {},
   "outputs": [
    {
     "name": "stderr",
     "output_type": "stream",
     "text": [
      "/anaconda3/envs/caispp/lib/python3.5/site-packages/IPython/core/interactiveshell.py:2785: DtypeWarning: Columns (48,49) have mixed types. Specify dtype option on import or set low_memory=False.\n",
      "  interactivity=interactivity, compiler=compiler, result=result)\n"
     ]
    }
   ],
   "source": [
    "file = '../../../../Google Drive File Stream/My Drive/USC Expeditions Year 5/Analysis/Engagement/Data/Master2/p11_master.csv'\n",
    "data11 = pd.read_csv(file)"
   ]
  },
  {
   "cell_type": "code",
   "execution_count": 7,
=======
>>>>>>> c6303ba6ddfaaf85ac3fabb596d651992766387f:Archive/Analysis/basic_analysis.ipynb
   "metadata": {},
   "outputs": [],
   "source": [
    "file = '../../../../Google Drive File Stream/My Drive/USC Expeditions Year 5/Analysis/Engagement/Data/Master2/p12_master.csv'\n",
    "data12 = pd.read_csv(file)"
   ]
  },
  {
   "cell_type": "code",
<<<<<<< HEAD:Analysis/basic_analysis.ipynb
   "execution_count": 8,
   "metadata": {},
   "outputs": [
    {
     "name": "stderr",
     "output_type": "stream",
     "text": [
      "/anaconda3/envs/caispp/lib/python3.5/site-packages/IPython/core/interactiveshell.py:2785: DtypeWarning: Columns (48) have mixed types. Specify dtype option on import or set low_memory=False.\n",
      "  interactivity=interactivity, compiler=compiler, result=result)\n"
     ]
    }
   ],
   "source": [
    "file = '../../../../Google Drive File Stream/My Drive/USC Expeditions Year 5/Analysis/Engagement/Data/Master2/p17_master.csv'\n",
    "data17 = pd.read_csv(file)"
   ]
  },
  {
   "cell_type": "code",
   "execution_count": 9,
=======
   "execution_count": 6,
>>>>>>> c6303ba6ddfaaf85ac3fabb596d651992766387f:Archive/Analysis/basic_analysis.ipynb
   "metadata": {},
   "outputs": [],
   "source": [
    "file = '../../../../Google Drive File Stream/My Drive/USC Expeditions Year 5/Analysis/Engagement/Data/Master2/p18_master.csv'\n",
    "data18 = pd.read_csv(file)"
   ]
  },
  {
   "cell_type": "code",
<<<<<<< HEAD:Analysis/basic_analysis.ipynb
   "execution_count": 10,
=======
   "execution_count": 7,
>>>>>>> c6303ba6ddfaaf85ac3fabb596d651992766387f:Archive/Analysis/basic_analysis.ipynb
   "metadata": {},
   "outputs": [],
   "source": [
    "data = [data5, data7, data9, data11, data12, data17, data18]\n",
    "all_data = pd.concat(data, ignore_index=True, sort=True)\n",
    "part = [5, 7, 9, 11, 12, 17, 18]"
   ]
  },
  {
   "cell_type": "code",
   "execution_count": 11,
   "metadata": {},
   "outputs": [
    {
     "name": "stdout",
     "output_type": "stream",
     "text": [
      "5 (1, 47, 49)\n",
      "7 (2, 47, 47)\n",
      "9 (3, 7, 23)\n",
      "11 (3, 11, 48)\n",
      "12 (2, 10, 4)\n",
      "17 (1, 46, 38)\n",
      "18 (2, 37, 28)\n",
      "\n",
      "average (2, 29, 51)\n",
      "total (17, 28, 58)\n"
     ]
    }
   ],
   "source": [
    "# Interaction Time\n",
    "\n",
    "def breakdown(total):\n",
    "    hrs = int(total/3600)\n",
    "    \n",
    "    total = total%3600\n",
    "    minutes = int(total/60)\n",
    "    \n",
    "    total = total%60\n",
    "    seconds = round(total)\n",
    "\n",
    "    return (hrs, minutes, seconds)\n",
    "  \n",
    "\n",
    "grand = 0\n",
    "for p, d in enumerate(data):\n",
    "    total = (len(d)*(0.1/3))\n",
    "    grand += total\n",
    "    \n",
    "    print(part[p], breakdown(total))\n",
    "print()\n",
    "print('average', breakdown(grand/len(data)))\n",
    "print('total', breakdown(grand))"
   ]
  },
  {
   "cell_type": "code",
   "execution_count": 12,
   "metadata": {},
   "outputs": [
    {
     "name": "stdout",
     "output_type": "stream",
     "text": [
      "5 5\n",
      "7 8\n",
      "9 5\n",
      "11 9\n",
      "12 5\n",
      "17 4\n",
      "18 15\n",
      "\n",
      "average 7\n",
      "total 51\n"
     ]
    }
   ],
   "source": [
    "# Sessions\n",
    "\n",
    "grand = 0\n",
    "for p, d in enumerate(data):\n",
    "    total = len((d['session_num'].unique()))\n",
    "    grand += total\n",
    "    \n",
    "    print(part[p], total)\n",
    "print()\n",
    "print('average', int(grand/len(data)))\n",
    "print('total', grand)"
   ]
  },
  {
   "cell_type": "code",
   "execution_count": 13,
   "metadata": {},
   "outputs": [
    {
     "name": "stdout",
     "output_type": "stream",
     "text": [
      "5 84.32%\n",
      "7 59.813%\n",
      "9 49.086%\n",
      "11 76.61%\n",
      "12 64.487%\n",
      "17 47.891%\n",
      "18 76.779%\n",
      "average 65.57%\n",
      "total 65.402%\n"
     ]
    }
   ],
   "source": [
    "# Engagement By Participant \n",
    "engagement_record = []\n",
    "\n",
    "for p, d in enumerate(data):\n",
    "    counts = d['engagement'].value_counts()\n",
    "    engagement = (counts[1]/len(d))*100\n",
    "    engagement_record.append(engagement)\n",
    "    \n",
    "    print(part[p], round(engagement, 3), end='%\\n')\n",
    "\n",
    "print('average', round(sum(engagement_record)/len(data), 3), end='%\\n')\n",
    "\n",
    "all_counts = all_data['engagement'].value_counts()\n",
    "all_engagement = (all_counts[1]/len(all_data))*100\n",
    "print('total', round(all_engagement, 3), end='%\\n')"
   ]
  },
  {
   "cell_type": "code",
   "execution_count": 14,
   "metadata": {},
   "outputs": [
    {
     "name": "stdout",
     "output_type": "stream",
     "text": [
      "[0.9742911994657911, 0.9272605595737562, 0.7729186659094025, 0.8386680348217537, 0.7313672358001632]\n",
      "[0.517650209618772, 0.8409584396784885, 0.7015169859696603, 0.592636556834064, 0.635426793700175, 0.9564327152769878, 0.8182429655095101, 0.3507011575830254]\n",
      "[0.539561590408436, 0.5886191796479793, 0.46931010585533556, 0.5315954462959908, 0.36477192423684446]\n",
      "[0.9189473216796673, 0.8396166405156694, 0.912796838934314, 0.6350331354524675, 0.7024457239448524, 0.6739648453926158, 0.6972599742286839, 0.7308784004420888, 0.793606908763319]\n",
      "[0.7641563600813147, 0.6107552894053261, 0.7194491034938933, 0.5597531970631829, 0.5060007096491411]\n",
      "[0.38751226938562927, 0.44327084007257284, 0.6347697092098443, 0.3704495357691537]\n",
      "[0.8383965381129207, 0.945137415247658, 0.8802486034552921, 0.8956047795402138, 0.8624665318835036, 0.6810606263922063, 0.5958922584871489, 0.6312543907579424, 0.7939408368549491, 0.5729746686534389, 0.751090170918751, 0.8343654993807004, 0.7463294395027328, 0.6540048672098191, 0.7714252240642024]\n",
      "5 9.116%\n",
      "7 18.242%\n",
      "9 7.699%\n",
      "11 9.817%\n",
      "12 9.66%\n",
      "17 10.499%\n",
      "18 11.154%\n",
      "average 10.884%\n",
      "total 16.421%\n"
     ]
    }
   ],
   "source": [
    "# Engagement By Session \n",
    "session_record = []\n",
    "\n",
    "for p, d in enumerate(data):\n",
    "    sessions = d['session_num'].unique()\n",
    "    sessions = sorted(sessions)\n",
    "    \n",
    "    inner = []\n",
    "    for s in sessions:\n",
    "        curr = d.loc[d['session_num']==s]\n",
    "        counts = curr['engagement'].value_counts()\n",
    "        inner.append(counts[1]/len(curr))\n",
    "    session_record.append(inner)\n",
    "\n",
    "for i in session_record:\n",
    "    print(i)\n",
    "session_std = []\n",
    "total = []\n",
    "for p,i in enumerate(session_record):\n",
    "    std = np.std(i)\n",
    "    print(part[p], round(std*100, 3), end='%\\n')\n",
    "    session_std.append(std*100)\n",
    "    total += i\n",
    "\n",
    "print('average', round(np.mean(session_std), 3), end='%\\n')\n",
    "print('total', round(np.std(total)*100, 3), end='%\\n')"
   ]
  },
  {
   "cell_type": "code",
   "execution_count": 26,
   "metadata": {},
   "outputs": [
    {
     "data": {
      "image/png": "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\n",
      "text/plain": [
       "<Figure size 360x288 with 1 Axes>"
      ]
     },
     "metadata": {
      "needs_background": "light"
     },
     "output_type": "display_data"
    }
   ],
   "source": [
    "# Engagement by Participant Graph\n",
    "# StDev Between Sessions as Error Bars\n",
    "\n",
    "plt.rcParams[\"figure.figsize\"] = [5,4]\n",
    "\n",
    "fig, ax = plt.subplots()\n",
    "index = np.arange(len(data))\n",
    "bar_width = 0.6\n",
    "\n",
    "rects1 = ax.bar(index, engagement_record, bar_width, edgecolor='k', yerr=session_std)\n",
    "\n",
    "ax.set_xlabel('Participant')\n",
    "ax.set_ylabel('Engaged (%)')\n",
    "ax.set_title('Engagement by Participant')\n",
    "\n",
    "ax.set_xticks(index)\n",
    "ax.set_xticklabels(('5', '7','9', '11', '12', '17', '18'))\n",
    "fig.tight_layout()\n",
    "\n",
    "plt.ylim([0, 100])\n",
    "\n",
    "plt.show()\n",
    "fig.savefig('figure.eps', format='eps', dpi=1000)"
   ]
  },
  {
   "cell_type": "code",
   "execution_count": 27,
   "metadata": {},
   "outputs": [
    {
     "data": {
      "image/png": "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\n",
      "text/plain": [
       "<Figure size 360x288 with 1 Axes>"
      ]
     },
     "metadata": {
      "needs_background": "light"
     },
     "output_type": "display_data"
    }
   ],
   "source": [
    "# Engagement By Session\n",
    "fig = plt.figure()\n",
    "\n",
    "plt.rcParams[\"figure.figsize\"] = [5,4]\n",
    "\n",
    "longest = 0\n",
    "for i in session_record:\n",
    "    longest = max(longest, len(i))\n",
    "\n",
    "index = list(range(1, longest+1))\n",
    "for p,i in enumerate(session_record):\n",
    "    need = np.empty(longest-len(i))\n",
    "    need[:] = np.nan\n",
    "    new = np.hstack((np.array(i), need))\n",
    "    new *= 100\n",
    "    plt.plot(index, new, label=str(part[p]))\n",
    "\n",
    "plt.legend(loc='best')\n",
    "plt.xlabel('Session')\n",
    "plt.ylabel('Engaged (%)')\n",
    "plt.title('Engagement by Session')\n",
    "plt.ylim([0, 100])\n",
    "\n",
    "plt.show()\n",
    "fig.savefig('figure.eps', format='eps', dpi=1000)"
   ]
  },
  {
   "cell_type": "code",
   "execution_count": 48,
   "metadata": {},
   "outputs": [
    {
     "name": "stdout",
     "output_type": "stream",
     "text": [
      "19.467\n",
      "3.733\n",
      "54.264\n",
      "10.726\n",
      "17.467\n",
      "5.933\n",
      "35.881\n",
      "92.193\n",
      "14.767\n",
      "6.433\n",
      "30.234\n",
      "68.084\n",
      "12.633\n",
      "3.2\n",
      "33.052\n",
      "10.688\n",
      "5.033\n",
      "2.233\n",
      "15.926\n",
      "17.618\n",
      "11.4\n",
      "7.833\n",
      "25.592\n",
      "68.881\n",
      "8.3\n",
      "2.483\n",
      "24.192\n",
      "16.218\n",
      "12.723809523809523\n",
      "4.55\n",
      "31.305959033926133\n",
      "40.62976813756361\n"
     ]
    }
   ],
   "source": [
    "# Continuous Engagement and Disengagement\n",
    "\n",
    "cont_en = []\n",
    "cont_dis = []\n",
    "\n",
    "cont_en_std = []\n",
    "cont_dis_std = []\n",
    "\n",
    "for i, d in enumerate(data):\n",
    "    curr = 0\n",
    "    last = d.loc[0, 'engagement']\n",
    "    last_sess = d.loc[0, 'session_num']\n",
    "    \n",
    "    track_en = []\n",
    "    track_dis = []\n",
    "    \n",
    "    for j,r in d.iterrows():\n",
    "        if (last != r['engagement']) or (last_sess != r['session_num']):\n",
    "            #record this\n",
    "            if (last == 0):\n",
    "                track_dis.append(curr)\n",
    "            else:\n",
    "                track_en.append(curr)\n",
    "            \n",
    "            curr = 0\n",
    "            last = r['engagement']\n",
    "            last_sess = r['session_num']\n",
    "            \n",
    "        curr+= 1\n",
    "    \n",
    "    # grab last one \n",
    "    if (last == 0):\n",
    "        track_dis.append(curr)\n",
    "    else:\n",
    "        track_en.append(curr)\n",
    "    \n",
    "    # Median Continuous \n",
    "    en = (np.median(track_en)/30)   \n",
    "    print(round(en, 3))\n",
    "    cont_en.append(en)\n",
    "    \n",
    "    dis = (np.median(track_dis)/30)\n",
    "    print(round(dis, 3))\n",
    "    cont_dis.append(dis)\n",
    "    \n",
    "    # St Dev Continuous \n",
    "    en_std = (np.std(track_en)/30)\n",
    "    print(round(en_std, 3))\n",
    "    cont_en_std.append(en_std)\n",
    "    \n",
    "    dis_std = (np.std(track_dis)/30)\n",
    "    print(round(dis_std, 3))\n",
    "    cont_dis_std.append(dis_std)\n",
    "\n",
    "print(np.mean(cont_en))\n",
    "print(np.mean(cont_dis))\n",
    "print(np.mean(cont_en_std))\n",
    "print(np.mean(cont_dis_std))\n"
   ]
  },
  {
   "cell_type": "code",
   "execution_count": 49,
   "metadata": {},
   "outputs": [
    {
     "data": {
      "text/plain": [
       "[19.466666666666665,\n",
       " 17.466666666666665,\n",
       " 14.766666666666667,\n",
       " 12.633333333333333,\n",
       " 5.033333333333333,\n",
       " 11.4,\n",
       " 8.3]"
      ]
     },
     "execution_count": 49,
     "metadata": {},
     "output_type": "execute_result"
    }
   ],
   "source": [
    "cont_en"
   ]
  },
  {
   "cell_type": "code",
   "execution_count": 60,
   "metadata": {},
   "outputs": [
    {
     "data": {
      "image/png": "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\n",
      "text/plain": [
       "<Figure size 504x288 with 1 Axes>"
      ]
     },
     "metadata": {
      "needs_background": "light"
     },
     "output_type": "display_data"
    }
   ],
   "source": [
    "# Continuous Engagement Graph\n",
    "\n",
    "plt.rcParams[\"figure.figsize\"] = [7,4]\n",
    "\n",
    "fig, ax = plt.subplots()\n",
    "\n",
    "index = np.arange(len(part))\n",
    "bar_width = 0.35\n",
    "\n",
    "rects1 = ax.bar(index, cont_en, bar_width, edgecolor='k', label='Engaged')\n",
    "rects2 = ax.bar(index+bar_width, cont_dis, bar_width, edgecolor='k', label='Disengaged')\n",
    "\n",
    "ax.set_xlabel('Participant')\n",
    "ax.set_ylabel('Time (Seconds)')\n",
    "ax.set_title('Continuous Engagement and Disengagement')\n",
    "\n",
    "ax.set_xticks(index + bar_width / 2)\n",
    "ax.set_xticklabels(('5', '7', '9', '11', '12', '17', '18'))\n",
    "ax.legend()\n",
    "fig.tight_layout()\n",
    "\n",
    "plt.ylim([0, 25])\n",
    "\n",
    "plt.show()\n",
    "fig.savefig('figure.eps', format='eps', dpi=1000)"
   ]
  },
  {
   "cell_type": "code",
   "execution_count": 28,
   "metadata": {},
   "outputs": [
    {
     "data": {
      "image/png": "iVBORw0KGgoAAAANSUhEUgAAAsgAAAGoCAYAAABbtxOxAAAABHNCSVQICAgIfAhkiAAAAAlwSFlzAAALEgAACxIB0t1+/AAAADl0RVh0U29mdHdhcmUAbWF0cGxvdGxpYiB2ZXJzaW9uIDMuMC4yLCBodHRwOi8vbWF0cGxvdGxpYi5vcmcvOIA7rQAAIABJREFUeJzt3Xu031V9J/z3p0kIYiEEEmeoSIIsQWdqpXoeLReV24gwCMxDLOCSNvUp8YLToSrOSPERFS+jKAgWK/rYMGqLXJYy8gDaysVaUJ8wWsCqkdHEglgJCRcFwm0/f5zfiTvJOSTE88tJ4PVaK+vLd+/9/f4+v5PfyXqz1/59d7XWAgAAjPqtqS4AAAC2JAIyAAB0BGQAAOgIyAAA0BGQAQCgIyADAEBHQAYAgM5GBeSqWlBV51bVP1TVvVXVqupzG7hm36q6oqpWVtUDVXVTVZ1cVdMe55ojquraqrqnqn5ZVd+qqj9+om8KAAA21fSNHHdakhck+WWS25I89/EGV9VRSS5N8mCSLyRZmeRVSc5Ksl+SV49zzZuTnJvkriSfS/JQkgVJFlfV81trb9vIWgEAYJPVxuykV1UHZjQY35rk5UmuSfL51tprxxm7w2DcrCT7tdaWDNq3TXJ1kn2SHN9au7C7Zn6SHyT5VZIXtdaWDdpnJ/n/kuyRZN/W2g2b+D4BAGCjbNQSi9baNa21H7WN25d6QZK5SS4cC8eDezyY0ZnoJHnjOte8LsnMJB8fC8eDa1Ylef/g9A0bUysAAPwmhvElvYMGx6vG6ft6kvuT7FtVMzfymivXGQMAAEMzjIC81+C4dN2O1tojSX6S0bXPz97Ia+7I6NKLXatqu8ktFQAA1raxX9J7ImYNjvdM0D/WvuMTvObpg3H3jzegqhYlWZQkT3/601/03Oc+7vcIAQB4irnxxhtXtNbmbmjcMALylGitnZ/k/CQZGRlpS5Ys2cAVAAA8lVTV8o0ZN4wlFmOzwLMm6B9rv3sTrplohhkAACbFMALyDwfHPdftqKrpSXZP8kiSH2/kNbtkdHnFba21cZdXAADAZBlGQL56cHzlOH0vS7Jdkutba6s38prD1hkDAABDM4yAfEmSFUmOq6qRscbBRiFnDE4/sc41f51kdZI3DzYNGbtmdpJTB6d/NYRaAQBgLRv1Jb2qOjrJ0YPTfzs47lNViwf/vWJsK+jW2r1VdWJGg/K1VXVhRreaPjKjj3O7JKPbT6/RWvtJVZ2S5JwkS6rqC/n1VtO7JvmIXfQAANgcNvYpFnsn+eN12p6dXz/LeHmSt411tNa+VFUvT/IXSY5Jsm1Gt59+S5JzxtuRr7V2blUtG9znjzI6u/3PSU5rrV2wsW8IAAB+E7Vxu0dvXTzmDQCAdVXVja21kQ2NG8YaZAAA2Go9aTYKAQCYbKtXr87KlStz33335dFHH53qcuhMmzYt22+/fXbaaafMnDlzUu8tIAMAjGP16tX56U9/mtmzZ2f+/PmZMWNGqmqqyyJJay0PP/xw7r333vz0pz/NbrvtNqkh2RILAIBxrFy5MrNnz86cOXOyzTbbCMdbkKrKNttskzlz5mT27NlZuXLlpN5fQAYAGMd9992XHXbYYarLYAN22GGH3HfffZN6TwEZAGAcjz76aGbMmDHVZbABM2bMmPT14QIyAMAELKvY8g3j70hABgCAjoAMAAAdARkAADoCMgDAJpg/f36qaov9M3/+/Kn+EW21bBQCALAJli9fntbaVJcxIV8w3HRmkAEAoCMgAwBAR0AGAGBcP/jBD1JVOfDAAycc8/znPz8zZszIHXfcsabtK1/5Sg4//PDMmTMnM2fOzB577JFTTjkld99993rX33TTTTn++OMzf/78zJw5M3Pnzs0LX/jCnHzyyXn44YeH8r42xBpkAADG9dznPjcHHnhgrrnmmixdujR77rnnWv3XX399brnllhxzzDHZZZddkiTvfve7c/rpp2ennXbKEUcckWc84xm56aabcuaZZ+aKK67IDTfcsGYL75tuuikveclLUlU58sgjs/vuu+fee+/NrbfemvPOOy9nnHHGlOxmKCADADChN73pTbnmmmty/vnn58wzz1yr7/zzz0+SvP71r0+SXHPNNTn99NOzzz775IorrsiOO+64ZuzixYvzJ3/yJ3nXu96Vs846K0lywQUX5MEHH8yXvvSlHHXUUWvde9WqVdluu+2G+dYmZIkFAAATOvroo7PLLrtk8eLFWb169Zr2u+++OxdddFH22GOPHHLIIUmSc845J0nyqU99aq1wnCQLFy7M3nvvnc9//vPrvcbTnva09dpmz56d3/qtqYmqZpABAJjQ9OnTc+KJJ+Y973lPLr300rzmNa9Jknz2s5/NAw88kEWLFq15pNwNN9yQGTNm5OKLL87FF1+83r0eeuih3Hnnnbnrrruy884759hjj83HPvaxHH300VmwYEEOOeSQ7Lffftljjz0263tcV23Jz+/bVCMjI23JkiVTXQYAsBX7/ve/n+c973kT9lfVFv8c5Mmq7/bbb8+8efOy33775brrrksy+uW8pUuX5rbbbsvcuXOTJDNmzMgjjzyywfstW7Ys8+bNSzIaqt/3vvfl6quvzgMPPJAk2WuvvfKud70rxx9//EbVt6G/qzFVdWNrbWRD48wgAwDwuJ75zGfmyCOPzBe/+MX84Ac/yMqVK3PLLbfk2GOPXROOk2TWrFl57LHHsnLlyo2+9z777JPLL788q1evzo033pirrroq5557bl7zmtdk7ty5a5ZvbE7WIAMAsEFvetObkiSf/OQn1/ty3pg/+IM/yKpVq/K9733vCd9/5syZ2XffffOe97xnzVrmyy677DesetMIyAAAbNDBBx+cPffcMxdccEEuuuii7LXXXus9H/nP//zPkyQnnnhifvazn613j1/96lf55je/ueb8+uuvX7Osovev//qvSTJlT7GwxAIAgA2qqrzhDW/IW97yliTJokWL1htz8MEH54Mf/GDe8Y535DnPeU4OP/zw7L777vnlL3+Z5cuX57rrrsv++++fq666KknyoQ99KFdffXVe+tKXZvfdd89v//Zv53vf+16uvPLKzJ49e9zX2Bx8SQ8AYBwb+uLX/Pnzs3z58s1Y0RMzb968LFu2bFLvuWrVqsyZMyfbbLNNbrvttuy8887jjvvGN76Rc845J9/4xjeyYsWKzJo1K8985jNz0EEH5TWveU1GRka/J/fVr341f/u3f5tvfetbuf322/PII49k1113zaGHHpq3vvWta77ItyG+pAcAsAWY7PC5Nfinf/qnPPbYY1mwYMGE4ThJ9t9//+y///4bvN8rXvGKvOIVr5jMEieFNcgAAGyUD33oQ0mSN7/5zVNcyXCZQQYAYEI333xzLr/88tx444258sorc8QRR+QlL3nJVJc1VAIyAAATuvHGG3Pqqadmhx12yKtf/eqcd955U13S0AnIAABMaOHChVm4cOFUl7FZWYMMAAAdARkAADoCMgAAdARkAADoCMgAANARkAEAoCMgAwBAR0AGAICOgAwAAB076QEAbIKqmuoSHldrbapL2GqZQQYAgI6ADAAAHQEZAAA6AjIAABNatmxZqioLFy7MsmXLctxxx2XOnDnZdtttMzIykssvv3y9a1avXp0PfvCDef7zn5/tttsuO+ywQ1760pfmoosumoJ38MQJyAAAbNDy5cvz4he/OMuWLcsJJ5yQY489NrfcckuOOuqoXHPNNWvGPfTQQzn00EPzjne8I4888khOOumknHDCCVm6dGmOPfbYnHrqqVP4LjaOgAwAwAZde+21Oemkk/LNb34zZ511Vi644IJcdtlleeyxx/LhD394zbiPfOQjue6663LYYYfl5ptvzoc//OH85V/+ZW6++ebMmzcvH/jAB3L99ddP4TvZMAEZAIANmjdvXk477bS12g499NDstttu+fa3v72m7TOf+UyqKh/96Eczffqvnyj8jGc8I+985zuTJJ/+9Kc3T9GbSEAGAGCD9t5770ybNm299mc961lZtWpVkuS+++7Lrbfemt/5nd/Jc5/73PXGHnTQQUmS73znO8Mt9jckIAMAsEE77rjjuO3Tp0/PY489liS55557kiS77LLLuGPH2u++++4hVDh5BGQAACbFrFmzkiQ///nPx+2/44471hq3pRKQAQCYFNtvv3322GOP3H777fnRj360Xv/Y0y5e+MIXbu7SnhABGQCASfO6170urbWccsopefTRR9e0r1ixIu9973vXjNmSTd/wEAAA2Dhve9vbcuWVV+ayyy7LC17wghx++OG5//77c/HFF+cXv/hF3v72t2f//fef6jIfl4AMALAJWmtTXcIWaZtttsnf/d3f5aMf/Wj+5m/+Jueee26mT5+eF7zgBTn77LNz/PHHT3WJG1RPxr/ckZGRtmTJkqkuAwDYin3/+9/P8573vKkug42wsX9XVXVja21kQ+OsQQYAgI6ADAAAHQEZAAA6AjIAAHQEZAAA6AjIAADQEZABACbwZHwc7pPNMP6OBGQAgHFMmzYtDz/88FSXwQY8/PDDmTZt2qTec6gBuar+Y1V9tapuq6oHqurHVXVxVe0zwfh9q+qKqlo5GH9TVZ1cVZP7rgEANmD77bfPvffeO9VlsAH33ntvtt9++0m959ACclX99ySXJ3lhkquSfCzJ/0pyVJJ/rKrXrjP+qCRfT/KyJF9M8vEk2yQ5K8mFw6oTAGA8O+20U1atWpUVK1bkoYcestxiC9Jay0MPPZQVK1Zk1apV2WmnnSb1/kPZarqq/m2S25PcmeT3Wmu/6PoOTHJ1kp+01p49aNshya1JZiXZr7W2ZNC+7WDsPkmOb61tVFC21TQAMBlWr16dlStX5r777sujjz461eXQmTZtWrbffvvstNNOmTlz5kZds7FbTU//jasb37yMzk5/qw/HSdJau6aq7ksyt2teMDj/H2PheDD2wao6LcnXkrwxZpIBgM1o5syZ2WWXXbLLLrtMdSlsRsNaYvGjJA8leXFVzek7quplSbZP8vdd80GD41Xj3OvrSe5Psm9Vbdz/HgAAwCYaSkBura1M8l+T/Jsk/1xV51fVB6rqoiRfTfJ3SV7fXbLX4Lh0nHs9kuQnGZ3tfvYw6gUAgDHDWmKR1trZVbUsyWeSnNh13Zpk8TpLL2YNjvdMcLux9h0ner2qWpRkUZLstttum1IyAAAM9SkWb09ySZLFSfZI8vQkL0ry4ySfr6oPTebrtdbOb62NtNZG5s6du+ELAABgHEMJyFV1QJL/nuR/ttbe0lr7cWvt/tba/0rynzL6hIu3VtXYkomxGeJZ699trfa7h1EvAACMGdYM8hGD4zXrdrTW7k/y7cFr//6g+YeD457rjq+q6Ul2T/JIRmefAQBgaIYVkMeeNjHRWoex9ocGx6sHx1eOM/ZlSbZLcn1rbfXklAcAAOMbVkD+h8FxUVU9s++oqsOS7JfkwSTXD5ovSbIiyXFVNdKN3TbJGYPTTwypVgAAWGNYT7G4JKPPOT4kyfer6otJfp7keRldflFJ/ltr7a4kaa3dW1UnDq67tqouTLIyyZEZfQTcJUm+MKRaAQBgjaEE5NbaY1V1eJKTkhyX0S/mbZfR0HtFknNaa19d55ovVdXLk/xFkmOSbJvRR8K9ZTB+i94Aff78+Vm+fPlUl7FVmTdvXpYtWzbVZQAArKW28Ny5SUZGRtqSJUs2PHASVVWejD/LYfIzAwA2p6q6sbU2sqFxQ3sOMgAAbI0EZAAA6AjIAADQEZABAKAjIAMAQEdABgCAjoAMAAAdARkAADoCMgAAdARkAADoCMgAANARkAEAoCMgAwBAR0AGAICOgAwAAB0BGQAAOgIyAAB0BGQAAOgIyAAA0BGQAQCgIyADAEBHQAYAgI6ADAAAHQEZAAA6AjIAAHQEZAAA6AjIAADQEZABAKAjIAMAQEdABgCAjoAMAAAdARkAADoCMgAAdARkAADoCMgAANARkAEAoCMgAwBAR0AGAICOgAwAAB0BGQAAOgIyAAB0BGQAAOgIyAAA0BGQAQCgIyADAEBHQAYAgI6ADAAAHQEZAAA6AjIAAHQEZAAA6Eyf6gIAgC3P/Pnzs3z58qkuY6sxb968LFu2bKrLYJIIyADAepYvX57W2lSXsdWoqqkugUlkiQUAAHQEZAAA6AjIAADQEZABAKAjIAMAQEdABgCAjoAMAAAdARkAADoCMgAAdARkAADoCMgAANARkAEAoDP0gFxVB1fVF6vq51W1uqp+VlVfqarDxxm7b1VdUVUrq+qBqrqpqk6uqmnDrhMAAJJk+jBvXlUfSnJKktuS/M8kK5LMTfKiJAckuaIbe1SSS5M8mOQLSVYmeVWSs5Lsl+TVw6wVAACSIQbkqjoxo+H4giSLWmsPrdM/o/vvHZJ8KsmjSQ5orS0ZtL8zydVJFlTVca21C4dVLwAAJENaYlFVM5O8L8lPM044TpLW2sPd6YKMzixfOBaOB2MeTHLa4PSNw6gVAAB6w5pB/g8ZDbxnJ3msqv5jkt/N6PKJb7fWblhn/EGD41Xj3OvrSe5Psm9VzWytrR5SzcBWYP78+Vm+fPlUl7HVmDdvXpYtWzbVZQBsVYYVkP+PwfHBJN/JaDheo6q+nmRBa+3OQdNeg+PSdW/UWnukqn6S5N8neXaS74/3glW1KMmiJNltt91+0/qBLdTy5cvTWpvqMrYaVTXVJQBsdYb1FItnDI6nJGlJXppk+yS/l+SrSV6W5OJu/KzB8Z4J7jfWvuNEL9haO7+1NtJaG5k7d+6m1g0AwFPcsALy2H0fSXJka+0brbVfttZuTvKfMvpUi5dX1T5Den0AANgkwwrIdw+O32mtLes7Wmv3J/nK4PTFg+PYDPGsjG+s/e4J+gEAYFIMKyD/cHCcKNCuGhyfts74PdcdWFXTk+ye0dnoH09WgQAAMJ5hBeSvZXTt8b+rqvFeY+xLez8ZHK8eHF85ztiXJdkuyfWeYAEAwLANJSC31pYn+XKS3ZL8l76vql6R5NCMzi6PPdbtkozusndcVY10Y7dNcsbg9BPDqBUAAHrD3Gr6pCS/n+Sjg+cgfyejSyWOzuiOeX/aWrsnSVpr9w523rskybVVdWFGt5o+MqOPgLsko9tPAwDAUA1riUVaa7cleVGSjyd5TkZnkg/I6Mzyfq21S9cZ/6UkL8/oxiDHJPnPSR5O8pYkxzUPPgUAYDMY5gxyBhuB/OfBn40Z/49JDh9mTQAA8HiGNoMMAABbIwEZAAA6AjIAAHQEZAAA6AjIAADQEZABAKAjIAMAQEdABgCAjoAMAAAdARkAADoCMgAAdARkAADoCMgAANARkAEAoCMgAwBAR0AGAIDO9KkugOE64IAD1mv7wz/8w7zpTW/K/fffn8MPP3y9/oULF2bhwoVZsWJFFixYsF7/G9/4xhx77LH5l3/5l5xwwgnr9b/1rW/Nq171qvzwhz/M61//+vX6TzvttBxyyCET1vf+978/++67b66//vqceuqp6/WfffbZ2XvvvfP3f//3OeOMM9br/+QnP5m99torX/7yl/ORj3xkvf7PfvazedaznpUvfOEL+cQnPrFe/yWXXJI5c+Zk8eLFWbx48Xr9V1xxRbbbbrucd955ueiii9brv/baa5MkZ555Zi6//PK1+p72tKflyiuvTJK8973vzde+9rW1+nfeeedceumlSZJ3vOMdueGGG9bq33XXXfO5z30uSXLyySfnu9/97lr9e+65Z84///wkyaJFi7J06dK1+vfee++cffbZSZLXvva1ue2229bq32efffKBD3wgSXLMMcfkrrvuWqv/4IMPzjvf+c4kyWGHHZYHHnhgrf4jjjgib3vb25IM77OX5Df+7H33u9/NySefvF7/k/Wzd8ABB/jsbSH/7m1tn72xn+WW9O/e2OcIhskMMgAAdKq1NtU1TLqRkZG2ZMmSzfqaVZUn489ymPzM2BQ+N0+MnxebymfnifHz2jpU1Y2ttZENjTODDAAAHQEZAAA6AjIAAHQEZAAA6AjIAADQEZABAKAjIAMAQEdABgCAjq2mAQAmQVVNdQlblS15YxUzyAAA0BGQAQCgIyADAEBHQAYAgI6ADAAAHQEZAAA6AjIAAHQEZAAA6AjIAADQEZABAKAjIAMAQEdABgCAjoAMAAAdARkAADoCMgAAdARkAADoCMgAANARkAEAoCMgAwBAR0AGAICOgAwAAB0BGQAAOgIyAAB0BGQAAOgIyAAA0BGQAQCgIyADAEBHQAYAgI6ADAAAHQEZAAA6AjIAAHQEZAAA6AjIAADQEZABAKAjIAMAQGezBuSqem1VtcGfP51gzBFVdW1V3VNVv6yqb1XVH2/OOgEAeOrabAG5qp6V5ONJfvk4Y96c5MtJfjfJ55J8KsnvJFlcVWdujjoBAHhq2ywBuaoqyV8nuSvJX00wZn6SM5OsTDLSWjuptfbnSX4vyf9O8taq2mdz1AsAwFPX5ppB/rMkByX5kyS/mmDM65LMTPLx1tqyscbW2qok7x+cvmGINQIAwPADclU9L8kHk3ystfb1xxl60OB41Th9V64zBgAAhmKoAbmqpif5bJKfJjl1A8P3GhyXrtvRWrsjozPPu1bVdpNaJAAAdIY9g/x/J/n9JAtbaw9sYOyswfGeCfrvWWfcWqpqUVUtqaold9555xOvFAAAMsSAXFUvyeis8UdaazcM63XGtNbOb62NtNZG5s6dO+yXAwDgSWooAXmwtOJ/ZHS5xDs38rLHnSHOhmeYAQDgNzasGeTfTrJnkuclebDbHKQleddgzKcGbWcPzn84OO657s2qapckT09yW2vt/iHVDAAAmT6k+65O8v9M0PfCjK5L/kZGQ/HY8ourk+yX5JVd25jDujEAADA0QwnIgy/kTbSV9OkZDcgXtNY+3XX9dZK3J3lzVf312LOQq2p2fv0EjHE3GQEAgMkyrBnkJ6y19pOqOiXJOUmWVNUXkjyUZEGSXbOZvuwHAMBT2xYTkJOktXZuVS1L8rYkf5TRNdL/nOS01toFU1kbAABPDZs9ILfWTk9y+uP0fznJlzdXPQAA0Bv6VtMAALA1EZABAKAjIAMAQEdABgCAjoAMAAAdARkAADoCMgAAdARkAADoCMgAANARkAEAoCMgAwBAR0AGAICOgAwAAB0BGQAAOgIyAAB0BGQAAOgIyAAA0BGQAQCgIyADAEBHQAYAgI6ADAAAHQEZAAA6AjIAAHQEZAAA6AjIAADQEZABAKAjIAMAQEdABgCAjoAMAAAdARkAADoCMgAAdARkAADoCMgAANARkAEAoCMgAwBAR0AGAICOgAwAAB0BGQAAOgIyAAB0pk91ATy1VdVUl7DVaK1NdQkA8JRgBhkAADoCMgAAdARkAADoCMgAANARkAEAoCMgAwBAR0AGAICOgAwAAB0BGQAAOgIyAAB0BGQAAOgIyAAA0BGQAQCgIyADAEBHQAYAgI6ADAAAHQEZAAA6AjIAAHQEZAAA6AjIAADQmT7VBQAwXFU11SVsVVprU10CMMXMIAMAQEdABgCAztACclXtXFV/WlVfrKpbq+qBqrqnqr5RVf9XVY372lW1b1VdUVUrB9fcVFUnV9W0YdUKAABjhrkG+dVJPpHkjiTXJPlpkn+T5P9M8ukkh1XVq1u32KuqjkpyaZIHk3whycokr0pyVpL9BvcEAIChGWZAXprkyCT/b2vtsbHGqjo1ybeTHJPRsHzpoH2HJJ9K8miSA1prSwbt70xydZIFVXVca+3CIdYMAMBT3NCWWLTWrm6tfbkPx4P2nyf5q8HpAV3XgiRzk1w4Fo4H4x9Mctrg9I3DqhcAAJKp+5Lew4PjI13bQYPjVeOM/3qS+5PsW1Uzh1kYAABPbZs9IFfV9CR/NDjtw/Beg+PSda9prT2S5CcZXRLy7KEWCADAU9pUzCB/MMnvJrmitfaVrn3W4HjPBNeNte84XmdVLaqqJVW15M4775ycSgEAeMrZrAG5qv4syVuT/CDJCZN579ba+a21kdbayNy5cyfz1gAAPIVstoBcVW9O8rEk/5zkwNbaynWGjM0Qz8r4xtrvHkJ5AACQZDMF5Ko6Ocm5SW7JaDj++TjDfjg47jnO9dOT7J7RL/X9eFh1AgDA0ANyVf3XjG708d2MhuNfTDD06sHxleP0vSzJdkmub62tnvwqAQBg1FAD8mCTjw8muTHJwa21FY8z/JIkK5IcV1Uj3T22TXLG4PQTw6oVAACSIe6kV1V/nOQ9Gd0Z7x+S/FlVrTtsWWttcZK01u6tqhMzGpSvraoLM7rV9JEZfQTcJRndfhoAAIZmmFtN7z44Tkty8gRjrkuyeOyktfalqnp5kr/I6FbU2ya5NclbkpzTWmtDqxYAADLEgNxaOz3J6Ztw3T8mOXyy6wEAgI0xVVtNAwDAFklABgCAjoAMAAAdARkAADoCMgAAdARkAADoCMgAANARkAEAoCMgAwBAR0AGAICOgAwAAB0BGQAAOgIyAAB0BGQAAOgIyAAA0BGQAQCgIyADAEBHQAYAgI6ADAAAHQEZAAA6AjIAAHQEZAAA6AjIAADQEZABAKAjIAMAQEdABgCAjoAMAAAdARkAADoCMgAAdARkAADoCMgAANARkAEAoCMgAwBAR0AGAICOgAwAAB0BGQAAOgIyAAB0BGQAAOgIyAAA0BGQAQCgIyADAEBHQAYAgI6ADAAAHQEZAAA6AjIAAHQEZAAA6AjIAADQEZABAKAjIAMAQEdABgCAjoAMAAAdARkAADoCMgAAdARkAADoCMgAANARkAEAoCMgAwBAR0AGAICOgAwAAB0BGQAAOgIyAAB0BGQAAOgIyAAA0BGQAQCgs8UF5Kratao+U1U/q6rVVbWsqs6uqtlTXRsAAE9+06e6gF5V7ZHk+iTPSHJZkh8keXGS/5LklVW1X2vtriksEQCAJ7ktbQb5vIyG4z9rrR3dWvtvrbWDkpyVZK8k75vS6gAAeNLbYgLyYPb4FUmWJfnLdbrfleRXSU6oqqdv5tIAAHgK2WICcpIDB8evttYe6ztaa/cl+cck2yX5g81dGAAATx1b0hrkvQamHPOCAAABbklEQVTHpRP0/yijM8x7Jvnaup1VtSjJosHpL6vqh5Ne4QZU1eZ+ya3dnCQrprqIrYXP16/5WTwhfs+eIJ+vX/OzeEL8rj1BU/T5mrcxg7akgDxrcLxngv6x9h3H62ytnZ/k/MkuiuGpqiWttZGprgOezPyewebhd+3JZUtaYgEAAFNuSwrIYzPEsyboH2u/ezPUAgDAU9SWFJDH1gzvOUH/cwbHidYos/WxJAaGz+8ZbB5+155EqrU21TUkWfOYt1sz+pi3PfonWVTV9knuSFJJntFa+9WUFAkAwJPeFjOD3Fr730m+mmR+kpPW6X53kqcn+axwDADAMG0xM8jJuFtNfz/JSzL6jOSlSfa11TQAAMO0RQXkJKmqZyV5T5JXJtk5o0srvpjk3a21VVNZGwAAT35bXEAGAICptMWsQQYAgC2BgAwAAB0BGQAAOgIyAAB0BGQAAOgIyAAA0BGQAQCgIyADAEBHQAYAgM7/DzkXjVwRToXzAAAAAElFTkSuQmCC\n",
      "text/plain": [
       "<Figure size 720x432 with 1 Axes>"
      ]
     },
     "metadata": {
      "needs_background": "light"
     },
     "output_type": "display_data"
    }
   ],
   "source": [
    "# Robot Talking / Not Talking\n",
    "# During Games / Not During Games\n",
    "# Open Face Success / Open Face Failure \n",
    "\n",
    "\n",
    "plt.rcParams[\"figure.figsize\"] = [10,6]\n",
    "\n",
    "fig, ax = plt.subplots()\n",
    "\n",
    "index = np.arange(3)\n",
    "bar_width = 0.35\n",
    "\n",
    "rects1 = ax.bar(index, [78.341, 60.356, 65.048], bar_width, color=\"w\", edgecolor=\"k\", label='yes')\n",
    "rects2 = ax.bar(index+bar_width, [27.544, 22.245, 50.580], bar_width, color=\"k\", label='no')\n",
    "\n",
    "threshold = 53.137\n",
    "ax.plot([0, 2], [threshold, threshold], \"k--\")\n",
    "\n",
    "plt.tick_params(axis='both', which='major', labelsize=20)\n",
    "plt.ylim(0, 100)\n",
    "ax.set_xticks(index + bar_width / 2)\n",
    "ax.set_xticklabels(('', '', ''))\n",
    "ax.legend(prop={'size': 20})\n",
    "\n",
    "fig.tight_layout()\n",
    "\n",
    "plt.show()"
   ]
  },
  {
   "cell_type": "code",
   "execution_count": 56,
   "metadata": {},
   "outputs": [
    {
     "data": {
      "image/png": "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\n",
      "text/plain": [
       "<Figure size 720x432 with 1 Axes>"
      ]
     },
     "metadata": {
      "needs_background": "light"
     },
     "output_type": "display_data"
    }
   ],
   "source": [
    "# Robot Talking / Not Talking\n",
    "# During Games / Not During Games\n",
    "# Open Face Success / Open Face Failure \n",
    "\n",
    "\n",
    "plt.rcParams[\"figure.figsize\"] = [10,6]\n",
    "\n",
    "fig, ax = plt.subplots()\n",
    "\n",
    "index = np.arange(3)\n",
    "bar_width = 0.35\n",
    "\n",
    "rects1 = ax.bar(index, [78.341, 60.356, 65.048], bar_width, color=\"w\", edgecolor=\"k\", label='yes')\n",
    "rects2 = ax.bar(index+bar_width, [27.544, 22.245, 50.580], bar_width, color=\"k\", label='no')\n",
    "\n",
    "threshold = 53.137\n",
    "ax.plot([0, 2], [threshold, threshold], \"k--\")\n",
    "\n",
    "plt.tick_params(axis='both', which='major', labelsize=20)\n",
    "plt.ylim(0, 100)\n",
    "ax.set_xticks(index + bar_width / 2)\n",
    "ax.set_xticklabels(('', '', ''))\n",
    "ax.legend(prop={'size': 20})\n",
    "\n",
    "fig.tight_layout()\n",
    "\n",
    "plt.show()"
   ]
  },
  {
   "cell_type": "code",
   "execution_count": null,
   "metadata": {},
   "outputs": [],
   "source": []
  }
 ],
 "metadata": {
  "kernelspec": {
   "display_name": "Python [conda env:caispp]",
   "language": "python",
   "name": "conda-env-caispp-py"
  },
  "language_info": {
   "codemirror_mode": {
    "name": "ipython",
    "version": 3
   },
   "file_extension": ".py",
   "mimetype": "text/x-python",
   "name": "python",
   "nbconvert_exporter": "python",
   "pygments_lexer": "ipython3",
   "version": "3.5.6"
  }
 },
 "nbformat": 4,
 "nbformat_minor": 2
}
